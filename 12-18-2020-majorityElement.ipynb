{
 "cells": [
  {
   "cell_type": "markdown",
   "metadata": {},
   "source": [
    "# Majority Element II"
   ]
  },
  {
   "cell_type": "markdown",
   "metadata": {},
   "source": [
    "Iterate throug dictionary\n",
    "# https://realpython.com/iterate-through-dictionary-python/\n",
    "\n",
    "Python init dictionary\n",
    "- setdefault()\n",
    "- defaultdict()\n",
    "- fromkey()\n",
    "- list comprehension"
   ]
  },
  {
   "cell_type": "code",
   "execution_count": null,
   "metadata": {},
   "outputs": [],
   "source": [
    "class Solution:\n",
    "    def majorityElement(self, nums: List[int]) -> List[int]:\n",
    "        thres = len(nums)/3\n",
    "        visited ={}\n",
    "        for number in nums:\n",
    "            if number not in visited:\n",
    "                visited.setdefault(number,1)\n",
    "\n",
    "            else:\n",
    "                visited[number] += 1\n",
    "        output = []\n",
    "        for key, value in visited.items():\n",
    "            if value > thres:\n",
    "                # print (key, value)\n",
    "                output.append(key)\n",
    "        return output\n",
    "\n",
    "\n"
   ]
  },
  {
   "cell_type": "markdown",
   "metadata": {},
   "source": [
    "A better solution"
   ]
  },
  {
   "cell_type": "code",
   "execution_count": null,
   "metadata": {},
   "outputs": [],
   "source": [
    "def majorityElement(self, nums: List[int]) -> List[int]:\n",
    "    ans=[]\n",
    "    for each in list(set(nums)):\n",
    "        if nums.count(each) > len(nums)/3:\n",
    "            ans.append(each)\n",
    "    return list(set(ans))"
   ]
  }
 ],
 "metadata": {
  "kernelspec": {
   "display_name": "Python 3",
   "language": "python",
   "name": "python3"
  },
  "language_info": {
   "codemirror_mode": {
    "name": "ipython",
    "version": 3
   },
   "file_extension": ".py",
   "mimetype": "text/x-python",
   "name": "python",
   "nbconvert_exporter": "python",
   "pygments_lexer": "ipython3",
   "version": "3.7.4"
  }
 },
 "nbformat": 4,
 "nbformat_minor": 4
}
