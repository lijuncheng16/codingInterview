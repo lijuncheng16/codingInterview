{
 "cells": [
  {
   "cell_type": "markdown",
   "metadata": {},
   "source": [
    "# 828. Count Unique Characters of All Substrings of a Given String\n"
   ]
  },
  {
   "cell_type": "raw",
   "metadata": {},
   "source": [
    "Let's define a function countUniqueChars(s) that returns the number of unique characters on s.\n",
    "\n",
    "For example, calling countUniqueChars(s) if s = \"LEETCODE\" then \"L\", \"T\", \"C\", \"O\", \"D\" are the unique characters since they appear only once in s, therefore countUniqueChars(s) = 5.\n",
    "Given a string s, return the sum of countUniqueChars(t) where t is a substring of s. The test cases are generated such that the answer fits in a 32-bit integer."
   ]
  },
  {
   "cell_type": "code",
   "execution_count": null,
   "metadata": {},
   "outputs": [],
   "source": [
    "    #f there is no \"i\" in this substring, e.g., append \"A\" to \"B\", substring changes from \"B\" to \"BA\", the UNIQ value of this substring changes from 1 to 2, we add 1 to all this kind of substrings.\n",
    "# If there is one \"i\" in this substring, e.g. append \"A\" to \"AB\", substring changes from \"AB\" to \"ABA\", the substring UNIQ value changes from 2 to 1. We minus 1 to this kind of substrings.\n",
    "# If there is more than one \"i\" in this substring, e.g. append \"A\" to \"ABAB\", substring changes from \"ABAB\" to \"ABABA\", the substring UNIQ value doesn't change. We do nothing to this kind of substrings."
   ]
  },
  {
   "cell_type": "code",
   "execution_count": null,
   "metadata": {},
   "outputs": [],
   "source": [
    "def uniqueLetterString(self, s: str) -> int:\n",
    "    res=[0]*(len(s)+1)\n",
    "    idxs=[[-1,-1]]*26\n",
    "    for i,c in enumerate(s):\n",
    "        code=ord(c)-ord('A')\n",
    "        first,second=idxs[code]\n",
    "        res[i+1]=1+res[i]+(i-1-second)-(second-first)\n",
    "        idxs[code]=[second,i]\n",
    "    return sum(res)"
   ]
  },
  {
   "cell_type": "markdown",
   "metadata": {},
   "source": [
    "# 2272. Substring With Largest Variance\n"
   ]
  },
  {
   "cell_type": "code",
   "execution_count": null,
   "metadata": {},
   "outputs": [],
   "source": [
    "The variance of a string is defined as the largest difference between the number of occurrences of any 2 characters present in the string. Note the two characters may or may not be the same.\n",
    "\n",
    "Given a string s consisting of lowercase English letters only, return the largest variance possible among all substrings of s.\n",
    "\n",
    "A substring is a contiguous sequence of characters within a string."
   ]
  },
  {
   "cell_type": "code",
   "execution_count": null,
   "metadata": {},
   "outputs": [],
   "source": [
    "def largestVariance(self, s: str) -> int:\n",
    "    counter = Counter(s)\n",
    "    res = 0\n",
    "    for a,b in itertools.permutations(counter,2):\n",
    "        max_subarray=0\n",
    "        has_a,has_b = False,False\n",
    "        remain_a,remain_b = counter[a],counter[b]\n",
    "        # print(remain_a, remain_b, a, b)\n",
    "        for ch in s:\n",
    "            if ch!=a and ch!=b:\n",
    "                continue\n",
    "            if max_subarray<0 and remain_a!=0 and remain_b!=0:\n",
    "                max_subarray=0\n",
    "                has_a,has_b = False,False\n",
    "            if ch==a: \n",
    "                max_subarray+=1\n",
    "                remain_a-=1\n",
    "                has_a = True\n",
    "            elif ch==b: \n",
    "                max_subarray-=1\n",
    "                remain_b-=1\n",
    "                has_b = True\n",
    "            if has_a and has_b:\n",
    "                res = max(res, max_subarray)\n",
    "    return res"
   ]
  },
  {
   "cell_type": "markdown",
   "metadata": {},
   "source": [
    "# 473. Matchsticks to Square\n"
   ]
  },
  {
   "cell_type": "markdown",
   "metadata": {},
   "source": [
    "You are given an integer array matchsticks where matchsticks[i] is the length of the ith matchstick. You want to use all the matchsticks to make one square. You should not break any stick, but you can link them up, and each matchstick must be used exactly one time.\n",
    "\n",
    "Return true if you can make this square and false otherwise."
   ]
  },
  {
   "cell_type": "code",
   "execution_count": null,
   "metadata": {},
   "outputs": [],
   "source": [
    "def makesquare(self, matchsticks: List[int]) -> bool:\n",
    "    if not matchsticks:\n",
    "        return False\n",
    "    summ = sum(matchsticks)\n",
    "    if summ % 4 !=0:\n",
    "        return False\n",
    "    target_len = summ // 4\n",
    "    # print(target_len)\n",
    "    # dic = set(matchsticks)\n",
    "    # print(dic)\n",
    "    # for match in matchsticks:\n",
    "    #     complement = target_len - match\n",
    "    #     if complement not in dic and complement != 0:\n",
    "    #         return False\n",
    "    # return True\n",
    "    matchsticks.sort(reverse=True)\n",
    "    sums = [0 for _ in range(4)]\n",
    "    L = len(matchsticks)\n",
    "    memo = {}\n",
    "    def recurse(mask, sides_done):\n",
    "\n",
    "        # This will calculate the total sum of matchsticks used till now using the bits of the mask.\n",
    "        total = 0\n",
    "        for i in range(L - 1, -1, -1):\n",
    "            if not (mask & (1 << i)):\n",
    "                total += matchsticks[L - 1 - i]\n",
    "\n",
    "        # If some of the matchsticks have been used and the sum is divisible by our square's side, then we increment the number of sides completed.\n",
    "        if total > 0 and total % target_len == 0:\n",
    "            sides_done += 1\n",
    "\n",
    "        # If we were successfully able to form 3 sides, return True\n",
    "        if sides_done == 3:\n",
    "            return True\n",
    "\n",
    "        # If this recursion state has already been calculated, just return the stored value.\n",
    "        if (mask, sides_done) in memo:\n",
    "            return memo[(mask, sides_done)]\n",
    "\n",
    "        # Common variable to store answer from all possible further recursions from this step.\n",
    "        ans = False\n",
    "\n",
    "        # rem stores available space in the current side (incomplete).\n",
    "        c = int(total / target_len)\n",
    "        rem = target_len * (c + 1) - total\n",
    "\n",
    "        # Iterate over all the matchsticks\n",
    "        for i in range(L - 1, -1, -1):\n",
    "\n",
    "            # If the current one can fit in the remaining space of the side and it hasn't already been taken, then try it out\n",
    "            if matchsticks[L - 1 - i] <= rem and mask&(1 << i):\n",
    "\n",
    "                # If the recursion after considering this matchstick gives a True result, just break. No need to look any further.\n",
    "                # mask ^ (1 << i) makes the i^th from the right, 0 making it unavailable in future recursions.\n",
    "                if recurse(mask ^ (1 << i), sides_done):\n",
    "                    ans = True\n",
    "                    break\n",
    "        # cache the result for the current recursion state.            \n",
    "        memo[(mask, sides_done)] = ans\n",
    "        return ans\n",
    "\n",
    "    # recurse with the initial mask with all matchsticks available.\n",
    "    return recurse((1 << L) - 1, 0)"
   ]
  }
 ],
 "metadata": {
  "kernelspec": {
   "display_name": "Python 3",
   "language": "python",
   "name": "python3"
  },
  "language_info": {
   "codemirror_mode": {
    "name": "ipython",
    "version": 3
   },
   "file_extension": ".py",
   "mimetype": "text/x-python",
   "name": "python",
   "nbconvert_exporter": "python",
   "pygments_lexer": "ipython3",
   "version": "3.7.3"
  }
 },
 "nbformat": 4,
 "nbformat_minor": 4
}
