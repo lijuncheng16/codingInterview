{
 "cells": [
  {
   "cell_type": "markdown",
   "metadata": {},
   "source": [
    "# 1074. Number of Submatrices That Sum to Target\n"
   ]
  },
  {
   "cell_type": "code",
   "execution_count": 2,
   "metadata": {},
   "outputs": [],
   "source": [
    "from typing import List"
   ]
  },
  {
   "cell_type": "raw",
   "metadata": {},
   "source": [
    "Given a matrix and a target, return the number of non-empty submatrices that sum to target.\n",
    "\n",
    "A submatrix x1, y1, x2, y2 is the set of all cells matrix[x][y] with x1 <= x <= x2 and y1 <= y <= y2.\n",
    "\n",
    "Two submatrices (x1, y1, x2, y2) and (x1', y1', x2', y2') are different if they have some coordinate that is different: for example, if x1 != x1'."
   ]
  },
  {
   "cell_type": "code",
   "execution_count": 4,
   "metadata": {},
   "outputs": [],
   "source": [
    "def numSubmatrixSumTarget(matrix: List[List[int]], target: int) -> int:\n",
    "    count = 0\n",
    "    r = len(matrix)\n",
    "    c = len(matrix[0])\n",
    "    #2d to 1d\n",
    "    pre_sum = [[0]* (c+1) for _ in range(r+1)]\n",
    "    for i in range(1, r+1):\n",
    "        for j in range(1, c+1):\n",
    "            pre_sum[i][j] = pre_sum[i-1][j] + pre_sum[i][j-1] - pre_sum[i-1][j-1] + matrix[i-1][j-1]\n",
    "\n",
    "    for r1 in range(1, r+1):\n",
    "        for r2 in range(r1, r+1):\n",
    "            dic= defaultdict(int)\n",
    "            dic[0] =1\n",
    "            for col in range(1, c+1):\n",
    "                curr_sum = pre_sum[r2][col] - pre_sum[r1-1][col]\n",
    "                # add subarrays which sum up to (curr_sum - target)\n",
    "                count += dic[curr_sum - target]\n",
    "                dic[curr_sum] +=1\n",
    "    return count\n",
    "                             "
   ]
  },
  {
   "cell_type": "markdown",
   "metadata": {},
   "source": [
    "# 560. Subarray Sum Equals K (prerequisite to 1074.)\n"
   ]
  },
  {
   "cell_type": "code",
   "execution_count": null,
   "metadata": {},
   "outputs": [],
   "source": [
    "def subarraySum(self, nums: List[int], k: int) -> int:\n",
    "    dic = {}\n",
    "    curr_sum = 0\n",
    "    count = 0 \n",
    "    for num in nums:\n",
    "        curr_sum += num\n",
    "        if curr_sum == k:\n",
    "            count+=1\n",
    "        if curr_sum - k in dic:\n",
    "            count+=dic[curr_sum - k]\n",
    "        if curr_sum in dic:\n",
    "            dic[curr_sum] +=1 \n",
    "        else:\n",
    "            dic[curr_sum] = 1\n",
    "    return count"
   ]
  },
  {
   "cell_type": "markdown",
   "metadata": {},
   "source": [
    "# 304. Range Sum Query 2D - Immutable\n"
   ]
  },
  {
   "cell_type": "code",
   "execution_count": null,
   "metadata": {},
   "outputs": [],
   "source": [
    "def __init__(self, matrix: List[List[int]]):\n",
    "    m = len(matrix)\n",
    "    n = len(matrix[0])\n",
    "    self.pre_matrix = [[0]*n for _ in range(m)]\n",
    "    for i in range(m):\n",
    "        mov_sum = 0\n",
    "        for j in range(n):\n",
    "            mov_sum += matrix[i][j]\n",
    "            if i == 0: \n",
    "                self.pre_matrix[i][j] = mov_sum\n",
    "            else:\n",
    "                self.pre_matrix[i][j] = mov_sum + self.pre_matrix[i-1][j]\n",
    "    # print('preprocess: ', self.pre_matrix)\n",
    "\n",
    "def sumRegion(self, row1: int, col1: int, row2: int, col2: int) -> int:\n",
    "    left = self.pre_matrix[row2][col1-1] if col1 else 0\n",
    "    up = self.pre_matrix[row1-1][col2] if row1 else 0\n",
    "    diagonal = self.pre_matrix[row1-1][col1-1] if row1 and col1 else 0 \n",
    "    # print(left, up, diagonal, self.pre_matrix[row2][col1-1] )\n",
    "    res = self.pre_matrix[row2][col2] - left - up + diagonal\n",
    "    return res"
   ]
  },
  {
   "cell_type": "code",
   "execution_count": null,
   "metadata": {},
   "outputs": [],
   "source": [
    "class NumMatrix:\n",
    "    def __init__(self, matrix: List[List[int]]):\n",
    "        m = len(matrix)\n",
    "        n = len(matrix[0])\n",
    "        self.pre_matrix = [[0]* (n+1) for _ in range(m+1)]\n",
    "        for i in range(1, m+1):\n",
    "            for j in range(1, n+1):\n",
    "                self.pre_matrix[i][j] = self.pre_matrix[i-1][j] + self.pre_matrix[i][j-1] - self.pre_matrix[i-1][j-1] + matrix[i-1][j-1]\n",
    "        \n",
    "    def sumRegion(self, row1: int, col1: int, row2: int, col2: int) -> int:\n",
    "        left = self.pre_matrix[row2+1][col1] if col1 else 0\n",
    "        up = self.pre_matrix[row1][col2+1] if row1 else 0\n",
    "        diagonal = self.pre_matrix[row1][col1] if row1 and col1 else 0 \n",
    "        # print(left, up, diagonal, self.pre_matrix[row2][col1-1] )\n",
    "        res = self.pre_matrix[row2+1][col2+1] - left - up + diagonal\n",
    "        return res"
   ]
  },
  {
   "cell_type": "markdown",
   "metadata": {},
   "source": [
    "# 542. 01 Matrix\n"
   ]
  },
  {
   "cell_type": "markdown",
   "metadata": {},
   "source": [
    "Given an m x n binary matrix mat, return the distance of the nearest 0 for each cell.\n",
    "\n",
    "The distance between two adjacent cells is 1.\n"
   ]
  },
  {
   "cell_type": "code",
   "execution_count": 3,
   "metadata": {},
   "outputs": [],
   "source": [
    "def updateMatrix(self, mat: List[List[int]]) -> List[List[int]]:\n",
    "    m = len(mat)\n",
    "    n = len(mat[0])\n",
    "\n",
    "    visited = set()\n",
    "    q = deque()\n",
    "    for i in range(m):\n",
    "        for j in range(n):\n",
    "            if mat[i][j] == 0:\n",
    "                visited.add((i,j))\n",
    "                q.append((i,j))\n",
    "\n",
    "    while q:\n",
    "        x,y = q.popleft()\n",
    "        for dirr in [(1,0), (-1,0), (0,1), (0,-1)]:\n",
    "            newX, newY = x+dirr[0], y+dirr[1]\n",
    "            if newX >= 0 and newX <= m-1 and newY >= 0 and newY <= n-1 and (newX, newY) not in visited:\n",
    "                mat[newX][newY] = mat[x][y] + 1\n",
    "                visited.add((newX, newY))\n",
    "                q.append((newX, newY))\n",
    "    return mat"
   ]
  },
  {
   "cell_type": "markdown",
   "metadata": {},
   "source": [
    "# 472. Concatenated Words\n"
   ]
  },
  {
   "cell_type": "markdown",
   "metadata": {},
   "source": [
    "Given an array of strings words (without duplicates), return all the concatenated words in the given list of words.\n",
    "\n",
    "A concatenated word is defined as a string that is comprised entirely of at least two shorter words in the given array."
   ]
  },
  {
   "cell_type": "code",
   "execution_count": null,
   "metadata": {},
   "outputs": [],
   "source": [
    "Word Break : Ques No. 139, Word Break II : Ques No. 140\n",
    "        "
   ]
  },
  {
   "cell_type": "code",
   "execution_count": null,
   "metadata": {},
   "outputs": [],
   "source": [
    "def findAllConcatenatedWordsInADict(self, words: List[str]) -> List[str]:\n",
    "    def check(word, d):\n",
    "        if word in d:\n",
    "            return True\n",
    "\n",
    "        for i in range(len(word),0, -1):\n",
    "            if word[:i] in d and check(word[i:], d):\n",
    "                return True\n",
    "        return False\n",
    "\n",
    "    res = []\n",
    "    words_dict = set(words)\n",
    "    for word in words:\n",
    "        words_dict.remove(word)\n",
    "        if check(word, words_dict) is True:\n",
    "            res.append(word)\n",
    "        words_dict.add(word)\n",
    "    return res\n",
    "    "
   ]
  },
  {
   "cell_type": "markdown",
   "metadata": {},
   "source": [
    "# 240. Search a 2D Matrix II\n"
   ]
  },
  {
   "cell_type": "markdown",
   "metadata": {},
   "source": [
    "Write an efficient algorithm that searches for a value target in an m x n integer matrix matrix. This matrix has the following properties:\n",
    "\n",
    "- Integers in each row are sorted in ascending from left to right.\n",
    "- Integers in each column are sorted in ascending from top to bottom."
   ]
  },
  {
   "cell_type": "code",
   "execution_count": null,
   "metadata": {},
   "outputs": [],
   "source": [
    "matrix = [[1,4,7,11,15],[2,5,8,12,19],[3,6,9,16,22],[10,13,14,17,24],[18,21,23,26,30]]\n",
    "target = 5"
   ]
  },
  {
   "cell_type": "raw",
   "metadata": {},
   "source": [
    "# binary search O(n!)On each iteration, we perform two binary searches on array slices of length m-im−i and n-in−i. Therefore, each iteration of the loop runs in \\mathcal{O}(\\log(m-i)+\\log(n-i))O(log(m−i)+log(n−i)) time, where ii denotes the current iteration. We can simplify this to \\mathcal{O}(2\\cdot \\log(n-i))=\\mathcal{O}(\\log(n-i))O(2⋅log(n−i))=O(log(n−i))\n",
    " by seeing that, in the worst case, n\\approx mn≈m. To see why, consider what happens when n \\ll mn≪m (without loss of generality); nn will dominate mm in the asymptotic analysis. By summing the runtimes of all iterations, we get the following expression:\n",
    "\n",
    "(1) \\quad \\mathcal{O}(\\log(n) + \\log(n-1) + \\log(n-2) + \\ldots + \\log(1))(1)O(log(n)+log(n−1)+log(n−2)+…+log(1))\n",
    "\n",
    "Then, we can leverage the log multiplication rule (\\log(a)+\\log(b)=\\log(ab)log(a)+log(b)=log(ab)) to rewrite the complexity as:\n",
    "\n",
    "\\begin{aligned} (2) \\quad \\mathcal{O}(\\log(n) + \\log(n-1) + \\log(n-2) + \\ldots + \\log(1)) &= \\mathcal{O}(\\log(n \\cdot (n-1) \\cdot (n-2) \\cdot \\ldots \\cdot 1)) \\\\ &= \\mathcal{O}(\\log(1 \\cdot \\ldots \\cdot (n-2) \\cdot (n-1) \\cdot n)) \\\\ &= \\mathcal{O}(\\log(n!)) \\end{aligned} \n",
    "(2)O(log(n)+log(n−1)+log(n−2)+…+log(1))\n",
    "=O(log(n⋅(n−1)⋅(n−2)⋅…⋅1))\n",
    "=O(log(1⋅…⋅(n−2)⋅(n−1)⋅n))\n",
    "=O(log(n!))\n",
    "Because this time complexity is fairly uncommon, it is worth thinking about its relation to the usual analyses. For one, \\log(n!) = \\mathcal{O}(n\\log n)log(n!)=O(nlogn). To see why, recall step 1 from the analysis above; there are nn terms, each no greater than \\log(n)log(n).\n",
    "Therefore, the asymptotic runtime is certainly no worse than that of an \\mathcal{O}(n\\log n)O(nlogn) algorithm."
   ]
  },
  {
   "cell_type": "code",
   "execution_count": null,
   "metadata": {},
   "outputs": [],
   "source": [
    "def searchMatrix(self, matrix: List[List[int]], target: int) -> bool:\n",
    "    def binary_search(matrix, target, start, vertical):\n",
    "        lo = start\n",
    "        hi = len(matrix[0])  if vertical else len(matrix) \n",
    "        while lo < hi:\n",
    "            mid = lo + (hi-lo) // 2\n",
    "            if vertical: # searching a column\n",
    "                if matrix[start][mid] < target:\n",
    "                    lo = mid + 1\n",
    "                elif matrix[start][mid] > target:\n",
    "                    hi = mid \n",
    "                else:\n",
    "                    return True\n",
    "            else: # searching a row\n",
    "                if matrix[mid][start] < target:\n",
    "                    lo = mid + 1\n",
    "                elif matrix[mid][start] > target:\n",
    "                    hi = mid \n",
    "                else:\n",
    "                    return True\n",
    "\n",
    "        return False\n",
    "if not matrix:\n",
    "    return False\n",
    "\n",
    "# iterate over matrix diagonals starting in bottom left.\n",
    "m = len(matrix)\n",
    "n = len(matrix[0])\n",
    "for i in range(min(m,n)):\n",
    "    vertical_found = binary_search(matrix, target, i, True)\n",
    "    horizontal_found = binary_search(matrix, target, i, False)\n",
    "    if vertical_found or horizontal_found:\n",
    "        return True\n",
    "\n",
    "return False"
   ]
  },
  {
   "cell_type": "code",
   "execution_count": 5,
   "metadata": {},
   "outputs": [],
   "source": [
    "def searchMatrix(self, matrix: List[List[int]], target: int) -> bool:\n",
    "        # an empty matrix obviously does not contain `target`\n",
    "        if not matrix:\n",
    "            return False\n",
    "\n",
    "        def search_rec(left, up, right, down):\n",
    "            # this submatrix has no height or no width.\n",
    "            if left > right or up > down:\n",
    "                return False\n",
    "            # `target` is already larger than the largest element or smaller\n",
    "            # than the smallest element in this submatrix.\n",
    "            elif target < matrix[up][left] or target > matrix[down][right]:\n",
    "                return False\n",
    "\n",
    "            mid = left + (right-left) // 2\n",
    "\n",
    "            # Locate `row` such that matrix[row-1][mid] < target < matrix[row][mid]\n",
    "            row = up\n",
    "            while row <= down and matrix[row][mid] <= target:\n",
    "                if matrix[row][mid] == target:\n",
    "                    return True\n",
    "                row += 1\n",
    "            \n",
    "            return search_rec(left, row, mid - 1, down) or \\\n",
    "                   search_rec(mid + 1, up, right, row - 1)\n",
    "\n",
    "        return search_rec(0, 0, len(matrix[0]) - 1, len(matrix) - 1)"
   ]
  },
  {
   "cell_type": "raw",
   "metadata": {},
   "source": [
    "Approach 4: Search Space Reduction\n",
    "Because the rows and columns of the matrix are sorted (from left-to-right and top-to-bottom, respectively), we can prune \\mathcal{O}(m)O(m) or \\mathcal{O}(n)O(n) elements when looking at any particular value. \\mathcal{O}(n+m)O(n+m)"
   ]
  },
  {
   "cell_type": "code",
   "execution_count": 4,
   "metadata": {},
   "outputs": [],
   "source": [
    "def searchMatrix(self, matrix: List[List[int]], target: int) -> bool:\n",
    "    # an empty matrix obviously does not contain `target` (make this check\n",
    "    # because we want to cache `width` for efficiency's sake)\n",
    "    if len(matrix) == 0 or len(matrix[0]) == 0:\n",
    "        return False\n",
    "\n",
    "    # cache these, as they won't change.\n",
    "    height = len(matrix)\n",
    "    width = len(matrix[0])\n",
    "\n",
    "    # start our \"pointer\" in the bottom-left\n",
    "    row = height - 1\n",
    "    col = 0\n",
    "\n",
    "    while col < width and row >= 0:\n",
    "        if matrix[row][col] > target:\n",
    "            row -= 1\n",
    "        elif matrix[row][col] < target:\n",
    "            col += 1\n",
    "        else: # found it\n",
    "            return True\n",
    "\n",
    "    return False"
   ]
  },
  {
   "cell_type": "markdown",
   "metadata": {},
   "source": [
    "# 835. Image Overlap\n",
    "You are given two images, img1 and img2, represented as binary, square matrices of size n x n. A binary matrix has only 0s and 1s as values.\n",
    "\n",
    "We translate one image however we choose by sliding all the 1 bits left, right, up, and/or down any number of units. We then place it on top of the other image. We can then calculate the overlap by counting the number of positions that have a 1 in both images.\n",
    "\n",
    "Note also that a translation does not include any kind of rotation. Any 1 bits that are translated outside of the matrix borders are erased.\n",
    "\n",
    "Return the largest possible overlap.\n",
    "\n",
    "Convolution is the final best answer!!"
   ]
  },
  {
   "cell_type": "raw",
   "metadata": {},
   "source": [
    "To put it simple, the convolution between two matrices is to perform a dot product between them, and is the value of the cell in the matrix A at the position of (x, y)(x,y).\n",
    "Algorithm\n",
    "\n",
    "Overall, we enumerate all possible kernels (by shifting the matrix B), and then perform the convolution operation to count the overlapping ones. The algorithm can be broke down into the following steps:\n",
    "\n",
    "First of all, we extend both the width and height of the matrix B to N + 2(N-1) = 3N-2N+2(N−1)=3N−2, and pad the extended cells with zeros, as follows:\n",
    "From the extended and padded matrix B, we then can extract the kernel one by one.\n",
    "\n",
    "For each kernel, we perform the convolution operation with the matrix A to count the number of overlapping ones.\n",
    "\n",
    "At the end, we return the maximal value of overlapping ones."
   ]
  },
  {
   "cell_type": "code",
   "execution_count": null,
   "metadata": {},
   "outputs": [],
   "source": [
    "def largestOverlap(self, img1: List[List[int]], img2: List[List[int]]) -> int:\n",
    "\n",
    "    import numpy as np\n",
    "    A = np.array(img1)\n",
    "    B = np.array(img2)\n",
    "\n",
    "    dim = len(A)\n",
    "    # extend the matrix to a wider range for the later kernel extraction.\n",
    "    B_padded = np.pad(B, dim-1, mode='constant', constant_values=(0, 0))\n",
    "\n",
    "    max_overlaps = 0\n",
    "    for x_shift in range(dim*2 - 1):\n",
    "        for y_shift in range(dim* 2 - 1):\n",
    "            # extract a kernel from the padded matrix\n",
    "            kernel = B_padded[x_shift:x_shift+dim, y_shift:y_shift+dim]\n",
    "            # convolution between A and kernel\n",
    "            non_zeros = np.sum(A * kernel)\n",
    "            max_overlaps = max(max_overlaps, non_zeros)\n",
    "\n",
    "    return max_overlaps"
   ]
  },
  {
   "cell_type": "raw",
   "metadata": {},
   "source": [
    "Algorithm\n",
    "\n",
    "The algorithm can be implemented in two overall steps.\n",
    "\n",
    "First, we filter out those non-zero cells in each matrix respectively.\n",
    "\n",
    "Second, we do a cartesian product on the non-zero cells. For each pair of the products, we calculate the corresponding linear transformation vector as Then, we count the number of the pairs that have the same transformation vector, which is also the number of ones in the overlapping zone.\n",
    "\n"
   ]
  },
  {
   "cell_type": "code",
   "execution_count": null,
   "metadata": {},
   "outputs": [],
   "source": [
    "def largestOverlap(self, img1: List[List[int]], img2: List[List[int]]) -> int:\n",
    "    dim = len(img1)\n",
    "\n",
    "    def non_zero_cells(M):\n",
    "        ret = []\n",
    "        for x in range(dim):\n",
    "            for y in range(dim):\n",
    "                if M[x][y] == 1:\n",
    "                    ret.append((x, y))\n",
    "        return ret\n",
    "\n",
    "    transformation_count = defaultdict(int)\n",
    "    max_overlaps = 0\n",
    "\n",
    "    A_ones = non_zero_cells(img1)\n",
    "    B_ones = non_zero_cells(img2)\n",
    "\n",
    "    for (x_a, y_a) in A_ones:\n",
    "        for (x_b, y_b) in B_ones:\n",
    "            vec = (x_b - x_a, y_b - y_a)\n",
    "            transformation_count[vec] += 1\n",
    "            max_overlaps = max(max_overlaps, transformation_count[vec])\n",
    "    return max_overlaps"
   ]
  },
  {
   "cell_type": "code",
   "execution_count": null,
   "metadata": {},
   "outputs": [],
   "source": []
  }
 ],
 "metadata": {
  "kernelspec": {
   "display_name": "Python 3 (ipykernel)",
   "language": "python",
   "name": "python3"
  },
  "language_info": {
   "codemirror_mode": {
    "name": "ipython",
    "version": 3
   },
   "file_extension": ".py",
   "mimetype": "text/x-python",
   "name": "python",
   "nbconvert_exporter": "python",
   "pygments_lexer": "ipython3",
   "version": "3.9.12"
  }
 },
 "nbformat": 4,
 "nbformat_minor": 4
}
