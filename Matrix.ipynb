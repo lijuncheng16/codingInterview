{
 "cells": [
  {
   "cell_type": "markdown",
   "metadata": {},
   "source": [
    "# 1074. Number of Submatrices That Sum to Target\n"
   ]
  },
  {
   "cell_type": "code",
   "execution_count": 2,
   "metadata": {},
   "outputs": [],
   "source": [
    "from typing import List"
   ]
  },
  {
   "cell_type": "raw",
   "metadata": {},
   "source": [
    "Given a matrix and a target, return the number of non-empty submatrices that sum to target.\n",
    "\n",
    "A submatrix x1, y1, x2, y2 is the set of all cells matrix[x][y] with x1 <= x <= x2 and y1 <= y <= y2.\n",
    "\n",
    "Two submatrices (x1, y1, x2, y2) and (x1', y1', x2', y2') are different if they have some coordinate that is different: for example, if x1 != x1'."
   ]
  },
  {
   "cell_type": "code",
   "execution_count": 4,
   "metadata": {},
   "outputs": [],
   "source": [
    "def numSubmatrixSumTarget(matrix: List[List[int]], target: int) -> int:\n",
    "    count = 0\n",
    "    r = len(matrix)\n",
    "    c = len(matrix[0])\n",
    "    #2d to 1d\n",
    "    pre_sum = [[0]* (c+1) for _ in range(r+1)]\n",
    "    for i in range(1, r+1):\n",
    "        for j in range(1, c+1):\n",
    "            pre_sum[i][j] = pre_sum[i-1][j] + pre_sum[i][j-1] - pre_sum[i-1][j-1] + matrix[i-1][j-1]\n",
    "\n",
    "    for r1 in range(1, r+1):\n",
    "        for r2 in range(r1, r+1):\n",
    "            dic= defaultdict(int)\n",
    "            dic[0] =1\n",
    "            for col in range(1, c+1):\n",
    "                curr_sum = pre_sum[r2][col] - pre_sum[r1-1][col]\n",
    "                # add subarrays which sum up to (curr_sum - target)\n",
    "                count += dic[curr_sum - target]\n",
    "                dic[curr_sum] +=1\n",
    "    return count\n",
    "                             "
   ]
  },
  {
   "cell_type": "markdown",
   "metadata": {},
   "source": [
    "# 560. Subarray Sum Equals K (prerequisite to 1074.)\n"
   ]
  },
  {
   "cell_type": "code",
   "execution_count": null,
   "metadata": {},
   "outputs": [],
   "source": [
    "def subarraySum(self, nums: List[int], k: int) -> int:\n",
    "    dic = {}\n",
    "    curr_sum = 0\n",
    "    count = 0 \n",
    "    for num in nums:\n",
    "        curr_sum += num\n",
    "        if curr_sum == k:\n",
    "            count+=1\n",
    "        if curr_sum - k in dic:\n",
    "            count+=dic[curr_sum - k]\n",
    "        if curr_sum in dic:\n",
    "            dic[curr_sum] +=1 \n",
    "        else:\n",
    "            dic[curr_sum] = 1\n",
    "    return count"
   ]
  },
  {
   "cell_type": "markdown",
   "metadata": {},
   "source": [
    "# 304. Range Sum Query 2D - Immutable\n"
   ]
  },
  {
   "cell_type": "code",
   "execution_count": null,
   "metadata": {},
   "outputs": [],
   "source": [
    "def __init__(self, matrix: List[List[int]]):\n",
    "    m = len(matrix)\n",
    "    n = len(matrix[0])\n",
    "    self.pre_matrix = [[0]*n for _ in range(m)]\n",
    "    for i in range(m):\n",
    "        mov_sum = 0\n",
    "        for j in range(n):\n",
    "            mov_sum += matrix[i][j]\n",
    "            if i == 0: \n",
    "                self.pre_matrix[i][j] = mov_sum\n",
    "            else:\n",
    "                self.pre_matrix[i][j] = mov_sum + self.pre_matrix[i-1][j]\n",
    "    # print('preprocess: ', self.pre_matrix)\n",
    "\n",
    "def sumRegion(self, row1: int, col1: int, row2: int, col2: int) -> int:\n",
    "    left = self.pre_matrix[row2][col1-1] if col1 else 0\n",
    "    up = self.pre_matrix[row1-1][col2] if row1 else 0\n",
    "    diagonal = self.pre_matrix[row1-1][col1-1] if row1 and col1 else 0 \n",
    "    # print(left, up, diagonal, self.pre_matrix[row2][col1-1] )\n",
    "    res = self.pre_matrix[row2][col2] - left - up + diagonal\n",
    "    return res"
   ]
  },
  {
   "cell_type": "code",
   "execution_count": null,
   "metadata": {},
   "outputs": [],
   "source": [
    "class NumMatrix:\n",
    "    def __init__(self, matrix: List[List[int]]):\n",
    "        m = len(matrix)\n",
    "        n = len(matrix[0])\n",
    "        self.pre_matrix = [[0]* (n+1) for _ in range(m+1)]\n",
    "        for i in range(1, m+1):\n",
    "            for j in range(1, n+1):\n",
    "                self.pre_matrix[i][j] = self.pre_matrix[i-1][j] + self.pre_matrix[i][j-1] - self.pre_matrix[i-1][j-1] + matrix[i-1][j-1]\n",
    "        \n",
    "    def sumRegion(self, row1: int, col1: int, row2: int, col2: int) -> int:\n",
    "        left = self.pre_matrix[row2+1][col1] if col1 else 0\n",
    "        up = self.pre_matrix[row1][col2+1] if row1 else 0\n",
    "        diagonal = self.pre_matrix[row1][col1] if row1 and col1 else 0 \n",
    "        # print(left, up, diagonal, self.pre_matrix[row2][col1-1] )\n",
    "        res = self.pre_matrix[row2+1][col2+1] - left - up + diagonal\n",
    "        return res"
   ]
  },
  {
   "cell_type": "markdown",
   "metadata": {},
   "source": [
    "# 542. 01 Matrix\n"
   ]
  },
  {
   "cell_type": "markdown",
   "metadata": {},
   "source": [
    "Given an m x n binary matrix mat, return the distance of the nearest 0 for each cell.\n",
    "\n",
    "The distance between two adjacent cells is 1.\n"
   ]
  },
  {
   "cell_type": "code",
   "execution_count": 2,
   "metadata": {},
   "outputs": [
    {
     "ename": "NameError",
     "evalue": "name 'List' is not defined",
     "output_type": "error",
     "traceback": [
      "\u001b[0;31m---------------------------------------------------------------------------\u001b[0m",
      "\u001b[0;31mNameError\u001b[0m                                 Traceback (most recent call last)",
      "\u001b[0;32m<ipython-input-2-5184cae56c89>\u001b[0m in \u001b[0;36m<module>\u001b[0;34m\u001b[0m\n\u001b[0;32m----> 1\u001b[0;31m \u001b[0;32mdef\u001b[0m \u001b[0mupdateMatrix\u001b[0m\u001b[0;34m(\u001b[0m\u001b[0mself\u001b[0m\u001b[0;34m,\u001b[0m \u001b[0mmat\u001b[0m\u001b[0;34m:\u001b[0m \u001b[0mList\u001b[0m\u001b[0;34m[\u001b[0m\u001b[0mList\u001b[0m\u001b[0;34m[\u001b[0m\u001b[0mint\u001b[0m\u001b[0;34m]\u001b[0m\u001b[0;34m]\u001b[0m\u001b[0;34m)\u001b[0m \u001b[0;34m->\u001b[0m \u001b[0mList\u001b[0m\u001b[0;34m[\u001b[0m\u001b[0mList\u001b[0m\u001b[0;34m[\u001b[0m\u001b[0mint\u001b[0m\u001b[0;34m]\u001b[0m\u001b[0;34m]\u001b[0m\u001b[0;34m:\u001b[0m\u001b[0;34m\u001b[0m\u001b[0;34m\u001b[0m\u001b[0m\n\u001b[0m\u001b[1;32m      2\u001b[0m     \u001b[0mm\u001b[0m \u001b[0;34m=\u001b[0m \u001b[0mlen\u001b[0m\u001b[0;34m(\u001b[0m\u001b[0mmat\u001b[0m\u001b[0;34m)\u001b[0m\u001b[0;34m\u001b[0m\u001b[0;34m\u001b[0m\u001b[0m\n\u001b[1;32m      3\u001b[0m     \u001b[0mn\u001b[0m \u001b[0;34m=\u001b[0m \u001b[0mlen\u001b[0m\u001b[0;34m(\u001b[0m\u001b[0mmat\u001b[0m\u001b[0;34m[\u001b[0m\u001b[0;36m0\u001b[0m\u001b[0;34m]\u001b[0m\u001b[0;34m)\u001b[0m\u001b[0;34m\u001b[0m\u001b[0;34m\u001b[0m\u001b[0m\n\u001b[1;32m      4\u001b[0m \u001b[0;34m\u001b[0m\u001b[0m\n\u001b[1;32m      5\u001b[0m     \u001b[0mvisited\u001b[0m \u001b[0;34m=\u001b[0m \u001b[0mset\u001b[0m\u001b[0;34m(\u001b[0m\u001b[0;34m)\u001b[0m\u001b[0;34m\u001b[0m\u001b[0;34m\u001b[0m\u001b[0m\n",
      "\u001b[0;31mNameError\u001b[0m: name 'List' is not defined"
     ]
    }
   ],
   "source": [
    "def updateMatrix(self, mat: List[List[int]]) -> List[List[int]]:\n",
    "    m = len(mat)\n",
    "    n = len(mat[0])\n",
    "\n",
    "    visited = set()\n",
    "    q = deque()\n",
    "    for i in range(m):\n",
    "        for j in range(n):\n",
    "            if mat[i][j] == 0:\n",
    "                visited.add((i,j))\n",
    "                q.append((i,j))\n",
    "\n",
    "    while q:\n",
    "        x,y = q.popleft()\n",
    "        for dirr in [(1,0), (-1,0), (0,1), (0,-1)]:\n",
    "            newX, newY = x+dirr[0], y+dirr[1]\n",
    "            if newX >= 0 and newX <= m-1 and newY >= 0 and newY <= n-1 and (newX, newY) not in visited:\n",
    "                mat[newX][newY] = mat[x][y] + 1\n",
    "                visited.add((newX, newY))\n",
    "                q.append((newX, newY))\n",
    "    return mat"
   ]
  },
  {
   "cell_type": "markdown",
   "metadata": {},
   "source": [
    "# 472. Concatenated Words\n"
   ]
  },
  {
   "cell_type": "markdown",
   "metadata": {},
   "source": [
    "Given an array of strings words (without duplicates), return all the concatenated words in the given list of words.\n",
    "\n",
    "A concatenated word is defined as a string that is comprised entirely of at least two shorter words in the given array."
   ]
  },
  {
   "cell_type": "code",
   "execution_count": null,
   "metadata": {},
   "outputs": [],
   "source": [
    "Word Break : Ques No. 139, Word Break II : Ques No. 140\n",
    "        "
   ]
  },
  {
   "cell_type": "code",
   "execution_count": null,
   "metadata": {},
   "outputs": [],
   "source": [
    "def findAllConcatenatedWordsInADict(self, words: List[str]) -> List[str]:\n",
    "    def check(word, d):\n",
    "        if word in d:\n",
    "            return True\n",
    "\n",
    "        for i in range(len(word),0, -1):\n",
    "            if word[:i] in d and check(word[i:], d):\n",
    "                return True\n",
    "        return False\n",
    "\n",
    "    res = []\n",
    "    words_dict = set(words)\n",
    "    for word in words:\n",
    "        words_dict.remove(word)\n",
    "        if check(word, words_dict) is True:\n",
    "            res.append(word)\n",
    "        words_dict.add(word)\n",
    "    return res\n",
    "    "
   ]
  },
  {
   "cell_type": "code",
   "execution_count": null,
   "metadata": {},
   "outputs": [],
   "source": []
  }
 ],
 "metadata": {
  "kernelspec": {
   "display_name": "Python 3",
   "language": "python",
   "name": "python3"
  },
  "language_info": {
   "codemirror_mode": {
    "name": "ipython",
    "version": 3
   },
   "file_extension": ".py",
   "mimetype": "text/x-python",
   "name": "python",
   "nbconvert_exporter": "python",
   "pygments_lexer": "ipython3",
   "version": "3.7.3"
  }
 },
 "nbformat": 4,
 "nbformat_minor": 4
}
