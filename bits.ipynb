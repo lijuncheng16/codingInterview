{
 "cells": [
  {
   "cell_type": "markdown",
   "metadata": {},
   "source": [
    "# 191. Number of 1 Bits\n"
   ]
  },
  {
   "cell_type": "markdown",
   "metadata": {},
   "source": [
    "Write a function that takes an unsigned integer and returns the number of '1' bits it has (also known as the Hamming weight).\n",
    "\n"
   ]
  },
  {
   "cell_type": "raw",
   "metadata": {},
   "source": [
    "The key idea here is to realize that for any number n, doing a bit-wise AND of n and n−1 flips the least-significant 1-bit in n to 0. Why? Consider the binary representations of n and n−1."
   ]
  },
  {
   "cell_type": "markdown",
   "metadata": {},
   "source": [
    "In the binary representation, the least significant 1-bit in n always corresponds to a 0-bit in n - 1. Therefore, anding the two numbers n and n-1 always flips the least significant 1-bit in n to 0, and keeps all other bits the same."
   ]
  },
  {
   "cell_type": "code",
   "execution_count": 1,
   "metadata": {},
   "outputs": [],
   "source": [
    "def hammingWeight(self, n: int) -> int:\n",
    "        # bit = format(n, \"b\")\n",
    "        # count = Counter(bit)\n",
    "        # return count[\"1\"]\n",
    "        ans = 0\n",
    "        while n:\n",
    "            n &= (n-1)\n",
    "            ans += 1\n",
    "        return ans"
   ]
  },
  {
   "cell_type": "markdown",
   "metadata": {},
   "source": [
    "# 338. Counting Bits\n"
   ]
  },
  {
   "cell_type": "markdown",
   "metadata": {},
   "source": [
    "Given an integer n, return an array ans of length n + 1 such that for each i (0 <= i <= n), ans[i] is the number of 1's in the binary representation of i."
   ]
  },
  {
   "cell_type": "markdown",
   "metadata": {},
   "source": [
    "Similarly, we can generate the results for [4,7] using [0,3] as blueprints.\n",
    "\n",
    "In general, we have the following transition function for popcount P(x):\n",
    "\n",
    "P(x+b)=P(x)+1,b=2^m>x"
   ]
  },
  {
   "cell_type": "code",
   "execution_count": null,
   "metadata": {},
   "outputs": [],
   "source": [
    "def countBits(self, n: int) -> List[int]:\n",
    "    ans = [0] * (n + 1)\n",
    "    x = 0\n",
    "    b = 1\n",
    "\n",
    "    # [0, b) is calculated\n",
    "    while b <= n:\n",
    "        # generate [b, 2b) or [b, n) from [0, b)\n",
    "        while x < b and x + b <= n:\n",
    "            ans[x + b] = ans[x] + 1\n",
    "            x += 1\n",
    "        x = 0 # reset x\n",
    "        b <<= 1 # b = 2b\n",
    "\n",
    "    return ans "
   ]
  },
  {
   "cell_type": "markdown",
   "metadata": {},
   "source": [
    "P(x)=P(x/2)+(x mod 2)\n"
   ]
  },
  {
   "cell_type": "code",
   "execution_count": null,
   "metadata": {},
   "outputs": [],
   "source": [
    "def countBits(self, n: int) -> List[int]:\n",
    "    ans = [0] * (n + 1)\n",
    "    for x in range(1, n + 1):\n",
    "        # x // 2 is x >> 1 and x % 2 is x & 1\n",
    "        ans[x] = ans[x >> 1] + (x & 1) \n",
    "    return ans "
   ]
  },
  {
   "cell_type": "markdown",
   "metadata": {},
   "source": [
    "P(x)=P(x&(x−1))+1"
   ]
  },
  {
   "cell_type": "code",
   "execution_count": null,
   "metadata": {},
   "outputs": [],
   "source": [
    "def countBits(self, n: int) -> List[int]:\n",
    "    ans = [0] * (n + 1)\n",
    "    for x in range(1, n + 1):\n",
    "        ans[x] = ans[x & (x - 1)] + 1\n",
    "    return ans "
   ]
  },
  {
   "cell_type": "code",
   "execution_count": null,
   "metadata": {},
   "outputs": [],
   "source": []
  }
 ],
 "metadata": {
  "kernelspec": {
   "display_name": "Python 3 (ipykernel)",
   "language": "python",
   "name": "python3"
  },
  "language_info": {
   "codemirror_mode": {
    "name": "ipython",
    "version": 3
   },
   "file_extension": ".py",
   "mimetype": "text/x-python",
   "name": "python",
   "nbconvert_exporter": "python",
   "pygments_lexer": "ipython3",
   "version": "3.9.13"
  }
 },
 "nbformat": 4,
 "nbformat_minor": 4
}
