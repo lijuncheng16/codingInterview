{
 "cells": [
  {
   "cell_type": "markdown",
   "metadata": {},
   "source": [
    "# 191. Number of 1 Bits\n"
   ]
  },
  {
   "cell_type": "markdown",
   "metadata": {},
   "source": [
    "Write a function that takes an unsigned integer and returns the number of '1' bits it has (also known as the Hamming weight).\n",
    "\n"
   ]
  },
  {
   "cell_type": "raw",
   "metadata": {},
   "source": [
    "The key idea here is to realize that for any number n, doing a bit-wise AND of n and n−1 flips the least-significant 1-bit in n to 0. Why? Consider the binary representations of n and n−1."
   ]
  },
  {
   "cell_type": "markdown",
   "metadata": {},
   "source": [
    "In the binary representation, the least significant 1-bit in n always corresponds to a 0-bit in n - 1. Therefore, anding the two numbers n and n-1 always flips the least significant 1-bit in n to 0, and keeps all other bits the same."
   ]
  },
  {
   "cell_type": "code",
   "execution_count": 1,
   "metadata": {},
   "outputs": [],
   "source": [
    "def hammingWeight(self, n: int) -> int:\n",
    "        # bit = format(n, \"b\")\n",
    "        # count = Counter(bit)\n",
    "        # return count[\"1\"]\n",
    "        ans = 0\n",
    "        while n:\n",
    "            n &= (n-1)\n",
    "            ans += 1\n",
    "        return ans"
   ]
  },
  {
   "cell_type": "markdown",
   "metadata": {},
   "source": [
    "# 338. Counting Bits\n"
   ]
  },
  {
   "cell_type": "markdown",
   "metadata": {},
   "source": [
    "Given an integer n, return an array ans of length n + 1 such that for each i (0 <= i <= n), ans[i] is the number of 1's in the binary representation of i."
   ]
  },
  {
   "cell_type": "markdown",
   "metadata": {},
   "source": [
    "Similarly, we can generate the results for [4,7] using [0,3] as blueprints.\n",
    "\n",
    "In general, we have the following transition function for popcount P(x):\n",
    "\n",
    "P(x+b)=P(x)+1,b=2^m>x"
   ]
  },
  {
   "cell_type": "code",
   "execution_count": null,
   "metadata": {},
   "outputs": [],
   "source": [
    "def countBits(self, n: int) -> List[int]:\n",
    "    ans = [0] * (n + 1)\n",
    "    x = 0\n",
    "    b = 1\n",
    "\n",
    "    # [0, b) is calculated\n",
    "    while b <= n:\n",
    "        # generate [b, 2b) or [b, n) from [0, b)\n",
    "        while x < b and x + b <= n:\n",
    "            ans[x + b] = ans[x] + 1\n",
    "            x += 1\n",
    "        x = 0 # reset x\n",
    "        b <<= 1 # b = 2b\n",
    "\n",
    "    return ans "
   ]
  },
  {
   "cell_type": "markdown",
   "metadata": {},
   "source": [
    "P(x)=P(x/2)+(x mod 2)\n"
   ]
  },
  {
   "cell_type": "code",
   "execution_count": null,
   "metadata": {},
   "outputs": [],
   "source": [
    "def countBits(self, n: int) -> List[int]:\n",
    "    ans = [0] * (n + 1)\n",
    "    for x in range(1, n + 1):\n",
    "        # x // 2 is x >> 1 and x % 2 is x & 1\n",
    "        ans[x] = ans[x >> 1] + (x & 1) \n",
    "    return ans "
   ]
  },
  {
   "cell_type": "markdown",
   "metadata": {},
   "source": [
    "P(x)=P(x&(x−1))+1"
   ]
  },
  {
   "cell_type": "code",
   "execution_count": null,
   "metadata": {},
   "outputs": [],
   "source": [
    "def countBits(self, n: int) -> List[int]:\n",
    "    ans = [0] * (n + 1)\n",
    "    for x in range(1, n + 1):\n",
    "        ans[x] = ans[x & (x - 1)] + 1\n",
    "    return ans "
   ]
  },
  {
   "cell_type": "markdown",
   "metadata": {},
   "source": [
    "# 1318. Minimum Flips to Make a OR b Equal to c\n"
   ]
  },
  {
   "cell_type": "raw",
   "metadata": {},
   "source": [
    "Given 3 positives numbers a, b and c. Return the minimum flips required in some bits of a and b to make ( a OR b == c ). (bitwise OR operation).\n",
    "Flip operation consists of change any single bit 1 to 0 or change the bit 0 to 1 in their binary representation."
   ]
  },
  {
   "cell_type": "code",
   "execution_count": null,
   "metadata": {},
   "outputs": [],
   "source": [
    "def minFlips(self, a: int, b: int, c: int) -> int:\n",
    "    return ((a | b) ^ c).bit_count() + (a & b & ((a | b) ^ c)).bit_count()\n"
   ]
  },
  {
   "cell_type": "code",
   "execution_count": null,
   "metadata": {},
   "outputs": [],
   "source": [
    "def minFlips(self, a: int, b: int, c: int) -> int:\n",
    "    flips = 0\n",
    "\n",
    "    # iterate through every bit\n",
    "    for i in range(32):\n",
    "        # get the i-th bit of a, b and c\n",
    "        bit_a = (a >> i) & 1\n",
    "        bit_b = (b >> i) & 1\n",
    "        bit_c = (c >> i) & 1\n",
    "\n",
    "        # if c's bit is 0, a and b's bits should also be 0\n",
    "        if bit_c == 0:\n",
    "            flips += bit_a + bit_b\n",
    "        # if c's bit is 1, at least one of a or b's bits should be 1\n",
    "        elif bit_c == 1 and bit_a == 0 and bit_b == 0:\n",
    "            flips += 1\n",
    "\n",
    "    return flips\n",
    "    # answer = 0\n",
    "    # while a or b or c:\n",
    "    #     if c & 1:\n",
    "    #         answer += 0 if ((a & 1) or (b & 1)) else 1\n",
    "    #     else:\n",
    "    #         answer += (a & 1) + (b & 1)\n",
    "    #     a >>= 1\n",
    "    #     b >>= 1\n",
    "    #     c >>= 1\n",
    "    # return answer"
   ]
  }
 ],
 "metadata": {
  "kernelspec": {
   "display_name": "Python 3 (ipykernel)",
   "language": "python",
   "name": "python3"
  },
  "language_info": {
   "codemirror_mode": {
    "name": "ipython",
    "version": 3
   },
   "file_extension": ".py",
   "mimetype": "text/x-python",
   "name": "python",
   "nbconvert_exporter": "python",
   "pygments_lexer": "ipython3",
   "version": "3.10.9"
  }
 },
 "nbformat": 4,
 "nbformat_minor": 4
}
