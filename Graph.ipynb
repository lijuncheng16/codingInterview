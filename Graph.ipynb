{
 "cells": [
  {
   "cell_type": "markdown",
   "metadata": {},
   "source": [
    "# 133. Clone Graph\n"
   ]
  },
  {
   "cell_type": "raw",
   "metadata": {},
   "source": [
    "Given a reference of a node in a connected undirected graph.\n",
    "\n",
    "Return a deep copy (clone) of the graph.\n",
    "\n",
    "Each node in the graph contains a value (int) and a list (List[Node]) of its neighbors.\n",
    "\n",
    "class Node {\n",
    "    public int val;\n",
    "    public List<Node> neighbors;\n",
    "}\n"
   ]
  },
  {
   "cell_type": "code",
   "execution_count": null,
   "metadata": {},
   "outputs": [],
   "source": [
    "def cloneGraph(self, node: 'Node') -> 'Node':\n",
    "    def dfs(node, m):\n",
    "        for neigh in node.neighbors:\n",
    "            if neigh not in m:\n",
    "                m[neigh] = Node(neigh.val)\n",
    "                dfs(neigh, m)\n",
    "            m[node].neighbors.append(m[neigh])\n",
    "    if not node:\n",
    "        return node\n",
    "    m = {node: Node(node.val)}\n",
    "    dfs(node, m)\n",
    "    return m[node]\n"
   ]
  },
  {
   "cell_type": "code",
   "execution_count": null,
   "metadata": {},
   "outputs": [],
   "source": [
    "def cloneGraph1(self, node): #DFS iteratively\n",
    "    if not node:\n",
    "        return node\n",
    "    m = {node: Node(node.val)}\n",
    "    stack = [node]\n",
    "    while stack:\n",
    "        n = stack.pop()\n",
    "        for neigh in n.neighbors:\n",
    "            if neigh not in m:\n",
    "                stack.append(neigh)\n",
    "                m[neigh] = Node(neigh.val)\n",
    "            m[n].neighbors.append(m[neigh])\n",
    "    return m[node]"
   ]
  },
  {
   "cell_type": "code",
   "execution_count": null,
   "metadata": {},
   "outputs": [],
   "source": [
    "def cloneGraph2(self, node): # BFS \n",
    "        if not node:\n",
    "            return node\n",
    "        m = {node: Node(node.val)}\n",
    "        deque = collections.deque([node])\n",
    "        while deque:\n",
    "            n = deque.popleft()\n",
    "            for neigh in n.neighbors:\n",
    "                if neigh not in m:\n",
    "                    deque.append(neigh)\n",
    "                    m[neigh] = Node(neigh.val)\n",
    "                m[n].neighbors.append(m[neigh])\n",
    "        return m[node]\n",
    "        "
   ]
  },
  {
   "cell_type": "markdown",
   "metadata": {},
   "source": [
    "# 207. Course Schedule\n"
   ]
  },
  {
   "cell_type": "markdown",
   "metadata": {},
   "source": [
    "There are a total of numCourses courses you have to take, labeled from 0 to numCourses - 1. You are given an array prerequisites where prerequisites[i] = [ai, bi] indicates that you must take course bi first if you want to take course ai.\n",
    "\n",
    "For example, the pair [0, 1], indicates that to take course 0 you have to first take course 1.\n",
    "Return true if you can finish all courses. Otherwise, return false."
   ]
  },
  {
   "cell_type": "code",
   "execution_count": 33,
   "metadata": {},
   "outputs": [],
   "source": [
    "numCourses = 2\n",
    "prerequisites = [[1,0]]\n",
    "# True"
   ]
  },
  {
   "cell_type": "code",
   "execution_count": 30,
   "metadata": {},
   "outputs": [],
   "source": [
    "numCourses = 2\n",
    "prerequisites = [[1,0],[0,1]]\n",
    "# False"
   ]
  },
  {
   "cell_type": "code",
   "execution_count": 23,
   "metadata": {},
   "outputs": [],
   "source": [
    "from typing import List\n",
    "from collections import defaultdict"
   ]
  },
  {
   "cell_type": "code",
   "execution_count": 34,
   "metadata": {},
   "outputs": [],
   "source": [
    "class Solution1():    \n",
    "    def canFinish(self, numCourses: int, prerequisites: List[List[int]]) -> bool:\n",
    "        self.adj_dict = defaultdict(set)\n",
    "        for i, j in prerequisites:\n",
    "            self.adj_dict[i].add(j)\n",
    "\n",
    "        self.Visited = [0] * numCourses\n",
    "        self.Ans, self.FoundCycle = [], 0\n",
    "        \n",
    "        for i in range(numCourses):\n",
    "            if self.FoundCycle == 1: break      # early stop if the loop is found\n",
    "            if self.Visited[i] == 0:\n",
    "                self.dfs(i)\n",
    "     \n",
    "        return [] if self.FoundCycle == 1 else self.Ans\n",
    "\n",
    "    def dfs(self, start):\n",
    "        if self.FoundCycle == 1:   return     # early stop if the loop is found    \n",
    "        if self.Visited[start] == 1:\n",
    "            self.FoundCycle = 1               # loop is found\n",
    "        if self.Visited[start] == 0:           # node is not visited yet, visit it\n",
    "            self.Visited[start] = 1             # color current node as gray\n",
    "            for neib in self.adj_dict[start]:   # visit all its neibours\n",
    "                self.dfs(neib)\n",
    "            self.Visited[start] = 2             # color current node as black\n",
    "            self.Ans.append(start)              # add node to answer"
   ]
  },
  {
   "cell_type": "code",
   "execution_count": 36,
   "metadata": {},
   "outputs": [],
   "source": [
    "#topological sort methods  We always take the courses with no unstudied prereqs and so on until no more courses we can take. \n",
    "#The oud[i] is the number of prereqs for course i and indegree keep a list of courses require course i.\n",
    "def canFinish(numCourses: int, prerequisites: List[List[int]]) -> bool:\n",
    "    indegree = [set() for _ in range(numCourses)]\n",
    "    outdegree = [[] for _ in range(numCourses)]\n",
    "    for pre in prerequisites:\n",
    "        indegree[pre[0]].add(pre[1])\n",
    "        outdegree[pre[1]].append(pre[0])\n",
    "    start, count = [i for i in range(numCourses) if not indegree[i]], 0\n",
    "    while start: # start contains courses without prerequisites\n",
    "        newStart = []\n",
    "        for i in start:\n",
    "            count += 1 # add one course which can finish\n",
    "            for j in outdegree[i]:\n",
    "                indegree[j].remove(i)\n",
    "                if not indegree[j]:\n",
    "                    newStart.append(j)\n",
    "        start = newStart\n",
    "    return count == numCourses # all courses will be visited \n",
    "            "
   ]
  },
  {
   "cell_type": "code",
   "execution_count": 45,
   "metadata": {},
   "outputs": [],
   "source": [
    "from collections import deque\n",
    "def canFinish3(numCourses: int, prerequisites: List[List[int]]) -> bool:\n",
    "\n",
    "    ind = [[] for _ in range(numCourses)]  # indegree\n",
    "    oud = [0] * numCourses  # outdegree\n",
    "    for preq in prerequisites:\n",
    "        oud[preq[0]] += 1\n",
    "        ind[preq[1]].append(preq[0])\n",
    "    dq = deque()\n",
    "    for i in range(numCourses):\n",
    "        if oud[i] == 0:\n",
    "            dq.append(i)\n",
    "    k = 0\n",
    "    while dq:\n",
    "        x = dq.popleft()\n",
    "        k += 1\n",
    "        for i in ind[x]:\n",
    "            oud[i] -= 1\n",
    "            if oud[i] == 0:\n",
    "                dq.append(i)\n",
    "    return k == numCourses"
   ]
  },
  {
   "cell_type": "code",
   "execution_count": 38,
   "metadata": {},
   "outputs": [],
   "source": [
    "def canFinish2(numCourses: int, prerequisites: List[List[int]]) -> bool:\n",
    "    graph = [[] for _ in range(numCourses)]\n",
    "    visited = [0 for _ in range(numCourses)]\n",
    "    for a, b in prerequisites:\n",
    "        graph[a].append(b)\n",
    "    \n",
    "    #dfs logic: one node has 3 states:0 not visited, 1 visited, -1 being visited             # state -1  : vertex is being processed. Either all of its descendants\n",
    "            #             are not processed or it's still in the function call stack.\n",
    "    def dfs(i):\n",
    "        if visited[i] == -1:    # This vertex is being processed and it means we have a cycle.\n",
    "            return False\n",
    "        if visited[i] == 1:\n",
    "            return True\n",
    "        visited[i] = -1\n",
    "        for neigh in graph[i]:\n",
    "            if not dfs(neigh):\n",
    "                return False\n",
    "        visited[i] = 1\n",
    "        return True\n",
    "    \n",
    "    for i in range(numCourses):\n",
    "        if not dfs(i):\n",
    "            return False\n",
    "    return True"
   ]
  },
  {
   "cell_type": "code",
   "execution_count": 37,
   "metadata": {},
   "outputs": [
    {
     "data": {
      "text/plain": [
       "True"
      ]
     },
     "execution_count": 37,
     "metadata": {},
     "output_type": "execute_result"
    }
   ],
   "source": [
    "canFinish(numCourses, prerequisites)"
   ]
  },
  {
   "cell_type": "code",
   "execution_count": 46,
   "metadata": {},
   "outputs": [
    {
     "data": {
      "text/plain": [
       "True"
      ]
     },
     "execution_count": 46,
     "metadata": {},
     "output_type": "execute_result"
    }
   ],
   "source": [
    "canFinish3(numCourses, prerequisites)"
   ]
  },
  {
   "cell_type": "code",
   "execution_count": 39,
   "metadata": {},
   "outputs": [
    {
     "data": {
      "text/plain": [
       "True"
      ]
     },
     "execution_count": 39,
     "metadata": {},
     "output_type": "execute_result"
    }
   ],
   "source": [
    "canFinish2(numCourses, prerequisites)"
   ]
  },
  {
   "cell_type": "code",
   "execution_count": null,
   "metadata": {},
   "outputs": [],
   "source": []
  },
  {
   "cell_type": "code",
   "execution_count": 35,
   "metadata": {},
   "outputs": [
    {
     "data": {
      "text/plain": [
       "[0, 1]"
      ]
     },
     "execution_count": 35,
     "metadata": {},
     "output_type": "execute_result"
    }
   ],
   "source": [
    "Solution1().canFinish(numCourses, prerequisites)"
   ]
  },
  {
   "cell_type": "markdown",
   "metadata": {},
   "source": [
    "# 210. Course Schedule II\n"
   ]
  },
  {
   "cell_type": "markdown",
   "metadata": {},
   "source": [
    "There are a total of numCourses courses you have to take, labeled from 0 to numCourses - 1. You are given an array prerequisites where prerequisites[i] = [ai, bi] indicates that you must take course bi first if you want to take course ai.\n",
    "\n",
    "For example, the pair [0, 1], indicates that to take course 0 you have to first take course 1.\n",
    "Return the ordering of courses you should take to finish all courses. If there are many valid answers, return any of them. If it is impossible to finish all courses, return an empty array."
   ]
  },
  {
   "cell_type": "code",
   "execution_count": 108,
   "metadata": {},
   "outputs": [],
   "source": [
    "numCourses = 4\n",
    "prerequisites = [[1,0],[2,0],[3,1],[3,2]]\n",
    "#Output: [0,2,1,3]"
   ]
  },
  {
   "cell_type": "code",
   "execution_count": 97,
   "metadata": {},
   "outputs": [],
   "source": [
    "def findOrder(numCourses: int, prerequisites: List[List[int]]) -> List[int]:\n",
    "    graph = [[] for _ in range(numCourses)]\n",
    "    visited = [0 for _ in range(numCourses)]\n",
    "    for preq in prerequisites:\n",
    "        graph[preq[0]].append(preq[1])\n",
    "    print('start:', graph, visited)\n",
    "\n",
    "    #dfs logic: one node has 3 states:0 not visited, 1 visited, -1 being visited             # state -1  : vertex is being processed. Either all of its descendants\n",
    "            #             are not processed or it's still in the function call stack.\n",
    "    def dfs(i, res):\n",
    "        if visited[i] == -1:    # This vertex is being processed and it means we have a cycle.\n",
    "            return False\n",
    "        if visited[i] == 1:\n",
    "            return res\n",
    "        visited[i] = -1\n",
    "        for neigh in graph[i]:\n",
    "            if not dfs(neigh, res):\n",
    "                return False\n",
    "        visited[i] = 1\n",
    "        print(visited)\n",
    "        res.append(i)\n",
    "        return res\n",
    "    res = []\n",
    "    for i in range(numCourses):\n",
    "        if not dfs(i, res):\n",
    "            return []\n",
    "    return res"
   ]
  },
  {
   "cell_type": "code",
   "execution_count": 98,
   "metadata": {},
   "outputs": [
    {
     "name": "stdout",
     "output_type": "stream",
     "text": [
      "start: [[], [0], [0], [1, 2]] [0, 0, 0, 0]\n",
      "[1, 0, 0, 0]\n",
      "[1, 1, 0, 0]\n",
      "[1, 1, 1, 0]\n",
      "[1, 1, 1, 1]\n"
     ]
    },
    {
     "data": {
      "text/plain": [
       "[0, 1, 2, 3]"
      ]
     },
     "execution_count": 98,
     "metadata": {},
     "output_type": "execute_result"
    }
   ],
   "source": [
    "findOrder(numCourses, prerequisites)"
   ]
  },
  {
   "cell_type": "code",
   "execution_count": 106,
   "metadata": {},
   "outputs": [],
   "source": [
    "def findOrder(numCourses: int, prerequisites: List[List[int]]) -> List[int]:\n",
    "    ind = [[] for _ in range(numCourses)]  # indegree\n",
    "    oud = [0] * numCourses  # outdegree\n",
    "    for preq in prerequisites:\n",
    "        oud[preq[0]] += 1\n",
    "        ind[preq[1]].append(preq[0])\n",
    "    print(ind, oud)\n",
    "    dq = deque()\n",
    "    for i in range(numCourses):\n",
    "        if oud[i] == 0:\n",
    "            dq.append(i)\n",
    "    k = 0\n",
    "    res = []\n",
    "    while dq:\n",
    "        print(dq)\n",
    "        x = dq.popleft()\n",
    "        res.append(x)\n",
    "        k += 1\n",
    "        for i in ind[x]:\n",
    "            oud[i] -= 1\n",
    "            if oud[i] == 0:\n",
    "                dq.append(i)\n",
    "    if k == numCourses:\n",
    "        return res\n",
    "    else:\n",
    "        return []"
   ]
  },
  {
   "cell_type": "code",
   "execution_count": 109,
   "metadata": {},
   "outputs": [
    {
     "name": "stdout",
     "output_type": "stream",
     "text": [
      "[[1, 2], [3], [3], []] [0, 1, 1, 2]\n",
      "deque([0])\n",
      "deque([1, 2])\n",
      "deque([2])\n",
      "deque([3])\n"
     ]
    },
    {
     "data": {
      "text/plain": [
       "[0, 1, 2, 3]"
      ]
     },
     "execution_count": 109,
     "metadata": {},
     "output_type": "execute_result"
    }
   ],
   "source": [
    "findOrder(numCourses, prerequisites)"
   ]
  },
  {
   "cell_type": "markdown",
   "metadata": {},
   "source": [
    "# Review Kahan's Algorithm\n",
    "This approach is much easier to think about intuitively as will be clear from the following point/fact about topological ordering.\n",
    "\n",
    "The first node in the topological ordering will be the node that doesn't have any incoming edges. Essentially, any node that has an in-degree of 0 can start the topologically sorted order. If there are multiple such nodes, their relative order doesn't matter and they can appear in any order.\n",
    "\n",
    "Our current algorithm is based on this idea. We first process all the nodes/course with 0 in-degree implying no prerequisite courses required. If we remove all these courses from the graph, along with their outgoing edges, we can find out the courses/nodes that should be processed next. These would again be the nodes with 0 in-degree. We can continuously do this until all the courses have been accounted for.\n",
    "\n",
    "Algorithm\n",
    "\n",
    "1. Initialize a queue, Q to keep a track of all the nodes in the graph with 0 in-degree.\n",
    "2. Iterate over all the edges in the input and create an adjacency list and also a map of node v/s in-degree.\n",
    "3. Add all the nodes with 0 in-degree to Q.\n",
    "4. The following steps are to be done until the Q becomes empty.\n",
    "    1. Pop a node from the Q. Let's call this node, N.\n",
    "    2. For all the neighbors of this node, N, reduce their in-degree by 1. If any of the nodes' in-degree reaches 0, add it to the Q.\n",
    "    3. Add the node N to the list maintaining topologically sorted order.\n",
    "    4. Continue from step 4.1.\n"
   ]
  },
  {
   "cell_type": "markdown",
   "metadata": {},
   "source": [
    "# 785. Is Graph Bipartite?\n"
   ]
  },
  {
   "cell_type": "markdown",
   "metadata": {},
   "source": [
    "There is an undirected graph with n nodes, where each node is numbered between 0 and n - 1. You are given a 2D array graph, where graph[u] is an array of nodes that node u is adjacent to. More formally, for each v in graph[u], there is an undirected edge between node u and node v. The graph has the following properties:\n",
    "\n",
    "- There are no self-edges (graph[u] does not contain u).\n",
    "- There are no parallel edges (graph[u] does not contain duplicate values).\n",
    "- If v is in graph[u], then u is in graph[v] (the graph is undirected).\n",
    "- The graph may not be connected, meaning there may be two nodes u and v such that there is no path between them.\n",
    "A graph is bipartite if the nodes can be partitioned into two independent sets A and B such that every edge in the graph connects a node in set A and a node in set B.\n",
    "\n",
    "Return true if and only if it is bipartite."
   ]
  },
  {
   "cell_type": "code",
   "execution_count": null,
   "metadata": {},
   "outputs": [],
   "source": [
    "Input: graph = [[1,2,3],[0,2],[0,1,3],[0,2]]\n",
    "Output: false\n",
    "Explanation: There is no way to partition the nodes into two independent sets such that every edge connects a node in one and a node in the other."
   ]
  },
  {
   "cell_type": "code",
   "execution_count": null,
   "metadata": {},
   "outputs": [],
   "source": [
    "def isBipartite(self, graph):\n",
    "        \"\"\"\n",
    "        :type graph: List[List[int]]\n",
    "        :rtype: bool\n",
    "        \"\"\"\n",
    "        n, colored = len(graph), {}\n",
    "        def dfs_color(color, idx, graph, colored):\n",
    "            if idx in colored:\n",
    "                return color == colored[idx]\n",
    "            colored[idx] = color                            \n",
    "            return all(dfs_color(-color, nb, graph, colored) for nb in graph[idx])\n",
    "    \n",
    "        return all(i in colored or dfs_color(1, i, graph, colored) for i in range(n)) \t\t\t\t"
   ]
  },
  {
   "cell_type": "code",
   "execution_count": null,
   "metadata": {},
   "outputs": [],
   "source": [
    "def isBipartite(self, graph):\n",
    "        color = {}\n",
    "        def dfs(pos):\n",
    "            for i in graph[pos]:\n",
    "                if i in color:\n",
    "                    if color[i] == color[pos]:\n",
    "                        return False\n",
    "                else:\n",
    "                    color[i] = 1 - color[pos]\n",
    "                    if not dfs(i):\n",
    "                        return False\n",
    "            return True\n",
    "        for i in range(len(graph)):\n",
    "            if i not in color:\n",
    "                color[i] = 0\n",
    "                if not dfs(i):\n",
    "                    return False\n",
    "        return True"
   ]
  },
  {
   "cell_type": "code",
   "execution_count": 101,
   "metadata": {},
   "outputs": [],
   "source": [
    "def isBipartite(self, graph: List[List[int]]) -> bool:\n",
    "        # Dictionary to store all the nodes we have visited\n",
    "        color = {}\n",
    "        # Function to check if the visited node is valid\n",
    "        # input the node (pos) we want to validate\n",
    "        def dfs(pos):\n",
    "            # For all the nodes that are connected to the node we visit\n",
    "            for i in graph[pos]:\n",
    "                # If that node has been visited before\n",
    "                if i in color:\n",
    "                    # Check if the node is same color to the node we are visiting\n",
    "                    if color[i] == color[pos]:\n",
    "                        # If they are the same it is wrong\n",
    "                        # Return false\n",
    "                        return False\n",
    "                # If if has not been colored yet\n",
    "                else:\n",
    "                    # Color it with the color opposite to color[pos]\n",
    "                    color[i] = 1 - color[pos]\n",
    "                    # Continue to do DFS search with this node we just colored\n",
    "                    # If the check returns false\n",
    "                    if not dfs(i):\n",
    "                        # Return false\n",
    "                        return False\n",
    "            # If passed DFS, return True\n",
    "            return True\n",
    "        \n",
    "        # Go through all the nodes in the graph\n",
    "        for i in range(len(graph)):\n",
    "            # We will have to check if the node, and the nodes connected, are valid\n",
    "            # If this node is not visited\n",
    "            if i not in color:\n",
    "                # color the node with 0\n",
    "                color[i] = 0\n",
    "                # Then do the check\n",
    "                # If the check returns False\n",
    "                if not dfs(i):\n",
    "                    # Return False\n",
    "                    return False\n",
    "        # If all nodes pass, return True\n",
    "        return True"
   ]
  },
  {
   "cell_type": "code",
   "execution_count": null,
   "metadata": {},
   "outputs": [],
   "source": [
    "def isBipartite(self, graph):\n",
    "        \"\"\"\n",
    "        :type graph: List[List[int]]\n",
    "        :rtype: bool\n",
    "        \"\"\"\n",
    "        n, colored = len(graph), {}\n",
    "        for i in range(n):\n",
    "            if i not in colored and graph[i]:\n",
    "                colored[i] = 1\n",
    "                q = collections.deque([i])\n",
    "                while q:\n",
    "                    cur = q.popleft()\n",
    "                    for nb in graph[cur]:\n",
    "                        if nb not in colored:\n",
    "                            colored[nb] = -colored[cur]\n",
    "                            q.append(nb)\n",
    "                        elif colored[nb] == colored[cur]:\n",
    "                            return False\n",
    "        return True"
   ]
  },
  {
   "cell_type": "markdown",
   "metadata": {},
   "source": [
    "# 310. Minimum Height Trees\n"
   ]
  },
  {
   "cell_type": "markdown",
   "metadata": {},
   "source": [
    "A tree is an undirected graph in which any two vertices are connected by exactly one path. In other words, any connected graph without simple cycles is a tree.\n",
    "\n",
    "Given a tree of n nodes labelled from 0 to n - 1, and an array of n - 1 edges where edges[i] = [ai, bi] indicates that there is an undirected edge between the two nodes ai and bi in the tree, you can choose any node of the tree as the root. When you select a node x as the root, the result tree has height h. Among all possible rooted trees, those with minimum height (i.e. min(h))  are called minimum height trees (MHTs).\n",
    "\n",
    "Return a list of all MHTs' root labels. You can return the answer in any order.\n",
    "\n",
    "The height of a rooted tree is the number of edges on the longest downward path between the root and a leaf."
   ]
  },
  {
   "cell_type": "code",
   "execution_count": 102,
   "metadata": {},
   "outputs": [],
   "source": [
    "n = 4\n",
    "edges = [[1,0],[1,2],[1,3]]"
   ]
  },
  {
   "cell_type": "code",
   "execution_count": 111,
   "metadata": {},
   "outputs": [],
   "source": [
    "n = 6\n",
    "edges = [[3,0],[3,1],[3,2],[3,4],[5,4]]"
   ]
  },
  {
   "cell_type": "code",
   "execution_count": 135,
   "metadata": {},
   "outputs": [],
   "source": [
    "def findMinHeightTrees(n: int, edges: List[List[int]]) -> List[int]:\n",
    "    \"\"\"\n",
    "    no cycle guaranteed, no need to check any more\n",
    "    eventually end up with 2 roots or 1 root\n",
    "    topological sort\n",
    "    return all the root labels as a List\n",
    "    \"\"\"\n",
    "    \n",
    "    #base case:\n",
    "    if n <=2:\n",
    "        return [i for i in range(n)]\n",
    "    neighbors = [set() for i in range(n)]\n",
    "    print(neighbors)\n",
    "    for edge in edges:\n",
    "        neighbors[edge[0]].add(edge[1])\n",
    "        neighbors[edge[1]].add(edge[0])\n",
    "    print(neighbors)\n",
    "    leaves = deque()\n",
    "    for i in range(n):\n",
    "        if len(neighbors[i]) == 1:\n",
    "            leaves.append(i)\n",
    "    print(leaves)\n",
    "    #start triming the leaves\n",
    "    remain_nodes = n\n",
    "    while remain_nodes > 2:\n",
    "        remain_nodes -= len(leaves)\n",
    "        print(remain_nodes)\n",
    "        new_leaves = []\n",
    "        while leaves:\n",
    "            print('leaves:',leaves)\n",
    "            leaf = leaves.popleft()\n",
    "            neighbor = neighbors[leaf].pop()\n",
    "            neighbors[neighbor].remove(leaf)\n",
    "            print('neighbors: ', neighbors)\n",
    "            if len(neighbors[neighbor])==1:\n",
    "                new_leaves.append(neighbor)\n",
    "        leaves = new_leaves\n",
    "    return leaves\n"
   ]
  },
  {
   "cell_type": "code",
   "execution_count": 136,
   "metadata": {},
   "outputs": [
    {
     "name": "stdout",
     "output_type": "stream",
     "text": [
      "[set(), set(), set(), set(), set(), set()]\n",
      "[{3}, {3}, {3}, {0, 1, 2, 4}, {3, 5}, {4}]\n",
      "deque([0, 1, 2, 5])\n",
      "2\n",
      "leaves: deque([0, 1, 2, 5])\n",
      "neighbors:  [set(), {3}, {3}, {1, 2, 4}, {3, 5}, {4}]\n",
      "leaves: deque([1, 2, 5])\n",
      "neighbors:  [set(), set(), {3}, {2, 4}, {3, 5}, {4}]\n",
      "leaves: deque([2, 5])\n",
      "neighbors:  [set(), set(), set(), {4}, {3, 5}, {4}]\n",
      "leaves: deque([5])\n",
      "neighbors:  [set(), set(), set(), {4}, {3}, set()]\n"
     ]
    },
    {
     "data": {
      "text/plain": [
       "[3, 4]"
      ]
     },
     "execution_count": 136,
     "metadata": {},
     "output_type": "execute_result"
    }
   ],
   "source": [
    "findMinHeightTrees(n, edges)"
   ]
  },
  {
   "cell_type": "code",
   "execution_count": 140,
   "metadata": {},
   "outputs": [],
   "source": [
    "import collections"
   ]
  },
  {
   "cell_type": "code",
   "execution_count": 153,
   "metadata": {},
   "outputs": [],
   "source": [
    "def findMinHeightTrees2(n: int, edges: List[List[int]]) -> List[int]:\n",
    "    \"\"\"\n",
    "    :type n: int\n",
    "    :type edges: List[List[int]]\n",
    "    :rtype: List[int]\n",
    "    \"\"\"\n",
    "    if n == 1: return [0]\n",
    "    neighbors = collections.defaultdict(list)\n",
    "    degrees = collections.defaultdict(int)\n",
    "    for u, v in edges:\n",
    "        neighbors[u].append(v)\n",
    "        neighbors[v].append(u)\n",
    "        degrees[u] += 1\n",
    "        degrees[v] += 1\n",
    "    print('neighbors ', neighbors)\n",
    "    print('degrees: ', degrees)\n",
    "    # First find the leaves\n",
    "    preLevel, unvisited = [], set(range(n))\n",
    "    for i in range(n):\n",
    "        if degrees[i] == 1: preLevel.append(i)\n",
    "    print(preLevel, unvisited)\n",
    "    \n",
    "    while len(unvisited) > 2:\n",
    "        thisLevel = []\n",
    "        for leaf in preLevel:\n",
    "            unvisited.remove(leaf)\n",
    "            for v in neighbors[leaf]:\n",
    "                if v in unvisited: \n",
    "                    degrees[v] -= 1\n",
    "                    if degrees[v] == 1:\n",
    "                        thisLevel += [v]\n",
    "        print('this level:', thisLevel)\n",
    "        preLevel = thisLevel\n",
    "                \n",
    "    return preLevel"
   ]
  },
  {
   "cell_type": "code",
   "execution_count": 154,
   "metadata": {},
   "outputs": [
    {
     "name": "stdout",
     "output_type": "stream",
     "text": [
      "neighbors  defaultdict(<class 'list'>, {3: [0, 1, 2, 4], 0: [3], 1: [3], 2: [3], 4: [3, 5], 5: [4]})\n",
      "degrees:  defaultdict(<class 'int'>, {3: 4, 0: 1, 1: 1, 2: 1, 4: 2, 5: 1})\n",
      "[0, 1, 2, 5] {0, 1, 2, 3, 4, 5}\n",
      "this level: [3, 4]\n"
     ]
    },
    {
     "data": {
      "text/plain": [
       "[3, 4]"
      ]
     },
     "execution_count": 154,
     "metadata": {},
     "output_type": "execute_result"
    }
   ],
   "source": [
    "findMinHeightTrees2(n, edges)"
   ]
  },
  {
   "cell_type": "raw",
   "metadata": {},
   "source": [
    "#backtrack dfs harder to understand and slower\n",
    "https://cs.stackexchange.com/questions/22855/algorithm-to-find-diameter-of-a-tree-using-bfs-dfs-why-does-it-work\n",
    "    "
   ]
  },
  {
   "cell_type": "markdown",
   "metadata": {},
   "source": [
    "1. Start from any node and run dfs, which calculate distances for all other nodes from this node as well as create parent for each node. What our fucntion will return in the end is the index of farthest node (there can be more than one and it is OK for us).\n",
    "2. Now, we need to start our dfs all over again from this node (that is why we use dfs_helper function - we need to clean our distances and parents arrays. When we run our dfs second time, we again find the farthest node.\n",
    "3. Finally, we create path between the first node we found and the second and it will be our diameter: if it has even number of nodes, we return 2 middle nodes, in other case we return 1 middle node."
   ]
  },
  {
   "cell_type": "code",
   "execution_count": null,
   "metadata": {},
   "outputs": [],
   "source": [
    "def findMinHeightTrees(self, n, edges):\n",
    "    def dfs_helper(start, n):\n",
    "        self.dist, self.parent = [-1]*n, [-1]*n\n",
    "        self.dist[start] = 0\n",
    "        dfs(start)\n",
    "        return self.dist.index(max(self.dist))\n",
    "\n",
    "    def dfs(start):\n",
    "        for neib in Graph[start]:\n",
    "            if self.dist[neib] == -1:\n",
    "                self.dist[neib] = self.dist[start] + 1\n",
    "                self.parent[neib] = start\n",
    "                dfs(neib)\n",
    "\n",
    "    Graph = defaultdict(set)\n",
    "    for a,b in edges:\n",
    "        Graph[a].add(b)\n",
    "        Graph[b].add(a)\n",
    "\n",
    "    ind = dfs_helper(0,n)\n",
    "    ind2 = dfs_helper(ind, n)\n",
    "\n",
    "    path = []\n",
    "    while ind2 != -1:\n",
    "        path.append(ind2)           #backtracking to create path\n",
    "        ind2 = self.parent[ind2]\n",
    "\n",
    "    Q = len(path)\n",
    "    return list(set([path[Q//2], path[(Q-1)//2]]))"
   ]
  },
  {
   "cell_type": "markdown",
   "metadata": {},
   "source": [
    "# 886. Possible Bipartition\n"
   ]
  },
  {
   "cell_type": "raw",
   "metadata": {},
   "source": [
    "We want to split a group of n people (labeled from 1 to n) into two groups of any size. Each person may dislike some other people, and they should not go into the same group.\n",
    "\n",
    "Given the integer n and the array dislikes where dislikes[i] = [ai, bi] indicates that the person labeled ai does not like the person labeled bi, return true if it is possible to split everyone into two groups in this way.\n",
    "\n",
    "\n",
    "Example 1:\n",
    "\n",
    "Input: n = 4, dislikes = [[1,2],[1,3],[2,4]]\n",
    "Output: true\n",
    "Explanation: group1 [1,4] and group2 [2,3].\n",
    "Example 2:\n",
    "\n",
    "Input: n = 3, dislikes = [[1,2],[1,3],[2,3]]\n",
    "Output: false\n",
    "Example 3:\n",
    "\n",
    "Input: n = 5, dislikes = [[1,2],[2,3],[3,4],[4,5],[1,5]]\n",
    "Output: false"
   ]
  },
  {
   "cell_type": "code",
   "execution_count": 156,
   "metadata": {},
   "outputs": [],
   "source": [
    "n = 5\n",
    "dislikes = [[1,2],[2,3],[3,4],[4,5],[1,5]]"
   ]
  },
  {
   "cell_type": "code",
   "execution_count": 164,
   "metadata": {},
   "outputs": [],
   "source": [
    "def possibleBipartition(n: int, dislikes: List[List[int]]) -> bool:\n",
    "    # Constant defined for color drawing to person\n",
    "    NOT_COLORED, BLUE, GREEN = 0, 1, -1\n",
    "\n",
    "    # -------------------------------------\n",
    "    def dfs(person_id, color ):\n",
    "        # Draw person_id as color\n",
    "        color_table[person_id] = color\n",
    "\n",
    "        # Draw the_other, with opposite color, in dislike table of current person_id\n",
    "        for the_other in dislike_table[ person_id ]:\n",
    "\n",
    "            if color_table[the_other] == color:\n",
    "                # the_other has the same color of current person_id\n",
    "                # Reject due to breaking the relationship of dislike\n",
    "                return False\n",
    "\n",
    "            if color_table[the_other] == NOT_COLORED and (not dfs( the_other, -color)):\n",
    "                # Other people can not be colored with two different colors. \n",
    "                # Therefore, it is impossible to keep dis-like relationship with bipartition.\n",
    "                return False\n",
    "\n",
    "        return True\n",
    "\n",
    "\n",
    "    # ------------------------------------------------\n",
    "\n",
    "\n",
    "    if n == 1 or not dislikes:\n",
    "        # Quick response for simple cases\n",
    "        return True\n",
    "\n",
    "    # each person maintain a list of dislike\n",
    "    dislike_table = collections.defaultdict( list )\n",
    "    # cell_#0 is dummy just for the convenience of indexing from 1 to N\n",
    "    color_table = [ NOT_COLORED for _ in range(n+1) ]\n",
    "    for p1, p2 in dislikes:\n",
    "        # P1 and P2 dislike each other\n",
    "        dislike_table[p1].append( p2 )\n",
    "        dislike_table[p2].append( p1 )\n",
    "    print('dislike table:', dislike_table)\n",
    "    print('color_table:', color_table)\n",
    "\n",
    "    # Try to draw dislike pair with different colors in DFS\n",
    "    for person_id in range(1, n+1):\n",
    "\n",
    "        if color_table[person_id] == NOT_COLORED and (not dfs( person_id, BLUE)):\n",
    "            # Other people can not be colored with two different colors. \n",
    "            # Therefore, it is impossible to keep dis-like relationship with bipartition.\n",
    "            return False \n",
    "\n",
    "    return True"
   ]
  },
  {
   "cell_type": "code",
   "execution_count": 165,
   "metadata": {},
   "outputs": [
    {
     "name": "stdout",
     "output_type": "stream",
     "text": [
      "dislike table: defaultdict(<class 'list'>, {1: [2, 5], 2: [1, 3], 3: [2, 4], 4: [3, 5], 5: [4, 1]})\n",
      "color_table: [0, 0, 0, 0, 0, 0]\n"
     ]
    },
    {
     "data": {
      "text/plain": [
       "False"
      ]
     },
     "execution_count": 165,
     "metadata": {},
     "output_type": "execute_result"
    }
   ],
   "source": [
    "possibleBipartition(n, dislikes)"
   ]
  },
  {
   "cell_type": "markdown",
   "metadata": {},
   "source": [
    "# 200. Number of Island"
   ]
  },
  {
   "cell_type": "code",
   "execution_count": 186,
   "metadata": {},
   "outputs": [],
   "source": [
    "grid = [\n",
    "  [\"1\",\"1\",\"0\",\"0\",\"0\"],\n",
    "  [\"1\",\"1\",\"0\",\"0\",\"0\"],\n",
    "  [\"0\",\"0\",\"1\",\"0\",\"0\"],\n",
    "  [\"0\",\"0\",\"0\",\"1\",\"1\"]\n",
    "]"
   ]
  },
  {
   "cell_type": "code",
   "execution_count": 187,
   "metadata": {},
   "outputs": [],
   "source": [
    "def numIslands(grid: List[List[str]]) -> int:\n",
    "    def dfs(i,j, grid):\n",
    "        print(f'point: {i},{j}')\n",
    "        if i < 0 or j < 0 or i>= len(grid) or j>= len(grid[0]) or grid[i][j]!='1':\n",
    "            return\n",
    "        grid[i][j] = '2'\n",
    "        dfs(i,j+1, grid)\n",
    "        dfs(i,j-1, grid)\n",
    "        dfs(i+1,j, grid)\n",
    "        dfs(i-1,j, grid)\n",
    "    island = 0\n",
    "    if not grid:\n",
    "        return island\n",
    "\n",
    "    for i in range(len(grid)):\n",
    "        for j in range(len(grid[0])):\n",
    "            if grid[i][j] == '1':\n",
    "                dfs(i, j, grid)\n",
    "                island+=1\n",
    "                print(island)\n",
    "    return island"
   ]
  },
  {
   "cell_type": "code",
   "execution_count": 188,
   "metadata": {},
   "outputs": [
    {
     "name": "stdout",
     "output_type": "stream",
     "text": [
      "point: 0,0\n",
      "point: 0,1\n",
      "point: 0,2\n",
      "point: 0,0\n",
      "point: 1,1\n",
      "point: 1,2\n",
      "point: 1,0\n",
      "point: 1,1\n",
      "point: 1,-1\n",
      "point: 2,0\n",
      "point: 0,0\n",
      "point: 2,1\n",
      "point: 0,1\n",
      "point: -1,1\n",
      "point: 0,-1\n",
      "point: 1,0\n",
      "point: -1,0\n",
      "1\n",
      "point: 2,2\n",
      "point: 2,3\n",
      "point: 2,1\n",
      "point: 3,2\n",
      "point: 1,2\n",
      "2\n",
      "point: 3,3\n",
      "point: 3,4\n",
      "point: 3,5\n",
      "point: 3,3\n",
      "point: 4,4\n",
      "point: 2,4\n",
      "point: 3,2\n",
      "point: 4,3\n",
      "point: 2,3\n",
      "3\n"
     ]
    },
    {
     "data": {
      "text/plain": [
       "3"
      ]
     },
     "execution_count": 188,
     "metadata": {},
     "output_type": "execute_result"
    }
   ],
   "source": [
    "numIslands(grid)"
   ]
  },
  {
   "cell_type": "markdown",
   "metadata": {},
   "source": [
    "# 695. Max Area of Island\n"
   ]
  },
  {
   "cell_type": "raw",
   "metadata": {},
   "source": [
    "You are given an m x n binary matrix grid. An island is a group of 1's (representing land) connected 4-directionally (horizontal or vertical.) You may assume all four edges of the grid are surrounded by water.\n",
    "\n",
    "The area of an island is the number of cells with a value 1 in the island.\n",
    "\n",
    "Return the maximum area of an island in grid. If there is no island, return 0."
   ]
  },
  {
   "cell_type": "code",
   "execution_count": 215,
   "metadata": {},
   "outputs": [],
   "source": [
    "grid = [[0,0,1,0,0,0,0,1,0,0,0,0,0],[0,0,0,0,0,0,0,1,1,1,0,0,0],[0,1,1,0,1,0,0,0,0,0,0,0,0],[0,1,0,0,1,1,0,0,1,0,1,0,0],[0,1,0,0,1,1,0,0,1,1,1,0,0],[0,0,0,0,0,0,0,0,0,0,1,0,0],[0,0,0,0,0,0,0,1,1,1,0,0,0],[0,0,0,0,0,0,0,1,1,0,0,0,0]]"
   ]
  },
  {
   "cell_type": "code",
   "execution_count": 216,
   "metadata": {},
   "outputs": [],
   "source": [
    "def maxAreaOfIsland(grid: List[List[int]]) -> int:\n",
    "    def dfs(i,j, grid, area):\n",
    "        # print(f'point: {i},{j}')\n",
    "        if i < 0 or j < 0 or i>= len(grid) or j>= len(grid[0]) or grid[i][j]!=1:\n",
    "            return\n",
    "        grid[i][j] = 2\n",
    "        area.append(1)\n",
    "#         print(area)\n",
    "        dfs(i,j+1, grid, area)\n",
    "        dfs(i,j-1, grid, area)\n",
    "        dfs(i+1,j, grid, area)\n",
    "        dfs(i-1,j, grid, area)\n",
    "    islands = []\n",
    "    if not grid:\n",
    "        return islands\n",
    "\n",
    "    for i in range(len(grid)):\n",
    "        for j in range(len(grid[0])):\n",
    "            if grid[i][j] == 1:\n",
    "                area = []\n",
    "                dfs(i, j, grid, area)\n",
    "                islands.append(len(area))\n",
    "    return max(islands)"
   ]
  },
  {
   "cell_type": "code",
   "execution_count": 217,
   "metadata": {},
   "outputs": [
    {
     "data": {
      "text/plain": [
       "6"
      ]
     },
     "execution_count": 217,
     "metadata": {},
     "output_type": "execute_result"
    }
   ],
   "source": [
    "maxAreaOfIsland(grid)"
   ]
  },
  {
   "cell_type": "markdown",
   "metadata": {},
   "source": [
    "# 463. Island Perimeter\n"
   ]
  },
  {
   "cell_type": "code",
   "execution_count": 222,
   "metadata": {},
   "outputs": [],
   "source": [
    "grid = [[0,1,0,0],[1,1,1,0],[0,1,0,0],[1,1,0,0]]"
   ]
  },
  {
   "cell_type": "code",
   "execution_count": 225,
   "metadata": {},
   "outputs": [],
   "source": [
    "def islandPerimeter(grid):\n",
    "    \"\"\"\n",
    "    :type grid: List[List[int]]\n",
    "    :rtype: int\n",
    "    \"\"\"\n",
    "    if not grid:\n",
    "        return 0\n",
    "\n",
    "    def sum_adjacent(i, j):\n",
    "        adjacent = (i + 1, j), (i - 1, j), (i, j + 1), (i, j - 1),\n",
    "        res = 0\n",
    "        for x, y in adjacent:\n",
    "            if x < 0 or y < 0 or x == len(grid) or y == len(grid[0]) or grid[x][y] == 0:\n",
    "                res += 1\n",
    "        return res\n",
    "\n",
    "    count = 0\n",
    "    for i in range(len(grid)):\n",
    "        for j in range(len(grid[0])):\n",
    "            if grid[i][j] == 1:\n",
    "                count += sum_adjacent(i, j)\n",
    "    return count"
   ]
  },
  {
   "cell_type": "code",
   "execution_count": 229,
   "metadata": {},
   "outputs": [],
   "source": [
    "def islandPerimeter(grid):\n",
    "    m, n, Perimeter = len(grid), len(grid[0]), 0\n",
    "\n",
    "    for i in range(m):\n",
    "        for j in range(n):\n",
    "            Perimeter += 4*grid[i][j]\n",
    "            if i > 0:   Perimeter -= grid[i][j]*grid[i-1][j]\n",
    "            if i < m-1: Perimeter -= grid[i][j]*grid[i+1][j]\n",
    "            if j > 0:   Perimeter -= grid[i][j]*grid[i][j-1]\n",
    "            if j < n-1: Perimeter -= grid[i][j]*grid[i][j+1]\n",
    "\n",
    "    return Perimeter"
   ]
  },
  {
   "cell_type": "code",
   "execution_count": 230,
   "metadata": {},
   "outputs": [
    {
     "data": {
      "text/plain": [
       "16"
      ]
     },
     "execution_count": 230,
     "metadata": {},
     "output_type": "execute_result"
    }
   ],
   "source": [
    "islandPerimeter(grid)"
   ]
  },
  {
   "cell_type": "markdown",
   "metadata": {},
   "source": [
    "# 261. Graph Valid Tree - Medium\n"
   ]
  },
  {
   "cell_type": "code",
   "execution_count": null,
   "metadata": {},
   "outputs": [],
   "source": [
    "Given n nodes labeled from 0 to n - 1 and a list of undirected edges (each edge is a pair of nodes), write a function to check whether these edges make up a valid tree.\n",
    "\n",
    "For example:\n",
    "\n",
    "Given n = 5 and edges = [[0, 1], [0, 2], [0, 3], [1, 4]], return true.\n",
    "\n",
    "Given n = 5 and edges = [[0, 1], [1, 2], [2, 3], [1, 3], [1, 4]], return false.\n",
    "\n",
    "Show Hint Note: you can assume that no duplicate edges will appear in edges. Since all edges are undirected, [0, 1] is the same as [1, 0] and thus will not appear together in edges."
   ]
  },
  {
   "cell_type": "code",
   "execution_count": 23,
   "metadata": {},
   "outputs": [],
   "source": [
    "n = 5\n",
    "edges = [[0,1], [0,2], [0,3], [1,4]]"
   ]
  },
  {
   "cell_type": "code",
   "execution_count": 34,
   "metadata": {},
   "outputs": [],
   "source": [
    "n = 5\n",
    "edges = [[0, 1], [1, 2], [2, 3], [1, 3], [1, 4]]"
   ]
  },
  {
   "cell_type": "code",
   "execution_count": 7,
   "metadata": {},
   "outputs": [],
   "source": [
    "from typing import List"
   ]
  },
  {
   "cell_type": "code",
   "execution_count": 35,
   "metadata": {},
   "outputs": [],
   "source": [
    "def validTree(n: int, edges: List[List[int]]) -> bool:\n",
    "    graph = [[] for _ in range(n)]\n",
    "    visited = [0 for _ in range(n)]\n",
    "    for a, b in edges:\n",
    "        graph[a].append(b)\n",
    "        graph[b].append(a)\n",
    "    print(graph, visited)\n",
    "    #dfs logic: one node has 3 states:0 not visited, 1 visited, -1 being visited             # state -1  : vertex is being processed. Either all of its descendants\n",
    "            #             are not processed or it's still in the function call stack.\n",
    "    def dfs(i):\n",
    "        print(visited[i])\n",
    "        if visited[i] == -1:    # This vertex is being processed and it means we have a cycle.\n",
    "            return False\n",
    "        if visited[i] == 1:\n",
    "            return True\n",
    "        visited[i] = -1\n",
    "        for neigh in graph[i]:\n",
    "            if not dfs(neigh):\n",
    "                return False\n",
    "        visited[i] = 1\n",
    "        return True\n",
    "    \n",
    "    for i in range(n):\n",
    "        if not dfs(i):\n",
    "            return False\n",
    "    return True\n",
    "        \n",
    "        "
   ]
  },
  {
   "cell_type": "raw",
   "metadata": {},
   "source": [
    "A tree is a special undirected graph. It satisfy two properties\n",
    "It is connected\n",
    "It has no cycle.\n",
    "Being connected means you can start from any node and reach any other node. To prove it, we can do a DFS and add each node we visit to a set. After we visited all the nodes, we compare the number of nodes in the set with the total number of nodes. If they are the same then every node is accessible from any other node and the graph is connected.\n",
    "To prove an undirected graph having no cycle, we can also do a DFS. If a graph contains a cycle, then we would visit a certain node more than once. There is a minor caveat, since the graph is undirected, when we visit a child we would always add parent to the next visit list. This creates a trivial cycle and not the real cycle we want. We can avoid detecting trivial cycle but adding an additional parent state in the DFS call."
   ]
  },
  {
   "cell_type": "code",
   "execution_count": 36,
   "metadata": {},
   "outputs": [
    {
     "name": "stdout",
     "output_type": "stream",
     "text": [
      "[[1], [0, 2, 3, 4], [1, 3], [2, 1], [1]] [0, 0, 0, 0, 0]\n",
      "0\n",
      "0\n",
      "-1\n"
     ]
    },
    {
     "data": {
      "text/plain": [
       "False"
      ]
     },
     "execution_count": 36,
     "metadata": {},
     "output_type": "execute_result"
    }
   ],
   "source": [
    "validTree(n, edges)"
   ]
  },
  {
   "cell_type": "code",
   "execution_count": 37,
   "metadata": {},
   "outputs": [],
   "source": [
    "def validTree2(n: int, edges: List[List[int]]) -> bool:\n",
    "    from collections import defaultdict\n",
    "    graph = defaultdict(list)\n",
    "\n",
    "    # build the graph\n",
    "    for src, dest in edges:\n",
    "        graph[src].append(dest)\n",
    "        graph[dest].append(src)\n",
    "    print(graph)\n",
    "    visited = set()\n",
    "    def dfs(root, parent): # returns true if graph has no cycle\n",
    "        print(visited)\n",
    "        visited.add(root)\n",
    "        for node in graph[root]:\n",
    "            if node == parent: # trivial cycle, skip\n",
    "                continue\n",
    "            if node in visited:\n",
    "                return False\n",
    "\n",
    "            if not dfs(node, root):\n",
    "                return False\n",
    "        return True\n",
    "\n",
    "    return dfs(0, -1) and len(visited) == n"
   ]
  },
  {
   "cell_type": "code",
   "execution_count": 38,
   "metadata": {},
   "outputs": [
    {
     "name": "stdout",
     "output_type": "stream",
     "text": [
      "defaultdict(<class 'list'>, {0: [1], 1: [0, 2, 3, 4], 2: [1, 3], 3: [2, 1], 4: [1]})\n",
      "set()\n",
      "{0}\n",
      "{0, 1}\n",
      "{0, 1, 2}\n"
     ]
    },
    {
     "data": {
      "text/plain": [
       "False"
      ]
     },
     "execution_count": 38,
     "metadata": {},
     "output_type": "execute_result"
    }
   ],
   "source": [
    "validTree2(n, edges)"
   ]
  },
  {
   "cell_type": "markdown",
   "metadata": {},
   "source": [
    "Condition 2 no cycle can also be expressed as # of nodes == # of edges + 1."
   ]
  },
  {
   "cell_type": "code",
   "execution_count": 40,
   "metadata": {},
   "outputs": [],
   "source": [
    "def validTree3(n: int, edges: List[List[int]]) -> bool:\n",
    "    from collections import defaultdict\n",
    "    graph = defaultdict(list)\n",
    "\n",
    "    # build the graph\n",
    "    for src, dest in edges:\n",
    "        graph[src].append(dest)\n",
    "        graph[dest].append(src)\n",
    "    print(graph)\n",
    "    visited = set()\n",
    "    def dfs(root):\n",
    "        visited.add(root)\n",
    "        for node in graph[root]:\n",
    "            if node in visited:\n",
    "                continue\n",
    "            dfs(node)\n",
    "\n",
    "    dfs(0)\n",
    "    return len(visited) == n and len(edges) == n - 1\n"
   ]
  },
  {
   "cell_type": "code",
   "execution_count": 41,
   "metadata": {},
   "outputs": [
    {
     "name": "stdout",
     "output_type": "stream",
     "text": [
      "defaultdict(<class 'list'>, {0: [1], 1: [0, 2, 3, 4], 2: [1, 3], 3: [2, 1], 4: [1]})\n"
     ]
    },
    {
     "data": {
      "text/plain": [
       "False"
      ]
     },
     "execution_count": 41,
     "metadata": {},
     "output_type": "execute_result"
    }
   ],
   "source": [
    "validTree3(n, edges)"
   ]
  },
  {
   "cell_type": "code",
   "execution_count": null,
   "metadata": {},
   "outputs": [],
   "source": [
    "A 2d grid map ofmrows andncolumns is initially filled with water. We may perform anaddLandoperation which turns the water at position (row, col) into a land. Given a list of positions to operate,count the number of islands after each addLand operation. An island is surrounded by water and is formed by connecting adjacent lands horizontally or vertically. You may assume all four edges of the grid are all surrounded by water."
   ]
  },
  {
   "cell_type": "code",
   "execution_count": null,
   "metadata": {},
   "outputs": [],
   "source": [
    "#269"
   ]
  },
  {
   "cell_type": "markdown",
   "metadata": {},
   "source": [
    "# 305. Number of Islands II "
   ]
  },
  {
   "cell_type": "markdown",
   "metadata": {},
   "source": [
    "A 2d grid map of **m** rows and **n** columns is initially filled with water. We may perform an addLand operation which turns the water at position (row, col) into a land. Given a list of positions to operate, count the number of islands after each addLand operation. An island is surrounded by water and is formed by connecting adjacent lands horizontally or vertically. You may assume all four edges of the grid are all surrounded by water."
   ]
  },
  {
   "cell_type": "raw",
   "metadata": {},
   "source": [
    "Given m = 3, n = 3, positions = [[0,0], [0,1], [1,2], [2,1]]. Initially, the 2d grid grid is filled with water. (Assume 0 represents water and 1 represents land).\n",
    "0 0 0 \n",
    "0 0 0\n",
    "0 0 0\n"
   ]
  },
  {
   "cell_type": "raw",
   "metadata": {},
   "source": [
    "Operation #1: addLand(0, 0) turns the water at grid[0][0] into a land.\n",
    "1 0 0\n",
    "0 0 0   Number of islands = 1\n",
    "0 0 0\n"
   ]
  },
  {
   "cell_type": "raw",
   "metadata": {},
   "source": [
    "Operation #2: addLand(0, 1) turns the water at grid[0][1] into a land.\n",
    "\n",
    "1 1 0\n",
    "0 0 0   Number of islands = 1\n",
    "0 0 0\n"
   ]
  },
  {
   "cell_type": "raw",
   "metadata": {},
   "source": [
    "Operation #3: addLand(1, 2) turns the water at grid[1][2] into a land.\n",
    "\n",
    "1 1 0\n",
    "0 0 1   Number of islands = 2\n",
    "0 0 0"
   ]
  },
  {
   "cell_type": "raw",
   "metadata": {},
   "source": [
    "Operation #4: addLand(2, 1) turns the water at grid[2][1] into a land.\n",
    "\n",
    "1 1 0\n",
    "0 0 1   Number of islands = 3\n",
    "0 1 0\n"
   ]
  },
  {
   "cell_type": "raw",
   "metadata": {},
   "source": [
    "We return the result as an array: [1, 1, 2, 3]\n",
    "\n",
    "Need to use unionfind algorithm. (Disjoint Set) <Friend circles, Graph Valid Tree, Redundant Connection II>\n",
    "https://www.geeksforgeeks.org/union-find-algorithm-set-2-union-by-rank/\n",
    "https://medium.com/@timothyhuang514/graph-number-of-islands-ii-21fe906e2b57"
   ]
  },
  {
   "cell_type": "code",
   "execution_count": null,
   "metadata": {},
   "outputs": [],
   "source": [
    "\n",
    "import collections, itertools, sys\n",
    "\n",
    "coordinate = collections.namedtuple('coordinate', ('r', 'c'))\n",
    "\n",
    "class Subset:\n",
    "    def __init__(self, node, rank):\n",
    "        self.parent = node\n",
    "        self.rank = rank\n",
    "\n",
    "class Graph:\n",
    "    def __init__(self):\n",
    "        self.V = 1\n",
    "        self.islands = collections.defaultdict(set)\n",
    "\n",
    "class NumberOfIslandsII:\n",
    "\n",
    "    def _findParent(self, subsets, node):\n",
    "        if subsets[node].parent != node:\n",
    "            subsets[node].parent = self._findParent(subsets, subsets[node].parent)\n",
    "        return subsets[node].parent\n",
    "\n",
    "    def _union(self, head, p, subsets):\n",
    "        subsets[p].parent = head\n",
    "        if subsets[head].rank <= subsets[p].rank:\n",
    "            subsets[head].rank, subsets[p].rank = subsets[p].rank + 1, subsets[head].rank\n",
    "        return subsets\n",
    "\n",
    "    def numIslands22(self, m, n, positions):\n",
    "        if len(positions) <= 1:\n",
    "            return [len(positions)]\n",
    "\n",
    "        # Initialization\n",
    "        island_subsets = collections.defaultdict(Subset)\n",
    "        island_count = []\n",
    "        curr_island = 0\n",
    "        # Iterate thru the positions array\n",
    "        for pos in positions:\n",
    "            curr = coordinate(pos[0], pos[1])\n",
    "            # New node\n",
    "            if curr not in island_subsets.keys():\n",
    "                neighbors = set()\n",
    "                for neigh in [coordinate(curr.r, curr.c - 1), coordinate(curr.r, curr.c + 1),\n",
    "                              coordinate(curr.r - 1, curr.c), coordinate(curr.r + 1, curr.c)]:\n",
    "                    if neigh in island_subsets.keys():\n",
    "                        # Find the node's parent and add it to neighbors set\n",
    "                        neighbors.add(self._findParent(island_subsets, neigh))\n",
    "\n",
    "                # No neighbors -> new island\n",
    "                if len(neighbors) == 0:\n",
    "                    curr_island += 1\n",
    "                    head = curr\n",
    "                else:\n",
    "                    curr_island -= (len(neighbors) - 1)\n",
    "                    # Set the largest tree as the parent\n",
    "                    head = max(neighbors)\n",
    "                    neighbors.remove(head)\n",
    "\n",
    "                    # Merge graph\n",
    "                    for p in neighbors:\n",
    "                        island_subsets = self._union(head, p, island_subsets)\n",
    "\n",
    "                # Add current node to the head and island subset\n",
    "                island_subsets[curr] = Subset(head, 0)\n",
    "                island_subsets = self._union(head, curr, island_subsets)\n",
    "\n",
    "            # Update island count\n",
    "            island_count.append(curr_island)\n",
    "\n",
    "        return island_count\n"
   ]
  }
 ],
 "metadata": {
  "kernelspec": {
   "display_name": "Python 3",
   "language": "python",
   "name": "python3"
  },
  "language_info": {
   "codemirror_mode": {
    "name": "ipython",
    "version": 3
   },
   "file_extension": ".py",
   "mimetype": "text/x-python",
   "name": "python",
   "nbconvert_exporter": "python",
   "pygments_lexer": "ipython3",
   "version": "3.7.3"
  }
 },
 "nbformat": 4,
 "nbformat_minor": 4
}
