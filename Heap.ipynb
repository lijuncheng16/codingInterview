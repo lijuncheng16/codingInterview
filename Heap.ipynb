{
 "cells": [
  {
   "cell_type": "raw",
   "metadata": {},
   "source": [
    "253\tMeeting Rooms II\n",
    "47.1%\tMedium\t\n",
    "295\t\n",
    "Find Median from Data Stream\t47.5%\tHard\t\n",
    "973\t\n",
    "K Closest Points to Origin\t64.7%\tMedium\t\n",
    "23\t\n",
    "Merge k Sorted Lists\t43.1%\tHard\t\n",
    "215\t\n",
    "Kth Largest Element in an Array\t58.9%\tMedium\t\n",
    "239\t\n",
    "Sliding Window Maximum\t44.8%\tHard\t\n",
    "759\t\n",
    "Employee Free Time\n",
    "68.5%\tHard\t\n",
    "347\t\n",
    "Top K Frequent Elements\t62.6%\tMedium\t\n",
    "767\t\n",
    "Reorganize String\t50.3%\tMedium\t\n",
    "692\t\n",
    "Top K Frequent Words\t53.3%\tMedium\t\n",
    "871\t\n",
    "Minimum Number of Refueling Stops\t32.5%\tHard\t\n",
    "218\t\n",
    "The Skyline Problem\t36.7%\tHard\t\n",
    "355\t\n",
    "Design Twitter\t31.7%\tMedium\t\n",
    "378\t\n",
    "Kth Smallest Element in a Sorted Matrix\t56.5%\tMedium\t\n",
    "373\t\n",
    "Find K Pairs with Smallest Sums\t38.0%\tMedium\t\n",
    "864\t\n",
    "Shortest Path to Get All Keys\t42.4%\tHard\t\n",
    "407\t\n",
    "Trapping Rain Water II\t44.6%\tHard\t\n",
    "787\t\n",
    "Cheapest Flights Within K Stops\t39.7%\tMedium\t\n",
    "1642\t\n",
    "Furthest Building You Can Reach\t49.9%\tMedium\t\n",
    "703\t\n",
    "Kth Largest Element in a Stream\t51.0%\tEasy\t\n",
    "451\t\n",
    "Sort Characters By Frequency\t64.7%\tMedium\t\n",
    "1675\t\n",
    "Minimize Deviation in Array\t48.2%\tHard\t\n",
    "743\t\n",
    "Network Delay Time\t45.8%\tMedium\t\n",
    "1673\t\n",
    "Find the Most Competitive Subsequence\t45.5%\tMedium\t\n",
    "857\t\n",
    "Minimum Cost to Hire K Workers\t50.5%\tHard\t\n",
    "659\t\n",
    "Split Array into Consecutive Subsequences\t44.5%\tMedium\t\n",
    "1046\t\n",
    "Last Stone Weight\t62.4%\tEasy\t\n",
    "264\t\n",
    "Ugly Number II\t43.0%\tMedium\t\n",
    "786\t\n",
    "K-th Smallest Prime Fraction\t43.4%\tHard\t\n",
    "1439\t\n",
    "Find the Kth Smallest Sum of a Matrix With Sorted Rows\t60.3%\tHard\t\n",
    "778\t\n",
    "Swim in Rising Water\t55.0%\tHard\t\n",
    "882\t\n",
    "Reachable Nodes In Subdivided Graph\t43.1%\tHard\t\n",
    "502\t\n",
    "IPO\t41.8%\tHard\t\n",
    "358\t\n",
    "Rearrange String k Distance Apart\n",
    "35.8%\tHard\t\n",
    "818\t\n",
    "Race Car\t40.4%\tHard\t\n",
    "1705\t\n",
    "Maximum Number of Eaten Apples\t41.9%\tMedium\t\n",
    "719\t\n",
    "Find K-th Smallest Pair Distance\t32.6%\tHard\t\n",
    "1760\t\n",
    "Minimum Limit of Balls in a Bag\t52.9%\tMedium\t\n",
    "313\t\n",
    "Super Ugly Number\t46.4%\tMedium\t\n",
    "1054\t\n",
    "Distant Barcodes\t44.3%\tMedium\t\n",
    "1801\t\n",
    "Number of Orders in the Backlog\t43.8%\tMedium\t\n",
    "1792\t\n",
    "Maximum Average Pass Ratio\t56.2%\tMedium\t\n"
   ]
  },
  {
   "cell_type": "markdown",
   "metadata": {},
   "source": [
    "Heapify Resources (Towardsdatascience)"
   ]
  },
  {
   "cell_type": "markdown",
   "metadata": {},
   "source": [
    "https://towardsdatascience.com/data-structure-heap-23d4c78a6962 https://www.youtube.com/watch?v=B7hVxCmfPtM"
   ]
  },
  {
   "cell_type": "markdown",
   "metadata": {},
   "source": [
    "# 253\tMeeting Rooms II\n",
    "Given an array of meeting time intervals intervals where intervals[i] = [starti, endi], return the minimum number of conference rooms required.\n",
    "Example 1:\n",
    "\n",
    "Input: intervals = [[0,30],[5,10],[15,20]]\n",
    "Output: 2\n",
    " "
   ]
  },
  {
   "cell_type": "markdown",
   "metadata": {},
   "source": [
    "- 2 pointers Intuitions: maxium number of overlapping meetings at any given point of time\n",
    "- heap explanation: https://www.youtube.com/watch?v=qx7Akat3xrM\n",
    "- heap intuition: minimum of the earliest end time of all the meetings --> when is the earliest ending meeting\n",
    "when using heap, it's always about keeping track of the minimum \n",
    "if ends before start, then pop\n",
    "if needs extra, push to the heap, the size of the heap is the meeting rooms needed in this case"
   ]
  },
  {
   "cell_type": "code",
   "execution_count": 17,
   "metadata": {},
   "outputs": [],
   "source": [
    "from typing import List\n",
    "import heapq"
   ]
  },
  {
   "cell_type": "code",
   "execution_count": 16,
   "metadata": {},
   "outputs": [],
   "source": [
    "intervals = [[0,30],[5,10],[15,20]]"
   ]
  },
  {
   "cell_type": "code",
   "execution_count": 19,
   "metadata": {},
   "outputs": [],
   "source": [
    "intervals = [[0,30],[5,10],[10,20]]"
   ]
  },
  {
   "cell_type": "code",
   "execution_count": 23,
   "metadata": {},
   "outputs": [],
   "source": [
    "def minMeetingRooms(intervals: List[List[int]]) -> int:\n",
    "    #error checking\n",
    "    if not intervals:\n",
    "        return 0\n",
    "    \n",
    "#     intervals = sorted(intervals)\n",
    "    intervals.sort(key= lambda interval: interval[0])# O(nlogn)\n",
    "    print(intervals)\n",
    "    # create heap intervals\n",
    "    used_rms = []\n",
    "    heapq.heappush(used_rms, intervals[0][1])\n",
    "    \n",
    "    # alternative way to create heap\n",
    "    used_rms = [intervals[0][1]]\n",
    "    heapq.heapify(used_rms) # O(1) space in place, O(n) linear time\n",
    "    print(f'initialize used rooms: {used_rms}')\n",
    "    # iterate through all intervals\n",
    "    for interval in intervals[1:]: # starting from the second one \n",
    "        # if overlap:\n",
    "        if interval[0] < used_rms[0]:\n",
    "            heapq.\n",
    "        # else:\n",
    "        \n",
    "        #new meeting start time later than latest time in the min heap, pop to assign room to the meeting\n",
    "        if used_rms[0] <= interval[0]:\n",
    "            heapq.heappop(used_rms)\n",
    "            print(f'got a free room{used_rms}')\n",
    "        \n",
    "        heapq.heappush(used_rms, interval[1])\n",
    "        print(used_rms,3)\n",
    "\n",
    "    return len(used_rms)"
   ]
  },
  {
   "cell_type": "code",
   "execution_count": 14,
   "metadata": {},
   "outputs": [],
   "source": [
    "# two pointer solution (not using heap)\n",
    "# Intuitions: maxium number of overlapping meetings at any given point of time\n",
    "def minMeetingRooms(intervals: List[List[int]]) -> int:\n",
    "    start = sorted([i[0] for i in intervals]) #O(nlogn)\n",
    "    end = sorted([i[1] for i in intervals])\n",
    "    \n",
    "    res, count = 0, 0\n",
    "    #2 pointers\n",
    "    s, e = 0, 0\n",
    "    while s < len(intervals):\n",
    "        if start[s] < end[e]:\n",
    "            count +=1\n",
    "            s+=1\n",
    "        else: #stop the meeting before the next one could start\n",
    "            e += 1\n",
    "            count-=1\n",
    "        res = max(count, res)\n",
    "    return(res)"
   ]
  },
  {
   "cell_type": "code",
   "execution_count": 24,
   "metadata": {},
   "outputs": [
    {
     "name": "stdout",
     "output_type": "stream",
     "text": [
      "[[0, 30], [5, 10], [10, 20]]\n",
      "initialize used rooms: [30]\n",
      "[10, 30] 3\n",
      "got a free room[30]\n",
      "[20, 30] 3\n"
     ]
    },
    {
     "data": {
      "text/plain": [
       "2"
      ]
     },
     "execution_count": 24,
     "metadata": {},
     "output_type": "execute_result"
    }
   ],
   "source": [
    "minMeetingRooms(intervals)"
   ]
  },
  {
   "cell_type": "markdown",
   "metadata": {},
   "source": [
    "https://sisyphus.gitbook.io/project/python-notes/python-priority-queue-heapq"
   ]
  },
  {
   "cell_type": "markdown",
   "metadata": {},
   "source": [
    "# 703. Kth Largest Element in a Stream\n"
   ]
  },
  {
   "cell_type": "code",
   "execution_count": 25,
   "metadata": {},
   "outputs": [
    {
     "ename": "SyntaxError",
     "evalue": "invalid syntax (<ipython-input-25-98082d973b2f>, line 1)",
     "output_type": "error",
     "traceback": [
      "\u001b[0;36m  File \u001b[0;32m\"<ipython-input-25-98082d973b2f>\"\u001b[0;36m, line \u001b[0;32m1\u001b[0m\n\u001b[0;31m    Design a class to find the kth largest element in a stream. Note that it is the kth largest element in the sorted order, not the kth distinct element.\u001b[0m\n\u001b[0m           ^\u001b[0m\n\u001b[0;31mSyntaxError\u001b[0m\u001b[0;31m:\u001b[0m invalid syntax\n"
     ]
    }
   ],
   "source": [
    "Design a class to find the kth largest element in a stream. Note that it is the kth largest element in the sorted order, not the kth distinct element.\n",
    "\n",
    "Implement KthLargest class:\n",
    "\n",
    "KthLargest(int k, int[] nums) Initializes the object with the integer k and the stream of integers nums.\n",
    "int add(int val) Appends the integer val to the stream and returns the element representing the kth largest element in the stream."
   ]
  },
  {
   "cell_type": "code",
   "execution_count": null,
   "metadata": {},
   "outputs": [],
   "source": [
    "\n",
    "def __init__(self, k, nums):\n",
    "    \"\"\"\n",
    "    :type k: int\n",
    "    :type nums: List[int]\n",
    "    \"\"\"\n",
    "    self.k = k\n",
    "    self.nums = nums\n",
    "    heapq.heapify(self.nums)\n",
    "    self.nums = heapq.nlargest(self.k, self.nums)\n",
    "\n",
    "def add(self, val):\n",
    "    \"\"\"\n",
    "    :type val: int\n",
    "    :rtype: int\n",
    "    \"\"\"\n",
    "    heapq.heappush(self.nums, val)\n",
    "    kth = heapq.nlargest(self.k, self.nums)[-1]\n",
    "    return kth\n"
   ]
  },
  {
   "cell_type": "code",
   "execution_count": 30,
   "metadata": {},
   "outputs": [],
   "source": [
    "class KthLargest(object):\n",
    "\n",
    "    def __init__(self, k, nums):\n",
    "        \"\"\"\n",
    "        :type k: int\n",
    "        :type nums: List[int]\n",
    "        \"\"\"\n",
    "        self.k = k\n",
    "        self.heap = nums\n",
    "        heapq.heapify(self.heap)\n",
    "\n",
    "        while len(self.heap) > k:\n",
    "            heapq.heappop(self.heap)\n",
    "        print(self.heap)\n",
    "\n",
    "    def add(self, val):\n",
    "        \"\"\"\n",
    "        :type val: int\n",
    "        :rtype: int\n",
    "        \"\"\"\n",
    "        heapq.heappush(self.heap, val)\n",
    "        if len(self.heap) > self.k:\n",
    "            heapq.heappop(self.heap)\n",
    "        return self.heap[0]\n"
   ]
  },
  {
   "cell_type": "code",
   "execution_count": 31,
   "metadata": {},
   "outputs": [],
   "source": [
    "# Your KthLargest object will be instantiated and called as such:\n",
    "# obj = KthLargest(k, nums)\n",
    "# param_1 = obj.add(val)"
   ]
  },
  {
   "cell_type": "code",
   "execution_count": 35,
   "metadata": {},
   "outputs": [
    {
     "name": "stdout",
     "output_type": "stream",
     "text": [
      "[4, 5, 8]\n",
      "<__main__.KthLargest object at 0x7fa3980555f8>\n"
     ]
    }
   ],
   "source": [
    "k = 3\n",
    "nums = [4, 5, 8, 2]\n",
    "obj = KthLargest(k, nums)\n",
    "print(obj)"
   ]
  },
  {
   "cell_type": "code",
   "execution_count": 41,
   "metadata": {},
   "outputs": [
    {
     "name": "stdout",
     "output_type": "stream",
     "text": [
      "4\n",
      "5\n",
      "5\n",
      "8\n"
     ]
    }
   ],
   "source": [
    "print(obj.add(3))\n",
    "print(obj.add(5))\n",
    "print(obj.add(10))\n",
    "print(obj.add(9))"
   ]
  },
  {
   "cell_type": "markdown",
   "metadata": {},
   "source": [
    "# 215. Kth Largest Element in an Array\n"
   ]
  },
  {
   "cell_type": "markdown",
   "metadata": {},
   "source": [
    "Given an integer array nums and an integer k, return the kth largest element in the array.\n",
    "\n",
    "Note that it is the kth largest element in the sorted order, not the kth distinct element."
   ]
  },
  {
   "cell_type": "code",
   "execution_count": 45,
   "metadata": {},
   "outputs": [],
   "source": [
    "nums = [3,2,1,5,6,4]\n",
    "k = 2\n",
    "#5"
   ]
  },
  {
   "cell_type": "code",
   "execution_count": 53,
   "metadata": {},
   "outputs": [],
   "source": [
    "nums = [3,2,3,1,2,4,5,5,6]\n",
    "k = 4\n",
    "#4"
   ]
  },
  {
   "cell_type": "code",
   "execution_count": 51,
   "metadata": {},
   "outputs": [],
   "source": [
    "def findKthLargest(nums, k):\n",
    "        \"\"\"\n",
    "        :type nums: List[int]\n",
    "        :type k: int\n",
    "        :rtype: int\n",
    "        \"\"\"\n",
    "        heapq.heapify(nums)\n",
    "        print(nums)\n",
    "        while len(nums)>k:\n",
    "            heapq.heappop(nums)\n",
    "        return nums[0]"
   ]
  },
  {
   "cell_type": "code",
   "execution_count": 54,
   "metadata": {},
   "outputs": [
    {
     "name": "stdout",
     "output_type": "stream",
     "text": [
      "[1, 2, 3, 2, 3, 4, 5, 5, 6]\n"
     ]
    },
    {
     "data": {
      "text/plain": [
       "4"
      ]
     },
     "execution_count": 54,
     "metadata": {},
     "output_type": "execute_result"
    }
   ],
   "source": [
    "findKthLargest(nums,k)"
   ]
  },
  {
   "cell_type": "markdown",
   "metadata": {},
   "source": [
    "# 378. Kth Smallest Element in a Sorted Matrix\n"
   ]
  },
  {
   "cell_type": "raw",
   "metadata": {},
   "source": [
    "Given an n x n matrix where each of the rows and columns are sorted in ascending order, return the kth smallest element in the matrix.\n",
    "\n",
    "Note that it is the kth smallest element in the sorted order, not the kth distinct element."
   ]
  },
  {
   "cell_type": "code",
   "execution_count": 3,
   "metadata": {},
   "outputs": [],
   "source": [
    "matrix = [[1,5,9],[10,11,13],[12,13,15]]\n",
    "k = 8\n"
   ]
  },
  {
   "cell_type": "code",
   "execution_count": 76,
   "metadata": {},
   "outputs": [],
   "source": [
    "def kthSmallest(matrix, k):\n",
    "    \"\"\"\n",
    "    :type matrix: List[List[int]]\n",
    "    :type k: int\n",
    "    :rtype: int\n",
    "    \"\"\"\n",
    "    n = len(matrix)\n",
    "    if k <= n:\n",
    "        return matrix[0][k]\n",
    "    else:\n",
    "        row_num = k//n\n",
    "        rest_step = k%n\n",
    "        target_heap = matrix[row_num-1]\n",
    "        heapq.heapify(target_heap)\n",
    "        print(target_heap)\n",
    "        for i in range(rest_step):\n",
    "            heapq.heappushpop(target_heap,matrix[row_num][i])\n",
    "        print(target_heap)\n",
    "        while len(target_heap)>rest_step:\n",
    "            heapq.heappop(target_heap)\n",
    "        print(target_heap[0])"
   ]
  },
  {
   "cell_type": "raw",
   "metadata": {},
   "source": [
    "https://leetcode.com/problems/kth-smallest-element-in-a-sorted-matrix/discuss/85193/Binary-Search-Heap-and-Sorting-comparison-with-concise-code-and-1-liners-Python-72-ms"
   ]
  },
  {
   "cell_type": "code",
   "execution_count": 12,
   "metadata": {},
   "outputs": [],
   "source": [
    "def kthSmallest(matrix, k):\n",
    "        heap = [(row[0], i, 0) for i, row in enumerate(matrix)]\n",
    "        heapq.heapify(heap)\n",
    "#         print(heap)\n",
    "        ret = 0\n",
    "        for _ in range(k):\n",
    "            ret, i, j = heapq.heappop(heap)\n",
    "#             print(ret, i,j)\n",
    "            if j+1 < len(matrix[0]):\n",
    "                heapq.heappush(heap, (matrix[i][j+1], i, j+1))\n",
    "        return ret"
   ]
  },
  {
   "cell_type": "code",
   "execution_count": 10,
   "metadata": {},
   "outputs": [],
   "source": [
    "def kthSmallest(matrix, k):\n",
    "        result, heap = None, []\n",
    "        heapq.heappush(heap, (matrix[0][0], 0, 0))\n",
    "        while k > 0:\n",
    "            result, i, j = heapq.heappop(heap)\n",
    "            if i == 0 and j + 1 < len(matrix):\n",
    "                heapq.heappush(heap, (matrix[i][j + 1], i, j + 1))\n",
    "            if i + 1 < len(matrix):\n",
    "                heapq.heappush(heap, (matrix[i + 1][j], i + 1, j))\n",
    "            k -= 1\n",
    "        return result"
   ]
  },
  {
   "cell_type": "markdown",
   "metadata": {},
   "source": [
    "Since the matrix is sorted, we do not need to put all the elements in heap at one time. We can simply pop and put for k times. By observation, if we look at the matrix diagonally, we can tell that if we do not pop matrix[i][j], we do not need to put on matrix[i][j + 1] and matrix[i + 1][j] since they are bigger.\n",
    "\n",
    "e.g., given the matrix below:\n",
    "1 2 4\n",
    "3 5 7\n",
    "6 8 9\n",
    "We put 1 first, then pop 1 and put 2 and 3, then pop 2 and put 4 and 5, then pop 3 and put 6..."
   ]
  },
  {
   "cell_type": "code",
   "execution_count": 13,
   "metadata": {},
   "outputs": [
    {
     "name": "stdout",
     "output_type": "stream",
     "text": [
      "CPU times: user 16 µs, sys: 1 µs, total: 17 µs\n",
      "Wall time: 19.8 µs\n"
     ]
    },
    {
     "data": {
      "text/plain": [
       "13"
      ]
     },
     "execution_count": 13,
     "metadata": {},
     "output_type": "execute_result"
    }
   ],
   "source": [
    "time(kthSmallest(matrix,k))"
   ]
  },
  {
   "cell_type": "markdown",
   "metadata": {},
   "source": [
    "# 347. Top K Frequent Elements\n"
   ]
  },
  {
   "cell_type": "markdown",
   "metadata": {},
   "source": [
    "Given an integer array nums and an integer k, return the k most frequent elements. You may return the answer in any order.\n",
    "Follow up: Your algorithm's time complexity must be better than O(n log n), where n is the array's size.\n"
   ]
  },
  {
   "cell_type": "code",
   "execution_count": 46,
   "metadata": {},
   "outputs": [],
   "source": [
    "nums = [1,1,1,1,2,2,3]\n",
    "k = 2\n",
    "#[1,2]"
   ]
  },
  {
   "cell_type": "code",
   "execution_count": 33,
   "metadata": {},
   "outputs": [],
   "source": [
    "nums = [1]\n",
    "k = 1"
   ]
  },
  {
   "cell_type": "code",
   "execution_count": 63,
   "metadata": {},
   "outputs": [],
   "source": [
    "def topKFrequent(nums: List[int], k: int) -> List[int]:\n",
    "        dic = {}\n",
    "        for num in nums:\n",
    "            if num in dic:\n",
    "                dic[num] +=1\n",
    "            else:\n",
    "                dic[num] =1\n",
    "        print(sorted(dic, key=dic.get)[-k:])"
   ]
  },
  {
   "cell_type": "code",
   "execution_count": 68,
   "metadata": {},
   "outputs": [
    {
     "data": {
      "text/plain": [
       "[1, 2]"
      ]
     },
     "execution_count": 68,
     "metadata": {},
     "output_type": "execute_result"
    }
   ],
   "source": [
    "topKFrequent(nums, k)"
   ]
  },
  {
   "cell_type": "code",
   "execution_count": 67,
   "metadata": {},
   "outputs": [],
   "source": [
    "from collections import Counter\n",
    "def topKFrequent(nums: List[int], k: int) -> List[int]:\n",
    "    # O(1) time \n",
    "    if k == len(nums):\n",
    "        return nums\n",
    "\n",
    "    # 1. build hash map : character and how often it appears\n",
    "    # O(N) time\n",
    "    count = Counter(nums)   \n",
    "    # 2-3. build heap of top k frequent elements and\n",
    "    # convert it into an output array\n",
    "    # O(N log k) time\n",
    "    return heapq.nlargest(k, count.keys(), key=count.get) "
   ]
  },
  {
   "cell_type": "markdown",
   "metadata": {},
   "source": [
    "# 692. Top K Frequent Words\n"
   ]
  },
  {
   "cell_type": "markdown",
   "metadata": {},
   "source": [
    "Given an array of strings words and an integer k, return the k most frequent strings.\n",
    "\n",
    "Return the answer sorted by the frequency from highest to lowest. Sort the words with the same frequency by their lexicographical order.\n",
    "\n",
    " "
   ]
  },
  {
   "cell_type": "raw",
   "metadata": {},
   "source": [
    "Input: words = [\"i\",\"love\",\"leetcode\",\"i\",\"love\",\"coding\"], k = 2\n",
    "Output: [\"i\",\"love\"]\n",
    "Explanation: \"i\" and \"love\" are the two most frequent words.\n",
    "Note that \"i\" comes before \"love\" due to a lower alphabetical order.\n",
    "Example 2:\n",
    "\n",
    "Input: words = [\"the\",\"day\",\"is\",\"sunny\",\"the\",\"the\",\"the\",\"sunny\",\"is\",\"is\"], k = 4\n",
    "Output: [\"the\",\"is\",\"sunny\",\"day\"]\n",
    "Explanation: \"the\", \"is\", \"sunny\" and \"day\" are the four most frequent words, with the number of occurrence being 4, 3, 2 and 1 respectively.\n"
   ]
  },
  {
   "cell_type": "code",
   "execution_count": 152,
   "metadata": {},
   "outputs": [],
   "source": [
    "words = [\"the\",\"day\",\"is\",\"sunny\",\"the\",\"the\",\"the\",\"sunny\",\"is\",\"is\",\"is\"]\n",
    "k = 4"
   ]
  },
  {
   "cell_type": "code",
   "execution_count": 149,
   "metadata": {},
   "outputs": [],
   "source": [
    "words = [\"i\",\"love\",\"leetcode\",\"i\",\"love\",\"coding\"]\n",
    "k = 2"
   ]
  },
  {
   "cell_type": "code",
   "execution_count": 144,
   "metadata": {},
   "outputs": [],
   "source": [
    "\n",
    "words = [\"aaa\",\"aa\",\"a\"]\n",
    "k = 3"
   ]
  },
  {
   "cell_type": "code",
   "execution_count": 157,
   "metadata": {},
   "outputs": [],
   "source": [
    "def topKFrequent(words: List[str], k: int) -> List[str]:\n",
    "#     if k == len(words):\n",
    "#         return words\n",
    "    count = Counter(words)\n",
    "    print(count)\n",
    "    hp = []\n",
    "    for e in count:\n",
    "        print(e)\n",
    "        hp.append([-count[e], e])\n",
    "    heapq.heapify(hp)\n",
    "    print(hp)\n",
    "    new = []\n",
    "    for _ in range(k):\n",
    "        y = heapq.heappop(hp)\n",
    "        new.append(y[1])\n",
    "    return new\n",
    "#     return(sorted(count, key=count.get)[-k:])\n",
    "#     heapq.heapify(count)\n",
    "#     print(count)\n",
    "#     return heapq.nlargest(k, count.keys(), key=count.get)"
   ]
  },
  {
   "cell_type": "code",
   "execution_count": 155,
   "metadata": {},
   "outputs": [],
   "source": [
    "def topKFrequent(words: List[str], k: int) -> List[str]:\n",
    "    dict = {}\n",
    "    for x in words:\n",
    "        if x in dict:\n",
    "            dict[x] += 1\n",
    "        else:\n",
    "            dict[x] = 1\n",
    "    res = sorted(dict, key=lambda x: (-dict[x], x))\n",
    "    return res[:k]"
   ]
  },
  {
   "cell_type": "code",
   "execution_count": 158,
   "metadata": {},
   "outputs": [
    {
     "name": "stdout",
     "output_type": "stream",
     "text": [
      "Counter({'the': 4, 'is': 4, 'sunny': 2, 'day': 1})\n",
      "the\n",
      "day\n",
      "is\n",
      "sunny\n",
      "[[-4, 'is'], [-2, 'sunny'], [-4, 'the'], [-1, 'day']]\n"
     ]
    },
    {
     "data": {
      "text/plain": [
       "['is', 'the', 'sunny', 'day']"
      ]
     },
     "execution_count": 158,
     "metadata": {},
     "output_type": "execute_result"
    }
   ],
   "source": [
    "topKFrequent(words,k)"
   ]
  },
  {
   "cell_type": "markdown",
   "metadata": {},
   "source": [
    "# 295. Find Median from Data Stream\n"
   ]
  },
  {
   "cell_type": "raw",
   "metadata": {},
   "source": [
    "The median is the middle value in an ordered integer list. If the size of the list is even, there is no middle value and the median is the mean of the two middle values.\n",
    "\n",
    "For example, for arr = [2,3,4], the median is 3.\n",
    "For example, for arr = [2,3], the median is (2 + 3) / 2 = 2.5.\n",
    "Implement the MedianFinder class:\n",
    "\n",
    "MedianFinder() initializes the MedianFinder object.\n",
    "void addNum(int num) adds the integer num from the data stream to the data structure.\n",
    "double findMedian() returns the median of all elements so far. Answers within 10-5 of the actual answer will be accepted.\n"
   ]
  },
  {
   "cell_type": "code",
   "execution_count": 28,
   "metadata": {},
   "outputs": [],
   "source": [
    "class MedianFinder:\n",
    "\n",
    "    def __init__(self):\n",
    "        \"\"\"\n",
    "        initialize your data structure here.\n",
    "        \"\"\"\n",
    "        self.heaps = [], []\n",
    "        \n",
    "    def addNum(self, num: int) -> None:\n",
    "        small, large = self.heaps\n",
    "        print('start:', small, large)\n",
    "        heapq.heappush(small, -heapq.heappushpop(large, num))\n",
    "        print('1st step:', small, large)\n",
    "\n",
    "        if len(large) < len(small):\n",
    "            heapq.heappush(large, -heapq.heappop(small))\n",
    "        print('ending:', small, large)\n",
    "\n",
    "    def findMedian(self) -> float:\n",
    "        small, large = self.heaps\n",
    "        if len(large) > len(small):\n",
    "            print(float(large[0]))\n",
    "            return float(large[0])\n",
    "        print((large[0] - small[0]) / 2.0)\n",
    "        return (large[0] - small[0]) / 2.0\n",
    "\n",
    "# Your MedianFinder object will be instantiated and called as such:\n",
    "# obj = MedianFinder()\n",
    "# obj.addNum(num)\n",
    "# param_2 = obj.findMedian()"
   ]
  },
  {
   "cell_type": "code",
   "execution_count": 29,
   "metadata": {},
   "outputs": [],
   "source": [
    "medianFinder = MedianFinder();\n"
   ]
  },
  {
   "cell_type": "code",
   "execution_count": 30,
   "metadata": {},
   "outputs": [
    {
     "name": "stdout",
     "output_type": "stream",
     "text": [
      "start: [] []\n",
      "1st step: [-1] []\n",
      "ending: [] [1]\n",
      "1.0\n",
      "start: [] [1]\n",
      "1st step: [-1] [2]\n",
      "ending: [-1] [2]\n",
      "1.5\n",
      "start: [-1] [2]\n",
      "1st step: [-2, -1] [3]\n",
      "ending: [-1] [2, 3]\n",
      "2.0\n"
     ]
    }
   ],
   "source": [
    "medianFinder.addNum(1);    \n",
    "# // arr = [1]\n",
    "medianFinder.findMedian(); \n",
    "\n",
    "medianFinder.addNum(2);\n",
    "medianFinder.findMedian(); \n",
    "# // return 1.5 (i.e., (1 + 2) / 2)\n",
    "medianFinder.addNum(3);   \n",
    "# // arr[1, 2, 3]\n",
    "medianFinder.findMedian();"
   ]
  },
  {
   "cell_type": "code",
   "execution_count": null,
   "metadata": {},
   "outputs": [],
   "source": []
  },
  {
   "cell_type": "code",
   "execution_count": null,
   "metadata": {},
   "outputs": [],
   "source": []
  },
  {
   "cell_type": "code",
   "execution_count": null,
   "metadata": {},
   "outputs": [],
   "source": []
  }
 ],
 "metadata": {
  "kernelspec": {
   "display_name": "Python 3",
   "language": "python",
   "name": "python3"
  },
  "language_info": {
   "codemirror_mode": {
    "name": "ipython",
    "version": 3
   },
   "file_extension": ".py",
   "mimetype": "text/x-python",
   "name": "python",
   "nbconvert_exporter": "python",
   "pygments_lexer": "ipython3",
   "version": "3.7.4"
  }
 },
 "nbformat": 4,
 "nbformat_minor": 4
}
