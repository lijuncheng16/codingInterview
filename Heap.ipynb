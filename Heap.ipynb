{
 "cells": [
  {
   "cell_type": "markdown",
   "metadata": {},
   "source": [
    "Heapify Resources (Towardsdatascience)"
   ]
  },
  {
   "cell_type": "markdown",
   "metadata": {},
   "source": [
    "https://towardsdatascience.com/data-structure-heap-23d4c78a6962 https://www.youtube.com/watch?v=B7hVxCmfPtM"
   ]
  },
  {
   "cell_type": "markdown",
   "metadata": {},
   "source": [
    "# 253\tMeeting Rooms II\n",
    "Given an array of meeting time intervals intervals where intervals[i] = [starti, endi], return the minimum number of conference rooms required.\n",
    "Example 1:\n",
    "\n",
    "Input: intervals = [[0,30],[5,10],[15,20]]\n",
    "Output: 2\n",
    " "
   ]
  },
  {
   "cell_type": "markdown",
   "metadata": {},
   "source": [
    "- 2 pointers Intuitions: maxium number of overlapping meetings at any given point of time\n",
    "- heap explanation: https://www.youtube.com/watch?v=qx7Akat3xrM\n",
    "- heap intuition: minimum of the earliest end time of all the meetings --> when is the earliest ending meeting\n",
    "when using heap, it's always about keeping track of the minimum \n",
    "if ends before start, then pop\n",
    "if needs extra, push to the heap, the size of the heap is the meeting rooms needed in this case"
   ]
  },
  {
   "cell_type": "code",
   "execution_count": 7,
   "metadata": {},
   "outputs": [],
   "source": [
    "from typing import List\n",
    "import heapq"
   ]
  },
  {
   "cell_type": "code",
   "execution_count": 16,
   "metadata": {},
   "outputs": [],
   "source": [
    "intervals = [[0,30],[5,10],[15,20]]"
   ]
  },
  {
   "cell_type": "code",
   "execution_count": 19,
   "metadata": {},
   "outputs": [],
   "source": [
    "intervals = [[0,30],[5,10],[10,20]]"
   ]
  },
  {
   "cell_type": "code",
   "execution_count": 23,
   "metadata": {},
   "outputs": [],
   "source": [
    "def minMeetingRooms(intervals: List[List[int]]) -> int:\n",
    "    #error checking\n",
    "    if not intervals:\n",
    "        return 0\n",
    "    \n",
    "#     intervals = sorted(intervals)\n",
    "    intervals.sort(key= lambda interval: interval[0])# O(nlogn)\n",
    "    print(intervals)\n",
    "    # create heap intervals\n",
    "    used_rms = []\n",
    "    heapq.heappush(used_rms, intervals[0][1])\n",
    "    \n",
    "    # alternative way to create heap\n",
    "    used_rms = [intervals[0][1]]\n",
    "    heapq.heapify(used_rms) # O(1) space in place, O(n) linear time\n",
    "    print(f'initialize used rooms: {used_rms}')\n",
    "    # iterate through all intervals\n",
    "    for interval in intervals[1:]: # starting from the second one \n",
    "        # if overlap:\n",
    "        if interval[0] < used_rms[0]:\n",
    "            heapq.\n",
    "        # else:\n",
    "        \n",
    "        #new meeting start time later than latest time in the min heap, pop to assign room to the meeting\n",
    "        if used_rms[0] <= interval[0]:\n",
    "            heapq.heappop(used_rms)\n",
    "            print(f'got a free room{used_rms}')\n",
    "        \n",
    "        heapq.heappush(used_rms, interval[1])\n",
    "        print(used_rms,3)\n",
    "\n",
    "    return len(used_rms)"
   ]
  },
  {
   "cell_type": "code",
   "execution_count": 14,
   "metadata": {},
   "outputs": [],
   "source": [
    "# two pointer solution (not using heap)\n",
    "# Intuitions: maxium number of overlapping meetings at any given point of time\n",
    "def minMeetingRooms(intervals: List[List[int]]) -> int:\n",
    "    start = sorted([i[0] for i in intervals]) #O(nlogn)\n",
    "    end = sorted([i[1] for i in intervals])\n",
    "    \n",
    "    res, count = 0, 0\n",
    "    #2 pointers\n",
    "    s, e = 0, 0\n",
    "    while s < len(intervals):\n",
    "        if start[s] < end[e]:\n",
    "            count +=1\n",
    "            s+=1\n",
    "        else: #stop the meeting before the next one could start\n",
    "            e += 1\n",
    "            count-=1\n",
    "        res = max(count, res)\n",
    "    return(res)"
   ]
  },
  {
   "cell_type": "code",
   "execution_count": 24,
   "metadata": {},
   "outputs": [
    {
     "name": "stdout",
     "output_type": "stream",
     "text": [
      "[[0, 30], [5, 10], [10, 20]]\n",
      "initialize used rooms: [30]\n",
      "[10, 30] 3\n",
      "got a free room[30]\n",
      "[20, 30] 3\n"
     ]
    },
    {
     "data": {
      "text/plain": [
       "2"
      ]
     },
     "execution_count": 24,
     "metadata": {},
     "output_type": "execute_result"
    }
   ],
   "source": [
    "minMeetingRooms(intervals)"
   ]
  },
  {
   "cell_type": "markdown",
   "metadata": {},
   "source": [
    "https://sisyphus.gitbook.io/project/python-notes/python-priority-queue-heapq"
   ]
  },
  {
   "cell_type": "markdown",
   "metadata": {},
   "source": [
    "# 703. Kth Largest Element in a Stream\n"
   ]
  },
  {
   "cell_type": "code",
   "execution_count": null,
   "metadata": {},
   "outputs": [],
   "source": [
    "Design a class to find the kth largest element in a stream. Note that it is the kth largest element in the sorted order, not the kth distinct element.\n",
    "\n",
    "Implement KthLargest class:\n",
    "\n",
    "KthLargest(int k, int[] nums) Initializes the object with the integer k and the stream of integers nums.\n",
    "int add(int val) Appends the integer val to the stream and returns the element representing the kth largest element in the stream."
   ]
  },
  {
   "cell_type": "code",
   "execution_count": null,
   "metadata": {},
   "outputs": [],
   "source": [
    "\n",
    "def __init__(self, k, nums):\n",
    "    \"\"\"\n",
    "    :type k: int\n",
    "    :type nums: List[int]\n",
    "    \"\"\"\n",
    "    self.k = k\n",
    "    self.nums = nums\n",
    "    heapq.heapify(self.nums)\n",
    "    self.nums = heapq.nlargest(self.k, self.nums)\n",
    "\n",
    "def add(self, val):\n",
    "    \"\"\"\n",
    "    :type val: int\n",
    "    :rtype: int\n",
    "    \"\"\"\n",
    "    heapq.heappush(self.nums, val)\n",
    "    kth = heapq.nlargest(self.k, self.nums)[-1]\n",
    "    return kth\n"
   ]
  },
  {
   "cell_type": "code",
   "execution_count": 30,
   "metadata": {},
   "outputs": [],
   "source": [
    "class KthLargest(object):\n",
    "\n",
    "    def __init__(self, k, nums):\n",
    "        \"\"\"\n",
    "        :type k: int\n",
    "        :type nums: List[int]\n",
    "        \"\"\"\n",
    "        self.k = k\n",
    "        self.heap = nums\n",
    "        heapq.heapify(self.heap)\n",
    "\n",
    "        while len(self.heap) > k:\n",
    "            heapq.heappop(self.heap)\n",
    "        print(self.heap)\n",
    "\n",
    "    def add(self, val):\n",
    "        \"\"\"\n",
    "        :type val: int\n",
    "        :rtype: int\n",
    "        \"\"\"\n",
    "        heapq.heappush(self.heap, val)\n",
    "        if len(self.heap) > self.k:\n",
    "            heapq.heappop(self.heap)\n",
    "        return self.heap[0]\n"
   ]
  },
  {
   "cell_type": "code",
   "execution_count": 31,
   "metadata": {},
   "outputs": [],
   "source": [
    "# Your KthLargest object will be instantiated and called as such:\n",
    "# obj = KthLargest(k, nums)\n",
    "# param_1 = obj.add(val)"
   ]
  },
  {
   "cell_type": "code",
   "execution_count": 35,
   "metadata": {},
   "outputs": [
    {
     "name": "stdout",
     "output_type": "stream",
     "text": [
      "[4, 5, 8]\n",
      "<__main__.KthLargest object at 0x7fa3980555f8>\n"
     ]
    }
   ],
   "source": [
    "k = 3\n",
    "nums = [4, 5, 8, 2]\n",
    "obj = KthLargest(k, nums)\n",
    "print(obj)"
   ]
  },
  {
   "cell_type": "code",
   "execution_count": 41,
   "metadata": {},
   "outputs": [
    {
     "name": "stdout",
     "output_type": "stream",
     "text": [
      "4\n",
      "5\n",
      "5\n",
      "8\n"
     ]
    }
   ],
   "source": [
    "print(obj.add(3))\n",
    "print(obj.add(5))\n",
    "print(obj.add(10))\n",
    "print(obj.add(9))"
   ]
  },
  {
   "cell_type": "markdown",
   "metadata": {},
   "source": [
    "# 215. Kth Largest Element in an Array\n"
   ]
  },
  {
   "cell_type": "markdown",
   "metadata": {},
   "source": [
    "Given an integer array nums and an integer k, return the kth largest element in the array.\n",
    "\n",
    "Note that it is the kth largest element in the sorted order, not the kth distinct element."
   ]
  },
  {
   "cell_type": "code",
   "execution_count": 45,
   "metadata": {},
   "outputs": [],
   "source": [
    "nums = [3,2,1,5,6,4]\n",
    "k = 2\n",
    "#5"
   ]
  },
  {
   "cell_type": "code",
   "execution_count": 53,
   "metadata": {},
   "outputs": [],
   "source": [
    "nums = [3,2,3,1,2,4,5,5,6]\n",
    "k = 4\n",
    "#4"
   ]
  },
  {
   "cell_type": "code",
   "execution_count": 51,
   "metadata": {},
   "outputs": [],
   "source": [
    "def findKthLargest(nums, k):\n",
    "        \"\"\"\n",
    "        :type nums: List[int]\n",
    "        :type k: int\n",
    "        :rtype: int\n",
    "        \"\"\"\n",
    "        heapq.heapify(nums)\n",
    "        print(nums)\n",
    "        while len(nums)>k:\n",
    "            heapq.heappop(nums)\n",
    "        return nums[0]"
   ]
  },
  {
   "cell_type": "code",
   "execution_count": 54,
   "metadata": {},
   "outputs": [
    {
     "name": "stdout",
     "output_type": "stream",
     "text": [
      "[1, 2, 3, 2, 3, 4, 5, 5, 6]\n"
     ]
    },
    {
     "data": {
      "text/plain": [
       "4"
      ]
     },
     "execution_count": 54,
     "metadata": {},
     "output_type": "execute_result"
    }
   ],
   "source": [
    "findKthLargest(nums,k)"
   ]
  },
  {
   "cell_type": "markdown",
   "metadata": {},
   "source": [
    "# 378. Kth Smallest Element in a Sorted Matrix\n"
   ]
  },
  {
   "cell_type": "raw",
   "metadata": {},
   "source": [
    "Given an n x n matrix where each of the rows and columns are sorted in ascending order, return the kth smallest element in the matrix.\n",
    "\n",
    "Note that it is the kth smallest element in the sorted order, not the kth distinct element."
   ]
  },
  {
   "cell_type": "code",
   "execution_count": 3,
   "metadata": {},
   "outputs": [],
   "source": [
    "matrix = [[1,5,9],[10,11,13],[12,13,15]]\n",
    "k = 8\n"
   ]
  },
  {
   "cell_type": "code",
   "execution_count": 76,
   "metadata": {},
   "outputs": [],
   "source": [
    "def kthSmallest(matrix, k):\n",
    "    \"\"\"\n",
    "    :type matrix: List[List[int]]\n",
    "    :type k: int\n",
    "    :rtype: int\n",
    "    \"\"\"\n",
    "    n = len(matrix)\n",
    "    if k <= n:\n",
    "        return matrix[0][k]\n",
    "    else:\n",
    "        row_num = k//n\n",
    "        rest_step = k%n\n",
    "        target_heap = matrix[row_num-1]\n",
    "        heapq.heapify(target_heap)\n",
    "        print(target_heap)\n",
    "        for i in range(rest_step):\n",
    "            heapq.heappushpop(target_heap,matrix[row_num][i])\n",
    "        print(target_heap)\n",
    "        while len(target_heap)>rest_step:\n",
    "            heapq.heappop(target_heap)\n",
    "        print(target_heap[0])"
   ]
  },
  {
   "cell_type": "raw",
   "metadata": {},
   "source": [
    "https://leetcode.com/problems/kth-smallest-element-in-a-sorted-matrix/discuss/85193/Binary-Search-Heap-and-Sorting-comparison-with-concise-code-and-1-liners-Python-72-ms"
   ]
  },
  {
   "cell_type": "code",
   "execution_count": 12,
   "metadata": {},
   "outputs": [],
   "source": [
    "def kthSmallest(matrix, k):\n",
    "        heap = [(row[0], i, 0) for i, row in enumerate(matrix)]\n",
    "        heapq.heapify(heap)\n",
    "#         print(heap)\n",
    "        ret = 0\n",
    "        for _ in range(k):\n",
    "            ret, i, j = heapq.heappop(heap)\n",
    "#             print(ret, i,j)\n",
    "            if j+1 < len(matrix[0]):\n",
    "                heapq.heappush(heap, (matrix[i][j+1], i, j+1))\n",
    "        return ret"
   ]
  },
  {
   "cell_type": "code",
   "execution_count": 10,
   "metadata": {},
   "outputs": [],
   "source": [
    "def kthSmallest(matrix, k):\n",
    "        result, heap = None, []\n",
    "        heapq.heappush(heap, (matrix[0][0], 0, 0))\n",
    "        while k > 0:\n",
    "            result, i, j = heapq.heappop(heap)\n",
    "            if i == 0 and j + 1 < len(matrix):\n",
    "                heapq.heappush(heap, (matrix[i][j + 1], i, j + 1))\n",
    "            if i + 1 < len(matrix):\n",
    "                heapq.heappush(heap, (matrix[i + 1][j], i + 1, j))\n",
    "            k -= 1\n",
    "        return result"
   ]
  },
  {
   "cell_type": "markdown",
   "metadata": {},
   "source": [
    "Since the matrix is sorted, we do not need to put all the elements in heap at one time. We can simply pop and put for k times. By observation, if we look at the matrix diagonally, we can tell that if we do not pop matrix[i][j], we do not need to put on matrix[i][j + 1] and matrix[i + 1][j] since they are bigger.\n",
    "\n",
    "e.g., given the matrix below:\n",
    "1 2 4\n",
    "3 5 7\n",
    "6 8 9\n",
    "We put 1 first, then pop 1 and put 2 and 3, then pop 2 and put 4 and 5, then pop 3 and put 6..."
   ]
  },
  {
   "cell_type": "code",
   "execution_count": 13,
   "metadata": {},
   "outputs": [
    {
     "name": "stdout",
     "output_type": "stream",
     "text": [
      "CPU times: user 16 µs, sys: 1 µs, total: 17 µs\n",
      "Wall time: 19.8 µs\n"
     ]
    },
    {
     "data": {
      "text/plain": [
       "13"
      ]
     },
     "execution_count": 13,
     "metadata": {},
     "output_type": "execute_result"
    }
   ],
   "source": [
    "time(kthSmallest(matrix,k))"
   ]
  },
  {
   "cell_type": "markdown",
   "metadata": {},
   "source": [
    "# 347. Top K Frequent Elements\n"
   ]
  },
  {
   "cell_type": "markdown",
   "metadata": {},
   "source": [
    "Given an integer array nums and an integer k, return the k most frequent elements. You may return the answer in any order.\n",
    "Follow up: Your algorithm's time complexity must be better than O(n log n), where n is the array's size.\n"
   ]
  },
  {
   "cell_type": "code",
   "execution_count": 46,
   "metadata": {},
   "outputs": [],
   "source": [
    "nums = [1,1,1,1,2,2,3]\n",
    "k = 2\n",
    "#[1,2]"
   ]
  },
  {
   "cell_type": "code",
   "execution_count": 33,
   "metadata": {},
   "outputs": [],
   "source": [
    "nums = [1]\n",
    "k = 1"
   ]
  },
  {
   "cell_type": "code",
   "execution_count": 63,
   "metadata": {},
   "outputs": [],
   "source": [
    "def topKFrequent(nums: List[int], k: int) -> List[int]:\n",
    "        dic = {}\n",
    "        for num in nums:\n",
    "            if num in dic:\n",
    "                dic[num] +=1\n",
    "            else:\n",
    "                dic[num] =1\n",
    "        print(sorted(dic, key=dic.get)[-k:])"
   ]
  },
  {
   "cell_type": "code",
   "execution_count": 68,
   "metadata": {},
   "outputs": [
    {
     "data": {
      "text/plain": [
       "[1, 2]"
      ]
     },
     "execution_count": 68,
     "metadata": {},
     "output_type": "execute_result"
    }
   ],
   "source": [
    "topKFrequent(nums, k)"
   ]
  },
  {
   "cell_type": "code",
   "execution_count": 67,
   "metadata": {},
   "outputs": [],
   "source": [
    "from collections import Counter\n",
    "def topKFrequent(nums: List[int], k: int) -> List[int]:\n",
    "    # O(1) time \n",
    "    if k == len(nums):\n",
    "        return nums\n",
    "\n",
    "    # 1. build hash map : character and how often it appears\n",
    "    # O(N) time\n",
    "    count = Counter(nums)   \n",
    "    # 2-3. build heap of top k frequent elements and\n",
    "    # convert it into an output array\n",
    "    # O(N log k) time\n",
    "    return heapq.nlargest(k, count.keys(), key=count.get) "
   ]
  },
  {
   "cell_type": "markdown",
   "metadata": {},
   "source": [
    "# 692. Top K Frequent Words\n"
   ]
  },
  {
   "cell_type": "markdown",
   "metadata": {},
   "source": [
    "Given an array of strings words and an integer k, return the k most frequent strings.\n",
    "\n",
    "Return the answer sorted by the frequency from highest to lowest. Sort the words with the same frequency by their lexicographical order.\n",
    "\n",
    " "
   ]
  },
  {
   "cell_type": "raw",
   "metadata": {},
   "source": [
    "Input: words = [\"i\",\"love\",\"leetcode\",\"i\",\"love\",\"coding\"], k = 2\n",
    "Output: [\"i\",\"love\"]\n",
    "Explanation: \"i\" and \"love\" are the two most frequent words.\n",
    "Note that \"i\" comes before \"love\" due to a lower alphabetical order.\n",
    "Example 2:\n",
    "\n",
    "Input: words = [\"the\",\"day\",\"is\",\"sunny\",\"the\",\"the\",\"the\",\"sunny\",\"is\",\"is\"], k = 4\n",
    "Output: [\"the\",\"is\",\"sunny\",\"day\"]\n",
    "Explanation: \"the\", \"is\", \"sunny\" and \"day\" are the four most frequent words, with the number of occurrence being 4, 3, 2 and 1 respectively.\n"
   ]
  },
  {
   "cell_type": "code",
   "execution_count": 152,
   "metadata": {},
   "outputs": [],
   "source": [
    "words = [\"the\",\"day\",\"is\",\"sunny\",\"the\",\"the\",\"the\",\"sunny\",\"is\",\"is\",\"is\"]\n",
    "k = 4"
   ]
  },
  {
   "cell_type": "code",
   "execution_count": 149,
   "metadata": {},
   "outputs": [],
   "source": [
    "words = [\"i\",\"love\",\"leetcode\",\"i\",\"love\",\"coding\"]\n",
    "k = 2"
   ]
  },
  {
   "cell_type": "code",
   "execution_count": 144,
   "metadata": {},
   "outputs": [],
   "source": [
    "\n",
    "words = [\"aaa\",\"aa\",\"a\"]\n",
    "k = 3"
   ]
  },
  {
   "cell_type": "code",
   "execution_count": 157,
   "metadata": {},
   "outputs": [],
   "source": [
    "def topKFrequent(words: List[str], k: int) -> List[str]:\n",
    "#     if k == len(words):\n",
    "#         return words\n",
    "    count = Counter(words)\n",
    "    print(count)\n",
    "    hp = []\n",
    "    for e in count:\n",
    "        print(e)\n",
    "        hp.append([-count[e], e])\n",
    "    heapq.heapify(hp)\n",
    "    print(hp)\n",
    "    new = []\n",
    "    for _ in range(k):\n",
    "        y = heapq.heappop(hp)\n",
    "        new.append(y[1])\n",
    "    return new\n",
    "#     return(sorted(count, key=count.get)[-k:])\n",
    "#     heapq.heapify(count)\n",
    "#     print(count)\n",
    "#     return heapq.nlargest(k, count.keys(), key=count.get)"
   ]
  },
  {
   "cell_type": "code",
   "execution_count": 155,
   "metadata": {},
   "outputs": [],
   "source": [
    "def topKFrequent(words: List[str], k: int) -> List[str]:\n",
    "    dict = {}\n",
    "    for x in words:\n",
    "        if x in dict:\n",
    "            dict[x] += 1\n",
    "        else:\n",
    "            dict[x] = 1\n",
    "    res = sorted(dict, key=lambda x: (-dict[x], x))\n",
    "    return res[:k]"
   ]
  },
  {
   "cell_type": "code",
   "execution_count": 158,
   "metadata": {},
   "outputs": [
    {
     "name": "stdout",
     "output_type": "stream",
     "text": [
      "Counter({'the': 4, 'is': 4, 'sunny': 2, 'day': 1})\n",
      "the\n",
      "day\n",
      "is\n",
      "sunny\n",
      "[[-4, 'is'], [-2, 'sunny'], [-4, 'the'], [-1, 'day']]\n"
     ]
    },
    {
     "data": {
      "text/plain": [
       "['is', 'the', 'sunny', 'day']"
      ]
     },
     "execution_count": 158,
     "metadata": {},
     "output_type": "execute_result"
    }
   ],
   "source": [
    "topKFrequent(words,k)"
   ]
  },
  {
   "cell_type": "markdown",
   "metadata": {},
   "source": [
    "# 295. Find Median from Data Stream\n"
   ]
  },
  {
   "cell_type": "raw",
   "metadata": {},
   "source": [
    "The median is the middle value in an ordered integer list. If the size of the list is even, there is no middle value and the median is the mean of the two middle values.\n",
    "\n",
    "For example, for arr = [2,3,4], the median is 3.\n",
    "For example, for arr = [2,3], the median is (2 + 3) / 2 = 2.5.\n",
    "Implement the MedianFinder class:\n",
    "\n",
    "MedianFinder() initializes the MedianFinder object.\n",
    "void addNum(int num) adds the integer num from the data stream to the data structure.\n",
    "double findMedian() returns the median of all elements so far. Answers within 10-5 of the actual answer will be accepted.\n"
   ]
  },
  {
   "cell_type": "code",
   "execution_count": 28,
   "metadata": {},
   "outputs": [],
   "source": [
    "class MedianFinder:\n",
    "\n",
    "    def __init__(self):\n",
    "        \"\"\"\n",
    "        initialize your data structure here.\n",
    "        \"\"\"\n",
    "        self.heaps = [], []\n",
    "        \n",
    "    def addNum(self, num: int) -> None:\n",
    "        small, large = self.heaps\n",
    "        print('start:', small, large)\n",
    "        heapq.heappush(small, -heapq.heappushpop(large, num))\n",
    "        print('1st step:', small, large)\n",
    "\n",
    "        if len(large) < len(small):\n",
    "            heapq.heappush(large, -heapq.heappop(small))\n",
    "        print('ending:', small, large)\n",
    "\n",
    "    def findMedian(self) -> float:\n",
    "        small, large = self.heaps\n",
    "        if len(large) > len(small):\n",
    "            print(float(large[0]))\n",
    "            return float(large[0])\n",
    "        print((large[0] - small[0]) / 2.0)\n",
    "        return (large[0] - small[0]) / 2.0\n",
    "\n",
    "# Your MedianFinder object will be instantiated and called as such:\n",
    "# obj = MedianFinder()\n",
    "# obj.addNum(num)\n",
    "# param_2 = obj.findMedian()"
   ]
  },
  {
   "cell_type": "code",
   "execution_count": null,
   "metadata": {},
   "outputs": [],
   "source": [
    "class MedianFinder:\n",
    "\n",
    "    def __init__(self):\n",
    "        self.small_heap = []\n",
    "        self.large_heap = []\n",
    "\n",
    "    def addNum(self, num: int) -> None:\n",
    "        heapq.heappush(self.small_heap, -num)\n",
    "        heapq.heappush(self.large_heap, -self.small_heap[0])\n",
    "        heapq.heappop(self.small_heap)\n",
    "        if len(self.small_heap) < len(self.large_heap):\n",
    "            heapq.heappush(self.small_heap, -self.large_heap[0])\n",
    "            heapq.heappop(self.large_heap)\n",
    "        # print(self.small_heap, self.large_heap)\n",
    "    def findMedian(self) -> float:\n",
    "        # print(self.small_heap, self.large_heap)\n",
    "\n",
    "        if len(self.small_heap) > len(self.large_heap):\n",
    "            return -self.small_heap[0]\n",
    "        else:\n",
    "            if not self.large_heap:\n",
    "                return -self.small_heap[0]\n",
    "            if not self.small_heap:\n",
    "                return \n",
    "            return (-self.small_heap[0] +self.large_heap[0])*0.5"
   ]
  },
  {
   "cell_type": "code",
   "execution_count": 29,
   "metadata": {},
   "outputs": [],
   "source": [
    "medianFinder = MedianFinder();\n"
   ]
  },
  {
   "cell_type": "code",
   "execution_count": 30,
   "metadata": {},
   "outputs": [
    {
     "name": "stdout",
     "output_type": "stream",
     "text": [
      "start: [] []\n",
      "1st step: [-1] []\n",
      "ending: [] [1]\n",
      "1.0\n",
      "start: [] [1]\n",
      "1st step: [-1] [2]\n",
      "ending: [-1] [2]\n",
      "1.5\n",
      "start: [-1] [2]\n",
      "1st step: [-2, -1] [3]\n",
      "ending: [-1] [2, 3]\n",
      "2.0\n"
     ]
    }
   ],
   "source": [
    "medianFinder.addNum(1);    \n",
    "# // arr = [1]\n",
    "medianFinder.findMedian(); \n",
    "\n",
    "medianFinder.addNum(2);\n",
    "medianFinder.findMedian(); \n",
    "# // return 1.5 (i.e., (1 + 2) / 2)\n",
    "medianFinder.addNum(3);   \n",
    "# // arr[1, 2, 3]\n",
    "medianFinder.findMedian();"
   ]
  },
  {
   "cell_type": "markdown",
   "metadata": {},
   "source": [
    "# 4. Median of Two Sorted Arrays"
   ]
  },
  {
   "cell_type": "markdown",
   "metadata": {},
   "source": [
    "\n",
    "Given two sorted arrays nums1 and nums2 of size m and n respectively, return the median of the two sorted arrays.\n",
    "\n",
    "The overall run time complexity should be O(log (m+n))."
   ]
  },
  {
   "cell_type": "code",
   "execution_count": 103,
   "metadata": {},
   "outputs": [],
   "source": [
    "def findMedianSortedArrays(nums1, nums2):\n",
    "    \"\"\"\n",
    "    :type nums1: List[int]\n",
    "    :type nums2: List[int]\n",
    "    :rtype: float\n",
    "    \"\"\"\n",
    "    small, large = [],[]\n",
    "    print('start:', small, large)\n",
    "    print(nums1,nums2)\n",
    "    total_nums = nums1+nums2\n",
    "    print(total_nums)\n",
    "    for num in total_nums:\n",
    "        heapq.heappush(small, -heapq.heappushpop(large, num))\n",
    "        print('1st step:', small, large)\n",
    "\n",
    "        if len(large) < len(small):\n",
    "            heapq.heappush(large, -heapq.heappop(small))\n",
    "        print('ending:', small, large)\n",
    "    if len(large) > len(small):\n",
    "        print(float(large[0]))\n",
    "        return float(large[0])\n",
    "    print((large[0] - small[0]) / 2.0)\n",
    "    return (large[0] - small[0]) / 2.0\n"
   ]
  },
  {
   "cell_type": "code",
   "execution_count": 114,
   "metadata": {},
   "outputs": [],
   "source": [
    "def findMedianSortedArrays(A, B):\n",
    "    l = len(A) + len(B)\n",
    "    if l % 2 == 1:\n",
    "        return self.kth(A, B, l // 2)\n",
    "    else:\n",
    "        return (self.kth(A, B, l // 2) + self.kth(A, B, l // 2 - 1)) / 2.   \n",
    "    \n",
    "def kth(a, b, k):\n",
    "    if not a:\n",
    "        return b[k]\n",
    "    if not b:\n",
    "        return a[k]\n",
    "    ia, ib = len(a) // 2 , len(b) // 2\n",
    "    ma, mb = a[ia], b[ib]\n",
    "    \n",
    "    # when k is bigger than the sum of a and b's median indices \n",
    "    if ia + ib < k:\n",
    "        # if a's median is bigger than b's, b's first half doesn't include k\n",
    "        if ma > mb:\n",
    "            return self.kth(a, b[ib + 1:], k - ib - 1)\n",
    "        else:\n",
    "            return self.kth(a[ia + 1:], b, k - ia - 1)\n",
    "    # when k is smaller than the sum of a and b's indices\n",
    "    else:\n",
    "        # if a's median is bigger than b's, a's second half doesn't include k\n",
    "        if ma > mb:\n",
    "            return self.kth(a[:ia], b, k)\n",
    "        else:\n",
    "            return self.kth(a, b[:ib], k)"
   ]
  },
  {
   "cell_type": "code",
   "execution_count": 130,
   "metadata": {},
   "outputs": [],
   "source": [
    "# Binary Search\n",
    "def findMedianSortedArrays(nums1, nums2):\n",
    "    if len(nums1) > len(nums2):\n",
    "        nums1, nums2 = nums2, nums1\n",
    "\n",
    "    m, n = len(nums1), len(nums2)\n",
    "\n",
    "    left_size = (m + n + 1) // 2\n",
    "    start = 0\n",
    "    end = m\n",
    "    is_even = ((m + n) % 2) == 0\n",
    "    while start <= end:\n",
    "        a_part = (start + end) // 2\n",
    "        b_part = left_size - a_part\n",
    "\n",
    "        aleftmax = float(\"-inf\") if a_part == 0 else nums1[a_part - 1]\n",
    "        arightmin = float(\"inf\") if a_part == m else nums1[a_part]\n",
    "        bleftmax = float(\"-inf\") if b_part == 0 else nums2[b_part - 1]\n",
    "        brightmin = float(\"inf\") if b_part == n else nums2[b_part]\n",
    "\n",
    "        if aleftmax <= brightmin and bleftmax <= arightmin:\n",
    "            if not is_even:\n",
    "                return max(aleftmax, bleftmax)\n",
    "            else:\n",
    "                return (max(aleftmax, bleftmax) + min(arightmin, brightmin))/ 2\n",
    "        elif aleftmax > brightmin:\n",
    "            end = a_part - 1\n",
    "        elif bleftmax > arightmin:\n",
    "            start = a_part + 1"
   ]
  },
  {
   "cell_type": "code",
   "execution_count": 133,
   "metadata": {},
   "outputs": [],
   "source": [
    "nums1 = [1,3]\n",
    "nums2 = [2]"
   ]
  },
  {
   "cell_type": "code",
   "execution_count": 131,
   "metadata": {},
   "outputs": [],
   "source": [
    "nums1 = [1,2]\n",
    "nums2 = [3,4]"
   ]
  },
  {
   "cell_type": "code",
   "execution_count": 108,
   "metadata": {},
   "outputs": [],
   "source": [
    "nums1 = [0,0]\n",
    "nums2 = [0,0]"
   ]
  },
  {
   "cell_type": "code",
   "execution_count": 110,
   "metadata": {},
   "outputs": [],
   "source": [
    "nums1 = []\n",
    "nums2 = [1]"
   ]
  },
  {
   "cell_type": "code",
   "execution_count": 112,
   "metadata": {},
   "outputs": [],
   "source": [
    "nums1 = [2]\n",
    "nums2 = []"
   ]
  },
  {
   "cell_type": "code",
   "execution_count": 134,
   "metadata": {},
   "outputs": [
    {
     "data": {
      "text/plain": [
       "2"
      ]
     },
     "execution_count": 134,
     "metadata": {},
     "output_type": "execute_result"
    }
   ],
   "source": [
    "findMedianSortedArrays(nums1, nums2)"
   ]
  },
  {
   "cell_type": "markdown",
   "metadata": {},
   "source": [
    "# 23. Merge k Sorted Lists\n"
   ]
  },
  {
   "cell_type": "markdown",
   "metadata": {},
   "source": [
    "You are given an array of k linked-lists lists, each linked-list is sorted in ascending order.\n",
    "\n",
    "Merge all the linked-lists into one sorted linked-list and return it."
   ]
  },
  {
   "cell_type": "code",
   "execution_count": 15,
   "metadata": {},
   "outputs": [],
   "source": [
    "lists = [[1,4,5],[1,3,4],[2,6]]"
   ]
  },
  {
   "cell_type": "code",
   "execution_count": 16,
   "metadata": {},
   "outputs": [],
   "source": [
    "def mergeKLists(lists):\n",
    "    \"\"\"\n",
    "    :type lists: List[ListNode]\n",
    "    :rtype: ListNode\n",
    "    \"\"\"\n",
    "    heap = []\n",
    "    k = len(lists)\n",
    "    curr = [lists[i] for i in range(k)]\n",
    "    # print(curr)\n",
    "    for i in range(k):\n",
    "        while curr[i]:\n",
    "            # print(i, curr[i])\n",
    "            heapq.heappush(heap, curr[i].val)\n",
    "            curr[i]= curr[i].next\n",
    "    if heap:\n",
    "        ret = ListNode(heapq.heappop(heap), next=None)\n",
    "        curr = ret\n",
    "        while heap:\n",
    "            curr.next = ListNode(val =None, next=None) \n",
    "            curr.next.val= heapq.heappop(heap)\n",
    "            curr = curr.next\n",
    "        return ret\n",
    "    else:\n",
    "        return ListNode(0).next"
   ]
  },
  {
   "cell_type": "code",
   "execution_count": 17,
   "metadata": {},
   "outputs": [
    {
     "ename": "AttributeError",
     "evalue": "'list' object has no attribute 'val'",
     "output_type": "error",
     "traceback": [
      "\u001b[0;31m---------------------------------------------------------------------------\u001b[0m",
      "\u001b[0;31mAttributeError\u001b[0m                            Traceback (most recent call last)",
      "\u001b[0;32m<ipython-input-17-3b28a2051968>\u001b[0m in \u001b[0;36m<module>\u001b[0;34m\u001b[0m\n\u001b[0;32m----> 1\u001b[0;31m \u001b[0mmergeKLists\u001b[0m\u001b[0;34m(\u001b[0m\u001b[0mlists\u001b[0m\u001b[0;34m)\u001b[0m\u001b[0;34m\u001b[0m\u001b[0;34m\u001b[0m\u001b[0m\n\u001b[0m",
      "\u001b[0;32m<ipython-input-16-b3a4e1996749>\u001b[0m in \u001b[0;36mmergeKLists\u001b[0;34m(lists)\u001b[0m\n\u001b[1;32m     11\u001b[0m         \u001b[0;32mwhile\u001b[0m \u001b[0mcurr\u001b[0m\u001b[0;34m[\u001b[0m\u001b[0mi\u001b[0m\u001b[0;34m]\u001b[0m\u001b[0;34m:\u001b[0m\u001b[0;34m\u001b[0m\u001b[0;34m\u001b[0m\u001b[0m\n\u001b[1;32m     12\u001b[0m             \u001b[0;31m# print(i, curr[i])\u001b[0m\u001b[0;34m\u001b[0m\u001b[0;34m\u001b[0m\u001b[0;34m\u001b[0m\u001b[0m\n\u001b[0;32m---> 13\u001b[0;31m             \u001b[0mheapq\u001b[0m\u001b[0;34m.\u001b[0m\u001b[0mheappush\u001b[0m\u001b[0;34m(\u001b[0m\u001b[0mheap\u001b[0m\u001b[0;34m,\u001b[0m \u001b[0mcurr\u001b[0m\u001b[0;34m[\u001b[0m\u001b[0mi\u001b[0m\u001b[0;34m]\u001b[0m\u001b[0;34m.\u001b[0m\u001b[0mval\u001b[0m\u001b[0;34m)\u001b[0m\u001b[0;34m\u001b[0m\u001b[0;34m\u001b[0m\u001b[0m\n\u001b[0m\u001b[1;32m     14\u001b[0m             \u001b[0mcurr\u001b[0m\u001b[0;34m[\u001b[0m\u001b[0mi\u001b[0m\u001b[0;34m]\u001b[0m\u001b[0;34m=\u001b[0m \u001b[0mcurr\u001b[0m\u001b[0;34m[\u001b[0m\u001b[0mi\u001b[0m\u001b[0;34m]\u001b[0m\u001b[0;34m.\u001b[0m\u001b[0mnext\u001b[0m\u001b[0;34m\u001b[0m\u001b[0;34m\u001b[0m\u001b[0m\n\u001b[1;32m     15\u001b[0m     \u001b[0;32mif\u001b[0m \u001b[0mheap\u001b[0m\u001b[0;34m:\u001b[0m\u001b[0;34m\u001b[0m\u001b[0;34m\u001b[0m\u001b[0m\n",
      "\u001b[0;31mAttributeError\u001b[0m: 'list' object has no attribute 'val'"
     ]
    }
   ],
   "source": [
    "mergeKLists(lists)"
   ]
  },
  {
   "cell_type": "code",
   "execution_count": null,
   "metadata": {},
   "outputs": [],
   "source": [
    "def mergeKLists(self, lists):\n",
    "    heap = [(head.val, i, head) for i,head in enumerate(lists) if head]\n",
    "    heapify(heap)\n",
    "    dummy = ListNode(0)\n",
    "    curr = dummy\n",
    "    while heap != []:\n",
    "        val, i, node = heap[0]\n",
    "        if not node.next: # exhausted one linked-list\n",
    "            heappop(heap)\n",
    "        else:\n",
    "            heapreplace(heap, (node.next.val, i, node.next)) # recycling tie-breaker i guarantees uniqueness\n",
    "        curr.next = node    \n",
    "        curr = curr.next\n",
    "    return dummy.next"
   ]
  },
  {
   "cell_type": "code",
   "execution_count": null,
   "metadata": {},
   "outputs": [],
   "source": [
    "def mergeKLists(self, lists):\n",
    "    h = []\n",
    "    head = tail = ListNode(0)\n",
    "    for i in lists:\n",
    "        if i:\n",
    "            heapq.heappush(h, (i.val, i))\n",
    "\n",
    "    while h:\n",
    "        node = heapq.heappop(h)[1]\n",
    "        tail.next = node\n",
    "        tail = tail.next\n",
    "        if node.next:\n",
    "            heapq.heappush(h, (node.next.val, node.next))\n",
    "\n",
    "    return head.next"
   ]
  },
  {
   "cell_type": "markdown",
   "metadata": {},
   "source": [
    "# 451. Sort Characters By Frequency\n"
   ]
  },
  {
   "cell_type": "markdown",
   "metadata": {},
   "source": [
    "Given a string s, sort it in decreasing order based on the frequency of characters, and return the sorted string."
   ]
  },
  {
   "cell_type": "raw",
   "metadata": {},
   "source": [
    "Input: s = \"tree\"\n",
    "Output: \"eert\"\n",
    "Explanation: 'e' appears twice while 'r' and 't' both appear once.\n",
    "So 'e' must appear before both 'r' and 't'. Therefore \"eetr\" is also a valid answer."
   ]
  },
  {
   "cell_type": "code",
   "execution_count": 138,
   "metadata": {},
   "outputs": [],
   "source": [
    "s = \"tree\""
   ]
  },
  {
   "cell_type": "code",
   "execution_count": 151,
   "metadata": {},
   "outputs": [],
   "source": [
    "def frequencySort(s):\n",
    "    \"\"\"\n",
    "    :type s: str\n",
    "    :rtype: str\n",
    "    \"\"\"\n",
    "    heap = []\n",
    "    dic = {}\n",
    "    for char in s:\n",
    "        if char in dic:\n",
    "            dic[char]+=1\n",
    "        else:\n",
    "            dic[char]=1\n",
    "    for key in dic:\n",
    "        heapq.heappush(heap, [-dic[key], key])\n",
    "    ret=''\n",
    "    while heap:\n",
    "        ele = heapq.heappop(heap)\n",
    "        ret+= ele[1]*(-ele[0])\n",
    "\n",
    "    return ret\n"
   ]
  },
  {
   "cell_type": "raw",
   "metadata": {},
   "source": [
    "Frequency of a character can vary from 0 to len(s).\n",
    "Create a hashmap H1 of character to character frequency for the input string.\n",
    "Iterate H1 to create hashmap H2 with key as frequency and value as substrings of repeated strings with length as the frequency.\n",
    "Finally lookup all potential frequencies in decreasing order in H2 and produce the final resu"
   ]
  },
  {
   "cell_type": "code",
   "execution_count": 159,
   "metadata": {},
   "outputs": [],
   "source": [
    "from collections import Counter\n",
    "#using dictionary also can solve it\n",
    "def frequencySort(s):\n",
    "    c1, c2 = Counter(s), {}\n",
    "    print(c1)\n",
    "    for k,v in c1.items():\n",
    "        c2.setdefault(v, []).append(k*v)\n",
    "    print(c2)\n",
    "    return \"\".join([\"\".join(c2[i]) for i in range(len(s), -1, -1) if i in c2])"
   ]
  },
  {
   "cell_type": "code",
   "execution_count": 170,
   "metadata": {},
   "outputs": [],
   "source": [
    "def frequencySort(s):\n",
    "    return ''.join(c*x for x,c in Counter(s).most_common())\n",
    "\n"
   ]
  },
  {
   "cell_type": "code",
   "execution_count": 171,
   "metadata": {},
   "outputs": [
    {
     "data": {
      "text/plain": [
       "'eetr'"
      ]
     },
     "execution_count": 171,
     "metadata": {},
     "output_type": "execute_result"
    }
   ],
   "source": [
    "frequencySort(s)"
   ]
  },
  {
   "cell_type": "markdown",
   "metadata": {},
   "source": [
    "# 759 Employee freetime"
   ]
  },
  {
   "cell_type": "raw",
   "metadata": {},
   "source": [
    "We are given a list schedule of employees, which represents the working time for each employee.\n",
    "Each employee has a list of non-overlapping Intervals, and these intervals are in sorted order.\n",
    "Return the list of finite intervals representing common, positive-length free time for all employees, also in sorted order.\n"
   ]
  },
  {
   "cell_type": "markdown",
   "metadata": {},
   "source": [
    "Input: schedule = [[[1,2],[5,6]],[[1,3]],[[4,10]]]\n",
    "Output: [[3,4]]\n",
    "Explanation:\n",
    "There are a total of three employees, and all common\n",
    "free time intervals would be [-inf, 1], [3, 4], [10, inf].\n",
    "We discard any intervals that contain inf as they aren't finite.\n"
   ]
  },
  {
   "cell_type": "raw",
   "metadata": {},
   "source": [
    "schedule = [[[1,3],[6,7]],[[2,4]],[[2,5],[9,12]]]\n",
    "Output: [[5,6],[7,9]]"
   ]
  },
  {
   "cell_type": "code",
   "execution_count": 180,
   "metadata": {},
   "outputs": [],
   "source": [
    "schedule = [[[1,2],[5,6]],[[1,3]],[[4,10]]]"
   ]
  },
  {
   "cell_type": "code",
   "execution_count": 20,
   "metadata": {},
   "outputs": [],
   "source": [
    "schedule = [[[1,3],[6,7]],[[2,4]],[[2,5],[9,12]]]"
   ]
  },
  {
   "cell_type": "code",
   "execution_count": null,
   "metadata": {},
   "outputs": [],
   "source": [
    "# merge all the list and find the gaps"
   ]
  },
  {
   "cell_type": "code",
   "execution_count": 2,
   "metadata": {},
   "outputs": [],
   "source": [
    "class Interval:\n",
    "    def __init__(self, start: int =None, end: int = None):\n",
    "        self.start = start\n",
    "        self.end = end"
   ]
  },
  {
   "cell_type": "code",
   "execution_count": null,
   "metadata": {},
   "outputs": [],
   "source": [
    "def employeeFreeTime(self, schedule: '[[Interval]]') -> '[Interval]':\n",
    "    heap = []\n",
    "    for emp in schedule:\n",
    "        for interval in emp:\n",
    "            heap.append([interval.start, interval.end])\n",
    "    heapify(heap)\n",
    "\n",
    "    start, end = heappop(heap)\n",
    "    free = end\n",
    "    res = []\n",
    "    while heap:\n",
    "        start, end = heappop(heap)\n",
    "        if start > free:\n",
    "            res.append(Interval(free, start))\n",
    "            free = end\n",
    "        else:\n",
    "            free = max(free, end)\n",
    "    return res\n"
   ]
  },
  {
   "cell_type": "code",
   "execution_count": null,
   "metadata": {},
   "outputs": [],
   "source": [
    "def employeeFreeTime(self, schedule: '[[Interval]]') -> '[Interval]':\n",
    "\n",
    "    # Flatten the given intervals.\n",
    "    ints = []\n",
    "    for i in schedule:\n",
    "        [ints.append(x) for x in i]\n",
    "\n",
    "    # Sort the intervals by starting time which is a key part of this soln. and indentifying overlap.\n",
    "    ints.sort(key = lambda x:x.start)\n",
    "\n",
    "    # Now we want to merge intervals (the continuous periods of being busy).\n",
    "    merged = []\n",
    "    for i in ints:\n",
    "        # If we have no intervals in our list or the current task starts after the previous one ends.\n",
    "        if not merged or i.start > merged[-1].end:\n",
    "            merged.append(i)\n",
    "        else:\n",
    "            # We know that the start time intersects the start,end of the previous task, so we take the max ending time.\n",
    "            # As this will be a merged, continuous busy period.\n",
    "            merged[-1].end = max(i.end, merged[-1].end)\n",
    "\n",
    "    # Now we have our merged intervals we can look at the time between the merged \n",
    "    # intervals as these will be the free time for the employee. \n",
    "    free = []\n",
    "    for i in range(1, len(merged)):\n",
    "        free.append(Interval(start=merged[i-1].end, end=merged[i].start))\n",
    "\n",
    "    # Now we're left with intervals of free time.\n",
    "    return free"
   ]
  },
  {
   "cell_type": "raw",
   "metadata": {},
   "source": [
    "Time Complexity: O(NlogN), where N is the number of intervals (this is because of the sort on line 22).\n",
    "Space Complexity: O(N) because of the intervals list being created!"
   ]
  },
  {
   "cell_type": "code",
   "execution_count": 18,
   "metadata": {},
   "outputs": [],
   "source": [
    "def employeeFreeTime(shedule):\n",
    "    # error checking\n",
    "    if not schedule:\n",
    "        return []\n",
    "    \n",
    "    # break down intervals\n",
    "    intervals = []\n",
    "    for employee in schedule:\n",
    "        for interval in employee:\n",
    "            intervals.append([interval[0], interval[1]])\n",
    "            \n",
    "    # sort intervals\n",
    "    intervals.sort(key=lambda x: x[0])\n",
    "    \n",
    "    # loop through intervals to find free time\n",
    "    result =[]\n",
    "    lastEnd = intervals[0][1]\n",
    "    for i in range(1, len(intervals)):\n",
    "        currStart = intervals[i][0]\n",
    "        currEnd = intervals[i][1]\n",
    "        if currStart > lastEnd:\n",
    "            result.append([lastEnd, currStart])\n",
    "        lastEnd = max(lastEnd, currEnd)\n",
    "    return result"
   ]
  },
  {
   "cell_type": "code",
   "execution_count": 21,
   "metadata": {},
   "outputs": [
    {
     "data": {
      "text/plain": [
       "[[5, 6], [7, 9]]"
      ]
     },
     "execution_count": 21,
     "metadata": {},
     "output_type": "execute_result"
    }
   ],
   "source": [
    "employeeFreeTime(schedule)"
   ]
  },
  {
   "cell_type": "code",
   "execution_count": null,
   "metadata": {},
   "outputs": [],
   "source": [
    "minHeap = intervals\n",
    "        heapify(minHeap)  # Heapify in increasing by the starting time order\n",
    "        ans = []\n",
    "        while minHeap:\n",
    "            start, end = heappop(minHeap)\n",
    "            while minHeap and minHeap[0][0] <= end:\n",
    "                end = max(end, heappop(minHeap)[1])\n",
    "            ans.append([start, end])\n",
    "        return ans"
   ]
  },
  {
   "cell_type": "markdown",
   "metadata": {},
   "source": [
    "## 56. Merge Intervals\n"
   ]
  },
  {
   "cell_type": "markdown",
   "metadata": {},
   "source": [
    "Given an array of intervals where intervals[i] = [starti, endi], merge all overlapping intervals, and return an array of the non-overlapping intervals that cover all the intervals in the input."
   ]
  },
  {
   "cell_type": "raw",
   "metadata": {},
   "source": [
    "https://leetcode.com/problems/merge-intervals/discuss/1338834/Python-3-solutions-Clean-and-Concise"
   ]
  },
  {
   "cell_type": "code",
   "execution_count": null,
   "metadata": {},
   "outputs": [],
   "source": [
    "def merge(self, intervals: List[List[int]]) -> List[List[int]]:\n",
    "    minHeap = intervals\n",
    "    heapq.heapify(minHeap)  # Heapify in increasing by the starting time order\n",
    "    ans = []\n",
    "    while minHeap:\n",
    "        start, end = heapq.heappop(minHeap)\n",
    "        print(minHeap)\n",
    "        while minHeap and minHeap[0][0] <= end:\n",
    "            end = max(end, heapq.heappop(minHeap)[1])\n",
    "        ans.append([start, end])\n",
    "    return ans"
   ]
  },
  {
   "cell_type": "code",
   "execution_count": null,
   "metadata": {},
   "outputs": [],
   "source": [
    "def merge(self, intervals: List[List[int]]) -> List[List[int]]:\n",
    "\n",
    "    intervals.sort(key=lambda x: x[0])\n",
    "\n",
    "    merged = []\n",
    "    for interval in intervals:\n",
    "        # if the list of merged intervals is empty or if the current\n",
    "        # interval does not overlap with the previous, simply append it.\n",
    "        if not merged or merged[-1][1] < interval[0]:\n",
    "            merged.append(interval)\n",
    "        else:\n",
    "        # otherwise, there is overlap, so we merge the current and previous\n",
    "        # intervals.\n",
    "            merged[-1][1] = max(merged[-1][1], interval[1])\n",
    "\n",
    "    return merged"
   ]
  },
  {
   "cell_type": "code",
   "execution_count": null,
   "metadata": {},
   "outputs": [],
   "source": [
    "def merge(self, intervals: List[List[int]]) -> List[List[int]]:\n",
    "    srted_intervals = sorted(intervals)\n",
    "    if srted_intervals == []:\n",
    "        return []\n",
    "    result = [srted_intervals[0]]\n",
    "    print(result)\n",
    "    for interval in srted_intervals:\n",
    "        start = interval[0]\n",
    "        end = interval[1]\n",
    "        if len(result)>=1:\n",
    "            prev_interval = result.pop()\n",
    "            prev_start = prev_interval[0]\n",
    "            prev_end = prev_interval[1]\n",
    "            if prev_end >= start:\n",
    "                start = prev_start\n",
    "                if prev_end < end:\n",
    "                    result.append([start, end])\n",
    "                else:\n",
    "                    result.append([start,prev_end])\n",
    "            else:\n",
    "                result.append(prev_interval)\n",
    "                result.append(interval)\n",
    "    return result\n"
   ]
  },
  {
   "cell_type": "markdown",
   "metadata": {},
   "source": [
    "# 763. Partition Labels\n"
   ]
  },
  {
   "cell_type": "raw",
   "metadata": {},
   "source": [
    "You are given a string s. We want to partition the string into as many parts as possible so that each letter appears in at most one part.\n",
    "\n",
    "Note that the partition is done so that after concatenating all the parts in order, the resultant string should be s.\n",
    "\n",
    "Return a list of integers representing the size of these parts."
   ]
  },
  {
   "cell_type": "code",
   "execution_count": null,
   "metadata": {},
   "outputs": [],
   "source": [
    "# my solution, get the intervals and merge intervals.\n",
    "def partitionLabels(self, s: str) -> List[int]:\n",
    "    n = len(s)\n",
    "    dic = {} # key: [first, last]\n",
    "    for ind, char in enumerate(s):\n",
    "        if char not in dic:\n",
    "            dic[char] = [ind, ind]\n",
    "        else:\n",
    "            dic[char][1] = ind\n",
    "    # print(dic)\n",
    "    minHeap = list(dic.values())\n",
    "    heapify(minHeap)  # Heapify in increasing by the starting time order\n",
    "    ans = []\n",
    "    while minHeap:\n",
    "        start, end = heapq.heappop(minHeap)\n",
    "        while minHeap and minHeap[0][0] <= end:\n",
    "            end = max(end, heappop(minHeap)[1])\n",
    "        ans.append([start, end])\n",
    "    res = [interval[1]-interval[0]+1 for interval in ans]\n",
    "    return res"
   ]
  },
  {
   "cell_type": "code",
   "execution_count": null,
   "metadata": {},
   "outputs": [],
   "source": [
    "#official solution, in essence the same but faster I guess.\n",
    "def partitionLabels(self, s: str) -> List[int]:\n",
    "    last = {c: i for i, c in enumerate(s)}\n",
    "    j = anchor = 0\n",
    "    ans = []\n",
    "    for i, c in enumerate(s):\n",
    "        j = max(j, last[c])\n",
    "        if i == j:\n",
    "            ans.append(i - anchor + 1)\n",
    "            anchor = i + 1\n",
    "    return ans"
   ]
  },
  {
   "cell_type": "markdown",
   "metadata": {},
   "source": [
    "## 1288. Remove Covered Intervals\n"
   ]
  },
  {
   "cell_type": "markdown",
   "metadata": {},
   "source": [
    "Given an array intervals where intervals[i] = [li, ri] represent the interval [li, ri), remove all intervals that are covered by another interval in the list.\n",
    "\n",
    "The interval [a, b) is covered by the interval [c, d) if and only if c <= a and b <= d.\n",
    "\n",
    "Return the number of remaining intervals.\n",
    "\n"
   ]
  },
  {
   "cell_type": "code",
   "execution_count": null,
   "metadata": {},
   "outputs": [],
   "source": [
    "def removeCoveredIntervals(self, intervals: List[List[int]]) -> int:\n",
    "    intervals = sorted(intervals, key=lambda x:(x[0],-x[1]))\n",
    "    res = 0\n",
    "    global_end = 0\n",
    "    for start, end in intervals:\n",
    "        if end > global_end:\n",
    "            res+=1 \n",
    "            global_end = end\n",
    "    return res"
   ]
  },
  {
   "cell_type": "markdown",
   "metadata": {},
   "source": [
    "# 1229 Meeting Scheduler"
   ]
  },
  {
   "cell_type": "raw",
   "metadata": {},
   "source": [
    "Given the availability time slots arrays slots1 and slots2 of two people and a meeting duration duration, return the earliest time slot that works for both of them and is of duration duration.\n",
    "\n",
    "If there is no common time slot that satisfies the requirements, return an empty array.\n",
    "\n",
    "The format of a time slot is an array of two elements [start, end] representing an inclusive time range from start to end.  \n",
    "\n",
    "It is guaranteed that no two availability slots of the same person intersect with each other. That is, for any two time slots [start1, end1] and [start2, end2] of the same person, either start1 > end2 or start2 > end1."
   ]
  },
  {
   "cell_type": "code",
   "execution_count": 25,
   "metadata": {},
   "outputs": [],
   "source": [
    "slots1 = [[10,50],[60,120],[140,210]]\n",
    "slots2 = [[0,15],[60,70]]\n",
    "duration = 8"
   ]
  },
  {
   "cell_type": "code",
   "execution_count": 20,
   "metadata": {},
   "outputs": [],
   "source": [
    "slots1 = [[10,50],[60,120],[140,210]]\n",
    "slots2 = [[0,15],[60,70]]\n",
    "duration = 12"
   ]
  },
  {
   "cell_type": "code",
   "execution_count": 26,
   "metadata": {},
   "outputs": [],
   "source": [
    "def minAvailableDuration(slots1: List[List[int]], slot2: List[List[int]], duration:int) -> List[int]:\n",
    "    heapq.heapify(slots1) #O(n)\n",
    "    heapq.heapify(slots2) #O(n)\n",
    "    while slots1 and slots2:\n",
    "        l1, r1 = slots1[0]\n",
    "        l2, r2 = slots2[0]\n",
    "        left, right = max(l1, l2), min(r1, r2)\n",
    "        if right >= left + duration:\n",
    "            return [left, left+duration]\n",
    "        if l1< l2:\n",
    "            heapq.heappop(slots1)\n",
    "        else: \n",
    "            heapq.heappop(slots2)\n",
    "    return []"
   ]
  },
  {
   "cell_type": "code",
   "execution_count": 27,
   "metadata": {},
   "outputs": [
    {
     "data": {
      "text/plain": [
       "[60, 68]"
      ]
     },
     "execution_count": 27,
     "metadata": {},
     "output_type": "execute_result"
    }
   ],
   "source": [
    "minAvailableDuration(slots1, slots2, duration)"
   ]
  },
  {
   "cell_type": "markdown",
   "metadata": {},
   "source": [
    "# 218. The Skyline Problem\n"
   ]
  },
  {
   "cell_type": "raw",
   "metadata": {},
   "source": [
    "A city's skyline is the outer contour of the silhouette formed by all the buildings in that city when viewed from a distance. Given the locations and heights of all the buildings, return the skyline formed by these buildings collectively.\n",
    "The geometric information of each building is given in the array buildings where buildings[i] = [lefti, righti, heighti]:\n",
    "\n",
    "lefti is the x coordinate of the left edge of the ith building.\n",
    "righti is the x coordinate of the right edge of the ith building.\n",
    "heighti is the height of the ith building.\n",
    "\n",
    "You may assume all buildings are perfect rectangles grounded on an absolutely flat surface at height 0.\n",
    "\n",
    "The skyline should be represented as a list of \"key points\" sorted by their x-coordinate in the form [[x1,y1],[x2,y2],...]. Each key point is the left endpoint of some horizontal segment in the skyline except the last point in the list, which always has a y-coordinate 0 and is used to mark the skyline's termination where the rightmost building ends. Any ground between the leftmost and rightmost buildings should be part of the skyline's contour.\n",
    "\n",
    "Note: There must be no consecutive horizontal lines of equal height in the output skyline. For instance, [...,[2 3],[4 5],[7 5],[11 5],[12 7],...] is not acceptable; the three lines of height 5 should be merged into one in the final output as such: [...,[2 3],[4 5],[12 7],...]"
   ]
  },
  {
   "cell_type": "raw",
   "metadata": {},
   "source": [
    "Input: buildings = [[2,9,10],[3,7,15],[5,12,12],[15,20,10],[19,24,8]]\n",
    "Output: [[2,10],[3,15],[7,12],[12,0],[15,10],[20,8],[24,0]]"
   ]
  },
  {
   "cell_type": "raw",
   "metadata": {},
   "source": [
    "Input: buildings = [[0,2,3],[2,5,3]]\n",
    "Output: [[0,3],[5,0]]"
   ]
  },
  {
   "cell_type": "code",
   "execution_count": 70,
   "metadata": {},
   "outputs": [],
   "source": [
    "buildings = [[2,9,10],[3,7,15],[5,12,12],[15,20,10],[19,24,8]]\n"
   ]
  },
  {
   "cell_type": "code",
   "execution_count": 67,
   "metadata": {},
   "outputs": [],
   "source": [
    "buildings = [[2,9,10],[3,7,15],[5,12,8],[15,20,10],[19,24,8]]"
   ]
  },
  {
   "cell_type": "code",
   "execution_count": 73,
   "metadata": {},
   "outputs": [],
   "source": [
    "buildings = [[2,9,10],[3,7,15],[5,12,8]]"
   ]
  },
  {
   "cell_type": "code",
   "execution_count": 76,
   "metadata": {},
   "outputs": [],
   "source": [
    "buildings = [[2,9,10],[3,7,15],[5,12,12],[6,8,7],[10,12,13],[15,20,10],[19,24,8]]"
   ]
  },
  {
   "cell_type": "code",
   "execution_count": 79,
   "metadata": {},
   "outputs": [],
   "source": [
    "buildings = [[0,2,3],[2,5,3]]"
   ]
  },
  {
   "cell_type": "code",
   "execution_count": 94,
   "metadata": {},
   "outputs": [],
   "source": [
    "buildings = [[2,9,10],[9,12,15]]"
   ]
  },
  {
   "cell_type": "code",
   "execution_count": 99,
   "metadata": {},
   "outputs": [],
   "source": [
    "buildings = [[1,2,1],[1,2,2],[1,2,3]]"
   ]
  },
  {
   "cell_type": "code",
   "execution_count": 107,
   "metadata": {},
   "outputs": [],
   "source": [
    "buildings = [[0,3,3],[1,5,3],[2,4,3],[3,7,3]]\n"
   ]
  },
  {
   "cell_type": "code",
   "execution_count": 112,
   "metadata": {},
   "outputs": [],
   "source": [
    "buildings = [[2,9,10],[3,7,15],[5,12,12],[15,20,10],[19,24,8]]"
   ]
  },
  {
   "cell_type": "code",
   "execution_count": 119,
   "metadata": {},
   "outputs": [],
   "source": [
    "def getSkyline(buildings):\n",
    "    currLeft = [buildings[0][0],buildings[0][2]]\n",
    "    result = [currLeft]\n",
    "    heap = []\n",
    "    currRight = buildings[0][1]\n",
    "    currHeight = buildings[0][2]\n",
    "    heapq.heappush(heap, [-currHeight,currRight])\n",
    "    lastRight = currRight \n",
    "    for i in range(1, len(buildings)):\n",
    "        print(i, buildings[i])\n",
    "        currLeft = buildings[i][0]\n",
    "        currRight = buildings[i][1]\n",
    "        currHeight = buildings[i][2]\n",
    "        if currLeft == result[-1][0]:\n",
    "            result = result[:-1]\n",
    "            \n",
    "        if currHeight < -heap[0][0] and currRight < lastRight:\n",
    "            continue\n",
    "        if currLeft == lastRight and currHeight == -heap[0][0]:\n",
    "#             heapq.heappop(heap)\n",
    "            heapq.heapreplace(heap, [-currHeight, currRight])\n",
    "            lastRight = currRight\n",
    "            continue\n",
    "        \n",
    "            \n",
    "        if currLeft > lastRight:\n",
    "            \n",
    "#             result.append([currLeft, currHeight])\n",
    "            while heap:\n",
    "                popped=heapq.heappop(heap)\n",
    "                if heap:\n",
    "                    if popped[0] > -heap[0][0]:\n",
    "                        result.append([popped[1], -heap[0][0]])\n",
    "            result.append([lastRight, 0])\n",
    "        # check height\n",
    "        if currLeft < lastRight:\n",
    "            if currHeight == -heap[0][0]:\n",
    "                heapq.heapreplace(heap, [-currHeight,currRight])\n",
    "                continue\n",
    "            else:\n",
    "                heapq.heappush(heap, [-currHeight,currRight])\n",
    "        if heap: \n",
    "            if currHeight == -heap[0][0]:\n",
    "                result.append([currLeft, currHeight])\n",
    "            else:\n",
    "                lastRight = heapq.heappop(heap)[1]\n",
    "                result.append([lastRight,-heap[0][0]])\n",
    "\n",
    "            \n",
    "        # check horizontal ending\n",
    "        \n",
    "        lastRight = max(lastRight, currRight)\n",
    "        print('lastRight:', lastRight)\n",
    "        print('heap:',heap)\n",
    "        print('results;', result)\n",
    "    while heap:\n",
    "        popped=heapq.heappop(heap)\n",
    "        if heap:\n",
    "            if popped[0] > -heap[0][0]:\n",
    "                result.append([popped[1], -heap[0][0]])\n",
    "    result.append([lastRight, 0])\n",
    "    print('final result:', result)\n"
   ]
  },
  {
   "cell_type": "code",
   "execution_count": 127,
   "metadata": {},
   "outputs": [],
   "source": [
    "#TOO complicated but the strategy is correct, couldn't handle corner case\n",
    "def getSkyline(buildings):\n",
    "    position = set([b[0] for b in buildings] + [b[1] for b in buildings])\n",
    "    print(position)\n",
    "    currLeft = [buildings[0][0],buildings[0][2]]\n",
    "    result = [currLeft]\n",
    "    heap = []\n",
    "    currRight = buildings[0][1]\n",
    "    currHeight = buildings[0][2]\n",
    "    heapq.heappush(heap, [-currHeight,currRight])\n",
    "    lastRight = currRight \n",
    "    for i in range(1, len(buildings)):\n",
    "        print(i, buildings[i])\n",
    "        currLeft = buildings[i][0]\n",
    "        currRight = buildings[i][1]\n",
    "        currHeight = buildings[i][2]\n",
    "        if currLeft == result[-1][0]:\n",
    "            result = result[:-1]\n",
    "            \n",
    "        if currHeight < -heap[0][0] and currRight < lastRight:\n",
    "            continue\n",
    "        if currLeft == lastRight and currHeight == -heap[0][0]:\n",
    "#             heapq.heappop(heap)\n",
    "            heapq.heapreplace(heap, [-currHeight, currRight])\n",
    "            lastRight = currRight\n",
    "            continue\n",
    "            \n",
    "        if currLeft > lastRight:\n",
    "            while heap:\n",
    "                popped=heapq.heappop(heap)\n",
    "                if heap:\n",
    "                    if popped[0] > -heap[0][0]:\n",
    "                        result.append([popped[1], -heap[0][0]])\n",
    "            result.append([lastRight, 0])\n",
    "        # check height\n",
    "\n",
    "        heapq.heappush(heap, [-currHeight,currRight])\n",
    "        if heap: \n",
    "            if currHeight == -heap[0][0]:\n",
    "                result.append([currLeft, currHeight])\n",
    "            else:\n",
    "                lastRight = heapq.heappop(heap)[1]\n",
    "                result.append([lastRight,-heap[0][0]])\n",
    "\n",
    "            \n",
    "        # check horizontal ending\n",
    "        \n",
    "        lastRight = max(lastRight, currRight)\n",
    "        print('lastRight:', lastRight)\n",
    "        print('heap:',heap)\n",
    "        print('results;', result)\n",
    "    while heap:\n",
    "        popped=heapq.heappop(heap)\n",
    "        if heap:\n",
    "            if popped[0] > -heap[0][0]:\n",
    "                result.append([popped[1], -heap[0][0]])\n",
    "    result.append([lastRight, 0])\n",
    "    print('final result:', result)"
   ]
  },
  {
   "cell_type": "code",
   "execution_count": 135,
   "metadata": {},
   "outputs": [],
   "source": [
    "#Handles corner cases and succinct to read\n",
    "def getSkyline(buildings):\n",
    "\n",
    "    #dummy\n",
    "    result = [[-1,0]]\n",
    "    \n",
    "    # possible corner positions\n",
    "    positions = set([b[0] for b in buildings] + [b[1] for b in buildings])\n",
    "    \n",
    "    # buildings under scan\n",
    "    heap = []\n",
    "    \n",
    "    i = 0\n",
    "        \n",
    "    for pos in sorted(positions):\n",
    "        \n",
    "        # add the new buildings whose left side is lefter than position pos\n",
    "        while i < len(buildings) and buildings[i][0] <= pos:\n",
    "            heapq.heappush(heap, (-buildings[i][2], buildings[i][1]))\n",
    "            i += 1\n",
    "            \n",
    "        # remove the past buildings whose right side is lefter than position pos\n",
    "        while heap and heap[0][1] <= pos:\n",
    "            heapq.heappop(heap)\n",
    "        \n",
    "        # pick the highest existing building at this moment\n",
    "        height = -heap[0][0] if heap else 0\n",
    "        if result[-1][1]!= height:\n",
    "            result.append([pos, height])\n",
    "\n",
    "    return result[1:]"
   ]
  },
  {
   "cell_type": "code",
   "execution_count": 136,
   "metadata": {},
   "outputs": [
    {
     "data": {
      "text/plain": [
       "[[2, 10], [3, 15], [7, 12], [12, 0], [15, 10], [20, 8], [24, 0]]"
      ]
     },
     "execution_count": 136,
     "metadata": {},
     "output_type": "execute_result"
    }
   ],
   "source": [
    "getSkyline(buildings)"
   ]
  },
  {
   "cell_type": "markdown",
   "metadata": {},
   "source": [
    "# 871. Minimum Number of Refueling Stops\n"
   ]
  },
  {
   "cell_type": "markdown",
   "metadata": {},
   "source": [
    "A car travels from a starting position to a destination which is target miles east of the starting position.\n",
    "\n",
    "There are gas stations along the way. The gas stations are represented as an array stations where stations[i] = [positioni, fueli] indicates that the ith gas station is positioni miles east of the starting position and has fueli liters of gas.\n",
    "\n",
    "The car starts with an infinite tank of gas, which initially has startFuel liters of fuel in it. It uses one liter of gas per one mile that it drives. When the car reaches a gas station, it may stop and refuel, transferring all the gas from the station into the car.\n",
    "\n",
    "Return the minimum number of refueling stops the car must make in order to reach its destination. If it cannot reach the destination, return -1.\n",
    "\n",
    "Note that if the car reaches a gas station with 0 fuel left, the car can still refuel there. If the car reaches the destination with 0 fuel left, it is still considered to have arrived."
   ]
  },
  {
   "cell_type": "code",
   "execution_count": 38,
   "metadata": {},
   "outputs": [],
   "source": [
    "def minRefuelStops(target: int, startFuel: int, stations: List[List[int]]) -> int:\n",
    "    heap = []\n",
    "    fuel = startFuel \n",
    "    curr_pos = 0\n",
    "    refuel_count = 0\n",
    "    i = 0\n",
    "    while i < len(stations):\n",
    "        passed_mile = stations[i][0] - curr_pos\n",
    "        curr_pos = stations[i][0]\n",
    "        fuel = fuel-passed_mile\n",
    "        print(f'i:{i},pass: {passed_mile}, curr:{curr_pos}, fuel:{fuel}')\n",
    "        if fuel < 0:\n",
    "            return -1\n",
    "        elif fuel == 0:\n",
    "            fuel = stations[i][1]\n",
    "            refuel_count+=1\n",
    "            i+=1\n",
    "            continue\n",
    "        else:\n",
    "            while stations[i+1][0]-curr_pos <= fuel:\n",
    "                heapq.heappush(heap, [-stations[i+1][1], stations[i+1][0]])\n",
    "                print(i, heap)\n",
    "                i+=1\n",
    "                if i +1== len(stations):\n",
    "                    break\n",
    "            max_station= heapq.heappop(heap)\n",
    "            fuel = fuel-max_station[0]\n",
    "            refuel_count+=1\n",
    "            print(max_station[1])\n",
    "            "
   ]
  },
  {
   "cell_type": "code",
   "execution_count": 60,
   "metadata": {},
   "outputs": [],
   "source": [
    "def minRefuelStops(target: int, startFuel: int, stations: List[List[int]]) -> int:\n",
    "    pq = []  # A maxheap is simulated using negative values\n",
    "    stations.append((target, float('inf')))\n",
    "    tank = startFuel\n",
    "    ans = prev = 0\n",
    "    for location, capacity in stations:\n",
    "        print(f'location:{location}, choice:{pq}, tank:{tank}')\n",
    "        tank -= location - prev\n",
    "        while pq and tank < 0:  # must refuel in past\n",
    "            tank += -heapq.heappop(pq)\n",
    "            print(f'popping, location:{location}, choice:{pq}, tank:{tank}')\n",
    "            ans += 1\n",
    "        if tank < 0: return -1\n",
    "        heapq.heappush(pq, -capacity)\n",
    "        prev = location\n",
    "\n",
    "    return ans"
   ]
  },
  {
   "cell_type": "code",
   "execution_count": 61,
   "metadata": {},
   "outputs": [],
   "source": [
    "target = 100\n",
    "startFuel = 1\n",
    "stations = [[10,100]]\n",
    "#return -1 cannot reach 100"
   ]
  },
  {
   "cell_type": "code",
   "execution_count": 70,
   "metadata": {},
   "outputs": [],
   "source": [
    "target = 120\n",
    "startFuel = 10\n",
    "stations = [[10,60],[20,30],[30,30],[60,40],[100,10]]\n",
    "#return 2\n",
    "# We drive to position 10, expending 10 liters of fuel.  We refuel from 0 liters to 60 liters of gas.\n",
    "# Then, we drive from position 10 to position 60 (expending 50 liters of fuel),\n",
    "# and refuel from 10 liters to 50 liters of gas.  We then drive to and reach the target.\n",
    "# We made 2 refueling stops along the way, so we return 2."
   ]
  },
  {
   "cell_type": "code",
   "execution_count": 71,
   "metadata": {},
   "outputs": [
    {
     "name": "stdout",
     "output_type": "stream",
     "text": [
      "location:10, choice:[], tank:10\n",
      "location:20, choice:[-60], tank:0\n",
      "popping, location:20, choice:[], tank:50\n",
      "location:30, choice:[-30], tank:50\n",
      "location:60, choice:[-30, -30], tank:40\n",
      "location:100, choice:[-40, -30, -30], tank:10\n",
      "popping, location:100, choice:[-30, -30], tank:10\n",
      "location:120, choice:[-30, -30, -10], tank:10\n",
      "popping, location:120, choice:[-30, -10], tank:20\n"
     ]
    },
    {
     "data": {
      "text/plain": [
       "3"
      ]
     },
     "execution_count": 71,
     "metadata": {},
     "output_type": "execute_result"
    }
   ],
   "source": [
    "minRefuelStops(target, startFuel, stations)"
   ]
  },
  {
   "cell_type": "markdown",
   "metadata": {},
   "source": [
    "## 1675. Minimize Deviation in Array\n"
   ]
  },
  {
   "cell_type": "markdown",
   "metadata": {},
   "source": [
    "You are given an array nums of n positive integers.\n",
    "\n",
    "You can perform two types of operations on any element of the array any number of times:\n",
    "\n",
    "If the element is even, divide it by 2.\n",
    "For example, if the array is [1,2,3,4], then you can do this operation on the last element, and the array will be [1,2,3,2].\n",
    "If the element is odd, multiply it by 2.\n",
    "For example, if the array is [1,2,3,4], then you can do this operation on the first element, and the array will be [2,2,3,4].\n",
    "The deviation of the array is the maximum difference between any two elements in the array.\n",
    "\n",
    "Return the minimum deviation the array can have after performing some number of operations.\n",
    "\n"
   ]
  },
  {
   "cell_type": "code",
   "execution_count": null,
   "metadata": {},
   "outputs": [],
   "source": [
    " def minimumDeviation(self, nums: List[int]) -> int:\n",
    "        # since heapq is a min-heap\n",
    "        # we use negative of the numbers to mimic a max-heap\n",
    "        evens = []\n",
    "        minimum = inf\n",
    "        for num in nums:\n",
    "            if num % 2 == 0:\n",
    "                evens.append(-num)\n",
    "                minimum = min(minimum, num)\n",
    "            else:\n",
    "                evens.append(-num*2)\n",
    "                minimum = min(minimum, num*2)\n",
    "        heapq.heapify(evens)\n",
    "        min_deviation = inf\n",
    "        while evens:\n",
    "            current_value = -heapq.heappop(evens)\n",
    "            min_deviation = min(min_deviation, current_value-minimum)\n",
    "            if current_value % 2 == 0:\n",
    "                minimum = min(minimum, current_value//2)\n",
    "                heapq.heappush(evens, -current_value//2)\n",
    "            else:\n",
    "                # if the maximum is odd, break and return\n",
    "                break\n",
    "        return min_deviation"
   ]
  }
 ],
 "metadata": {
  "kernelspec": {
   "display_name": "Python 3 (ipykernel)",
   "language": "python",
   "name": "python3"
  },
  "language_info": {
   "codemirror_mode": {
    "name": "ipython",
    "version": 3
   },
   "file_extension": ".py",
   "mimetype": "text/x-python",
   "name": "python",
   "nbconvert_exporter": "python",
   "pygments_lexer": "ipython3",
   "version": "3.9.12"
  }
 },
 "nbformat": 4,
 "nbformat_minor": 4
}
