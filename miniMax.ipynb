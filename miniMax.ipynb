{
 "cells": [
  {
   "cell_type": "markdown",
   "metadata": {},
   "source": [
    "# 843. Guess the Word (Very Hard!!!)\n"
   ]
  },
  {
   "cell_type": "markdown",
   "metadata": {},
   "source": [
    "This is an interactive problem.\n",
    "\n",
    "You are given an array of unique strings wordlist where wordlist[i] is 6 letters long, and one word in this list is chosen as secret.\n",
    "\n",
    "You may call Master.guess(word) to guess a word. The guessed word should have type string and must be from the original list with 6 lowercase letters.\n",
    "\n",
    "This function returns an integer type, representing the number of exact matches (value and position) of your guess to the secret word. Also, if your guess is not in the given wordlist, it will return -1 instead.\n",
    "\n",
    "For each test case, you have exactly 10 guesses to guess the word. At the end of any number of calls, if you have made 10 or fewer calls to Master.guess and at least one of these guesses was secret, then you pass the test case."
   ]
  },
  {
   "cell_type": "code",
   "execution_count": null,
   "metadata": {},
   "outputs": [],
   "source": [
    "def match(self, w1, w2):\n",
    "    return sum(i == j for i, j in zip(w1, w2))"
   ]
  },
  {
   "cell_type": "markdown",
   "metadata": {},
   "source": [
    "#### Solution 2.1: Shuffle the Wordlist\n",
    "I didn't give up the previous idea, it's not that bad.\n",
    "So I decided to try my luck by shuffling wordlist at the beginning.\n",
    "\n",
    "Note that it may sound some unreliable,\n",
    "but actully randomicity is very useful trick in both competition and reality problem.\n",
    "\n",
    "This method can get accepted but not for sure.\n",
    "After manualy testing locally,\n",
    "on Leetcode's test cases set and random test cases set,\n",
    "it has roughly 70% rate to get accepted.\n",
    "\n",
    "Time complexity O(N)\n",
    "Space complexity O(N)\n"
   ]
  },
  {
   "cell_type": "code",
   "execution_count": 31,
   "metadata": {},
   "outputs": [],
   "source": [
    "def findSecretWord(self, wordlist: List[str], master: 'Master') -> None:\n",
    "    random.shuffle(wordlist)\n",
    "    for i in range(10):\n",
    "        guess = random.choice(wordlist)\n",
    "        x = master.guess(guess)\n",
    "        wordlist = [w for w in wordlist if sum(i == j for i, j in zip(guess, w)) == x] # choose the word at least has the same match with the guessed word"
   ]
  },
  {
   "cell_type": "markdown",
   "metadata": {},
   "source": [
    "#### Solution 2.2: Guess a Random Word\n",
    "All words are generated randomly.\n",
    "So why not we also guess a random word and let it be whatever will be.\n",
    "This is actually the same as the previous solution.\n",
    "Though we don't need one more O(N) operation to shuffle the wordlist at first.\n",
    "\n",
    "Time complexity O(N)\n",
    "Space complexity O(N)"
   ]
  },
  {
   "cell_type": "code",
   "execution_count": 32,
   "metadata": {},
   "outputs": [],
   "source": [
    "def findSecretWord(self, wordlist, master):\n",
    "    for i in range(10):\n",
    "        guess = random.choice(wordlist)\n",
    "        x = master.guess(guess)\n",
    "        wordlist = [w for w in wordlist if sum(i == j for i, j in zip(guess, w)) == x]"
   ]
  },
  {
   "cell_type": "markdown",
   "metadata": {},
   "source": [
    "#### Solution 3: Minimax\n",
    "Now we want to try a better solution.\n",
    "Generally, we will get 0 matches from the master.guess.\n",
    "As a result, the size of wordlist reduces slowly.\n",
    "\n",
    "Recall some math here, the possiblity that get 0 matched is:\n",
    "(25/26) ^ 6 = 79.03%\n",
    "\n",
    "That is to say, if we make a blind guess,\n",
    "we have about 80% chance to get 0 matched with the secret word.\n",
    "\n",
    "To simplify the model,\n",
    "we're going to assume that,\n",
    "we will always run into the worst case (get 0 matched).\n",
    "\n",
    "In this case,\n",
    "we have 80% chance to eliminate the candidate word\n",
    "as well as its close words which have at least 1 match.\n",
    "\n",
    "Additionally, in order to delete a max part of words,\n",
    "we select a candidate who has a big \"family\",\n",
    "(that is, the fewest 0 matched with other words.)\n",
    "We want to guess a word that can minimum our worst outcome.\n",
    "\n",
    "So we compare each two words and count their matches.\n",
    "For each word, we note how many word of 0 matches it gets.\n",
    "Then we guess the word with minimum words of 0 matches.\n",
    "\n",
    "In this solution, we apply a minimax idea.\n",
    "We minimize our worst case,\n",
    "The worst case is max(the number of words with x matches),\n",
    "and we assume it equal to \"the number of words with 0 matches\"\n",
    "\n",
    "Time complexity O(N^2)\n",
    "Space complexity O(N)"
   ]
  },
  {
   "cell_type": "code",
   "execution_count": 33,
   "metadata": {},
   "outputs": [],
   "source": [
    "def findSecretWord(self, wordlist, master):\n",
    "        x = 0\n",
    "        while x < 6:\n",
    "            count = collections.Counter(w1 for w1, w2 in itertools.permutations(wordlist, 2) if self.match(w1, w2) == 0)\n",
    "            guess = min(wordlist, key=lambda w: count[w])\n",
    "            x = master.guess(guess)\n",
    "            wordlist = [w for w in wordlist if self.match(w, guess) == x]"
   ]
  },
  {
   "cell_type": "markdown",
   "metadata": {},
   "source": [
    "#### Solution 4: Count the Occurrence of Characters\n",
    "In the previous solution, we compaired each two words.\n",
    "This make the complexity O(N^2) for each turn.\n",
    "\n",
    "But actually we don't have to do that.\n",
    "We just need to count the occurrence for each character on each position.\n",
    "\n",
    "If we can guess the word that not in the wordlist,\n",
    "we can guess the word based on the most frequent character on the position.\n",
    "\n",
    "Here we have to guess a word from the list,\n",
    "we still can calculate a score of similarity for each word,\n",
    "and guess the word with highest score.\n",
    "\n",
    "Time complexity O(N)\n",
    "Space complexity O(N)"
   ]
  },
  {
   "cell_type": "code",
   "execution_count": 35,
   "metadata": {},
   "outputs": [],
   "source": [
    "def findSecretWord(self, wordlist, master):\n",
    "        def match(w1, w2):\n",
    "            return sum(i == j for i, j in zip(w1, w2))\n",
    "\n",
    "        n = 0\n",
    "        while n < 6:\n",
    "            count = [collections.Counter(w[i] for w in wordlist) for i in xrange(6)]\n",
    "            guess = max(wordlist, key=lambda w: sum(count[i][c] for i, c in enumerate(w)))\n",
    "            n = master.guess(guess)\n",
    "            wordlist = [w for w in wordlist if match(w, guess) == n]"
   ]
  },
  {
   "cell_type": "markdown",
   "metadata": {},
   "source": [
    "# 362. Design Hit Counter\n"
   ]
  },
  {
   "cell_type": "markdown",
   "metadata": {},
   "source": [
    "Design a hit counter which counts the number of hits received in the past 5 minutes (i.e., the past 300 seconds).\n",
    "\n",
    "Your system should accept a timestamp parameter (in seconds granularity), and you may assume that calls are being made to the system in chronological order (i.e., timestamp is monotonically increasing). Several hits may arrive roughly at the same time.\n",
    "\n",
    "Implement the HitCounter class:\n",
    "\n",
    "HitCounter() Initializes the object of the hit counter system.\n",
    "void hit(int timestamp) Records a hit that happened at timestamp (in seconds). Several hits may happen at the same timestamp.\n",
    "int getHits(int timestamp) Returns the number of hits in the past 5 minutes from timestamp (i.e., the past 300 seconds).\n",
    " \n",
    "\n"
   ]
  },
  {
   "cell_type": "raw",
   "metadata": {},
   "source": [
    "Input\n",
    "[\"HitCounter\", \"hit\", \"hit\", \"hit\", \"getHits\", \"hit\", \"getHits\", \"getHits\"]\n",
    "[[], [1], [2], [3], [4], [300], [300], [301]]\n",
    "Output\n",
    "[null, null, null, null, 3, null, 4, 3]\n",
    "\n",
    "Explanation\n",
    "HitCounter hitCounter = new HitCounter();\n",
    "hitCounter.hit(1);       // hit at timestamp 1.\n",
    "hitCounter.hit(2);       // hit at timestamp 2.\n",
    "hitCounter.hit(3);       // hit at timestamp 3.\n",
    "hitCounter.getHits(4);   // get hits at timestamp 4, return 3.\n",
    "hitCounter.hit(300);     // hit at timestamp 300.\n",
    "hitCounter.getHits(300); // get hits at timestamp 300, return 4.\n",
    "hitCounter.getHits(301); // get hits at timestamp 301, return 3.\n"
   ]
  },
  {
   "cell_type": "code",
   "execution_count": null,
   "metadata": {},
   "outputs": [],
   "source": [
    "class HitCounter:\n",
    "\n",
    "    def __init__(self):\n",
    "        \"\"\"\n",
    "        Initialize your data structure here.\n",
    "        \"\"\"\n",
    "        init_vals = [0]*300\n",
    "        self.queue = deque(init_vals, maxlen = 300)\n",
    "        self.oldest = 0\n",
    "\n",
    "    def hit(self, timestamp: int) -> None:\n",
    "        \"\"\"\n",
    "        Record a hit.\n",
    "        @param timestamp - The current timestamp (in seconds granularity).\n",
    "        \"\"\"\n",
    "        if timestamp >300:\n",
    "            if timestamp-300-self.oldest>300:\n",
    "                init_vals = [0]*300\n",
    "                self.queue = deque(init_vals, maxlen = 300)\n",
    "            else:\n",
    "                for i in range(timestamp-300-self.oldest):\n",
    "                    self.queue.popleft() \n",
    "                    self.queue.append(0) \n",
    "            self.oldest = timestamp - 300\n",
    "            self.queue[-1] +=1\n",
    "            # print(\"timestamp:\",timestamp, \"queue:\", self.queue)\n",
    "\n",
    "        else:\n",
    "            self.queue[timestamp-1] +=1\n",
    "            # print('else:',\"timestamp:\",timestamp, \"queue:\", self.queue)\n",
    "\n",
    "        \n",
    "\n",
    "    def getHits(self, timestamp: int) -> int:\n",
    "        \"\"\"\n",
    "        Return the number of hits in the past 5 minutes.\n",
    "        @param timestamp - The current timestamp (in seconds granularity).\n",
    "        \"\"\"\n",
    "        result = 0\n",
    "        if timestamp> 300:\n",
    "            if timestamp-300-self.oldest>300:\n",
    "                init_vals = [0]*300\n",
    "                self.queue = deque(init_vals, maxlen = 300)\n",
    "            else:\n",
    "                for i in range(timestamp-300-self.oldest):\n",
    "                    self.queue.popleft() \n",
    "                    self.queue.append(0) \n",
    "            self.oldest = timestamp - 300\n",
    "            # print(\"timestamp:\",timestamp, \"queue:\", self.queue)\n",
    "\n",
    "            result = sum(self.queue)\n",
    "        else:\n",
    "            for i in range(timestamp):\n",
    "                result+= self.queue[i]\n",
    "        return result\n",
    "        \n",
    "\n",
    "\n",
    "# Your HitCounter object will be instantiated and called as such:\n",
    "# obj = HitCounter()\n",
    "# obj.hit(timestamp)\n",
    "# param_2 = obj.getHits(timestamp)\n",
    "\n",
    "\n",
    "# Your HitCounter object will be instantiated and called as such:\n",
    "# obj = HitCounter()\n",
    "# obj.hit(timestamp)\n",
    "# param_2 = obj.getHits(timestamp)"
   ]
  },
  {
   "cell_type": "markdown",
   "metadata": {},
   "source": [
    "Complexity Analysis\n",
    "\n",
    "Time Complexity\n",
    "\n",
    "hit - Since inserting a value in the queue takes place in O(1)O(1) time, hence hit method works in O(1)O(1).\n",
    "\n",
    "getHits - Assuming a total of nn values present in the queue at a time and the total number of timestamps encountered throughout is NN. In the worst case scenario, we might end up removing all the entries from the queue in getHits method if the difference in timestamp is greater than or equal to 300. Hence in the worst case, a \"single\" call to the getHits method can take O(n)O(n) time. However, we must notice that each timestamp is processed only twice (first while adding the timestamp in the queue in hit method and second while removing the timestamp from the queue in the getHits method). Hence if the total number of timestamps encountered throughout is NN, the overall time taken by getHits method is O(N)O(N). This results in an amortized time complexity of O(1)O(1) for a single call to getHits method.\n",
    "\n",
    "Space Complexity: Considering the total timestamps encountered throughout to be NN, the queue can have upto NN elements, hence overall space complexity of this approach is O(N)O(N).\n",
    "\n"
   ]
  },
  {
   "cell_type": "code",
   "execution_count": 36,
   "metadata": {},
   "outputs": [
    {
     "ename": "SyntaxError",
     "evalue": "invalid syntax (<ipython-input-36-40afbb7a7d1f>, line 1)",
     "output_type": "error",
     "traceback": [
      "\u001b[0;36m  File \u001b[0;32m\"<ipython-input-36-40afbb7a7d1f>\"\u001b[0;36m, line \u001b[0;32m1\u001b[0m\n\u001b[0;31m    class HitCounter {\u001b[0m\n\u001b[0m                     ^\u001b[0m\n\u001b[0;31mSyntaxError\u001b[0m\u001b[0;31m:\u001b[0m invalid syntax\n"
     ]
    }
   ],
   "source": [
    "class HitCounter {\n",
    "    private Queue<Integer> hits; \n",
    "\n",
    "    /** Initialize your data structure here. */\n",
    "    public HitCounter() {\n",
    "        this.hits = new LinkedList<Integer>();\n",
    "    }\n",
    "    \n",
    "    /** Record a hit.\n",
    "        @param timestamp - The current timestamp (in seconds granularity). */\n",
    "    public void hit(int timestamp) {\n",
    "        this.hits.add(timestamp);\n",
    "    }\n",
    "    \n",
    "    /** Return the number of hits in the past 5 minutes.\n",
    "        @param timestamp - The current timestamp (in seconds granularity). */\n",
    "    public int getHits(int timestamp) {\n",
    "        while (!this.hits.isEmpty()) {\n",
    "            int diff = timestamp - this.hits.peek();\n",
    "            if (diff >= 300) this.hits.remove();\n",
    "            else break;\n",
    "        }\n",
    "        return this.hits.size();\n",
    "    }\n",
    "}"
   ]
  },
  {
   "cell_type": "code",
   "execution_count": null,
   "metadata": {},
   "outputs": [],
   "source": []
  }
 ],
 "metadata": {
  "kernelspec": {
   "display_name": "Python 3",
   "language": "python",
   "name": "python3"
  },
  "language_info": {
   "codemirror_mode": {
    "name": "ipython",
    "version": 3
   },
   "file_extension": ".py",
   "mimetype": "text/x-python",
   "name": "python",
   "nbconvert_exporter": "python",
   "pygments_lexer": "ipython3",
   "version": "3.7.3"
  }
 },
 "nbformat": 4,
 "nbformat_minor": 4
}
