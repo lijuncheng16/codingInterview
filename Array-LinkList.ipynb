{
 "cells": [
  {
   "cell_type": "markdown",
   "metadata": {},
   "source": [
    "# 88. Merge Sorted Array\n"
   ]
  },
  {
   "cell_type": "code",
   "execution_count": null,
   "metadata": {},
   "outputs": [],
   "source": [
    "def merge(self, nums1: List[int], m: int, nums2: List[int], n: int) -> None:\n",
    "    \"\"\"\n",
    "    Do not return anything, modify nums1 in-place instead.\n",
    "    \"\"\"\n",
    "    print(nums1[n:])\n",
    "    for i in range(n):\n",
    "        nums1[i + m] = nums2[i]\n",
    "    nums1.sort()"
   ]
  },
  {
   "cell_type": "code",
   "execution_count": null,
   "metadata": {},
   "outputs": [],
   "source": [
    "def merge(self, nums1: List[int], m: int, nums2: List[int], n: int) -> None:\n",
    "    # Read pointers for nums1Copy and nums2 respectively.\n",
    "    p1 = 0\n",
    "    p2 = 0\n",
    "\n",
    "    # Compare elements from nums1Copy and nums2 and write the smallest to nums1.\n",
    "    for p in range(n + m):\n",
    "        # We also need to ensure that p1 and p2 aren't over the boundaries\n",
    "        # of their respective arrays.\n",
    "        if p2 >= n or (p1 < m and nums1_copy[p1] <= nums2[p2]):\n",
    "            nums1[p] = nums1_copy[p1] \n",
    "            p1 += 1\n",
    "        else:\n",
    "            nums1[p] = nums2[p2]\n",
    "            p2 += 1"
   ]
  },
  {
   "cell_type": "code",
   "execution_count": null,
   "metadata": {},
   "outputs": [],
   "source": [
    "def merge(self, nums1: List[int], m: int, nums2: List[int], n: int) -> None:\n",
    "    p1 = m - 1\n",
    "    p2 = n - 1\n",
    "    # And move p backwards through the array, each time writing\n",
    "    # the smallest value pointed at by p1 or p2.\n",
    "    for p in range(n + m - 1, -1, -1):\n",
    "        if p2 < 0:\n",
    "            break\n",
    "        if p1 >= 0 and nums1[p1] > nums2[p2]:\n",
    "            nums1[p] = nums1[p1]\n",
    "            p1 -= 1\n",
    "        else:\n",
    "            nums1[p] = nums2[p2]\n",
    "            p2 -= 1"
   ]
  },
  {
   "cell_type": "markdown",
   "metadata": {},
   "source": [
    "# 160. Intersection of Two Linked Lists\n"
   ]
  },
  {
   "cell_type": "code",
   "execution_count": null,
   "metadata": {},
   "outputs": [],
   "source": [
    "class Solution:\n",
    "    def getIntersectionNode(self, headA: ListNode, headB: ListNode) -> Optional[ListNode]:\n",
    "        listA = set()\n",
    "        nodeA = headA\n",
    "        nodeB = headB\n",
    "        while nodeA:\n",
    "            listA.add(nodeA)\n",
    "            nodeA = nodeA.next\n",
    "        while nodeB:\n",
    "            if nodeB in listA:\n",
    "                return nodeB\n",
    "            nodeB = nodeB.next\n",
    "        return None \n"
   ]
  },
  {
   "cell_type": "code",
   "execution_count": null,
   "metadata": {},
   "outputs": [],
   "source": [
    "class Solution:\n",
    "    def getIntersectionNode(self, headA: ListNode, headB: ListNode) -> Optional[ListNode]:\n",
    "        pA = headA\n",
    "        pB = headB\n",
    "        while pA != pB:\n",
    "            # print(pA,'|||', pB) \n",
    "            pA = headB if pA is None else pA.next\n",
    "            pB = headA if pB is None else pB.next\n",
    "        return pA"
   ]
  },
  {
   "cell_type": "markdown",
   "metadata": {},
   "source": [
    "# 622. Design Circular Queue\n"
   ]
  },
  {
   "cell_type": "markdown",
   "metadata": {},
   "source": [
    "Design your implementation of the circular queue. The circular queue is a linear data structure in which the operations are performed based on FIFO (First In First Out) principle and the last position is connected back to the first position to make a circle. It is also called \"Ring Buffer\"."
   ]
  },
  {
   "cell_type": "code",
   "execution_count": null,
   "metadata": {},
   "outputs": [],
   "source": [
    "class Node:\n",
    "    def __init__(self, value, nextNode=None):\n",
    "        self.val = value\n",
    "        self.next = nextNode\n",
    "\n",
    "class MyCircularQueue:\n",
    "\n",
    "    def __init__(self, k: int):\n",
    "        self.capacity = k\n",
    "        self.head = None\n",
    "        self.tail = None\n",
    "        self.count = 0\n",
    "        \n",
    "\n",
    "    def enQueue(self, value: int) -> bool:\n",
    "        if self.count == self.capacity:\n",
    "            return False\n",
    "        if self.count == 0:\n",
    "            self.head = Node(value)\n",
    "            self.tail = self.head\n",
    "        else:\n",
    "            newNode = Node(value)\n",
    "            self.tail.next = newNode\n",
    "            self.tail = newNode\n",
    "           \n",
    "        self.count +=1 \n",
    "        return True\n",
    "\n",
    "    def deQueue(self) -> bool:\n",
    "        if self.count == 0:\n",
    "            return False\n",
    "        self.head = self.head.next\n",
    "        self.count -= 1\n",
    "        return True\n",
    "    \n",
    "    def Front(self) -> int:\n",
    "        if self.count == 0:\n",
    "            return -1\n",
    "        return self.head.val\n",
    "\n",
    "    def Rear(self) -> int:\n",
    "        if self.count == 0:\n",
    "            return -1\n",
    "        return self.tail.val\n",
    "\n",
    "    def isEmpty(self) -> bool:\n",
    "        return self.count == 0\n",
    "\n",
    "    def isFull(self) -> bool:\n",
    "        return self.count == self.capacity"
   ]
  },
  {
   "cell_type": "markdown",
   "metadata": {},
   "source": [
    "# 445. Add Two Numbers II\n",
    "You are given two non-empty linked lists representing two non-negative integers. The most significant digit comes first and each of their nodes contains a single digit. Add the two numbers and return the sum as a linked list.\n",
    "\n",
    "You may assume the two numbers do not contain any leading zero, except the number 0 itself."
   ]
  },
  {
   "cell_type": "code",
   "execution_count": null,
   "metadata": {},
   "outputs": [],
   "source": [
    "def addTwoNumbers(self, l1: Optional[ListNode], l2: Optional[ListNode]) -> Optional[ListNode]:\n",
    "    def reverseList(head):\n",
    "        prevNode = None\n",
    "\n",
    "        while head:\n",
    "            nextNode = head.next\n",
    "            head.next = prevNode\n",
    "            prevNode = head\n",
    "            head = nextNode\n",
    "        return prevNode\n",
    "\n",
    "    l1 = reverseList(l1)\n",
    "    l2 = reverseList(l2)\n",
    "\n",
    "    head = ListNode(0)  # Dummy node\n",
    "    current = head\n",
    "    carry = 0\n",
    "\n",
    "    while l1 or l2 or carry:\n",
    "        val1  = (l1.val if l1 else 0)\n",
    "        val2  = (l2.val if l2 else 0)\n",
    "        carry, out = divmod(val1+val2+carry, 10)\n",
    "\n",
    "        current.next = ListNode(out)\n",
    "        current = current.next \n",
    "\n",
    "        l1 = (l1.next if l1 else None)\n",
    "        l2 = (l2.next if l2 else None)\n",
    "\n",
    "    return reverseList(head.next)  # Result is in reverse order.\n",
    "       "
   ]
  },
  {
   "cell_type": "code",
   "execution_count": null,
   "metadata": {},
   "outputs": [],
   "source": [
    "def addTwoNumbers(self, l1: Optional[ListNode], l2: Optional[ListNode]) -> Optional[ListNode]:\n",
    "    def listToNum(node):\n",
    "        num = 0\n",
    "        while node:\n",
    "            num = num * 10 + node.val\n",
    "            node = node.next\n",
    "        return num\n",
    "\n",
    "    def numToList(num):\n",
    "        dummyHead = ListNode(0)\n",
    "        if num == 0:\n",
    "            return dummyHead\n",
    "        while num > 0:\n",
    "            num, mod = divmod(num, 10)\n",
    "            dummyHead.next, dummyHead.next.next = ListNode(mod), dummyHead.next\n",
    "        return dummyHead.next\n",
    "\n",
    "    num = listToNum(l1) + listToNum(l2)\n",
    "    return numToList(num)"
   ]
  }
 ],
 "metadata": {
  "kernelspec": {
   "display_name": "Python 3 (ipykernel)",
   "language": "python",
   "name": "python3"
  },
  "language_info": {
   "codemirror_mode": {
    "name": "ipython",
    "version": 3
   },
   "file_extension": ".py",
   "mimetype": "text/x-python",
   "name": "python",
   "nbconvert_exporter": "python",
   "pygments_lexer": "ipython3",
   "version": "3.9.12"
  }
 },
 "nbformat": 4,
 "nbformat_minor": 4
}
