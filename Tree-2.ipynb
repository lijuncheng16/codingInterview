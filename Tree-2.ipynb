{
 "cells": [
  {
   "cell_type": "code",
   "execution_count": 34,
   "metadata": {},
   "outputs": [],
   "source": [
    "class TreeNode:\n",
    "    def __init__(self, val=0, left=None, right=None):\n",
    "        self.val = val\n",
    "        self.left = left\n",
    "        self.right = right"
   ]
  },
  {
   "cell_type": "code",
   "execution_count": 41,
   "metadata": {},
   "outputs": [],
   "source": [
    "root = TreeNode(1)\n",
    "root.left = TreeNode(2)\n",
    "root.right = TreeNode(3)\n",
    "root.right.right = TreeNode(7)\n",
    "root.right.left = TreeNode(6)\n",
    "root.left.right = TreeNode(5)\n",
    "root.left.left = TreeNode(4)\n"
   ]
  },
  {
   "cell_type": "code",
   "execution_count": 36,
   "metadata": {},
   "outputs": [
    {
     "name": "stdout",
     "output_type": "stream",
     "text": [
      "1\n"
     ]
    }
   ],
   "source": [
    "print(root.val)"
   ]
  },
  {
   "cell_type": "code",
   "execution_count": 4,
   "metadata": {},
   "outputs": [],
   "source": [
    "from typing import List"
   ]
  },
  {
   "cell_type": "markdown",
   "metadata": {},
   "source": [
    "## Given the root of a binary tree, return the postorder traversal of its nodes' values.\n",
    "- postorder: left right root\n",
    "- preorder root left right\n",
    "- inorder left root right"
   ]
  },
  {
   "cell_type": "markdown",
   "metadata": {},
   "source": [
    "            1\n",
    "           / \\\n",
    "          2    3\n",
    "         / \\  / \\\n",
    "        4  5 6   7\n"
   ]
  },
  {
   "cell_type": "code",
   "execution_count": 13,
   "metadata": {},
   "outputs": [],
   "source": [
    "def postorderTraversal(root: TreeNode) -> List[int]:\n",
    "        output = []\n",
    "        dfs(root, output)\n",
    "        return output"
   ]
  },
  {
   "cell_type": "code",
   "execution_count": 14,
   "metadata": {},
   "outputs": [],
   "source": [
    "def dfs(root: TreeNode, output):\n",
    "    if root is None:\n",
    "        return 0\n",
    "    dfs(root.left, output)\n",
    "    dfs(root.right, output)\n",
    "    print(root.val, output)\n",
    "    output.append(root.val)"
   ]
  },
  {
   "cell_type": "code",
   "execution_count": 15,
   "metadata": {},
   "outputs": [
    {
     "name": "stdout",
     "output_type": "stream",
     "text": [
      "4 []\n",
      "5 [4]\n",
      "2 [4, 5]\n",
      "6 [4, 5, 2]\n",
      "7 [4, 5, 2, 6]\n",
      "3 [4, 5, 2, 6, 7]\n",
      "1 [4, 5, 2, 6, 7, 3]\n"
     ]
    },
    {
     "data": {
      "text/plain": [
       "[4, 5, 2, 6, 7, 3, 1]"
      ]
     },
     "execution_count": 15,
     "metadata": {},
     "output_type": "execute_result"
    }
   ],
   "source": [
    "postorderTraversal(root)"
   ]
  },
  {
   "cell_type": "code",
   "execution_count": 50,
   "metadata": {},
   "outputs": [],
   "source": [
    "def preorderTraversal(root: TreeNode) -> List[int]:\n",
    "        output = []\n",
    "        dfs_preorder(root, output)\n",
    "        return output"
   ]
  },
  {
   "cell_type": "code",
   "execution_count": 51,
   "metadata": {},
   "outputs": [],
   "source": [
    "def dfs_preorder(root: TreeNode, output):\n",
    "    if root is None:\n",
    "        return 0\n",
    "    output.append(root.val)\n",
    "    dfs_preorder(root.left, output)\n",
    "    dfs_preorder(root.right, output)\n",
    "    print(root.val, output)\n"
   ]
  },
  {
   "cell_type": "code",
   "execution_count": 52,
   "metadata": {},
   "outputs": [
    {
     "name": "stdout",
     "output_type": "stream",
     "text": [
      "4 [1, 2, 4]\n",
      "5 [1, 2, 4, 5]\n",
      "2 [1, 2, 4, 5]\n",
      "6 [1, 2, 4, 5, 3, 6]\n",
      "7 [1, 2, 4, 5, 3, 6, 7]\n",
      "3 [1, 2, 4, 5, 3, 6, 7]\n",
      "1 [1, 2, 4, 5, 3, 6, 7]\n"
     ]
    },
    {
     "data": {
      "text/plain": [
       "[1, 2, 4, 5, 3, 6, 7]"
      ]
     },
     "execution_count": 52,
     "metadata": {},
     "output_type": "execute_result"
    }
   ],
   "source": [
    "preorderTraversal(root)"
   ]
  },
  {
   "cell_type": "code",
   "execution_count": 85,
   "metadata": {},
   "outputs": [],
   "source": [
    "def inorderTraversal(root: TreeNode) -> List[int]:\n",
    "        output = []\n",
    "        dfs_inorder(root, output)\n",
    "        return output"
   ]
  },
  {
   "cell_type": "code",
   "execution_count": 86,
   "metadata": {},
   "outputs": [],
   "source": [
    "def dfs_inorder(root: TreeNode, output):\n",
    "    if root is None:\n",
    "        return 0\n",
    "    dfs_inorder(root.left, output)\n",
    "    output.append(root.val)\n",
    "    dfs_inorder(root.right, output)\n",
    "    print(root.val, output)\n"
   ]
  },
  {
   "cell_type": "code",
   "execution_count": 87,
   "metadata": {},
   "outputs": [
    {
     "name": "stdout",
     "output_type": "stream",
     "text": [
      "4 [4]\n",
      "5 [4, 2, 5]\n",
      "2 [4, 2, 5]\n",
      "6 [4, 2, 5, 1, 6]\n",
      "7 [4, 2, 5, 1, 6, 3, 7]\n",
      "3 [4, 2, 5, 1, 6, 3, 7]\n",
      "1 [4, 2, 5, 1, 6, 3, 7]\n"
     ]
    },
    {
     "data": {
      "text/plain": [
       "[4, 2, 5, 1, 6, 3, 7]"
      ]
     },
     "execution_count": 87,
     "metadata": {},
     "output_type": "execute_result"
    }
   ],
   "source": [
    "inorderTraversal(root)"
   ]
  },
  {
   "cell_type": "markdown",
   "metadata": {},
   "source": [
    "# Get Height of Binary Tree:"
   ]
  },
  {
   "cell_type": "code",
   "execution_count": 53,
   "metadata": {},
   "outputs": [],
   "source": [
    "def bt_height(root: TreeNode) -> int:\n",
    "    if root is None:\n",
    "        return 0\n",
    "    left_height = bt_height(root.left)\n",
    "    right_height = bt_height(root.right)\n",
    "    return (max(left_height, right_height)+1)"
   ]
  },
  {
   "cell_type": "code",
   "execution_count": 54,
   "metadata": {},
   "outputs": [
    {
     "data": {
      "text/plain": [
       "3"
      ]
     },
     "execution_count": 54,
     "metadata": {},
     "output_type": "execute_result"
    }
   ],
   "source": [
    "bt_height(root)"
   ]
  },
  {
   "cell_type": "markdown",
   "metadata": {},
   "source": [
    "# use stack to implement BT traverse"
   ]
  },
  {
   "cell_type": "code",
   "execution_count": 55,
   "metadata": {},
   "outputs": [],
   "source": [
    "def dfs_preorder_stack(root: TreeNode) -> List[int]:\n",
    "    if not root:\n",
    "        return []\n",
    "    result = []\n",
    "    stack = [root]\n",
    "    while stack:\n",
    "        node = stack.pop()\n",
    "        result.append(node.val)\n",
    "        if node.right is not None:\n",
    "            stack.append(node.right)\n",
    "        if node.left is not None:\n",
    "            stack.append(node.left)\n",
    "    return result\n",
    "\n",
    "    "
   ]
  },
  {
   "cell_type": "code",
   "execution_count": 56,
   "metadata": {},
   "outputs": [
    {
     "data": {
      "text/plain": [
       "[1, 2, 4, 5, 3, 6, 7]"
      ]
     },
     "execution_count": 56,
     "metadata": {},
     "output_type": "execute_result"
    }
   ],
   "source": [
    "dfs_preorder_stack(root)"
   ]
  },
  {
   "cell_type": "markdown",
   "metadata": {},
   "source": [
    "1. Push root to first stack.\n",
    "2. Loop while first stack is not empty\n",
    "\n",
    "   - Pop a node from first stack and push it to second stack\n",
    "   - Push left and right children of the popped node to first stack\n",
    "   \n",
    "3. Print contents of second stack"
   ]
  },
  {
   "cell_type": "code",
   "execution_count": 67,
   "metadata": {},
   "outputs": [],
   "source": [
    "def dfs_postorder_stack(root: TreeNode) -> List[int]:\n",
    "    if not root:\n",
    "        return []\n",
    "    stack1 = [root]\n",
    "    stack2 = []\n",
    "    counter = 0\n",
    "    while stack1:\n",
    "        node = stack1.pop()\n",
    "        stack2.append(node)\n",
    "        if node.left is not None:\n",
    "            stack1.append(node.left)\n",
    "        if node.right is not None:\n",
    "            stack1.append(node.right)\n",
    "#         result.append(node.val)\n",
    "        stack1_print = []\n",
    "        stack2_print = []\n",
    "        for item in stack2:\n",
    "            stack2_print.append(item.val) \n",
    "        print(f'stack2:{stack2_print}')\n",
    "        for item in stack1:\n",
    "            stack1_print.append(item.val) \n",
    "        print(f'stack1:{stack1_print}')\n",
    "        print(f'counter: {counter}')\n",
    "        counter +=1 \n",
    "    result = []\n",
    "    while stack2:\n",
    "        node = stack2.pop()\n",
    "        result.append(node.val)\n",
    "    return result"
   ]
  },
  {
   "cell_type": "code",
   "execution_count": 68,
   "metadata": {},
   "outputs": [
    {
     "name": "stdout",
     "output_type": "stream",
     "text": [
      "stack2:[1]\n",
      "stack1:[2, 3]\n",
      "counter: 0\n",
      "stack2:[1, 3]\n",
      "stack1:[2, 6, 7]\n",
      "counter: 1\n",
      "stack2:[1, 3, 7]\n",
      "stack1:[2, 6]\n",
      "counter: 2\n",
      "stack2:[1, 3, 7, 6]\n",
      "stack1:[2]\n",
      "counter: 3\n",
      "stack2:[1, 3, 7, 6, 2]\n",
      "stack1:[4, 5]\n",
      "counter: 4\n",
      "stack2:[1, 3, 7, 6, 2, 5]\n",
      "stack1:[4]\n",
      "counter: 5\n",
      "stack2:[1, 3, 7, 6, 2, 5, 4]\n",
      "stack1:[]\n",
      "counter: 6\n"
     ]
    },
    {
     "data": {
      "text/plain": [
       "[4, 5, 2, 6, 7, 3, 1]"
      ]
     },
     "execution_count": 68,
     "metadata": {},
     "output_type": "execute_result"
    }
   ],
   "source": [
    "dfs_postorder_stack(root)"
   ]
  },
  {
   "cell_type": "markdown",
   "metadata": {},
   "source": [
    "1.1 Create an empty stack\n",
    "\n",
    "2.1 Do following while root is not NULL\n",
    "    a) Push root's right child and then root to stack.\n",
    "    b) Set root as root's left child.\n",
    "    \n",
    "2.2 Pop an item from stack and set it as root.\n",
    "    - If the popped item has a right child and the right child \n",
    "       is at top of stack, then remove the right child from stack,\n",
    "       push the root back and set root as root's right child.\n",
    "    - Else print root's data and set root as NULL.\n",
    "    \n",
    "2.3 Repeat steps 2.1 and 2.2 while stack is not empty.\n",
    "        1\n",
    "       / \\\n",
    "      2    3\n",
    "     / \\  / \\\n",
    "    4  5 6   7"
   ]
  },
  {
   "cell_type": "markdown",
   "metadata": {},
   "source": [
    "# This shit is hard to understand!"
   ]
  },
  {
   "cell_type": "code",
   "execution_count": 74,
   "metadata": {},
   "outputs": [],
   "source": [
    "def peek(stack): \n",
    "    if len(stack) > 0: \n",
    "        return stack[-1] \n",
    "    return None"
   ]
  },
  {
   "cell_type": "markdown",
   "metadata": {},
   "source": [
    "Need the above function otherwise things go out of bound"
   ]
  },
  {
   "cell_type": "code",
   "execution_count": 79,
   "metadata": {},
   "outputs": [],
   "source": [
    "def dfs_postorder_stack2(root: TreeNode) -> List[int]:\n",
    "    if not root:\n",
    "        return []\n",
    "    stack = []\n",
    "    result = []\n",
    "    counter = 0\n",
    "    while True:\n",
    "        while root is not None:\n",
    "            # Push root's right child and then root to stack \n",
    "            if(root.right) is not None:\n",
    "                stack.append(root.right)\n",
    "            stack.append(root)\n",
    "            # Set root as root's left child \n",
    "            root = root.left \n",
    "        # Pop an item from stack and set it as root \n",
    "                    \n",
    "        stack_print = []\n",
    "        for item in stack:\n",
    "            stack_print.append(item.val) \n",
    "        print(f'stack:{stack_print}, counter: {counter}')\n",
    "\n",
    "        root = stack.pop()\n",
    "        if (root.right is not None and peek(stack) == root.right): \n",
    "            print(root.val)\n",
    "            stack.pop() # Remove right child from stack \n",
    "            stack.append(root) # Push root back to stack \n",
    "            root = root.right # change root so that the \n",
    "                                    # righ childis processed next \n",
    "\n",
    "        # Else print root's data and set root as None \n",
    "        else:\n",
    "            result.append(root.val) \n",
    "            root = None\n",
    "        counter += 1\n",
    "        if (len(stack) <= 0): \n",
    "                        break\n",
    "\n",
    "        \n",
    "    return result"
   ]
  },
  {
   "cell_type": "code",
   "execution_count": 80,
   "metadata": {},
   "outputs": [
    {
     "name": "stdout",
     "output_type": "stream",
     "text": [
      "stack:[3, 1, 5, 2, 4], counter: 0\n",
      "stack:[3, 1, 5, 2], counter: 1\n",
      "2\n",
      "stack:[3, 1, 2, 5], counter: 2\n",
      "stack:[3, 1, 2], counter: 3\n",
      "stack:[3, 1], counter: 4\n",
      "1\n",
      "stack:[1, 7, 3, 6], counter: 5\n",
      "stack:[1, 7, 3], counter: 6\n",
      "3\n",
      "stack:[1, 3, 7], counter: 7\n",
      "stack:[1, 3], counter: 8\n",
      "stack:[1], counter: 9\n"
     ]
    },
    {
     "data": {
      "text/plain": [
       "[4, 5, 2, 6, 7, 3, 1]"
      ]
     },
     "execution_count": 80,
     "metadata": {},
     "output_type": "execute_result"
    }
   ],
   "source": [
    "dfs_postorder_stack2(root)"
   ]
  },
  {
   "cell_type": "markdown",
   "metadata": {},
   "source": [
    "1) Create an empty stack S.\n",
    "2) Initialize current node as root\n",
    "3) Push the current node to S and set current = current->left until current is NULL\n",
    "4) If current is NULL and stack is not empty then \n",
    "     a) Pop the top item from stack.\n",
    "     b) Print the popped item, set current = popped_item->right \n",
    "     c) Go to step 3.\n",
    "5) If current is NULL and stack is empty then we are done."
   ]
  },
  {
   "cell_type": "code",
   "execution_count": 94,
   "metadata": {},
   "outputs": [],
   "source": [
    "def dfs_inorder_stack(root: TreeNode) -> List[int]:\n",
    "    if not root:\n",
    "        return []\n",
    "    result = []\n",
    "    stack = []\n",
    "    curr = root\n",
    "    while True:\n",
    "        while curr is not None:\n",
    "            stack.append(curr)\n",
    "            curr = curr.left\n",
    "        if curr is None and stack:\n",
    "            node = stack.pop()\n",
    "            print(node.val)\n",
    "            curr = node.right\n",
    "            result.append(node.val)\n",
    "        if curr is None and stack ==[]:\n",
    "            break\n",
    "    return result"
   ]
  },
  {
   "cell_type": "code",
   "execution_count": 95,
   "metadata": {},
   "outputs": [
    {
     "name": "stdout",
     "output_type": "stream",
     "text": [
      "4\n",
      "2\n",
      "5\n",
      "1\n",
      "6\n",
      "3\n",
      "7\n"
     ]
    },
    {
     "data": {
      "text/plain": [
       "[4, 2, 5, 1, 6, 3, 7]"
      ]
     },
     "execution_count": 95,
     "metadata": {},
     "output_type": "execute_result"
    }
   ],
   "source": [
    "dfs_inorder_stack(root)"
   ]
  },
  {
   "cell_type": "code",
   "execution_count": 8,
   "metadata": {},
   "outputs": [],
   "source": [
    "root = TreeNode(1)\n",
    "root.left = TreeNode(2)\n",
    "root.right = TreeNode(3)\n",
    "root.right.right = TreeNode(7)\n",
    "root.right.left = TreeNode(6)\n",
    "root.left.right = TreeNode(5)\n",
    "root.left.left = TreeNode(4)\n",
    "root.left.left.left = TreeNode(8)\n",
    "root.left.left.right = TreeNode(9)"
   ]
  },
  {
   "cell_type": "raw",
   "metadata": {},
   "source": [
    "            1\n",
    "           / \\\n",
    "          2    3\n",
    "         / \\  / \\\n",
    "        4  5 6   7\n",
    "       / \\  \n",
    "      8  9"
   ]
  },
  {
   "cell_type": "markdown",
   "metadata": {},
   "source": [
    "# 199. Binary Tree Right Side View\n"
   ]
  },
  {
   "cell_type": "code",
   "execution_count": 16,
   "metadata": {},
   "outputs": [],
   "source": [
    "# Definition for a binary tree node.\n",
    "# class TreeNode:\n",
    "#     def __init__(self, val=0, left=None, right=None):\n",
    "#         self.val = val\n",
    "#         self.left = left\n",
    "#         self.right = right\n",
    "def rightSideView(root: TreeNode) -> List[int]:\n",
    "    if root is None:\n",
    "        return []\n",
    "\n",
    "    rightside = []\n",
    "\n",
    "    def helper(node: TreeNode, level: int) -> None:\n",
    "        if level == len(rightside):\n",
    "            print(f'lvl:{level}, right:{rightside}')\n",
    "            rightside.append(node.val)\n",
    "        for child in [node.right, node.left]:\n",
    "            if child:\n",
    "                print(f'child: {child.val}')\n",
    "                helper(child, level + 1)\n",
    "\n",
    "    helper(root, 0)\n",
    "    return rightside\n",
    "    # if root.right"
   ]
  },
  {
   "cell_type": "code",
   "execution_count": 17,
   "metadata": {},
   "outputs": [
    {
     "name": "stdout",
     "output_type": "stream",
     "text": [
      "lvl:0, right:[]\n",
      "child: 3\n",
      "lvl:1, right:[1]\n",
      "child: 7\n",
      "lvl:2, right:[1, 3]\n",
      "child: 6\n",
      "child: 2\n",
      "child: 5\n",
      "child: 4\n"
     ]
    },
    {
     "data": {
      "text/plain": [
       "[1, 3, 7]"
      ]
     },
     "execution_count": 17,
     "metadata": {},
     "output_type": "execute_result"
    }
   ],
   "source": [
    "rightSideView(root)"
   ]
  },
  {
   "cell_type": "markdown",
   "metadata": {},
   "source": [
    "# 543. Diameter of Binary Tree\n"
   ]
  },
  {
   "cell_type": "markdown",
   "metadata": {},
   "source": [
    "Given the root of a binary tree, return the length of the diameter of the tree.\n",
    "\n",
    "The diameter of a binary tree is the length of the longest path between any two nodes in a tree. This path may or may not pass through the root.\n",
    "\n",
    "The length of a path between two nodes is represented by the number of edges between them.\n",
    "\n",
    " "
   ]
  },
  {
   "cell_type": "raw",
   "metadata": {},
   "source": [
    "Input: root = [1,2,3,4,5]\n",
    "Output: 3\n",
    "Explanation: 3 is the length of the path [4,2,1,3] or [5,2,1,3]."
   ]
  },
  {
   "cell_type": "code",
   "execution_count": 31,
   "metadata": {},
   "outputs": [],
   "source": [
    "def diameterOfBinaryTree(root) -> int:\n",
    "    def dfs_string(node, string, summ):\n",
    "                if node:\n",
    "                    string += string.join([str(node.val)])\n",
    "                    # print(string)\n",
    "                    if node.left is None and node.right is None:\n",
    "                        summ.append(string)\n",
    "                    else:\n",
    "                        dfs_string(node.left, string, summ)\n",
    "                        dfs_string(node.right, string, summ)\n",
    "\n",
    "    if root is None:\n",
    "        return 0\n",
    "    string = ''\n",
    "    summ = []\n",
    "    dfs_string(root, string, summ)\n",
    "    [print (len(item)) for item in summ]"
   ]
  },
  {
   "cell_type": "code",
   "execution_count": 32,
   "metadata": {},
   "outputs": [
    {
     "name": "stdout",
     "output_type": "stream",
     "text": [
      "3\n",
      "3\n",
      "3\n",
      "3\n"
     ]
    }
   ],
   "source": [
    "diameterOfBinaryTree(root)"
   ]
  },
  {
   "cell_type": "markdown",
   "metadata": {},
   "source": [
    "# 98. Validate Binary Search Tree\n"
   ]
  },
  {
   "cell_type": "code",
   "execution_count": 60,
   "metadata": {},
   "outputs": [],
   "source": [
    "def isValidBST(root) -> bool:\n",
    "    def checkTree(root, lessThan = float('inf'), largerThan = float('-inf')):\n",
    "        if not root:\n",
    "            return True\n",
    "        if root.val <= largerThan or root.val >= lessThan:\n",
    "            return False\n",
    "        return checkTree(root.left, min(lessThan, root.val), largerThan) and \\\n",
    "               checkTree(root.right, lessThan, max(root.val, largerThan))\n",
    "    return checkTree(root, lessThan = float('inf'), largerThan = float('-inf'))"
   ]
  },
  {
   "cell_type": "code",
   "execution_count": 62,
   "metadata": {},
   "outputs": [],
   "source": [
    "def isValidBST(self, root):\n",
    "    return check_bst(root, float(\"-inf\"), float(\"inf\"))\n",
    "\t\n",
    "def check_bst(self, node, left, right):\n",
    "    if not node:\n",
    "        return True\n",
    "\n",
    "    if not left < node.val < right:\n",
    "        return False\n",
    "\n",
    "    return (check_bst(node.left, left, node.val)\n",
    "            and check_bst(node.right, node.val, right))"
   ]
  },
  {
   "cell_type": "code",
   "execution_count": 61,
   "metadata": {},
   "outputs": [
    {
     "name": "stdout",
     "output_type": "stream",
     "text": [
      "False\n"
     ]
    }
   ],
   "source": [
    "print(isValidBST(root))"
   ]
  },
  {
   "cell_type": "code",
   "execution_count": null,
   "metadata": {},
   "outputs": [],
   "source": [
    "# Python version based on inorder traversal\n"
   ]
  },
  {
   "cell_type": "code",
   "execution_count": null,
   "metadata": {},
   "outputs": [],
   "source": [
    "def isValidBST(self, root):\n",
    "    output = []\n",
    "    self.inOrder(root, output)\n",
    "\n",
    "    for i in range(1, len(output)):\n",
    "        if output[i-1] >= output[i]:\n",
    "            return False\n",
    "\n",
    "    return True\n",
    "\n",
    "def inOrder(self, root, output):\n",
    "    if root is None:\n",
    "        return\n",
    "\n",
    "    self.inOrder(root.left, output)\n",
    "    output.append(root.val)\n",
    "    self.inOrder(root.right, output)"
   ]
  },
  {
   "cell_type": "raw",
   "metadata": {},
   "source": [
    "https://leetcode.com/problems/validate-binary-search-tree/discuss/786520/General-Tree-Traversal-Problems-interview-Prep"
   ]
  },
  {
   "cell_type": "markdown",
   "metadata": {},
   "source": [
    "# 230. Kth Smallest Element in a BST\n"
   ]
  },
  {
   "cell_type": "raw",
   "metadata": {},
   "source": [
    "Given the root of a binary search tree, and an integer k, return the kth (1-indexed) smallest element in the tree.\n",
    "\n"
   ]
  },
  {
   "cell_type": "code",
   "execution_count": 66,
   "metadata": {},
   "outputs": [],
   "source": [
    "def kthSmallest(root, k) -> int:\n",
    "    self.heap =[]\n",
    "    def dfs(root):\n",
    "        if root:\n",
    "            dfs(root.left)\n",
    "            heapq.heappush(self.heap, root.val)\n",
    "            dfs(root.right)\n",
    "    dfs(root)\n",
    "    for _ in range(k-1):\n",
    "        heapq.heappop(self.heap)\n",
    "    return self.heap[0]"
   ]
  },
  {
   "cell_type": "code",
   "execution_count": 65,
   "metadata": {},
   "outputs": [],
   "source": [
    "def kthSmallestt(root, k) -> int:\n",
    "    stack = []\n",
    "\n",
    "    while True:\n",
    "        while root:\n",
    "            stack.append(root)\n",
    "            root = root.left\n",
    "        root = stack.pop()\n",
    "        k -= 1\n",
    "        if not k:\n",
    "            return root.val\n",
    "        root = root.right"
   ]
  },
  {
   "cell_type": "code",
   "execution_count": 68,
   "metadata": {},
   "outputs": [
    {
     "data": {
      "text/plain": [
       "1"
      ]
     },
     "execution_count": 68,
     "metadata": {},
     "output_type": "execute_result"
    }
   ],
   "source": [
    "k =4 \n",
    "kthSmallestt(root, k)"
   ]
  },
  {
   "cell_type": "code",
   "execution_count": null,
   "metadata": {},
   "outputs": [],
   "source": []
  },
  {
   "cell_type": "code",
   "execution_count": null,
   "metadata": {},
   "outputs": [],
   "source": []
  }
 ],
 "metadata": {
  "kernelspec": {
   "display_name": "Python 3",
   "language": "python",
   "name": "python3"
  },
  "language_info": {
   "codemirror_mode": {
    "name": "ipython",
    "version": 3
   },
   "file_extension": ".py",
   "mimetype": "text/x-python",
   "name": "python",
   "nbconvert_exporter": "python",
   "pygments_lexer": "ipython3",
   "version": "3.7.4"
  }
 },
 "nbformat": 4,
 "nbformat_minor": 4
}
