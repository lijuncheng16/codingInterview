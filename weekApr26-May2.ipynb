{
 "cells": [
  {
   "cell_type": "markdown",
   "metadata": {},
   "source": [
    "# 40. Combination Sum II ( Need to review knapsack, backtrack and coin change)\n"
   ]
  },
  {
   "cell_type": "markdown",
   "metadata": {},
   "source": [
    "Given a collection of candidate numbers (candidates) and a target number (target), find all unique combinations in candidates where the candidate numbers sum to target.\n",
    "\n",
    "Each number in candidates may only be used once in the combination."
   ]
  },
  {
   "cell_type": "code",
   "execution_count": 2,
   "metadata": {},
   "outputs": [],
   "source": [
    "from typing import List"
   ]
  },
  {
   "cell_type": "code",
   "execution_count": 12,
   "metadata": {},
   "outputs": [],
   "source": [
    "candidates = [10,1,2,7,6,1,5]\n",
    "target = 8"
   ]
  },
  {
   "cell_type": "code",
   "execution_count": 6,
   "metadata": {},
   "outputs": [],
   "source": [
    "candidates = [2,5,2,1,2]\n",
    "target = 5"
   ]
  },
  {
   "cell_type": "code",
   "execution_count": 16,
   "metadata": {},
   "outputs": [],
   "source": [
    "def combinationSum2(candidates: List[int], target: int) -> List[List[int]]:\n",
    "        candidates.sort()\n",
    "        dp = [set() for i in range(target+1)]\n",
    "        print(f'original dp array:{dp}')\n",
    "        dp[0].add(())\n",
    "        print(f'first step:{dp}')\n",
    "\n",
    "        for num in candidates:\n",
    "            for t in range(target, num-1, -1):\n",
    "                for prev in dp[t-num]:\n",
    "                    dp[t].add(prev + (num,))\n",
    "                    print (f'step: {dp}')\n",
    "        return list(dp[-1])"
   ]
  },
  {
   "cell_type": "markdown",
   "metadata": {},
   "source": [
    "#### go back to review coin change knapsack"
   ]
  },
  {
   "cell_type": "code",
   "execution_count": 17,
   "metadata": {},
   "outputs": [
    {
     "name": "stdout",
     "output_type": "stream",
     "text": [
      "original dp array:[set(), set(), set(), set(), set(), set(), set(), set(), set()]\n",
      "first step:[{()}, set(), set(), set(), set(), set(), set(), set(), set()]\n",
      "step: [{()}, {(1,)}, set(), set(), set(), set(), set(), set(), set()]\n",
      "step: [{()}, {(1,)}, {(1, 1)}, set(), set(), set(), set(), set(), set()]\n",
      "step: [{()}, {(1,)}, {(1, 1)}, set(), set(), set(), set(), set(), set()]\n",
      "step: [{()}, {(1,)}, {(1, 1)}, set(), {(1, 1, 2)}, set(), set(), set(), set()]\n",
      "step: [{()}, {(1,)}, {(1, 1)}, {(1, 2)}, {(1, 1, 2)}, set(), set(), set(), set()]\n",
      "step: [{()}, {(1,)}, {(1, 1), (2,)}, {(1, 2)}, {(1, 1, 2)}, set(), set(), set(), set()]\n",
      "step: [{()}, {(1,)}, {(1, 1), (2,)}, {(1, 2)}, {(1, 1, 2)}, set(), set(), set(), {(1, 2, 5)}]\n",
      "step: [{()}, {(1,)}, {(1, 1), (2,)}, {(1, 2)}, {(1, 1, 2)}, set(), set(), {(1, 1, 5)}, {(1, 2, 5)}]\n",
      "step: [{()}, {(1,)}, {(1, 1), (2,)}, {(1, 2)}, {(1, 1, 2)}, set(), set(), {(1, 1, 5), (2, 5)}, {(1, 2, 5)}]\n",
      "step: [{()}, {(1,)}, {(1, 1), (2,)}, {(1, 2)}, {(1, 1, 2)}, set(), {(1, 5)}, {(1, 1, 5), (2, 5)}, {(1, 2, 5)}]\n",
      "step: [{()}, {(1,)}, {(1, 1), (2,)}, {(1, 2)}, {(1, 1, 2)}, {(5,)}, {(1, 5)}, {(1, 1, 5), (2, 5)}, {(1, 2, 5)}]\n",
      "step: [{()}, {(1,)}, {(1, 1), (2,)}, {(1, 2)}, {(1, 1, 2)}, {(5,)}, {(1, 5)}, {(1, 1, 5), (2, 5)}, {(1, 1, 6), (1, 2, 5)}]\n",
      "step: [{()}, {(1,)}, {(1, 1), (2,)}, {(1, 2)}, {(1, 1, 2)}, {(5,)}, {(1, 5)}, {(1, 1, 5), (2, 5)}, {(2, 6), (1, 1, 6), (1, 2, 5)}]\n",
      "step: [{()}, {(1,)}, {(1, 1), (2,)}, {(1, 2)}, {(1, 1, 2)}, {(5,)}, {(1, 5)}, {(1, 6), (1, 1, 5), (2, 5)}, {(2, 6), (1, 1, 6), (1, 2, 5)}]\n",
      "step: [{()}, {(1,)}, {(1, 1), (2,)}, {(1, 2)}, {(1, 1, 2)}, {(5,)}, {(6,), (1, 5)}, {(1, 6), (1, 1, 5), (2, 5)}, {(2, 6), (1, 1, 6), (1, 2, 5)}]\n",
      "step: [{()}, {(1,)}, {(1, 1), (2,)}, {(1, 2)}, {(1, 1, 2)}, {(5,)}, {(6,), (1, 5)}, {(1, 6), (1, 1, 5), (2, 5)}, {(2, 6), (1, 7), (1, 1, 6), (1, 2, 5)}]\n",
      "step: [{()}, {(1,)}, {(1, 1), (2,)}, {(1, 2)}, {(1, 1, 2)}, {(5,)}, {(6,), (1, 5)}, {(1, 6), (7,), (1, 1, 5), (2, 5)}, {(2, 6), (1, 7), (1, 1, 6), (1, 2, 5)}]\n"
     ]
    },
    {
     "data": {
      "text/plain": [
       "[(2, 6), (1, 7), (1, 1, 6), (1, 2, 5)]"
      ]
     },
     "execution_count": 17,
     "metadata": {},
     "output_type": "execute_result"
    }
   ],
   "source": [
    "combinationSum2(candidates, target)"
   ]
  },
  {
   "cell_type": "markdown",
   "metadata": {},
   "source": [
    "### also can be solved with recursion need to review, memory is kinda of fading."
   ]
  },
  {
   "cell_type": "markdown",
   "metadata": {},
   "source": [
    "# 1518. Water Bottles\n"
   ]
  },
  {
   "cell_type": "markdown",
   "metadata": {},
   "source": [
    "Given numBottles full water bottles, you can exchange numExchange empty water bottles for one full water bottle.\n",
    "\n",
    "The operation of drinking a full water bottle turns it into an empty bottle.\n",
    "\n",
    "Return the maximum number of water bottles you can drink."
   ]
  },
  {
   "cell_type": "code",
   "execution_count": 21,
   "metadata": {},
   "outputs": [],
   "source": [
    "numBottles = 15\n",
    "numExchange = 8"
   ]
  },
  {
   "cell_type": "markdown",
   "metadata": {},
   "source": [
    "O(logN):\n",
    "\n",
    "As long as there are no less than numExchange bottles left, we can drink them and use the empty bottles to exchange full bottle(s)."
   ]
  },
  {
   "cell_type": "code",
   "execution_count": 22,
   "metadata": {},
   "outputs": [],
   "source": [
    "class Solution:\n",
    "    def numWaterBottles(self, numBottles: int, numExchange: int) -> int:\n",
    "        num_full = numBottles\n",
    "        num_empty = 0\n",
    "        drunk = 0\n",
    "        while num_full>0:\n",
    "            drunk += num_full\n",
    "            prev_full = num_full\n",
    "            num_full = (prev_full+num_empty) // numExchange \n",
    "            num_empty = (prev_full+num_empty) % numExchange\n",
    "            # print(drunk, num_full, num_empty)\n",
    "        return(drunk)\n",
    "    \n",
    "        "
   ]
  },
  {
   "cell_type": "markdown",
   "metadata": {},
   "source": [
    "O(1):\n",
    "Key observation: A full bottle of water = A empty bottle + One (bottle) unit of water.\n",
    "\n",
    "e.g., for test case: 9, 3:\n",
    "3 empty bottles can exchange 1 full bottle of water implies 3 empty bottles exchange 1 empty bottle + 1 (bottle) unit of water, which in turn means (3 - 1) = 2 empty bottles can exchange 1 (bottle) unit of water.\n",
    "\n",
    "Further more, if you only have 2 empty bottles remaining(the edge case), you can NOT exchange it for 1 (bottle) unit of water.\n",
    "\n",
    "Substitue the number 3 above by numExchange, we get an important conclusion:\n",
    "(numExchange - 1) empty bottles can exchange 1 (bottle) unit of water, unless you have only numExchange left.\n",
    "\n",
    "When we meet edge case we need to minus 1 additionally in the numerator (numBottles - 1)/ (numExchange - 1) to avoid having only numExchange left but unable to exchange 1 bottle of water\n",
    "Note: Under (numExchange - 1) * n condition , we call it edge case\n",
    "\n"
   ]
  },
  {
   "cell_type": "code",
   "execution_count": 24,
   "metadata": {},
   "outputs": [],
   "source": [
    "def numWaterBottles( numBottles: int, numExchange: int) -> int:\n",
    "    return (numBottles*numExchange-1)//(numExchange-1)\n"
   ]
  },
  {
   "cell_type": "code",
   "execution_count": 25,
   "metadata": {},
   "outputs": [
    {
     "data": {
      "text/plain": [
       "17"
      ]
     },
     "execution_count": 25,
     "metadata": {},
     "output_type": "execute_result"
    }
   ],
   "source": [
    "numWaterBottles(numBottles, numExchange)"
   ]
  },
  {
   "cell_type": "raw",
   "metadata": {},
   "source": [
    "This problem is the geometric series.\n",
    "\n",
    "For example, if numExchange = 3, that means for every 3 bottles, we get one back. This can be represented for the first exchange as numBottles * (1/3). For the second exchange, we take the number of bottles left after the first exchange, and multiply by (1/3) again.\n",
    "\n",
    "first = numBottles * (1/3)\n",
    "second = numBottles * (1/3) * (1/3) = numBottles * (1/3)^2\n",
    "nth = numBottles * (1/3) ^ n\n",
    "\n",
    "Summing them up, we get numBottles * (1/3 + 1/9 + ... (1/3)^n), aka the geometric series.\n",
    "\n",
    "https://en.wikipedia.org/wiki/Geometric_series\n",
    "\n",
    "Taking the wiki solution for the geometric series to the nth term, we get a(1-r^n) / (1-r), where r is our (1/numExchange), and n is the number of steps, or 1 + # exchanges we want from the series(counting the 0th exchange as 1), and a = numBottles.\n",
    "\n",
    "n = log_numExchange (numBottles) + 1, the one counting the first term with r^0\n",
    "\n",
    "for example, if we have 9 bottles, and exchange rate of 3, the number of exchanges we can do is equal to the log (base 3) of 9 = 2.\n",
    "\n",
    "In this example, a*r^n = r is demonstrated by 9 * (1/3)^(2+1) = 1/3\n",
    "\n",
    "Simplifying the equation gives:\n",
    "a(1-r^n) / (1-r)\n",
    "= (a - a*r^n) / (1-r)\n",
    "= (a - r) / (1-r)\n",
    "This line here is represented by\n",
    "\n",
    "numBottles-numExchange**-1)//(1 - numExchange**-1)\n",
    "Which annoyingly does not pass all test cases due to floating point precision, so we reduce the number of divisions required by simplifying further, and eliminating the 1/numExchange, until we get\n",
    "\n",
    "return (numBottles*numExchange-1)//(numExchange-1)"
   ]
  },
  {
   "cell_type": "code",
   "execution_count": null,
   "metadata": {},
   "outputs": [],
   "source": []
  }
 ],
 "metadata": {
  "kernelspec": {
   "display_name": "Python 3",
   "language": "python",
   "name": "python3"
  },
  "language_info": {
   "codemirror_mode": {
    "name": "ipython",
    "version": 3
   },
   "file_extension": ".py",
   "mimetype": "text/x-python",
   "name": "python",
   "nbconvert_exporter": "python",
   "pygments_lexer": "ipython3",
   "version": "3.8.5"
  }
 },
 "nbformat": 4,
 "nbformat_minor": 4
}
