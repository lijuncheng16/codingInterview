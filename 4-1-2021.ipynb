{
 "cells": [
  {
   "cell_type": "markdown",
   "metadata": {},
   "source": [
    "Given a list of the scores of different students, items, where items[i] = [IDi, scorei] represents one score from a student with IDi, calculate each student's top five average.\n",
    "\n",
    "Return the answer as an array of pairs result, where result[j] = [IDj, topFiveAveragej] represents the student with IDj and their top five average. Sort result by IDj in increasing order.\n",
    "\n",
    "A student's top five average is calculated by taking the sum of their top five scores and dividing it by 5 using integer division.\n",
    "\n"
   ]
  },
  {
   "cell_type": "code",
   "execution_count": 2,
   "metadata": {},
   "outputs": [],
   "source": [
    "from typing import List"
   ]
  },
  {
   "cell_type": "code",
   "execution_count": 3,
   "metadata": {},
   "outputs": [],
   "source": [
    "def highFive(self, items: List[List[int]]) -> List[List[int]]:\n",
    "    stu_dic = {}\n",
    "    for item in items:\n",
    "        if item[0] not in stu_dic:\n",
    "            stu_dic[item[0]]=[item[1]]\n",
    "        else:\n",
    "            stu_dic[item[0]].append(item[1])\n",
    "    result = []\n",
    "\n",
    "    for key in sorted(stu_dic):\n",
    "        result.append([key, sum(sorted(stu_dic[key])[-5:])//5])\n",
    "    return result"
   ]
  },
  {
   "cell_type": "markdown",
   "metadata": {},
   "source": [
    "Best solution is not what I wrote here, need to be map and min heap which saves the most time\n"
   ]
  },
  {
   "cell_type": "code",
   "execution_count": null,
   "metadata": {},
   "outputs": [],
   "source": [
    "class Solution:\n",
    "    def highFive(self, items: List[List[int]]) -> List[List[int]]:\n",
    "        dic = collections.defaultdict(list)\n",
    "        \n",
    "        for idx, val in items:\n",
    "            heapq.heappush(dic[idx], val)\n",
    "            \n",
    "            if len(dic[idx]) > 5:\n",
    "                heapq.heappop(dic[idx])\n",
    "        \n",
    "        res = [[i, sum(dic[i]) // len(dic[i])] for i in sorted(dic)]\n",
    "        \n",
    "        return res"
   ]
  },
  {
   "cell_type": "markdown",
   "metadata": {},
   "source": [
    "Found this technique in one of the discussion forums which uses bisect.insort(). I loved it because it's a 4 line code. cc: @JummyEg\n"
   ]
  },
  {
   "cell_type": "code",
   "execution_count": 4,
   "metadata": {},
   "outputs": [
    {
     "ename": "NameError",
     "evalue": "name 'collections' is not defined",
     "output_type": "error",
     "traceback": [
      "\u001b[0;31m---------------------------------------------------------------------------\u001b[0m",
      "\u001b[0;31mNameError\u001b[0m                                 Traceback (most recent call last)",
      "\u001b[0;32m<ipython-input-4-0e81c076ec8f>\u001b[0m in \u001b[0;36m<module>\u001b[0;34m\u001b[0m\n\u001b[0;32m----> 1\u001b[0;31m \u001b[0mD\u001b[0m \u001b[0;34m=\u001b[0m \u001b[0mcollections\u001b[0m\u001b[0;34m.\u001b[0m\u001b[0mdefaultdict\u001b[0m\u001b[0;34m(\u001b[0m\u001b[0mlist\u001b[0m\u001b[0;34m)\u001b[0m\u001b[0;34m\u001b[0m\u001b[0;34m\u001b[0m\u001b[0m\n\u001b[0m\u001b[1;32m      2\u001b[0m \u001b[0;32mfor\u001b[0m \u001b[0mstudent\u001b[0m\u001b[0;34m,\u001b[0m \u001b[0mscore\u001b[0m \u001b[0;32min\u001b[0m \u001b[0mitems\u001b[0m\u001b[0;34m:\u001b[0m\u001b[0;34m\u001b[0m\u001b[0;34m\u001b[0m\u001b[0m\n\u001b[1;32m      3\u001b[0m         \u001b[0mbisect\u001b[0m\u001b[0;34m.\u001b[0m\u001b[0minsort\u001b[0m\u001b[0;34m(\u001b[0m\u001b[0mD\u001b[0m\u001b[0;34m[\u001b[0m\u001b[0mstudent\u001b[0m\u001b[0;34m]\u001b[0m\u001b[0;34m,\u001b[0m \u001b[0mscore\u001b[0m\u001b[0;34m)\u001b[0m \u001b[0;31m# insert in a list in increasing order.\u001b[0m\u001b[0;34m\u001b[0m\u001b[0;34m\u001b[0m\u001b[0m\n\u001b[1;32m      4\u001b[0m \u001b[0;32mreturn\u001b[0m \u001b[0;34m[\u001b[0m\u001b[0;34m[\u001b[0m\u001b[0mstudent\u001b[0m\u001b[0;34m,\u001b[0m \u001b[0msum\u001b[0m\u001b[0;34m(\u001b[0m\u001b[0mD\u001b[0m\u001b[0;34m[\u001b[0m\u001b[0mstudent\u001b[0m\u001b[0;34m]\u001b[0m\u001b[0;34m[\u001b[0m\u001b[0;34m-\u001b[0m\u001b[0;36m5\u001b[0m\u001b[0;34m:\u001b[0m\u001b[0;34m]\u001b[0m\u001b[0;34m)\u001b[0m\u001b[0;34m//\u001b[0m\u001b[0;36m5\u001b[0m\u001b[0;34m]\u001b[0m \u001b[0;32mfor\u001b[0m \u001b[0mstudent\u001b[0m \u001b[0;32min\u001b[0m \u001b[0mD\u001b[0m\u001b[0;34m]\u001b[0m\u001b[0;34m\u001b[0m\u001b[0;34m\u001b[0m\u001b[0m\n",
      "\u001b[0;31mNameError\u001b[0m: name 'collections' is not defined"
     ]
    }
   ],
   "source": [
    "D = collections.defaultdict(list)\n",
    "for student, score in items:\n",
    "\tbisect.insort(D[student], score) # insert in a list in increasing order.\n",
    "return [[student, sum(D[student][-5:])//5] for student in D]"
   ]
  },
  {
   "cell_type": "markdown",
   "metadata": {},
   "source": [
    "For new Python developers, above code works as below:\n"
   ]
  },
  {
   "cell_type": "code",
   "execution_count": 5,
   "metadata": {},
   "outputs": [],
   "source": [
    "def highFive(self, items: List[List[int]]) -> List[List[int]]:\n",
    "\tmapping = {}\n",
    "\tresult = []\n",
    "\tfor x in items:                        # For every student, create a list of their scores using dictionary\n",
    "\t\tif x[0] in mapping:\n",
    "\t\t\tmapping[x[0]].append(x[1])\n",
    "\t\telse:\n",
    "\t\t\tmapping[x[0]] = [x[1]]\n",
    "\t\t\t\n",
    "\tfor x, y in mapping.items():            # Traverse through the dictionary elements and take average of sorted scores.\n",
    "\t\ty.sort()\n",
    "\t\ttotal = 0\n",
    "\t\ti = 0\n",
    "\t\twhile i < 5 and i < len(y):         # Since the problem statement doesn't say there will be at least 5 scores for each student, \n",
    "\t\t\ttotal += y[i]                   # instead of using sum() and dividing by 5, I used loop and divided by i.\n",
    "\t\t\ti += 1\n",
    "\t\tresult.append([x, total//i])        # Store the average for every student id in result\n",
    "\treturn result"
   ]
  },
  {
   "cell_type": "code",
   "execution_count": null,
   "metadata": {},
   "outputs": [],
   "source": []
  }
 ],
 "metadata": {
  "kernelspec": {
   "display_name": "Python 3",
   "language": "python",
   "name": "python3"
  },
  "language_info": {
   "codemirror_mode": {
    "name": "ipython",
    "version": 3
   },
   "file_extension": ".py",
   "mimetype": "text/x-python",
   "name": "python",
   "nbconvert_exporter": "python",
   "pygments_lexer": "ipython3",
   "version": "3.7.4"
  }
 },
 "nbformat": 4,
 "nbformat_minor": 4
}
