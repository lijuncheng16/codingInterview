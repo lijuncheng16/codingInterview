{
 "cells": [
  {
   "cell_type": "markdown",
   "metadata": {},
   "source": [
    "253. Meeting Rooms II\n"
   ]
  },
  {
   "cell_type": "markdown",
   "metadata": {},
   "source": [
    "Given an array of meeting time intervals intervals where intervals[i] = [starti, endi], return the minimum number of conference rooms required.\n",
    "Example 1:\n",
    "\n",
    "Input: intervals = [[0,30],[5,10],[15,20]]\n",
    "Output: 2\n",
    " "
   ]
  },
  {
   "cell_type": "code",
   "execution_count": null,
   "metadata": {},
   "outputs": [],
   "source": [
    "class Solution:\n",
    "    def minMeetingRooms(self, intervals: List[List[int]]) -> int:\n",
    "        if not intervals:\n",
    "            return 0\n",
    "        intervals = sorted(intervals)\n",
    "        # print(intervals)\n",
    "        free_rms = []\n",
    "        \n",
    "        heapq.heappush(free_rms, intervals[0][1])\n",
    "        # print(free_rms,1)\n",
    "\n",
    "        for interval in intervals[1:]:\n",
    "            #new meeting start time later than latest time in the min heap, pop to assign room to the meeting\n",
    "            if free_rms[0] <= interval[0]:\n",
    "                heapq.heappop(free_rms)\n",
    "                # print(free_rms,2)\n",
    "            heapq.heappush(free_rms, interval[1])\n",
    "            # print(free_rms,3)\n",
    "\n",
    "        return len(free_rms)"
   ]
  },
  {
   "cell_type": "markdown",
   "metadata": {},
   "source": [
    "853. Car Fleet\n"
   ]
  },
  {
   "cell_type": "markdown",
   "metadata": {},
   "source": [
    "N cars are going to the same destination along a one lane road.  The destination is target miles away.\n",
    "\n",
    "Each car i has a constant speed speed[i] (in miles per hour), and initial position position[i] miles towards the target along the road.\n",
    "\n",
    "A car can never pass another car ahead of it, but it can catch up to it, and drive bumper to bumper at the same speed.\n",
    "\n",
    "The distance between these two cars is ignored - they are assumed to have the same position.\n",
    "\n",
    "A car fleet is some non-empty set of cars driving at the same position and same speed.  Note that a single car is also a car fleet.\n",
    "\n",
    "If a car catches up to a car fleet right at the destination point, it will still be considered as one car fleet.\n",
    "\n",
    "\n",
    "How many car fleets will arrive at the destination?\n",
    "\n"
   ]
  },
  {
   "cell_type": "code",
   "execution_count": null,
   "metadata": {},
   "outputs": [],
   "source": [
    "class Solution:\n",
    "    def carFleet(self, target: int, position: List[int], speed: List[int]) -> int:\n",
    "        cars = []\n",
    "        n = len(position)\n",
    "        for i in range(n):\n",
    "            cars.append([position[i],speed[i]])\n",
    "        cars = sorted(cars,reverse=True)\n",
    "        # print(cars)\n",
    "        fleet = 0\n",
    "        prev_time = 0\n",
    "        for car in cars:\n",
    "            time = (target-car[0]) / car[1]\n",
    "            #merge if catches up\n",
    "            if time > prev_time:\n",
    "                prev_time = time\n",
    "                fleet += 1\n",
    "            else:\n",
    "                continue\n",
    "        return fleet"
   ]
  }
 ],
 "metadata": {
  "kernelspec": {
   "display_name": "Python 3",
   "language": "python",
   "name": "python3"
  },
  "language_info": {
   "codemirror_mode": {
    "name": "ipython",
    "version": 3
   },
   "file_extension": ".py",
   "mimetype": "text/x-python",
   "name": "python",
   "nbconvert_exporter": "python",
   "pygments_lexer": "ipython3",
   "version": "3.7.4"
  }
 },
 "nbformat": 4,
 "nbformat_minor": 4
}
