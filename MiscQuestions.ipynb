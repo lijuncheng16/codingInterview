{
 "cells": [
  {
   "cell_type": "markdown",
   "metadata": {},
   "source": [
    "# 29. Divide Two Integers\n"
   ]
  },
  {
   "cell_type": "markdown",
   "metadata": {},
   "source": [
    "Given two integers dividend and divisor, divide two integers without using multiplication, division, and mod operator.\n",
    "\n",
    "Return the quotient after dividing dividend by divisor.\n",
    "\n",
    "The integer division should truncate toward zero, which means losing its fractional part. For example, truncate(8.345) = 8 and truncate(-2.7335) = -2.\n",
    "\n",
    "Note: Assume we are dealing with an environment that could only store integers within the 32-bit signed integer range: [−231, 231 − 1]. For this problem, assume that your function returns 231 − 1 when the division result overflows.\n",
    "\n"
   ]
  },
  {
   "cell_type": "code",
   "execution_count": 114,
   "metadata": {},
   "outputs": [],
   "source": [
    "def divide(dividend, divisor):\n",
    "        \"\"\"\n",
    "        :type dividend: int\n",
    "        :type divisor: int\n",
    "        :rtype: int\n",
    "        \"\"\"\n",
    "        if dividend >=0 and divisor >=0:\n",
    "            diff = dividend - divisor\n",
    "            count = 0\n",
    "            if diff>= 0:\n",
    "                count = 1\n",
    "            while diff >= divisor:\n",
    "                diff -= divisor\n",
    "                count+=1\n",
    "            return count\n",
    "        if dividend >=0 and divisor <0:\n",
    "            diff = dividend - (-divisor)\n",
    "            count = 1\n",
    "            while diff >= -divisor:\n",
    "                diff -= -divisor\n",
    "                count+=1\n",
    "            return count"
   ]
  },
  {
   "cell_type": "code",
   "execution_count": 5,
   "metadata": {},
   "outputs": [],
   "source": [
    "def divide(dividend, divisor):\n",
    "        \"\"\"\n",
    "        :type dividend: int\n",
    "        :type divisor: int\n",
    "        :rtype: int\n",
    "        \"\"\"\n",
    "        neg=( (dividend < 0) != (divisor < 0) )\n",
    "        dividend = left = abs(dividend)\n",
    "        divisor  = div  = abs(divisor)       \n",
    "        if dividend < divisor:\n",
    "            return 0\n",
    "        Q = 1\n",
    "        ans = 0\n",
    "        while left >= div:\n",
    "            left -= div\n",
    "            ans  += Q\n",
    "            Q    += Q\n",
    "            div  += div\n",
    "        if neg:\n",
    "            return max(-(ans + self.divide(left, divisor)), -2147483648)\n",
    "        else:\n",
    "            return min(ans + self.divide(left, divisor), 2147483647)\n"
   ]
  },
  {
   "cell_type": "code",
   "execution_count": 1,
   "metadata": {},
   "outputs": [],
   "source": [
    "def divide(dividend: int, divisor: int) -> int:\n",
    "\n",
    "    # Constants.\n",
    "    MAX_INT = 2147483647        # 2**31 - 1\n",
    "    MIN_INT = -2147483648       # -2**31\n",
    "    HALF_MIN_INT = -1073741824  # MIN_INT // 2\n",
    "\n",
    "    # Special case: overflow.\n",
    "    if dividend == MIN_INT and divisor == -1:\n",
    "        return MAX_INT\n",
    "\n",
    "    # We need to convert both numbers to negatives.\n",
    "    # Also, we count the number of negatives signs.\n",
    "    negatives = 2\n",
    "    if dividend > 0:\n",
    "        negatives -= 1\n",
    "        dividend = -dividend\n",
    "    if divisor > 0:\n",
    "        negatives -= 1\n",
    "        divisor = -divisor\n",
    "\n",
    "    # In the first loop, we simply find the largest double of divisor\n",
    "    # that fits into the dividend.\n",
    "    # The >= is because we're working in negatives. In essence, that\n",
    "    # piece of code is checking that we're still nearer to 0 than we\n",
    "    # are to INT_MIN.\n",
    "    highest_double = divisor\n",
    "    highest_power_of_two = -1\n",
    "    while highest_double >= HALF_MIN_INT and dividend <= highest_double + highest_double:\n",
    "        highest_power_of_two += highest_power_of_two\n",
    "        highest_double += highest_double\n",
    "\n",
    "    # In the second loop, we work out which powers of two fit in, by\n",
    "    # halving highest_double and highest_power_of_two repeatedly.\n",
    "    # We can do this using bit shifting so that we don't break the\n",
    "    # rules of the question :-)\n",
    "    quotient = 0\n",
    "    while dividend <= divisor:\n",
    "        if dividend <= highest_double:\n",
    "            quotient += highest_power_of_two\n",
    "            dividend -= highest_double\n",
    "        # We know that these are always even, so no need to worry about the\n",
    "        # annoying \"bit-shift-odd-negative-number\" case.\n",
    "        highest_power_of_two >>= 1\n",
    "        highest_double >>= 1\n",
    "\n",
    "    # If there was originally one negative sign, then\n",
    "    # the quotient remains negative. Otherwise, switch\n",
    "    # it to positive.\n",
    "    return quotient if negatives == 1 else -quotient"
   ]
  },
  {
   "cell_type": "code",
   "execution_count": 6,
   "metadata": {},
   "outputs": [],
   "source": [
    "def divide(dividend: int, divisor: int) -> int:\n",
    "\n",
    "    # Constants.\n",
    "    MAX_INT = 2147483647        # 2**31 - 1\n",
    "    MIN_INT = -2147483648       # -2**31\n",
    "    HALF_MIN_INT = -1073741824\n",
    "    # Special case: overflow.\n",
    "    if dividend == MIN_INT and divisor == -1:\n",
    "        return MAX_INT\n",
    "\n",
    "    # We need to convert both numbers to negatives\n",
    "    # for the reasons explained above.\n",
    "    # Also, we count the number of negatives signs.\n",
    "    negatives = 2\n",
    "    if dividend > 0:\n",
    "        negatives -= 1\n",
    "        dividend = -dividend\n",
    "    if divisor > 0:\n",
    "        negatives -= 1\n",
    "        divisor = -divisor\n",
    "\n",
    "    # Count how many times the divisor has to be\n",
    "    # added to get the dividend. This is the quotient.\n",
    "#         quotient = 0\n",
    "#         while dividend - divisor <= 0:\n",
    "#             quotient -= 1\n",
    "#             dividend -= divisor\n",
    "\n",
    "    quotient = 0\n",
    "    # Once the divisor is bigger than the current dividend,\n",
    "    # we can't fit any more copies of the divisor into it anymore */\n",
    "    while divisor >= dividend:\n",
    "        # We know it'll fit at least once as divivend >= divisor.\n",
    "        # Note: We use a negative powerOfTwo as it's possible we might have\n",
    "        # the case divide(INT_MIN, -1). */\n",
    "        powerOfTwo = -1\n",
    "        value = divisor\n",
    "        # Check if double the current value is too big. If not, continue doubling.\n",
    "        # If it is too big, stop doubling and continue with the next step */\n",
    "        while value >= HALF_MIN_INT and value + value >= dividend:\n",
    "            value += value;\n",
    "            powerOfTwo += powerOfTwo\n",
    "        # We have been able to subtract divisor another powerOfTwo times.\n",
    "        quotient += powerOfTwo\n",
    "        # Remove value so far so that we can continue the process with remainder.\n",
    "        dividend -= value\n",
    "    # If there was originally one negative sign, then\n",
    "    # the quotient remains negative. Otherwise, switch\n",
    "    # it to positive.\n",
    "    return -quotient if negatives != 1 else quotient"
   ]
  },
  {
   "cell_type": "code",
   "execution_count": 7,
   "metadata": {},
   "outputs": [],
   "source": [
    "dividend = 10\n",
    "divisor = 3\n",
    "#3"
   ]
  },
  {
   "cell_type": "code",
   "execution_count": 8,
   "metadata": {},
   "outputs": [],
   "source": [
    "dividend = 7\n",
    "divisor = -3\n",
    "#-2"
   ]
  },
  {
   "cell_type": "code",
   "execution_count": 9,
   "metadata": {},
   "outputs": [
    {
     "data": {
      "text/plain": [
       "-2"
      ]
     },
     "execution_count": 9,
     "metadata": {},
     "output_type": "execute_result"
    }
   ],
   "source": [
    "divide(dividend, divisor)"
   ]
  },
  {
   "cell_type": "code",
   "execution_count": 105,
   "metadata": {},
   "outputs": [],
   "source": [
    "some_str = \"hellao\"\n",
    "#hollae\""
   ]
  },
  {
   "cell_type": "code",
   "execution_count": 106,
   "metadata": {},
   "outputs": [],
   "source": [
    "def reverseVowel(string):\n",
    "    vowels = ['a', 'e', 'i', 'o', 'u']\n",
    "    length = len(string)\n",
    "    result = [0] * length\n",
    "    vows = []\n",
    "    for ind, char in enumerate(string):\n",
    "        if char in vowels:\n",
    "            print(ind, char)\n",
    "            vows.append([ind, char])\n",
    "        else:\n",
    "            result[ind]=char\n",
    "    print('vows:', vows)\n",
    "    # reverse vows\n",
    "    for i, vow in enumerate(vows):\n",
    "        if i >= len(vows)//2:\n",
    "            break\n",
    "        \n",
    "        # i position swap to -i\n",
    "        temp = copy.deepcopy(vows[i][1])\n",
    "        print('temp', temp)\n",
    "        vows[i][1] = vows[len(vows)-i-1][1] #\n",
    "        vows[len(vows)-i-1][1] = temp\n",
    "        print(i, vows)\n",
    "        result[vows[i][0]]= vows[i][1]\n",
    "        result[vows[len(vows)-i-1][0]]= temp\n",
    "        print(result)\n",
    "\n",
    "    print(f'final:{vows}')\n",
    "    print(f'final re:{result}')\n"
   ]
  },
  {
   "cell_type": "code",
   "execution_count": 107,
   "metadata": {},
   "outputs": [
    {
     "name": "stdout",
     "output_type": "stream",
     "text": [
      "1 e\n",
      "4 a\n",
      "5 o\n",
      "vows: [[1, 'e'], [4, 'a'], [5, 'o']]\n",
      "temp e\n",
      "0 [[1, 'o'], [4, 'a'], [5, 'e']]\n",
      "['h', 'o', 'l', 'l', 0, 'e']\n",
      "final:[[1, 'o'], [4, 'a'], [5, 'e']]\n",
      "final re:['h', 'o', 'l', 'l', 0, 'e']\n"
     ]
    }
   ],
   "source": [
    "reverseVowel(some_str)"
   ]
  },
  {
   "cell_type": "markdown",
   "metadata": {},
   "source": [
    "# 191. Number of 1 Bits\n"
   ]
  },
  {
   "cell_type": "code",
   "execution_count": null,
   "metadata": {},
   "outputs": [],
   "source": [
    "def hammingWeight(self, n: int) -> int:\n",
    "    bit = format(n, \"b\")\n",
    "    count = Counter(bit)\n",
    "    return count[\"1\"]"
   ]
  },
  {
   "cell_type": "code",
   "execution_count": null,
   "metadata": {},
   "outputs": [],
   "source": [
    "def hammingWeight(self, n: int) -> int:\n",
    "    counter = Counter(str(bin(n)))\n",
    "    return counter['1']"
   ]
  },
  {
   "cell_type": "markdown",
   "metadata": {},
   "source": [
    "## trick of n & (n-1) getting rid of the least significant 1-bit"
   ]
  },
  {
   "cell_type": "raw",
   "metadata": {},
   "source": [
    "In the binary representation, the least significant 11-bit in nn always corresponds to a 00-bit in n - 1n−1. Therefore, anding the two numbers nn and n - 1n−1 always flips the least significant 11-bit in nn to 00, and keeps all other bits the same."
   ]
  },
  {
   "cell_type": "code",
   "execution_count": null,
   "metadata": {},
   "outputs": [],
   "source": [
    "def hammingWeight(self, n: int) -> int:\n",
    "    ans = 0\n",
    "    while n:\n",
    "        n &= (n-1)\n",
    "        ans += 1\n",
    "    return ans"
   ]
  },
  {
   "cell_type": "markdown",
   "metadata": {},
   "source": [
    "# 847. Shortest Path Visiting All Nodes (super hard to come up with)\n"
   ]
  },
  {
   "cell_type": "code",
   "execution_count": null,
   "metadata": {},
   "outputs": [],
   "source": [
    "def shortestPathLength(self, graph: List[List[int]]) -> int:\n",
    "    '''\n",
    "    dp(node, mask) = 1 + min(dp(neighbor, mask), dp(neighbor, mask ^ (1 << node))), for all neighbors in graph[node].this is working backward\n",
    "    The mask ^ (1 << node) operation is flipping the bit at position node using the method talked about before, to indicate that we are visiting this node for the first time.\n",
    "    '''\n",
    "    if len(graph) == 1:\n",
    "            return 0\n",
    "    #(node, mask), where node represents the label of the current node we are at,\n",
    "    # and mask represents a bitmask where all the nodes we have visited have their respective bits set to 1.\n",
    "    n = len(graph)\n",
    "    ending_mask = (1 << n) - 1 #a bitmask that represents all nodes being visited.\n",
    "    #This formula works because we are shifting a single bit to the left n times, which in the case of n = 5 gives us 100000,\n",
    "    #which after subtracting 1 will leave 5 bits set to 1, i.e. 100000 - 000001 = 011111.\n",
    "    queue = [(node, 1 << node) for node in range(n)] #This is (i, 1 << i) for all i from 0 to n - 1.\n",
    "    seen = set(queue)\n",
    "\n",
    "    steps = 0\n",
    "    while queue:\n",
    "        next_queue = []\n",
    "        for i in range(len(queue)):\n",
    "            node, mask = queue[i]\n",
    "            for neighbor in graph[node]:\n",
    "                next_mask = mask | (1 << neighbor) #bottom up bitwise or\n",
    "                if next_mask == ending_mask:\n",
    "                    return 1 + steps\n",
    "\n",
    "                if (neighbor, next_mask) not in seen:\n",
    "                    seen.add((neighbor, next_mask))\n",
    "                    next_queue.append((neighbor, next_mask))\n",
    "\n",
    "        steps += 1\n",
    "        queue = next_queue"
   ]
  },
  {
   "cell_type": "markdown",
   "metadata": {},
   "source": [
    "# 1461. Check If a String Contains All Binary Codes of Size K\n"
   ]
  },
  {
   "cell_type": "markdown",
   "metadata": {},
   "source": [
    "### Most advanced Solution using rolling hash:\n",
    "Because we can directly apply bitwise operations to decimal numbers, it is not even necessary to convert the binary number to a decimal number explicitly.\n",
    "\n",
    "What's more, we can get the current hash from the last one. This method is called Rolling Hash. All we need to do is to remove the most significant digit and to add a new least significant digit with bitwise operations.\n",
    "\n",
    "For example, say s=\"11010110\", and k=3, and we just finish calculating the hash of the first substring: \"110\" (hash is 4+2=6, or 110). Now we want to know the next hash, which is the hash of \"101\".\n",
    "\n",
    "We can start from the binary form of our hash, which is 110. First, we shift left, resulting 1100. We do not need the first digit, so it is a good idea to do 1100 & 111 = 100. The all-one 111 helps us to align the digits. Now we need to apply the lowest digit of \"101\", which is 1, to our hash, and by using |, we get 100 | last_digit = 100 | 1 = 101.\n",
    "\n",
    "Write them together, we have: new_hash = ((old_hash << 1) & all_one) | last_digit_of_new_hash.\n",
    "\n",
    "With rolling hash method, we only need \\mathcal{O}(1)O(1) to calculate the next hash, because bitwise operations (&, <<, |, etc.) are only cost \\mathcal{O}(1)O(1).\n",
    "\n"
   ]
  },
  {
   "cell_type": "code",
   "execution_count": 1,
   "metadata": {},
   "outputs": [],
   "source": [
    "def hasAllCodes(self, s: str, k: int) -> bool:\n",
    "    need = 1 << k\n",
    "    got = [False]*need\n",
    "    all_one = need - 1\n",
    "    hash_val = 0\n",
    "\n",
    "    for i in range(len(s)):\n",
    "        # calculate hash for s[i-k+1:i+1]\n",
    "        hash_val = ((hash_val << 1) & all_one) | (int(s[i]))\n",
    "        # hash only available when i-k+1 > 0\n",
    "        if i >= k-1 and got[hash_val] is False:\n",
    "            got[hash_val] = True\n",
    "            need -= 1\n",
    "            if need == 0:\n",
    "                return True\n",
    "    return False"
   ]
  },
  {
   "cell_type": "markdown",
   "metadata": {},
   "source": [
    "### brute force also works, but don't work at k = 20"
   ]
  },
  {
   "cell_type": "code",
   "execution_count": 2,
   "metadata": {},
   "outputs": [],
   "source": [
    "def hasAllCodes(self, s: str, k: int) -> bool:\n",
    "    output = [\"0\",\"1\"]\n",
    "    nums = [\"0\",\"1\"]\n",
    "    for i in  range(1, k):\n",
    "        output += [curr + \"0\"+ \",\" +curr+\"1\" for curr in output]\n",
    "    all_poss = []\n",
    "    for item in output:\n",
    "        all_poss+= item.split(',')\n",
    "    permut = set()\n",
    "    for poss in all_poss:\n",
    "        permut.add(poss)\n",
    "    for entry in permut:\n",
    "        # print(entry, s.find(entry))\n",
    "        if s.find(entry)== -1:\n",
    "            return False\n",
    "    return True\n"
   ]
  },
  {
   "cell_type": "markdown",
   "metadata": {},
   "source": [
    "### Set solution, also very cool"
   ]
  },
  {
   "cell_type": "code",
   "execution_count": null,
   "metadata": {},
   "outputs": [],
   "source": [
    "def hasAllCodes(self, s: str, k: int) -> bool:\n",
    "    need = 1 << k\n",
    "    # print(need)\n",
    "    got = set()\n",
    "\n",
    "    for i in range(k, len(s)+1):\n",
    "        tmp = s[i-k:i]\n",
    "        # print(tmp)\n",
    "        if tmp not in got:\n",
    "            got.add(tmp)\n",
    "            need -= 1\n",
    "            # return True when found all occurrences\n",
    "            if need == 0:\n",
    "                return True\n",
    "    return False"
   ]
  },
  {
   "cell_type": "markdown",
   "metadata": {},
   "source": [
    "# 393. UTF-8 Validation\n"
   ]
  },
  {
   "cell_type": "code",
   "execution_count": null,
   "metadata": {},
   "outputs": [],
   "source": [
    "def validUtf8(self, data: List[int]) -> bool:\n",
    "    n_bytes = 0\n",
    "    # for num in data:\n",
    "    #     bin_rep = format(num, '#010b')[-8:]\n",
    "    #     if n_bytes==0:\n",
    "    #         for bit in bin_rep:\n",
    "    #             if bit == '0':\n",
    "    #                 break\n",
    "    #             n_bytes += 1\n",
    "    #         if n_bytes == 0:\n",
    "    #             continue\n",
    "    #         if n_bytes == 1 or n_bytes >4:\n",
    "    #             return False\n",
    "    #     else:\n",
    "    #         if not(bin_rep[0] == '1' and bin_rep[1] == '0'):\n",
    "    #             return False\n",
    "    #     n_bytes -= 1\n",
    "    # return n_bytes ==0\n",
    "    mask1 = 1<<7\n",
    "    mask2 = 1<<6\n",
    "    for num in data:\n",
    "        mask = 1<<7\n",
    "        if n_bytes == 0:\n",
    "            while mask & num:\n",
    "                n_bytes += 1\n",
    "                mask = mask >> 1\n",
    "            if n_bytes == 0:\n",
    "                continue\n",
    "            if n_bytes == 1 or n_bytes >4:\n",
    "                return False\n",
    "        else:\n",
    "            if not (num & mask1 and not (num & mask2)):\n",
    "                return False\n",
    "        n_bytes -= 1\n",
    "    return n_bytes ==0"
   ]
  },
  {
   "cell_type": "markdown",
   "metadata": {},
   "source": [
    "# 2022-9-14: Python Surprising results"
   ]
  },
  {
   "cell_type": "code",
   "execution_count": 4,
   "metadata": {},
   "outputs": [],
   "source": [
    "from typing import List\n",
    "def foo(bar: List[int] = []): \n",
    "    if len(bar) == 0:\n",
    "        bar.append(1)\n",
    "    else: \n",
    "        bar.append(bar[-1]+1)\n",
    "    return bar"
   ]
  },
  {
   "cell_type": "code",
   "execution_count": 5,
   "metadata": {},
   "outputs": [
    {
     "data": {
      "text/plain": [
       "[1]"
      ]
     },
     "execution_count": 5,
     "metadata": {},
     "output_type": "execute_result"
    }
   ],
   "source": [
    "foo()"
   ]
  },
  {
   "cell_type": "code",
   "execution_count": 6,
   "metadata": {},
   "outputs": [
    {
     "data": {
      "text/plain": [
       "[1, 2]"
      ]
     },
     "execution_count": 6,
     "metadata": {},
     "output_type": "execute_result"
    }
   ],
   "source": [
    "foo()"
   ]
  },
  {
   "cell_type": "code",
   "execution_count": 7,
   "metadata": {},
   "outputs": [
    {
     "data": {
      "text/plain": [
       "[1, 2, 3]"
      ]
     },
     "execution_count": 7,
     "metadata": {},
     "output_type": "execute_result"
    }
   ],
   "source": [
    "foo()"
   ]
  },
  {
   "cell_type": "code",
   "execution_count": 8,
   "metadata": {},
   "outputs": [
    {
     "data": {
      "text/plain": [
       "[1]"
      ]
     },
     "execution_count": 8,
     "metadata": {},
     "output_type": "execute_result"
    }
   ],
   "source": [
    "foo([])"
   ]
  },
  {
   "cell_type": "code",
   "execution_count": 9,
   "metadata": {},
   "outputs": [
    {
     "data": {
      "text/plain": [
       "[1, 2, 3, 4]"
      ]
     },
     "execution_count": 9,
     "metadata": {},
     "output_type": "execute_result"
    }
   ],
   "source": [
    "foo()"
   ]
  },
  {
   "cell_type": "markdown",
   "metadata": {},
   "source": [
    "# Cartesian prod: (2022-9-14)"
   ]
  },
  {
   "cell_type": "code",
   "execution_count": 6,
   "metadata": {},
   "outputs": [],
   "source": [
    "def cartesian_iterative(pools):\n",
    "    result = [[]]\n",
    "    for pool in pools:\n",
    "        result = [x+[y] for x in result for y in pool]\n",
    "    return result"
   ]
  },
  {
   "cell_type": "code",
   "execution_count": 21,
   "metadata": {},
   "outputs": [],
   "source": [
    "import functools\n",
    "def cartesian_reduce(pools):\n",
    "    return functools.reduce(lambda res, pool: [x + [y] for x in res for y in pool], pools, [[]])"
   ]
  },
  {
   "cell_type": "code",
   "execution_count": 16,
   "metadata": {},
   "outputs": [],
   "source": [
    "def rec_cart(start, array, partial, results):\n",
    "    if len(partial) == len(array):\n",
    "        results.append(partial)\n",
    "        return \n",
    "\n",
    "    for element in array[start]:\n",
    "        rec_cart(start+1, array, partial+[element], results)\n"
   ]
  },
  {
   "cell_type": "code",
   "execution_count": 17,
   "metadata": {},
   "outputs": [
    {
     "name": "stdout",
     "output_type": "stream",
     "text": [
      "[[1, 'a', 4], [1, 'a', 5], [1, 'b', 4], [1, 'b', 5], [2, 'a', 4], [2, 'a', 5], [2, 'b', 4], [2, 'b', 5], [3, 'a', 4], [3, 'a', 5], [3, 'b', 4], [3, 'b', 5]]\n"
     ]
    }
   ],
   "source": [
    "\n",
    "rec_res = []\n",
    "some_lists = [[1, 2, 3], ['a', 'b'], [4, 5]]  \n",
    "rec_cart(0, some_lists, [], rec_res)\n",
    "print(rec_res)"
   ]
  },
  {
   "cell_type": "code",
   "execution_count": 18,
   "metadata": {},
   "outputs": [
    {
     "data": {
      "text/plain": [
       "[[1, 'a', 4],\n",
       " [1, 'a', 5],\n",
       " [1, 'b', 4],\n",
       " [1, 'b', 5],\n",
       " [2, 'a', 4],\n",
       " [2, 'a', 5],\n",
       " [2, 'b', 4],\n",
       " [2, 'b', 5],\n",
       " [3, 'a', 4],\n",
       " [3, 'a', 5],\n",
       " [3, 'b', 4],\n",
       " [3, 'b', 5]]"
      ]
     },
     "execution_count": 18,
     "metadata": {},
     "output_type": "execute_result"
    }
   ],
   "source": [
    "cartesian_iterative(some_lists)"
   ]
  },
  {
   "cell_type": "code",
   "execution_count": 22,
   "metadata": {},
   "outputs": [
    {
     "name": "stdout",
     "output_type": "stream",
     "text": [
      "[[1, 'a', 4], [1, 'a', 5], [1, 'b', 4], [1, 'b', 5], [2, 'a', 4], [2, 'a', 5], [2, 'b', 4], [2, 'b', 5], [3, 'a', 4], [3, 'a', 5], [3, 'b', 4], [3, 'b', 5]]\n"
     ]
    }
   ],
   "source": [
    "print(cartesian_reduce(some_lists))"
   ]
  },
  {
   "cell_type": "code",
   "execution_count": 5,
   "metadata": {},
   "outputs": [
    {
     "name": "stdout",
     "output_type": "stream",
     "text": [
      "[(1, 'a', 4), (1, 'a', 5), (1, 'b', 4), (1, 'b', 5), (2, 'a', 4), (2, 'a', 5), (2, 'b', 4), (2, 'b', 5), (3, 'a', 4), (3, 'a', 5), (3, 'b', 4), (3, 'b', 5)]\n"
     ]
    }
   ],
   "source": [
    "import itertools\n",
    "result = list(itertools.product(*some_lists))\n",
    "print(result)"
   ]
  },
  {
   "cell_type": "code",
   "execution_count": 6,
   "metadata": {},
   "outputs": [],
   "source": [
    "def product_args(*args):\n",
    "    if args:\n",
    "        for a in args[0]:\n",
    "            for prod in product_args(*args[1:]) if args[1:] else ((),):\n",
    "                yield (a,) + prod\n",
    "def product2(ar_list):\n",
    "    \"\"\"\n",
    "    >>> list(product(()))\n",
    "    [()]\n",
    "    >>> list(product2(()))\n",
    "    []\n",
    "    \"\"\"\n",
    "    return product_args(*ar_list)"
   ]
  },
  {
   "cell_type": "code",
   "execution_count": 42,
   "metadata": {},
   "outputs": [
    {
     "data": {
      "text/plain": [
       "[(1, 'a', 4),\n",
       " (1, 'a', 5),\n",
       " (1, 'b', 4),\n",
       " (1, 'b', 5),\n",
       " (2, 'a', 4),\n",
       " (2, 'a', 5),\n",
       " (2, 'b', 4),\n",
       " (2, 'b', 5),\n",
       " (3, 'a', 4),\n",
       " (3, 'a', 5),\n",
       " (3, 'b', 4),\n",
       " (3, 'b', 5)]"
      ]
     },
     "execution_count": 42,
     "metadata": {},
     "output_type": "execute_result"
    }
   ],
   "source": [
    "list(product2(some_lists))"
   ]
  },
  {
   "cell_type": "code",
   "execution_count": 7,
   "metadata": {
    "scrolled": true,
    "tags": []
   },
   "outputs": [
    {
     "name": "stdout",
     "output_type": "stream",
     "text": [
      "[(1, 3, 5), (1, 3, 6), (1, 4, 5), (1, 4, 6), (2, 3, 5), (2, 3, 6), (2, 4, 5), (2, 4, 6)]\n"
     ]
    }
   ],
   "source": [
    "def product(ar_list):\n",
    "    if not ar_list:\n",
    "        yield ()\n",
    "    else:\n",
    "        for a in ar_list[0]:\n",
    "            for prod in product(ar_list[1:]):\n",
    "                # print((a,)+prod)\n",
    "                yield (a,)+prod\n",
    "print (list(product([[1,2],[3,4],[5,6]])))\n"
   ]
  },
  {
   "cell_type": "code",
   "execution_count": 8,
   "metadata": {
    "scrolled": true,
    "tags": []
   },
   "outputs": [
    {
     "name": "stdout",
     "output_type": "stream",
     "text": [
      "[(1, 'a', 4), (1, 'a', 5), (1, 'b', 4), (1, 'b', 5), (2, 'a', 4), (2, 'a', 5), (2, 'b', 4), (2, 'b', 5), (3, 'a', 4), (3, 'a', 5), (3, 'b', 4), (3, 'b', 5)]\n"
     ]
    }
   ],
   "source": [
    "print(list(product(some_lists)))"
   ]
  },
  {
   "cell_type": "code",
   "execution_count": 9,
   "metadata": {},
   "outputs": [],
   "source": [
    "def cartesian_product1(in_list):  \n",
    "    if in_list:\n",
    "        return [[ele] + prod for ele in in_list[0] \n",
    "                    for prod in cartesian_product1(in_list[1:])]\n",
    "    else:\n",
    "        return [[]]"
   ]
  },
  {
   "cell_type": "code",
   "execution_count": 27,
   "metadata": {},
   "outputs": [],
   "source": [
    "def cartesian_product2(in_list):\n",
    "    print('in_list:', in_list)\n",
    "    if in_list:\n",
    "        res = []\n",
    "        for ele in in_list[0]:\n",
    "            print(ele)\n",
    "            for prod in cartesian_product2(in_list[1:]):\n",
    "                print('prod:', prod)\n",
    "                res.append([ele]+prod)\n",
    "        return res\n",
    "    else:\n",
    "        return [[]]"
   ]
  },
  {
   "cell_type": "code",
   "execution_count": 28,
   "metadata": {},
   "outputs": [
    {
     "data": {
      "text/plain": [
       "[[1, 'a', 4],\n",
       " [1, 'a', 5],\n",
       " [1, 'b', 4],\n",
       " [1, 'b', 5],\n",
       " [2, 'a', 4],\n",
       " [2, 'a', 5],\n",
       " [2, 'b', 4],\n",
       " [2, 'b', 5],\n",
       " [3, 'a', 4],\n",
       " [3, 'a', 5],\n",
       " [3, 'b', 4],\n",
       " [3, 'b', 5]]"
      ]
     },
     "execution_count": 28,
     "metadata": {},
     "output_type": "execute_result"
    }
   ],
   "source": [
    "cartesian_product1(some_lists)"
   ]
  },
  {
   "cell_type": "code",
   "execution_count": 29,
   "metadata": {
    "scrolled": true,
    "tags": []
   },
   "outputs": [
    {
     "name": "stdout",
     "output_type": "stream",
     "text": [
      "in_list: [[1, 2, 3], ['a', 'b'], [4, 5]]\n",
      "1\n",
      "in_list: [['a', 'b'], [4, 5]]\n",
      "a\n",
      "in_list: [[4, 5]]\n",
      "4\n",
      "in_list: []\n",
      "prod: []\n",
      "5\n",
      "in_list: []\n",
      "prod: []\n",
      "prod: [4]\n",
      "prod: [5]\n",
      "b\n",
      "in_list: [[4, 5]]\n",
      "4\n",
      "in_list: []\n",
      "prod: []\n",
      "5\n",
      "in_list: []\n",
      "prod: []\n",
      "prod: [4]\n",
      "prod: [5]\n",
      "prod: ['a', 4]\n",
      "prod: ['a', 5]\n",
      "prod: ['b', 4]\n",
      "prod: ['b', 5]\n",
      "2\n",
      "in_list: [['a', 'b'], [4, 5]]\n",
      "a\n",
      "in_list: [[4, 5]]\n",
      "4\n",
      "in_list: []\n",
      "prod: []\n",
      "5\n",
      "in_list: []\n",
      "prod: []\n",
      "prod: [4]\n",
      "prod: [5]\n",
      "b\n",
      "in_list: [[4, 5]]\n",
      "4\n",
      "in_list: []\n",
      "prod: []\n",
      "5\n",
      "in_list: []\n",
      "prod: []\n",
      "prod: [4]\n",
      "prod: [5]\n",
      "prod: ['a', 4]\n",
      "prod: ['a', 5]\n",
      "prod: ['b', 4]\n",
      "prod: ['b', 5]\n",
      "3\n",
      "in_list: [['a', 'b'], [4, 5]]\n",
      "a\n",
      "in_list: [[4, 5]]\n",
      "4\n",
      "in_list: []\n",
      "prod: []\n",
      "5\n",
      "in_list: []\n",
      "prod: []\n",
      "prod: [4]\n",
      "prod: [5]\n",
      "b\n",
      "in_list: [[4, 5]]\n",
      "4\n",
      "in_list: []\n",
      "prod: []\n",
      "5\n",
      "in_list: []\n",
      "prod: []\n",
      "prod: [4]\n",
      "prod: [5]\n",
      "prod: ['a', 4]\n",
      "prod: ['a', 5]\n",
      "prod: ['b', 4]\n",
      "prod: ['b', 5]\n"
     ]
    },
    {
     "data": {
      "text/plain": [
       "[[1, 'a', 4],\n",
       " [1, 'a', 5],\n",
       " [1, 'b', 4],\n",
       " [1, 'b', 5],\n",
       " [2, 'a', 4],\n",
       " [2, 'a', 5],\n",
       " [2, 'b', 4],\n",
       " [2, 'b', 5],\n",
       " [3, 'a', 4],\n",
       " [3, 'a', 5],\n",
       " [3, 'b', 4],\n",
       " [3, 'b', 5]]"
      ]
     },
     "execution_count": 29,
     "metadata": {},
     "output_type": "execute_result"
    }
   ],
   "source": [
    "cartesian_product2(some_lists)"
   ]
  },
  {
   "cell_type": "code",
   "execution_count": 74,
   "metadata": {},
   "outputs": [],
   "source": [
    "def cc_product(in_list):\n",
    "    result_c = [[]]\n",
    "    def c_helper(ar_list, result_c):\n",
    "        if len(ar_list)==1:\n",
    "            return ar_list\n",
    "        else:\n",
    "            for a in ar_list[0]:\n",
    "                for prod in c_helper(ar_list[1:], result_c):\n",
    "                    # print((a,)+prod)\n",
    "                    result_c.append([a]+prod)\n",
    "            return result_c\n",
    "    c_helper(in_list, result_c)\n",
    "    return result_c"
   ]
  },
  {
   "cell_type": "code",
   "execution_count": 75,
   "metadata": {},
   "outputs": [
    {
     "data": {
      "text/plain": [
       "[[], [1, 5, 4, 3], [2, 5, 4, 3], [3, 5, 4, 3], [4, 5, 4, 3]]"
      ]
     },
     "execution_count": 75,
     "metadata": {},
     "output_type": "execute_result"
    }
   ],
   "source": [
    "cc_product(ex_2)"
   ]
  },
  {
   "cell_type": "code",
   "execution_count": 76,
   "metadata": {},
   "outputs": [
    {
     "ename": "KeyboardInterrupt",
     "evalue": "",
     "output_type": "error",
     "traceback": [
      "\u001b[0;31m---------------------------------------------------------------------------\u001b[0m",
      "\u001b[0;31mKeyboardInterrupt\u001b[0m                         Traceback (most recent call last)",
      "\u001b[0;32m/var/folders/5d/3nw27ntx2v99njpy_pqc3kk00000gn/T/ipykernel_58103/4209243096.py\u001b[0m in \u001b[0;36m<module>\u001b[0;34m\u001b[0m\n\u001b[0;32m----> 1\u001b[0;31m \u001b[0mcc_product\u001b[0m\u001b[0;34m(\u001b[0m\u001b[0;34m[\u001b[0m\u001b[0;34m[\u001b[0m\u001b[0;36m1\u001b[0m\u001b[0;34m,\u001b[0m\u001b[0;36m2\u001b[0m\u001b[0;34m]\u001b[0m\u001b[0;34m,\u001b[0m\u001b[0;34m[\u001b[0m\u001b[0;36m3\u001b[0m\u001b[0;34m,\u001b[0m\u001b[0;36m4\u001b[0m\u001b[0;34m]\u001b[0m\u001b[0;34m,\u001b[0m\u001b[0;34m[\u001b[0m\u001b[0;36m5\u001b[0m\u001b[0;34m,\u001b[0m\u001b[0;36m6\u001b[0m\u001b[0;34m]\u001b[0m\u001b[0;34m]\u001b[0m\u001b[0;34m)\u001b[0m\u001b[0;34m\u001b[0m\u001b[0;34m\u001b[0m\u001b[0m\n\u001b[0m",
      "\u001b[0;32m/var/folders/5d/3nw27ntx2v99njpy_pqc3kk00000gn/T/ipykernel_58103/3113498344.py\u001b[0m in \u001b[0;36mcc_product\u001b[0;34m(in_list)\u001b[0m\n\u001b[1;32m     10\u001b[0m                     \u001b[0mresult_c\u001b[0m\u001b[0;34m.\u001b[0m\u001b[0mappend\u001b[0m\u001b[0;34m(\u001b[0m\u001b[0;34m[\u001b[0m\u001b[0ma\u001b[0m\u001b[0;34m]\u001b[0m\u001b[0;34m+\u001b[0m\u001b[0mprod\u001b[0m\u001b[0;34m)\u001b[0m\u001b[0;34m\u001b[0m\u001b[0;34m\u001b[0m\u001b[0m\n\u001b[1;32m     11\u001b[0m             \u001b[0;32mreturn\u001b[0m \u001b[0mresult_c\u001b[0m\u001b[0;34m\u001b[0m\u001b[0;34m\u001b[0m\u001b[0m\n\u001b[0;32m---> 12\u001b[0;31m     \u001b[0mc_helper\u001b[0m\u001b[0;34m(\u001b[0m\u001b[0min_list\u001b[0m\u001b[0;34m,\u001b[0m \u001b[0mresult_c\u001b[0m\u001b[0;34m)\u001b[0m\u001b[0;34m\u001b[0m\u001b[0;34m\u001b[0m\u001b[0m\n\u001b[0m\u001b[1;32m     13\u001b[0m     \u001b[0;32mreturn\u001b[0m \u001b[0mresult_c\u001b[0m\u001b[0;34m\u001b[0m\u001b[0;34m\u001b[0m\u001b[0m\n",
      "\u001b[0;32m/var/folders/5d/3nw27ntx2v99njpy_pqc3kk00000gn/T/ipykernel_58103/3113498344.py\u001b[0m in \u001b[0;36mc_helper\u001b[0;34m(ar_list, result_c)\u001b[0m\n\u001b[1;32m      8\u001b[0m                 \u001b[0;32mfor\u001b[0m \u001b[0mprod\u001b[0m \u001b[0;32min\u001b[0m \u001b[0mc_helper\u001b[0m\u001b[0;34m(\u001b[0m\u001b[0mar_list\u001b[0m\u001b[0;34m[\u001b[0m\u001b[0;36m1\u001b[0m\u001b[0;34m:\u001b[0m\u001b[0;34m]\u001b[0m\u001b[0;34m,\u001b[0m \u001b[0mresult_c\u001b[0m\u001b[0;34m)\u001b[0m\u001b[0;34m:\u001b[0m\u001b[0;34m\u001b[0m\u001b[0;34m\u001b[0m\u001b[0m\n\u001b[1;32m      9\u001b[0m                     \u001b[0;31m# print((a,)+prod)\u001b[0m\u001b[0;34m\u001b[0m\u001b[0;34m\u001b[0m\u001b[0m\n\u001b[0;32m---> 10\u001b[0;31m                     \u001b[0mresult_c\u001b[0m\u001b[0;34m.\u001b[0m\u001b[0mappend\u001b[0m\u001b[0;34m(\u001b[0m\u001b[0;34m[\u001b[0m\u001b[0ma\u001b[0m\u001b[0;34m]\u001b[0m\u001b[0;34m+\u001b[0m\u001b[0mprod\u001b[0m\u001b[0;34m)\u001b[0m\u001b[0;34m\u001b[0m\u001b[0;34m\u001b[0m\u001b[0m\n\u001b[0m\u001b[1;32m     11\u001b[0m             \u001b[0;32mreturn\u001b[0m \u001b[0mresult_c\u001b[0m\u001b[0;34m\u001b[0m\u001b[0;34m\u001b[0m\u001b[0m\n\u001b[1;32m     12\u001b[0m     \u001b[0mc_helper\u001b[0m\u001b[0;34m(\u001b[0m\u001b[0min_list\u001b[0m\u001b[0;34m,\u001b[0m \u001b[0mresult_c\u001b[0m\u001b[0;34m)\u001b[0m\u001b[0;34m\u001b[0m\u001b[0;34m\u001b[0m\u001b[0m\n",
      "\u001b[0;31mKeyboardInterrupt\u001b[0m: "
     ]
    }
   ],
   "source": [
    "cc_product([[1,2],[3,4],[5,6]])\n"
   ]
  },
  {
   "cell_type": "code",
   "execution_count": 137,
   "metadata": {},
   "outputs": [],
   "source": [
    "def cartesian_prod(input_list):\n",
    "    def c_helper(in_list):\n",
    "        # print(in_list)\n",
    "        partial = []\n",
    "        if in_list:\n",
    "            for ele in in_list[0]:\n",
    "                for prod in c_helper(in_list[1:]):\n",
    "                    partial.append([ele] + prod)\n",
    "            return partial\n",
    "        else:\n",
    "            return [[]]\n",
    "    \n",
    "    return c_helper(input_list)\n"
   ]
  },
  {
   "cell_type": "code",
   "execution_count": 138,
   "metadata": {},
   "outputs": [
    {
     "data": {
      "text/plain": [
       "[[1, 5], [2, 5]]"
      ]
     },
     "execution_count": 138,
     "metadata": {},
     "output_type": "execute_result"
    }
   ],
   "source": [
    "ex_2 = [[1, 2, 3,4], [5,4,3]]\n",
    "ex_3 = [[1,2],[5]]\n",
    "cartesian_prod(ex_2)\n",
    "cartesian_prod(ex_3)"
   ]
  },
  {
   "cell_type": "code",
   "execution_count": 139,
   "metadata": {},
   "outputs": [],
   "source": [
    "ex_1 = [[1,2],[3,4],[5,6]]"
   ]
  },
  {
   "cell_type": "code",
   "execution_count": 140,
   "metadata": {
    "scrolled": true,
    "tags": []
   },
   "outputs": [
    {
     "data": {
      "text/plain": [
       "[[1, 3, 5],\n",
       " [1, 3, 6],\n",
       " [1, 4, 5],\n",
       " [1, 4, 6],\n",
       " [2, 3, 5],\n",
       " [2, 3, 6],\n",
       " [2, 4, 5],\n",
       " [2, 4, 6]]"
      ]
     },
     "execution_count": 140,
     "metadata": {},
     "output_type": "execute_result"
    }
   ],
   "source": [
    "cartesian_prod(ex_1)"
   ]
  },
  {
   "cell_type": "code",
   "execution_count": 32,
   "metadata": {},
   "outputs": [],
   "source": [
    "def product_args(*args):\n",
    "    if args:\n",
    "        for a in args[0]:\n",
    "            for prod in product_args(*args[1:]) if args[1:] else ((),):\n",
    "                yield (a,) + prod"
   ]
  },
  {
   "cell_type": "code",
   "execution_count": 33,
   "metadata": {},
   "outputs": [
    {
     "name": "stdout",
     "output_type": "stream",
     "text": [
      "[[1, 'a']]\n",
      "[[1, 'a', [[4, 5]], 'b']]\n",
      "[[1, 'a', [[4, 5]], 'b', [[4, 5]], [...], 2, 'a']]\n",
      "[[1, 'a', [[4, 5]], 'b', [[4, 5]], [...], 2, 'a', [[4, 5]], 'b']]\n",
      "[[1, 'a', [[4, 5]], 'b', [[4, 5]], [...], 2, 'a', [[4, 5]], 'b', [[4, 5]], [...], 3, 'a']]\n",
      "[[1, 'a', [[4, 5]], 'b', [[4, 5]], [...], 2, 'a', [[4, 5]], 'b', [[4, 5]], [...], 3, 'a', [[4, 5]], 'b']]\n",
      "[[1, 'a', [[4, 5]], 'b', [[4, 5]], [...], 2, 'a', [[4, 5]], 'b', [[4, 5]], [...], 3, 'a', [[4, 5]], 'b', [[4, 5]], [...]]]\n"
     ]
    }
   ],
   "source": [
    "\n",
    "print(cartesian_prod(some_lists))\n"
   ]
  },
  {
   "cell_type": "code",
   "execution_count": null,
   "metadata": {},
   "outputs": [],
   "source": [
    "def subsets(nums: List[int]) -> List[List[int]]:\n",
    "\n",
    "        n = len(nums)\n",
    "\n",
    "        subset = nums\n",
    "        output = [[]]\n",
    "        \n",
    "        for num in nums:\n",
    "            output += [curr + [num] for curr in output]\n",
    "            print(output)\n",
    "        \n",
    "        return output"
   ]
  }
 ],
 "metadata": {
  "kernelspec": {
   "display_name": "Python 3 (ipykernel)",
   "language": "python",
   "name": "python3"
  },
  "language_info": {
   "codemirror_mode": {
    "name": "ipython",
    "version": 3
   },
   "file_extension": ".py",
   "mimetype": "text/x-python",
   "name": "python",
   "nbconvert_exporter": "python",
   "pygments_lexer": "ipython3",
   "version": "3.9.12"
  }
 },
 "nbformat": 4,
 "nbformat_minor": 4
}
