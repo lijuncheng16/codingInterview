{
 "cells": [
  {
   "cell_type": "markdown",
   "metadata": {},
   "source": [
    "# 29. Divide Two Integers\n"
   ]
  },
  {
   "cell_type": "markdown",
   "metadata": {},
   "source": [
    "Given two integers dividend and divisor, divide two integers without using multiplication, division, and mod operator.\n",
    "\n",
    "Return the quotient after dividing dividend by divisor.\n",
    "\n",
    "The integer division should truncate toward zero, which means losing its fractional part. For example, truncate(8.345) = 8 and truncate(-2.7335) = -2.\n",
    "\n",
    "Note: Assume we are dealing with an environment that could only store integers within the 32-bit signed integer range: [−231, 231 − 1]. For this problem, assume that your function returns 231 − 1 when the division result overflows.\n",
    "\n"
   ]
  },
  {
   "cell_type": "code",
   "execution_count": 114,
   "metadata": {},
   "outputs": [],
   "source": [
    "def divide(dividend, divisor):\n",
    "        \"\"\"\n",
    "        :type dividend: int\n",
    "        :type divisor: int\n",
    "        :rtype: int\n",
    "        \"\"\"\n",
    "        if dividend >=0 and divisor >=0:\n",
    "            diff = dividend - divisor\n",
    "            count = 0\n",
    "            if diff>= 0:\n",
    "                count = 1\n",
    "            while diff >= divisor:\n",
    "                diff -= divisor\n",
    "                count+=1\n",
    "            return count\n",
    "        if dividend >=0 and divisor <0:\n",
    "            diff = dividend - (-divisor)\n",
    "            count = 1\n",
    "            while diff >= -divisor:\n",
    "                diff -= -divisor\n",
    "                count+=1\n",
    "            return count"
   ]
  },
  {
   "cell_type": "code",
   "execution_count": 184,
   "metadata": {},
   "outputs": [],
   "source": [
    "def divide(dividend, divisor):\n",
    "        \"\"\"\n",
    "        :type dividend: int\n",
    "        :type divisor: int\n",
    "        :rtype: int\n",
    "        \"\"\"\n",
    "        neg=( (dividend < 0) != (divisor < 0) )\n",
    "        dividend = left = abs(dividend)\n",
    "        divisor  = div  = abs(divisor)       \n",
    "        if dividend < divisor:\n",
    "            return 0\n",
    "        Q = 1\n",
    "        ans = 0\n",
    "        while left >= div:\n",
    "            left -= div\n",
    "            ans  += Q\n",
    "            Q    += Q\n",
    "            div  += div\n",
    "        if neg:\n",
    "            return max(-(ans + self.divide(left, divisor)), -2147483648)\n",
    "        else:\n",
    "            return min(ans + self.divide(left, divisor), 2147483647)\n"
   ]
  },
  {
   "cell_type": "code",
   "execution_count": 185,
   "metadata": {},
   "outputs": [],
   "source": [
    "dividend = 10\n",
    "divisor = 3\n",
    "#3"
   ]
  },
  {
   "cell_type": "code",
   "execution_count": 186,
   "metadata": {},
   "outputs": [],
   "source": [
    "dividend = 7\n",
    "divisor = -3\n",
    "#-2"
   ]
  },
  {
   "cell_type": "code",
   "execution_count": 187,
   "metadata": {},
   "outputs": [
    {
     "ename": "NameError",
     "evalue": "name 'self' is not defined",
     "output_type": "error",
     "traceback": [
      "\u001b[0;31m---------------------------------------------------------------------------\u001b[0m",
      "\u001b[0;31mNameError\u001b[0m                                 Traceback (most recent call last)",
      "\u001b[0;32m<ipython-input-187-54bc418dff2a>\u001b[0m in \u001b[0;36m<module>\u001b[0;34m\u001b[0m\n\u001b[0;32m----> 1\u001b[0;31m \u001b[0mdivide\u001b[0m\u001b[0;34m(\u001b[0m\u001b[0mdividend\u001b[0m\u001b[0;34m,\u001b[0m \u001b[0mdivisor\u001b[0m\u001b[0;34m)\u001b[0m\u001b[0;34m\u001b[0m\u001b[0;34m\u001b[0m\u001b[0m\n\u001b[0m",
      "\u001b[0;32m<ipython-input-184-35dd8e6df284>\u001b[0m in \u001b[0;36mdivide\u001b[0;34m(dividend, divisor)\u001b[0m\n\u001b[1;32m     18\u001b[0m             \u001b[0mdiv\u001b[0m  \u001b[0;34m+=\u001b[0m \u001b[0mdiv\u001b[0m\u001b[0;34m\u001b[0m\u001b[0;34m\u001b[0m\u001b[0m\n\u001b[1;32m     19\u001b[0m         \u001b[0;32mif\u001b[0m \u001b[0mneg\u001b[0m\u001b[0;34m:\u001b[0m\u001b[0;34m\u001b[0m\u001b[0;34m\u001b[0m\u001b[0m\n\u001b[0;32m---> 20\u001b[0;31m             \u001b[0;32mreturn\u001b[0m \u001b[0mmax\u001b[0m\u001b[0;34m(\u001b[0m\u001b[0;34m-\u001b[0m\u001b[0;34m(\u001b[0m\u001b[0mans\u001b[0m \u001b[0;34m+\u001b[0m \u001b[0mself\u001b[0m\u001b[0;34m.\u001b[0m\u001b[0mdivide\u001b[0m\u001b[0;34m(\u001b[0m\u001b[0mleft\u001b[0m\u001b[0;34m,\u001b[0m \u001b[0mdivisor\u001b[0m\u001b[0;34m)\u001b[0m\u001b[0;34m)\u001b[0m\u001b[0;34m,\u001b[0m \u001b[0;34m-\u001b[0m\u001b[0;36m2147483648\u001b[0m\u001b[0;34m)\u001b[0m\u001b[0;34m\u001b[0m\u001b[0;34m\u001b[0m\u001b[0m\n\u001b[0m\u001b[1;32m     21\u001b[0m         \u001b[0;32melse\u001b[0m\u001b[0;34m:\u001b[0m\u001b[0;34m\u001b[0m\u001b[0;34m\u001b[0m\u001b[0m\n\u001b[1;32m     22\u001b[0m             \u001b[0;32mreturn\u001b[0m \u001b[0mmin\u001b[0m\u001b[0;34m(\u001b[0m\u001b[0mans\u001b[0m \u001b[0;34m+\u001b[0m \u001b[0mself\u001b[0m\u001b[0;34m.\u001b[0m\u001b[0mdivide\u001b[0m\u001b[0;34m(\u001b[0m\u001b[0mleft\u001b[0m\u001b[0;34m,\u001b[0m \u001b[0mdivisor\u001b[0m\u001b[0;34m)\u001b[0m\u001b[0;34m,\u001b[0m \u001b[0;36m2147483647\u001b[0m\u001b[0;34m)\u001b[0m\u001b[0;34m\u001b[0m\u001b[0;34m\u001b[0m\u001b[0m\n",
      "\u001b[0;31mNameError\u001b[0m: name 'self' is not defined"
     ]
    }
   ],
   "source": [
    "divide(dividend, divisor)"
   ]
  },
  {
   "cell_type": "code",
   "execution_count": 105,
   "metadata": {},
   "outputs": [],
   "source": [
    "some_str = \"hellao\"\n",
    "#hollae\""
   ]
  },
  {
   "cell_type": "code",
   "execution_count": 106,
   "metadata": {},
   "outputs": [],
   "source": [
    "def reverseVowel(string):\n",
    "    vowels = ['a', 'e', 'i', 'o', 'u']\n",
    "    length = len(string)\n",
    "    result = [0] * length\n",
    "    vows = []\n",
    "    for ind, char in enumerate(string):\n",
    "        if char in vowels:\n",
    "            print(ind, char)\n",
    "            vows.append([ind, char])\n",
    "        else:\n",
    "            result[ind]=char\n",
    "    print('vows:', vows)\n",
    "    # reverse vows\n",
    "    for i, vow in enumerate(vows):\n",
    "        if i >= len(vows)//2:\n",
    "            break\n",
    "        \n",
    "        # i position swap to -i\n",
    "        temp = copy.deepcopy(vows[i][1])\n",
    "        print('temp', temp)\n",
    "        vows[i][1] = vows[len(vows)-i-1][1] #\n",
    "        vows[len(vows)-i-1][1] = temp\n",
    "        print(i, vows)\n",
    "        result[vows[i][0]]= vows[i][1]\n",
    "        result[vows[len(vows)-i-1][0]]= temp\n",
    "        print(result)\n",
    "\n",
    "    print(f'final:{vows}')\n",
    "    print(f'final re:{result}')\n"
   ]
  },
  {
   "cell_type": "code",
   "execution_count": 107,
   "metadata": {},
   "outputs": [
    {
     "name": "stdout",
     "output_type": "stream",
     "text": [
      "1 e\n",
      "4 a\n",
      "5 o\n",
      "vows: [[1, 'e'], [4, 'a'], [5, 'o']]\n",
      "temp e\n",
      "0 [[1, 'o'], [4, 'a'], [5, 'e']]\n",
      "['h', 'o', 'l', 'l', 0, 'e']\n",
      "final:[[1, 'o'], [4, 'a'], [5, 'e']]\n",
      "final re:['h', 'o', 'l', 'l', 0, 'e']\n"
     ]
    }
   ],
   "source": [
    "reverseVowel(some_str)"
   ]
  },
  {
   "cell_type": "markdown",
   "metadata": {},
   "source": [
    "# 191. Number of 1 Bits\n"
   ]
  },
  {
   "cell_type": "code",
   "execution_count": null,
   "metadata": {},
   "outputs": [],
   "source": [
    "def hammingWeight(self, n: int) -> int:\n",
    "    bit = format(n, \"b\")\n",
    "    count = Counter(bit)\n",
    "    return count[\"1\"]"
   ]
  },
  {
   "cell_type": "code",
   "execution_count": null,
   "metadata": {},
   "outputs": [],
   "source": [
    "def hammingWeight(self, n: int) -> int:\n",
    "    counter = Counter(str(bin(n)))\n",
    "    return counter['1']"
   ]
  },
  {
   "cell_type": "markdown",
   "metadata": {},
   "source": [
    "## trick of n & (n-1) getting rid of the least significant 1-bit"
   ]
  },
  {
   "cell_type": "raw",
   "metadata": {},
   "source": [
    "In the binary representation, the least significant 11-bit in nn always corresponds to a 00-bit in n - 1n−1. Therefore, anding the two numbers nn and n - 1n−1 always flips the least significant 11-bit in nn to 00, and keeps all other bits the same."
   ]
  },
  {
   "cell_type": "code",
   "execution_count": null,
   "metadata": {},
   "outputs": [],
   "source": [
    "def hammingWeight(self, n: int) -> int:\n",
    "    ans = 0\n",
    "    while n:\n",
    "        n &= (n-1)\n",
    "        ans += 1\n",
    "    return ans"
   ]
  },
  {
   "cell_type": "markdown",
   "metadata": {},
   "source": [
    "# 847. Shortest Path Visiting All Nodes (super hard to come up with)\n"
   ]
  },
  {
   "cell_type": "code",
   "execution_count": 1,
   "metadata": {},
   "outputs": [
    {
     "ename": "NameError",
     "evalue": "name 'List' is not defined",
     "output_type": "error",
     "traceback": [
      "\u001b[0;31m---------------------------------------------------------------------------\u001b[0m",
      "\u001b[0;31mNameError\u001b[0m                                 Traceback (most recent call last)",
      "\u001b[0;32m<ipython-input-1-ffd95665fa97>\u001b[0m in \u001b[0;36m<module>\u001b[0;34m\u001b[0m\n\u001b[0;32m----> 1\u001b[0;31m \u001b[0;32mdef\u001b[0m \u001b[0mshortestPathLength\u001b[0m\u001b[0;34m(\u001b[0m\u001b[0mself\u001b[0m\u001b[0;34m,\u001b[0m \u001b[0mgraph\u001b[0m\u001b[0;34m:\u001b[0m \u001b[0mList\u001b[0m\u001b[0;34m[\u001b[0m\u001b[0mList\u001b[0m\u001b[0;34m[\u001b[0m\u001b[0mint\u001b[0m\u001b[0;34m]\u001b[0m\u001b[0;34m]\u001b[0m\u001b[0;34m)\u001b[0m \u001b[0;34m->\u001b[0m \u001b[0mint\u001b[0m\u001b[0;34m:\u001b[0m\u001b[0;34m\u001b[0m\u001b[0;34m\u001b[0m\u001b[0m\n\u001b[0m\u001b[1;32m      2\u001b[0m     '''\n\u001b[1;32m      3\u001b[0m     \u001b[0mdp\u001b[0m\u001b[0;34m(\u001b[0m\u001b[0mnode\u001b[0m\u001b[0;34m,\u001b[0m \u001b[0mmask\u001b[0m\u001b[0;34m)\u001b[0m \u001b[0;34m=\u001b[0m \u001b[0;36m1\u001b[0m \u001b[0;34m+\u001b[0m \u001b[0mmin\u001b[0m\u001b[0;34m(\u001b[0m\u001b[0mdp\u001b[0m\u001b[0;34m(\u001b[0m\u001b[0mneighbor\u001b[0m\u001b[0;34m,\u001b[0m \u001b[0mmask\u001b[0m\u001b[0;34m)\u001b[0m\u001b[0;34m,\u001b[0m \u001b[0mdp\u001b[0m\u001b[0;34m(\u001b[0m\u001b[0mneighbor\u001b[0m\u001b[0;34m,\u001b[0m \u001b[0mmask\u001b[0m \u001b[0;34m^\u001b[0m \u001b[0;34m(\u001b[0m\u001b[0;36m1\u001b[0m \u001b[0;34m<<\u001b[0m \u001b[0mnode\u001b[0m\u001b[0;34m)\u001b[0m\u001b[0;34m)\u001b[0m\u001b[0;34m)\u001b[0m\u001b[0;34m,\u001b[0m \u001b[0;32mfor\u001b[0m \u001b[0mall\u001b[0m \u001b[0mneighbors\u001b[0m \u001b[0;32min\u001b[0m \u001b[0mgraph\u001b[0m\u001b[0;34m[\u001b[0m\u001b[0mnode\u001b[0m\u001b[0;34m]\u001b[0m\u001b[0;34m.\u001b[0m\u001b[0mthis\u001b[0m \u001b[0;32mis\u001b[0m \u001b[0mworking\u001b[0m \u001b[0mbackward\u001b[0m\u001b[0;34m\u001b[0m\u001b[0;34m\u001b[0m\u001b[0m\n\u001b[1;32m      4\u001b[0m     \u001b[0mThe\u001b[0m \u001b[0mmask\u001b[0m \u001b[0;34m^\u001b[0m \u001b[0;34m(\u001b[0m\u001b[0;36m1\u001b[0m \u001b[0;34m<<\u001b[0m \u001b[0mnode\u001b[0m\u001b[0;34m)\u001b[0m \u001b[0moperation\u001b[0m \u001b[0;32mis\u001b[0m \u001b[0mflipping\u001b[0m \u001b[0mthe\u001b[0m \u001b[0mbit\u001b[0m \u001b[0mat\u001b[0m \u001b[0mposition\u001b[0m \u001b[0mnode\u001b[0m \u001b[0musing\u001b[0m \u001b[0mthe\u001b[0m \u001b[0mmethod\u001b[0m \u001b[0mtalked\u001b[0m \u001b[0mabout\u001b[0m \u001b[0mbefore\u001b[0m\u001b[0;34m,\u001b[0m \u001b[0mto\u001b[0m \u001b[0mindicate\u001b[0m \u001b[0mthat\u001b[0m \u001b[0mwe\u001b[0m \u001b[0mare\u001b[0m \u001b[0mvisiting\u001b[0m \u001b[0mthis\u001b[0m \u001b[0mnode\u001b[0m \u001b[0;32mfor\u001b[0m \u001b[0mthe\u001b[0m \u001b[0mfirst\u001b[0m \u001b[0mtime\u001b[0m\u001b[0;34m.\u001b[0m\u001b[0;34m\u001b[0m\u001b[0;34m\u001b[0m\u001b[0m\n\u001b[1;32m      5\u001b[0m     '''\n",
      "\u001b[0;31mNameError\u001b[0m: name 'List' is not defined"
     ]
    }
   ],
   "source": [
    "def shortestPathLength(self, graph: List[List[int]]) -> int:\n",
    "    '''\n",
    "    dp(node, mask) = 1 + min(dp(neighbor, mask), dp(neighbor, mask ^ (1 << node))), for all neighbors in graph[node].this is working backward\n",
    "    The mask ^ (1 << node) operation is flipping the bit at position node using the method talked about before, to indicate that we are visiting this node for the first time.\n",
    "    '''\n",
    "    if len(graph) == 1:\n",
    "            return 0\n",
    "    #(node, mask), where node represents the label of the current node we are at,\n",
    "    # and mask represents a bitmask where all the nodes we have visited have their respective bits set to 1.\n",
    "    n = len(graph)\n",
    "    ending_mask = (1 << n) - 1 #a bitmask that represents all nodes being visited.\n",
    "    #This formula works because we are shifting a single bit to the left n times, which in the case of n = 5 gives us 100000,\n",
    "    #which after subtracting 1 will leave 5 bits set to 1, i.e. 100000 - 000001 = 011111.\n",
    "    queue = [(node, 1 << node) for node in range(n)] #This is (i, 1 << i) for all i from 0 to n - 1.\n",
    "    seen = set(queue)\n",
    "\n",
    "    steps = 0\n",
    "    while queue:\n",
    "        next_queue = []\n",
    "        for i in range(len(queue)):\n",
    "            node, mask = queue[i]\n",
    "            for neighbor in graph[node]:\n",
    "                next_mask = mask | (1 << neighbor) #bottom up bitwise or\n",
    "                if next_mask == ending_mask:\n",
    "                    return 1 + steps\n",
    "\n",
    "                if (neighbor, next_mask) not in seen:\n",
    "                    seen.add((neighbor, next_mask))\n",
    "                    next_queue.append((neighbor, next_mask))\n",
    "\n",
    "        steps += 1\n",
    "        queue = next_queue"
   ]
  },
  {
   "cell_type": "code",
   "execution_count": null,
   "metadata": {},
   "outputs": [],
   "source": []
  }
 ],
 "metadata": {
  "kernelspec": {
   "display_name": "Python 3",
   "language": "python",
   "name": "python3"
  },
  "language_info": {
   "codemirror_mode": {
    "name": "ipython",
    "version": 3
   },
   "file_extension": ".py",
   "mimetype": "text/x-python",
   "name": "python",
   "nbconvert_exporter": "python",
   "pygments_lexer": "ipython3",
   "version": "3.7.4"
  }
 },
 "nbformat": 4,
 "nbformat_minor": 4
}
