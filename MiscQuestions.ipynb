{
 "cells": [
  {
   "cell_type": "markdown",
   "metadata": {},
   "source": [
    "# 29. Divide Two Integers\n"
   ]
  },
  {
   "cell_type": "markdown",
   "metadata": {},
   "source": [
    "Given two integers dividend and divisor, divide two integers without using multiplication, division, and mod operator.\n",
    "\n",
    "Return the quotient after dividing dividend by divisor.\n",
    "\n",
    "The integer division should truncate toward zero, which means losing its fractional part. For example, truncate(8.345) = 8 and truncate(-2.7335) = -2.\n",
    "\n",
    "Note: Assume we are dealing with an environment that could only store integers within the 32-bit signed integer range: [−231, 231 − 1]. For this problem, assume that your function returns 231 − 1 when the division result overflows.\n",
    "\n"
   ]
  },
  {
   "cell_type": "code",
   "execution_count": 114,
   "metadata": {},
   "outputs": [],
   "source": [
    "def divide(dividend, divisor):\n",
    "        \"\"\"\n",
    "        :type dividend: int\n",
    "        :type divisor: int\n",
    "        :rtype: int\n",
    "        \"\"\"\n",
    "        if dividend >=0 and divisor >=0:\n",
    "            diff = dividend - divisor\n",
    "            count = 0\n",
    "            if diff>= 0:\n",
    "                count = 1\n",
    "            while diff >= divisor:\n",
    "                diff -= divisor\n",
    "                count+=1\n",
    "            return count\n",
    "        if dividend >=0 and divisor <0:\n",
    "            diff = dividend - (-divisor)\n",
    "            count = 1\n",
    "            while diff >= -divisor:\n",
    "                diff -= -divisor\n",
    "                count+=1\n",
    "            return count"
   ]
  },
  {
   "cell_type": "code",
   "execution_count": 184,
   "metadata": {},
   "outputs": [],
   "source": [
    "def divide(dividend, divisor):\n",
    "        \"\"\"\n",
    "        :type dividend: int\n",
    "        :type divisor: int\n",
    "        :rtype: int\n",
    "        \"\"\"\n",
    "        neg=( (dividend < 0) != (divisor < 0) )\n",
    "        dividend = left = abs(dividend)\n",
    "        divisor  = div  = abs(divisor)       \n",
    "        if dividend < divisor:\n",
    "            return 0\n",
    "        Q = 1\n",
    "        ans = 0\n",
    "        while left >= div:\n",
    "            left -= div\n",
    "            ans  += Q\n",
    "            Q    += Q\n",
    "            div  += div\n",
    "        if neg:\n",
    "            return max(-(ans + self.divide(left, divisor)), -2147483648)\n",
    "        else:\n",
    "            return min(ans + self.divide(left, divisor), 2147483647)\n"
   ]
  },
  {
   "cell_type": "code",
   "execution_count": 185,
   "metadata": {},
   "outputs": [],
   "source": [
    "dividend = 10\n",
    "divisor = 3\n",
    "#3"
   ]
  },
  {
   "cell_type": "code",
   "execution_count": 186,
   "metadata": {},
   "outputs": [],
   "source": [
    "dividend = 7\n",
    "divisor = -3\n",
    "#-2"
   ]
  },
  {
   "cell_type": "code",
   "execution_count": 187,
   "metadata": {},
   "outputs": [
    {
     "ename": "NameError",
     "evalue": "name 'self' is not defined",
     "output_type": "error",
     "traceback": [
      "\u001b[0;31m---------------------------------------------------------------------------\u001b[0m",
      "\u001b[0;31mNameError\u001b[0m                                 Traceback (most recent call last)",
      "\u001b[0;32m<ipython-input-187-54bc418dff2a>\u001b[0m in \u001b[0;36m<module>\u001b[0;34m\u001b[0m\n\u001b[0;32m----> 1\u001b[0;31m \u001b[0mdivide\u001b[0m\u001b[0;34m(\u001b[0m\u001b[0mdividend\u001b[0m\u001b[0;34m,\u001b[0m \u001b[0mdivisor\u001b[0m\u001b[0;34m)\u001b[0m\u001b[0;34m\u001b[0m\u001b[0;34m\u001b[0m\u001b[0m\n\u001b[0m",
      "\u001b[0;32m<ipython-input-184-35dd8e6df284>\u001b[0m in \u001b[0;36mdivide\u001b[0;34m(dividend, divisor)\u001b[0m\n\u001b[1;32m     18\u001b[0m             \u001b[0mdiv\u001b[0m  \u001b[0;34m+=\u001b[0m \u001b[0mdiv\u001b[0m\u001b[0;34m\u001b[0m\u001b[0;34m\u001b[0m\u001b[0m\n\u001b[1;32m     19\u001b[0m         \u001b[0;32mif\u001b[0m \u001b[0mneg\u001b[0m\u001b[0;34m:\u001b[0m\u001b[0;34m\u001b[0m\u001b[0;34m\u001b[0m\u001b[0m\n\u001b[0;32m---> 20\u001b[0;31m             \u001b[0;32mreturn\u001b[0m \u001b[0mmax\u001b[0m\u001b[0;34m(\u001b[0m\u001b[0;34m-\u001b[0m\u001b[0;34m(\u001b[0m\u001b[0mans\u001b[0m \u001b[0;34m+\u001b[0m \u001b[0mself\u001b[0m\u001b[0;34m.\u001b[0m\u001b[0mdivide\u001b[0m\u001b[0;34m(\u001b[0m\u001b[0mleft\u001b[0m\u001b[0;34m,\u001b[0m \u001b[0mdivisor\u001b[0m\u001b[0;34m)\u001b[0m\u001b[0;34m)\u001b[0m\u001b[0;34m,\u001b[0m \u001b[0;34m-\u001b[0m\u001b[0;36m2147483648\u001b[0m\u001b[0;34m)\u001b[0m\u001b[0;34m\u001b[0m\u001b[0;34m\u001b[0m\u001b[0m\n\u001b[0m\u001b[1;32m     21\u001b[0m         \u001b[0;32melse\u001b[0m\u001b[0;34m:\u001b[0m\u001b[0;34m\u001b[0m\u001b[0;34m\u001b[0m\u001b[0m\n\u001b[1;32m     22\u001b[0m             \u001b[0;32mreturn\u001b[0m \u001b[0mmin\u001b[0m\u001b[0;34m(\u001b[0m\u001b[0mans\u001b[0m \u001b[0;34m+\u001b[0m \u001b[0mself\u001b[0m\u001b[0;34m.\u001b[0m\u001b[0mdivide\u001b[0m\u001b[0;34m(\u001b[0m\u001b[0mleft\u001b[0m\u001b[0;34m,\u001b[0m \u001b[0mdivisor\u001b[0m\u001b[0;34m)\u001b[0m\u001b[0;34m,\u001b[0m \u001b[0;36m2147483647\u001b[0m\u001b[0;34m)\u001b[0m\u001b[0;34m\u001b[0m\u001b[0;34m\u001b[0m\u001b[0m\n",
      "\u001b[0;31mNameError\u001b[0m: name 'self' is not defined"
     ]
    }
   ],
   "source": [
    "divide(dividend, divisor)"
   ]
  },
  {
   "cell_type": "code",
   "execution_count": 105,
   "metadata": {},
   "outputs": [],
   "source": [
    "some_str = \"hellao\"\n",
    "#hollae\""
   ]
  },
  {
   "cell_type": "code",
   "execution_count": 106,
   "metadata": {},
   "outputs": [],
   "source": [
    "def reverseVowel(string):\n",
    "    vowels = ['a', 'e', 'i', 'o', 'u']\n",
    "    length = len(string)\n",
    "    result = [0] * length\n",
    "    vows = []\n",
    "    for ind, char in enumerate(string):\n",
    "        if char in vowels:\n",
    "            print(ind, char)\n",
    "            vows.append([ind, char])\n",
    "        else:\n",
    "            result[ind]=char\n",
    "    print('vows:', vows)\n",
    "    # reverse vows\n",
    "    for i, vow in enumerate(vows):\n",
    "        if i >= len(vows)//2:\n",
    "            break\n",
    "        \n",
    "        # i position swap to -i\n",
    "        temp = copy.deepcopy(vows[i][1])\n",
    "        print('temp', temp)\n",
    "        vows[i][1] = vows[len(vows)-i-1][1] #\n",
    "        vows[len(vows)-i-1][1] = temp\n",
    "        print(i, vows)\n",
    "        result[vows[i][0]]= vows[i][1]\n",
    "        result[vows[len(vows)-i-1][0]]= temp\n",
    "        print(result)\n",
    "\n",
    "    print(f'final:{vows}')\n",
    "    print(f'final re:{result}')\n"
   ]
  },
  {
   "cell_type": "code",
   "execution_count": 107,
   "metadata": {},
   "outputs": [
    {
     "name": "stdout",
     "output_type": "stream",
     "text": [
      "1 e\n",
      "4 a\n",
      "5 o\n",
      "vows: [[1, 'e'], [4, 'a'], [5, 'o']]\n",
      "temp e\n",
      "0 [[1, 'o'], [4, 'a'], [5, 'e']]\n",
      "['h', 'o', 'l', 'l', 0, 'e']\n",
      "final:[[1, 'o'], [4, 'a'], [5, 'e']]\n",
      "final re:['h', 'o', 'l', 'l', 0, 'e']\n"
     ]
    }
   ],
   "source": [
    "reverseVowel(some_str)"
   ]
  }
 ],
 "metadata": {
  "kernelspec": {
   "display_name": "Python 3",
   "language": "python",
   "name": "python3"
  },
  "language_info": {
   "codemirror_mode": {
    "name": "ipython",
    "version": 3
   },
   "file_extension": ".py",
   "mimetype": "text/x-python",
   "name": "python",
   "nbconvert_exporter": "python",
   "pygments_lexer": "ipython3",
   "version": "3.7.3"
  }
 },
 "nbformat": 4,
 "nbformat_minor": 4
}
