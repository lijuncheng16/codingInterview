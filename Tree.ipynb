{
 "cells": [
  {
   "cell_type": "code",
   "execution_count": 5,
   "metadata": {},
   "outputs": [],
   "source": [
    "class TreeNode:\n",
    "    def __init__(self, val=0, left=None, right=None):\n",
    "        self.val = val\n",
    "        self.left = left\n",
    "        self.right = right"
   ]
  },
  {
   "cell_type": "code",
   "execution_count": 6,
   "metadata": {},
   "outputs": [],
   "source": [
    "root = TreeNode(1)\n",
    "root.left = TreeNode(2)\n",
    "root.right = TreeNode(3)\n",
    "root.right.right = TreeNode(7)\n",
    "root.right.left = TreeNode(6)\n",
    "root.left.right = TreeNode(5)\n",
    "root.left.left = TreeNode(4)"
   ]
  },
  {
   "cell_type": "raw",
   "metadata": {},
   "source": [
    "            1\n",
    "           / \\\n",
    "          2    3\n",
    "         / \\  / \\\n",
    "        4  5 6   7\n"
   ]
  },
  {
   "cell_type": "markdown",
   "metadata": {},
   "source": [
    "# 129. sum root to leaf number"
   ]
  },
  {
   "cell_type": "markdown",
   "metadata": {},
   "source": [
    "Given a binary tree containing digits from 0-9 only, each root-to-leaf path could represent a number.\n",
    "\n",
    "An example is the root-to-leaf path 1->2->3 which represents the number 123.\n",
    "\n",
    "Find the total sum of all root-to-leaf numbers.\n",
    "\n",
    "Note: A leaf is a node with no children.\n",
    "\n",
    "Input: [1,2,3] 1 /\n",
    "2 3 Output: 25 Explanation: The root-to-leaf path 1->2 represents the number 12. The root-to-leaf path 1->3 represents the number 13. Therefore, sum = 12 + 13 = 25.\n",
    "\n"
   ]
  },
  {
   "cell_type": "code",
   "execution_count": 3,
   "metadata": {},
   "outputs": [],
   "source": [
    "def sumNumbers(root: TreeNode) -> int:\n",
    "        if root is None:\n",
    "            return 0\n",
    "        string = ''\n",
    "        summ = []\n",
    "        dfs_string(root, string, summ)\n",
    "        return sum(summ)\n",
    "    \n",
    "def dfs_string(node, string, summ):\n",
    "    if node:\n",
    "        string += string.join([str(node.val)])\n",
    "        print(string)\n",
    "        if node.left is None and node.right is None:\n",
    "            summ.append(int(string))\n",
    "        else:\n",
    "            dfs_string(node.left, string, summ)\n",
    "            dfs_string(node.right, string, summ)"
   ]
  },
  {
   "cell_type": "code",
   "execution_count": 4,
   "metadata": {},
   "outputs": [
    {
     "name": "stdout",
     "output_type": "stream",
     "text": [
      "1\n",
      "12\n",
      "124\n",
      "125\n",
      "13\n",
      "136\n",
      "137\n"
     ]
    },
    {
     "data": {
      "text/plain": [
       "522"
      ]
     },
     "execution_count": 4,
     "metadata": {},
     "output_type": "execute_result"
    }
   ],
   "source": [
    "sumNumbers(root)"
   ]
  },
  {
   "cell_type": "markdown",
   "metadata": {},
   "source": [
    "# 235. Lowest Common Ancestor of a Binary Search Tree\n"
   ]
  },
  {
   "cell_type": "markdown",
   "metadata": {},
   "source": [
    "Given a binary search tree (BST), find the lowest common ancestor (LCA) of two given nodes in the BST.\n",
    "\n",
    "According to the definition of LCA on Wikipedia: “The lowest common ancestor is defined between two nodes p and q as the lowest node in T that has both p and q as descendants (where we allow a node to be a descendant of itself).”"
   ]
  },
  {
   "cell_type": "code",
   "execution_count": 19,
   "metadata": {},
   "outputs": [],
   "source": [
    "root = TreeNode(6)\n",
    "root.left = TreeNode(2)\n",
    "\n",
    "root.right = TreeNode(8)\n",
    "\n",
    "root.right.right = TreeNode(9)\n",
    "root.right.left = TreeNode(7)\n",
    "root.left.right = TreeNode(4)\n",
    "root.left.left = TreeNode(0)\n",
    "root.left.right.right = TreeNode(5)\n",
    "root.left.right.right = TreeNode(3)\n",
    "p =  root.left \n",
    "q = root.right"
   ]
  },
  {
   "cell_type": "code",
   "execution_count": 67,
   "metadata": {},
   "outputs": [],
   "source": [
    "def lowestCommonAncestor(root: 'TreeNode', p: 'TreeNode', q: 'TreeNode') -> 'TreeNode':\n",
    "    while root:\n",
    "        if p.val < root.val > q.val:\n",
    "            root = root.left\n",
    "        elif p.val > root.val < q.val:\n",
    "            root = root.right\n",
    "        else:\n",
    "            return root\n",
    "#     path_q= dfs_string(root, q, string)\n",
    "# #     print(path_p)\n",
    "#     print(path_q)"
   ]
  },
  {
   "cell_type": "code",
   "execution_count": 69,
   "metadata": {},
   "outputs": [],
   "source": [
    "def lowestCommonAncestor(root: 'TreeNode', p: 'TreeNode', q: 'TreeNode') -> 'TreeNode':\n",
    "    if p.val < root.val > q.val:\n",
    "        return self.lowestCommonAncestor(root.left, p, q)\n",
    "    if p.val > root.val < q.val:\n",
    "        return self.lowestCommonAncestor(root.right, p, q)\n",
    "    return root"
   ]
  },
  {
   "cell_type": "code",
   "execution_count": 70,
   "metadata": {},
   "outputs": [
    {
     "data": {
      "text/plain": [
       "<__main__.TreeNode at 0x7ff9f05b9b50>"
      ]
     },
     "execution_count": 70,
     "metadata": {},
     "output_type": "execute_result"
    }
   ],
   "source": [
    "lowestCommonAncestor(root, p, q)"
   ]
  },
  {
   "cell_type": "markdown",
   "metadata": {},
   "source": [
    "# 236. Lowest Common Ancestor of a Binary Tree\n"
   ]
  },
  {
   "cell_type": "raw",
   "metadata": {},
   "source": [
    "Given a binary tree, find the lowest common ancestor (LCA) of two given nodes in the tree.\n",
    "\n",
    "According to the definition of LCA on Wikipedia: “The lowest common ancestor is defined between two nodes p and q as the lowest node in T that has both p and q as descendants (where we allow a node to be a descendant of itself).”\n",
    "\n"
   ]
  },
  {
   "cell_type": "raw",
   "metadata": {},
   "source": [
    "Start traversing the tree from the root node.\n",
    "If the current node itself is one of p or q, we would mark a variable mid as True and continue the search for the other node in the left and right branches.\n",
    "If either of the left or the right branch returns True, this means one of the two nodes was found below.\n",
    "If at any point in the traversal, any two of the three flags left, right or mid become True, this means we have found the lowest common ancestor for the nodes p and q."
   ]
  },
  {
   "cell_type": "raw",
   "metadata": {},
   "source": [
    "1 --> 2 --> 4 --> 8\n",
    "BACKTRACK 8 --> 4\n",
    "4 --> 9 (ONE NODE FOUND, return True)\n",
    "BACKTRACK 9 --> 4 --> 2\n",
    "2 --> 5 --> 10\n",
    "BACKTRACK 10 --> 5\n",
    "5 --> 11 (ANOTHER NODE FOUND, return True)\n",
    "BACKTRACK 11 --> 5 --> 2\n",
    "\n",
    "2 is the node where we have left = True and right = True and hence it is the lowest common ancestor."
   ]
  },
  {
   "cell_type": "code",
   "execution_count": 72,
   "metadata": {},
   "outputs": [
    {
     "ename": "IndentationError",
     "evalue": "unindent does not match any outer indentation level (<tokenize>, line 8)",
     "output_type": "error",
     "traceback": [
      "\u001b[0;36m  File \u001b[0;32m\"<tokenize>\"\u001b[0;36m, line \u001b[0;32m8\u001b[0m\n\u001b[0;31m    self.ans = None\u001b[0m\n\u001b[0m    ^\u001b[0m\n\u001b[0;31mIndentationError\u001b[0m\u001b[0;31m:\u001b[0m unindent does not match any outer indentation level\n"
     ]
    }
   ],
   "source": [
    "def lowestCommonAncestor(root: 'TreeNode', p: 'TreeNode', q: 'TreeNode') -> 'TreeNode':\n",
    "            \"\"\"\n",
    "        :type root: TreeNode\n",
    "        :type p: TreeNode\n",
    "        :type q: TreeNode\n",
    "        :rtype: TreeNode\n",
    "        \"\"\"\n",
    "        self.ans = None\n",
    "\n",
    "        def recurse_tree(current_node):\n",
    "\n",
    "            # If reached the end of a branch, return False.\n",
    "            if not current_node:\n",
    "                return False\n",
    "\n",
    "            # Left Recursion\n",
    "            left = recurse_tree(current_node.left)\n",
    "\n",
    "            # Right Recursion\n",
    "            right = recurse_tree(current_node.right)\n",
    "\n",
    "            # If the current node is one of p or q\n",
    "            mid = current_node == p or current_node == q\n",
    "\n",
    "            # If any two of the three flags left, right or mid become True.\n",
    "            if mid + left + right >= 2:\n",
    "                self.ans = current_node\n",
    "\n",
    "            # Return True if either of the three bool values is True.\n",
    "            return mid or left or right\n",
    "\n",
    "        # Traverse the tree\n",
    "        recurse_tree(root)\n",
    "        return self.ans"
   ]
  },
  {
   "cell_type": "code",
   "execution_count": null,
   "metadata": {},
   "outputs": [],
   "source": []
  },
  {
   "cell_type": "code",
   "execution_count": 76,
   "metadata": {},
   "outputs": [],
   "source": [
    "# Iterate until we find both the nodes p and q\n",
    "def lowestCommonAncestor(root: 'TreeNode', p: 'TreeNode', q: 'TreeNode') -> 'TreeNode':\n",
    "\n",
    "        # Stack for tree traversal\n",
    "        stack = [root]\n",
    "\n",
    "        # Dictionary for parent pointers\n",
    "        parent = {root: None}\n",
    "\n",
    "        # Iterate until we find both the nodes p and q\n",
    "        while p not in parent or q not in parent:\n",
    "\n",
    "            node = stack.pop()\n",
    "\n",
    "            # While traversing the tree, keep saving the parent pointers.\n",
    "            if node.left:\n",
    "                parent[node.left] = node\n",
    "                stack.append(node.left)\n",
    "            if node.right:\n",
    "                parent[node.right] = node\n",
    "                stack.append(node.right)\n",
    "\n",
    "        # Ancestors set() for node p.\n",
    "        ancestors = set()\n",
    "\n",
    "        # Process all ancestors for node p using parent pointers.\n",
    "        while p:\n",
    "            ancestors.add(p)\n",
    "            p = parent[p]\n",
    "\n",
    "        # The first ancestor of q which appears in\n",
    "        # p's ancestor set() is their lowest common ancestor.\n",
    "        while q not in ancestors:\n",
    "            q = parent[q]\n",
    "        return q"
   ]
  },
  {
   "cell_type": "code",
   "execution_count": 77,
   "metadata": {},
   "outputs": [
    {
     "data": {
      "text/plain": [
       "6"
      ]
     },
     "execution_count": 77,
     "metadata": {},
     "output_type": "execute_result"
    }
   ],
   "source": [
    "lowestCommonAncestor(root, p, q).val"
   ]
  },
  {
   "cell_type": "markdown",
   "metadata": {},
   "source": [
    "# 257. Binary Tree Paths\n"
   ]
  },
  {
   "cell_type": "code",
   "execution_count": null,
   "metadata": {},
   "outputs": [],
   "source": [
    "Given the root of a binary tree, return all root-to-leaf paths in any order.\n",
    "\n",
    "A leaf is a node with no children."
   ]
  },
  {
   "cell_type": "code",
   "execution_count": null,
   "metadata": {},
   "outputs": [],
   "source": [
    " # dfs + stack\n",
    "    def binaryTreePaths1(self, root):\n",
    "        if not root:\n",
    "            return []\n",
    "        res, stack = [], [(root, \"\")]\n",
    "        while stack:\n",
    "            node, ls = stack.pop()\n",
    "            if not node.left and not node.right:\n",
    "                res.append(ls+str(node.val))\n",
    "            if node.right:\n",
    "                stack.append((node.right, ls+str(node.val)+\"->\"))\n",
    "            if node.left:\n",
    "                stack.append((node.left, ls+str(node.val)+\"->\"))\n",
    "        return res\n",
    "        "
   ]
  },
  {
   "cell_type": "code",
   "execution_count": null,
   "metadata": {},
   "outputs": [],
   "source": [
    "  # bfs + queue\n",
    "    def binaryTreePaths2(self, root):\n",
    "        if not root:\n",
    "            return []\n",
    "        res, queue = [], collections.deque([(root, \"\")])\n",
    "        while queue:\n",
    "            node, ls = queue.popleft()\n",
    "            if not node.left and not node.right:\n",
    "                res.append(ls+str(node.val))\n",
    "            if node.left:\n",
    "                queue.append((node.left, ls+str(node.val)+\"->\"))\n",
    "            if node.right:\n",
    "                queue.append((node.right, ls+str(node.val)+\"->\"))\n",
    "        return res\n",
    "        "
   ]
  },
  {
   "cell_type": "code",
   "execution_count": null,
   "metadata": {},
   "outputs": [],
   "source": [
    "  \n",
    "    # dfs recursively\n",
    "    def binaryTreePaths(self, root):\n",
    "        if not root:\n",
    "            return []\n",
    "        res = []\n",
    "        self.dfs(root, \"\", res)\n",
    "        return res\n",
    "    \n",
    "    def dfs(self, root, ls, res):\n",
    "        if not root.left and not root.right:\n",
    "            res.append(ls+str(root.val))\n",
    "        if root.left:\n",
    "            self.dfs(root.left, ls+str(root.val)+\"->\", res)\n",
    "        if root.right:\n",
    "            self.dfs(root.right, ls+str(root.val)+\"->\", res)"
   ]
  },
  {
   "cell_type": "code",
   "execution_count": null,
   "metadata": {},
   "outputs": [],
   "source": [
    "    def binaryTreePaths1(self, root):\n",
    "        return self.dfs(root, \"\")\n",
    "    \n",
    "    def dfs(self, root, path):\n",
    "        if not root:\n",
    "            return []\n",
    "        path += str(root.val)\n",
    "        if not root.left and not root.right:\n",
    "            return [path]\n",
    "        path += \"->\"\n",
    "        return self.dfs(root.left, path) + self.dfs(root.right, path)\n",
    "    "
   ]
  },
  {
   "cell_type": "code",
   "execution_count": null,
   "metadata": {},
   "outputs": [],
   "source": [
    "    def binaryTreePaths(self, root): # inorder\n",
    "        stack, ret = [(root, \"\")], []\n",
    "        while stack:\n",
    "            node, path = stack.pop()\n",
    "            if node:\n",
    "                if not node.left and not node.right:\n",
    "                    ret.append(path+str(node.val))\n",
    "                s = path + str(node.val) + \"->\"\n",
    "                stack.append((node.right, s))\n",
    "                stack.append((node.left, s))    \n",
    "        return ret"
   ]
  },
  {
   "cell_type": "markdown",
   "metadata": {},
   "source": [
    "# 662. Maximum Width of Binary Tree"
   ]
  },
  {
   "cell_type": "markdown",
   "metadata": {},
   "source": [
    "Given the root of a binary tree, return the maximum width of the given tree.\n",
    "\n",
    "The maximum width of a tree is the maximum width among all levels.\n",
    "\n",
    "The width of one level is defined as the length between the end-nodes (the leftmost and rightmost non-null nodes), where the null nodes between the end-nodes are also counted into the length calculation.\n",
    "\n",
    "It is guaranteed that the answer will in the range of 32-bit signed integer."
   ]
  },
  {
   "cell_type": "code",
   "execution_count": null,
   "metadata": {},
   "outputs": [],
   "source": [
    "def widthOfBinaryTree(self, root: Optional[TreeNode]) -> int:\n",
    "    #BFS\n",
    "    queue = [(root,0,0)]\n",
    "    res ={}\n",
    "    while (queue):\n",
    "        node, wid, level = queue.pop(0)\n",
    "\n",
    "        res.setdefault(level, []).append(( wid, node.val))\n",
    "        if node:\n",
    "            if node.left:\n",
    "                if wid>=0:\n",
    "                    queue.append((node.left, 2*wid-1, level+1))\n",
    "                elif wid<0:\n",
    "                    queue.append((node.left, 2*wid, level+1))\n",
    "\n",
    "            if node.right:\n",
    "                if wid>0:\n",
    "                    queue.append((node.right, 2*wid, level+1))\n",
    "                elif wid<=0:\n",
    "                    queue.append((node.right, 2*wid + 1, level+1))\n",
    "    max_width = 1\n",
    "    for key in res:\n",
    "        if res[key][-1][0]*res[key][0][0]>0:\n",
    "            max_width = max(max_width, res[key][-1][0]-res[key][0][0]+1)\n",
    "        else:\n",
    "            max_width = max(max_width, res[key][-1][0]-res[key][0][0])\n",
    "    return max_width"
   ]
  },
  {
   "cell_type": "code",
   "execution_count": null,
   "metadata": {},
   "outputs": [],
   "source": [
    "# Definition for a binary tree node.\n",
    "# class TreeNode:\n",
    "#     def __init__(self, val=0, left=None, right=None):\n",
    "#         self.val = val\n",
    "#         self.left = left\n",
    "#         self.right = right\n",
    "class Solution:\n",
    "    def widthOfBinaryTree(self, root: TreeNode) -> int:\n",
    "        if not root:\n",
    "            return 0\n",
    "\n",
    "        max_width = 0\n",
    "        # queue of elements [(node, col_index)]\n",
    "        queue = deque()\n",
    "        queue.append((root, 0))\n",
    "\n",
    "        while queue:\n",
    "            level_length = len(queue)\n",
    "            _, level_head_index = queue[0]\n",
    "            # iterate through the current level\n",
    "            for _ in range(level_length):\n",
    "                node, col_index = queue.popleft()\n",
    "                # preparing for the next level\n",
    "                if node.left:\n",
    "                    queue.append((node.left, 2 * col_index))\n",
    "                if node.right:\n",
    "                    queue.append((node.right, 2 * col_index + 1))\n",
    "\n",
    "            # calculate the length of the current level,\n",
    "            #   by comparing the first and last col_index.\n",
    "            max_width = max(max_width, col_index - level_head_index + 1)\n",
    "\n",
    "        return max_width"
   ]
  },
  {
   "cell_type": "code",
   "execution_count": null,
   "metadata": {},
   "outputs": [],
   "source": [
    "class Solution:\n",
    "    def widthOfBinaryTree(self, root: TreeNode) -> int:\n",
    "\n",
    "        # table contains the first col_index for each level\n",
    "        first_col_index_table = {}\n",
    "        max_width = 0\n",
    "\n",
    "        def DFS(node, depth, col_index):\n",
    "            nonlocal max_width\n",
    "            if node is None:\n",
    "                return\n",
    "            # if the entry is empty, set the value\n",
    "            if depth not in first_col_index_table:\n",
    "                first_col_index_table[depth] = col_index\n",
    "\n",
    "            max_width = max(max_width, col_index - first_col_index_table[depth] + 1)\n",
    "\n",
    "            # Preorder DFS, with the priority on the left child\n",
    "            DFS(node.left, depth+1, 2*col_index)\n",
    "            DFS(node.right, depth+1, 2*col_index + 1)\n",
    "\n",
    "        DFS(root, 0, 0)\n",
    "\n",
    "        return max_width"
   ]
  },
  {
   "cell_type": "markdown",
   "metadata": {},
   "source": [
    "# 700. Search in a Binary Search Tree\n"
   ]
  },
  {
   "cell_type": "code",
   "execution_count": null,
   "metadata": {},
   "outputs": [],
   "source": [
    "def searchBST(self, root: TreeNode, val: int) -> TreeNode:\n",
    "    while root is not None and root.val != val:\n",
    "        root = root.left if val < root.val else root.right\n",
    "    return root"
   ]
  },
  {
   "cell_type": "code",
   "execution_count": null,
   "metadata": {},
   "outputs": [],
   "source": [
    "def searchBST(self, root: TreeNode, val: int) -> TreeNode:\n",
    "    if root is None or val == root.val:\n",
    "        return root\n",
    "\n",
    "    return self.searchBST(root.left, val) if val < root.val \\\n",
    "        else self.searchBST(root.right, val)"
   ]
  },
  {
   "cell_type": "code",
   "execution_count": null,
   "metadata": {},
   "outputs": [],
   "source": [
    "def searchBST(self, root: Optional[TreeNode], val: int) -> Optional[TreeNode]:\n",
    "    if root.val == val:\n",
    "        return root\n",
    "    if root.right and root.val < val:\n",
    "        return self.searchBST(root.right, val)\n",
    "    if root.left and root.val > val:\n",
    "        return self.searchBST(root.left, val)\n"
   ]
  },
  {
   "cell_type": "markdown",
   "metadata": {},
   "source": [
    "# 669. Trim a Binary Search Tree\n"
   ]
  },
  {
   "cell_type": "raw",
   "metadata": {},
   "source": [
    "Given the root of a binary search tree and the lowest and highest boundaries as low and high, trim the tree so that all its elements lies in [low, high]. Trimming the tree should not change the relative structure of the elements that will remain in the tree (i.e., any node's descendant should remain a descendant). It can be proven that there is a unique answer.\n",
    "\n",
    "Return the root of the trimmed binary search tree. Note that the root may change depending on the given bounds.\n",
    "\n"
   ]
  },
  {
   "cell_type": "markdown",
   "metadata": {},
   "source": [
    "## Recursive answer (came up on my own)"
   ]
  },
  {
   "cell_type": "code",
   "execution_count": null,
   "metadata": {},
   "outputs": [],
   "source": [
    "def trimBST(self, root: Optional[TreeNode], low: int, high: int) -> Optional[TreeNode]:\n",
    "        if not root:\n",
    "            return None\n",
    "        elif root.val < low:\n",
    "            return self.trimBST(root.right, low, high)\n",
    "\n",
    "        elif root.val > high:\n",
    "            return self.trimBST(root.left, low, high)\n",
    "        else:\n",
    "            root.left = self.trimBST(root.left, low, high)\n",
    "            root.right = self.trimBST(root.right, low, high)\n",
    "            return root"
   ]
  },
  {
   "cell_type": "markdown",
   "metadata": {},
   "source": [
    "## Using Stack (iterative)"
   ]
  },
  {
   "cell_type": "code",
   "execution_count": null,
   "metadata": {},
   "outputs": [],
   "source": [
    "def trimBST(self, root: Optional[TreeNode], low: int, high: int) -> Optional[TreeNode]:\n",
    "    zero = TreeNode(val=-1, right=root)\n",
    "    st = [(root, zero)]\n",
    "    while st:\n",
    "        node, parent = st.pop()\n",
    "        if not node: continue\n",
    "\n",
    "        if node.val < low:\n",
    "            if node.right: # left subtree goes away\n",
    "                if node.right.val > parent.val:\n",
    "                    parent.right = node.right\n",
    "                else:\n",
    "                    parent.left = node.right\n",
    "\n",
    "                st.append((node.right, parent))\n",
    "            else:\n",
    "                if node.val > parent.val:\n",
    "                    parent.right = None\n",
    "                else:\n",
    "                    parent.left = None\n",
    "\n",
    "            continue\n",
    "\n",
    "        if node.val > high:\n",
    "            if node.left: # right subtree goes away\n",
    "                if node.left.val > parent.val:\n",
    "                    parent.right = node.left\n",
    "                else:\n",
    "                    parent.left = node.left\n",
    "\n",
    "                st.append((node.left, parent))\n",
    "            else:\n",
    "                if node.val > parent.val:\n",
    "                    parent.right = None\n",
    "                else:\n",
    "                    parent.left = None\n",
    "\n",
    "            continue\n",
    "\n",
    "        st.append((node.left, node))\n",
    "        st.append((node.right, node))\n",
    "\n",
    "    return zero.right"
   ]
  },
  {
   "cell_type": "markdown",
   "metadata": {},
   "source": [
    "# 538. Convert BST to Greater Tree\n"
   ]
  },
  {
   "cell_type": "markdown",
   "metadata": {},
   "source": [
    "Given the root of a Binary Search Tree (BST), convert it to a Greater Tree such that every key of the original BST is changed to the original key plus the sum of all keys greater than the original key in BST.\n",
    "\n",
    "As a reminder, a binary search tree is a tree that satisfies these constraints:\n",
    "\n",
    "- The left subtree of a node contains only nodes with keys less than the node's key.\n",
    "- The right subtree of a node contains only nodes with keys greater than the node's key.\n",
    "- Both the left and right subtrees must also be binary search trees.\n",
    " "
   ]
  },
  {
   "cell_type": "code",
   "execution_count": null,
   "metadata": {},
   "outputs": [],
   "source": [
    "def convertBST(self, root: Optional[TreeNode]) -> Optional[TreeNode]:\n",
    "    total = 0\n",
    "\n",
    "    def dfs(root):\n",
    "        nonlocal total\n",
    "\n",
    "        if root is not None:\n",
    "            dfs(root.right)\n",
    "            total += root.val\n",
    "            root.val = total\n",
    "            dfs(root.left)\n",
    "        return root\n",
    "    return dfs(root)"
   ]
  },
  {
   "cell_type": "code",
   "execution_count": null,
   "metadata": {},
   "outputs": [],
   "source": [
    "def convertBST(self, root: Optional[TreeNode]) -> Optional[TreeNode]:\n",
    "    total = 0\n",
    "\n",
    "    node = root\n",
    "    stack = []\n",
    "    while stack or node is not None:\n",
    "        # push all nodes up to (and including) this subtree's maximum on\n",
    "        # the stack.\n",
    "        while node is not None:\n",
    "            stack.append(node)\n",
    "            node = node.right\n",
    "\n",
    "        node = stack.pop()\n",
    "        total += node.val\n",
    "        node.val = total\n",
    "\n",
    "        # all nodes with values between the current and its parent lie in\n",
    "        # the left subtree.\n",
    "        node = node.left\n",
    "\n",
    "    return root"
   ]
  },
  {
   "cell_type": "markdown",
   "metadata": {},
   "source": [
    "Approach #3 Reverse Morris In-order Traversal [Accepted]\n",
    "Intuition\n",
    "\n",
    "There is a clever way to perform an in-order traversal using only linear time and constant space, first described by J. H. Morris in his 1979 paper \"Traversing Binary Trees Simply and Cheaply\".\n",
    "In general, the recursive and iterative stack methods sacrifice linear space for the ability to return to a node after visiting its left subtree.\n",
    "The Morris traversal instead exploits the unused null pointer(s) of the tree's leaves to create a temporary link out of the left subtree, allowing the traversal to be performed using only constant additional memory.\n",
    "To apply it to this problem, we can simply swap all \"left\" and \"right\" references, which will reverse the traversal.\n",
    "\n",
    "Algorithm\n",
    "\n",
    "First, we initialize node, which points to the root. Then, until node points to null (specifically, the left null of the tree's minimum-value node), we repeat the following. First, consider whether the current node has a right subtree. If it does not have a right subtree, then there is no unvisited node with a greater value, so we can visit this node and move into the left subtree. If it does have a right subtree, then there is at least one unvisited node with a greater value, and thus we must visit first go to the right subtree. To do so, we obtain a reference to the in-order successor (the smallest-value node larger than the current) via our helper function getSuccessor. This successor node is the node that must be visited immediately before the current node, so it by definition has a null left pointer (otherwise it would not be the successor). Therefore, when we first find a node's successor, we temporarily link it (via its left pointer) to the node and proceed to the node's right subtree. Then, when we finish visiting the right subtree, the leftmost left pointer in it will be our temporary link that we can use to escape the subtree. After following this link, we have returned to the original node that we previously passed through, but did not visit. This time, when we find that the successor's left pointer loops back to the current node, we know that we have visited the entire right subtree, so we can now erase the temporary link and move into the left subtree."
   ]
  },
  {
   "cell_type": "code",
   "execution_count": null,
   "metadata": {},
   "outputs": [],
   "source": [
    "def convertBST(self, root):\n",
    "    # Get the node with the smallest value greater than this one.\n",
    "    def get_successor(node):\n",
    "        succ = node.right\n",
    "        while succ.left is not None and succ.left is not node:\n",
    "            succ = succ.left\n",
    "        return succ\n",
    "\n",
    "    total = 0\n",
    "    node = root\n",
    "    while node is not None:\n",
    "        # If there is no right subtree, then we can visit this node and\n",
    "        # continue traversing left.\n",
    "        if node.right is None:\n",
    "            total += node.val\n",
    "            node.val = total\n",
    "            node = node.left\n",
    "        # If there is a right subtree, then there is a node that has a\n",
    "        # greater value than the current one. therefore, we must traverse\n",
    "        # that node first.\n",
    "        else:\n",
    "            succ = get_successor(node)\n",
    "            # If there is no left subtree (or right subtree, because we are\n",
    "            # in this branch of control flow), make a temporary connection\n",
    "            # back to the current node.\n",
    "            if succ.left is None:\n",
    "                succ.left = node\n",
    "                node = node.right\n",
    "            # If there is a left subtree, it is a link that we created on\n",
    "            # a previous pass, so we should unlink it and visit this node.\n",
    "            else:\n",
    "                succ.left = None\n",
    "                total += node.val\n",
    "                node.val = total\n",
    "                node = node.left\n",
    "\n",
    "    return root"
   ]
  },
  {
   "cell_type": "markdown",
   "metadata": {},
   "source": [
    "# 897. Increasing Order Search Tree\n"
   ]
  },
  {
   "cell_type": "code",
   "execution_count": null,
   "metadata": {},
   "outputs": [],
   "source": [
    "class Solution:\n",
    "    def increasingBST(self, root: TreeNode) -> TreeNode:\n",
    "        new = head = TreeNode(0)\n",
    "        stack = []\n",
    "        while stack or root:\n",
    "            while root:\n",
    "                stack.append(root)\n",
    "                root = root.left\n",
    "            root = stack.pop()\n",
    "            new.right = root\n",
    "            new = new.right\n",
    "            root = root.right\n",
    "            new.left = None\n",
    "\n",
    "        return head.right"
   ]
  },
  {
   "cell_type": "code",
   "execution_count": null,
   "metadata": {},
   "outputs": [],
   "source": [
    "def increasingBST(self, root: TreeNode) -> TreeNode:\n",
    "        l1, r2 = node, node\n",
    "\n",
    "        if node.left: \n",
    "            l1, l2 = dfs(node.left)\n",
    "            l2.right = node\n",
    "\n",
    "        if node.right:\n",
    "            r1, r2 = dfs(node.right)\n",
    "            node.right = r1\n",
    "\n",
    "        node.left = None\n",
    "        return (l1, r2)"
   ]
  },
  {
   "cell_type": "code",
   "execution_count": null,
   "metadata": {},
   "outputs": [],
   "source": [
    "def increasingBST(self, root: TreeNode) -> TreeNode:\n",
    "    def inorder(node):\n",
    "        if node:\n",
    "            inorder(node.left)\n",
    "            node.left = None\n",
    "            self.cur.right = node\n",
    "            self.cur = node\n",
    "            print(ans)\n",
    "            inorder(node.right)\n",
    "\n",
    "    ans = self.cur = TreeNode(None)\n",
    "    inorder(root)\n",
    "    return ans.right"
   ]
  }
 ],
 "metadata": {
  "kernelspec": {
   "display_name": "Python 3",
   "language": "python",
   "name": "python3"
  },
  "language_info": {
   "codemirror_mode": {
    "name": "ipython",
    "version": 3
   },
   "file_extension": ".py",
   "mimetype": "text/x-python",
   "name": "python",
   "nbconvert_exporter": "python",
   "pygments_lexer": "ipython3",
   "version": "3.7.4"
  }
 },
 "nbformat": 4,
 "nbformat_minor": 4
}
