{
 "cells": [
  {
   "cell_type": "code",
   "execution_count": 45,
   "metadata": {},
   "outputs": [],
   "source": [
    "class TreeNode:\n",
    "    def __init__(self, val=0, left=None, right=None):\n",
    "        self.val = val\n",
    "        self.left = left\n",
    "        self.right = right"
   ]
  },
  {
   "cell_type": "code",
   "execution_count": 2,
   "metadata": {},
   "outputs": [],
   "source": [
    "root = TreeNode(1)\n",
    "root.left = TreeNode(2)\n",
    "root.right = TreeNode(3)\n",
    "root.right.right = TreeNode(7)\n",
    "root.right.left = TreeNode(6)\n",
    "root.left.right = TreeNode(5)\n",
    "root.left.left = TreeNode(4)\n"
   ]
  },
  {
   "cell_type": "code",
   "execution_count": 3,
   "metadata": {},
   "outputs": [
    {
     "name": "stdout",
     "output_type": "stream",
     "text": [
      "1\n"
     ]
    }
   ],
   "source": [
    "print(root.val)"
   ]
  },
  {
   "cell_type": "code",
   "execution_count": 23,
   "metadata": {},
   "outputs": [],
   "source": [
    "from typing import List"
   ]
  },
  {
   "cell_type": "markdown",
   "metadata": {},
   "source": [
    "## Given the root of a binary tree, return the postorder traversal of its nodes' values.\n",
    "- postorder: left right root\n",
    "- preorder root left right\n",
    "- inorder left root right"
   ]
  },
  {
   "cell_type": "markdown",
   "metadata": {},
   "source": [
    "            1\n",
    "           / \\\n",
    "          2    3\n",
    "         / \\  / \\\n",
    "        4  5 6   7\n"
   ]
  },
  {
   "cell_type": "code",
   "execution_count": 13,
   "metadata": {},
   "outputs": [],
   "source": [
    "def postorderTraversal(root: TreeNode) -> List[int]:\n",
    "        output = []\n",
    "        dfs(root, output)\n",
    "        return output"
   ]
  },
  {
   "cell_type": "code",
   "execution_count": 14,
   "metadata": {},
   "outputs": [],
   "source": [
    "def dfs(root: TreeNode, output):\n",
    "    if root is None:\n",
    "        return 0\n",
    "    dfs(root.left, output)\n",
    "    dfs(root.right, output)\n",
    "    print(root.val, output)\n",
    "    output.append(root.val)"
   ]
  },
  {
   "cell_type": "code",
   "execution_count": 15,
   "metadata": {},
   "outputs": [
    {
     "name": "stdout",
     "output_type": "stream",
     "text": [
      "4 []\n",
      "5 [4]\n",
      "2 [4, 5]\n",
      "6 [4, 5, 2]\n",
      "7 [4, 5, 2, 6]\n",
      "3 [4, 5, 2, 6, 7]\n",
      "1 [4, 5, 2, 6, 7, 3]\n"
     ]
    },
    {
     "data": {
      "text/plain": [
       "[4, 5, 2, 6, 7, 3, 1]"
      ]
     },
     "execution_count": 15,
     "metadata": {},
     "output_type": "execute_result"
    }
   ],
   "source": [
    "postorderTraversal(root)"
   ]
  },
  {
   "cell_type": "code",
   "execution_count": 50,
   "metadata": {},
   "outputs": [],
   "source": [
    "def preorderTraversal(root: TreeNode) -> List[int]:\n",
    "        output = []\n",
    "        dfs_preorder(root, output)\n",
    "        return output"
   ]
  },
  {
   "cell_type": "code",
   "execution_count": 51,
   "metadata": {},
   "outputs": [],
   "source": [
    "def dfs_preorder(root: TreeNode, output):\n",
    "    if root is None:\n",
    "        return 0\n",
    "    output.append(root.val)\n",
    "    dfs_preorder(root.left, output)\n",
    "    dfs_preorder(root.right, output)\n",
    "    print(root.val, output)\n"
   ]
  },
  {
   "cell_type": "code",
   "execution_count": 52,
   "metadata": {},
   "outputs": [
    {
     "name": "stdout",
     "output_type": "stream",
     "text": [
      "4 [1, 2, 4]\n",
      "5 [1, 2, 4, 5]\n",
      "2 [1, 2, 4, 5]\n",
      "6 [1, 2, 4, 5, 3, 6]\n",
      "7 [1, 2, 4, 5, 3, 6, 7]\n",
      "3 [1, 2, 4, 5, 3, 6, 7]\n",
      "1 [1, 2, 4, 5, 3, 6, 7]\n"
     ]
    },
    {
     "data": {
      "text/plain": [
       "[1, 2, 4, 5, 3, 6, 7]"
      ]
     },
     "execution_count": 52,
     "metadata": {},
     "output_type": "execute_result"
    }
   ],
   "source": [
    "preorderTraversal(root)"
   ]
  },
  {
   "cell_type": "code",
   "execution_count": 85,
   "metadata": {},
   "outputs": [],
   "source": [
    "def inorderTraversal(root: TreeNode) -> List[int]:\n",
    "        output = []\n",
    "        dfs_inorder(root, output)\n",
    "        return output"
   ]
  },
  {
   "cell_type": "code",
   "execution_count": 86,
   "metadata": {},
   "outputs": [],
   "source": [
    "def dfs_inorder(root: TreeNode, output):\n",
    "    if root is None:\n",
    "        return 0\n",
    "    dfs_inorder(root.left, output)\n",
    "    output.append(root.val)\n",
    "    dfs_inorder(root.right, output)\n",
    "    print(root.val, output)\n"
   ]
  },
  {
   "cell_type": "code",
   "execution_count": 87,
   "metadata": {},
   "outputs": [
    {
     "name": "stdout",
     "output_type": "stream",
     "text": [
      "4 [4]\n",
      "5 [4, 2, 5]\n",
      "2 [4, 2, 5]\n",
      "6 [4, 2, 5, 1, 6]\n",
      "7 [4, 2, 5, 1, 6, 3, 7]\n",
      "3 [4, 2, 5, 1, 6, 3, 7]\n",
      "1 [4, 2, 5, 1, 6, 3, 7]\n"
     ]
    },
    {
     "data": {
      "text/plain": [
       "[4, 2, 5, 1, 6, 3, 7]"
      ]
     },
     "execution_count": 87,
     "metadata": {},
     "output_type": "execute_result"
    }
   ],
   "source": [
    "inorderTraversal(root)"
   ]
  },
  {
   "cell_type": "code",
   "execution_count": 6,
   "metadata": {},
   "outputs": [],
   "source": [
    "root = TreeNode(1)\n",
    "root.left = TreeNode(2)\n",
    "root.right = TreeNode(3)\n",
    "root.right.right = TreeNode(7)\n",
    "root.right.left = TreeNode(6)\n",
    "root.left.right = TreeNode(5)\n",
    "root.left.left = TreeNode(4)"
   ]
  },
  {
   "cell_type": "raw",
   "metadata": {},
   "source": [
    "            1\n",
    "           / \\\n",
    "          2    3\n",
    "         / \\  / \\\n",
    "        4  5 6   7\n"
   ]
  },
  {
   "cell_type": "markdown",
   "metadata": {},
   "source": [
    "# 129. sum root to leaf number"
   ]
  },
  {
   "cell_type": "markdown",
   "metadata": {},
   "source": [
    "Given a binary tree containing digits from 0-9 only, each root-to-leaf path could represent a number.\n",
    "\n",
    "An example is the root-to-leaf path 1->2->3 which represents the number 123.\n",
    "\n",
    "Find the total sum of all root-to-leaf numbers.\n",
    "\n",
    "Note: A leaf is a node with no children.\n",
    "\n",
    "Input: [1,2,3] 1 /\n",
    "2 3 Output: 25 Explanation: The root-to-leaf path 1->2 represents the number 12. The root-to-leaf path 1->3 represents the number 13. Therefore, sum = 12 + 13 = 25.\n",
    "\n"
   ]
  },
  {
   "cell_type": "code",
   "execution_count": 3,
   "metadata": {},
   "outputs": [],
   "source": [
    "def sumNumbers(root: TreeNode) -> int:\n",
    "        if root is None:\n",
    "            return 0\n",
    "        string = ''\n",
    "        summ = []\n",
    "        dfs_string(root, string, summ)\n",
    "        return sum(summ)\n",
    "    \n",
    "def dfs_string(node, string, summ):\n",
    "    if node:\n",
    "        string += string.join([str(node.val)])\n",
    "        print(string)\n",
    "        if node.left is None and node.right is None:\n",
    "            summ.append(int(string))\n",
    "        else:\n",
    "            dfs_string(node.left, string, summ)\n",
    "            dfs_string(node.right, string, summ)"
   ]
  },
  {
   "cell_type": "code",
   "execution_count": 4,
   "metadata": {},
   "outputs": [
    {
     "name": "stdout",
     "output_type": "stream",
     "text": [
      "1\n",
      "12\n",
      "124\n",
      "125\n",
      "13\n",
      "136\n",
      "137\n"
     ]
    },
    {
     "data": {
      "text/plain": [
       "522"
      ]
     },
     "execution_count": 4,
     "metadata": {},
     "output_type": "execute_result"
    }
   ],
   "source": [
    "sumNumbers(root)"
   ]
  },
  {
   "cell_type": "markdown",
   "metadata": {},
   "source": [
    "# 235. Lowest Common Ancestor of a Binary Search Tree\n"
   ]
  },
  {
   "cell_type": "markdown",
   "metadata": {},
   "source": [
    "Given a binary search tree (BST), find the lowest common ancestor (LCA) of two given nodes in the BST.\n",
    "\n",
    "According to the definition of LCA on Wikipedia: “The lowest common ancestor is defined between two nodes p and q as the lowest node in T that has both p and q as descendants (where we allow a node to be a descendant of itself).”"
   ]
  },
  {
   "cell_type": "code",
   "execution_count": 19,
   "metadata": {},
   "outputs": [],
   "source": [
    "root = TreeNode(6)\n",
    "root.left = TreeNode(2)\n",
    "\n",
    "root.right = TreeNode(8)\n",
    "\n",
    "root.right.right = TreeNode(9)\n",
    "root.right.left = TreeNode(7)\n",
    "root.left.right = TreeNode(4)\n",
    "root.left.left = TreeNode(0)\n",
    "root.left.right.right = TreeNode(5)\n",
    "root.left.right.right = TreeNode(3)\n",
    "p =  root.left \n",
    "q = root.right"
   ]
  },
  {
   "cell_type": "code",
   "execution_count": 67,
   "metadata": {},
   "outputs": [],
   "source": [
    "def lowestCommonAncestor(root: 'TreeNode', p: 'TreeNode', q: 'TreeNode') -> 'TreeNode':\n",
    "    while root:\n",
    "        if p.val < root.val > q.val:\n",
    "            root = root.left\n",
    "        elif p.val > root.val < q.val:\n",
    "            root = root.right\n",
    "        else:\n",
    "            return root\n",
    "#     path_q= dfs_string(root, q, string)\n",
    "# #     print(path_p)\n",
    "#     print(path_q)"
   ]
  },
  {
   "cell_type": "code",
   "execution_count": 69,
   "metadata": {},
   "outputs": [],
   "source": [
    "def lowestCommonAncestor(root: 'TreeNode', p: 'TreeNode', q: 'TreeNode') -> 'TreeNode':\n",
    "    if p.val < root.val > q.val:\n",
    "        return self.lowestCommonAncestor(root.left, p, q)\n",
    "    if p.val > root.val < q.val:\n",
    "        return self.lowestCommonAncestor(root.right, p, q)\n",
    "    return root"
   ]
  },
  {
   "cell_type": "code",
   "execution_count": 70,
   "metadata": {},
   "outputs": [
    {
     "data": {
      "text/plain": [
       "<__main__.TreeNode at 0x7ff9f05b9b50>"
      ]
     },
     "execution_count": 70,
     "metadata": {},
     "output_type": "execute_result"
    }
   ],
   "source": [
    "lowestCommonAncestor(root, p, q)"
   ]
  },
  {
   "cell_type": "markdown",
   "metadata": {},
   "source": [
    "# 236. Lowest Common Ancestor of a Binary Tree\n"
   ]
  },
  {
   "cell_type": "raw",
   "metadata": {},
   "source": [
    "Given a binary tree, find the lowest common ancestor (LCA) of two given nodes in the tree.\n",
    "\n",
    "According to the definition of LCA on Wikipedia: “The lowest common ancestor is defined between two nodes p and q as the lowest node in T that has both p and q as descendants (where we allow a node to be a descendant of itself).”\n",
    "\n"
   ]
  },
  {
   "cell_type": "raw",
   "metadata": {},
   "source": [
    "Start traversing the tree from the root node.\n",
    "If the current node itself is one of p or q, we would mark a variable mid as True and continue the search for the other node in the left and right branches.\n",
    "If either of the left or the right branch returns True, this means one of the two nodes was found below.\n",
    "If at any point in the traversal, any two of the three flags left, right or mid become True, this means we have found the lowest common ancestor for the nodes p and q."
   ]
  },
  {
   "cell_type": "raw",
   "metadata": {},
   "source": [
    "1 --> 2 --> 4 --> 8\n",
    "BACKTRACK 8 --> 4\n",
    "4 --> 9 (ONE NODE FOUND, return True)\n",
    "BACKTRACK 9 --> 4 --> 2\n",
    "2 --> 5 --> 10\n",
    "BACKTRACK 10 --> 5\n",
    "5 --> 11 (ANOTHER NODE FOUND, return True)\n",
    "BACKTRACK 11 --> 5 --> 2\n",
    "\n",
    "2 is the node where we have left = True and right = True and hence it is the lowest common ancestor."
   ]
  },
  {
   "cell_type": "code",
   "execution_count": 72,
   "metadata": {},
   "outputs": [
    {
     "ename": "IndentationError",
     "evalue": "unindent does not match any outer indentation level (<tokenize>, line 8)",
     "output_type": "error",
     "traceback": [
      "\u001b[0;36m  File \u001b[0;32m\"<tokenize>\"\u001b[0;36m, line \u001b[0;32m8\u001b[0m\n\u001b[0;31m    self.ans = None\u001b[0m\n\u001b[0m    ^\u001b[0m\n\u001b[0;31mIndentationError\u001b[0m\u001b[0;31m:\u001b[0m unindent does not match any outer indentation level\n"
     ]
    }
   ],
   "source": [
    "def lowestCommonAncestor(root: 'TreeNode', p: 'TreeNode', q: 'TreeNode') -> 'TreeNode':\n",
    "            \"\"\"\n",
    "        :type root: TreeNode\n",
    "        :type p: TreeNode\n",
    "        :type q: TreeNode\n",
    "        :rtype: TreeNode\n",
    "        \"\"\"\n",
    "        self.ans = None\n",
    "\n",
    "        def recurse_tree(current_node):\n",
    "\n",
    "            # If reached the end of a branch, return False.\n",
    "            if not current_node:\n",
    "                return False\n",
    "\n",
    "            # Left Recursion\n",
    "            left = recurse_tree(current_node.left)\n",
    "\n",
    "            # Right Recursion\n",
    "            right = recurse_tree(current_node.right)\n",
    "\n",
    "            # If the current node is one of p or q\n",
    "            mid = current_node == p or current_node == q\n",
    "\n",
    "            # If any two of the three flags left, right or mid become True.\n",
    "            if mid + left + right >= 2:\n",
    "                self.ans = current_node\n",
    "\n",
    "            # Return True if either of the three bool values is True.\n",
    "            return mid or left or right\n",
    "\n",
    "        # Traverse the tree\n",
    "        recurse_tree(root)\n",
    "        return self.ans"
   ]
  },
  {
   "cell_type": "code",
   "execution_count": null,
   "metadata": {},
   "outputs": [],
   "source": [
    "class Solution(object):\n",
    "    def lowestCommonAncestor(self, root, p, q):\n",
    "        if root is None:\n",
    "            return None\n",
    "        \n",
    "        left_res = self.lowestCommonAncestor(root.left, p, q)\n",
    "        right_res = self.lowestCommonAncestor(root.right, p, q)\n",
    "        \n",
    "        if (left_res and right_res) or (root in [p, q]):\n",
    "            return root\n",
    "        else:\n",
    "            return left_res or right_res"
   ]
  },
  {
   "cell_type": "code",
   "execution_count": null,
   "metadata": {},
   "outputs": [],
   "source": [
    "class Solution:\n",
    "    def __init__(self):\n",
    "        self.ansFound = False\n",
    "    def lowestCommonAncestor(self, root: 'TreeNode', p: 'TreeNode', q: 'TreeNode') -> 'TreeNode':\n",
    "        if self.ansFound: # check if we found our lca already. if so, no need to traversal the rest of the tree\n",
    "            return None\n",
    "        if root:\n",
    "            print(root.val)\n",
    "        if root == None:\n",
    "            return None;\n",
    "        if root == p or root ==q:\n",
    "            return root\n",
    "        left = self.lowestCommonAncestor(root.left, p,q)\n",
    "        right = self.lowestCommonAncestor(root.right, p,q)\n",
    "        if left and right:\n",
    "            self.ansFound = True\n",
    "            return root\n",
    "        else:\n",
    "            return left or right"
   ]
  },
  {
   "cell_type": "code",
   "execution_count": 76,
   "metadata": {},
   "outputs": [],
   "source": [
    "# Iterate until we find both the nodes p and q\n",
    "def lowestCommonAncestor(root: 'TreeNode', p: 'TreeNode', q: 'TreeNode') -> 'TreeNode':\n",
    "\n",
    "        # Stack for tree traversal\n",
    "        stack = [root]\n",
    "\n",
    "        # Dictionary for parent pointers\n",
    "        parent = {root: None}\n",
    "\n",
    "        # Iterate until we find both the nodes p and q\n",
    "        while p not in parent or q not in parent:\n",
    "\n",
    "            node = stack.pop()\n",
    "\n",
    "            # While traversing the tree, keep saving the parent pointers.\n",
    "            if node.left:\n",
    "                parent[node.left] = node\n",
    "                stack.append(node.left)\n",
    "            if node.right:\n",
    "                parent[node.right] = node\n",
    "                stack.append(node.right)\n",
    "\n",
    "        # Ancestors set() for node p.\n",
    "        ancestors = set()\n",
    "\n",
    "        # Process all ancestors for node p using parent pointers.\n",
    "        while p:\n",
    "            ancestors.add(p)\n",
    "            p = parent[p]\n",
    "\n",
    "        # The first ancestor of q which appears in\n",
    "        # p's ancestor set() is their lowest common ancestor.\n",
    "        while q not in ancestors:\n",
    "            q = parent[q]\n",
    "        return q"
   ]
  },
  {
   "cell_type": "code",
   "execution_count": 77,
   "metadata": {},
   "outputs": [
    {
     "data": {
      "text/plain": [
       "6"
      ]
     },
     "execution_count": 77,
     "metadata": {},
     "output_type": "execute_result"
    }
   ],
   "source": [
    "lowestCommonAncestor(root, p, q).val"
   ]
  },
  {
   "cell_type": "markdown",
   "metadata": {},
   "source": [
    "# 257. Binary Tree Paths\n"
   ]
  },
  {
   "cell_type": "code",
   "execution_count": null,
   "metadata": {},
   "outputs": [],
   "source": [
    "Given the root of a binary tree, return all root-to-leaf paths in any order.\n",
    "\n",
    "A leaf is a node with no children."
   ]
  },
  {
   "cell_type": "code",
   "execution_count": null,
   "metadata": {},
   "outputs": [],
   "source": [
    " # dfs + stack\n",
    "    def binaryTreePaths1(self, root):\n",
    "        if not root:\n",
    "            return []\n",
    "        res, stack = [], [(root, \"\")]\n",
    "        while stack:\n",
    "            node, ls = stack.pop()\n",
    "            if not node.left and not node.right:\n",
    "                res.append(ls+str(node.val))\n",
    "            if node.right:\n",
    "                stack.append((node.right, ls+str(node.val)+\"->\"))\n",
    "            if node.left:\n",
    "                stack.append((node.left, ls+str(node.val)+\"->\"))\n",
    "        return res\n",
    "        "
   ]
  },
  {
   "cell_type": "code",
   "execution_count": null,
   "metadata": {},
   "outputs": [],
   "source": [
    "  # bfs + queue\n",
    "    def binaryTreePaths2(self, root):\n",
    "        if not root:\n",
    "            return []\n",
    "        res, queue = [], collections.deque([(root, \"\")])\n",
    "        while queue:\n",
    "            node, ls = queue.popleft()\n",
    "            if not node.left and not node.right:\n",
    "                res.append(ls+str(node.val))\n",
    "            if node.left:\n",
    "                queue.append((node.left, ls+str(node.val)+\"->\"))\n",
    "            if node.right:\n",
    "                queue.append((node.right, ls+str(node.val)+\"->\"))\n",
    "        return res\n",
    "        "
   ]
  },
  {
   "cell_type": "code",
   "execution_count": null,
   "metadata": {},
   "outputs": [],
   "source": [
    "  \n",
    "    # dfs recursively\n",
    "    def binaryTreePaths(self, root):\n",
    "        if not root:\n",
    "            return []\n",
    "        res = []\n",
    "        self.dfs(root, \"\", res)\n",
    "        return res\n",
    "    \n",
    "    def dfs(self, root, ls, res):\n",
    "        if not root.left and not root.right:\n",
    "            res.append(ls+str(root.val))\n",
    "        if root.left:\n",
    "            self.dfs(root.left, ls+str(root.val)+\"->\", res)\n",
    "        if root.right:\n",
    "            self.dfs(root.right, ls+str(root.val)+\"->\", res)"
   ]
  },
  {
   "cell_type": "code",
   "execution_count": null,
   "metadata": {},
   "outputs": [],
   "source": [
    "    def binaryTreePaths1(self, root):\n",
    "        return self.dfs(root, \"\")\n",
    "    \n",
    "    def dfs(self, root, path):\n",
    "        if not root:\n",
    "            return []\n",
    "        path += str(root.val)\n",
    "        if not root.left and not root.right:\n",
    "            return [path]\n",
    "        path += \"->\"\n",
    "        return self.dfs(root.left, path) + self.dfs(root.right, path)\n",
    "    "
   ]
  },
  {
   "cell_type": "code",
   "execution_count": null,
   "metadata": {},
   "outputs": [],
   "source": [
    "    def binaryTreePaths(self, root): # inorder\n",
    "        stack, ret = [(root, \"\")], []\n",
    "        while stack:\n",
    "            node, path = stack.pop()\n",
    "            if node:\n",
    "                if not node.left and not node.right:\n",
    "                    ret.append(path+str(node.val))\n",
    "                s = path + str(node.val) + \"->\"\n",
    "                stack.append((node.right, s))\n",
    "                stack.append((node.left, s))    \n",
    "        return ret"
   ]
  },
  {
   "cell_type": "markdown",
   "metadata": {},
   "source": [
    "# 662. Maximum Width of Binary Tree"
   ]
  },
  {
   "cell_type": "markdown",
   "metadata": {},
   "source": [
    "Given the root of a binary tree, return the maximum width of the given tree.\n",
    "\n",
    "The maximum width of a tree is the maximum width among all levels.\n",
    "\n",
    "The width of one level is defined as the length between the end-nodes (the leftmost and rightmost non-null nodes), where the null nodes between the end-nodes are also counted into the length calculation.\n",
    "\n",
    "It is guaranteed that the answer will in the range of 32-bit signed integer."
   ]
  },
  {
   "cell_type": "code",
   "execution_count": null,
   "metadata": {},
   "outputs": [],
   "source": [
    "def widthOfBinaryTree(self, root: Optional[TreeNode]) -> int:\n",
    "    #BFS\n",
    "    queue = [(root,0,0)]\n",
    "    res ={}\n",
    "    while (queue):\n",
    "        node, wid, level = queue.pop(0)\n",
    "\n",
    "        res.setdefault(level, []).append(( wid, node.val))\n",
    "        if node:\n",
    "            if node.left:\n",
    "                if wid>=0:\n",
    "                    queue.append((node.left, 2*wid-1, level+1))\n",
    "                elif wid<0:\n",
    "                    queue.append((node.left, 2*wid, level+1))\n",
    "\n",
    "            if node.right:\n",
    "                if wid>0:\n",
    "                    queue.append((node.right, 2*wid, level+1))\n",
    "                elif wid<=0:\n",
    "                    queue.append((node.right, 2*wid + 1, level+1))\n",
    "    max_width = 1\n",
    "    for key in res:\n",
    "        if res[key][-1][0]*res[key][0][0]>0:\n",
    "            max_width = max(max_width, res[key][-1][0]-res[key][0][0]+1)\n",
    "        else:\n",
    "            max_width = max(max_width, res[key][-1][0]-res[key][0][0])\n",
    "    return max_width"
   ]
  },
  {
   "cell_type": "code",
   "execution_count": null,
   "metadata": {},
   "outputs": [],
   "source": [
    "# Definition for a binary tree node.\n",
    "# class TreeNode:\n",
    "#     def __init__(self, val=0, left=None, right=None):\n",
    "#         self.val = val\n",
    "#         self.left = left\n",
    "#         self.right = right\n",
    "class Solution:\n",
    "    def widthOfBinaryTree(self, root: TreeNode) -> int:\n",
    "        if not root:\n",
    "            return 0\n",
    "\n",
    "        max_width = 0\n",
    "        # queue of elements [(node, col_index)]\n",
    "        queue = deque()\n",
    "        queue.append((root, 0))\n",
    "\n",
    "        while queue:\n",
    "            level_length = len(queue)\n",
    "            _, level_head_index = queue[0]\n",
    "            # iterate through the current level\n",
    "            for _ in range(level_length):\n",
    "                node, col_index = queue.popleft()\n",
    "                # preparing for the next level\n",
    "                if node.left:\n",
    "                    queue.append((node.left, 2 * col_index))\n",
    "                if node.right:\n",
    "                    queue.append((node.right, 2 * col_index + 1))\n",
    "\n",
    "            # calculate the length of the current level,\n",
    "            #   by comparing the first and last col_index.\n",
    "            max_width = max(max_width, col_index - level_head_index + 1)\n",
    "\n",
    "        return max_width"
   ]
  },
  {
   "cell_type": "code",
   "execution_count": null,
   "metadata": {},
   "outputs": [],
   "source": [
    "class Solution:\n",
    "    def widthOfBinaryTree(self, root: TreeNode) -> int:\n",
    "\n",
    "        # table contains the first col_index for each level\n",
    "        first_col_index_table = {}\n",
    "        max_width = 0\n",
    "\n",
    "        def DFS(node, depth, col_index):\n",
    "            nonlocal max_width\n",
    "            if node is None:\n",
    "                return\n",
    "            # if the entry is empty, set the value\n",
    "            if depth not in first_col_index_table:\n",
    "                first_col_index_table[depth] = col_index\n",
    "\n",
    "            max_width = max(max_width, col_index - first_col_index_table[depth] + 1)\n",
    "\n",
    "            # Preorder DFS, with the priority on the left child\n",
    "            DFS(node.left, depth+1, 2*col_index)\n",
    "            DFS(node.right, depth+1, 2*col_index + 1)\n",
    "\n",
    "        DFS(root, 0, 0)\n",
    "\n",
    "        return max_width"
   ]
  },
  {
   "cell_type": "markdown",
   "metadata": {},
   "source": [
    "# 700. Search in a Binary Search Tree\n"
   ]
  },
  {
   "cell_type": "code",
   "execution_count": null,
   "metadata": {},
   "outputs": [],
   "source": [
    "def searchBST(self, root: TreeNode, val: int) -> TreeNode:\n",
    "    while root is not None and root.val != val:\n",
    "        root = root.left if val < root.val else root.right\n",
    "    return root"
   ]
  },
  {
   "cell_type": "code",
   "execution_count": null,
   "metadata": {},
   "outputs": [],
   "source": [
    "def searchBST(self, root: TreeNode, val: int) -> TreeNode:\n",
    "    if root is None or val == root.val:\n",
    "        return root\n",
    "\n",
    "    return self.searchBST(root.left, val) if val < root.val \\\n",
    "        else self.searchBST(root.right, val)"
   ]
  },
  {
   "cell_type": "code",
   "execution_count": null,
   "metadata": {},
   "outputs": [],
   "source": [
    "def searchBST(self, root: Optional[TreeNode], val: int) -> Optional[TreeNode]:\n",
    "    if root.val == val:\n",
    "        return root\n",
    "    if root.right and root.val < val:\n",
    "        return self.searchBST(root.right, val)\n",
    "    if root.left and root.val > val:\n",
    "        return self.searchBST(root.left, val)\n"
   ]
  },
  {
   "cell_type": "markdown",
   "metadata": {},
   "source": [
    "# 669. Trim a Binary Search Tree\n"
   ]
  },
  {
   "cell_type": "raw",
   "metadata": {},
   "source": [
    "Given the root of a binary search tree and the lowest and highest boundaries as low and high, trim the tree so that all its elements lies in [low, high]. Trimming the tree should not change the relative structure of the elements that will remain in the tree (i.e., any node's descendant should remain a descendant). It can be proven that there is a unique answer.\n",
    "\n",
    "Return the root of the trimmed binary search tree. Note that the root may change depending on the given bounds.\n",
    "\n"
   ]
  },
  {
   "cell_type": "markdown",
   "metadata": {},
   "source": [
    "## Recursive answer (came up on my own)"
   ]
  },
  {
   "cell_type": "code",
   "execution_count": null,
   "metadata": {},
   "outputs": [],
   "source": [
    "def trimBST(self, root: Optional[TreeNode], low: int, high: int) -> Optional[TreeNode]:\n",
    "        if not root:\n",
    "            return None\n",
    "        elif root.val < low:\n",
    "            return self.trimBST(root.right, low, high)\n",
    "\n",
    "        elif root.val > high:\n",
    "            return self.trimBST(root.left, low, high)\n",
    "        else:\n",
    "            root.left = self.trimBST(root.left, low, high)\n",
    "            root.right = self.trimBST(root.right, low, high)\n",
    "            return root"
   ]
  },
  {
   "cell_type": "markdown",
   "metadata": {},
   "source": [
    "## Using Stack (iterative)"
   ]
  },
  {
   "cell_type": "code",
   "execution_count": null,
   "metadata": {},
   "outputs": [],
   "source": [
    "def trimBST(self, root: Optional[TreeNode], low: int, high: int) -> Optional[TreeNode]:\n",
    "    zero = TreeNode(val=-1, right=root)\n",
    "    st = [(root, zero)]\n",
    "    while st:\n",
    "        node, parent = st.pop()\n",
    "        if not node: continue\n",
    "\n",
    "        if node.val < low:\n",
    "            if node.right: # left subtree goes away\n",
    "                if node.right.val > parent.val:\n",
    "                    parent.right = node.right\n",
    "                else:\n",
    "                    parent.left = node.right\n",
    "\n",
    "                st.append((node.right, parent))\n",
    "            else:\n",
    "                if node.val > parent.val:\n",
    "                    parent.right = None\n",
    "                else:\n",
    "                    parent.left = None\n",
    "\n",
    "            continue\n",
    "\n",
    "        if node.val > high:\n",
    "            if node.left: # right subtree goes away\n",
    "                if node.left.val > parent.val:\n",
    "                    parent.right = node.left\n",
    "                else:\n",
    "                    parent.left = node.left\n",
    "\n",
    "                st.append((node.left, parent))\n",
    "            else:\n",
    "                if node.val > parent.val:\n",
    "                    parent.right = None\n",
    "                else:\n",
    "                    parent.left = None\n",
    "\n",
    "            continue\n",
    "\n",
    "        st.append((node.left, node))\n",
    "        st.append((node.right, node))\n",
    "\n",
    "    return zero.right"
   ]
  },
  {
   "cell_type": "markdown",
   "metadata": {},
   "source": [
    "# 538. Convert BST to Greater Tree\n"
   ]
  },
  {
   "cell_type": "markdown",
   "metadata": {},
   "source": [
    "Given the root of a Binary Search Tree (BST), convert it to a Greater Tree such that every key of the original BST is changed to the original key plus the sum of all keys greater than the original key in BST.\n",
    "\n",
    "As a reminder, a binary search tree is a tree that satisfies these constraints:\n",
    "\n",
    "- The left subtree of a node contains only nodes with keys less than the node's key.\n",
    "- The right subtree of a node contains only nodes with keys greater than the node's key.\n",
    "- Both the left and right subtrees must also be binary search trees.\n",
    " "
   ]
  },
  {
   "cell_type": "code",
   "execution_count": null,
   "metadata": {},
   "outputs": [],
   "source": [
    "def convertBST(self, root: Optional[TreeNode]) -> Optional[TreeNode]:\n",
    "    total = 0\n",
    "\n",
    "    def dfs(root):\n",
    "        nonlocal total\n",
    "\n",
    "        if root is not None:\n",
    "            dfs(root.right)\n",
    "            total += root.val\n",
    "            root.val = total\n",
    "            dfs(root.left)\n",
    "        return root\n",
    "    return dfs(root)"
   ]
  },
  {
   "cell_type": "code",
   "execution_count": null,
   "metadata": {},
   "outputs": [],
   "source": [
    "def convertBST(self, root: Optional[TreeNode]) -> Optional[TreeNode]:\n",
    "    total = 0\n",
    "\n",
    "    node = root\n",
    "    stack = []\n",
    "    while stack or node is not None:\n",
    "        # push all nodes up to (and including) this subtree's maximum on\n",
    "        # the stack.\n",
    "        while node is not None:\n",
    "            stack.append(node)\n",
    "            node = node.right\n",
    "\n",
    "        node = stack.pop()\n",
    "        total += node.val\n",
    "        node.val = total\n",
    "\n",
    "        # all nodes with values between the current and its parent lie in\n",
    "        # the left subtree.\n",
    "        node = node.left\n",
    "\n",
    "    return root"
   ]
  },
  {
   "cell_type": "markdown",
   "metadata": {},
   "source": [
    "Approach #3 Reverse Morris In-order Traversal [Accepted]\n",
    "Intuition\n",
    "\n",
    "There is a clever way to perform an in-order traversal using only linear time and constant space, first described by J. H. Morris in his 1979 paper \"Traversing Binary Trees Simply and Cheaply\".\n",
    "In general, the recursive and iterative stack methods sacrifice linear space for the ability to return to a node after visiting its left subtree.\n",
    "The Morris traversal instead exploits the unused null pointer(s) of the tree's leaves to create a temporary link out of the left subtree, allowing the traversal to be performed using only constant additional memory.\n",
    "To apply it to this problem, we can simply swap all \"left\" and \"right\" references, which will reverse the traversal.\n",
    "\n",
    "Algorithm\n",
    "\n",
    "First, we initialize node, which points to the root. Then, until node points to null (specifically, the left null of the tree's minimum-value node), we repeat the following. First, consider whether the current node has a right subtree. If it does not have a right subtree, then there is no unvisited node with a greater value, so we can visit this node and move into the left subtree. If it does have a right subtree, then there is at least one unvisited node with a greater value, and thus we must visit first go to the right subtree. To do so, we obtain a reference to the in-order successor (the smallest-value node larger than the current) via our helper function getSuccessor. This successor node is the node that must be visited immediately before the current node, so it by definition has a null left pointer (otherwise it would not be the successor). Therefore, when we first find a node's successor, we temporarily link it (via its left pointer) to the node and proceed to the node's right subtree. Then, when we finish visiting the right subtree, the leftmost left pointer in it will be our temporary link that we can use to escape the subtree. After following this link, we have returned to the original node that we previously passed through, but did not visit. This time, when we find that the successor's left pointer loops back to the current node, we know that we have visited the entire right subtree, so we can now erase the temporary link and move into the left subtree."
   ]
  },
  {
   "cell_type": "code",
   "execution_count": null,
   "metadata": {},
   "outputs": [],
   "source": [
    "def convertBST(self, root):\n",
    "    # Get the node with the smallest value greater than this one.\n",
    "    def get_successor(node):\n",
    "        succ = node.right\n",
    "        while succ.left is not None and succ.left is not node:\n",
    "            succ = succ.left\n",
    "        return succ\n",
    "\n",
    "    total = 0\n",
    "    node = root\n",
    "    while node is not None:\n",
    "        # If there is no right subtree, then we can visit this node and\n",
    "        # continue traversing left.\n",
    "        if node.right is None:\n",
    "            total += node.val\n",
    "            node.val = total\n",
    "            node = node.left\n",
    "        # If there is a right subtree, then there is a node that has a\n",
    "        # greater value than the current one. therefore, we must traverse\n",
    "        # that node first.\n",
    "        else:\n",
    "            succ = get_successor(node)\n",
    "            # If there is no left subtree (or right subtree, because we are\n",
    "            # in this branch of control flow), make a temporary connection\n",
    "            # back to the current node.\n",
    "            if succ.left is None:\n",
    "                succ.left = node\n",
    "                node = node.right\n",
    "            # If there is a left subtree, it is a link that we created on\n",
    "            # a previous pass, so we should unlink it and visit this node.\n",
    "            else:\n",
    "                succ.left = None\n",
    "                total += node.val\n",
    "                node.val = total\n",
    "                node = node.left\n",
    "\n",
    "    return root"
   ]
  },
  {
   "cell_type": "markdown",
   "metadata": {},
   "source": [
    "# 897. Increasing Order Search Tree\n"
   ]
  },
  {
   "cell_type": "code",
   "execution_count": null,
   "metadata": {},
   "outputs": [],
   "source": [
    "class Solution:\n",
    "    def increasingBST(self, root: TreeNode) -> TreeNode:\n",
    "        new = head = TreeNode(0)\n",
    "        stack = []\n",
    "        while stack or root:\n",
    "            while root:\n",
    "                stack.append(root)\n",
    "                root = root.left\n",
    "            root = stack.pop()\n",
    "            new.right = root\n",
    "            new = new.right\n",
    "            root = root.right\n",
    "            new.left = None\n",
    "\n",
    "        return head.right"
   ]
  },
  {
   "cell_type": "code",
   "execution_count": null,
   "metadata": {},
   "outputs": [],
   "source": [
    "def increasingBST(self, root: TreeNode) -> TreeNode:\n",
    "        l1, r2 = node, node\n",
    "\n",
    "        if node.left: \n",
    "            l1, l2 = dfs(node.left)\n",
    "            l2.right = node\n",
    "\n",
    "        if node.right:\n",
    "            r1, r2 = dfs(node.right)\n",
    "            node.right = r1\n",
    "\n",
    "        node.left = None\n",
    "        return (l1, r2)"
   ]
  },
  {
   "cell_type": "code",
   "execution_count": null,
   "metadata": {},
   "outputs": [],
   "source": [
    "def increasingBST(self, root: TreeNode) -> TreeNode:\n",
    "    def inorder(node):\n",
    "        if node:\n",
    "            inorder(node.left)\n",
    "            node.left = None\n",
    "            self.cur.right = node\n",
    "            self.cur = node\n",
    "            print(ans)\n",
    "            inorder(node.right)\n",
    "\n",
    "    ans = self.cur = TreeNode(None)\n",
    "    inorder(root)\n",
    "    return ans.right"
   ]
  },
  {
   "cell_type": "markdown",
   "metadata": {},
   "source": [
    "# Get Height of Binary Tree:"
   ]
  },
  {
   "cell_type": "code",
   "execution_count": 53,
   "metadata": {},
   "outputs": [],
   "source": [
    "def bt_height(root: TreeNode) -> int:\n",
    "    if root is None:\n",
    "        return 0\n",
    "    left_height = bt_height(root.left)\n",
    "    right_height = bt_height(root.right)\n",
    "    return (max(left_height, right_height)+1)"
   ]
  },
  {
   "cell_type": "code",
   "execution_count": 54,
   "metadata": {},
   "outputs": [
    {
     "data": {
      "text/plain": [
       "3"
      ]
     },
     "execution_count": 54,
     "metadata": {},
     "output_type": "execute_result"
    }
   ],
   "source": [
    "bt_height(root)"
   ]
  },
  {
   "cell_type": "markdown",
   "metadata": {},
   "source": [
    "# use stack to implement BT traverse"
   ]
  },
  {
   "cell_type": "code",
   "execution_count": 42,
   "metadata": {},
   "outputs": [],
   "source": [
    "def dfs_preorder_stack(root: TreeNode) -> List[int]:\n",
    "    if not root:\n",
    "        return []\n",
    "    result = []\n",
    "    stack = [root]\n",
    "    while stack:\n",
    "        stackprint = []\n",
    "        [stackprint.append(item.val) for item in stack]\n",
    "        print('stack:', stackprint)\n",
    "        node = stack.pop()\n",
    "        result.append(node.val)\n",
    "        if node.right:\n",
    "            stack.append(node.right)\n",
    "        if node.left:\n",
    "            stack.append(node.left)\n",
    "    return result\n",
    "\n",
    "    "
   ]
  },
  {
   "cell_type": "raw",
   "metadata": {},
   "source": [
    "        1\n",
    "       / \\\n",
    "      2    3\n",
    "     / \\  / \\\n",
    "    4  5 6   7"
   ]
  },
  {
   "cell_type": "code",
   "execution_count": 43,
   "metadata": {},
   "outputs": [
    {
     "name": "stdout",
     "output_type": "stream",
     "text": [
      "stack: [1]\n",
      "stack: [3, 2]\n",
      "stack: [3, 5, 4]\n",
      "stack: [3, 5]\n",
      "stack: [3]\n",
      "stack: [7, 6]\n",
      "stack: [7]\n"
     ]
    },
    {
     "data": {
      "text/plain": [
       "[1, 2, 4, 5, 3, 6, 7]"
      ]
     },
     "execution_count": 43,
     "metadata": {},
     "output_type": "execute_result"
    }
   ],
   "source": [
    "dfs_preorder_stack(root)"
   ]
  },
  {
   "cell_type": "markdown",
   "metadata": {},
   "source": [
    "1. Push root to first stack.\n",
    "2. Loop while first stack is not empty\n",
    "\n",
    "   - Pop a node from first stack and push it to second stack\n",
    "   - Push left and right children of the popped node to first stack\n",
    "   \n",
    "3. Print contents of second stack"
   ]
  },
  {
   "cell_type": "code",
   "execution_count": 67,
   "metadata": {},
   "outputs": [],
   "source": [
    "def dfs_postorder_stack(root: TreeNode) -> List[int]:\n",
    "    if not root:\n",
    "        return []\n",
    "    stack1 = [root]\n",
    "    stack2 = []\n",
    "    counter = 0\n",
    "    while stack1:\n",
    "        node = stack1.pop()\n",
    "        stack2.append(node)\n",
    "        if node.left is not None:\n",
    "            stack1.append(node.left)\n",
    "        if node.right is not None:\n",
    "            stack1.append(node.right)\n",
    "#         result.append(node.val)\n",
    "        stack1_print = []\n",
    "        stack2_print = []\n",
    "        for item in stack2:\n",
    "            stack2_print.append(item.val) \n",
    "        print(f'stack2:{stack2_print}')\n",
    "        for item in stack1:\n",
    "            stack1_print.append(item.val) \n",
    "        print(f'stack1:{stack1_print}')\n",
    "        print(f'counter: {counter}')\n",
    "        counter +=1 \n",
    "    result = []\n",
    "    while stack2:\n",
    "        node = stack2.pop()\n",
    "        result.append(node.val)\n",
    "    return result"
   ]
  },
  {
   "cell_type": "code",
   "execution_count": 68,
   "metadata": {},
   "outputs": [
    {
     "name": "stdout",
     "output_type": "stream",
     "text": [
      "stack2:[1]\n",
      "stack1:[2, 3]\n",
      "counter: 0\n",
      "stack2:[1, 3]\n",
      "stack1:[2, 6, 7]\n",
      "counter: 1\n",
      "stack2:[1, 3, 7]\n",
      "stack1:[2, 6]\n",
      "counter: 2\n",
      "stack2:[1, 3, 7, 6]\n",
      "stack1:[2]\n",
      "counter: 3\n",
      "stack2:[1, 3, 7, 6, 2]\n",
      "stack1:[4, 5]\n",
      "counter: 4\n",
      "stack2:[1, 3, 7, 6, 2, 5]\n",
      "stack1:[4]\n",
      "counter: 5\n",
      "stack2:[1, 3, 7, 6, 2, 5, 4]\n",
      "stack1:[]\n",
      "counter: 6\n"
     ]
    },
    {
     "data": {
      "text/plain": [
       "[4, 5, 2, 6, 7, 3, 1]"
      ]
     },
     "execution_count": 68,
     "metadata": {},
     "output_type": "execute_result"
    }
   ],
   "source": [
    "dfs_postorder_stack(root)"
   ]
  },
  {
   "cell_type": "markdown",
   "metadata": {},
   "source": [
    "1.1 Create an empty stack\n",
    "\n",
    "2.1 Do following while root is not NULL\n",
    "    a) Push root's right child and then root to stack.\n",
    "    b) Set root as root's left child.\n",
    "    \n",
    "2.2 Pop an item from stack and set it as root.\n",
    "    - If the popped item has a right child and the right child \n",
    "       is at top of stack, then remove the right child from stack,\n",
    "       push the root back and set root as root's right child.\n",
    "    - Else print root's data and set root as NULL.\n",
    "    \n",
    "2.3 Repeat steps 2.1 and 2.2 while stack is not empty.\n",
    "        1\n",
    "       / \\\n",
    "      2    3\n",
    "     / \\  / \\\n",
    "    4  5 6   7"
   ]
  },
  {
   "cell_type": "markdown",
   "metadata": {},
   "source": [
    "# This shit is hard to understand!"
   ]
  },
  {
   "cell_type": "code",
   "execution_count": 74,
   "metadata": {},
   "outputs": [],
   "source": [
    "def peek(stack): \n",
    "    if len(stack) > 0: \n",
    "        return stack[-1] \n",
    "    return None"
   ]
  },
  {
   "cell_type": "markdown",
   "metadata": {},
   "source": [
    "Need the above function otherwise things go out of bound"
   ]
  },
  {
   "cell_type": "code",
   "execution_count": 79,
   "metadata": {},
   "outputs": [],
   "source": [
    "def dfs_postorder_stack2(root: TreeNode) -> List[int]:\n",
    "    if not root:\n",
    "        return []\n",
    "    stack = []\n",
    "    result = []\n",
    "    counter = 0\n",
    "    while True:\n",
    "        while root is not None:\n",
    "            # Push root's right child and then root to stack \n",
    "            if(root.right) is not None:\n",
    "                stack.append(root.right)\n",
    "            stack.append(root)\n",
    "            # Set root as root's left child \n",
    "            root = root.left \n",
    "        # Pop an item from stack and set it as root \n",
    "                    \n",
    "        stack_print = []\n",
    "        for item in stack:\n",
    "            stack_print.append(item.val) \n",
    "        print(f'stack:{stack_print}, counter: {counter}')\n",
    "\n",
    "        root = stack.pop()\n",
    "        if (root.right is not None and peek(stack) == root.right): \n",
    "            print(root.val)\n",
    "            stack.pop() # Remove right child from stack \n",
    "            stack.append(root) # Push root back to stack \n",
    "            root = root.right # change root so that the \n",
    "                                    # righ childis processed next \n",
    "\n",
    "        # Else print root's data and set root as None \n",
    "        else:\n",
    "            result.append(root.val) \n",
    "            root = None\n",
    "        counter += 1\n",
    "        if (len(stack) <= 0): \n",
    "                        break\n",
    "\n",
    "        \n",
    "    return result"
   ]
  },
  {
   "cell_type": "code",
   "execution_count": 80,
   "metadata": {},
   "outputs": [
    {
     "name": "stdout",
     "output_type": "stream",
     "text": [
      "stack:[3, 1, 5, 2, 4], counter: 0\n",
      "stack:[3, 1, 5, 2], counter: 1\n",
      "2\n",
      "stack:[3, 1, 2, 5], counter: 2\n",
      "stack:[3, 1, 2], counter: 3\n",
      "stack:[3, 1], counter: 4\n",
      "1\n",
      "stack:[1, 7, 3, 6], counter: 5\n",
      "stack:[1, 7, 3], counter: 6\n",
      "3\n",
      "stack:[1, 3, 7], counter: 7\n",
      "stack:[1, 3], counter: 8\n",
      "stack:[1], counter: 9\n"
     ]
    },
    {
     "data": {
      "text/plain": [
       "[4, 5, 2, 6, 7, 3, 1]"
      ]
     },
     "execution_count": 80,
     "metadata": {},
     "output_type": "execute_result"
    }
   ],
   "source": [
    "dfs_postorder_stack2(root)"
   ]
  },
  {
   "cell_type": "markdown",
   "metadata": {},
   "source": [
    "1) Create an empty stack S.\n",
    "2) Initialize current node as root\n",
    "3) Push the current node to S and set current = current->left until current is NULL\n",
    "4) If current is NULL and stack is not empty then \n",
    "     a) Pop the top item from stack.\n",
    "     b) Print the popped item, set current = popped_item->right \n",
    "     c) Go to step 3.\n",
    "5) If current is NULL and stack is empty then we are done."
   ]
  },
  {
   "cell_type": "code",
   "execution_count": 94,
   "metadata": {},
   "outputs": [],
   "source": [
    "def dfs_inorder_stack(root: TreeNode) -> List[int]:\n",
    "    if not root:\n",
    "        return []\n",
    "    result = []\n",
    "    stack = []\n",
    "    curr = root\n",
    "    while True:\n",
    "        while curr is not None:\n",
    "            stack.append(curr)\n",
    "            curr = curr.left\n",
    "        if curr is None and stack:\n",
    "            node = stack.pop()\n",
    "            print(node.val)\n",
    "            curr = node.right\n",
    "            result.append(node.val)\n",
    "        if curr is None and stack ==[]:\n",
    "            break\n",
    "    return result"
   ]
  },
  {
   "cell_type": "code",
   "execution_count": 95,
   "metadata": {},
   "outputs": [
    {
     "name": "stdout",
     "output_type": "stream",
     "text": [
      "4\n",
      "2\n",
      "5\n",
      "1\n",
      "6\n",
      "3\n",
      "7\n"
     ]
    },
    {
     "data": {
      "text/plain": [
       "[4, 2, 5, 1, 6, 3, 7]"
      ]
     },
     "execution_count": 95,
     "metadata": {},
     "output_type": "execute_result"
    }
   ],
   "source": [
    "dfs_inorder_stack(root)"
   ]
  },
  {
   "cell_type": "code",
   "execution_count": 8,
   "metadata": {},
   "outputs": [],
   "source": [
    "root = TreeNode(1)\n",
    "root.left = TreeNode(2)\n",
    "root.right = TreeNode(3)\n",
    "root.right.right = TreeNode(7)\n",
    "root.right.left = TreeNode(6)\n",
    "root.left.right = TreeNode(5)\n",
    "root.left.left = TreeNode(4)\n",
    "root.left.left.left = TreeNode(8)\n",
    "root.left.left.right = TreeNode(9)"
   ]
  },
  {
   "cell_type": "raw",
   "metadata": {},
   "source": [
    "            1\n",
    "           / \\\n",
    "          2    3\n",
    "         / \\  / \\\n",
    "        4  5 6   7\n",
    "       / \\  \n",
    "      8  9"
   ]
  },
  {
   "cell_type": "markdown",
   "metadata": {},
   "source": [
    "# 199. Binary Tree Right Side View\n"
   ]
  },
  {
   "cell_type": "code",
   "execution_count": 16,
   "metadata": {},
   "outputs": [],
   "source": [
    "# Definition for a binary tree node.\n",
    "# class TreeNode:\n",
    "#     def __init__(self, val=0, left=None, right=None):\n",
    "#         self.val = val\n",
    "#         self.left = left\n",
    "#         self.right = right\n",
    "def rightSideView(root: TreeNode) -> List[int]:\n",
    "    if root is None:\n",
    "        return []\n",
    "\n",
    "    rightside = []\n",
    "\n",
    "    def helper(node: TreeNode, level: int) -> None:\n",
    "        if level == len(rightside):\n",
    "            print(f'lvl:{level}, right:{rightside}')\n",
    "            rightside.append(node.val)\n",
    "        for child in [node.right, node.left]:\n",
    "            if child:\n",
    "                print(f'child: {child.val}')\n",
    "                helper(child, level + 1)\n",
    "\n",
    "    helper(root, 0)\n",
    "    return rightside\n",
    "    # if root.right"
   ]
  },
  {
   "cell_type": "code",
   "execution_count": 17,
   "metadata": {},
   "outputs": [
    {
     "name": "stdout",
     "output_type": "stream",
     "text": [
      "lvl:0, right:[]\n",
      "child: 3\n",
      "lvl:1, right:[1]\n",
      "child: 7\n",
      "lvl:2, right:[1, 3]\n",
      "child: 6\n",
      "child: 2\n",
      "child: 5\n",
      "child: 4\n"
     ]
    },
    {
     "data": {
      "text/plain": [
       "[1, 3, 7]"
      ]
     },
     "execution_count": 17,
     "metadata": {},
     "output_type": "execute_result"
    }
   ],
   "source": [
    "rightSideView(root)"
   ]
  },
  {
   "cell_type": "markdown",
   "metadata": {},
   "source": [
    "# 543. Diameter of Binary Tree\n"
   ]
  },
  {
   "cell_type": "markdown",
   "metadata": {},
   "source": [
    "Given the root of a binary tree, return the length of the diameter of the tree.\n",
    "\n",
    "The diameter of a binary tree is the length of the longest path between any two nodes in a tree. This path may or may not pass through the root.\n",
    "\n",
    "The length of a path between two nodes is represented by the number of edges between them.\n",
    "\n",
    " "
   ]
  },
  {
   "cell_type": "raw",
   "metadata": {},
   "source": [
    "Input: root = [1,2,3,4,5]\n",
    "Output: 3\n",
    "Explanation: 3 is the length of the path [4,2,1,3] or [5,2,1,3]."
   ]
  },
  {
   "cell_type": "code",
   "execution_count": 31,
   "metadata": {},
   "outputs": [],
   "source": [
    " def diameterOfBinaryTree(self, root):\n",
    "        \"\"\"\n",
    "        :type root: TreeNode\n",
    "        :rtype: int\n",
    "        \"\"\"\n",
    "        self.ans = 0\n",
    "        \n",
    "        def dfs(root):\n",
    "            \n",
    "            if not root: return 0\n",
    "            \n",
    "            left_h = dfs(root.left)\n",
    "            right_h = dfs(root.right)\n",
    "            self.ans = max(self.ans, left_h+right_h)\n",
    "            \n",
    "            return 1 + max(left_h, right_h)\n",
    "        \n",
    "        dfs(root)\n",
    "        return self.ans"
   ]
  },
  {
   "cell_type": "code",
   "execution_count": 32,
   "metadata": {},
   "outputs": [
    {
     "name": "stdout",
     "output_type": "stream",
     "text": [
      "3\n",
      "3\n",
      "3\n",
      "3\n"
     ]
    }
   ],
   "source": [
    "diameterOfBinaryTree(root)"
   ]
  },
  {
   "cell_type": "markdown",
   "metadata": {},
   "source": [
    "# 98. Validate Binary Search Tree\n"
   ]
  },
  {
   "cell_type": "code",
   "execution_count": 60,
   "metadata": {},
   "outputs": [],
   "source": [
    "def isValidBST(root) -> bool:\n",
    "    def checkTree(root, lessThan = float('inf'), largerThan = float('-inf')):\n",
    "        if not root:\n",
    "            return True\n",
    "        if root.val <= largerThan or root.val >= lessThan:\n",
    "            return False\n",
    "        return checkTree(root.left, min(lessThan, root.val), largerThan) and \\\n",
    "               checkTree(root.right, lessThan, max(root.val, largerThan))\n",
    "    return checkTree(root, lessThan = float('inf'), largerThan = float('-inf'))"
   ]
  },
  {
   "cell_type": "code",
   "execution_count": 62,
   "metadata": {},
   "outputs": [],
   "source": [
    "def isValidBST(self, root):\n",
    "    return check_bst(root, float(\"-inf\"), float(\"inf\"))\n",
    "\t\n",
    "def check_bst(self, node, left, right):\n",
    "    if not node:\n",
    "        return True\n",
    "\n",
    "    if not left < node.val < right:\n",
    "        return False\n",
    "\n",
    "    return (check_bst(node.left, left, node.val)\n",
    "            and check_bst(node.right, node.val, right))"
   ]
  },
  {
   "cell_type": "code",
   "execution_count": 61,
   "metadata": {},
   "outputs": [
    {
     "name": "stdout",
     "output_type": "stream",
     "text": [
      "False\n"
     ]
    }
   ],
   "source": [
    "print(isValidBST(root))"
   ]
  },
  {
   "cell_type": "code",
   "execution_count": null,
   "metadata": {},
   "outputs": [],
   "source": [
    "# Python version based on inorder traversal\n"
   ]
  },
  {
   "cell_type": "code",
   "execution_count": null,
   "metadata": {},
   "outputs": [],
   "source": [
    "def isValidBST(self, root):\n",
    "    output = []\n",
    "    self.inOrder(root, output)\n",
    "\n",
    "    for i in range(1, len(output)):\n",
    "        if output[i-1] >= output[i]:\n",
    "            return False\n",
    "\n",
    "    return True\n",
    "\n",
    "def inOrder(self, root, output):\n",
    "    if root is None:\n",
    "        return\n",
    "\n",
    "    self.inOrder(root.left, output)\n",
    "    output.append(root.val)\n",
    "    self.inOrder(root.right, output)"
   ]
  },
  {
   "cell_type": "raw",
   "metadata": {},
   "source": [
    "https://leetcode.com/problems/validate-binary-search-tree/discuss/786520/General-Tree-Traversal-Problems-interview-Prep"
   ]
  },
  {
   "cell_type": "markdown",
   "metadata": {},
   "source": [
    "# 230. Kth Smallest Element in a BST\n"
   ]
  },
  {
   "cell_type": "raw",
   "metadata": {},
   "source": [
    "Given the root of a binary search tree, and an integer k, return the kth (1-indexed) smallest element in the tree.\n",
    "\n"
   ]
  },
  {
   "cell_type": "code",
   "execution_count": 66,
   "metadata": {},
   "outputs": [],
   "source": [
    "def kthSmallest(root, k) -> int:\n",
    "    self.heap =[]\n",
    "    def dfs(root):\n",
    "        if root:\n",
    "            dfs(root.left)\n",
    "            heapq.heappush(self.heap, root.val)\n",
    "            dfs(root.right)\n",
    "    dfs(root)\n",
    "    for _ in range(k-1):\n",
    "        heapq.heappop(self.heap)\n",
    "    return self.heap[0]"
   ]
  },
  {
   "cell_type": "code",
   "execution_count": 65,
   "metadata": {},
   "outputs": [],
   "source": [
    "def kthSmallestt(root, k) -> int:\n",
    "    stack = []\n",
    "\n",
    "    while True:\n",
    "        while root:\n",
    "            stack.append(root)\n",
    "            root = root.left\n",
    "        root = stack.pop()\n",
    "        k -= 1\n",
    "        if not k:\n",
    "            return root.val\n",
    "        root = root.right"
   ]
  },
  {
   "cell_type": "code",
   "execution_count": 68,
   "metadata": {},
   "outputs": [
    {
     "data": {
      "text/plain": [
       "1"
      ]
     },
     "execution_count": 68,
     "metadata": {},
     "output_type": "execute_result"
    }
   ],
   "source": [
    "k =4 \n",
    "kthSmallestt(root, k)"
   ]
  },
  {
   "cell_type": "markdown",
   "metadata": {},
   "source": [
    "# 783. Minimum Distance Between BST Nodes\n"
   ]
  },
  {
   "cell_type": "raw",
   "metadata": {},
   "source": [
    "Given the root of a Binary Search Tree (BST), return the minimum difference between the values of any two different nodes in the tree."
   ]
  },
  {
   "cell_type": "code",
   "execution_count": 71,
   "metadata": {},
   "outputs": [],
   "source": [
    "import math"
   ]
  },
  {
   "cell_type": "code",
   "execution_count": 89,
   "metadata": {},
   "outputs": [],
   "source": [
    "def minDiffInBST(root) -> int:\n",
    "    prev = 0\n",
    "    min_diff = float(math.inf)\n",
    "    def traverse(root, prev, min_diff):\n",
    "        if root:\n",
    "            traverse(root.left, prev, min_diff)\n",
    "            min_diff = min(root.val - prev, min_diff)\n",
    "            prev = root.val\n",
    "            print(root.val, prev, min_diff)\n",
    "            traverse(root.right, prev, min_diff)\n",
    "    traverse(root, prev, min_diff)\n",
    "    print(min_diff)\n",
    "    return min_diff"
   ]
  },
  {
   "cell_type": "code",
   "execution_count": 93,
   "metadata": {},
   "outputs": [],
   "source": [
    "def minDiffInBST(root) -> int:\n",
    "    pre = -float('inf')\n",
    "    res = float('inf')\n",
    "\n",
    "    def minDiffInBST(self, root):\n",
    "        if root.left:\n",
    "            self.minDiffInBST(root.left)\n",
    "        self.res = min(self.res, root.val - self.pre)\n",
    "        self.pre = root.val\n",
    "        if root.right:\n",
    "            self.minDiffInBST(root.right)\n",
    "        return self.res"
   ]
  },
  {
   "cell_type": "code",
   "execution_count": 94,
   "metadata": {},
   "outputs": [],
   "source": [
    "minDiffInBST(root)"
   ]
  },
  {
   "cell_type": "markdown",
   "metadata": {},
   "source": [
    "# 285: Inorder Successor in BST\n"
   ]
  },
  {
   "cell_type": "markdown",
   "metadata": {},
   "source": [
    "Given a binary search tree and a node in it, find the in-order successor of that node in the BST."
   ]
  },
  {
   "cell_type": "markdown",
   "metadata": {},
   "source": [
    "- If right subtree of node is not NULL, then succ lies in right subtree. Do the following. \n",
    "Go to right subtree and return the node with minimum key value in the right subtree.\n",
    "- If right subtree of node is NULL, then start from the root and use search-like technique. Do the following. \n",
    "Travel down the tree, if a node’s data is greater than root’s data then go right side, otherwise, go to left side.\n"
   ]
  },
  {
   "cell_type": "code",
   "execution_count": null,
   "metadata": {},
   "outputs": [],
   "source": [
    "def inOrderSuccessor(root, n):\n",
    "     \n",
    "    # Step 1 of the above algorithm\n",
    "    if n.right is not None:\n",
    "        return minValue(n.right)\n",
    " \n",
    "    # Step 2 of the above algorithm\n",
    "    succ=Node(None)\n",
    "     \n",
    "     \n",
    "    while( root):\n",
    "        if(root.data<n.data):\n",
    "            root=root.right\n",
    "        elif(root.data>n.data):\n",
    "            succ=root\n",
    "            root=root.left\n",
    "        else:\n",
    "            break\n",
    "    return succ\n",
    " \n",
    "# Given a non-empty binary search tree,\n",
    "# return the minimum data value\n",
    "# found in that tree. Note that the\n",
    "# entire tree doesn't need to be searched\n",
    "def minValue(node):\n",
    "    current = node\n",
    " \n",
    "    # loop down to find the leftmost leaf\n",
    "    while(current is not None):\n",
    "        if current.left is None:\n",
    "            break\n",
    "        current = current.left\n",
    " \n",
    "    return current\n",
    " "
   ]
  },
  {
   "cell_type": "markdown",
   "metadata": {},
   "source": [
    "# 701. Insert into a Binary Search Tree\n"
   ]
  },
  {
   "cell_type": "raw",
   "metadata": {},
   "source": [
    "You are given the root node of a binary search tree (BST) and a value to insert into the tree. Return the root node of the BST after the insertion. It is guaranteed that the new value does not exist in the original BST.\n",
    "\n",
    "Notice that there may exist multiple valid ways for the insertion, as long as the tree remains a BST after insertion. You can return any of them."
   ]
  },
  {
   "cell_type": "code",
   "execution_count": 95,
   "metadata": {},
   "outputs": [],
   "source": [
    "root = TreeNode(4)\n",
    "root.left = TreeNode(2)\n",
    "root.right = TreeNode(7)\n",
    "root.left.right = TreeNode(3)\n",
    "root.left.left = TreeNode(1)\n"
   ]
  },
  {
   "cell_type": "code",
   "execution_count": 102,
   "metadata": {},
   "outputs": [],
   "source": [
    "def insertIntoBST(root: Optional[TreeNode], val: int) -> Optional[TreeNode]:\n",
    "        if not root:\n",
    "            return TreeNode(val)\n",
    "\n",
    "        if root.val < val:\n",
    "            root.right = self.insertIntoBST(root.right, val)\n",
    "\n",
    "        if root.val > val:\n",
    "            root.left = self.insertIntoBST(root.left, val)\n",
    "\n",
    "        return root"
   ]
  },
  {
   "cell_type": "code",
   "execution_count": null,
   "metadata": {},
   "outputs": [],
   "source": [
    "def insertIntoBST(self, root, val):\n",
    "    def dfs(root):\n",
    "        if val < root.val:\n",
    "            if root.left:\n",
    "                dfs(root.left)\n",
    "            else:\n",
    "                root.left = TreeNode(val)\n",
    "        else:\n",
    "            if root.right:\n",
    "                dfs(root.right)\n",
    "            else:\n",
    "                root.right = TreeNode(val)\n",
    "\n",
    "    if not root: return TreeNode(val)\n",
    "    dfs(root)\n",
    "    return root"
   ]
  },
  {
   "cell_type": "code",
   "execution_count": null,
   "metadata": {},
   "outputs": [],
   "source": [
    "def insertIntoBST(self, root, val):\n",
    "    \"\"\"\n",
    "    :type root: TreeNode\n",
    "    :type val: int\n",
    "    :rtype: TreeNode\n",
    "    \"\"\"\n",
    "    \"\"\"Iterative\"\"\"\n",
    "    if not root: return TreeNode(val)\n",
    "    cur = root\n",
    "    while True:\n",
    "        if cur.val < val:\n",
    "            if cur.right: cur = cur.right\n",
    "            else: \n",
    "                cur.right = TreeNode(val)\n",
    "                break\n",
    "        else:\n",
    "            if cur.left: cur = cur.left\n",
    "            else:\n",
    "                cur.left = TreeNode(val)\n",
    "                break\n",
    "\n",
    "    return root"
   ]
  },
  {
   "cell_type": "code",
   "execution_count": 103,
   "metadata": {},
   "outputs": [
    {
     "name": "stdout",
     "output_type": "stream",
     "text": [
      "4\n",
      "7\n"
     ]
    },
    {
     "data": {
      "text/plain": [
       "<__main__.TreeNode at 0x7ffab0515d10>"
      ]
     },
     "execution_count": 103,
     "metadata": {},
     "output_type": "execute_result"
    }
   ],
   "source": [
    "insertIntoBST(root, 5)"
   ]
  },
  {
   "cell_type": "markdown",
   "metadata": {},
   "source": [
    "# 114. Flatten Binary Tree to Linked List\n"
   ]
  },
  {
   "cell_type": "code",
   "execution_count": null,
   "metadata": {},
   "outputs": [],
   "source": [
    "def flatten(self, root: Optional[TreeNode]) -> None:\n",
    "    \"\"\"\n",
    "    Do not return anything, modify root in-place instead.\n",
    "    \"\"\"\n",
    "    if not root:\n",
    "        return None\n",
    "    self.flatten(root.right)\n",
    "    self.flatten(root.left)\n",
    "\n",
    "    root.right = self.prev\n",
    "    root.left = None\n",
    "    self.prev = root"
   ]
  },
  {
   "cell_type": "code",
   "execution_count": null,
   "metadata": {},
   "outputs": [],
   "source": [
    "def flatten(self, root):\n",
    "    '''\n",
    "    1. flatten left subtree\n",
    "    2. find left subtree's tail\n",
    "    3. set root's left to None, root's right to root'left, tail's right to root.right\n",
    "    4. flatten the original right subtree\n",
    "    '''\n",
    "    # escape condition\n",
    "    if not root:\n",
    "        return\n",
    "    right = root.right\n",
    "    if root.left:\n",
    "        # flatten left subtree\n",
    "        self.flatten(root.left)\n",
    "        # find the tail of left subtree\n",
    "        tail = root.left\n",
    "        while tail.right:\n",
    "            tail = tail.right\n",
    "        # left <-- None, right <-- left, tail's right <- right\n",
    "        root.left, root.right, tail.right = None, root.left, right\n",
    "    # flatten right subtree\n",
    "    self.flatten(right)"
   ]
  },
  {
   "cell_type": "code",
   "execution_count": null,
   "metadata": {},
   "outputs": [],
   "source": [
    "method 2 in O(1) space:\n",
    "The prospect of solving this problem in O(1) might look tricky in the beginning, but all you need to know is how preorder traversal works.\n",
    "The key intuition of this solution is to preserve the \"Pre-Order\" order as we go.\n",
    "\n",
    "So we maintain a pointer curr while going down the tree. If curr has a left child, we want to shift it to the right while preserving the order. This will be two step process.\n",
    "Create another pointer p to find the right most point in the left subtree. Then we shift the contents of curr.right into p.right. The tree which we have right now (stage 2 in image) if you notice, still gives the exact same preorder traversal. So now we just shift this to the right of curr.\n",
    "\n",
    "Move curr to the right and repeat.\n",
    "\n"
   ]
  },
  {
   "cell_type": "code",
   "execution_count": null,
   "metadata": {},
   "outputs": [],
   "source": [
    "def flatten(self, root: TreeNode) -> None:\n",
    "        curr = root\n",
    "        \n",
    "        while curr:\n",
    "            if curr.left != None:\n",
    "                p = curr.left\n",
    "                while p.right != None:\n",
    "                    p = p.right\n",
    "                    \n",
    "                p.right = curr.right\n",
    "                \n",
    "                curr.right = curr.left\n",
    "                curr.left = None\n",
    "            \n",
    "            curr = curr.right\n"
   ]
  },
  {
   "cell_type": "markdown",
   "metadata": {},
   "source": [
    "# 116. Populating Next Right Pointers in Each Node\n"
   ]
  },
  {
   "cell_type": "raw",
   "metadata": {},
   "source": [
    "You are given a perfect binary tree where all leaves are on the same level, and every parent has two children. The binary tree has the following definition:\n",
    "\n",
    "struct Node {\n",
    "  int val;\n",
    "  Node *left;\n",
    "  Node *right;\n",
    "  Node *next;\n",
    "}\n",
    "Populate each next pointer to point to its next right node. If there is no next right node, the next pointer should be set to NULL.\n",
    "\n",
    "Initially, all next pointers are set to NULL."
   ]
  },
  {
   "cell_type": "raw",
   "metadata": {},
   "source": [
    "Since we are manipulating tree nodes on the same level, it's easy to come up with\n",
    "a very standard BFS solution using queue. But because of next pointer, we actually\n",
    "don't need a queue to store the order of tree nodes at each level, we just use a next\n",
    "pointer like it's a link list at each level; In addition, we can borrow the idea used in\n",
    "the Binary Tree level order traversal problem, which use cur and next pointer to store\n",
    "first node at each level; we exchange cur and next every time when cur is the last node\n",
    "at each level."
   ]
  },
  {
   "cell_type": "code",
   "execution_count": null,
   "metadata": {},
   "outputs": [],
   "source": [
    "def connect(self, root: 'Node') -> 'Node':\n",
    "    if not root:\n",
    "        return None\n",
    "    cur  = root\n",
    "    next = root.left\n",
    "\n",
    "    while cur.left :\n",
    "        cur.left.next = cur.right\n",
    "        if cur.next:\n",
    "            cur.right.next = cur.next.left\n",
    "            cur = cur.next\n",
    "        else:\n",
    "            cur = next\n",
    "            next = cur.left"
   ]
  },
  {
   "cell_type": "code",
   "execution_count": null,
   "metadata": {},
   "outputs": [],
   "source": [
    "def connect1(self, root):\n",
    "    if root and root.left and root.right:\n",
    "        root.left.next = root.right\n",
    "        if root.next:\n",
    "            root.right.next = root.next.left\n",
    "        self.connect(root.left)\n",
    "        self.connect(root.right)\n",
    " \n",
    "# BFS       \n",
    "def connect2(self, root):\n",
    "    if not root:\n",
    "        return \n",
    "    queue = [root]\n",
    "    while queue:\n",
    "        curr = queue.pop(0)\n",
    "        if curr.left and curr.right:\n",
    "            curr.left.next = curr.right\n",
    "            if curr.next:\n",
    "                curr.right.next = curr.next.left\n",
    "            queue.append(curr.left)\n",
    "            queue.append(curr.right)\n",
    "    \n",
    "# DFS \n",
    "def connect(self, root):\n",
    "    if not root:\n",
    "        return \n",
    "    stack = [root]\n",
    "    while stack:\n",
    "        curr = stack.pop()\n",
    "        if curr.left and curr.right:\n",
    "            curr.left.next = curr.right\n",
    "            if curr.next:\n",
    "                curr.right.next = curr.next.left\n",
    "            stack.append(curr.right)\n",
    "            stack.append(curr.left)"
   ]
  },
  {
   "cell_type": "markdown",
   "metadata": {},
   "source": [
    "# 103. Binary Tree Zigzag Level Order Traversal\n"
   ]
  },
  {
   "cell_type": "markdown",
   "metadata": {},
   "source": [
    "Given the root of a binary tree, return the zigzag level order traversal of its nodes' values. (i.e., from left to right, then right to left for the next level and alternate between).\n",
    "\n"
   ]
  },
  {
   "cell_type": "code",
   "execution_count": null,
   "metadata": {},
   "outputs": [],
   "source": [
    "def zigzagLevelOrder(self, root: Optional[TreeNode]) -> List[List[int]]:\n",
    "        if root is None:\n",
    "            return []\n",
    "        \n",
    "        queue = deque([root,])\n",
    "        result = []\n",
    "        level_ind = 0\n",
    "        while queue:\n",
    "            level_length = len(queue)\n",
    "            result.append([])\n",
    "            for i in range(level_length):\n",
    "                # if level_ind %2==0:\n",
    "                node = queue.popleft()\n",
    "\n",
    "                if level_ind %2==0:\n",
    "\n",
    "                    result[level_ind].append(node.val)\n",
    "                else:\n",
    "                    result[level_ind]= [node.val]+result[level_ind]\n",
    "                # add child nodes in the queue \n",
    "                if node.left:\n",
    "                    queue.append(node.left)\n",
    "                if node.right:\n",
    "                    queue.append(node.right)\n",
    "            level_ind +=1\n",
    "        return result"
   ]
  },
  {
   "cell_type": "markdown",
   "metadata": {},
   "source": [
    "# 101. Symmetric Tree\n"
   ]
  },
  {
   "cell_type": "markdown",
   "metadata": {},
   "source": [
    "Given the root of a binary tree, check whether it is a mirror of itself (i.e., symmetric around its center)."
   ]
  },
  {
   "cell_type": "code",
   "execution_count": null,
   "metadata": {},
   "outputs": [],
   "source": [
    "def isSymmetric(self, root: Optional[TreeNode]) -> bool:\n",
    "    def isSym(L,R):\n",
    "        if not L and not R: return True\n",
    "        if L and R and L.val == R.val: \n",
    "            return isSym(L.left, R.right) and isSym(L.right, R.left)\n",
    "        return False\n",
    "    return isSym(root, root)"
   ]
  },
  {
   "cell_type": "code",
   "execution_count": null,
   "metadata": {},
   "outputs": [],
   "source": [
    "def isSymmetric(self, root):\n",
    "    if root is None:\n",
    "        return True\n",
    "    else:\n",
    "        return self.isMirror(root.left, root.right)\n",
    "\n",
    "    def isMirror(self, left, right):\n",
    "        if left is None and right is None:\n",
    "            return True\n",
    "        if left is None or right is None:\n",
    "            return False\n",
    "\n",
    "        if left.val == right.val:\n",
    "            outPair = self.isMirror(left.left, right.right)\n",
    "            inPiar = self.isMirror(left.right, right.left)\n",
    "            return outPair and inPiar\n",
    "        else:\n",
    "            return False"
   ]
  },
  {
   "cell_type": "code",
   "execution_count": null,
   "metadata": {},
   "outputs": [],
   "source": [
    "def isSymmetric(self, root):\n",
    "    if root is None:\n",
    "        return True\n",
    "\n",
    "    stack = [[root.left, root.right]]\n",
    "\n",
    "    while len(stack) > 0:\n",
    "        pair = stack.pop(0)\n",
    "        left = pair[0]\n",
    "        right = pair[1]\n",
    "\n",
    "        if left is None and right is None:\n",
    "            continue\n",
    "        if left is None or right is None:\n",
    "            return False\n",
    "        if left.val == right.val:\n",
    "            stack.insert(0, [left.left, right.right])\n",
    "\n",
    "            stack.insert(0, [left.right, right.left])\n",
    "        else:\n",
    "            return False\n",
    "    return True"
   ]
  },
  {
   "cell_type": "markdown",
   "metadata": {},
   "source": [
    "# 226. Invert Binary Tree\n"
   ]
  },
  {
   "cell_type": "code",
   "execution_count": null,
   "metadata": {},
   "outputs": [],
   "source": [
    "def invertTree(self, root: Optional[TreeNode]) -> Optional[TreeNode]:\n",
    "    if root is None:\n",
    "        return\n",
    "    else:\n",
    "        return self.Mirror(root.left, root.right)\n",
    "\n",
    "    def Mirror(self, left, right):\n",
    "        if left is None and right is None:\n",
    "            return \n",
    "        if left is None or right is None:\n",
    "            return False\n",
    "\n",
    "        if left.val == right.val:\n",
    "            outPair = self.Mirror(left.left, right.right)\n",
    "            inPiar = self.Mirror(left.right, right.left)\n",
    "            return outPair and inPiar\n",
    "        else:\n",
    "            return False"
   ]
  },
  {
   "cell_type": "code",
   "execution_count": null,
   "metadata": {},
   "outputs": [],
   "source": [
    "def invertTree(self, root: Optional[TreeNode]) -> Optional[TreeNode]:\n",
    "    stack = [root]\n",
    "    while stack:\n",
    "        node = stack.pop()\n",
    "        if node:\n",
    "            node.left, node.right = node.right, node.left\n",
    "            stack.extend([node.right, node.left])\n",
    "    return root"
   ]
  },
  {
   "cell_type": "code",
   "execution_count": null,
   "metadata": {},
   "outputs": [],
   "source": [
    "# recursively\n",
    "def invertTree1(self, root):\n",
    "    if root:\n",
    "        root.left, root.right = self.invertTree(root.right), self.invertTree(root.left)\n",
    "        return root"
   ]
  },
  {
   "cell_type": "code",
   "execution_count": null,
   "metadata": {},
   "outputs": [],
   "source": [
    "def invertTree(self, root):\n",
    "    if root:\n",
    "        invert = self.invertTree\n",
    "        root.left, root.right = invert(root.right), invert(root.left)\n",
    "        return root"
   ]
  },
  {
   "cell_type": "code",
   "execution_count": null,
   "metadata": {},
   "outputs": [],
   "source": [
    "# BFS\n",
    "def invertTree2(self, root):\n",
    "    queue = collections.deque([(root)])\n",
    "    while queue:\n",
    "        node = queue.popleft()\n",
    "        if node:\n",
    "            node.left, node.right = node.right, node.left\n",
    "            queue.append(node.left)\n",
    "            queue.append(node.right)\n",
    "    return root"
   ]
  },
  {
   "cell_type": "markdown",
   "metadata": {},
   "source": [
    "# 105. Construct Binary Tree from Preorder and Inorder Traversal\n"
   ]
  },
  {
   "cell_type": "markdown",
   "metadata": {},
   "source": [
    "Given two integer arrays preorder and inorder where preorder is the preorder traversal of a binary tree and inorder is the inorder traversal of the same tree, construct and return the binary tree.\n",
    "\n"
   ]
  },
  {
   "cell_type": "code",
   "execution_count": 2,
   "metadata": {},
   "outputs": [],
   "source": [
    "preorder = [3,9,20,15,7]\n",
    "inorder = [9,3,15,20,7]"
   ]
  },
  {
   "cell_type": "code",
   "execution_count": 45,
   "metadata": {},
   "outputs": [
    {
     "ename": "IndentationError",
     "evalue": "unindent does not match any outer indentation level (<tokenize>, line 30)",
     "output_type": "error",
     "traceback": [
      "\u001b[0;36m  File \u001b[0;32m\"<tokenize>\"\u001b[0;36m, line \u001b[0;32m30\u001b[0m\n\u001b[0;31m    result = []\u001b[0m\n\u001b[0m    ^\u001b[0m\n\u001b[0;31mIndentationError\u001b[0m\u001b[0;31m:\u001b[0m unindent does not match any outer indentation level\n"
     ]
    }
   ],
   "source": [
    "def buildTree(preorder, inorder):\n",
    "        \"\"\"\n",
    "        :type preorder: List[int]\n",
    "        :type inorder: List[int]\n",
    "        :rtype: TreeNode\n",
    "        \"\"\"\n",
    "        if not preorder or not inorder:\n",
    "            return\n",
    "        root_val = preorder[0]\n",
    "        root = TreeNode(root_val)\n",
    "        left_nodes = []\n",
    "        right_nodes = []\n",
    "        root_ind = len(inorder)-1\n",
    "        for ind, node_val in enumerate(inorder):\n",
    "            if node_val == root_val:\n",
    "                root_ind = ind\n",
    "            if ind < root_ind:\n",
    "                left_nodes.append(node_val)\n",
    "            elif ind > root_ind:\n",
    "                right_nodes.append(node_val)\n",
    "        for ind, node_val in enumerate(preorder):\n",
    "            if ind ==0:\n",
    "                continue\n",
    "            if node_val in left_nodes:\n",
    "                root.left = TreeNode(node_val)\n",
    "        \n",
    "        \n",
    "        if not root:\n",
    "        return []\n",
    "    result = []\n",
    "    stack = [root]\n",
    "    while stack:\n",
    "        node = stack.pop()\n",
    "        result.append(node.val)\n",
    "        if node.right is not None:\n",
    "            stack.append(node.right)\n",
    "        if node.left is not None:\n",
    "            stack.append(node.left)\n",
    "    return result\n"
   ]
  },
  {
   "cell_type": "markdown",
   "metadata": {},
   "source": [
    "1. Build a hashmap to record the relation of value -> index for inorder, so that we can find the position of root in constant time.\n",
    "2. Initialize an integer variable preorderIndex to keep track of the element that will be used to construct the root.\n",
    "3. Implement the recursion function arrayToTree which takes a range of inorder and returns the constructed binary tree:\n",
    "    - if the range is empty, return null;\n",
    "    - initialize the root with preorder[preorderIndex] and then increment preorderIndex;\n",
    "    - recursively use the left and right portions of inorder to construct the left and right subtrees.\n",
    "4. Simply call the recursion function with the entire range of inorder."
   ]
  },
  {
   "cell_type": "code",
   "execution_count": 46,
   "metadata": {},
   "outputs": [],
   "source": [
    "def buildTree(self, preorder: List[int], inorder: List[int]) -> TreeNode:\n",
    "        def array_to_tree(left, right):\n",
    "            nonlocal preorder_index\n",
    "            # if there are no elements to construct the tree\n",
    "            if left > right: return None\n",
    "\n",
    "            # select the preorder_index element as the root and increment it\n",
    "            root_value = preorder[preorder_index]\n",
    "            root = TreeNode(root_value)\n",
    "\n",
    "\n",
    "            preorder_index += 1\n",
    "\n",
    "            # build left and right subtree\n",
    "            # excluding inorder_index_map[root_value] element because it's the root\n",
    "            root.left = array_to_tree(left, inorder_index_map[root_value] - 1)\n",
    "            root.right = array_to_tree(inorder_index_map[root_value] + 1, right)\n",
    "\n",
    "            return root\n",
    "\n",
    "        preorder_index = 0\n",
    "\n",
    "        # build a hashmap to store value -> its index relations\n",
    "        inorder_index_map = {}\n",
    "        for index, value in enumerate(inorder):\n",
    "            inorder_index_map[value] = index\n",
    "\n",
    "        return array_to_tree(0, len(preorder) - 1)"
   ]
  },
  {
   "cell_type": "code",
   "execution_count": null,
   "metadata": {},
   "outputs": [],
   "source": [
    "Use the first element of preorder, the 1, as root.\n",
    "Search it in inorder.\n",
    "Split inorder by it, here into [4, 2, 5] and [6, 3].\n",
    "Split the rest of preorder into two parts as large as the inorder parts, here into [2, 4, 5] and [3, 6].\n",
    "Use preorder = [2, 4, 5] and inorder = [4, 2, 5] to add the left subtree.\n",
    "Use preorder =[3, 6]andinorder = [6, 3] to add the right subtree.\n"
   ]
  },
  {
   "cell_type": "code",
   "execution_count": null,
   "metadata": {},
   "outputs": [],
   "source": [
    "def buildTree(self, preorder, inorder):\n",
    "    def build(stop):\n",
    "        if inorder and inorder[-1] != stop:\n",
    "            root = TreeNode(preorder.pop())\n",
    "            root.left = build(root.val)\n",
    "            inorder.pop()\n",
    "            root.right = build(stop)\n",
    "            return root\n",
    "    preorder.reverse()\n",
    "    inorder.reverse()\n",
    "    return build(None)"
   ]
  },
  {
   "cell_type": "markdown",
   "metadata": {},
   "source": [
    "The code is clean and short. However, if you give this implementation during an interview, there is a good chance you will be asked, \"can you improve/optimize your solution?\"\n",
    "\n",
    "Why? Take a look at Line A, Line B and Line C.\n",
    "Line A takes O(N) time.\n",
    "Line B and C takes O(N) time and extra space.\n",
    "Thus, the overall running time and extra space is O(N^2).\n",
    "So this implementation has a very bad performance, and you can avoid it."
   ]
  },
  {
   "cell_type": "code",
   "execution_count": null,
   "metadata": {},
   "outputs": [],
   "source": [
    "class Solution:\n",
    "    def buildTree(self, inorder, postorder):\n",
    "        if not inorder or not postorder:\n",
    "            return None\n",
    "        \n",
    "        root = TreeNode(postorder.pop())\n",
    "        inorderIndex = inorder.index(root.val) # Line A\n",
    "\n",
    "        root.right = self.buildTree(inorder[inorderIndex+1:], postorder) # Line B\n",
    "        root.left = self.buildTree(inorder[:inorderIndex], postorder) # Line C\n",
    "\n",
    "        return root"
   ]
  },
  {
   "cell_type": "markdown",
   "metadata": {},
   "source": [
    "# 106. Construct Binary Tree from Inorder and Postorder Traversal\n",
    "## (almost the same as the previous question but with minor tweaks)\n"
   ]
  },
  {
   "cell_type": "markdown",
   "metadata": {},
   "source": [
    "Given two integer arrays inorder and postorder where inorder is the inorder traversal of a binary tree and postorder is the postorder traversal of the same tree, construct and return the binary tree.\n",
    "\n",
    " "
   ]
  },
  {
   "cell_type": "code",
   "execution_count": 6,
   "metadata": {},
   "outputs": [],
   "source": [
    "def buildTree(self, inorder, postorder):\n",
    "        \"\"\"\n",
    "        :type inorder: List[int]\n",
    "        :type postorder: List[int]\n",
    "        :rtype: TreeNode\n",
    "        \"\"\"\n",
    "        def array_to_tree(low, high):\n",
    "            # if there are no elements to construct the tree\n",
    "            if low > high: return None\n",
    "\n",
    "            # select the preorder_index element as the root and increment it\n",
    "            root = TreeNode(postorder.pop())\n",
    "\n",
    "            # build left and right subtree\n",
    "            # excluding inorder_index_map[root_value] element because it's the root\n",
    "            root.right = array_to_tree(inorder_index_map[root.val] + 1, high)\n",
    "\n",
    "            root.left = array_to_tree(low, inorder_index_map[root.val] - 1)\n",
    "            return root\n",
    "\n",
    "        # build a hashmap to store value -> its index relations\n",
    "        inorder_index_map = {}\n",
    "        for index, value in enumerate(inorder):\n",
    "            inorder_index_map[value] = index\n",
    "        # self.postorder = postorder\n",
    "        return array_to_tree(0, len(inorder) - 1)"
   ]
  },
  {
   "cell_type": "markdown",
   "metadata": {},
   "source": [
    "# 297. Serialize and Deserialize Binary Tree\n"
   ]
  },
  {
   "cell_type": "raw",
   "metadata": {},
   "source": [
    "Serialization is the process of converting a data structure or object into a sequence of bits so that it can be stored in a file or memory buffer, or transmitted across a network connection link to be reconstructed later in the same or another computer environment.\n",
    "\n",
    "Design an algorithm to serialize and deserialize a binary tree. There is no restriction on how your serialization/deserialization algorithm should work. You just need to ensure that a binary tree can be serialized to a string and this string can be deserialized to the original tree structure.\n",
    "\n",
    "Clarification: The input/output format is the same as how LeetCode serializes a binary tree. You do not necessarily need to follow this format, so please be creative and come up with different approaches yourself."
   ]
  },
  {
   "cell_type": "code",
   "execution_count": 51,
   "metadata": {},
   "outputs": [],
   "source": [
    "import copy"
   ]
  },
  {
   "cell_type": "code",
   "execution_count": 109,
   "metadata": {},
   "outputs": [],
   "source": [
    "# Definition for a binary tree node.\n",
    "# class TreeNode(object):\n",
    "#     def __init__(self, x):\n",
    "#         self.val = x\n",
    "#         self.left = None\n",
    "#         self.right = None\n",
    "\n",
    "def serialize(root):\n",
    "    \"\"\"Encodes a tree to a single string.\n",
    "\n",
    "    :type root: TreeNode\n",
    "    :rtype: str\n",
    "    \"\"\"\n",
    "    curr = copy.deepcopy(root)\n",
    "    if not root:\n",
    "        return []\n",
    "    preorder = []\n",
    "    stack = [root]\n",
    "    while stack:\n",
    "        node = stack.pop()\n",
    "        preorder.append(node.val)\n",
    "        if node.right:\n",
    "            stack.append(node.right)\n",
    "        if node.left:\n",
    "            stack.append(node.left)\n",
    "\n",
    "    inorder = []\n",
    "    stack = []\n",
    "\n",
    "    while True:\n",
    "        while curr:\n",
    "            stack.append(curr)\n",
    "            curr = curr.left\n",
    "        if curr is None and stack:\n",
    "            node = stack.pop()\n",
    "            print(node.val)\n",
    "            curr = node.right\n",
    "            inorder.append(node.val)\n",
    "        if curr is None and stack ==[]:\n",
    "            break\n",
    "#     print(preorder)\n",
    "#     print(inorder)\n",
    "    res = ''\n",
    "    for item in (preorder+inorder):\n",
    "        res = ''.join([res,str(item)])\n",
    "    return res\n",
    "        \n",
    "\n",
    "# Your Codec object will be instantiated and called as such:\n",
    "# ser = Codec()\n",
    "# deser = Codec()\n",
    "# ans = deser.deserialize(ser.serialize(root))"
   ]
  },
  {
   "cell_type": "code",
   "execution_count": 10,
   "metadata": {},
   "outputs": [],
   "source": [
    "class Codec:\n",
    "    def serialize(self, root):\n",
    "            def doit(node):\n",
    "                if node:\n",
    "                    vals.append(str(node.val))\n",
    "                    doit(node.left)\n",
    "                    doit(node.right)\n",
    "                else:\n",
    "                    vals.append('#')\n",
    "            vals = []\n",
    "            doit(root)\n",
    "            return ' '.join(vals)\n",
    "\n",
    "    def deserialize(self, data):\n",
    "        def doit():\n",
    "            val = next(vals)\n",
    "            if val == '#':\n",
    "                return None\n",
    "            node = TreeNode(int(val))\n",
    "            node.left = doit()\n",
    "            node.right = doit()\n",
    "            return node\n",
    "        vals = iter(data.split())\n",
    "        return doit()\n"
   ]
  },
  {
   "cell_type": "code",
   "execution_count": 14,
   "metadata": {},
   "outputs": [],
   "source": [
    "class Codec:\n",
    "    def serialize(self, root):\n",
    "        if not root: return 'x'\n",
    "        return ','.join([str(root.val), self.serialize(root.left), self.serialize(root.right)])\n",
    "\n",
    "    def deserialize(self, data):\n",
    "\t\t# The reason I use self.data in the deserialize is, data stream will be consumed  as we build left side of Tree\n",
    "\t\t# by the time when the right side is building up, we need to hold what is left over.\n",
    "\t\t# Therefore, self.data is a global value, right side will use what is left over after tree is partially built\n",
    "        self.data = data\n",
    "        if self.data[0] == 'x': return None\n",
    "        node = TreeNode(self.data[:self.data.find(',')]) \n",
    "        node.left = self.deserialize(self.data[self.data.find(',')+1:])\n",
    "        node.right = self.deserialize(self.data[self.data.find(',')+1:])\n",
    "        return node"
   ]
  },
  {
   "cell_type": "code",
   "execution_count": null,
   "metadata": {},
   "outputs": [],
   "source": [
    "class Codec:\n",
    "    def serialize(self, root):\n",
    "        def traversal(node, stack, child_letter):\n",
    "            if node:\n",
    "                stack.append(child_letter)\n",
    "                stack.append(str(node.val))\n",
    "                stack.append(\"(\")\n",
    "                traversal(node.left, stack, \"l\")\n",
    "                traversal(node.right, stack, \"r\")\n",
    "                stack.append(\")\")\n",
    "            \n",
    "            return stack\n",
    "                \n",
    "        return \"\".join(traversal(root, [], \"\"))\n",
    "           \n",
    "    def deserialize(self, data):\n",
    "        stack = []\n",
    "        number = []\n",
    "        child_letter = None\n",
    "        \n",
    "        for character in data:\n",
    "            if \"0\" <= character <= \"9\" or character == \"-\":\n",
    "                number.append(character)\n",
    "            elif character == \"(\":\n",
    "                node = TreeNode(\"\".join(number))\n",
    "                \n",
    "                if child_letter is not None:\n",
    "                    if child_letter == \"l\":\n",
    "                        stack[-1].left = node\n",
    "                    else:\n",
    "                        stack[-1].right = node\n",
    "                    \n",
    "                stack.append(node)\n",
    "                number = []\n",
    "            elif character == \")\":\n",
    "                if len(stack) == 1:\n",
    "                    return stack[0]\n",
    "                else:\n",
    "                    stack.pop()\n",
    "            else:\n",
    "                child_letter = character"
   ]
  },
  {
   "cell_type": "code",
   "execution_count": 16,
   "metadata": {},
   "outputs": [
    {
     "ename": "TypeError",
     "evalue": "serialize() missing 1 required positional argument: 'root'",
     "output_type": "error",
     "traceback": [
      "\u001b[0;31m---------------------------------------------------------------------------\u001b[0m",
      "\u001b[0;31mTypeError\u001b[0m                                 Traceback (most recent call last)",
      "\u001b[0;32m<ipython-input-16-53a7d1a4f930>\u001b[0m in \u001b[0;36m<module>\u001b[0;34m\u001b[0m\n\u001b[0;32m----> 1\u001b[0;31m \u001b[0mdata\u001b[0m \u001b[0;34m=\u001b[0m \u001b[0mCodec\u001b[0m\u001b[0;34m.\u001b[0m\u001b[0mserialize\u001b[0m\u001b[0;34m(\u001b[0m\u001b[0mroot\u001b[0m\u001b[0;34m)\u001b[0m\u001b[0;34m\u001b[0m\u001b[0;34m\u001b[0m\u001b[0m\n\u001b[0m",
      "\u001b[0;31mTypeError\u001b[0m: serialize() missing 1 required positional argument: 'root'"
     ]
    }
   ],
   "source": [
    "data = Codec.serialize(root)"
   ]
  },
  {
   "cell_type": "code",
   "execution_count": 59,
   "metadata": {},
   "outputs": [
    {
     "name": "stdout",
     "output_type": "stream",
     "text": [
      "[1, 2, 4, 5, 3, 6, 7, 4, 2, 5, 1, 6, 3, 7]\n"
     ]
    }
   ],
   "source": [
    "print(data)"
   ]
  },
  {
   "cell_type": "code",
   "execution_count": 64,
   "metadata": {},
   "outputs": [
    {
     "data": {
      "text/plain": [
       "[1, 2, 4, 5, 3, 6, 7]"
      ]
     },
     "execution_count": 64,
     "metadata": {},
     "output_type": "execute_result"
    }
   ],
   "source": [
    "data[:int(len(data)/2)]"
   ]
  },
  {
   "cell_type": "markdown",
   "metadata": {},
   "source": [
    "# 124. Binary Tree Maximum Path Sum\n"
   ]
  },
  {
   "cell_type": "markdown",
   "metadata": {},
   "source": [
    "A path in a binary tree is a sequence of nodes where each pair of adjacent nodes in the sequence has an edge connecting them. A node can only appear in the sequence at most once. Note that the path does not need to pass through the root.\n",
    "\n",
    "The path sum of a path is the sum of the node's values in the path.\n",
    "\n",
    "Given the root of a binary tree, return the maximum path sum of any path."
   ]
  },
  {
   "cell_type": "markdown",
   "metadata": {},
   "source": [
    "The idea is to update node values with the biggest, positive cumulative sum gathered by its children:\n",
    "\n",
    "- If both contributions are negative, no value is added.(not worth exploring)\n",
    "- If both are positive, only the biggest one is added, so that we don't include both children during the rest of the tree exploration.\n",
    "- Leaves return its own value and we recursively work our way upwards.\n",
    "\n",
    "A global maximum sum variable is maintained so that every path can be individually checked, while updated node values on the tree allow for exploration of other valid paths outside of the current subtree.\n",
    "More details in the code comments:\n",
    "\n"
   ]
  },
  {
   "cell_type": "code",
   "execution_count": 4,
   "metadata": {},
   "outputs": [],
   "source": [
    "def maxPathSum(root):\n",
    "    max_path = float(\"-inf\") # placeholder to be updated\n",
    "    def get_max_gain(node):\n",
    "        nonlocal max_path # This tells that max_path is not a local variable\n",
    "        if node is None:\n",
    "            return 0\n",
    "        gain_on_left = max(get_max_gain(node.left), 0) # Read the part important observation\n",
    "        gain_on_right = max(get_max_gain(node.right), 0)  # Read the part important observations\n",
    "        \n",
    "        current_max_path = node.val + gain_on_left + gain_on_right \n",
    "        # It is important to understand the different between looking for the maximum path INVOLVING the current node in process and what we return for the node which starts the recursion stack\n",
    "        max_path = max(max_path, current_max_path) # Read first three images of going down the recursion stack\n",
    "        \n",
    "        return node.val + max(gain_on_left, gain_on_right) # We can only form a path involving EITHER of the branch from the parent node\n",
    "    get_max_gain(root) # Starts the recursion chain\n",
    "    return max_path\t\t"
   ]
  },
  {
   "cell_type": "code",
   "execution_count": 5,
   "metadata": {},
   "outputs": [
    {
     "data": {
      "text/plain": [
       "18"
      ]
     },
     "execution_count": 5,
     "metadata": {},
     "output_type": "execute_result"
    }
   ],
   "source": [
    "maxPathSum(root)"
   ]
  },
  {
   "cell_type": "code",
   "execution_count": null,
   "metadata": {},
   "outputs": [],
   "source": [
    "#270,#272,#314, #250, #333"
   ]
  },
  {
   "cell_type": "markdown",
   "metadata": {},
   "source": [
    "# 270. Closest Binary Search Tree Value"
   ]
  },
  {
   "cell_type": "code",
   "execution_count": null,
   "metadata": {},
   "outputs": [],
   "source": [
    "Given a non-empty binary search tree and a target value, find the value in the BST that is closest to the target.\n",
    "\n",
    "Note:\n",
    "\n",
    "Given target value is a floating point.\n",
    "You are guaranteed to have only one unique value in the BST that is closest to the target.\n"
   ]
  },
  {
   "cell_type": "code",
   "execution_count": null,
   "metadata": {},
   "outputs": [],
   "source": [
    "Input: root = [4,2,5,1,3], target = 3.714286\n",
    "# output =4\n",
    "    4\n",
    "   / \\\n",
    "  2   5\n",
    " / \\\n",
    "1   3"
   ]
  },
  {
   "cell_type": "code",
   "execution_count": 6,
   "metadata": {},
   "outputs": [],
   "source": [
    "root = TreeNode(4)\n",
    "root.left = TreeNode(2)\n",
    "root.right = TreeNode(5)\n",
    "root.left.right = TreeNode(1)\n",
    "root.left.left = TreeNode(3)\n",
    "target = 3.714286"
   ]
  },
  {
   "cell_type": "code",
   "execution_count": 14,
   "metadata": {},
   "outputs": [],
   "source": [
    "def closestValue(root, target):\n",
    "        \"\"\"\n",
    "        :type root: TreeNode\n",
    "        :type target: float\n",
    "        :rtype: int\n",
    "        \"\"\"\n",
    "        if root is None:\n",
    "            return float('inf')\n",
    "\n",
    "        if root.val == target:\n",
    "            return root.val\n",
    "        elif root.val < target:\n",
    "            rightRes = closestValue(root.right, target)\n",
    "            return root.val if abs(root.val - target) < abs(rightRes - target) else rightRes\n",
    "        elif root.val > target:\n",
    "            leftRes = closestValue(root.left, target)\n",
    "            return root.val if abs(root.val - target) < abs(leftRes - target) else leftRes"
   ]
  },
  {
   "cell_type": "code",
   "execution_count": 10,
   "metadata": {},
   "outputs": [],
   "source": [
    "def closestValue(root: TreeNode, target: float) -> int:\n",
    "    self.closest = None\n",
    "\n",
    "    self.search(root, target)\n",
    "\n",
    "    return self.closest.val\n",
    "\n",
    "def search(root, target):\n",
    "    if not root:\n",
    "        return\n",
    "\n",
    "    if not self.closest or abs(root.val - target) < abs(self.closest.val - target):\n",
    "        self.closest = root\n",
    "\n",
    "    if target < root.val:\n",
    "        self.search(root.left, target)        \n",
    "    elif target > root.val:\n",
    "        self.search(root.right, target)"
   ]
  },
  {
   "cell_type": "code",
   "execution_count": 18,
   "metadata": {},
   "outputs": [],
   "source": [
    "# Iterative\n",
    "def closestValue(root: TreeNode, target: float) -> int:\n",
    "        res = root.val\n",
    "        while root:\n",
    "            if (abs(res - target) >= abs(root.val - target)):\n",
    "                res = root.val\n",
    "            if target < root.val:#BST Property smaller go to left\n",
    "                root = root.left \n",
    "            else:\n",
    "                root = root.right # larger go to right\n",
    "        return res"
   ]
  },
  {
   "cell_type": "code",
   "execution_count": 19,
   "metadata": {},
   "outputs": [
    {
     "data": {
      "text/plain": [
       "4"
      ]
     },
     "execution_count": 19,
     "metadata": {},
     "output_type": "execute_result"
    }
   ],
   "source": [
    "closestValue(root, target)"
   ]
  },
  {
   "cell_type": "markdown",
   "metadata": {},
   "source": [
    "# 272. closest binary search tree value ii"
   ]
  },
  {
   "cell_type": "raw",
   "metadata": {},
   "source": [
    "Given a non-empty binary search tree and a target value, find k values in the BST that are closest to the target.\n",
    "\n",
    "Note:\n",
    "\n",
    "Given target value is a floating point.\n",
    "You may assume k is always valid, that is: k≤ total nodes.\n",
    "You are guaranteed to have only one unique set of k values in the BST that are closest to the target.\n",
    "Example:\n",
    "\n",
    "Input: root = [4,2,5,1,3], target = 3.714286, and k = 2\n",
    "Output: [4,3]\n"
   ]
  },
  {
   "cell_type": "code",
   "execution_count": 26,
   "metadata": {},
   "outputs": [],
   "source": [
    "def closestKValues(root: TreeNode, target: float, k: int) -> List[int]:\n",
    "    def inorder(r: TreeNode):\n",
    "        return inorder(r.left) + [r.val] + inorder(r.right) if r else []\n",
    "\n",
    "    nums = inorder(root)\n",
    "    print(nums)\n",
    "    nums.sort(key = lambda x: abs(x - target))\n",
    "    return nums[:k]"
   ]
  },
  {
   "cell_type": "code",
   "execution_count": 32,
   "metadata": {},
   "outputs": [],
   "source": [
    "import heapq\n",
    "def closestKValues(root: TreeNode, target: float, k: int) -> List[int]:\n",
    "        def inorder(r: TreeNode):\n",
    "            if not r:\n",
    "                return\n",
    "            \n",
    "            inorder(r.left)\n",
    "            heapq.heappush(heap, (-abs(r.val - target), r.val))\n",
    "            if len(heap) > k:\n",
    "                heapq.heappop(heap)\n",
    "            inorder(r.right) \n",
    "    \n",
    "        heap = []\n",
    "        inorder(root)\n",
    "        return [x for _, x in heap]"
   ]
  },
  {
   "cell_type": "code",
   "execution_count": 33,
   "metadata": {},
   "outputs": [
    {
     "data": {
      "text/plain": [
       "[3, 4]"
      ]
     },
     "execution_count": 33,
     "metadata": {},
     "output_type": "execute_result"
    }
   ],
   "source": [
    "k =2\n",
    "closestKValues(root, target, k)"
   ]
  },
  {
   "cell_type": "markdown",
   "metadata": {},
   "source": [
    "# 250. Count Univalue Subtrees"
   ]
  },
  {
   "cell_type": "raw",
   "metadata": {},
   "source": [
    "Given a binary tree, count the number of uni-value subtrees.\n",
    "\n",
    "A Uni-value subtree means all nodes of the subtree have the same value.\n",
    "\n",
    "For example: Given binary tree,return 4.\n",
    "\n",
    "\n",
    "              5\n",
    "             / \\\n",
    "            1   5\n",
    "           / \\   \\\n",
    "          5   5   5"
   ]
  },
  {
   "cell_type": "code",
   "execution_count": 79,
   "metadata": {},
   "outputs": [],
   "source": [
    "root = TreeNode(5)\n",
    "root.left = TreeNode(1)\n",
    "root.right = TreeNode(5)\n",
    "root.right.right = TreeNode(5)\n",
    "root.left.right = TreeNode(5)\n",
    "root.left.left = TreeNode(5)"
   ]
  },
  {
   "cell_type": "code",
   "execution_count": null,
   "metadata": {},
   "outputs": [],
   "source": [
    "https://www.cnblogs.com/grandyang/p/5206862.html"
   ]
  },
  {
   "cell_type": "code",
   "execution_count": 120,
   "metadata": {},
   "outputs": [],
   "source": [
    "class Solution(object):\n",
    "    def countUnivalSubtrees(self,root):\n",
    "        \"\"\"\n",
    "        :type root: TreeNode\n",
    "        :rtype: int\n",
    "        \"\"\"\n",
    "        if root is None:\n",
    "            return 0\n",
    "        else:\n",
    "            return self.helper(root)[0]\n",
    "\n",
    "    def helper(self, root):\n",
    "        if root.left is None and root.right is None:\n",
    "            return (1, True)\n",
    "        elif root.left is not None and root.right is None:\n",
    "            subTreeCount, isUnvalSubTree = self.helper(root.left)\n",
    "            isMatch = root.val == root.left.val and isUnvalSubTree\n",
    "            return (subTreeCount + (1 if isMatch else 0), isMatch)\n",
    "        elif root.left is None and root.right is not None:\n",
    "            subTreeCount, isUnvalSubTree = self.helper(root.right)\n",
    "            isMatch = root.val == root.right.val and isUnvalSubTree\n",
    "            return (subTreeCount + (1 if isMatch else 0), isMatch)\n",
    "        else:\n",
    "            subTreeCountLeft, isUnvalSubTreeLeft = self.helper(root.left)\n",
    "            subTreeCountRight, isUnvalSubTreeRight = self.helper(root.right)\n",
    "            isMatch = root.val == root.left.val == root.right.val and isUnvalSubTreeLeft and isUnvalSubTreeRight\n",
    "            return (subTreeCountLeft + subTreeCountRight + (1 if isMatch else 0), isMatch)"
   ]
  },
  {
   "cell_type": "code",
   "execution_count": 131,
   "metadata": {},
   "outputs": [
    {
     "data": {
      "text/plain": [
       "4"
      ]
     },
     "execution_count": 131,
     "metadata": {},
     "output_type": "execute_result"
    }
   ],
   "source": [
    "Solution().countUnivalSubtrees(root)"
   ]
  },
  {
   "cell_type": "code",
   "execution_count": 147,
   "metadata": {},
   "outputs": [],
   "source": [
    "\n",
    "def countUnivalSubtrees2(root, res):\n",
    "    if root is None: return res\n",
    "#         print(isUnival(root, root.val))\n",
    "    if isUnival(root, root.val):\n",
    "        print(root.val, res)\n",
    "        res.append(1)\n",
    "        print('result:', res)\n",
    "    countUnivalSubtrees2(root.left, res)\n",
    "    countUnivalSubtrees2(root.right, res)\n",
    "    return len(res)\n",
    "\n",
    "   \n",
    "def isUnival(root, val):\n",
    "    if root is None:\n",
    "        return True\n",
    "    return root.val == val and isUnival(root.left, val) and isUnival(root.right, val)\n",
    "\n",
    "    \n",
    "    "
   ]
  },
  {
   "cell_type": "code",
   "execution_count": 148,
   "metadata": {},
   "outputs": [
    {
     "name": "stdout",
     "output_type": "stream",
     "text": [
      "5 []\n",
      "result: [1]\n",
      "5 [1]\n",
      "result: [1, 1]\n",
      "5 [1, 1]\n",
      "result: [1, 1, 1]\n",
      "5 [1, 1, 1]\n",
      "result: [1, 1, 1, 1]\n"
     ]
    },
    {
     "data": {
      "text/plain": [
       "4"
      ]
     },
     "execution_count": 148,
     "metadata": {},
     "output_type": "execute_result"
    }
   ],
   "source": [
    "res = []\n",
    "countUnivalSubtrees2(root, res)"
   ]
  },
  {
   "cell_type": "raw",
   "metadata": {},
   "source": [
    "但是上面的那种解法不是很高效，含有大量的重复 check，我们想想能不能一次遍历就都搞定，这样想，符合条件的相同值的字数肯定是有叶节点的，而且叶节点也都相同(注意单独的一个叶节点也被看做是一个相同值子树)，那么可以从下往上 check，采用后序遍历的顺序，左右根，这里还是递归调用函数，对于当前遍历到的节点，如果对其左右子节点分别递归调用函数，返回均为 true 的话，那么说明当前节点的值和左右子树的值都相同，那么又多了一棵树，所以结果自增1，然后返回当前节点值和给定值(其父节点值)是否相同，从而回归上一层递归调用。"
   ]
  },
  {
   "cell_type": "code",
   "execution_count": 169,
   "metadata": {},
   "outputs": [],
   "source": [
    "\n",
    "def countUnivalSubtrees3(root):\n",
    "    def isUnival(root, val, res):\n",
    "        if root is None:\n",
    "            return True\n",
    "        if (not isUnival(root.left, root.val, res)) | (not isUnival(root.right, root.val, res)):\n",
    "            return False\n",
    "        print(res)\n",
    "        res.append(1)\n",
    "        return root.val == val\n",
    "\n",
    "    res = []\n",
    "    if root is None: return 0\n",
    "    isUnival(root, -1, res)\n",
    "    return len(res)\n",
    "\n",
    "   \n"
   ]
  },
  {
   "cell_type": "code",
   "execution_count": 170,
   "metadata": {},
   "outputs": [
    {
     "name": "stdout",
     "output_type": "stream",
     "text": [
      "[]\n",
      "[1]\n",
      "[1, 1]\n",
      "[1, 1, 1]\n"
     ]
    },
    {
     "data": {
      "text/plain": [
       "4"
      ]
     },
     "execution_count": 170,
     "metadata": {},
     "output_type": "execute_result"
    }
   ],
   "source": [
    "countUnivalSubtrees3(root)"
   ]
  },
  {
   "cell_type": "markdown",
   "metadata": {},
   "source": [
    "# 654. Maximum Binary Tree\n"
   ]
  },
  {
   "cell_type": "markdown",
   "metadata": {},
   "source": [
    "You are given an integer array nums with no duplicates. A maximum binary tree can be built recursively from nums using the following algorithm:\n",
    "\n",
    "1. Create a root node whose value is the maximum value in nums.\n",
    "2. Recursively build the left subtree on the subarray prefix to the left of the maximum value.\n",
    "3. Recursively build the right subtree on the subarray suffix to the right of the maximum value.\n",
    "\n",
    "Return the maximum binary tree built from nums."
   ]
  },
  {
   "cell_type": "raw",
   "metadata": {},
   "source": [
    "Input: nums = [3,2,1,6,0,5]\n",
    "Output: [6,3,5,null,2,0,null,null,1]\n",
    "Explanation: The recursive calls are as follow:\n",
    "- The largest value in [3,2,1,6,0,5] is 6. Left prefix is [3,2,1] and right suffix is [0,5].\n",
    "    - The largest value in [3,2,1] is 3. Left prefix is [] and right suffix is [2,1].\n",
    "        - Empty array, so no child.\n",
    "        - The largest value in [2,1] is 2. Left prefix is [] and right suffix is [1].\n",
    "            - Empty array, so no child.\n",
    "            - Only one element, so child is a node with value 1.\n",
    "    - The largest value in [0,5] is 5. Left prefix is [0] and right suffix is [].\n",
    "        - Only one element, so child is a node with value 0.\n",
    "        - Empty array, so no child.\n"
   ]
  },
  {
   "cell_type": "code",
   "execution_count": 36,
   "metadata": {},
   "outputs": [],
   "source": [
    "def constructMaximumBinaryTree(nums: List[int]):\n",
    "    \"\"\"\n",
    "    :type nums: List[int]\n",
    "    :rtype: TreeNode\n",
    "    \"\"\"\n",
    "\n",
    "    if not nums:\n",
    "        return None\n",
    "    stack = []\n",
    "    last = None\n",
    "    for num in nums:\n",
    "        while stack and stack[-1].val < num:\n",
    "            last = stack.pop()\n",
    "        node = TreeNode(num)\n",
    "        if stack:\n",
    "            stack[-1].right = node \n",
    "        if last:\n",
    "            node.left = last\n",
    "        stack.append(node)\n",
    "        last = None\n",
    "    return stack[0]"
   ]
  },
  {
   "cell_type": "code",
   "execution_count": 37,
   "metadata": {},
   "outputs": [],
   "source": [
    "nums = [3,2,1,6,0,5]"
   ]
  },
  {
   "cell_type": "code",
   "execution_count": 41,
   "metadata": {},
   "outputs": [],
   "source": [
    "tree = constructMaximumBinaryTree(nums)"
   ]
  },
  {
   "cell_type": "code",
   "execution_count": 44,
   "metadata": {},
   "outputs": [
    {
     "name": "stdout",
     "output_type": "stream",
     "text": [
      "<__main__.TreeNode object at 0x7f5f0cca9f60>\n"
     ]
    }
   ],
   "source": [
    "print(tree.left)"
   ]
  },
  {
   "cell_type": "code",
   "execution_count": null,
   "metadata": {},
   "outputs": [],
   "source": []
  }
 ],
 "metadata": {
  "kernelspec": {
   "display_name": "Python 3",
   "language": "python",
   "name": "python3"
  },
  "language_info": {
   "codemirror_mode": {
    "name": "ipython",
    "version": 3
   },
   "file_extension": ".py",
   "mimetype": "text/x-python",
   "name": "python",
   "nbconvert_exporter": "python",
   "pygments_lexer": "ipython3",
   "version": "3.7.3"
  }
 },
 "nbformat": 4,
 "nbformat_minor": 4
}
