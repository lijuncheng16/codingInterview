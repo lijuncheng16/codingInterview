{
 "cells": [
  {
   "cell_type": "markdown",
   "metadata": {},
   "source": [
    "56. Given an array of intervals where intervals[i] = [starti, endi], merge all overlapping intervals, and return an array of the non-overlapping intervals that cover all the intervals in the input.\n",
    "\n"
   ]
  },
  {
   "cell_type": "code",
   "execution_count": null,
   "metadata": {},
   "outputs": [],
   "source": [
    "def merge(self, intervals: List[List[int]]) -> List[List[int]]:\n",
    "    srted_intervals = sorted(intervals)\n",
    "    if srted_intervals == []:\n",
    "        return []\n",
    "    result = [srted_intervals[0]]\n",
    "    print(result)\n",
    "    for interval in srted_intervals:\n",
    "        start = interval[0]\n",
    "        end = interval[1]\n",
    "        if len(result)>=1:\n",
    "            prev_interval = result.pop()\n",
    "            prev_start = prev_interval[0]\n",
    "            prev_end = prev_interval[1]\n",
    "            if prev_end >= start:\n",
    "                start = prev_start\n",
    "                if prev_end < end:\n",
    "                    result.append([start, end])\n",
    "                else:\n",
    "                    result.append([start,prev_end])\n",
    "            else:\n",
    "                result.append(prev_interval)\n",
    "                result.append(interval)\n",
    "    return result\n"
   ]
  },
  {
   "cell_type": "code",
   "execution_count": null,
   "metadata": {},
   "outputs": [],
   "source": []
  }
 ],
 "metadata": {
  "kernelspec": {
   "display_name": "Python 3",
   "language": "python",
   "name": "python3"
  },
  "language_info": {
   "codemirror_mode": {
    "name": "ipython",
    "version": 3
   },
   "file_extension": ".py",
   "mimetype": "text/x-python",
   "name": "python",
   "nbconvert_exporter": "python",
   "pygments_lexer": "ipython3",
   "version": "3.7.4"
  }
 },
 "nbformat": 4,
 "nbformat_minor": 4
}
