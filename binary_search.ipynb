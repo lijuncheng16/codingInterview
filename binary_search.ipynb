{
 "cells": [
  {
   "cell_type": "code",
   "execution_count": 3,
   "metadata": {},
   "outputs": [],
   "source": [
    "from typing import List"
   ]
  },
  {
   "cell_type": "markdown",
   "metadata": {},
   "source": [
    "# 35. Search Insert Position\n"
   ]
  },
  {
   "cell_type": "code",
   "execution_count": null,
   "metadata": {},
   "outputs": [],
   "source": [
    "Given a sorted array of distinct integers and a target value, return the index if the target is found. If not, return the index where it would be if it were inserted in order.\n",
    "\n",
    "You must write an algorithm with O(log n) runtime complexity."
   ]
  },
  {
   "cell_type": "markdown",
   "metadata": {},
   "source": [
    "#### In this case, the loop will be stopped at the moment when right < left and nums[right] < target < nums[left]. Hence, the proper position to insert the target is at the index left."
   ]
  },
  {
   "cell_type": "code",
   "execution_count": null,
   "metadata": {},
   "outputs": [],
   "source": [
    "### pay special attention to the stopping conditions in binary search"
   ]
  },
  {
   "cell_type": "code",
   "execution_count": null,
   "metadata": {},
   "outputs": [],
   "source": [
    "def searchInsert(self, nums: List[int], target: int) -> int:\n",
    "    return bisect.bisect_left(nums, target)\n"
   ]
  },
  {
   "cell_type": "code",
   "execution_count": null,
   "metadata": {},
   "outputs": [],
   "source": [
    "def searchInsert(self, nums: List[int], target: int) -> int:\n",
    "    left, right = 0, len(nums) - 1\n",
    "    while left <= right:\n",
    "        pivot = (left + right) // 2\n",
    "        if nums[pivot] == target:\n",
    "            return pivot\n",
    "        #If the target value is less than the pivot element target < nums[pivot],\n",
    "        #continue to search on the left subarray by moving the right pointer right = pivot - 1.\n",
    "        if target < nums[pivot]:\n",
    "            right = pivot - 1\n",
    "        #If the target value is greater than the pivot element target > nums[pivot],\n",
    "        #continue to search on the right subarray by moving the left pointer left = pivot + 1.\n",
    "        else:\n",
    "            left = pivot + 1\n",
    "    return left"
   ]
  },
  {
   "cell_type": "code",
   "execution_count": null,
   "metadata": {},
   "outputs": [],
   "source": [
    "def searchInsert(self, nums: List[int], target: int) -> int:\n",
    "    length = len(nums)\n",
    "    if target > nums[-1]:\n",
    "        return len(nums)\n",
    "    elif target < nums[0]:\n",
    "        return 0 \n",
    "    else:\n",
    "        found_ind = -1\n",
    "        l = 0\n",
    "        r = length-1\n",
    "        if target == nums[l]:\n",
    "            return 0\n",
    "        while l < r:\n",
    "            mid  =  l + (r-l)//2\n",
    "            # print(f'left:{l} mid: {mid} right:{r}')\n",
    "            # if r-l <=1:\n",
    "            #     break\n",
    "            if target>nums[mid]:\n",
    "                l = mid + 1\n",
    "            elif target == nums[mid]:\n",
    "                return mid\n",
    "            else:\n",
    "                r = mid\n",
    "        return l\n"
   ]
  },
  {
   "cell_type": "code",
   "execution_count": null,
   "metadata": {},
   "outputs": [],
   "source": [
    "def searchInsert(self, nums: List[int], target: int) -> int:\n",
    "    length = len(nums)\n",
    "    if target > nums[-1]:\n",
    "        return len(nums)\n",
    "    elif target < nums[0]:\n",
    "        return 0 \n",
    "    else:\n",
    "        found_ind = -1\n",
    "        l = 0\n",
    "        r = length-1\n",
    "        if target == nums[l]:\n",
    "            return 0\n",
    "        while l < r:\n",
    "            mid  =  l + (r-l)//2\n",
    "            if r-l <=1:\n",
    "                break\n",
    "            if target>nums[mid]:\n",
    "                l = mid \n",
    "            elif target == nums[mid]:\n",
    "                return mid\n",
    "            else:\n",
    "                r = mid\n",
    "        return r\n"
   ]
  },
  {
   "cell_type": "markdown",
   "metadata": {},
   "source": [
    "# 1539. Kth Missing Positive Number\n"
   ]
  },
  {
   "cell_type": "markdown",
   "metadata": {},
   "source": [
    "Given an array arr of positive integers sorted in a strictly increasing order, and an integer k.\n",
    "\n",
    "Return the kth positive integer that is missing from this array."
   ]
  },
  {
   "cell_type": "code",
   "execution_count": null,
   "metadata": {},
   "outputs": [],
   "source": [
    "def findKthPositive(self, arr: List[int], k: int) -> int:\n",
    "    # if k <= arr[0] -1:\n",
    "    #     return k\n",
    "    # k -= arr[0]-1\n",
    "\n",
    "    # for i in range(len(arr)-1):\n",
    "    #     curr_missing = arr[i+1] - arr[i] - 1\n",
    "    #     if k <= curr_missing:\n",
    "    #         return arr[i]+k\n",
    "    #     k-= curr_missing\n",
    "\n",
    "    # return arr[-1]+k\n",
    "    left, right = 0, len(arr)\n",
    "    while left < right:\n",
    "        pivot = (left + right) //2\n",
    "        if arr[pivot] - pivot -1 < k:\n",
    "            left  = pivot +1\n",
    "        else:\n",
    "            right = pivot\n",
    "    return left + k"
   ]
  },
  {
   "cell_type": "markdown",
   "metadata": {},
   "source": [
    "# 875. Koko Eating Bananas\n"
   ]
  },
  {
   "cell_type": "markdown",
   "metadata": {},
   "source": [
    "Koko loves to eat bananas. There are n piles of bananas, the ith pile has piles[i] bananas. The guards have gone and will come back in h hours.\n",
    "\n",
    "Koko can decide her bananas-per-hour eating speed of k. Each hour, she chooses some pile of bananas and eats k bananas from that pile. If the pile has less than k bananas, she eats all of them instead and will not eat any more bananas during this hour.\n",
    "\n",
    "Koko likes to eat slowly but still wants to finish eating all the bananas before the guards return.\n",
    "\n",
    "Return the minimum integer k such that she can eat all the bananas within h hours.\n"
   ]
  },
  {
   "cell_type": "code",
   "execution_count": null,
   "metadata": {},
   "outputs": [],
   "source": [
    "    def minEatingSpeed(self, piles: List[int], h: int) -> int:\n",
    "        # for k in range(1, sum(piles)):\n",
    "        #     hr_spent = 0\n",
    "        #     for pile in piles:\n",
    "        #         hr_spent += math.ceil(pile/k)\n",
    "        #     if hr_spent <= h:\n",
    "        #         return k\n",
    "        # # return 1\n",
    "        l = 1\n",
    "        r = max(piles)\n",
    "\n",
    "        while l< r:\n",
    "            mid = (l + r)//2\n",
    "            hr_spent = 0\n",
    "            for pile in piles:\n",
    "                hr_spent += math.ceil(pile/mid)\n",
    "            if hr_spent <= h:\n",
    "                r = mid\n",
    "            else:\n",
    "                l = mid+1\n",
    "        return r"
   ]
  },
  {
   "cell_type": "markdown",
   "metadata": {},
   "source": [
    "# 540. Single Element in a Sorted Array\n"
   ]
  },
  {
   "cell_type": "markdown",
   "metadata": {},
   "source": [
    "You are given a sorted array consisting of only integers where every element appears exactly twice, except for one element which appears exactly once.\n",
    "\n",
    "Return the single element that appears only once.\n",
    "\n",
    "Your solution must run in O(log n) time and O(1) space.\n",
    "\n",
    " \n",
    "After the single element, the pattern changes to being odd indexes followed by their pair. This means that the single element (an even index) and all elements after it are even indexes not followed by their pair. Therefore, given any even index in the array, we can easily determine whether the single element is to the left or to the right.\n"
   ]
  },
  {
   "cell_type": "code",
   "execution_count": null,
   "metadata": {},
   "outputs": [],
   "source": [
    "def singleNonDuplicate(self, nums: List[int]) -> int:\n",
    "    lo = 0 \n",
    "    hi = len(nums)-1\n",
    "    while lo < hi:\n",
    "        mid = lo + (hi-lo)//2\n",
    "        if mid % 2 == 1:\n",
    "            mid -= 1\n",
    "        if nums[mid+1] == nums[mid]:\n",
    "            lo = mid + 2\n",
    "        else:\n",
    "            hi = mid\n",
    "    return nums[lo]"
   ]
  },
  {
   "cell_type": "raw",
   "metadata": {},
   "source": [
    "The key observation to make is that the starting array must always have an odd number of elements (be odd-lengthed), because it has one element appearing once, and all the other elements appearing twice."
   ]
  },
  {
   "cell_type": "code",
   "execution_count": null,
   "metadata": {},
   "outputs": [],
   "source": [
    "def singleNonDuplicate(self, nums: List[int]) -> int:\n",
    "    lo = 0\n",
    "    hi = len(nums) - 1   \n",
    "    while lo < hi:\n",
    "        mid = lo + (hi - lo) // 2\n",
    "        halves_are_even = (hi - mid) % 2 == 0\n",
    "        if nums[mid + 1] == nums[mid]:\n",
    "            if halves_are_even:\n",
    "                lo = mid + 2\n",
    "            else:\n",
    "                hi = mid - 1\n",
    "        elif nums[mid - 1] == nums[mid]:\n",
    "            if halves_are_even:\n",
    "                hi = mid - 2\n",
    "            else:\n",
    "                lo = mid + 1\n",
    "        else:\n",
    "            return nums[mid]\n",
    "    return nums[lo]"
   ]
  },
  {
   "cell_type": "markdown",
   "metadata": {},
   "source": [
    "# The isBadVersion API is already defined for you.\n",
    "# @param version, an integer\n",
    "# @return an integer\n",
    "# def isBadVersion(version):"
   ]
  },
  {
   "cell_type": "code",
   "execution_count": 7,
   "metadata": {},
   "outputs": [],
   "source": [
    "def firstBadVersion(self, n):\n",
    "    \"\"\"\n",
    "    :type n: int\n",
    "    :rtype: int\n",
    "    \"\"\"\n",
    "    l = 1\n",
    "    r = n\n",
    "    mid = 0\n",
    "    while(r>l):\n",
    "        mid = l + (r-l)//2\n",
    "        if r-l <= 1:\n",
    "            break\n",
    "        if isBadVersion(mid):\n",
    "            r = mid\n",
    "        else:\n",
    "            l = mid\n",
    "    if (isBadVersion(mid)):\n",
    "        return mid\n",
    "    else: \n",
    "        return mid+1"
   ]
  },
  {
   "cell_type": "markdown",
   "metadata": {},
   "source": [
    "621. Task Scheduler\n",
    "Given a characters array tasks, representing the tasks a CPU needs to do, where each letter represents a different task. Tasks could be done in any order. Each task is done in one unit of time. For each unit of time, the CPU could complete either one task or just be idle.\n",
    "\n",
    "However, there is a non-negative integer n that represents the cooldown period between two same tasks (the same letter in the array), that is that there must be at least n units of time between any two same tasks.\n",
    "\n",
    "Return the least number of units of times that the CPU will take to finish all the given tasks."
   ]
  },
  {
   "cell_type": "code",
   "execution_count": null,
   "metadata": {},
   "outputs": [],
   "source": [
    "def leastInterval(self, tasks: List[str], n: int) -> int:\n",
    "    length = len(tasks)\n",
    "    fq = {}\n",
    "    for task in tasks:\n",
    "        if task in fq:\n",
    "            fq[task] +=1\n",
    "        else:\n",
    "            fq.setdefault(task, 1)\n",
    "    max_freq = max(fq.values())\n",
    "    fq_list = list(fq.values())\n",
    "    n_max = fq_list.count(max_freq)\n",
    "    print(n_max)\n",
    "    total_time = (n+1)*(max_freq-1)+1\n",
    "    idle_time = n*(max_freq-1)\n",
    "    print(total_time, idle_time)\n",
    "\n",
    "    return max(total_time +n_max-1,length)"
   ]
  }
 ],
 "metadata": {
  "kernelspec": {
   "display_name": "Python 3 (ipykernel)",
   "language": "python",
   "name": "python3"
  },
  "language_info": {
   "codemirror_mode": {
    "name": "ipython",
    "version": 3
   },
   "file_extension": ".py",
   "mimetype": "text/x-python",
   "name": "python",
   "nbconvert_exporter": "python",
   "pygments_lexer": "ipython3",
   "version": "3.9.13"
  }
 },
 "nbformat": 4,
 "nbformat_minor": 4
}
