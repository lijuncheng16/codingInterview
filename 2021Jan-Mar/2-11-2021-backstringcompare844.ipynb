{
 "cells": [
  {
   "cell_type": "markdown",
   "metadata": {},
   "source": [
    "## Reveiw"
   ]
  },
  {
   "cell_type": "code",
   "execution_count": null,
   "metadata": {},
   "outputs": [],
   "source": [
    "1. Kmeans"
   ]
  },
  {
   "cell_type": "code",
   "execution_count": null,
   "metadata": {},
   "outputs": [],
   "source": [
    "Linear Regression"
   ]
  },
  {
   "cell_type": "code",
   "execution_count": null,
   "metadata": {},
   "outputs": [],
   "source": [
    "knearest"
   ]
  },
  {
   "cell_type": "code",
   "execution_count": null,
   "metadata": {},
   "outputs": [],
   "source": [
    "Levinshtein"
   ]
  },
  {
   "cell_type": "code",
   "execution_count": null,
   "metadata": {},
   "outputs": [],
   "source": [
    "Parenthesis"
   ]
  },
  {
   "cell_type": "code",
   "execution_count": null,
   "metadata": {},
   "outputs": [],
   "source": [
    "binarytree height"
   ]
  },
  {
   "cell_type": "markdown",
   "metadata": {},
   "source": [
    "# 844. Backspace String Compare\n",
    "\n",
    "Given two strings S and T, return if they are equal when both are typed into empty text editors. # means a backspace character.\n",
    "\n"
   ]
  },
  {
   "cell_type": "code",
   "execution_count": 37,
   "metadata": {},
   "outputs": [],
   "source": [
    "def backspaceCompare(S: str, T: str) -> bool:\n",
    "    s_result = \"\"\n",
    "    t_result = \"\"\n",
    "    for i in range(len(S)):\n",
    "        s_result += S[i]\n",
    "        if S[i] == \"#\":\n",
    "            s_result = s_result[:-2]\n",
    "        print(i, s_result)\n",
    "    for i in range(len(T)):\n",
    "        t_result += T[i]\n",
    "        if T[i] == \"#\":\n",
    "            t_result = t_result[:-2]\n",
    "        print(i, t_result)\n",
    "\n",
    "    print(s_result, t_result)\n",
    "    return (s_result==t_result)"
   ]
  },
  {
   "cell_type": "code",
   "execution_count": 39,
   "metadata": {},
   "outputs": [],
   "source": [
    "S = \"a##c\"\n",
    "T = \"#a#c\""
   ]
  },
  {
   "cell_type": "code",
   "execution_count": 35,
   "metadata": {},
   "outputs": [],
   "source": [
    "S = \"ab#c\"\n",
    "T = \"ad#c\""
   ]
  },
  {
   "cell_type": "code",
   "execution_count": 26,
   "metadata": {},
   "outputs": [
    {
     "name": "stdout",
     "output_type": "stream",
     "text": [
      "#a#c\n"
     ]
    }
   ],
   "source": [
    "print(T)"
   ]
  },
  {
   "cell_type": "code",
   "execution_count": 40,
   "metadata": {},
   "outputs": [
    {
     "name": "stdout",
     "output_type": "stream",
     "text": [
      "0 a\n",
      "1 \n",
      "2 \n",
      "3 c\n",
      "0 \n",
      "1 a\n",
      "2 \n",
      "3 c\n",
      "c c\n"
     ]
    },
    {
     "data": {
      "text/plain": [
       "True"
      ]
     },
     "execution_count": 40,
     "metadata": {},
     "output_type": "execute_result"
    }
   ],
   "source": [
    "backspaceCompare(S, T)"
   ]
  },
  {
   "cell_type": "code",
   "execution_count": null,
   "metadata": {},
   "outputs": [],
   "source": [
    "Given the root of a binary tree, return an array of the largest value in each row of the tree (0-indexed).\n",
    "\n",
    "Input: root = [1,3,2,5,3,null,9]\n",
    "Output: [1,3,9]\n",
    "\n",
    "    \n",
    "Input: root = [1,2,3]\n",
    "Output: [1,3]\n"
   ]
  },
  {
   "cell_type": "code",
   "execution_count": null,
   "metadata": {},
   "outputs": [],
   "source": [
    "def mean(stream_num):  \n",
    "    store = []\n",
    "    store.append(stream_num.next)\n",
    "    return (sum(store)/len(store))\n",
    "# x is the newest input, n is the existing number\n",
    "def getMean(prev_mean, x, n):\n",
    "    return (prev_mean * n +x) /(n+1) )\n",
    "\n",
    "def streamMean(stream, n):\n",
    "    while (streamhasNew()):\n",
    "        new_number = readStream()\n",
    "        \n",
    "        mean = 0\n",
    "        for i in range (n):\n",
    "            mean = getMean(mean, stream[i], i)\n",
    "\n",
    "\n",
    "\n",
    "class StreamMeanVariance():\n",
    "    def __init__(self, ):\n",
    "        self.prev_mean = 0\n",
    "        self.n \n",
    "        \n",
    "    def mean(self, data):\n",
    "        self.n += 1\n",
    "        self.increm\n",
    "    def getMean(self, prev_mean, x, n):\n",
    "    return (prev_mean * n +x) /(n+1) )\n",
    "\n",
    "    m2 = sum()\n",
    "    def variance(self):\n",
    "        s2 =sum(x*x for x in store)\n",
    "        s1 = sum(x for x in store)\n",
    "        s3 = sum(1 for x in store)\n",
    "\n",
    "        return var = (s3*s2-s1*s1)/(s3*(s3-1)))\n",
    "        \n",
    "        \n",
    "    #formula Math(S / (k-2))\n",
    "        return (self.mean)/ (self"
   ]
  }
 ],
 "metadata": {
  "kernelspec": {
   "display_name": "Python 3",
   "language": "python",
   "name": "python3"
  },
  "language_info": {
   "codemirror_mode": {
    "name": "ipython",
    "version": 3
   },
   "file_extension": ".py",
   "mimetype": "text/x-python",
   "name": "python",
   "nbconvert_exporter": "python",
   "pygments_lexer": "ipython3",
   "version": "3.7.4"
  }
 },
 "nbformat": 4,
 "nbformat_minor": 4
}
