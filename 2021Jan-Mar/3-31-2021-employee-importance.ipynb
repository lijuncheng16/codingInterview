{
 "cells": [
  {
   "cell_type": "markdown",
   "metadata": {},
   "source": [
    "# 690. Employee Importance\n",
    "\n",
    "You are given a data structure of employee information, which includes the employee's unique id, their importance value and their direct subordinates' id.\n",
    "\n",
    "For example, employee 1 is the leader of employee 2, and employee 2 is the leader of employee 3. They have importance value 15, 10 and 5, respectively. Then employee 1 has a data structure like [1, 15, [2]], and employee 2 has [2, 10, [3]], and employee 3 has [3, 5, []]. Note that although employee 3 is also a subordinate of employee 1, the relationship is not direct.\n",
    "\n",
    "Now given the employee information of a company, and an employee id, you need to return the total importance value of this employee and all their subordinates."
   ]
  },
  {
   "cell_type": "markdown",
   "metadata": {},
   "source": [
    "Note: the way recursion works is a little tricky"
   ]
  },
  {
   "cell_type": "code",
   "execution_count": 1,
   "metadata": {},
   "outputs": [],
   "source": [
    "\"\"\"\n",
    "# Definition for Employee.\n",
    "class Employee:\n",
    "    def __init__(self, id: int, importance: int, subordinates: List[int]):\n",
    "        self.id = id\n",
    "        self.importance = importance\n",
    "        self.subordinates = subordinates\n",
    "# \"\"\"\n",
    "\n",
    "class Solution:\n",
    "    def getImportance(self, employees, query_id):   \n",
    "        employee_dic ={employee.id: employee for employee in employees}\n",
    "        print(employee_dic)\n",
    "        total_imp = 0\n",
    "        def dfs(employee, total_imp):\n",
    "            total_imp = employee.importance\n",
    "            print(f'importance:{employee.importance},id:{employee.id},totalimp:{total_imp}')\n",
    "\n",
    "            for subordinate in employee.subordinates:\n",
    "                total_imp += dfs(employee_dic[subordinate], total_imp)\n",
    "            # print(total_imp)\n",
    "            return total_imp\n",
    "            # return employee.importance + sum(dfs(employee_dic[subordinate], total_imp) for subordinate in employee.subordinates)\n",
    "        return(dfs(employee_dic[query_id], total_imp))\n",
    "    \n",
    "# class Solution(object):\n",
    "#     def getImportance(self, employees, id):\n",
    "#         \"\"\"\n",
    "#         :type employees: Employee\n",
    "#         :type id: int\n",
    "#         :rtype: int\n",
    "#         \"\"\"\n",
    "#         def helper(id):\n",
    "#             res = dic[id]\n",
    "#             for sub_id in sub[id]:\n",
    "#                 res += helper(sub_id)\n",
    "#             return res\n",
    "        \n",
    "#         dic = {}\n",
    "#         sub = {}\n",
    "#         for employee in employees:\n",
    "#             dic[employee.id] = employee.importance\n",
    "#             sub[employee.id] = employee.subordinates\n",
    "#         return helper(id)"
   ]
  }
 ],
 "metadata": {
  "kernelspec": {
   "display_name": "Python 3",
   "language": "python",
   "name": "python3"
  },
  "language_info": {
   "codemirror_mode": {
    "name": "ipython",
    "version": 3
   },
   "file_extension": ".py",
   "mimetype": "text/x-python",
   "name": "python",
   "nbconvert_exporter": "python",
   "pygments_lexer": "ipython3",
   "version": "3.8.5"
  }
 },
 "nbformat": 4,
 "nbformat_minor": 4
}
