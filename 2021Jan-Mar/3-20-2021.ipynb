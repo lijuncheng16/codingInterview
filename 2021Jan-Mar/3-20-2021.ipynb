{
 "cells": [
  {
   "cell_type": "markdown",
   "metadata": {},
   "source": [
    "Given a non-empty string s, you may delete at most one character. Judge whether you can make it a palindrome.\n",
    "\n"
   ]
  },
  {
   "cell_type": "code",
   "execution_count": 2,
   "metadata": {},
   "outputs": [],
   "source": [
    "def validPalindrome(s: str) -> bool:\n",
    "    if s[::-1] == s:\n",
    "        return True\n",
    "    else:\n",
    "        for ind, char in enumerate(s):\n",
    "            s_alt = s[:ind]+s[ind+1:]\n",
    "            if s_alt == s_alt[::-1]:\n",
    "                return True\n",
    "        return False"
   ]
  },
  {
   "cell_type": "code",
   "execution_count": 7,
   "metadata": {},
   "outputs": [],
   "source": [
    "s = \"aba\""
   ]
  },
  {
   "cell_type": "code",
   "execution_count": 17,
   "metadata": {},
   "outputs": [
    {
     "data": {
      "text/plain": [
       "False"
      ]
     },
     "execution_count": 17,
     "metadata": {},
     "output_type": "execute_result"
    }
   ],
   "source": [
    "validPalindrome(s)"
   ]
  },
  {
   "cell_type": "code",
   "execution_count": 14,
   "metadata": {},
   "outputs": [],
   "source": [
    "s = \"mxohcihhudbpsrxhxrrsykmwbaetdzpenjpomyiudctewaizxokvyabqycmmncuggnxskgzwavpmouwfwhxouegyrvtjzctltksglwszmenaqdipvqyyvuyqnueyyhsfpivabtugmckgqzfxquehjecrvmptoxxbcxcbmdmvzflojosixtnwtgnggcyhydnjaeziamnpajbrjuqwucnybbdwmdretgjxzomobimmukhiewphdjsqrrovfdadjyybtipgxbpoqnckpprbenbynelmhwqshwqsuicpktltthfunmbspajxazhuakixmlabkuqaakygliiqzacpjnpvexpsajkianbngcztzlmcwcfupbzajduhpdvxuwzorocmmflcfvtmfvwnecwdfbafpyidpvaxsdyipwmuytrwyuszkuipgihwtookwmlxzcozqurgnnleanaigdcktrcgmwgdivrrbqjfoqfhjdiiddredunjruzkegwsyizunxcgzuyzqtxlhxcujcczcouljtfzqhegebcluximwdpmnoypjpxudbrptuoztorpvvmqkqtxywudnmvejmegxcnqstqrqmkuulxqehvpzpuizsllyabufronymiylvngdhnqfaikxifjfwfrzetfyxhtmhycyxuoptyncviqfvhcbptgatninschckgfjormgykqgethbhypphkixwmdisjfqkcaxxnqtstefwlxyuuezqlhtqourzyagqirmjilbtayfvedtumpxfniplexmzzcevnsseaqczwhdvuplxcegxpyuvieocpbdnfydaowbalutasoppzrvseztjifarlouexsllduiurlbtjbcwoqkuzrtlmcmwqzdmdbxfhmtswwfjvcbjkcbfqemfxmilvmhvshkkrioanlrskrrfencidayguuhmqclyribjhlyjtngtkbrbyqjbopkqjqtdkabgdxpbeustjjnchdxfh\""
   ]
  },
  {
   "cell_type": "code",
   "execution_count": 16,
   "metadata": {},
   "outputs": [],
   "source": [
    "def validPalindrome(s):\n",
    "    def is_pali_range(i, j):\n",
    "        return all(s[k] == s[j-k+i] for k in range(i, j))\n",
    "\n",
    "    for i in range(len(s) // 2):\n",
    "        if s[i] != s[~i]:\n",
    "            j = len(s) - 1 - i\n",
    "            return is_pali_range(i+1, j) or is_pali_range(i, j-1)\n",
    "    return True"
   ]
  },
  {
   "cell_type": "markdown",
   "metadata": {},
   "source": [
    "interesting\n"
   ]
  },
  {
   "cell_type": "code",
   "execution_count": null,
   "metadata": {},
   "outputs": [],
   "source": [
    "def validPalindrome(self, s):\n",
    "    \"\"\"\n",
    "    :type s: str\n",
    "    :rtype: bool\n",
    "    \"\"\"\n",
    "    # Time: O(n)\n",
    "    # Space: O(n)\n",
    "    left, right = 0, len(s) - 1\n",
    "    while left < right:\n",
    "        if s[left] != s[right]:\n",
    "            one, two = s[left:right], s[left + 1:right + 1]\n",
    "            return one == one[::-1] or two == two[::-1]\n",
    "        left, right = left + 1, right - 1\n",
    "    return True"
   ]
  }
 ],
 "metadata": {
  "kernelspec": {
   "display_name": "Python 3",
   "language": "python",
   "name": "python3"
  },
  "language_info": {
   "codemirror_mode": {
    "name": "ipython",
    "version": 3
   },
   "file_extension": ".py",
   "mimetype": "text/x-python",
   "name": "python",
   "nbconvert_exporter": "python",
   "pygments_lexer": "ipython3",
   "version": "3.7.4"
  }
 },
 "nbformat": 4,
 "nbformat_minor": 4
}
