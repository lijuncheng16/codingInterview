{
 "cells": [
  {
   "cell_type": "markdown",
   "metadata": {},
   "source": [
    "953. Verifying an Alien Dictionary\n"
   ]
  },
  {
   "cell_type": "markdown",
   "metadata": {},
   "source": [
    "In an alien language, surprisingly they also use english lowercase letters, but possibly in a different order. The order of the alphabet is some permutation of lowercase letters.\n",
    "\n",
    "Given a sequence of words written in the alien language, and the order of the alphabet, return true if and only if the given words are sorted lexicographicaly in this alien language."
   ]
  },
  {
   "cell_type": "code",
   "execution_count": 4,
   "metadata": {},
   "outputs": [],
   "source": [
    "from typing import List"
   ]
  },
  {
   "cell_type": "code",
   "execution_count": 10,
   "metadata": {},
   "outputs": [],
   "source": [
    "def isAlienSorted(words: List[str], order: str) -> bool:\n",
    "    alphabet = {}\n",
    "    for ind,char in enumerate(order):\n",
    "        alphabet.setdefault(char, ind)\n",
    "    print(alphabet)\n",
    "    for ind, word in enumerate(words):\n",
    "        if ind > 0:\n",
    "            prev_word = words[ind-1]\n",
    "            finished = False\n",
    "            for i in range(min(len(word), len(prev_word))):\n",
    "                char_val = alphabet[word[i]]\n",
    "                char_prev_val = alphabet[prev_word[i]]\n",
    "                if char_val > char_prev_val:\n",
    "                    finished = True\n",
    "                    break\n",
    "                elif char_val < char_prev_val:\n",
    "                    return False\n",
    "                else:\n",
    "                    continue\n",
    "            if not finished and len(prev_word)>len(word):\n",
    "                return False\n",
    "    return True"
   ]
  },
  {
   "cell_type": "code",
   "execution_count": 11,
   "metadata": {},
   "outputs": [],
   "source": [
    "words = [\"apple\",\"app\"]\n",
    "order = \"abcdefghijklmnopqrstuvwxyz\""
   ]
  },
  {
   "cell_type": "code",
   "execution_count": 12,
   "metadata": {},
   "outputs": [
    {
     "name": "stdout",
     "output_type": "stream",
     "text": [
      "{'a': 0, 'b': 1, 'c': 2, 'd': 3, 'e': 4, 'f': 5, 'g': 6, 'h': 7, 'i': 8, 'j': 9, 'k': 10, 'l': 11, 'm': 12, 'n': 13, 'o': 14, 'p': 15, 'q': 16, 'r': 17, 's': 18, 't': 19, 'u': 20, 'v': 21, 'w': 22, 'x': 23, 'y': 24, 'z': 25}\n"
     ]
    },
    {
     "data": {
      "text/plain": [
       "False"
      ]
     },
     "execution_count": 12,
     "metadata": {},
     "output_type": "execute_result"
    }
   ],
   "source": [
    "isAlienSorted(words, order)"
   ]
  },
  {
   "cell_type": "markdown",
   "metadata": {},
   "source": [
    "415. Add Strings"
   ]
  },
  {
   "cell_type": "markdown",
   "metadata": {},
   "source": [
    "\n",
    "Given two non-negative integers num1 and num2 represented as string, return the sum of num1 and num2.\n",
    "\n",
    "Note:\n",
    "\n",
    "The length of both num1 and num2 is < 5100.\n",
    "Both num1 and num2 contains only digits 0-9.\n",
    "Both num1 and num2 does not contain any leading zero.\n",
    "You must not use any built-in BigInteger library or convert the inputs to integer directly."
   ]
  },
  {
   "cell_type": "code",
   "execution_count": 13,
   "metadata": {},
   "outputs": [],
   "source": [
    "class Solution:\n",
    "    def addStrings(self, num1: str, num2: str) -> str:\n",
    "        def myAtoi(s: str) -> int:\n",
    "            result = 0\n",
    "            neg = False\n",
    "            for i, char in enumerate(s):\n",
    "                if char is \" \":\n",
    "                    if s[i-1] == \" \" or i==0:\n",
    "                        continue\n",
    "                    else:\n",
    "                        break\n",
    "                elif char is \"-\":\n",
    "                    if i==0 or s[i-1] == \" \":\n",
    "                        neg = True\n",
    "                        continue\n",
    "                    else:\n",
    "                        break\n",
    "                elif char is \"+\":\n",
    "                    if i==0 or s[i-1] == \" \":\n",
    "                        continue\n",
    "                    else:\n",
    "                        break\n",
    "                elif char.isnumeric():\n",
    "                    temp = ord(char)-48\n",
    "                    # print(temp)\n",
    "                    result = result*10 + temp\n",
    "                else:\n",
    "                    break\n",
    "            if neg == False:  \n",
    "                return result\n",
    "            else:\n",
    "                return -result\n",
    "        return str(myAtoi(num1) + myAtoi(num2))\n",
    "            "
   ]
  },
  {
   "cell_type": "code",
   "execution_count": null,
   "metadata": {},
   "outputs": [],
   "source": []
  }
 ],
 "metadata": {
  "kernelspec": {
   "display_name": "Python 3",
   "language": "python",
   "name": "python3"
  },
  "language_info": {
   "codemirror_mode": {
    "name": "ipython",
    "version": 3
   },
   "file_extension": ".py",
   "mimetype": "text/x-python",
   "name": "python",
   "nbconvert_exporter": "python",
   "pygments_lexer": "ipython3",
   "version": "3.7.4"
  }
 },
 "nbformat": 4,
 "nbformat_minor": 4
}
