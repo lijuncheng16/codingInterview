{
 "cells": [
  {
   "cell_type": "markdown",
   "metadata": {},
   "source": [
    "You are given a string s representing an attendance record for a student. The record only contains the following three characters:\n",
    "'A': Absent.\n",
    "'L': Late.\n",
    "'P': Present.\n",
    "A student could be rewarded if his attendance record does not contain more than one 'A' (absent) or more than two consecutive 'L' (late).\n",
    "\n",
    "Return true if the student could be rewarded according to his attendance record, and false otherwise.\n",
    "\n"
   ]
  },
  {
   "cell_type": "code",
   "execution_count": 13,
   "metadata": {},
   "outputs": [],
   "source": [
    "def checkRecord(s: str) -> bool:\n",
    "        length = len(s)\n",
    "        print(length)\n",
    "        Arecord = [0] * length\n",
    "        Lrecord = [0] * length\n",
    "        for i in range(length):\n",
    "            print(i)\n",
    "            if s[i] =='A':\n",
    "                Arecord[i] = 1\n",
    "            if i >= 2:\n",
    "                if s[i-2] == s[i-1] == s[i] == 'L':\n",
    "                    Lrecord[i] = 1\n",
    "        if sum(Arecord)>1 or sum(Lrecord)>=1:\n",
    "            return False\n",
    "        else: \n",
    "            return True"
   ]
  },
  {
   "cell_type": "code",
   "execution_count": 14,
   "metadata": {},
   "outputs": [],
   "source": [
    "s = \"PPALLP\""
   ]
  },
  {
   "cell_type": "code",
   "execution_count": 15,
   "metadata": {},
   "outputs": [
    {
     "name": "stdout",
     "output_type": "stream",
     "text": [
      "6\n",
      "0\n",
      "1\n",
      "2\n",
      "3\n",
      "4\n",
      "5\n"
     ]
    },
    {
     "data": {
      "text/plain": [
       "True"
      ]
     },
     "execution_count": 15,
     "metadata": {},
     "output_type": "execute_result"
    }
   ],
   "source": [
    "checkRecord(s)"
   ]
  },
  {
   "cell_type": "markdown",
   "metadata": {},
   "source": [
    "## 743. Network Delay Time\n"
   ]
  },
  {
   "cell_type": "markdown",
   "metadata": {},
   "source": [
    "You are given a network of n nodes, labeled from 1 to n. You are also given times, a list of travel times as directed edges times[i] = (ui, vi, wi), where ui is the source node, vi is the target node, and wi is the time it takes for a signal to travel from source to target.\n",
    "\n",
    "We will send a signal from a given node k. Return the time it takes for all the n nodes to receive the signal. If it is impossible for all the n nodes to receive the signal, return -1.\n",
    "\n"
   ]
  },
  {
   "cell_type": "code",
   "execution_count": 45,
   "metadata": {},
   "outputs": [],
   "source": [
    "times = [[2,1,1],[2,3,1],[3,4,1]]\n",
    "n = 4\n",
    "k = 2\n"
   ]
  },
  {
   "cell_type": "code",
   "execution_count": null,
   "metadata": {},
   "outputs": [],
   "source": [
    "times = [[1,2,1]]\n",
    "n = 2\n",
    "k = 2\n"
   ]
  },
  {
   "cell_type": "code",
   "execution_count": 22,
   "metadata": {},
   "outputs": [],
   "source": [
    "from typing import List"
   ]
  },
  {
   "cell_type": "code",
   "execution_count": 100,
   "metadata": {},
   "outputs": [],
   "source": [
    "from collections import defaultdict\n"
   ]
  },
  {
   "cell_type": "code",
   "execution_count": 95,
   "metadata": {},
   "outputs": [],
   "source": [
    "class Graph:\n",
    " \n",
    "    # Constructor\n",
    "    def __init__(self):\n",
    " \n",
    "        # default dictionary to store graph\n",
    "        self.graph = defaultdict(list)\n",
    "        self.maxtime = 0 \n",
    " \n",
    "    # function to add an edge to graph\n",
    "    def addEdge(self, u, v, t):\n",
    "        self.graph[u].append((v, t))\n",
    " \n",
    "    # A function used by DFS\n",
    "    def DFSUtil(self, v, visited, time):\n",
    " \n",
    "        # Mark the current node as visited\n",
    "        # and print it\n",
    "        visited.add(v)\n",
    "        print(f'visited{visited}, added {v}')\n",
    "        self.maxtime = max(time, time)+1\n",
    "        # Recur for all the vertices\n",
    "        # adjacent to this vertex\n",
    "        for neighbour in self.graph[v]:\n",
    "            print('neighbor', neighbour[0])\n",
    "            if neighbour[0] not in visited:\n",
    "                self.DFSUtil(neighbour[0], visited, time)\n",
    "                \n",
    " \n",
    "    # The function to do DFS traversal. It uses\n",
    "    # recursive DFSUtil()\n",
    "    def DFS(self, v):\n",
    " \n",
    "        # Create a set to store visited vertices\n",
    "        visited = set()\n",
    "        time = self.maxtime\n",
    "        # Call the recursive helper function\n",
    "        # to print DFS traversal\n",
    "        self.DFSUtil(v, visited, time)\n",
    " "
   ]
  },
  {
   "cell_type": "code",
   "execution_count": 96,
   "metadata": {},
   "outputs": [],
   "source": [
    "def networkDelayTime(times: List[List[int]], n: int, k: int) -> int:\n",
    "    g = Graph()\n",
    "    for item in times:\n",
    "        g.addEdge(item[0],item[1],item[2])\n",
    "    print('graph:', g.graph[2])\n",
    "    print('test',g.DFS(k))"
   ]
  },
  {
   "cell_type": "code",
   "execution_count": null,
   "metadata": {},
   "outputs": [],
   "source": []
  },
  {
   "cell_type": "code",
   "execution_count": 97,
   "metadata": {},
   "outputs": [
    {
     "name": "stdout",
     "output_type": "stream",
     "text": [
      "graph: [(1, 1), (3, 1)]\n",
      "visited{2}, added 2\n",
      "neighbor 1\n",
      "visited{1, 2}, added 1\n",
      "neighbor 3\n",
      "visited{1, 2, 3}, added 3\n",
      "neighbor 4\n",
      "visited{1, 2, 3, 4}, added 4\n",
      "test None\n"
     ]
    }
   ],
   "source": [
    "networkDelayTime(times, n, k)"
   ]
  },
  {
   "cell_type": "code",
   "execution_count": null,
   "metadata": {},
   "outputs": [],
   "source": []
  },
  {
   "cell_type": "code",
   "execution_count": 106,
   "metadata": {},
   "outputs": [],
   "source": [
    "def networkDelayTime(times, N, K):\n",
    "        graph = defaultdict(list)\n",
    "        for u, v, w in times:\n",
    "            graph[u].append((w, v))\n",
    "\n",
    "        dist = {node: float('inf') for node in range(1, N+1)}\n",
    "\n",
    "        def dfs(node, elapsed):\n",
    "            if elapsed >= dist[node]: return\n",
    "            dist[node] = elapsed\n",
    "            for time, nei in sorted(graph[node]):\n",
    "                dfs(nei, elapsed + time)\n",
    "\n",
    "        dfs(K, 0)\n",
    "        ans = max(dist.values())\n",
    "        return ans if ans < float('inf') else -1"
   ]
  },
  {
   "cell_type": "code",
   "execution_count": 107,
   "metadata": {},
   "outputs": [
    {
     "data": {
      "text/plain": [
       "2"
      ]
     },
     "execution_count": 107,
     "metadata": {},
     "output_type": "execute_result"
    }
   ],
   "source": [
    "networkDelayTime(times, n, k)"
   ]
  },
  {
   "cell_type": "code",
   "execution_count": null,
   "metadata": {},
   "outputs": [],
   "source": []
  },
  {
   "cell_type": "code",
   "execution_count": null,
   "metadata": {},
   "outputs": [],
   "source": []
  }
 ],
 "metadata": {
  "kernelspec": {
   "display_name": "Python 3",
   "language": "python",
   "name": "python3"
  },
  "language_info": {
   "codemirror_mode": {
    "name": "ipython",
    "version": 3
   },
   "file_extension": ".py",
   "mimetype": "text/x-python",
   "name": "python",
   "nbconvert_exporter": "python",
   "pygments_lexer": "ipython3",
   "version": "3.8.5"
  }
 },
 "nbformat": 4,
 "nbformat_minor": 4
}
