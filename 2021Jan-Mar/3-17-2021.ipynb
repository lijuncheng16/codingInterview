{
 "cells": [
  {
   "cell_type": "code",
   "execution_count": 3,
   "metadata": {},
   "outputs": [],
   "source": [
    "from typing import List"
   ]
  },
  {
   "cell_type": "markdown",
   "metadata": {},
   "source": [
    "# The isBadVersion API is already defined for you.\n",
    "# @param version, an integer\n",
    "# @return an integer\n",
    "# def isBadVersion(version):"
   ]
  },
  {
   "cell_type": "code",
   "execution_count": 7,
   "metadata": {},
   "outputs": [],
   "source": [
    "def firstBadVersion(self, n):\n",
    "        \"\"\"\n",
    "        :type n: int\n",
    "        :rtype: int\n",
    "        \"\"\"\n",
    "        l = 1\n",
    "        r = n\n",
    "        mid = 0\n",
    "        while(r>l):\n",
    "            mid = l + (r-l)//2\n",
    "            if r-l <= 1:\n",
    "                break\n",
    "            if isBadVersion(mid):\n",
    "                r = mid\n",
    "            else:\n",
    "                l = mid\n",
    "        if (isBadVersion(mid)):\n",
    "            return mid\n",
    "        else: \n",
    "            return mid+1"
   ]
  },
  {
   "cell_type": "markdown",
   "metadata": {},
   "source": [
    "621. Task Scheduler\n",
    "Given a characters array tasks, representing the tasks a CPU needs to do, where each letter represents a different task. Tasks could be done in any order. Each task is done in one unit of time. For each unit of time, the CPU could complete either one task or just be idle.\n",
    "\n",
    "However, there is a non-negative integer n that represents the cooldown period between two same tasks (the same letter in the array), that is that there must be at least n units of time between any two same tasks.\n",
    "\n",
    "Return the least number of units of times that the CPU will take to finish all the given tasks."
   ]
  },
  {
   "cell_type": "code",
   "execution_count": null,
   "metadata": {},
   "outputs": [],
   "source": [
    "def leastInterval(self, tasks: List[str], n: int) -> int:\n",
    "        length = len(tasks)\n",
    "        fq = {}\n",
    "        for task in tasks:\n",
    "            if task in fq:\n",
    "                fq[task] +=1\n",
    "            else:\n",
    "                fq.setdefault(task, 1)\n",
    "        max_freq = max(fq.values())\n",
    "        fq_list = list(fq.values())\n",
    "        n_max = fq_list.count(max_freq)\n",
    "        print(n_max)\n",
    "        total_time = (n+1)*(max_freq-1)+1\n",
    "        idle_time = n*(max_freq-1)\n",
    "        print(total_time, idle_time)\n",
    "\n",
    "        return max(total_time +n_max-1,length)"
   ]
  }
 ],
 "metadata": {
  "kernelspec": {
   "display_name": "Python 3",
   "language": "python",
   "name": "python3"
  },
  "language_info": {
   "codemirror_mode": {
    "name": "ipython",
    "version": 3
   },
   "file_extension": ".py",
   "mimetype": "text/x-python",
   "name": "python",
   "nbconvert_exporter": "python",
   "pygments_lexer": "ipython3",
   "version": "3.7.4"
  }
 },
 "nbformat": 4,
 "nbformat_minor": 4
}
