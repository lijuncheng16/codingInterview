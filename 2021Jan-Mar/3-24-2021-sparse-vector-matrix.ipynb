{
 "cells": [
  {
   "cell_type": "markdown",
   "metadata": {},
   "source": [
    "1570. Dot Product of Two Sparse Vectors\n"
   ]
  },
  {
   "cell_type": "markdown",
   "metadata": {},
   "source": [
    "Given two sparse vectors, compute their dot product.\n",
    "\n",
    "Implement class SparseVector:\n",
    "\n",
    "SparseVector(nums) Initializes the object with the vector nums\n",
    "dotProduct(vec) Compute the dot product between the instance of SparseVector and vec\n",
    "A sparse vector is a vector that has mostly zero values, you should store the sparse vector efficiently and compute the dot product between two SparseVector.\n",
    "\n",
    "Follow up: What if only one of the vectors is sparse?\n",
    "\n"
   ]
  },
  {
   "cell_type": "code",
   "execution_count": 3,
   "metadata": {},
   "outputs": [],
   "source": [
    "from typing import List"
   ]
  },
  {
   "cell_type": "code",
   "execution_count": 4,
   "metadata": {},
   "outputs": [],
   "source": [
    "class SparseVector:\n",
    "    def __init__(self, nums: List[int]):\n",
    "        self.dic = {}\n",
    "        length = len(nums)\n",
    "        for i in range(length):\n",
    "            if nums[i] != 0:\n",
    "                self.dic.setdefault(i, nums[i])\n",
    "\n",
    "    # Return the dotProduct of two sparse vectors\n",
    "    def dotProduct(self, vec: 'SparseVector') -> int:\n",
    "        print(vec.dic)\n",
    "        print(self.dic)\n",
    "        result = 0\n",
    "        for key, value in self.dic.items():\n",
    "            if key in vec.dic:\n",
    "                result += value*vec.dic[key]\n",
    "        return result\n",
    "\n",
    "# Your SparseVector object will be instantiated and called as such:\n",
    "# v1 = SparseVector(nums1)\n",
    "# v2 = SparseVector(nums2)\n",
    "# ans = v1.dotProduct(v2)"
   ]
  },
  {
   "cell_type": "markdown",
   "metadata": {},
   "source": [
    "311. Sparse Matrix Multiplication\n"
   ]
  },
  {
   "cell_type": "markdown",
   "metadata": {},
   "source": [
    "Given two sparse matrices mat1 of size m x k and mat2 of size k x n, return the result of mat1 x mat2. You may assume that multiplication is always possible.\n",
    "\n"
   ]
  },
  {
   "cell_type": "code",
   "execution_count": 8,
   "metadata": {},
   "outputs": [],
   "source": [
    "def multiply(mat1: List[List[int]], mat2: List[List[int]]) -> List[List[int]]:\n",
    "    m = len(mat1)\n",
    "    k = len(mat2)\n",
    "    n = len(mat2[0])\n",
    "    def list2dict(mat, row, col):\n",
    "        dic = {}\n",
    "        for i in range(row):\n",
    "            for j in range(col):\n",
    "                if mat[i][j] != 0:\n",
    "                    dic[str(i)+str(j)] = mat[i][j]\n",
    "        return dic\n",
    "    dic1 = list2dict(mat1,m,k)\n",
    "    dic2 = list2dict(mat2,k,n)\n",
    "    result = [ [0]*n for i in range(m)]\n",
    "    print(dic1,dic2)\n",
    "    for i in range(m):\n",
    "        for j in range(n):\n",
    "            for l in range(k):\n",
    "                if str(i)+str(l) in dic1 and str(l)+str(j) in dic2:\n",
    "                    result[i][j] += dic1[str(i)+str(l)] * dic2[str(l)+str(j)]\n",
    "    return result"
   ]
  },
  {
   "cell_type": "code",
   "execution_count": 9,
   "metadata": {},
   "outputs": [],
   "source": [
    "mat1 = [[1,0,0],[-1,0,3]]"
   ]
  },
  {
   "cell_type": "code",
   "execution_count": 10,
   "metadata": {},
   "outputs": [],
   "source": [
    "mat2 = [[7,0,0],[0,0,0],[0,0,1]]"
   ]
  },
  {
   "cell_type": "code",
   "execution_count": 11,
   "metadata": {},
   "outputs": [
    {
     "name": "stdout",
     "output_type": "stream",
     "text": [
      "{'00': 1, '10': -1, '12': 3} {'00': 7, '22': 1}\n"
     ]
    },
    {
     "data": {
      "text/plain": [
       "[[7, 0, 0], [-7, 0, 3]]"
      ]
     },
     "execution_count": 11,
     "metadata": {},
     "output_type": "execute_result"
    }
   ],
   "source": [
    "multiply(mat1,mat2)"
   ]
  },
  {
   "cell_type": "code",
   "execution_count": null,
   "metadata": {},
   "outputs": [],
   "source": []
  }
 ],
 "metadata": {
  "kernelspec": {
   "display_name": "Python 3",
   "language": "python",
   "name": "python3"
  },
  "language_info": {
   "codemirror_mode": {
    "name": "ipython",
    "version": 3
   },
   "file_extension": ".py",
   "mimetype": "text/x-python",
   "name": "python",
   "nbconvert_exporter": "python",
   "pygments_lexer": "ipython3",
   "version": "3.7.4"
  }
 },
 "nbformat": 4,
 "nbformat_minor": 4
}
