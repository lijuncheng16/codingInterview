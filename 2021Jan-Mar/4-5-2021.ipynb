{
 "cells": [
  {
   "cell_type": "markdown",
   "metadata": {},
   "source": [
    "given n non-negative integers, largest substring product last digit equals to k, return the largest product"
   ]
  },
  {
   "cell_type": "code",
   "execution_count": null,
   "metadata": {},
   "outputs": [],
   "source": [
    "[0, 1,2,3,4] k = 4 return 4"
   ]
  },
  {
   "cell_type": "code",
   "execution_count": null,
   "metadata": {},
   "outputs": [],
   "source": [
    "odd = {1,3,7,9}\n",
    "even = {2,4,6,8}\n",
    "other = {0,5}"
   ]
  },
  {
   "cell_type": "code",
   "execution_count": null,
   "metadata": {},
   "outputs": [],
   "source": [
    "from Typing import List"
   ]
  },
  {
   "cell_type": "code",
   "execution_count": null,
   "metadata": {},
   "outputs": [],
   "source": [
    "def largestProduct(nums: List[int], k: int) \n",
    "    product = 1\n",
    "    #Case 5: if there's a five, everything else can be odd or 5 not even or 0\n",
    "    if k == 5:\n",
    "        for num in nums:\n",
    "            if num%2 != 0:\n",
    "                product = product * num\n",
    "    elif k == 0:\n",
    "        \n",
    "    elif k in odd:\n",
    "        \n",
    "    elif k in even:\n",
    "        "
   ]
  },
  {
   "cell_type": "markdown",
   "metadata": {},
   "source": [
    "Standard Answer is a 10-dim dp that records every 0,9 numbers"
   ]
  }
 ],
 "metadata": {
  "kernelspec": {
   "display_name": "Python 3",
   "language": "python",
   "name": "python3"
  },
  "language_info": {
   "codemirror_mode": {
    "name": "ipython",
    "version": 3
   },
   "file_extension": ".py",
   "mimetype": "text/x-python",
   "name": "python",
   "nbconvert_exporter": "python",
   "pygments_lexer": "ipython3",
   "version": "3.8.5"
  }
 },
 "nbformat": 4,
 "nbformat_minor": 4
}
