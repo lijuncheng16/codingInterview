{
 "cells": [
  {
   "cell_type": "code",
   "execution_count": 2,
   "metadata": {},
   "outputs": [],
   "source": [
    "from typing import List"
   ]
  },
  {
   "cell_type": "code",
   "execution_count": 81,
   "metadata": {},
   "outputs": [],
   "source": [
    "def searchMatrix(matrix: List[List[int]], target: int) -> bool:\n",
    "    if matrix == [] or matrix ==[[]]:\n",
    "        return False\n",
    "    m = len(matrix)\n",
    "    n = len(matrix[0])\n",
    "    # for i in range(m):\n",
    "    #     print(matrix[i][0])\n",
    "    l = 0\n",
    "    r = m-1\n",
    "    while (l < r):\n",
    "        mid = l+(r-l)//2\n",
    "        print(f'l={l}, mid={mid}, r={r}')\n",
    "\n",
    "        if r-l<=1:\n",
    "            break\n",
    "        if target > matrix[mid][0]:\n",
    "            l = mid\n",
    "        else:\n",
    "            r = mid\n",
    "\n",
    "    if target >= matrix[r][0]:\n",
    "        left = 0\n",
    "        right = n-1\n",
    "        while left<right:\n",
    " \n",
    "            middle = left+(right-left)//2\n",
    "            print(f'left={left}, middle={middle}, right={right}')\n",
    "            if right-left<=1:\n",
    "                break\n",
    "            if target > matrix[r][middle]:\n",
    "                left = middle\n",
    "            else:\n",
    "                right = middle\n",
    "        if matrix[r][left] == target or matrix[r][right] ==target:\n",
    "            return True\n",
    "        else:\n",
    "            return False\n",
    "    else:\n",
    "        left = 0\n",
    "        right = n-1\n",
    "        while left<right:\n",
    " \n",
    "            middle = left+(right-left)//2\n",
    "            print(f'left={left}, middle={middle}, right={right}')\n",
    "            if right-left<=1:\n",
    "                break\n",
    "            if target > matrix[l][middle]:\n",
    "                left = middle\n",
    "            else:\n",
    "                right = middle\n",
    "\n",
    "        if matrix[l][left] == target or matrix[l][right] ==target:\n",
    "            return True\n",
    "        else:\n",
    "            return False"
   ]
  },
  {
   "cell_type": "code",
   "execution_count": 82,
   "metadata": {},
   "outputs": [],
   "source": [
    "matrix = [[1,3,5,7],[10,11,16,20],[23,30,34,50]]\n",
    "target = 3"
   ]
  },
  {
   "cell_type": "code",
   "execution_count": 83,
   "metadata": {},
   "outputs": [
    {
     "name": "stdout",
     "output_type": "stream",
     "text": [
      "l=0, mid=1, r=2\n",
      "l=0, mid=0, r=1\n",
      "left=0, middle=1, right=3\n",
      "left=0, middle=0, right=1\n"
     ]
    },
    {
     "data": {
      "text/plain": [
       "True"
      ]
     },
     "execution_count": 83,
     "metadata": {},
     "output_type": "execute_result"
    }
   ],
   "source": [
    "searchMatrix(matrix, target)"
   ]
  },
  {
   "cell_type": "code",
   "execution_count": 84,
   "metadata": {},
   "outputs": [],
   "source": [
    "matrix = [[1,3,5,7],[10,11,16,20],[23,30,34,50]]\n",
    "target = 30"
   ]
  },
  {
   "cell_type": "code",
   "execution_count": 85,
   "metadata": {},
   "outputs": [
    {
     "name": "stdout",
     "output_type": "stream",
     "text": [
      "l=0, mid=1, r=2\n",
      "l=1, mid=1, r=2\n",
      "left=0, middle=1, right=3\n",
      "left=0, middle=0, right=1\n"
     ]
    },
    {
     "data": {
      "text/plain": [
       "True"
      ]
     },
     "execution_count": 85,
     "metadata": {},
     "output_type": "execute_result"
    }
   ],
   "source": [
    "searchMatrix(matrix, target)"
   ]
  },
  {
   "cell_type": "code",
   "execution_count": null,
   "metadata": {},
   "outputs": [],
   "source": []
  }
 ],
 "metadata": {
  "kernelspec": {
   "display_name": "Python 3",
   "language": "python",
   "name": "python3"
  },
  "language_info": {
   "codemirror_mode": {
    "name": "ipython",
    "version": 3
   },
   "file_extension": ".py",
   "mimetype": "text/x-python",
   "name": "python",
   "nbconvert_exporter": "python",
   "pygments_lexer": "ipython3",
   "version": "3.7.4"
  }
 },
 "nbformat": 4,
 "nbformat_minor": 4
}
