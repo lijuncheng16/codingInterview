{
 "cells": [
  {
   "cell_type": "code",
   "execution_count": null,
   "metadata": {},
   "outputs": [],
   "source": [
    "Given the root of a binary tree, imagine yourself standing on the right side of it, return the values of the nodes you can see ordered from top to bottom."
   ]
  },
  {
   "cell_type": "markdown",
   "metadata": {},
   "source": [
    "# 199. Binary Tree Right Side View\n"
   ]
  },
  {
   "cell_type": "code",
   "execution_count": 2,
   "metadata": {},
   "outputs": [],
   "source": [
    "class TreeNode:\n",
    "    def __init__(self, val=0, left=None, right=None):\n",
    "        self.val = val\n",
    "        self.left = left\n",
    "        self.right = right"
   ]
  },
  {
   "cell_type": "code",
   "execution_count": 25,
   "metadata": {},
   "outputs": [],
   "source": [
    "root = TreeNode(1)\n",
    "root.left = TreeNode(2)\n",
    "root.right = TreeNode(3)\n",
    "root.right.right = TreeNode(7)\n",
    "root.right.left = TreeNode(6)\n",
    "root.left.right = TreeNode(5)\n",
    "root.left.left = TreeNode(4)\n",
    "root.left.left.left = TreeNode(8)\n",
    "root.left.left.right = TreeNode(9)"
   ]
  },
  {
   "cell_type": "markdown",
   "metadata": {},
   "source": [
    "            1\n",
    "           / \\\n",
    "          2    3\n",
    "         / \\  / \\\n",
    "        4  5 6   7\n",
    "       / \\  \n",
    "      8  9"
   ]
  },
  {
   "cell_type": "markdown",
   "metadata": {},
   "source": [
    "Recursive DFS"
   ]
  },
  {
   "cell_type": "code",
   "execution_count": 27,
   "metadata": {},
   "outputs": [],
   "source": [
    "from typing import List"
   ]
  },
  {
   "cell_type": "code",
   "execution_count": 28,
   "metadata": {},
   "outputs": [],
   "source": [
    "# Definition for a binary tree node.\n",
    "# class TreeNode:\n",
    "#     def __init__(self, val=0, left=None, right=None):\n",
    "#         self.val = val\n",
    "#         self.left = left\n",
    "#         self.right = right\n",
    "def rightSideView(root: TreeNode) -> List[int]:\n",
    "    if root is None:\n",
    "        return []\n",
    "\n",
    "    rightside = []\n",
    "\n",
    "    def helper(node: TreeNode, level: int) -> None:\n",
    "        if level == len(rightside):\n",
    "            print(f'lvl:{level}, right:{rightside}')\n",
    "            rightside.append(node.val)\n",
    "        for child in [node.right, node.left]:\n",
    "            if child:\n",
    "                print(f'child: {child.val}')\n",
    "                helper(child, level + 1)\n",
    "\n",
    "    helper(root, 0)\n",
    "    return rightside\n",
    "    # if root.right"
   ]
  },
  {
   "cell_type": "code",
   "execution_count": 29,
   "metadata": {},
   "outputs": [
    {
     "name": "stdout",
     "output_type": "stream",
     "text": [
      "lvl:0, right:[]\n",
      "child: 3\n",
      "lvl:1, right:[1]\n",
      "child: 7\n",
      "lvl:2, right:[1, 3]\n",
      "child: 6\n",
      "child: 2\n",
      "child: 5\n",
      "child: 4\n",
      "child: 9\n",
      "lvl:3, right:[1, 3, 7]\n",
      "child: 8\n"
     ]
    },
    {
     "data": {
      "text/plain": [
       "[1, 3, 7, 9]"
      ]
     },
     "execution_count": 29,
     "metadata": {},
     "output_type": "execute_result"
    }
   ],
   "source": [
    "rightSideView(root)"
   ]
  },
  {
   "cell_type": "code",
   "execution_count": 38,
   "metadata": {},
   "outputs": [],
   "source": [
    "def rightSideView2(root):\n",
    "    if not root:\n",
    "        return []\n",
    "    right = rightSideView2(root.right)\n",
    "    left = rightSideView2(root.left)\n",
    "    print([root.val] + right + left[len(right):])\n",
    "    return [root.val] + right + left[len(right):]"
   ]
  },
  {
   "cell_type": "code",
   "execution_count": 39,
   "metadata": {},
   "outputs": [
    {
     "name": "stdout",
     "output_type": "stream",
     "text": [
      "[7]\n",
      "[6]\n",
      "[3, 7]\n",
      "[5]\n",
      "[9]\n",
      "[8]\n",
      "[4, 9]\n",
      "[2, 5, 9]\n",
      "[1, 3, 7, 9]\n"
     ]
    },
    {
     "data": {
      "text/plain": [
       "[1, 3, 7, 9]"
      ]
     },
     "execution_count": 39,
     "metadata": {},
     "output_type": "execute_result"
    }
   ],
   "source": [
    "rightSideView2(root)"
   ]
  },
  {
   "cell_type": "markdown",
   "metadata": {},
   "source": [
    "Traverse the tree level by level and add the last value of each level to the view. This is O(n).\n"
   ]
  },
  {
   "cell_type": "code",
   "execution_count": null,
   "metadata": {},
   "outputs": [],
   "source": [
    "def rightSideView(root):\n",
    "    view = []\n",
    "    if root:\n",
    "        level = [root]\n",
    "        while level:\n",
    "            view += level[-1].val,\n",
    "            level = [kid for node in level for kid in (node.left, node.right) if kid]\n",
    "    return view"
   ]
  },
  {
   "cell_type": "code",
   "execution_count": null,
   "metadata": {},
   "outputs": [],
   "source": [
    "BFS"
   ]
  },
  {
   "cell_type": "code",
   "execution_count": null,
   "metadata": {},
   "outputs": [],
   "source": [
    "class Solution:\n",
    "    def rightSideView(self, root: TreeNode) -> List[int]:\n",
    "        if root is None:\n",
    "            return []\n",
    "        \n",
    "        queue = deque([root,])\n",
    "        rightside = []\n",
    "        \n",
    "        while queue:\n",
    "            level_length = len(queue)\n",
    "\n",
    "            for i in range(level_length):\n",
    "                node = queue.popleft()\n",
    "                # if it's the rightmost element\n",
    "                if i == level_length - 1:\n",
    "                    rightside.append(node.val)\n",
    "                    \n",
    "                # add child nodes in the queue \n",
    "                if node.left:\n",
    "                    queue.append(node.left)\n",
    "                if node.right:\n",
    "                    queue.append(node.right)\n",
    "        \n",
    "        return rightside"
   ]
  },
  {
   "cell_type": "code",
   "execution_count": null,
   "metadata": {},
   "outputs": [],
   "source": [
    "BFS 2 queue\n"
   ]
  },
  {
   "cell_type": "code",
   "execution_count": null,
   "metadata": {},
   "outputs": [],
   "source": [
    "class Solution:\n",
    "    def rightSideView(self, root: TreeNode) -> List[int]:\n",
    "        if root is None:\n",
    "            return []\n",
    "        \n",
    "        next_level = deque([root,])\n",
    "        rightside = []\n",
    "        \n",
    "        while next_level:\n",
    "            # prepare for the next level\n",
    "            curr_level = next_level\n",
    "            next_level = deque()\n",
    "\n",
    "            while curr_level:\n",
    "                node = curr_level.popleft()\n",
    "                    \n",
    "                # add child nodes of the current level\n",
    "                # in the queue for the next level\n",
    "                if node.left:\n",
    "                    next_level.append(node.left)\n",
    "                if node.right:\n",
    "                    next_level.append(node.right)\n",
    "            \n",
    "            # The current level is finished.\n",
    "            # Its last element is the rightmost one.\n",
    "            rightside.append(node.val)\n",
    "        "
   ]
  },
  {
   "cell_type": "code",
   "execution_count": 1,
   "metadata": {},
   "outputs": [
    {
     "ename": "SyntaxError",
     "evalue": "invalid syntax (<ipython-input-1-03dbce562e3c>, line 1)",
     "output_type": "error",
     "traceback": [
      "\u001b[0;36m  File \u001b[0;32m\"<ipython-input-1-03dbce562e3c>\"\u001b[0;36m, line \u001b[0;32m1\u001b[0m\n\u001b[0;31m    Solution 1: Recursive, combine right and left: 5 lines, 56 ms\u001b[0m\n\u001b[0m             ^\u001b[0m\n\u001b[0;31mSyntaxError\u001b[0m\u001b[0;31m:\u001b[0m invalid syntax\n"
     ]
    }
   ],
   "source": [
    "Solution 1: Recursive, combine right and left: 5 lines, 56 ms\n",
    "\n",
    "Compute the right view of both right and left left subtree, then combine them. For very unbalanced trees, this can be O(n^2), though.\n",
    "\n",
    "def rightSideView(self, root):\n",
    "    if not root:\n",
    "        return []\n",
    "    right = self.rightSideView(root.right)\n",
    "    left = self.rightSideView(root.left)\n",
    "    return [root.val] + right + left[len(right):]\n",
    "Solution 2: Recursive, first come first serve: 9 lines, 48 ms\n",
    "\n",
    "DFS-traverse the tree right-to-left, add values to the view whenever we first reach a new record depth. This is O(n).\n",
    "\n",
    "def rightSideView(self, root):\n",
    "    def collect(node, depth):\n",
    "        if node:\n",
    "            if depth == len(view):\n",
    "                view.append(node.val)\n",
    "            collect(node.right, depth+1)\n",
    "            collect(node.left, depth+1)\n",
    "    view = []\n",
    "    collect(root, 0)\n",
    "    return view\n",
    "Solution 3: Iterative, level-by-level: 7 lines, 48 ms\n",
    "\n",
    "Traverse the tree level by level and add the last value of each level to the view. This is O(n).\n",
    "\n",
    "def rightSideView(self, root):\n",
    "    view = []\n",
    "    if root:\n",
    "        level = [root]\n",
    "        while level:\n",
    "            view += level[-1].val,\n",
    "            level = [kid for node in level for kid in (node.left, node.right) if kid]\n",
    "    return view"
   ]
  },
  {
   "cell_type": "code",
   "execution_count": null,
   "metadata": {},
   "outputs": [],
   "source": []
  }
 ],
 "metadata": {
  "kernelspec": {
   "display_name": "Python 3",
   "language": "python",
   "name": "python3"
  },
  "language_info": {
   "codemirror_mode": {
    "name": "ipython",
    "version": 3
   },
   "file_extension": ".py",
   "mimetype": "text/x-python",
   "name": "python",
   "nbconvert_exporter": "python",
   "pygments_lexer": "ipython3",
   "version": "3.7.4"
  }
 },
 "nbformat": 4,
 "nbformat_minor": 4
}
