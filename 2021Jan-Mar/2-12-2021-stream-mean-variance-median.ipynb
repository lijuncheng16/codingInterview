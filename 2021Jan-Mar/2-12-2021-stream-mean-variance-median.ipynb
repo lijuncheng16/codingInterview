{
 "cells": [
  {
   "cell_type": "code",
   "execution_count": null,
   "metadata": {},
   "outputs": [],
   "source": [
    "Given a stream of numbers, find\n",
    "(a) Mean\n",
    "(b) Variance\n",
    "(c) Median\n",
    "in an online manner, where the number come one by one\n"
   ]
  },
  {
   "cell_type": "code",
   "execution_count": null,
   "metadata": {},
   "outputs": [],
   "source": [
    "def get_mean(data_stream):\n",
    "    mean = 0\n",
    "    sum = 0 \n",
    "    n =0\n",
    "    while(data_stream is True):\n",
    "        next_number = data_stream.next()\n",
    "        n += 1\n",
    "        sum = sum + next_number\n",
    "        mean = sum / (n+1)\n",
    "        return mean \n"
   ]
  },
  {
   "cell_type": "markdown",
   "metadata": {},
   "source": [
    "# variance = E(x)^2 - E(x^2)\n",
    "# variance = \\Sigma_1^n (x_i - mean)^2\n",
    "    "
   ]
  },
  {
   "cell_type": "code",
   "execution_count": null,
   "metadata": {},
   "outputs": [],
   "source": [
    "def get_var(data_stream):\n"
   ]
  },
  {
   "cell_type": "code",
   "execution_count": null,
   "metadata": {},
   "outputs": [],
   "source": [
    "class MedianFinder:\n",
    "import heapq\n",
    "def __init__(self):\n",
    "    \"\"\"\n",
    "    Initialize your data structure here.\n",
    "    \"\"\"\n",
    "    self.small = [] # store the small half, top is the largest in the small part\n",
    "    self.large = [] # store the large half, top is the smallest in the large part\n",
    "\n",
    "def addNum(self, num):\n",
    "    \"\"\"\n",
    "    Adds a num into the data structure.\n",
    "    :type num: int\n",
    "    :rtype: void\n",
    "    \"\"\"\n",
    "    if len(self.small) == 0:\n",
    "        heapq.heappush(self.small, -num)\n",
    "        return\n",
    "    if num <= -self.small[0]:\n",
    "        # push to small part\n",
    "        heapq.heappush(self.small, -num)\n",
    "    else:\n",
    "        # push to large part\n",
    "        heapq.heappush(self.large, num)\n",
    "    # adjust small and large balance\n",
    "    if len(self.small) - len(self.large) == 2:\n",
    "        heapq.heappush(self.large, -heapq.heappop(self.small))\n",
    "    elif len(self.small) - len(self.large) == -2:\n",
    "        heapq.heappush(self.small, -heapq.heappop(self.large))\n",
    "\n",
    "def findMedian(self):\n",
    "    \"\"\"\n",
    "    Returns the median of current data stream\n",
    "    :rtype: float\n",
    "    \"\"\"\n",
    "    if len(self.small) == len(self.large):\n",
    "        return (self.large[0] - self.small[0])/2.0\n",
    "    return -float(self.small[0]) if len(self.small) > len(self.large) else float(self.large[0])"
   ]
  }
 ],
 "metadata": {
  "kernelspec": {
   "display_name": "Python 3",
   "language": "python",
   "name": "python3"
  },
  "language_info": {
   "codemirror_mode": {
    "name": "ipython",
    "version": 3
   },
   "file_extension": ".py",
   "mimetype": "text/x-python",
   "name": "python",
   "nbconvert_exporter": "python",
   "pygments_lexer": "ipython3",
   "version": "3.7.4"
  }
 },
 "nbformat": 4,
 "nbformat_minor": 4
}
