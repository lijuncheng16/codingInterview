{
 "cells": [
  {
   "cell_type": "markdown",
   "metadata": {},
   "source": [
    "There are several cards arranged in a row, and each card has an associated number of points The points are given in the integer array cardPoints.\n",
    "\n",
    "In one step, you can take one card from the beginning or from the end of the row. You have to take exactly k cards.\n",
    "\n",
    "Your score is the sum of the points of the cards you have taken.\n",
    "\n",
    "Given the integer array cardPoints and the integer k, return the maximum score you can obtain.\n",
    "\n",
    " \n",
    "\n",
    "Example 1:\n",
    "\n",
    "Input: cardPoints = [1,2,3,4,5,6,1], k = 3\n",
    "Output: 12\n",
    "Explanation: After the first step, your score will always be 1. However, choosing the rightmost card first will maximize your total score. The optimal strategy is to take the three cards on the right, giving a final score of 1 + 6 + 5 = 12.\n",
    "Example 2:\n",
    "\n",
    "Input: cardPoints = [2,2,2], k = 2\n",
    "Output: 4\n",
    "Explanation: Regardless of which two cards you take, your score will always be 4.\n",
    "Example 3:\n",
    "\n",
    "Input: cardPoints = [9,7,7,9,7,7,9], k = 7\n",
    "Output: 55\n",
    "Explanation: You have to take all the cards. Your score is the sum of points of all cards.\n",
    "Example 4:\n",
    "\n",
    "Input: cardPoints = [1,1000,1], k = 1\n",
    "Output: 1\n",
    "Explanation: You cannot take the card in the middle. Your best score is 1. \n",
    "Example 5:\n",
    "\n",
    "Input: cardPoints = [1,79,80,1,1,1,200,1], k = 3\n",
    "Output: 202\n",
    " \n",
    "\n",
    "Constraints:\n",
    "\n",
    "1 <= cardPoints.length <= 10^5\n",
    "1 <= cardPoints[i] <= 10^4\n",
    "1 <= k <= cardPoints.length"
   ]
  },
  {
   "cell_type": "markdown",
   "metadata": {},
   "source": [
    "# 1423. Maximum Points You Can Obtain from Cards\n"
   ]
  },
  {
   "cell_type": "code",
   "execution_count": null,
   "metadata": {},
   "outputs": [],
   "source": [
    "class Solution:\n",
    "    def maxScore(self, cardPoints: List[int], k: int) -> int:\n",
    "        l_sublist = []\n",
    "        r_sublist = []\n",
    "        l_sum = 0\n",
    "        r_sum = 0\n",
    "        for i in range(k):\n",
    "            l_sum += cardPoints[i]\n",
    "            l_sublist.append(l_sum)\n",
    "            r_sum += cardPoints[-1-i]\n",
    "            r_sublist.append(r_sum)\n",
    "        max_list = []\n",
    "        for i in range(k-1):\n",
    "            max_list.append(max(l_sublist[i]+r_sublist[-2-i],r_sublist[i]+l_sublist[-2-i]) )\n",
    "        max_list.append(max(l_sublist[-1], r_sublist[-1]))\n",
    "        return (max(max_list))"
   ]
  },
  {
   "cell_type": "code",
   "execution_count": 1,
   "metadata": {},
   "outputs": [
    {
     "ename": "SyntaxError",
     "evalue": "invalid syntax (<ipython-input-1-052139537d94>, line 1)",
     "output_type": "error",
     "traceback": [
      "\u001b[0;36m  File \u001b[0;32m\"<ipython-input-1-052139537d94>\"\u001b[0;36m, line \u001b[0;32m1\u001b[0m\n\u001b[0;31m    Best Solution: sliding window\u001b[0m\n\u001b[0m                ^\u001b[0m\n\u001b[0;31mSyntaxError\u001b[0m\u001b[0;31m:\u001b[0m invalid syntax\n"
     ]
    }
   ],
   "source": [
    "Best Solution: sliding window"
   ]
  },
  {
   "cell_type": "code",
   "execution_count": null,
   "metadata": {},
   "outputs": [],
   "source": []
  }
 ],
 "metadata": {
  "kernelspec": {
   "display_name": "Python 3",
   "language": "python",
   "name": "python3"
  },
  "language_info": {
   "codemirror_mode": {
    "name": "ipython",
    "version": 3
   },
   "file_extension": ".py",
   "mimetype": "text/x-python",
   "name": "python",
   "nbconvert_exporter": "python",
   "pygments_lexer": "ipython3",
   "version": "3.7.4"
  }
 },
 "nbformat": 4,
 "nbformat_minor": 4
}
