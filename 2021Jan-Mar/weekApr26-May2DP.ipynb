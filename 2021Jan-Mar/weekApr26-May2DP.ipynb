{
 "cells": [
  {
   "cell_type": "markdown",
   "metadata": {},
   "source": [
    "# 1518. Water Bottles\n"
   ]
  },
  {
   "cell_type": "markdown",
   "metadata": {},
   "source": [
    "Given numBottles full water bottles, you can exchange numExchange empty water bottles for one full water bottle.\n",
    "\n",
    "The operation of drinking a full water bottle turns it into an empty bottle.\n",
    "\n",
    "Return the maximum number of water bottles you can drink."
   ]
  },
  {
   "cell_type": "code",
   "execution_count": 21,
   "metadata": {},
   "outputs": [],
   "source": [
    "numBottles = 15\n",
    "numExchange = 8"
   ]
  },
  {
   "cell_type": "markdown",
   "metadata": {},
   "source": [
    "O(logN):\n",
    "\n",
    "As long as there are no less than numExchange bottles left, we can drink them and use the empty bottles to exchange full bottle(s)."
   ]
  },
  {
   "cell_type": "code",
   "execution_count": 22,
   "metadata": {},
   "outputs": [],
   "source": [
    "class Solution:\n",
    "    def numWaterBottles(self, numBottles: int, numExchange: int) -> int:\n",
    "        num_full = numBottles\n",
    "        num_empty = 0\n",
    "        drunk = 0\n",
    "        while num_full>0:\n",
    "            drunk += num_full\n",
    "            prev_full = num_full\n",
    "            num_full = (prev_full+num_empty) // numExchange \n",
    "            num_empty = (prev_full+num_empty) % numExchange\n",
    "            # print(drunk, num_full, num_empty)\n",
    "        return(drunk)\n",
    "    \n",
    "        "
   ]
  },
  {
   "cell_type": "markdown",
   "metadata": {},
   "source": [
    "O(1):\n",
    "Key observation: A full bottle of water = A empty bottle + One (bottle) unit of water.\n",
    "\n",
    "e.g., for test case: 9, 3:\n",
    "3 empty bottles can exchange 1 full bottle of water implies 3 empty bottles exchange 1 empty bottle + 1 (bottle) unit of water, which in turn means (3 - 1) = 2 empty bottles can exchange 1 (bottle) unit of water.\n",
    "\n",
    "Further more, if you only have 2 empty bottles remaining(the edge case), you can NOT exchange it for 1 (bottle) unit of water.\n",
    "\n",
    "Substitue the number 3 above by numExchange, we get an important conclusion:\n",
    "(numExchange - 1) empty bottles can exchange 1 (bottle) unit of water, unless you have only numExchange left.\n",
    "\n",
    "When we meet edge case we need to minus 1 additionally in the numerator (numBottles - 1)/ (numExchange - 1) to avoid having only numExchange left but unable to exchange 1 bottle of water\n",
    "Note: Under (numExchange - 1) * n condition , we call it edge case\n",
    "\n"
   ]
  },
  {
   "cell_type": "code",
   "execution_count": 24,
   "metadata": {},
   "outputs": [],
   "source": [
    "def numWaterBottles( numBottles: int, numExchange: int) -> int:\n",
    "    return (numBottles*numExchange-1)//(numExchange-1)\n"
   ]
  },
  {
   "cell_type": "code",
   "execution_count": 25,
   "metadata": {},
   "outputs": [
    {
     "data": {
      "text/plain": [
       "17"
      ]
     },
     "execution_count": 25,
     "metadata": {},
     "output_type": "execute_result"
    }
   ],
   "source": [
    "numWaterBottles(numBottles, numExchange)"
   ]
  },
  {
   "cell_type": "raw",
   "metadata": {},
   "source": [
    "This problem is the geometric series.\n",
    "\n",
    "For example, if numExchange = 3, that means for every 3 bottles, we get one back. This can be represented for the first exchange as numBottles * (1/3). For the second exchange, we take the number of bottles left after the first exchange, and multiply by (1/3) again.\n",
    "\n",
    "first = numBottles * (1/3)\n",
    "second = numBottles * (1/3) * (1/3) = numBottles * (1/3)^2\n",
    "nth = numBottles * (1/3) ^ n\n",
    "\n",
    "Summing them up, we get numBottles * (1/3 + 1/9 + ... (1/3)^n), aka the geometric series.\n",
    "\n",
    "https://en.wikipedia.org/wiki/Geometric_series\n",
    "\n",
    "Taking the wiki solution for the geometric series to the nth term, we get a(1-r^n) / (1-r), where r is our (1/numExchange), and n is the number of steps, or 1 + # exchanges we want from the series(counting the 0th exchange as 1), and a = numBottles.\n",
    "\n",
    "n = log_numExchange (numBottles) + 1, the one counting the first term with r^0\n",
    "\n",
    "for example, if we have 9 bottles, and exchange rate of 3, the number of exchanges we can do is equal to the log (base 3) of 9 = 2.\n",
    "\n",
    "In this example, a*r^n = r is demonstrated by 9 * (1/3)^(2+1) = 1/3\n",
    "\n",
    "Simplifying the equation gives:\n",
    "a(1-r^n) / (1-r)\n",
    "= (a - a*r^n) / (1-r)\n",
    "= (a - r) / (1-r)\n",
    "This line here is represented by\n",
    "\n",
    "numBottles-numExchange**-1)//(1 - numExchange**-1)\n",
    "Which annoyingly does not pass all test cases due to floating point precision, so we reduce the number of divisions required by simplifying further, and eliminating the 1/numExchange, until we get\n",
    "\n",
    "return (numBottles*numExchange-1)//(numExchange-1)"
   ]
  },
  {
   "cell_type": "markdown",
   "metadata": {},
   "source": [
    "# 1528. Shuffle String\n"
   ]
  },
  {
   "cell_type": "raw",
   "metadata": {},
   "source": [
    "Given a string s and an integer array indices of the same length.\n",
    "\n",
    "The string s will be shuffled such that the character at the ith position moves to indices[i] in the shuffled string.\n",
    "\n",
    "Return the shuffled string."
   ]
  },
  {
   "cell_type": "code",
   "execution_count": 3,
   "metadata": {},
   "outputs": [],
   "source": [
    "from typing import List"
   ]
  },
  {
   "cell_type": "code",
   "execution_count": 7,
   "metadata": {},
   "outputs": [],
   "source": [
    "\n",
    "def restoreString(s: str, indices: List[int]) -> str:\n",
    "    A = [''] * len(s)\n",
    "    for i, c in zip(indices, s):\n",
    "        A[i] = c\n",
    "    return \"\".join(A)"
   ]
  },
  {
   "cell_type": "code",
   "execution_count": 8,
   "metadata": {},
   "outputs": [],
   "source": [
    "def restoreString(s: str, indices: List[int]) -> str:\n",
    "    pairs = []\n",
    "    for i, indice in enumerate(indices):\n",
    "        # print(i)\n",
    "        pairs.append((indice, s[i]))\n",
    "    # print(sorted(pairs))\n",
    "    result = \"\"\n",
    "    for item in sorted(pairs):\n",
    "        result += item[1]\n",
    "    return result"
   ]
  },
  {
   "cell_type": "code",
   "execution_count": 9,
   "metadata": {},
   "outputs": [],
   "source": [
    "s =\"codeleet\"\n",
    "indices = [4,5,6,7,0,2,1,3]"
   ]
  },
  {
   "cell_type": "code",
   "execution_count": 10,
   "metadata": {},
   "outputs": [
    {
     "data": {
      "text/plain": [
       "'leetcode'"
      ]
     },
     "execution_count": 10,
     "metadata": {},
     "output_type": "execute_result"
    }
   ],
   "source": [
    "restoreString(s, indices)"
   ]
  },
  {
   "cell_type": "markdown",
   "metadata": {},
   "source": [
    "# Dynamic programming review"
   ]
  },
  {
   "cell_type": "markdown",
   "metadata": {},
   "source": [
    "# 76. Minimum Window Substring\n"
   ]
  },
  {
   "cell_type": "raw",
   "metadata": {},
   "source": [
    "Given two strings s and t, return the minimum window in s which will contain all the characters in t. If there is no such window in s that covers all characters in t, return the empty string \"\".\n",
    "\n",
    "Note that If there is such a window, it is guaranteed that there will always be only one unique minimum window in s."
   ]
  },
  {
   "cell_type": "code",
   "execution_count": 12,
   "metadata": {},
   "outputs": [
    {
     "ename": "SyntaxError",
     "evalue": "unexpected EOF while parsing (<ipython-input-12-cea7b647e6d5>, line 1)",
     "output_type": "error",
     "traceback": [
      "\u001b[0;36m  File \u001b[0;32m\"<ipython-input-12-cea7b647e6d5>\"\u001b[0;36m, line \u001b[0;32m1\u001b[0m\n\u001b[0;31m    def minWindow(self, s: str, t: str) -> str:\u001b[0m\n\u001b[0m                                               ^\u001b[0m\n\u001b[0;31mSyntaxError\u001b[0m\u001b[0;31m:\u001b[0m unexpected EOF while parsing\n"
     ]
    }
   ],
   "source": [
    "def minWindow(s: str, t: str) -> str:\n",
    "    "
   ]
  },
  {
   "cell_type": "code",
   "execution_count": null,
   "metadata": {},
   "outputs": [],
   "source": []
  },
  {
   "cell_type": "code",
   "execution_count": null,
   "metadata": {},
   "outputs": [],
   "source": [
    "s = \"ADOBECODEBANC\"\n",
    "t = \"ABC\" #return \"BANC\""
   ]
  },
  {
   "cell_type": "code",
   "execution_count": null,
   "metadata": {},
   "outputs": [],
   "source": [
    "Input: s = \"a\", t = \"a\"\n",
    "Output: \"a\""
   ]
  },
  {
   "cell_type": "code",
   "execution_count": 44,
   "metadata": {},
   "outputs": [],
   "source": [
    "def Merge(dict1, dict2):\n",
    "    dict3 = {**dict1, **dict2}\n",
    "    for key, value in dict3.items():\n",
    "        if key in dict1 and key in dict2:\n",
    "            if dict1[key]['afil'] != dict2[key]['afil']:\n",
    "                dict3[key]['afil'] = [dict1[key]['afil'], dict2[key]['afil']]\n",
    "            dict3[key]['paper'] = [*dict1[key]['paper'], *dict2[key]['paper']]\n",
    "    return dict3\n"
   ]
  },
  {
   "cell_type": "code",
   "execution_count": 45,
   "metadata": {},
   "outputs": [
    {
     "name": "stdout",
     "output_type": "stream",
     "text": [
      "{'x': {'afil': 'cmu', 'paper': ['2222']}, 'y': {'afil': 'stanford', 'paper': ['2223']}, 'a': {'afil': 'google', 'paper': ['2222', '2221']}}\n",
      "{'x': {'afil': 'cmu', 'paper': ['3000']}, 'b': {'afil': 'google', 'paper': ['2223']}}\n",
      "{'x': {'afil': 'cmu', 'paper': ['2222', '3000']}, 'y': {'afil': 'stanford', 'paper': ['2223']}, 'a': {'afil': 'google', 'paper': ['2222', '2221']}, 'b': {'afil': 'google', 'paper': ['2223']}}\n"
     ]
    }
   ],
   "source": [
    "# Driver code\n",
    "dict1 = {'x': {'afil': 'cmu', 'paper': ['2222']}, 'y': {'afil': 'stanford', 'paper': ['2223']}, 'a':{'afil': 'google', 'paper': ['2222','2221']}}\n",
    "dict2 = {'x': {'afil': 'cmu', 'paper': ['3000']}, 'b': {'afil': 'google', 'paper': ['2223']}}\n",
    "print(dict1)\n",
    "print(dict2)\n",
    "dict3 = Merge(dict1, dict2)\n",
    "\n",
    "print(dict3)"
   ]
  },
  {
   "cell_type": "code",
   "execution_count": null,
   "metadata": {},
   "outputs": [],
   "source": []
  },
  {
   "cell_type": "code",
   "execution_count": null,
   "metadata": {},
   "outputs": [],
   "source": []
  }
 ],
 "metadata": {
  "kernelspec": {
   "display_name": "Python 3",
   "language": "python",
   "name": "python3"
  },
  "language_info": {
   "codemirror_mode": {
    "name": "ipython",
    "version": 3
   },
   "file_extension": ".py",
   "mimetype": "text/x-python",
   "name": "python",
   "nbconvert_exporter": "python",
   "pygments_lexer": "ipython3",
   "version": "3.7.3"
  }
 },
 "nbformat": 4,
 "nbformat_minor": 4
}
