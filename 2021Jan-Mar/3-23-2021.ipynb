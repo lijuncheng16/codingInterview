{
 "cells": [
  {
   "cell_type": "markdown",
   "metadata": {},
   "source": [
    "1249. Minimum Remove to Make Valid Parentheses\n",
    "\n",
    "Given a string s of '(' , ')' and lowercase English characters. \n",
    "\n",
    "Your task is to remove the minimum number of parentheses ( '(' or ')', in any positions ) so that the resulting parentheses string is valid and return any valid string.\n",
    "\n",
    "Formally, a parentheses string is valid if and only if:\n",
    "\n",
    "It is the empty string, contains only lowercase characters, or\n",
    "It can be written as AB (A concatenated with B), where A and B are valid strings, or\n",
    "It can be written as (A), where A is a valid string."
   ]
  },
  {
   "cell_type": "code",
   "execution_count": 2,
   "metadata": {},
   "outputs": [],
   "source": [
    "def minRemoveToMakeValid(s: str) -> str:\n",
    "    stack = []\n",
    "    if s == \"\":\n",
    "        return \"\"\n",
    "    for ind, char in enumerate(s):\n",
    "        # print(stack)\n",
    "        if char == \"(\":\n",
    "            stack.append((\"(\", ind))\n",
    "        elif char == \")\":\n",
    "            if stack == []:\n",
    "                stack.append((\")\", ind))\n",
    "            else:\n",
    "                prev_val = stack.pop()\n",
    "                if prev_val[0] == \"(\":\n",
    "                    continue\n",
    "                elif prev_val[0] ==\")\":\n",
    "                    stack.append(prev_val)\n",
    "                    stack.append((\")\", ind))\n",
    "    # print(stack)\n",
    "    if stack != []:\n",
    "        result = s\n",
    "        for item in reversed(stack):\n",
    "            ind = item[1]\n",
    "            result = result[:ind]+result[ind+1:]\n",
    "        return result\n",
    "    else: \n",
    "        return s"
   ]
  },
  {
   "cell_type": "code",
   "execution_count": 3,
   "metadata": {},
   "outputs": [],
   "source": [
    "s = \"lee(t(c)o)de)\""
   ]
  },
  {
   "cell_type": "code",
   "execution_count": 4,
   "metadata": {},
   "outputs": [
    {
     "data": {
      "text/plain": [
       "'lee(t(c)o)de'"
      ]
     },
     "execution_count": 4,
     "metadata": {},
     "output_type": "execute_result"
    }
   ],
   "source": [
    "minRemoveToMakeValid(s)"
   ]
  },
  {
   "cell_type": "code",
   "execution_count": null,
   "metadata": {},
   "outputs": [],
   "source": [
    "3. Longest Substring Without Repeating Characters\n"
   ]
  },
  {
   "cell_type": "code",
   "execution_count": 19,
   "metadata": {},
   "outputs": [],
   "source": [
    "def lengthOfLongestSubstring(s):\n",
    "    start = maxLength = 0\n",
    "    usedChar = {}\n",
    "\n",
    "    for i in range(len(s)):\n",
    "        print(usedChar, maxLength, start)\n",
    "        if s[i] in usedChar and start <= usedChar[s[i]]:\n",
    "            start = usedChar[s[i]] + 1\n",
    "        else:\n",
    "            maxLength = max(maxLength, i - start + 1)\n",
    "\n",
    "        usedChar[s[i]] = i\n",
    "\n",
    "    return maxLength"
   ]
  },
  {
   "cell_type": "code",
   "execution_count": 20,
   "metadata": {},
   "outputs": [],
   "source": [
    "st = \"ababcbb\""
   ]
  },
  {
   "cell_type": "code",
   "execution_count": 21,
   "metadata": {},
   "outputs": [
    {
     "name": "stdout",
     "output_type": "stream",
     "text": [
      "{} 0 0\n",
      "{'a': 0} 1 0\n",
      "{'a': 0, 'b': 1} 2 0\n",
      "{'a': 2, 'b': 1} 2 1\n",
      "{'a': 2, 'b': 3} 2 2\n",
      "{'a': 2, 'b': 3, 'c': 4} 3 2\n",
      "{'a': 2, 'b': 5, 'c': 4} 3 4\n"
     ]
    },
    {
     "data": {
      "text/plain": [
       "3"
      ]
     },
     "execution_count": 21,
     "metadata": {},
     "output_type": "execute_result"
    }
   ],
   "source": [
    "lengthOfLongestSubstring(st)"
   ]
  },
  {
   "cell_type": "code",
   "execution_count": 24,
   "metadata": {},
   "outputs": [],
   "source": [
    "def lengthOfLongestSubstring(s):\n",
    "    used = {}\n",
    "    max_length = start = 0\n",
    "    for i, c in enumerate(s):\n",
    "        print(f'{used} max_len:{max_length} start:{start}')\n",
    "        if c in used and start <= used[c]:\n",
    "            start = used[c] + 1\n",
    "        else:\n",
    "            max_length = max(max_length, i - start + 1)\n",
    "            \n",
    "        used[c] = i\n",
    "\n",
    "    \n",
    "    return max_length"
   ]
  },
  {
   "cell_type": "code",
   "execution_count": 26,
   "metadata": {},
   "outputs": [
    {
     "name": "stdout",
     "output_type": "stream",
     "text": [
      "{} max_len:0 start:0\n",
      "{'a': 0} max_len:1 start:0\n",
      "{'a': 0, 'b': 1} max_len:2 start:0\n",
      "{'a': 2, 'b': 1} max_len:2 start:1\n",
      "{'a': 2, 'b': 3} max_len:2 start:2\n",
      "{'a': 2, 'b': 3, 'c': 4} max_len:3 start:2\n",
      "{'a': 2, 'b': 5, 'c': 4} max_len:3 start:4\n"
     ]
    },
    {
     "data": {
      "text/plain": [
       "3"
      ]
     },
     "execution_count": 26,
     "metadata": {},
     "output_type": "execute_result"
    }
   ],
   "source": [
    "lengthOfLongestSubstring(st)"
   ]
  },
  {
   "cell_type": "code",
   "execution_count": 27,
   "metadata": {},
   "outputs": [],
   "source": [
    "test=\"pwwkew\""
   ]
  },
  {
   "cell_type": "code",
   "execution_count": 28,
   "metadata": {},
   "outputs": [
    {
     "name": "stdout",
     "output_type": "stream",
     "text": [
      "{} max_len:0 start:0\n",
      "{'p': 0} max_len:1 start:0\n",
      "{'p': 0, 'w': 1} max_len:2 start:0\n",
      "{'p': 0, 'w': 2} max_len:2 start:2\n",
      "{'p': 0, 'w': 2, 'k': 3} max_len:2 start:2\n",
      "{'p': 0, 'w': 2, 'k': 3, 'e': 4} max_len:3 start:2\n"
     ]
    },
    {
     "data": {
      "text/plain": [
       "3"
      ]
     },
     "execution_count": 28,
     "metadata": {},
     "output_type": "execute_result"
    }
   ],
   "source": [
    "lengthOfLongestSubstring(test)"
   ]
  },
  {
   "cell_type": "markdown",
   "metadata": {},
   "source": [
    "# 1428. Leftmost Column with at Least a One\n"
   ]
  },
  {
   "cell_type": "markdown",
   "metadata": {},
   "source": [
    "(This problem is an interactive problem.)\n",
    "\n",
    "A row-sorted binary matrix means that all elements are 0 or 1 and each row of the matrix is sorted in non-decreasing order.\n",
    "\n",
    "Given a row-sorted binary matrix binaryMatrix, return the index (0-indexed) of the leftmost column with a 1 in it. If such an index does not exist, return -1.\n",
    "\n",
    "You can't access the Binary Matrix directly. You may only access the matrix using a BinaryMatrix interface:\n",
    "\n",
    "BinaryMatrix.get(row, col) returns the element of the matrix at index (row, col) (0-indexed).\n",
    "BinaryMatrix.dimensions() returns the dimensions of the matrix as a list of 2 elements [rows, cols], which means the matrix is rows x cols.\n",
    "Submissions making more than 1000 calls to BinaryMatrix.get will be judged Wrong Answer. Also, any solutions that attempt to circumvent the judge will result in disqualification.\n",
    "\n",
    "For custom testing purposes, the input will be the entire binary matrix mat. You will not have access to the binary matrix directly."
   ]
  },
  {
   "cell_type": "code",
   "execution_count": null,
   "metadata": {},
   "outputs": [],
   "source": [
    "class Solution:\n",
    "    def leftMostColumnWithOne(self, binaryMatrix: 'BinaryMatrix') -> int:\n",
    "        \n",
    "        rows, cols = binaryMatrix.dimensions()\n",
    "        \n",
    "        # Set pointers to the top-right corner.\n",
    "        current_row = 0\n",
    "        current_col = cols - 1\n",
    "        \n",
    "        # Repeat the search until it goes off the grid.\n",
    "        while current_row < rows and current_col >= 0:\n",
    "            if binaryMatrix.get(current_row, current_col) == 0:\n",
    "                current_row += 1\n",
    "            else:\n",
    "                current_col -= 1\n",
    "        \n",
    "        # If we never left the last column, it must have been all 0's.\n",
    "        return current_col + 1 if current_col != cols - 1 else -1"
   ]
  },
  {
   "cell_type": "code",
   "execution_count": 29,
   "metadata": {},
   "outputs": [],
   "source": [
    "# \"\"\"\n",
    "# This is BinaryMatrix's API interface.\n",
    "# You should not implement it, or speculate about its implementation\n",
    "# \"\"\"\n",
    "#class BinaryMatrix(object):\n",
    "#    def get(self, row: int, col: int) -> int:\n",
    "#    def dimensions(self) -> list[]:\n",
    "\n",
    "class Solution:\n",
    "    def leftMostColumnWithOne(self, binaryMatrix: 'BinaryMatrix') -> int:\n",
    "        [row_num,col_num] = binaryMatrix.dimensions()\n",
    "        print (row_num, col_num)\n",
    "        min_col = col_num\n",
    "        for i in range(row_num):\n",
    "            #binary search\n",
    "            left = 0\n",
    "            right = col_num-1\n",
    "            mid = left + (right-left)//2\n",
    "            if binaryMatrix.get(i,right) == 0:\n",
    "                continue\n",
    "            else:\n",
    "                while left < right:\n",
    "                    mid = left + (right-left)//2\n",
    "                    if right-left<= 1:\n",
    "                        break\n",
    "                    if binaryMatrix.get(i, mid) == 1:\n",
    "                        right = mid\n",
    "                    else:\n",
    "                        left = mid\n",
    "            if binaryMatrix.get(i,mid) == 1:\n",
    "                min_col = min(mid, min_col)\n",
    "            else:\n",
    "                min_col = min(mid+1, min_col)\n",
    "            print(f'row:{i},mid:{mid},min_col:{min_col}')\n",
    "        if min_col == col_num:\n",
    "            return -1\n",
    "        else:\n",
    "            return min_col\n",
    "        # ele = binaryMatrix.get(2,0)\n",
    "        # print(dim)\n",
    "        # print(ele)"
   ]
  },
  {
   "cell_type": "code",
   "execution_count": null,
   "metadata": {},
   "outputs": [],
   "source": [
    "class Solution:\n",
    "    def leftMostColumnWithOne(self, binaryMatrix: 'BinaryMatrix') -> int:\n",
    "        rows, cols = binaryMatrix.dimensions()\n",
    "        smallest_index = cols\n",
    "        for row in range(rows):\n",
    "            # Binary Search for the first 1 in the row.\n",
    "            lo = 0\n",
    "            hi = cols - 1\n",
    "            while lo < hi:\n",
    "                mid = (lo + hi) // 2\n",
    "                if binaryMatrix.get(row, mid) == 0:\n",
    "                    lo = mid + 1\n",
    "                else:\n",
    "                    hi = mid\n",
    "            # If the last element in the search space is a 1, then this row\n",
    "            # contained a 1.\n",
    "            if binaryMatrix.get(row, lo) == 1:\n",
    "                smallest_index = min(smallest_index, lo)\n",
    "        # If smallest_index is still set to cols, then there were no 1's in \n",
    "        # the grid. \n",
    "        return -1 if smallest_index == cols else smallest_index"
   ]
  }
 ],
 "metadata": {
  "kernelspec": {
   "display_name": "Python 3",
   "language": "python",
   "name": "python3"
  },
  "language_info": {
   "codemirror_mode": {
    "name": "ipython",
    "version": 3
   },
   "file_extension": ".py",
   "mimetype": "text/x-python",
   "name": "python",
   "nbconvert_exporter": "python",
   "pygments_lexer": "ipython3",
   "version": "3.8.5"
  }
 },
 "nbformat": 4,
 "nbformat_minor": 4
}
