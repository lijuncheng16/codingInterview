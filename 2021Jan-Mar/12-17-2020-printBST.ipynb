{
 "cells": [
  {
   "cell_type": "code",
   "execution_count": 42,
   "metadata": {},
   "outputs": [],
   "source": [
    "class TreeNode:\n",
    "    def __init__(self, val=0, left=None, right=None):\n",
    "        self.val = val\n",
    "        self.left = left\n",
    "        self.right = right"
   ]
  },
  {
   "cell_type": "code",
   "execution_count": 43,
   "metadata": {},
   "outputs": [],
   "source": [
    "root = TreeNode(1)\n",
    "root.left = TreeNode(2)\n",
    "root.right = TreeNode(3)\n",
    "root.right.right = TreeNode(7)\n",
    "root.right.left = TreeNode(6)\n",
    "root.left.right = TreeNode(5)\n",
    "root.left.left = TreeNode(4)\n"
   ]
  },
  {
   "cell_type": "code",
   "execution_count": 44,
   "metadata": {},
   "outputs": [
    {
     "name": "stdout",
     "output_type": "stream",
     "text": [
      "1\n"
     ]
    }
   ],
   "source": [
    "print(root.val)"
   ]
  },
  {
   "cell_type": "code",
   "execution_count": 45,
   "metadata": {},
   "outputs": [],
   "source": [
    "from typing import List"
   ]
  },
  {
   "cell_type": "markdown",
   "metadata": {},
   "source": [
    "## Given the root of a binary tree, return the postorder traversal of its nodes' values.\n",
    "- postorder: left right root\n",
    "- preorder root left right\n",
    "- inorder left root right"
   ]
  },
  {
   "cell_type": "markdown",
   "metadata": {},
   "source": [
    "            1\n",
    "           / \\\n",
    "          2    3\n",
    "         / \\  / \\\n",
    "        4  5 6   7\n"
   ]
  },
  {
   "cell_type": "code",
   "execution_count": 47,
   "metadata": {},
   "outputs": [],
   "source": [
    "def postorderTraversal(root: TreeNode) -> List[int]:\n",
    "        output = []\n",
    "        dfs(root, output)\n",
    "        return output"
   ]
  },
  {
   "cell_type": "code",
   "execution_count": 48,
   "metadata": {},
   "outputs": [],
   "source": [
    "def dfs(root: TreeNode, output):\n",
    "    if root is None:\n",
    "        return 0\n",
    "    dfs(root.left, output)\n",
    "    dfs(root.right, output)\n",
    "    print(root.val, output)\n",
    "    output.append(root.val)"
   ]
  },
  {
   "cell_type": "code",
   "execution_count": 49,
   "metadata": {},
   "outputs": [
    {
     "name": "stdout",
     "output_type": "stream",
     "text": [
      "4 []\n",
      "5 [4]\n",
      "2 [4, 5]\n",
      "6 [4, 5, 2]\n",
      "7 [4, 5, 2, 6]\n",
      "3 [4, 5, 2, 6, 7]\n",
      "1 [4, 5, 2, 6, 7, 3]\n"
     ]
    },
    {
     "data": {
      "text/plain": [
       "[4, 5, 2, 6, 7, 3, 1]"
      ]
     },
     "execution_count": 49,
     "metadata": {},
     "output_type": "execute_result"
    }
   ],
   "source": [
    "postorderTraversal(root)"
   ]
  },
  {
   "cell_type": "code",
   "execution_count": 50,
   "metadata": {},
   "outputs": [],
   "source": [
    "def preorderTraversal(root: TreeNode) -> List[int]:\n",
    "        output = []\n",
    "        dfs_preorder(root, output)\n",
    "        return output"
   ]
  },
  {
   "cell_type": "code",
   "execution_count": 51,
   "metadata": {},
   "outputs": [],
   "source": [
    "def dfs_preorder(root: TreeNode, output):\n",
    "    if root is None:\n",
    "        return 0\n",
    "    output.append(root.val)\n",
    "    dfs_preorder(root.left, output)\n",
    "    dfs_preorder(root.right, output)\n",
    "    print(root.val, output)\n"
   ]
  },
  {
   "cell_type": "code",
   "execution_count": 52,
   "metadata": {},
   "outputs": [
    {
     "name": "stdout",
     "output_type": "stream",
     "text": [
      "4 [1, 2, 4]\n",
      "5 [1, 2, 4, 5]\n",
      "2 [1, 2, 4, 5]\n",
      "6 [1, 2, 4, 5, 3, 6]\n",
      "7 [1, 2, 4, 5, 3, 6, 7]\n",
      "3 [1, 2, 4, 5, 3, 6, 7]\n",
      "1 [1, 2, 4, 5, 3, 6, 7]\n"
     ]
    },
    {
     "data": {
      "text/plain": [
       "[1, 2, 4, 5, 3, 6, 7]"
      ]
     },
     "execution_count": 52,
     "metadata": {},
     "output_type": "execute_result"
    }
   ],
   "source": [
    "preorderTraversal(root)"
   ]
  },
  {
   "cell_type": "code",
   "execution_count": 85,
   "metadata": {},
   "outputs": [],
   "source": [
    "def inorderTraversal(root: TreeNode) -> List[int]:\n",
    "        output = []\n",
    "        dfs_inorder(root, output)\n",
    "        return output"
   ]
  },
  {
   "cell_type": "code",
   "execution_count": 86,
   "metadata": {},
   "outputs": [],
   "source": [
    "def dfs_inorder(root: TreeNode, output):\n",
    "    if root is None:\n",
    "        return 0\n",
    "    dfs_inorder(root.left, output)\n",
    "    output.append(root.val)\n",
    "    dfs_inorder(root.right, output)\n",
    "    print(root.val, output)\n"
   ]
  },
  {
   "cell_type": "code",
   "execution_count": 87,
   "metadata": {},
   "outputs": [
    {
     "name": "stdout",
     "output_type": "stream",
     "text": [
      "4 [4]\n",
      "5 [4, 2, 5]\n",
      "2 [4, 2, 5]\n",
      "6 [4, 2, 5, 1, 6]\n",
      "7 [4, 2, 5, 1, 6, 3, 7]\n",
      "3 [4, 2, 5, 1, 6, 3, 7]\n",
      "1 [4, 2, 5, 1, 6, 3, 7]\n"
     ]
    },
    {
     "data": {
      "text/plain": [
       "[4, 2, 5, 1, 6, 3, 7]"
      ]
     },
     "execution_count": 87,
     "metadata": {},
     "output_type": "execute_result"
    }
   ],
   "source": [
    "inorderTraversal(root)"
   ]
  },
  {
   "cell_type": "markdown",
   "metadata": {},
   "source": [
    "# Get Height of Binary Tree:"
   ]
  },
  {
   "cell_type": "code",
   "execution_count": 53,
   "metadata": {},
   "outputs": [],
   "source": [
    "def bt_height(root: TreeNode) -> int:\n",
    "    if root is None:\n",
    "        return 0\n",
    "    left_height = bt_height(root.left)\n",
    "    right_height = bt_height(root.right)\n",
    "    return (max(left_height, right_height)+1)"
   ]
  },
  {
   "cell_type": "code",
   "execution_count": 54,
   "metadata": {},
   "outputs": [
    {
     "data": {
      "text/plain": [
       "3"
      ]
     },
     "execution_count": 54,
     "metadata": {},
     "output_type": "execute_result"
    }
   ],
   "source": [
    "bt_height(root)"
   ]
  },
  {
   "cell_type": "markdown",
   "metadata": {},
   "source": [
    "# use stack to implement BT traverse"
   ]
  },
  {
   "cell_type": "code",
   "execution_count": 55,
   "metadata": {},
   "outputs": [],
   "source": [
    "def dfs_preorder_stack(root: TreeNode) -> List[int]:\n",
    "    if not root:\n",
    "        return []\n",
    "    result = []\n",
    "    stack = [root]\n",
    "    while stack:\n",
    "        node = stack.pop()\n",
    "        result.append(node.val)\n",
    "        if node.right is not None:\n",
    "            stack.append(node.right)\n",
    "        if node.left is not None:\n",
    "            stack.append(node.left)\n",
    "    return result\n",
    "\n",
    "    "
   ]
  },
  {
   "cell_type": "code",
   "execution_count": 56,
   "metadata": {},
   "outputs": [
    {
     "data": {
      "text/plain": [
       "[1, 2, 4, 5, 3, 6, 7]"
      ]
     },
     "execution_count": 56,
     "metadata": {},
     "output_type": "execute_result"
    }
   ],
   "source": [
    "dfs_preorder_stack(root)"
   ]
  },
  {
   "cell_type": "markdown",
   "metadata": {},
   "source": [
    "1. Push root to first stack.\n",
    "2. Loop while first stack is not empty\n",
    "\n",
    "   - Pop a node from first stack and push it to second stack\n",
    "   - Push left and right children of the popped node to first stack\n",
    "   \n",
    "3. Print contents of second stack"
   ]
  },
  {
   "cell_type": "code",
   "execution_count": 67,
   "metadata": {},
   "outputs": [],
   "source": [
    "def dfs_postorder_stack(root: TreeNode) -> List[int]:\n",
    "    if not root:\n",
    "        return []\n",
    "    stack1 = [root]\n",
    "    stack2 = []\n",
    "    counter = 0\n",
    "    while stack1:\n",
    "        node = stack1.pop()\n",
    "        stack2.append(node)\n",
    "        if node.left is not None:\n",
    "            stack1.append(node.left)\n",
    "        if node.right is not None:\n",
    "            stack1.append(node.right)\n",
    "#         result.append(node.val)\n",
    "        stack1_print = []\n",
    "        stack2_print = []\n",
    "        for item in stack2:\n",
    "            stack2_print.append(item.val) \n",
    "        print(f'stack2:{stack2_print}')\n",
    "        for item in stack1:\n",
    "            stack1_print.append(item.val) \n",
    "        print(f'stack1:{stack1_print}')\n",
    "        print(f'counter: {counter}')\n",
    "        counter +=1 \n",
    "    result = []\n",
    "    while stack2:\n",
    "        node = stack2.pop()\n",
    "        result.append(node.val)\n",
    "    return result"
   ]
  },
  {
   "cell_type": "code",
   "execution_count": 68,
   "metadata": {},
   "outputs": [
    {
     "name": "stdout",
     "output_type": "stream",
     "text": [
      "stack2:[1]\n",
      "stack1:[2, 3]\n",
      "counter: 0\n",
      "stack2:[1, 3]\n",
      "stack1:[2, 6, 7]\n",
      "counter: 1\n",
      "stack2:[1, 3, 7]\n",
      "stack1:[2, 6]\n",
      "counter: 2\n",
      "stack2:[1, 3, 7, 6]\n",
      "stack1:[2]\n",
      "counter: 3\n",
      "stack2:[1, 3, 7, 6, 2]\n",
      "stack1:[4, 5]\n",
      "counter: 4\n",
      "stack2:[1, 3, 7, 6, 2, 5]\n",
      "stack1:[4]\n",
      "counter: 5\n",
      "stack2:[1, 3, 7, 6, 2, 5, 4]\n",
      "stack1:[]\n",
      "counter: 6\n"
     ]
    },
    {
     "data": {
      "text/plain": [
       "[4, 5, 2, 6, 7, 3, 1]"
      ]
     },
     "execution_count": 68,
     "metadata": {},
     "output_type": "execute_result"
    }
   ],
   "source": [
    "dfs_postorder_stack(root)"
   ]
  },
  {
   "cell_type": "markdown",
   "metadata": {},
   "source": [
    "1.1 Create an empty stack\n",
    "\n",
    "2.1 Do following while root is not NULL\n",
    "    a) Push root's right child and then root to stack.\n",
    "    b) Set root as root's left child.\n",
    "    \n",
    "2.2 Pop an item from stack and set it as root.\n",
    "    - If the popped item has a right child and the right child \n",
    "       is at top of stack, then remove the right child from stack,\n",
    "       push the root back and set root as root's right child.\n",
    "    - Else print root's data and set root as NULL.\n",
    "    \n",
    "2.3 Repeat steps 2.1 and 2.2 while stack is not empty.\n",
    "        1\n",
    "       / \\\n",
    "      2    3\n",
    "     / \\  / \\\n",
    "    4  5 6   7"
   ]
  },
  {
   "cell_type": "markdown",
   "metadata": {},
   "source": [
    "# This shit is hard to understand!"
   ]
  },
  {
   "cell_type": "code",
   "execution_count": 74,
   "metadata": {},
   "outputs": [],
   "source": [
    "def peek(stack): \n",
    "    if len(stack) > 0: \n",
    "        return stack[-1] \n",
    "    return None"
   ]
  },
  {
   "cell_type": "markdown",
   "metadata": {},
   "source": [
    "Need the above function otherwise things go out of bound"
   ]
  },
  {
   "cell_type": "code",
   "execution_count": 79,
   "metadata": {},
   "outputs": [],
   "source": [
    "def dfs_postorder_stack2(root: TreeNode) -> List[int]:\n",
    "    if not root:\n",
    "        return []\n",
    "    stack = []\n",
    "    result = []\n",
    "    counter = 0\n",
    "    while True:\n",
    "        while root is not None:\n",
    "            # Push root's right child and then root to stack \n",
    "            if(root.right) is not None:\n",
    "                stack.append(root.right)\n",
    "            stack.append(root)\n",
    "            # Set root as root's left child \n",
    "            root = root.left \n",
    "        # Pop an item from stack and set it as root \n",
    "                    \n",
    "        stack_print = []\n",
    "        for item in stack:\n",
    "            stack_print.append(item.val) \n",
    "        print(f'stack:{stack_print}, counter: {counter}')\n",
    "\n",
    "        root = stack.pop()\n",
    "        if (root.right is not None and peek(stack) == root.right): \n",
    "            print(root.val)\n",
    "            stack.pop() # Remove right child from stack \n",
    "            stack.append(root) # Push root back to stack \n",
    "            root = root.right # change root so that the \n",
    "                                    # righ childis processed next \n",
    "\n",
    "        # Else print root's data and set root as None \n",
    "        else:\n",
    "            result.append(root.val) \n",
    "            root = None\n",
    "        counter += 1\n",
    "        if (len(stack) <= 0): \n",
    "                        break\n",
    "\n",
    "        \n",
    "    return result"
   ]
  },
  {
   "cell_type": "code",
   "execution_count": 80,
   "metadata": {},
   "outputs": [
    {
     "name": "stdout",
     "output_type": "stream",
     "text": [
      "stack:[3, 1, 5, 2, 4], counter: 0\n",
      "stack:[3, 1, 5, 2], counter: 1\n",
      "2\n",
      "stack:[3, 1, 2, 5], counter: 2\n",
      "stack:[3, 1, 2], counter: 3\n",
      "stack:[3, 1], counter: 4\n",
      "1\n",
      "stack:[1, 7, 3, 6], counter: 5\n",
      "stack:[1, 7, 3], counter: 6\n",
      "3\n",
      "stack:[1, 3, 7], counter: 7\n",
      "stack:[1, 3], counter: 8\n",
      "stack:[1], counter: 9\n"
     ]
    },
    {
     "data": {
      "text/plain": [
       "[4, 5, 2, 6, 7, 3, 1]"
      ]
     },
     "execution_count": 80,
     "metadata": {},
     "output_type": "execute_result"
    }
   ],
   "source": [
    "dfs_postorder_stack2(root)"
   ]
  },
  {
   "cell_type": "markdown",
   "metadata": {},
   "source": [
    "1) Create an empty stack S.\n",
    "2) Initialize current node as root\n",
    "3) Push the current node to S and set current = current->left until current is NULL\n",
    "4) If current is NULL and stack is not empty then \n",
    "     a) Pop the top item from stack.\n",
    "     b) Print the popped item, set current = popped_item->right \n",
    "     c) Go to step 3.\n",
    "5) If current is NULL and stack is empty then we are done."
   ]
  },
  {
   "cell_type": "code",
   "execution_count": 94,
   "metadata": {},
   "outputs": [],
   "source": [
    "def dfs_inorder_stack(root: TreeNode) -> List[int]:\n",
    "    if not root:\n",
    "        return []\n",
    "    result = []\n",
    "    stack = []\n",
    "    curr = root\n",
    "    while True:\n",
    "        while curr is not None:\n",
    "            stack.append(curr)\n",
    "            curr = curr.left\n",
    "        if curr is None and stack:\n",
    "            node = stack.pop()\n",
    "            print(node.val)\n",
    "            curr = node.right\n",
    "            result.append(node.val)\n",
    "        if curr is None and stack ==[]:\n",
    "            break\n",
    "    return result"
   ]
  },
  {
   "cell_type": "code",
   "execution_count": 95,
   "metadata": {},
   "outputs": [
    {
     "name": "stdout",
     "output_type": "stream",
     "text": [
      "4\n",
      "2\n",
      "5\n",
      "1\n",
      "6\n",
      "3\n",
      "7\n"
     ]
    },
    {
     "data": {
      "text/plain": [
       "[4, 2, 5, 1, 6, 3, 7]"
      ]
     },
     "execution_count": 95,
     "metadata": {},
     "output_type": "execute_result"
    }
   ],
   "source": [
    "dfs_inorder_stack(root)"
   ]
  },
  {
   "cell_type": "code",
   "execution_count": null,
   "metadata": {},
   "outputs": [],
   "source": []
  }
 ],
 "metadata": {
  "kernelspec": {
   "display_name": "Python 3",
   "language": "python",
   "name": "python3"
  },
  "language_info": {
   "codemirror_mode": {
    "name": "ipython",
    "version": 3
   },
   "file_extension": ".py",
   "mimetype": "text/x-python",
   "name": "python",
   "nbconvert_exporter": "python",
   "pygments_lexer": "ipython3",
   "version": "3.8.5"
  }
 },
 "nbformat": 4,
 "nbformat_minor": 4
}
