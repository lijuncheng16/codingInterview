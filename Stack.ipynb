{
 "cells": [
  {
   "cell_type": "markdown",
   "metadata": {},
   "source": [
    "# 155. Min Stack\n"
   ]
  },
  {
   "cell_type": "markdown",
   "metadata": {},
   "source": [
    "My quick solution passes the check within 5 minutes of writing"
   ]
  },
  {
   "cell_type": "code",
   "execution_count": null,
   "metadata": {},
   "outputs": [],
   "source": [
    "                                                                                                                                                                                                                                                                                                    class MinStack:\n",
    "\n",
    "    def __init__(self):\n",
    "        \"\"\"\n",
    "        initialize your data structure here.\n",
    "        \"\"\"\n",
    "        self.data = []\n",
    "\n",
    "    def push(self, val: int) -> None:\n",
    "        self.data.append(val)\n",
    "\n",
    "    def pop(self) -> None:\n",
    "        self.data.pop()\n",
    "\n",
    "    def top(self) -> int:\n",
    "        return self.data[-1]\n",
    "    \n",
    "    def getMin(self) -> int:\n",
    "        return sorted(self.data)[0]    \n",
    "\n",
    "\n",
    "# Your MinStack object will be instantiated and called as such:\n",
    "# obj = MinStack()\n",
    "# obj.push(val)\n",
    "# obj.pop()\n",
    "# param_3 = obj.top()\n",
    "# param_4 = obj.getMin()"
   ]
  },
  {
   "cell_type": "code",
   "execution_count": null,
   "metadata": {},
   "outputs": [],
   "source": [
    "class MinStack(object):\n",
    "\n",
    "    def __init__(self):\n",
    "        self.stack = []\n",
    "        \n",
    "    def push(self, x):\n",
    "        self.stack.append((x, min(self.getMin(), x))) \n",
    "           \n",
    "    def pop(self):\n",
    "        self.stack.pop()\n",
    "\n",
    "    def top(self):\n",
    "        if self.stack:\n",
    "            return self.stack[-1][0]\n",
    "        \n",
    "    def getMin(self):\n",
    "        if self.stack:\n",
    "            return self.stack[-1][1]\n",
    "        return sys.maxint            "
   ]
  },
  {
   "cell_type": "markdown",
   "metadata": {},
   "source": [
    "# 84. Largest Rectangle in Histogram (Monotonic Stack)"
   ]
  },
  {
   "cell_type": "markdown",
   "metadata": {},
   "source": [
    "Given an array of integers heights representing the histogram's bar height where the width of each bar is 1, return the area of the largest rectangle in the histogram.\n",
    "\n"
   ]
  },
  {
   "cell_type": "code",
   "execution_count": 1,
   "metadata": {},
   "outputs": [],
   "source": [
    "from typing import List"
   ]
  },
  {
   "cell_type": "markdown",
   "metadata": {},
   "source": [
    "https://abhinandandubey.github.io/posts/2019/12/15/Largest-Rectangle-In-Histogram.html"
   ]
  },
  {
   "cell_type": "markdown",
   "metadata": {},
   "source": [
    "- The stack maintain the indexes of buildings with ascending height. \n",
    "- Before adding a new building, pop the building who is taller than the new one. \n",
    "- The building popped out represent the height of a rectangle with the new building as the right boundary and the current stack top as the left boundary. \n",
    "- Calculate its area and update ans of maximum area. Boundary is handled using dummy buildings.\n",
    "\n"
   ]
  },
  {
   "cell_type": "code",
   "execution_count": 15,
   "metadata": {},
   "outputs": [],
   "source": [
    "def largestRectangleArea(heights: List[int]) -> int:\n",
    "    heights.append(0)\n",
    "    stack = [-1]\n",
    "    ans = 0\n",
    "    for i in range(len(heights)):\n",
    "        while heights[i] < heights[stack[-1]]:\n",
    "            h = heights[stack.pop()]\n",
    "            w = i - stack[-1] - 1\n",
    "            ans = max(ans, h * w)\n",
    "        stack.append(i)\n",
    "    heights.pop()\n",
    "    return ans"
   ]
  },
  {
   "cell_type": "code",
   "execution_count": null,
   "metadata": {},
   "outputs": [],
   "source": [
    "def largestRectangleArea(heights: List[int]) -> int:\n",
    "    stack, ans = [], 0\n",
    "    for i, h in enumerate(heights + [0]):\n",
    "        while stack and heights[stack[-1]] >= h:\n",
    "            H = heights[stack.pop()]\n",
    "            W = i if not stack else i-stack[-1]-1\n",
    "            ans = max(ans, H*W)\n",
    "        stack.append(i)\n",
    "    return ans"
   ]
  },
  {
   "cell_type": "code",
   "execution_count": 16,
   "metadata": {},
   "outputs": [],
   "source": [
    "heights = [2,1,5,6,2,3]"
   ]
  },
  {
   "cell_type": "code",
   "execution_count": 17,
   "metadata": {},
   "outputs": [
    {
     "data": {
      "text/plain": [
       "10"
      ]
     },
     "execution_count": 17,
     "metadata": {},
     "output_type": "execute_result"
    }
   ],
   "source": [
    "largestRectangleArea(heights)"
   ]
  },
  {
   "cell_type": "code",
   "execution_count": 18,
   "metadata": {},
   "outputs": [],
   "source": [
    " ## Similar to Leetcode: 1475. Final Prices With a Special Discount in a Shop ##\n",
    "        ## Similar to Leetcode: 907. Sum Of Subarray Minimums ##\n",
    "        ## Similar to Leetcode: 85. maximum Rectangle ##\n",
    "        ## Similar to Leetcode: 402. Remove K Digits ##\n",
    "        ## Similar to Leetcode: 456. 132 Pattern ##\n",
    "        ## Similar to Leetcode: 1063. Number Of Valid Subarrays ##\n",
    "        ## Similar to Leetcode: 739. Daily Temperatures ##\n",
    "        ## Similar to Leetcode: 1019. Next Greater Node In LinkedList ##"
   ]
  },
  {
   "cell_type": "code",
   "execution_count": null,
   "metadata": {},
   "outputs": [],
   "source": [
    "239. Sliding Window Maximum https://leetcode.com/problems/sliding-window-maximum/discuss/951683/Python-Decreasing-deque-short-explained\n",
    "496. Next Greater Element I\n",
    "739. Daily Temperatures\n",
    "862. Shortest Subarray with Sum at Least K\n",
    "901. Online Stock Span\n",
    "907. Sum of Subarray Minimums\n",
    "1687. Delivering Boxes from Storage to Ports"
   ]
  },
  {
   "cell_type": "markdown",
   "metadata": {},
   "source": [
    "# 239 Sliding Window Maximum"
   ]
  },
  {
   "cell_type": "markdown",
   "metadata": {},
   "source": [
    "You are given an array of integers nums, there is a sliding window of size k which is moving from the very left of the array to the very right. You can only see the k numbers in the window. Each time the sliding window moves right by one position.\n",
    "\n",
    "Return the max sliding window.\n"
   ]
  },
  {
   "cell_type": "code",
   "execution_count": 1,
   "metadata": {},
   "outputs": [],
   "source": [
    "nums = [1,3,-1,-3,5,3,6,7]\n",
    "k = 3\n",
    "# OUTPUT =[3,3,5,5,6,7]"
   ]
  },
  {
   "cell_type": "code",
   "execution_count": 2,
   "metadata": {},
   "outputs": [],
   "source": [
    "import math"
   ]
  },
  {
   "cell_type": "code",
   "execution_count": 5,
   "metadata": {},
   "outputs": [],
   "source": [
    "# wrong!!!\n",
    "def maxSlidingWindow(nums: List[int], k: int) -> List[int]:\n",
    "    ans = [-math.inf]*(len(nums)-k+1)\n",
    "    print(ans)\n",
    "    for i, num in enumerate(nums):\n",
    "        print(i, num)\n",
    "        if i <k-1:\n",
    "            continue\n",
    "        if i + k > len(nums):\n",
    "            break\n",
    "        for j in range(k):\n",
    "            print(f'i:{i}, j:{j}')\n",
    "            ans[i-k+1]= max(ans[i-k+1], nums[i+j])\n",
    "\n",
    "    print(ans)\n",
    "            "
   ]
  },
  {
   "cell_type": "code",
   "execution_count": 6,
   "metadata": {},
   "outputs": [],
   "source": [
    "import collections"
   ]
  },
  {
   "cell_type": "code",
   "execution_count": 26,
   "metadata": {},
   "outputs": [],
   "source": [
    "def maxSlidingWindow(nums: List[int], k: int) -> List[int]:\n",
    "    dq = collections.deque()\n",
    "    out = []\n",
    "    for ind, n in enumerate(nums):\n",
    "        while dq and nums[dq[-1]] < n:\n",
    "            dq.pop()\n",
    "        dq.append(ind)\n",
    "        print(f'ind:{ind},num:{n},dq:{dq}')\n",
    "        if dq[0] == ind - k:\n",
    "            dq.popleft()\n",
    "        if ind >= k - 1:\n",
    "            out += [nums[dq[0]]]\n",
    "            print(out)\n",
    "    return out"
   ]
  },
  {
   "cell_type": "code",
   "execution_count": 27,
   "metadata": {},
   "outputs": [
    {
     "name": "stdout",
     "output_type": "stream",
     "text": [
      "ind:0,num:1,dq:deque([0])\n",
      "ind:1,num:3,dq:deque([1])\n",
      "ind:2,num:-1,dq:deque([1, 2])\n",
      "[3]\n",
      "ind:3,num:-3,dq:deque([1, 2, 3])\n",
      "[3, 3]\n",
      "ind:4,num:5,dq:deque([4])\n",
      "[3, 3, 5]\n",
      "ind:5,num:3,dq:deque([4, 5])\n",
      "[3, 3, 5, 5]\n",
      "ind:6,num:6,dq:deque([6])\n",
      "[3, 3, 5, 5, 6]\n",
      "ind:7,num:7,dq:deque([7])\n",
      "[3, 3, 5, 5, 6, 7]\n"
     ]
    },
    {
     "data": {
      "text/plain": [
       "[3, 3, 5, 5, 6, 7]"
      ]
     },
     "execution_count": 27,
     "metadata": {},
     "output_type": "execute_result"
    }
   ],
   "source": [
    "maxSlidingWindow(nums,k)"
   ]
  },
  {
   "cell_type": "markdown",
   "metadata": {},
   "source": [
    "# 907. Sum of Subarray Minimums\n"
   ]
  },
  {
   "cell_type": "markdown",
   "metadata": {},
   "source": [
    "Given an array of integers arr, find the sum of min(b), where b ranges over every (contiguous) subarray of arr. Since the answer may be large, return the answer modulo 109 + 7."
   ]
  },
  {
   "cell_type": "markdown",
   "metadata": {},
   "source": [
    "Input: arr = [3,1,2,4]\n",
    "Output: 17\n",
    "Explanation: \n",
    "Subarrays are [3], [1], [2], [4], [3,1], [1,2], [2,4], [3,1,2], [1,2,4], [3,1,2,4]. \n",
    "Minimums are 3, 1, 2, 4, 1, 1, 2, 1, 1, 1.\n",
    "Sum is 17."
   ]
  },
  {
   "cell_type": "code",
   "execution_count": 96,
   "metadata": {},
   "outputs": [],
   "source": [
    "# Slow solution\n",
    "def sumSubarrayMins(arr: List[int]) -> int:\n",
    "    n = len(arr)\n",
    "    ans = []\n",
    "    #total n*(n+1)/2 items \n",
    "    for ind, item in enumerate(arr):\n",
    "        min_val = item\n",
    "        for i in range(n - ind):\n",
    "            if arr[ind+i] < min_val:\n",
    "                min_val = arr[ind+i]\n",
    "            ans.append(min_val)\n",
    "    result = sum(ans)\n",
    "    if result> 10**9:\n",
    "        result = result %(10**9)+7\n",
    "    return result"
   ]
  },
  {
   "cell_type": "markdown",
   "metadata": {},
   "source": [
    "Intuition: \n",
    "- res = sum(A[i] * f(i))\n",
    "- where f(i) is the number of subarrays,\n",
    "- in which A[i] is the minimum.\n",
    "To get f(i), we need to find out:\n",
    "left[i], the length of strict bigger numbers on the left of A[i],\n",
    "right[i], the length of bigger numbers on the right of A[i].\n",
    "\n",
    "Then,\n",
    "left[i] + 1 equals to\n",
    "the number of subarray ending with A[i],\n",
    "and A[i] is single minimum.\n",
    "\n",
    "right[i] + 1 equals to\n",
    "the number of subarray starting with A[i],\n",
    "and A[i] is the first minimum.\n",
    "\n",
    "Finally f(i) = (left[i] + 1) * (right[i] + 1)\n",
    "\n",
    "For [3,1,2,4] as example:\n",
    "left + 1 = [1,2,1,1]\n",
    "right + 1 = [1,3,2,1]\n",
    "f = [1,6,2,1]\n",
    "res = 3 * 1 + 1 * 6 + 2 * 2 + 4 * 1 = 17\n"
   ]
  },
  {
   "cell_type": "code",
   "execution_count": 103,
   "metadata": {},
   "outputs": [],
   "source": [
    "def sumSubarrayMins(arr: List[int]) -> int:\n",
    "    res = 0\n",
    "    stack = []  #  non-decreasing \n",
    "    A = [float('-inf')] + arr + [float('-inf')]\n",
    "    for i, n in enumerate(A):\n",
    "        while stack and A[stack[-1]] > n:\n",
    "            cur = stack.pop()\n",
    "            res += A[cur] * (i - cur) * (cur - stack[-1]) \n",
    "        stack.append(i)\n",
    "    return res % (10**9 + 7)"
   ]
  },
  {
   "cell_type": "code",
   "execution_count": null,
   "metadata": {},
   "outputs": [],
   "source": [
    "#best solution\n",
    "\n",
    "Given the input sequence A=[3,1,2,5,4] we can cycle through array and write out the all the subarrays ENDING with i-th element.\n",
    "\n",
    "[3]\n",
    "[3,1], [1]\n",
    "[3,1,2], [1,2], [2]\n",
    "[3,1,2,5], [1,2,5], [2,5], [5]\n",
    "[3,1,2,5,4], [1,2,5,4], [2,5,4], [5,4], [4]\n",
    "We can denote by result[i] the sum of min values of those subarrays (ending with i-th element). Here are they:\n",
    "\n",
    "3\n",
    "1 + 1\n",
    "1 + 1 + 2\n",
    "1 + 1 + 2 + 5\n",
    "1 + 1 + 2 + 4 + 4\n",
    "result = [3,2,4,9,12]"
   ]
  },
  {
   "cell_type": "markdown",
   "metadata": {},
   "source": [
    "If A[i-1] <= A[i] then result[i] = result[i-1] + A[i]\n",
    "If we find previous less or equal value A[j] <= A[i] (j<i) then result[i] = result[j] + A[i]*(i-j)\n",
    "\n",
    "Let's consider our previous example to see why. Let's take i=4 and look at subarrays for the element A[i]=4:\n",
    "[3,1,2,5,4], [1,2,5,4], [2,5,4], [5,4], [4]\n",
    "\n",
    "First part of these subarrays look similar to subarrays generated previous less value 2 at j=2 as if we took those subarrays ([3,1,2], [1,2], [2]) and added elements [5,4] to each of them. Sum of those subarrays equals result[j].\n",
    "\n",
    "The rest of our i-th subarrays consist of elements after j and up to i: [5,4], [4] . They are not less then our element 4 so their sum equals to (i-j)*A[i]\n",
    "\n",
    "Together these two observations give us formula result[i] = result[j] + A[i]*(i-j)"
   ]
  },
  {
   "cell_type": "code",
   "execution_count": null,
   "metadata": {},
   "outputs": [],
   "source": [
    "Solution\n",
    "This forms the basis of the solution: we build monotonously incressing (well, strictly speaking - non-decreasing) stack. And then find previous less or equal value and reuse it's sum:\n",
    "\n",
    "(trick: we add zeros to A and stack to avoid dealing with empty stack)\n",
    "\n"
   ]
  },
  {
   "cell_type": "code",
   "execution_count": 125,
   "metadata": {},
   "outputs": [],
   "source": [
    "def sumSubarrayMins(arr: List[int]) -> int:\n",
    "    A = [0]+arr\n",
    "    result = [0]*len(A)\n",
    "    stack = [0]\n",
    "    print(stack)\n",
    "    for i in range(len(A)):\n",
    "        # monotonously increasing stack\n",
    "        print(A[stack[-1]])\n",
    "        while A[stack[-1]] > A[i]:\n",
    "            stack.pop() \n",
    "        print(f'stack:{stack}, result:{result}')\n",
    "        j = stack[-1]\n",
    "        print(f'i:{i},j:{j}')\n",
    "        result[i] = result[j] + (i-j)*A[i]\n",
    "        stack.append(i)\n",
    "    return sum(result) % (10**9+7)"
   ]
  },
  {
   "cell_type": "code",
   "execution_count": null,
   "metadata": {},
   "outputs": [],
   "source": [
    "def sumSubarrayMins(self, arr: List[int]) -> int:\n",
    "    # res =0 \n",
    "    # for i in range(len(arr)):\n",
    "    #     for j in range(i, len(arr)):\n",
    "    #         # print(arr[i:j+1])\n",
    "    #         res +=min(arr[i:j+1])\n",
    "    # return res\n",
    "    MOD = 10 ** 9 + 7\n",
    "    stack = []\n",
    "    sum_of_minimums = 0;\n",
    "\n",
    "    for i in range(len(arr) + 1):\n",
    "\n",
    "        # when i reaches the array length, it is an indication that\n",
    "        # all the elements have been processed, and the remaining\n",
    "        # elements in the stack should now be popped out.\n",
    "\n",
    "        while stack and (i == len(arr) or arr[stack[-1]] >= arr[i]):\n",
    "\n",
    "            # Notice the sign \">=\", This ensures that no contribution\n",
    "            # is counted twice. right_boundary takes equal or smaller \n",
    "            # elements into account while left_boundary takes only the\n",
    "            # strictly smaller elements into account\n",
    "\n",
    "            mid = stack.pop()\n",
    "            left_boundary = -1 if not stack else stack[-1]\n",
    "            right_boundary = i\n",
    "\n",
    "            # count of subarrays where mid is the minimum element\n",
    "            count = (mid - left_boundary) * (right_boundary - mid)\n",
    "            sum_of_minimums += (count * arr[mid])\n",
    "\n",
    "        stack.append(i)\n",
    "\n",
    "    return sum_of_minimums % MOD"
   ]
  },
  {
   "cell_type": "code",
   "execution_count": 126,
   "metadata": {},
   "outputs": [],
   "source": [
    "arr = [3,1,2,4]"
   ]
  },
  {
   "cell_type": "code",
   "execution_count": 129,
   "metadata": {},
   "outputs": [
    {
     "name": "stdout",
     "output_type": "stream",
     "text": [
      "[0]\n",
      "0\n",
      "stack:[0], result:[0, 0, 0, 0, 0, 0]\n",
      "i:0,j:0\n",
      "0\n",
      "stack:[0, 0], result:[0, 0, 0, 0, 0, 0]\n",
      "i:1,j:0\n",
      "11\n",
      "stack:[0, 0, 1], result:[0, 11, 0, 0, 0, 0]\n",
      "i:2,j:1\n",
      "81\n",
      "stack:[0, 0, 1, 2], result:[0, 11, 92, 0, 0, 0]\n",
      "i:3,j:2\n",
      "94\n",
      "stack:[0, 0, 1], result:[0, 11, 92, 186, 0, 0]\n",
      "i:4,j:1\n",
      "43\n",
      "stack:[0, 0], result:[0, 11, 92, 186, 140, 0]\n",
      "i:5,j:0\n"
     ]
    },
    {
     "data": {
      "text/plain": [
       "444"
      ]
     },
     "execution_count": 129,
     "metadata": {},
     "output_type": "execute_result"
    }
   ],
   "source": [
    "sumSubarrayMins(arr)"
   ]
  },
  {
   "cell_type": "code",
   "execution_count": 128,
   "metadata": {},
   "outputs": [],
   "source": [
    "arr = [11,81,94,43,3]\n",
    "# Output: 444"
   ]
  },
  {
   "cell_type": "code",
   "execution_count": 94,
   "metadata": {},
   "outputs": [],
   "source": [
    "arr = [29959,29867,29822,29704,29676,29650,29577,29488,29286,29255,29232,29207,29071,29034,28925,28849,28731,28693,28624,28606,28591,28397,28357,28308,28295,28210,28119,28090,28004,27903,27845,27830,27777,27736,27640,27540,27506,27428,27341,27308,27182,27152,27122,27029,26928,26872,26796,26765,26663,26597,26580,26530,26498,26475,26436,26406,26382,26312,26213,26134,26088,26025,25943,25912,25875,25845,25810,25702,25638,25614,25531,25524,25488,25470,25444,25402,25283,25262,25121,24988,24958,24886,24769,24697,24635,24595,24490,24456,24453,24346,24313,24248,24200,24148,24107,24052,24044,24021,23970,23908,23897,23835,23752,23741,23714,23661,23596,23545,23509,23470,23439,23409,23350,23215,23166,23155,23100,23024,22923,22825,22793,22627,22613,22536,22450,22383,22312,22268,22205,22175,22136,22028,21971,21900,21824,21769,21726,21583,21546,21513,21494,21428,21327,21264,21254,21174,21140,21112,21000,20921,20902,20830,20817,20783,20735,20657,20616,20573,20485,20378,20363,20305,20259,20210,20114,20002,19846,19785,19747,19667,19645,19622,19610,19580,19542,19516,19454,19392,19310,19277,19194,19131,19090,19004,18883,18845,18791,18781,18668,18591,18518,18475,18368,18331,18310,18287,18217,18114,18092,18048,17990,17964,17912,17836,17740,17704,17630,17613,17573,17428,17356,17341,17300,17260,17180,17174,17126,17071,17041,16866,16850,16828,16672,16618,16577,16499,16407,16357,16318,16293,16202,16150,16075,16041,15948,15921,15844,15843,15785,15764,15668,15626,15579,15473,15387,15255,15190,15139,15062,14996,14954,14918,14907,14902,14867,14851,14817,14799,14751,14720,14536,14506,14474,14353,14303,14280,14185,14107,14012,13932,13858,13781,13585,13563,13533,13451,13412,13362,13249,13208,13181,13064,13037,12961,12926,12892,12786,12731,12611,12573,12506,12502,12496,12470,12443,12370,12262,12182,12153,12069,12000,11847,11806,11781,11708,11687,11593,11550,11445,11372,11329,11308,11291,11268,11241,11191,11027,10982,10879,10862,10776,10695,10603,10502,10464,10350,10338,10305,10273,10176,10124,10094,10038,9953,9935,9812,9786,9743,9728,9508,9472,9383,9349,9236,9215,9130,9124,9042,9008,8988,8901,8833,8809,8780,8716,8580,8462,8334,8321,8305,8280,8257,8246,8137,8077,8043,8016,7984,7955,7927,7906,7746,7663,7653,7572,7542,7530,7489,7420,7390,7361,7337,7245,7210,7188,7175,7096,6898,6846,6745,6675,6569,6478,6427,6363,6284,6260,6243,6206,6154,6135,6078,6061,6017,5995,5917,5863,5836,5793,5763,5743,5678,5572,5532,5459,5384,5341,5299,5251,5231,4995,4933,4861,4740,4672,4625,4496,4445,4361,4282,4215,4135,4097,4028,3917,3862,3711,3553,3498,3410,3388,3384,3288,3279,3244,3221,3181,3171,3150,3060,3035,2975,2965,2834,2760,2637,2584,2533,2440,2383,2311,2285,2255,2211,2192,2121,2054,2010,1964,1850,1724,1642,1577,1411,1409,1332,1296,1265,1256,1220,1195,937,903,880,811,739,720,650,609,547,533,459,434,384,279,231,163,102,78,30,5,52,100,155,217,277,328,389,446,473,546,583,649,702,734,768,857,882,912,1043,1219,1243,1258,1290,1325,1359,1409,1567,1642,1679,1726,1873,1965,2017,2088,2172,2204,2226,2273,2288,2316,2434,2522,2558,2622,2678,2790,2933,2965,3025,3037,3071,3167,3180,3194,3233,3269,3282,3383,3387,3401,3465,3528,3595,3801,3910,4020,4078,4128,4213,4271,4295,4420,4472,4612,4663,4739,4845,4891,4980,5109,5241,5284,5335,5379,5388,5478,5546,5639,5705,5751,5766,5803,5855,5879,5975,6000,6024,6070,6093,6137,6156,6212,6256,6276,6304,6421,6441,6537,6614,6743,6844,6893,7087,7169,7183,7200,7237,7262,7352,7376,7398,7441,7491,7541,7564,7602,7656,7707,7814,7924,7940,7958,8014,8036,8048,8132,8141,8250,8279,8288,8321,8331,8374,8515,8655,8723,8807,8825,8878,8953,8990,9011,9077,9128,9172,9219,9276,9383,9420,9499,9535,9736,9744,9801,9900,9951,10038,10093,10119,10147,10265,10301,10314,10340,10456,10499,10564,10622,10767,10802,10876,10882,10997,11063,11217,11243,11276,11299,11314,11365,11407,11456,11587,11627,11705,11751,11792,11831,11901,12012,12118,12180,12240,12296,12385,12469,12473,12497,12503,12537,12578,12723,12778,12858,12901,12936,13020,13048,13136,13195,13232,13325,13377,13424,13493,13547,13564,13724,13856,13911,13938,14075,14151,14234,14300,14353,14395,14499,14507,14705,14724,14796,14802,14823,14858,14882,14905,14914,14936,14962,15049,15114,15161,15237,15272,15399,15565,15587,15666,15749,15778,15830,15843,15864,15928,16039,16075,16141,16163,16246,16315,16333,16389,16415,16526,16601,16650,16798,16845,16861,16991,17046,17090,17140,17178,17186,17292,17305,17343,17419,17456,17610,17617,17693,17728,17783,17909,17918,17970,18032,18083,18104,18114,18223,18296,18330,18363,18428,18496,18578,18660,18733,18782,18792,18861,18929,19069,19127,19184,19269,19279,19355,19394,19494,19539,19559,19599,19612,19643,19666,19745,19760,19815,19864,20012,20141,20231,20270,20330,20370,20380,20500,20595,20617,20690,20751,20811,20824,20843,20910,20925,21044,21126,21165,21198,21260,21280,21343,21467,21505,21531,21564,21640,21755,21817,21885,21929,22010,22103,22159,22196,22229,22270,22368,22414,22515,22570,22615,22630,22806,22864,22951,23030,23107,23155,23191,23226,23399,23438,23464,23487,23524,23559,23634,23667,23719,23747,23764,23869,23901,23936,24012,24022,24045,24074,24141,24185,24204,24272,24327,24452,24455,24490,24560,24615,24641,24734,24815,24890,24963,25025,25242,25282,25283,25414,25446,25475,25489,25527,25586,25636,25640,25771,25844,25848,25883,25923,26005,26048,26106,26157,26312,26359,26395,26429,26465,26491,26513,26558,26584,26601,26667,26770,26864,26900,26996,27118,27129,27176,27272,27313,27389,27478,27517,27580,27700,27761,27811,27844,27848,27967,28051,28108,28176,28264,28302,28332,28380,28525,28591,28617,28681,28727,28744,28874,28994,29047,29123,29221,29239,29274,29347,29493,29596,29668,29694,29717,29847,29871]\n"
   ]
  },
  {
   "cell_type": "code",
   "execution_count": 99,
   "metadata": {},
   "outputs": [
    {
     "data": {
      "text/plain": [
       "508796209"
      ]
     },
     "execution_count": 99,
     "metadata": {},
     "output_type": "execute_result"
    }
   ],
   "source": [
    "2508796223 %(10**9+7)"
   ]
  },
  {
   "cell_type": "code",
   "execution_count": 77,
   "metadata": {},
   "outputs": [
    {
     "data": {
      "text/plain": [
       "10000000000.0"
      ]
     },
     "execution_count": 77,
     "metadata": {},
     "output_type": "execute_result"
    }
   ],
   "source": [
    "10e9"
   ]
  },
  {
   "cell_type": "markdown",
   "metadata": {},
   "source": [
    "# 901. Online Stock Span\n"
   ]
  },
  {
   "cell_type": "markdown",
   "metadata": {},
   "source": [
    "Design an algorithm that collects daily price quotes for some stock and returns the span of that stock's price for the current day.\n",
    "\n"
   ]
  },
  {
   "cell_type": "code",
   "execution_count": null,
   "metadata": {},
   "outputs": [],
   "source": [
    "# Your StockSpanner object will be instantiated and called as such:\n",
    "# obj = StockSpanner()\n",
    "# param_1 = obj.next(price)\n",
    "\n",
    "# Slow solution\n",
    "class StockSpanner(object):\n",
    "\n",
    "    def __init__(self):\n",
    "        self.stack = [10**6]\n",
    "\n",
    "\n",
    "    def next(self, price):\n",
    "        \"\"\"\n",
    "        :type price: int\n",
    "        :rtype: int\n",
    "        \"\"\"\n",
    "        counter = 1\n",
    "        # print(self.stack)\n",
    "        if self.stack[-1] > price:\n",
    "            pass\n",
    "        else:\n",
    "            tmp = []\n",
    "            while self.stack[-1] <= price:\n",
    "                tmp.append(self.stack.pop())\n",
    "                counter+=1\n",
    "            self.stack.extend(tmp)\n",
    "        self.stack.append(price)\n",
    "        return counter\n",
    "\n"
   ]
  },
  {
   "cell_type": "code",
   "execution_count": null,
   "metadata": {},
   "outputs": [],
   "source": [
    "\n",
    "def __init__(self):\n",
    "    self.stack = []\n",
    "\n",
    "def next(self, price):\n",
    "    count = 1\n",
    "    while self.stack and self.stack[-1][0] <= price:\n",
    "        count += self.stack.pop()[1]\n",
    "    self.stack.append([price, count])\n",
    "    print(self.stack)\n",
    "    return count"
   ]
  },
  {
   "cell_type": "code",
   "execution_count": null,
   "metadata": {},
   "outputs": [],
   "source": [
    "[\"StockSpanner\",\"next\",\"next\",\"next\",\"next\",\"next\",\"next\",\"next\"]\n",
    "[[],[100],[80],[60],[70],[60],[75],[85]]\n",
    "output = [null,1,1,1,2,1,4,6]"
   ]
  },
  {
   "cell_type": "code",
   "execution_count": null,
   "metadata": {},
   "outputs": [],
   "source": [
    "[[100, 1]]\n",
    "[[100, 1], [80, 1]]\n",
    "[[100, 1], [80, 1], [60, 1]]\n",
    "[[100, 1], [80, 1], [70, 2]]\n",
    "[[100, 1], [80, 1], [70, 2], [60, 1]]\n",
    "[[100, 1], [80, 1], [75, 4]]\n",
    "[[100, 1], [85, 6]]\n"
   ]
  },
  {
   "cell_type": "markdown",
   "metadata": {},
   "source": [
    "# 739. Daily Temperatures\n"
   ]
  },
  {
   "cell_type": "markdown",
   "metadata": {},
   "source": [
    "Given an array of integers temperatures represents the daily temperatures, return an array answer such that answer[i] is the number of days you have to wait after the ith day to get a warmer temperature. If there is no future day for which this is possible, keep answer[i] == 0 instead."
   ]
  },
  {
   "cell_type": "code",
   "execution_count": 86,
   "metadata": {},
   "outputs": [],
   "source": [
    "temperatures = [73,74,75,71,69,72,76,73]\n",
    "# Output: [1,1,4,2,1,1,0,0]"
   ]
  },
  {
   "cell_type": "code",
   "execution_count": 84,
   "metadata": {},
   "outputs": [],
   "source": [
    "#brute force \n",
    "def dailyTemperatures(temperatures):\n",
    "    temperatures = temperatures+[0]\n",
    "    ans = []\n",
    "    print(temperatures)\n",
    "    max_day = len(temperatures)\n",
    "    for day, temp in enumerate(temperatures):\n",
    "        count = 0\n",
    "        if day == max_day-1:\n",
    "            break\n",
    "        while temperatures[day+count] <= temp:\n",
    "            count+=1\n",
    "            if day+count == max_day-1:\n",
    "                count =0\n",
    "                break\n",
    "\n",
    "        print(f'day:{day},count:{count}')\n",
    "        ans.append(count)\n",
    "    return ans"
   ]
  },
  {
   "cell_type": "code",
   "execution_count": 140,
   "metadata": {},
   "outputs": [],
   "source": [
    "def dailyTemperatures(temperatures):\n",
    "    \"\"\"\n",
    "    :type temperatures: List[int]\n",
    "    :rtype: List[int]\n",
    "    \"\"\"\n",
    "    ans = [0] * len(temperatures)\n",
    "    stack = []\n",
    "    for day, temp in enumerate(temperatures):\n",
    "        while stack and temperatures[stack[-1]] < temp:\n",
    "            curr = stack.pop()\n",
    "            print(f'day:{day}, current:{curr}')\n",
    "            ans[curr] = day - curr\n",
    "        stack.append(day)\n",
    "        print([(ele, temperatures[ele]) for ele in stack])\n",
    "    return ans"
   ]
  },
  {
   "cell_type": "code",
   "execution_count": 141,
   "metadata": {},
   "outputs": [
    {
     "name": "stdout",
     "output_type": "stream",
     "text": [
      "[(0, 73)]\n",
      "day:1, current:0\n",
      "[(1, 74)]\n",
      "day:2, current:1\n",
      "[(2, 75)]\n",
      "[(2, 75), (3, 71)]\n",
      "[(2, 75), (3, 71), (4, 69)]\n",
      "day:5, current:4\n",
      "day:5, current:3\n",
      "[(2, 75), (5, 72)]\n",
      "day:6, current:5\n",
      "day:6, current:2\n",
      "[(6, 76)]\n",
      "[(6, 76), (7, 73)]\n"
     ]
    },
    {
     "data": {
      "text/plain": [
       "[1, 1, 4, 2, 1, 1, 0, 0]"
      ]
     },
     "execution_count": 141,
     "metadata": {},
     "output_type": "execute_result"
    }
   ],
   "source": [
    "dailyTemperatures(temperatures)"
   ]
  },
  {
   "cell_type": "code",
   "execution_count": 142,
   "metadata": {},
   "outputs": [],
   "source": [
    "def dailyTemperatures(T):\n",
    "    #initialize the result array with all '0's considering when there is no bigger temperature\n",
    "    ans = [0]*len(T) \n",
    "    stack = []\n",
    "    \n",
    "    for i,v in enumerate(T):\n",
    "        #check whether current val is greater than the last appended stack value.  We will pop all the elements which is lesser than the current temp\n",
    "        while stack and stack[-1][1] < v:\n",
    "            index,value = stack.pop()\n",
    "            ans[index] = i - index # we are checking how many indices we have crossed since we last have a lesser temperature\n",
    "\t\t#Remember since we are comparing all the stack elements before inserting,all the stack elements will have temperatures greater than the current value\t\n",
    "        stack.append([i,v])      \n",
    "    \n",
    "    return ans\n",
    "\t\n",
    "\t#Happy Coding"
   ]
  },
  {
   "cell_type": "code",
   "execution_count": 143,
   "metadata": {},
   "outputs": [
    {
     "data": {
      "text/plain": [
       "[1, 1, 4, 2, 1, 1, 0, 0]"
      ]
     },
     "execution_count": 143,
     "metadata": {},
     "output_type": "execute_result"
    }
   ],
   "source": [
    "dailyTemperatures(temperatures)"
   ]
  },
  {
   "cell_type": "markdown",
   "metadata": {},
   "source": [
    "# 1019.Next Greater Node In Linked List"
   ]
  },
  {
   "cell_type": "raw",
   "metadata": {},
   "source": [
    "You are given the head of a linked list with n nodes.\n",
    "\n",
    "For each node in the list, find the value of the next greater node. That is, for each node, find the value of the first node that is next to it and has a strictly larger value than it.\n",
    "\n",
    "Return an integer array answer where answer[i] is the value of the next greater node of the ith node (1-indexed). If the ith node does not have a next greater node, set answer[i] = 0."
   ]
  },
  {
   "cell_type": "code",
   "execution_count": null,
   "metadata": {},
   "outputs": [],
   "source": [
    "# Definition for singly-linked list.\n",
    "# class ListNode:\n",
    "#     def __init__(self, val=0, next=None):\n",
    "#         self.val = val\n",
    "#         self.next = next\n",
    "class Solution:\n",
    "    def nextLargerNodes(self, head: Optional[ListNode]) -> List[int]:\n",
    "        stack = []\n",
    "        lnk_lst = [0]*10**4\n",
    "        ans = [0]*10**4\n",
    "        curr = head\n",
    "        count = 0\n",
    "        while curr is not None:\n",
    "            lnk_lst[count]=curr.val\n",
    "            #check whether current val is greater than the last appended stack value.  We will pop all the elements which is lesser than the current temp\n",
    "            while stack and stack[-1][1] < curr.val:\n",
    "                index,value = stack.pop()\n",
    "                ans[index] = count - index\n",
    "                # we are checking how many indices we have crossed since we last have a lesser temperature\n",
    "            #Remember since we are comparing all the stack elements before inserting,all the stack elements will have temperatures greater than the current value\t\n",
    "            stack.append([count,curr.val])\n",
    "            # print(stack)\n",
    "            count+=1\n",
    "            curr = curr.next\n",
    "        # print(lnk_lst)\n",
    "        del lnk_lst[count:]\n",
    "        del ans[count:]\n",
    "        return [lnk_lst[i+ele] if ele !=0 else ele for i, ele in enumerate(ans) ]"
   ]
  },
  {
   "cell_type": "code",
   "execution_count": null,
   "metadata": {},
   "outputs": [],
   "source": [
    "def nextLargerNodes(self, head):\n",
    "        res, stack = [], []\n",
    "        while head:\n",
    "            while stack and stack[-1][1] < head.val:\n",
    "                res[stack.pop()[0]] = head.val\n",
    "            stack.append([len(res), head.val])\n",
    "            res.append(0)\n",
    "            head = head.next\n",
    "        return res"
   ]
  },
  {
   "cell_type": "markdown",
   "metadata": {},
   "source": [
    "# 224. Basic Calculator"
   ]
  },
  {
   "cell_type": "raw",
   "metadata": {},
   "source": [
    "Given a string s representing a valid expression, implement a basic calculator to evaluate it, and return the result of the evaluation.\n",
    "\n",
    "Note: You are not allowed to use any built-in function which evaluates strings as mathematical expressions, such as eval()."
   ]
  },
  {
   "cell_type": "code",
   "execution_count": 74,
   "metadata": {},
   "outputs": [],
   "source": [
    "def calc(s):\n",
    "#     return s\n",
    "    def update(op, v):\n",
    "        if op == \"+\": stack.append(v)\n",
    "        if op == \"-\": stack.append(-v)\n",
    "            \n",
    "    i, num, stack, sign = 0, 0, [], \"+\"\n",
    "    while i < len(s):\n",
    "        print(f'i:{i}, s[i]:{s[i]}, num:{num}, stack:{stack}, sign:{sign}')\n",
    "        if s[i].isdigit():\n",
    "            num = num*10 + int(s[i])\n",
    "        elif s[i] in \"+-\":\n",
    "            update(sign, num)\n",
    "            num, sign = 0, s[i]\n",
    "        elif s[i] == \"(\":\n",
    "            num, j = calc(s[i+1:])\n",
    "            i = i+j  #this step is important to jump to the next parentheis\n",
    "        elif s[i] == \")\":\n",
    "            update(sign, num)\n",
    "            return sum(stack), i+1\n",
    "        i +=1\n",
    "    update(sign, num)\n",
    "    return sum(stack)\n"
   ]
  },
  {
   "cell_type": "code",
   "execution_count": 99,
   "metadata": {},
   "outputs": [],
   "source": [
    "def calculate(s: str) -> int:\n",
    "    \"\"\"\n",
    "    1. Take 3 containers:\n",
    "    num -> to store current num value only\n",
    "    sign -> to store sign value, initially +1\n",
    "    res -> to store sum\n",
    "    When ( comes these containers used for calculate sum of intergers within () brackets.\n",
    "    --------------------\n",
    "    2. When c is + or -\n",
    "    Move num to res, because we need to empty num for next integer value.\n",
    "    set num = 0\n",
    "    sign = update with c\n",
    "    --------------------\n",
    "    3. When c is '('\n",
    "    Here, we need num, res, sign to calculate sum of integers within ()\n",
    "    So, move num and sign to stack => [num, sign]\n",
    "    Now reset - res = 0, num = 0, sign = 1 (default)\n",
    "    --------------------\n",
    "    4. When c is ')' -> 2-(3+4), Here res=3, num=4, sign=1 stack [2, -] \n",
    "    res +=sign*num -> calculate sum for num first, then pop items from stack, res=7\n",
    "    res *=stack.pop() - > Pop sign(+ or -) to multiply with res, res = 7*(-1)\n",
    "    res +=stack.pop() - > Pop integer and add with prev. sum, res = -7 + 2 =- 5\n",
    "    --------------------\n",
    "    Simple Example: 2 - 3\n",
    "    Initially res will have 2,i.e. res = 2\n",
    "    then store '-' in sign. it will be used when 3 comes. ie. sign = -1\n",
    "    Now 3 comes => res = res + num*sign\n",
    "    Return statement: res+num*sign => res = 2 + 3(-1) = 2 - 3 = -1\n",
    "    \"\"\"\n",
    "    num = 0\n",
    "    sign = 1\n",
    "    res = 0\n",
    "    stack = []\n",
    "    for i in range(len(s)): # iterate till last character\n",
    "        print(f'i:{i}, s[i]:{s[i]}, num:{num}, stack:{stack}, sign:{sign}, res:{res}')\n",
    "        c = s[i]\n",
    "        if c.isdigit(): # process if there is digit\n",
    "            num = num*10 + int(c) # for consecutive digits 98 => 9x10 + 8 = 98\n",
    "        elif c in '-+': # check for - and +\n",
    "            res += num*sign\n",
    "            sign = -1 if c == '-' else 1\n",
    "            num = 0\n",
    "        elif c == '(':\n",
    "            stack.append(res)\n",
    "            stack.append(sign)\n",
    "            res = 0\n",
    "            sign = 1\n",
    "        elif c == ')':\n",
    "            res +=sign*num\n",
    "            res *=stack.pop()\n",
    "            res +=stack.pop()\n",
    "            num = 0\n",
    "    return res + num*sign"
   ]
  },
  {
   "cell_type": "code",
   "execution_count": 108,
   "metadata": {},
   "outputs": [],
   "source": [
    "def calculate2(s):\n",
    "    res, num, sign, stack = 0, 0, 1, [1]\n",
    "    for i in s+\"+\":\n",
    "        print(f'i:{i}, num:{num}, stack:{stack}, sign:{sign}, res:{res}')\n",
    "\n",
    "        if i.isdigit():\n",
    "            num = 10*num + int(i)\n",
    "        elif i in \"+-\":\n",
    "            res += num * sign * stack[-1]\n",
    "            sign = 1 if i==\"+\" else -1\n",
    "            num = 0\n",
    "        elif i == \"(\":\n",
    "            stack.append(sign * stack[-1])\n",
    "            sign = 1\n",
    "        elif i == \")\":\n",
    "            res += num * sign * stack[-1]\n",
    "            num = 0\n",
    "            stack.pop()\n",
    "    return res"
   ]
  },
  {
   "cell_type": "code",
   "execution_count": 109,
   "metadata": {},
   "outputs": [],
   "source": [
    "s = \"(1+(4+5+2)-3)+(6+8)\" #23"
   ]
  },
  {
   "cell_type": "code",
   "execution_count": 94,
   "metadata": {},
   "outputs": [],
   "source": [
    "s=\"2-(3+4)\" #-5"
   ]
  },
  {
   "cell_type": "code",
   "execution_count": 110,
   "metadata": {},
   "outputs": [
    {
     "name": "stdout",
     "output_type": "stream",
     "text": [
      "i:(, num:0, stack:[1], sign:1, res:0\n",
      "i:1, num:0, stack:[1, 1], sign:1, res:0\n",
      "i:+, num:1, stack:[1, 1], sign:1, res:0\n",
      "i:(, num:0, stack:[1, 1], sign:1, res:1\n",
      "i:4, num:0, stack:[1, 1, 1], sign:1, res:1\n",
      "i:+, num:4, stack:[1, 1, 1], sign:1, res:1\n",
      "i:5, num:0, stack:[1, 1, 1], sign:1, res:5\n",
      "i:+, num:5, stack:[1, 1, 1], sign:1, res:5\n",
      "i:2, num:0, stack:[1, 1, 1], sign:1, res:10\n",
      "i:), num:2, stack:[1, 1, 1], sign:1, res:10\n",
      "i:-, num:0, stack:[1, 1], sign:1, res:12\n",
      "i:3, num:0, stack:[1, 1], sign:-1, res:12\n",
      "i:), num:3, stack:[1, 1], sign:-1, res:12\n",
      "i:+, num:0, stack:[1], sign:-1, res:9\n",
      "i:(, num:0, stack:[1], sign:1, res:9\n",
      "i:6, num:0, stack:[1, 1], sign:1, res:9\n",
      "i:+, num:6, stack:[1, 1], sign:1, res:9\n",
      "i:8, num:0, stack:[1, 1], sign:1, res:15\n",
      "i:), num:8, stack:[1, 1], sign:1, res:15\n",
      "i:+, num:0, stack:[1], sign:1, res:23\n"
     ]
    },
    {
     "data": {
      "text/plain": [
       "23"
      ]
     },
     "execution_count": 110,
     "metadata": {},
     "output_type": "execute_result"
    }
   ],
   "source": [
    "calculate2(s)"
   ]
  },
  {
   "cell_type": "code",
   "execution_count": 101,
   "metadata": {},
   "outputs": [
    {
     "name": "stdout",
     "output_type": "stream",
     "text": [
      "i:0, s[i]:(, num:0, stack:[], sign:1, res:0\n",
      "i:1, s[i]:1, num:0, stack:[0, 1], sign:1, res:0\n",
      "i:2, s[i]:+, num:1, stack:[0, 1], sign:1, res:0\n",
      "i:3, s[i]:(, num:0, stack:[0, 1], sign:1, res:1\n",
      "i:4, s[i]:4, num:0, stack:[0, 1, 1, 1], sign:1, res:0\n",
      "i:5, s[i]:+, num:4, stack:[0, 1, 1, 1], sign:1, res:0\n",
      "i:6, s[i]:5, num:0, stack:[0, 1, 1, 1], sign:1, res:4\n",
      "i:7, s[i]:+, num:5, stack:[0, 1, 1, 1], sign:1, res:4\n",
      "i:8, s[i]:2, num:0, stack:[0, 1, 1, 1], sign:1, res:9\n",
      "i:9, s[i]:), num:2, stack:[0, 1, 1, 1], sign:1, res:9\n",
      "i:10, s[i]:-, num:0, stack:[0, 1], sign:1, res:12\n",
      "i:11, s[i]:3, num:0, stack:[0, 1], sign:-1, res:12\n",
      "i:12, s[i]:), num:3, stack:[0, 1], sign:-1, res:12\n",
      "i:13, s[i]:+, num:0, stack:[], sign:-1, res:9\n",
      "i:14, s[i]:(, num:0, stack:[], sign:1, res:9\n",
      "i:15, s[i]:6, num:0, stack:[9, 1], sign:1, res:0\n",
      "i:16, s[i]:+, num:6, stack:[9, 1], sign:1, res:0\n",
      "i:17, s[i]:8, num:0, stack:[9, 1], sign:1, res:6\n",
      "i:18, s[i]:), num:8, stack:[9, 1], sign:1, res:6\n"
     ]
    }
   ],
   "source": [
    "res = calculate(s)"
   ]
  },
  {
   "cell_type": "code",
   "execution_count": 102,
   "metadata": {},
   "outputs": [
    {
     "name": "stdout",
     "output_type": "stream",
     "text": [
      "23\n"
     ]
    }
   ],
   "source": [
    "print(res)"
   ]
  },
  {
   "cell_type": "markdown",
   "metadata": {},
   "source": [
    "# 227. Basic Calculator II\n"
   ]
  },
  {
   "cell_type": "markdown",
   "metadata": {},
   "source": [
    "Given a string s which represents an expression, evaluate this expression and return its value. \n",
    "\n",
    "The integer division should truncate toward zero.\n",
    "\n",
    "You may assume that the given expression is always valid. All intermediate results will be in the range of [-231, 231 - 1].\n",
    "\n",
    "Note: You are not allowed to use any built-in function which evaluates strings as mathematical expressions, such as eval().\n",
    "\n"
   ]
  },
  {
   "cell_type": "code",
   "execution_count": 151,
   "metadata": {},
   "outputs": [],
   "source": [
    "def calculate(s: str) -> int:\n",
    "    num = 0\n",
    "    pre_op = '+'\n",
    "    s+='+' #If not, the while loop ends before operate the last number\n",
    "\n",
    "    stack = []\n",
    "    for c in s:\n",
    "        print(f'c:{c}, num:{num}, stack:{stack}')\n",
    "        if c.isdigit():\n",
    "            num = num*10 + int(c)\n",
    "        elif c == ' ':\n",
    "                continue\n",
    "        else:\n",
    "            if pre_op == '+':\n",
    "                stack.append(num)\n",
    "            elif pre_op == '-':\n",
    "                stack.append(-num)\n",
    "            elif pre_op == '*':\n",
    "                operant = stack.pop()\n",
    "                stack.append((operant*num))\n",
    "            elif pre_op == '/':\n",
    "                operant = stack.pop()\n",
    "                if operant//num < 0 and operant%num != 0:\n",
    "                    stack.append(operant//num+1)\n",
    "                else:\n",
    "                    stack.append(operant//num)\n",
    "            num = 0\n",
    "            pre_op = c\n",
    "    return sum(stack)"
   ]
  },
  {
   "cell_type": "code",
   "execution_count": 140,
   "metadata": {},
   "outputs": [],
   "source": [
    "s = \"3+2*2\""
   ]
  },
  {
   "cell_type": "code",
   "execution_count": 152,
   "metadata": {},
   "outputs": [],
   "source": [
    "s = \"3/2\""
   ]
  },
  {
   "cell_type": "code",
   "execution_count": 154,
   "metadata": {},
   "outputs": [],
   "source": [
    "s = \"14-3/2\" #counter example"
   ]
  },
  {
   "cell_type": "code",
   "execution_count": 155,
   "metadata": {},
   "outputs": [
    {
     "name": "stdout",
     "output_type": "stream",
     "text": [
      "c:1, num:0, stack:[]\n",
      "c:4, num:1, stack:[]\n",
      "c:-, num:14, stack:[]\n",
      "c:3, num:0, stack:[14]\n",
      "c:/, num:3, stack:[14]\n",
      "c:2, num:0, stack:[14, -3]\n",
      "c:+, num:2, stack:[14, -3]\n"
     ]
    },
    {
     "data": {
      "text/plain": [
       "13"
      ]
     },
     "execution_count": 155,
     "metadata": {},
     "output_type": "execute_result"
    }
   ],
   "source": [
    "calculate(s)"
   ]
  },
  {
   "cell_type": "markdown",
   "metadata": {},
   "source": [
    "# 316. Remove Duplicate Letters\n"
   ]
  },
  {
   "cell_type": "raw",
   "metadata": {},
   "source": [
    "Given a string s, remove duplicate letters so that every letter appears once and only once. You must make sure your result is the smallest in lexicographical order among all possible results."
   ]
  },
  {
   "cell_type": "code",
   "execution_count": null,
   "metadata": {},
   "outputs": [],
   "source": [
    "def removeDuplicateLetters(self, s: str) -> str:\n",
    "    stack = []\n",
    "    seen = set()\n",
    "    last_occ = {c:i for i, c in enumerate(s)}\n",
    "    for ind, char in enumerate(s):\n",
    "        if char not in seen:\n",
    "            while stack and char< stack[-1] and ind < last_occ[stack[-1]]:\n",
    "                seen.remove(stack.pop())\n",
    "            seen.add(char) \n",
    "            stack.append(char)\n",
    "    # res = sorted(seen)\n",
    "    return ''.join(stack)"
   ]
  },
  {
   "cell_type": "markdown",
   "metadata": {},
   "source": [
    "# 341. Flatten Nested List Iterator\n"
   ]
  },
  {
   "cell_type": "code",
   "execution_count": 1,
   "metadata": {},
   "outputs": [
    {
     "ename": "NameError",
     "evalue": "name 'NestedInteger' is not defined",
     "output_type": "error",
     "traceback": [
      "\u001b[0;31m---------------------------------------------------------------------------\u001b[0m",
      "\u001b[0;31mNameError\u001b[0m                                 Traceback (most recent call last)",
      "\u001b[0;32m<ipython-input-1-85f443a4cebd>\u001b[0m in \u001b[0;36m<module>\u001b[0;34m\u001b[0m\n\u001b[0;32m----> 1\u001b[0;31m \u001b[0;32mclass\u001b[0m \u001b[0mNestedIterator\u001b[0m\u001b[0;34m:\u001b[0m\u001b[0;34m\u001b[0m\u001b[0;34m\u001b[0m\u001b[0m\n\u001b[0m\u001b[1;32m      2\u001b[0m     \u001b[0;32mdef\u001b[0m \u001b[0m__init__\u001b[0m\u001b[0;34m(\u001b[0m\u001b[0mself\u001b[0m\u001b[0;34m,\u001b[0m \u001b[0mnestedList\u001b[0m\u001b[0;34m:\u001b[0m \u001b[0;34m[\u001b[0m\u001b[0mNestedInteger\u001b[0m\u001b[0;34m]\u001b[0m\u001b[0;34m)\u001b[0m\u001b[0;34m:\u001b[0m\u001b[0;34m\u001b[0m\u001b[0;34m\u001b[0m\u001b[0m\n\u001b[1;32m      3\u001b[0m         \u001b[0mself\u001b[0m\u001b[0;34m.\u001b[0m\u001b[0mstack\u001b[0m \u001b[0;34m=\u001b[0m \u001b[0mlist\u001b[0m\u001b[0;34m(\u001b[0m\u001b[0mreversed\u001b[0m\u001b[0;34m(\u001b[0m\u001b[0mnestedList\u001b[0m\u001b[0;34m)\u001b[0m\u001b[0;34m)\u001b[0m\u001b[0;34m\u001b[0m\u001b[0;34m\u001b[0m\u001b[0m\n\u001b[1;32m      4\u001b[0m \u001b[0;34m\u001b[0m\u001b[0m\n\u001b[1;32m      5\u001b[0m     \u001b[0;32mdef\u001b[0m \u001b[0mmake_stack_top_an_integer\u001b[0m\u001b[0;34m(\u001b[0m\u001b[0mself\u001b[0m\u001b[0;34m)\u001b[0m\u001b[0;34m:\u001b[0m\u001b[0;34m\u001b[0m\u001b[0;34m\u001b[0m\u001b[0m\n",
      "\u001b[0;32m<ipython-input-1-85f443a4cebd>\u001b[0m in \u001b[0;36mNestedIterator\u001b[0;34m()\u001b[0m\n\u001b[1;32m      1\u001b[0m \u001b[0;32mclass\u001b[0m \u001b[0mNestedIterator\u001b[0m\u001b[0;34m:\u001b[0m\u001b[0;34m\u001b[0m\u001b[0;34m\u001b[0m\u001b[0m\n\u001b[0;32m----> 2\u001b[0;31m     \u001b[0;32mdef\u001b[0m \u001b[0m__init__\u001b[0m\u001b[0;34m(\u001b[0m\u001b[0mself\u001b[0m\u001b[0;34m,\u001b[0m \u001b[0mnestedList\u001b[0m\u001b[0;34m:\u001b[0m \u001b[0;34m[\u001b[0m\u001b[0mNestedInteger\u001b[0m\u001b[0;34m]\u001b[0m\u001b[0;34m)\u001b[0m\u001b[0;34m:\u001b[0m\u001b[0;34m\u001b[0m\u001b[0;34m\u001b[0m\u001b[0m\n\u001b[0m\u001b[1;32m      3\u001b[0m         \u001b[0mself\u001b[0m\u001b[0;34m.\u001b[0m\u001b[0mstack\u001b[0m \u001b[0;34m=\u001b[0m \u001b[0mlist\u001b[0m\u001b[0;34m(\u001b[0m\u001b[0mreversed\u001b[0m\u001b[0;34m(\u001b[0m\u001b[0mnestedList\u001b[0m\u001b[0;34m)\u001b[0m\u001b[0;34m)\u001b[0m\u001b[0;34m\u001b[0m\u001b[0;34m\u001b[0m\u001b[0m\n\u001b[1;32m      4\u001b[0m \u001b[0;34m\u001b[0m\u001b[0m\n\u001b[1;32m      5\u001b[0m     \u001b[0;32mdef\u001b[0m \u001b[0mmake_stack_top_an_integer\u001b[0m\u001b[0;34m(\u001b[0m\u001b[0mself\u001b[0m\u001b[0;34m)\u001b[0m\u001b[0;34m:\u001b[0m\u001b[0;34m\u001b[0m\u001b[0;34m\u001b[0m\u001b[0m\n",
      "\u001b[0;31mNameError\u001b[0m: name 'NestedInteger' is not defined"
     ]
    }
   ],
   "source": [
    "class NestedIterator:\n",
    "    def __init__(self, nestedList: [NestedInteger]):\n",
    "        self.stack = list(reversed(nestedList))\n",
    "\n",
    "    def make_stack_top_an_integer(self):\n",
    "        # While the stack contains a nested list at the top...\n",
    "        while self.stack and not self.stack[-1].isInteger():\n",
    "            # Unpack the list at the top by putting its items onto\n",
    "            # the stack in reverse order.\n",
    "            self.stack.extend(reversed(self.stack.pop().getList()))\n",
    "            \n",
    "    def next(self) -> int:\n",
    "        self.make_stack_top_an_integer()\n",
    "        return self.stack.pop().getInteger()\n",
    "    \n",
    "    def hasNext(self) -> bool:\n",
    "        self.make_stack_top_an_integer()\n",
    "        return len(self.stack) > 0\n"
   ]
  },
  {
   "cell_type": "code",
   "execution_count": 2,
   "metadata": {},
   "outputs": [
    {
     "ename": "NameError",
     "evalue": "name 'NestedInteger' is not defined",
     "output_type": "error",
     "traceback": [
      "\u001b[0;31m---------------------------------------------------------------------------\u001b[0m",
      "\u001b[0;31mNameError\u001b[0m                                 Traceback (most recent call last)",
      "\u001b[0;32m<ipython-input-2-89e8c134a821>\u001b[0m in \u001b[0;36m<module>\u001b[0;34m\u001b[0m\n\u001b[0;32m----> 1\u001b[0;31m \u001b[0;32mclass\u001b[0m \u001b[0mNestedIterator\u001b[0m\u001b[0;34m:\u001b[0m\u001b[0;34m\u001b[0m\u001b[0;34m\u001b[0m\u001b[0m\n\u001b[0m\u001b[1;32m      2\u001b[0m     \u001b[0;32mdef\u001b[0m \u001b[0m__init__\u001b[0m\u001b[0;34m(\u001b[0m\u001b[0mself\u001b[0m\u001b[0;34m,\u001b[0m \u001b[0mnestedList\u001b[0m\u001b[0;34m:\u001b[0m \u001b[0;34m[\u001b[0m\u001b[0mNestedInteger\u001b[0m\u001b[0;34m]\u001b[0m\u001b[0;34m)\u001b[0m\u001b[0;34m:\u001b[0m\u001b[0;34m\u001b[0m\u001b[0;34m\u001b[0m\u001b[0m\n\u001b[1;32m      3\u001b[0m         \u001b[0mself\u001b[0m\u001b[0;34m.\u001b[0m\u001b[0m_integers\u001b[0m \u001b[0;34m=\u001b[0m \u001b[0;34m[\u001b[0m\u001b[0;34m]\u001b[0m\u001b[0;34m\u001b[0m\u001b[0;34m\u001b[0m\u001b[0m\n\u001b[1;32m      4\u001b[0m         \u001b[0mself\u001b[0m\u001b[0;34m.\u001b[0m\u001b[0m_position\u001b[0m \u001b[0;34m=\u001b[0m \u001b[0;34m-\u001b[0m\u001b[0;36m1\u001b[0m\u001b[0;34m\u001b[0m\u001b[0;34m\u001b[0m\u001b[0m\n\u001b[1;32m      5\u001b[0m         \u001b[0;32mdef\u001b[0m \u001b[0mflatten_list\u001b[0m\u001b[0;34m(\u001b[0m\u001b[0mnested_list\u001b[0m\u001b[0;34m)\u001b[0m\u001b[0;34m:\u001b[0m\u001b[0;34m\u001b[0m\u001b[0;34m\u001b[0m\u001b[0m\n",
      "\u001b[0;32m<ipython-input-2-89e8c134a821>\u001b[0m in \u001b[0;36mNestedIterator\u001b[0;34m()\u001b[0m\n\u001b[1;32m      1\u001b[0m \u001b[0;32mclass\u001b[0m \u001b[0mNestedIterator\u001b[0m\u001b[0;34m:\u001b[0m\u001b[0;34m\u001b[0m\u001b[0;34m\u001b[0m\u001b[0m\n\u001b[0;32m----> 2\u001b[0;31m     \u001b[0;32mdef\u001b[0m \u001b[0m__init__\u001b[0m\u001b[0;34m(\u001b[0m\u001b[0mself\u001b[0m\u001b[0;34m,\u001b[0m \u001b[0mnestedList\u001b[0m\u001b[0;34m:\u001b[0m \u001b[0;34m[\u001b[0m\u001b[0mNestedInteger\u001b[0m\u001b[0;34m]\u001b[0m\u001b[0;34m)\u001b[0m\u001b[0;34m:\u001b[0m\u001b[0;34m\u001b[0m\u001b[0;34m\u001b[0m\u001b[0m\n\u001b[0m\u001b[1;32m      3\u001b[0m         \u001b[0mself\u001b[0m\u001b[0;34m.\u001b[0m\u001b[0m_integers\u001b[0m \u001b[0;34m=\u001b[0m \u001b[0;34m[\u001b[0m\u001b[0;34m]\u001b[0m\u001b[0;34m\u001b[0m\u001b[0;34m\u001b[0m\u001b[0m\n\u001b[1;32m      4\u001b[0m         \u001b[0mself\u001b[0m\u001b[0;34m.\u001b[0m\u001b[0m_position\u001b[0m \u001b[0;34m=\u001b[0m \u001b[0;34m-\u001b[0m\u001b[0;36m1\u001b[0m\u001b[0;34m\u001b[0m\u001b[0;34m\u001b[0m\u001b[0m\n\u001b[1;32m      5\u001b[0m         \u001b[0;32mdef\u001b[0m \u001b[0mflatten_list\u001b[0m\u001b[0;34m(\u001b[0m\u001b[0mnested_list\u001b[0m\u001b[0;34m)\u001b[0m\u001b[0;34m:\u001b[0m\u001b[0;34m\u001b[0m\u001b[0;34m\u001b[0m\u001b[0m\n",
      "\u001b[0;31mNameError\u001b[0m: name 'NestedInteger' is not defined"
     ]
    }
   ],
   "source": [
    "class NestedIterator:\n",
    "    def __init__(self, nestedList: [NestedInteger]):\n",
    "        self._integers = []\n",
    "        self._position = -1\n",
    "        def flatten_list(nested_list):\n",
    "            for nested_integer in nested_list:\n",
    "                if nested_integer.isInteger():\n",
    "                    self._integers.append(nested_integer.getInteger())\n",
    "                else:\n",
    "                    flatten_list(nested_integer.getList())\n",
    "        flatten_list(nestedList)\n",
    "        \n",
    "    def next(self) -> int:\n",
    "        self._position += 1\n",
    "        return self._integers[self._position]\n",
    "    \n",
    "    def hasNext(self) -> bool:\n",
    "        return self._position + 1 < len(self._integers)"
   ]
  },
  {
   "cell_type": "markdown",
   "metadata": {},
   "source": [
    "# 284. Peeking Iterator\n"
   ]
  },
  {
   "cell_type": "markdown",
   "metadata": {},
   "source": [
    "Design an iterator that supports the peek operation on an existing iterator in addition to the hasNext and the next operations.\n",
    "\n",
    "Need to Check the solution article"
   ]
  },
  {
   "cell_type": "markdown",
   "metadata": {},
   "source": [
    "# 856. Score of Parentheses\n"
   ]
  },
  {
   "cell_type": "markdown",
   "metadata": {},
   "source": [
    "Given a balanced parentheses string S, compute the score of the string based on the following rule:\n",
    "\n",
    "() has score 1\n",
    "AB has score A + B, where A and B are balanced parentheses strings.\n",
    "(A) has score 2 * A, where A is a balanced parentheses string."
   ]
  },
  {
   "cell_type": "markdown",
   "metadata": {},
   "source": [
    "Input: \"(()(()))\"\n",
    "Output: 6\n"
   ]
  },
  {
   "cell_type": "code",
   "execution_count": 1,
   "metadata": {},
   "outputs": [],
   "source": [
    "def scoreOfParentheses(self, S: str) -> int:\n",
    "        stack = [0]\n",
    "        for x in S:\n",
    "            if x == \"(\":\n",
    "                stack.append(0)\n",
    "            else:\n",
    "                val = stack.pop()\n",
    "                stack[-1] += max(2*val, 1)\n",
    "        return stack.pop()"
   ]
  },
  {
   "cell_type": "code",
   "execution_count": null,
   "metadata": {},
   "outputs": [],
   "source": [
    "def scoreOfParentheses(self, S):\n",
    "        stack, c\\o  ur = [], 0\n",
    "        for i in S:\n",
    "            if i == '(':\n",
    "                stack.append(cur)\n",
    "                cur = 0\n",
    "            else:\n",
    "                cur += stack.pop() + max(cur, 1)\n",
    "        return cur"
   ]
  },
  {
   "cell_type": "code",
   "execution_count": 6,
   "metadata": {},
   "outputs": [],
   "source": [
    "def scoreOfParentheses(S):\n",
    "    ans = bal = 0\n",
    "    for i, x in enumerate(S):\n",
    "        if x == '(':\n",
    "            bal += 1\n",
    "        else:\n",
    "            bal -= 1\n",
    "            if S[i-1] == '(':\n",
    "                ans += 1 << bal\n",
    "    return ans"
   ]
  },
  {
   "cell_type": "code",
   "execution_count": 7,
   "metadata": {},
   "outputs": [],
   "source": [
    "# \"()\"\n",
    "# \"(())\"\n",
    "# \"()()\"\n",
    "S = \"(()(()))\""
   ]
  },
  {
   "cell_type": "code",
   "execution_count": 8,
   "metadata": {},
   "outputs": [
    {
     "data": {
      "text/plain": [
       "6"
      ]
     },
     "execution_count": 8,
     "metadata": {},
     "output_type": "execute_result"
    }
   ],
   "source": [
    "scoreOfParentheses(S)"
   ]
  }
 ],
 "metadata": {
  "kernelspec": {
   "display_name": "Python 3 (ipykernel)",
   "language": "python",
   "name": "python3"
  },
  "language_info": {
   "codemirror_mode": {
    "name": "ipython",
    "version": 3
   },
   "file_extension": ".py",
   "mimetype": "text/x-python",
   "name": "python",
   "nbconvert_exporter": "python",
   "pygments_lexer": "ipython3",
   "version": "3.9.12"
  }
 },
 "nbformat": 4,
 "nbformat_minor": 4
}
