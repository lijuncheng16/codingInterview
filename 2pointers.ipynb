{
 "cells": [
  {
   "cell_type": "markdown",
   "id": "6613fc96-c18c-4cab-8c95-a23874d861bf",
   "metadata": {
    "tags": []
   },
   "source": [
    "# 16. 2 Sum or variant or 3 Sum Closest"
   ]
  },
  {
   "cell_type": "code",
   "execution_count": null,
   "id": "16d132f0-2063-496c-942d-c076384a5044",
   "metadata": {},
   "outputs": [],
   "source": [
    "def threeSumClosest(self, nums: List[int], target: int) -> int:\n",
    "        if len(nums) == 3:\n",
    "            return sum(nums)\n",
    "        nums.sort()\n",
    "        res = []\n",
    "        diff = float('inf')\n",
    "        for i in range(len(nums)):\n",
    "            lo, hi = i+1, len(nums)-1\n",
    "            while lo < hi:\n",
    "                summ = nums[i]+nums[lo]+nums[hi]\n",
    "                if abs(target-summ) < abs(diff):\n",
    "                    diff = target-summ\n",
    "                elif summ < target:\n",
    "                    lo+=1\n",
    "                else:\n",
    "                    hi-=1\n",
    "            if diff == 0:\n",
    "                break\n",
    "        return target-diff"
   ]
  },
  {
   "cell_type": "markdown",
   "id": "ef2b81d9-0d8c-455a-8328-b77051f907f1",
   "metadata": {},
   "source": [
    "# 15. 3Sum\n",
    "nums[i] + nums[j] + nums[k] == 0."
   ]
  },
  {
   "cell_type": "code",
   "execution_count": null,
   "id": "9db7c5b6-6b06-4a7a-8225-d17d8844fec4",
   "metadata": {},
   "outputs": [],
   "source": [
    "def threeSum(self, nums: List[int]) -> List[List[int]]:\n",
    "    nums.sort()\n",
    "    res = []\n",
    "\n",
    "    # def twoSumII(nums, i, res):\n",
    "    #     lo, hi = i+1, len(nums)-1\n",
    "    #     while lo < hi:\n",
    "    #         summ = nums[i] + nums[lo] + nums[hi]\n",
    "    #         if summ < 0:\n",
    "    #             lo+=1 \n",
    "    #         elif summ > 0:\n",
    "    #             hi-=1 \n",
    "    #         else:\n",
    "    #             res.append([nums[i], nums[lo], nums[hi]])\n",
    "    #             lo+=1\n",
    "    #             hi-=1\n",
    "    #             while lo < hi and nums[lo] == nums[lo -1]:\n",
    "    #                 lo +=1\n",
    "    def twoSum(nums, i, res):\n",
    "        seen = set()\n",
    "        j = i + 1\n",
    "        while j < len(nums):\n",
    "            complement = -nums[i] - nums[j]\n",
    "            if complement in seen:\n",
    "                res.append([nums[i], nums[j], complement])\n",
    "                while j + 1 < len(nums) and nums[j] == nums[j+1]:\n",
    "                    j +=1 \n",
    "            seen.add(nums[j])\n",
    "            j +=1 \n",
    "\n",
    "    for i in range(len(nums)):\n",
    "        if nums[i] > 0:\n",
    "            break\n",
    "        if i == 0 or nums[i-1] != nums[i]:\n",
    "            twoSum(nums, i, res)\n",
    "    return res"
   ]
  },
  {
   "cell_type": "markdown",
   "id": "e2d5b86f-2331-4a0d-9480-bda823820d2e",
   "metadata": {},
   "source": [
    "# 38. Count and Say\n"
   ]
  },
  {
   "cell_type": "markdown",
   "id": "e45cc972-d5bc-4097-b862-61cfaaebcc81",
   "metadata": {},
   "source": [
    "The count-and-say sequence is a sequence of digit strings defined by the recursive formula:\n",
    "\n",
    "countAndSay(1) = \"1\"\n",
    "countAndSay(n) is the way you would \"say\" the digit string from countAndSay(n-1), which is then converted into a different digit string.\n"
   ]
  },
  {
   "cell_type": "code",
   "execution_count": null,
   "id": "6c3f3f85-b20e-4a2e-81bc-1c34a7854f0f",
   "metadata": {},
   "outputs": [],
   "source": [
    "def countAndSay(self, n: int) -> str:\n",
    "    current_string = '1'\n",
    "    for _ in range(n - 1):\n",
    "        next_string = ''\n",
    "        j = 0\n",
    "        k = 0\n",
    "        while j < len(current_string):\n",
    "            while (k < len(current_string) and current_string[k] == current_string[j]):\n",
    "                k += 1\n",
    "            next_string += str(k - j) + current_string[j]\n",
    "            j = k\n",
    "        current_string = next_string\n",
    "    return current_string"
   ]
  },
  {
   "cell_type": "markdown",
   "id": "f710503c-dd5c-4d31-a200-8378401964b5",
   "metadata": {},
   "source": [
    "# 76. Minimum Window Substring\n"
   ]
  },
  {
   "cell_type": "markdown",
   "id": "36465c0e-fab5-4f09-af68-cf7c584653e4",
   "metadata": {},
   "source": [
    "Given two strings s and t of lengths m and n respectively, return the minimum window substring of s such that every character in t (including duplicates) is included in the window. If there is no such substring, return the empty string \"\".\n",
    "\n"
   ]
  },
  {
   "cell_type": "code",
   "execution_count": null,
   "id": "198a56cf-2fb9-454f-ab2e-8e161a40c25c",
   "metadata": {},
   "outputs": [],
   "source": [
    "def minWindow(self, s: str, t: str) -> str:\n",
    "    count_t = Counter(t)\n",
    "    count_s = Counter(s)\n",
    "    if len(s)<len(t):\n",
    "        return \"\"\n",
    "\n",
    "    elif len(s)==len(t):\n",
    "        if count_s == count_t:\n",
    "            return s\n",
    "        else:\n",
    "            return \"\"\n",
    "    else:\n",
    "        for char_t in count_t:\n",
    "            if char_t not in count_s:\n",
    "                return \"\"\n",
    "        required = len(count_t)\n",
    "        l, r = 0, 0\n",
    "        formed = 0\n",
    "        window_counts = {}\n",
    "        ans = float(\"inf\"), None, None\n",
    "        while r < len(s):\n",
    "            char = s[r]\n",
    "            window_counts[char] = window_counts.get(char, 0)+1\n",
    "            if char in count_t and window_counts[char] == count_t[char]:\n",
    "                formed+=1\n",
    "            while l <= r and formed == required:\n",
    "                char = s[l]\n",
    "                if r - l + 1 < ans[0]:\n",
    "                    ans = (r-l +1, l, r)\n",
    "                window_counts[char]-=1\n",
    "                if char in count_t and window_counts[char] < count_t[char]:\n",
    "                    formed-=1\n",
    "                l+=1\n",
    "            r+=1\n",
    "        return \"\" if ans[0] == float(\"inf\") else s[ans[1]:ans[2] +1]"
   ]
  },
  {
   "cell_type": "markdown",
   "id": "2e05fc19-dc54-4d6c-883c-619578cef9b8",
   "metadata": {},
   "source": [
    "# 680. Valid Palindrome II\n",
    "Given a string s, return true if the s can be palindrome after deleting at most one character from it.\n"
   ]
  },
  {
   "cell_type": "code",
   "execution_count": null,
   "id": "26496a5d-c3ed-468b-938b-f356548241c6",
   "metadata": {},
   "outputs": [],
   "source": [
    "def validPalindrome(self, s: str) -> bool:\n",
    "    def check_palindrome(s, i, j):\n",
    "        while i < j:\n",
    "            if s[i] != s[j]:\n",
    "                return False\n",
    "            i += 1\n",
    "            j -= 1\n",
    "\n",
    "        return True\n",
    "    i = 0\n",
    "    j = len(s) - 1\n",
    "    while i < j:\n",
    "        # Found a mismatched pair - try both deletions\n",
    "        if s[i] != s[j]:\n",
    "            return check_palindrome(s, i, j - 1) or check_palindrome(s, i + 1, j)\n",
    "        i += 1\n",
    "        j -= 1\n",
    "\n",
    "    return True"
   ]
  },
  {
   "cell_type": "code",
   "execution_count": null,
   "id": "91152d5e-d3ba-4e24-878c-669f13426faf",
   "metadata": {},
   "outputs": [],
   "source": []
  }
 ],
 "metadata": {
  "kernelspec": {
   "display_name": "Python 3 (ipykernel)",
   "language": "python",
   "name": "python3"
  },
  "language_info": {
   "codemirror_mode": {
    "name": "ipython",
    "version": 3
   },
   "file_extension": ".py",
   "mimetype": "text/x-python",
   "name": "python",
   "nbconvert_exporter": "python",
   "pygments_lexer": "ipython3",
   "version": "3.9.12"
  }
 },
 "nbformat": 4,
 "nbformat_minor": 5
}
