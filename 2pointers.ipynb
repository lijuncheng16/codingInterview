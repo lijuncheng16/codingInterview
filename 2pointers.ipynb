{
 "cells": [
  {
   "cell_type": "markdown",
   "id": "6613fc96-c18c-4cab-8c95-a23874d861bf",
   "metadata": {
    "tags": []
   },
   "source": [
    "16. # 2 Sum or variant or 3 Sum Closest"
   ]
  },
  {
   "cell_type": "code",
   "execution_count": null,
   "id": "16d132f0-2063-496c-942d-c076384a5044",
   "metadata": {},
   "outputs": [],
   "source": [
    "def threeSumClosest(self, nums: List[int], target: int) -> int:\n",
    "        if len(nums) == 3:\n",
    "            return sum(nums)\n",
    "        nums.sort()\n",
    "        res = []\n",
    "        diff = float('inf')\n",
    "        for i in range(len(nums)):\n",
    "            lo, hi = i+1, len(nums)-1\n",
    "            while lo < hi:\n",
    "                summ = nums[i]+nums[lo]+nums[hi]\n",
    "                if abs(target-summ) < abs(diff):\n",
    "                    diff = target-summ\n",
    "                elif summ < target:\n",
    "                    lo+=1\n",
    "                else:\n",
    "                    hi-=1\n",
    "            if diff == 0:\n",
    "                break\n",
    "        return target-diff"
   ]
  },
  {
   "cell_type": "markdown",
   "id": "ef2b81d9-0d8c-455a-8328-b77051f907f1",
   "metadata": {},
   "source": [
    "# 15. 3Sum\n",
    "nums[i] + nums[j] + nums[k] == 0."
   ]
  },
  {
   "cell_type": "code",
   "execution_count": null,
   "id": "9db7c5b6-6b06-4a7a-8225-d17d8844fec4",
   "metadata": {},
   "outputs": [],
   "source": [
    "def threeSum(self, nums: List[int]) -> List[List[int]]:\n",
    "    nums.sort()\n",
    "    res = []\n",
    "\n",
    "    # def twoSumII(nums, i, res):\n",
    "    #     lo, hi = i+1, len(nums)-1\n",
    "    #     while lo < hi:\n",
    "    #         summ = nums[i] + nums[lo] + nums[hi]\n",
    "    #         if summ < 0:\n",
    "    #             lo+=1 \n",
    "    #         elif summ > 0:\n",
    "    #             hi-=1 \n",
    "    #         else:\n",
    "    #             res.append([nums[i], nums[lo], nums[hi]])\n",
    "    #             lo+=1\n",
    "    #             hi-=1\n",
    "    #             while lo < hi and nums[lo] == nums[lo -1]:\n",
    "    #                 lo +=1\n",
    "    def twoSum(nums, i, res):\n",
    "        seen = set()\n",
    "        j = i + 1\n",
    "        while j < len(nums):\n",
    "            complement = -nums[i] - nums[j]\n",
    "            if complement in seen:\n",
    "                res.append([nums[i], nums[j], complement])\n",
    "                while j + 1 < len(nums) and nums[j] == nums[j+1]:\n",
    "                    j +=1 \n",
    "            seen.add(nums[j])\n",
    "            j +=1 \n",
    "\n",
    "    for i in range(len(nums)):\n",
    "        if nums[i] > 0:\n",
    "            break\n",
    "        if i == 0 or nums[i-1] != nums[i]:\n",
    "            twoSum(nums, i, res)\n",
    "    return res"
   ]
  },
  {
   "cell_type": "code",
   "execution_count": null,
   "id": "d1b06b56-9401-42df-889f-7249760cf924",
   "metadata": {},
   "outputs": [],
   "source": []
  }
 ],
 "metadata": {
  "kernelspec": {
   "display_name": "Python 3 (ipykernel)",
   "language": "python",
   "name": "python3"
  },
  "language_info": {
   "codemirror_mode": {
    "name": "ipython",
    "version": 3
   },
   "file_extension": ".py",
   "mimetype": "text/x-python",
   "name": "python",
   "nbconvert_exporter": "python",
   "pygments_lexer": "ipython3",
   "version": "3.9.12"
  }
 },
 "nbformat": 4,
 "nbformat_minor": 5
}
