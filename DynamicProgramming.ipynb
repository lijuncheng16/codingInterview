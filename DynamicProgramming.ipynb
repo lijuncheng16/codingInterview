{
 "cells": [
  {
   "cell_type": "markdown",
   "metadata": {},
   "source": [
    "# 118. Pascal's Triangle\n"
   ]
  },
  {
   "cell_type": "code",
   "execution_count": null,
   "metadata": {},
   "outputs": [],
   "source": [
    "from typing import List"
   ]
  },
  {
   "cell_type": "raw",
   "metadata": {},
   "source": [
    "Given an integer numRows, return the first numRows of Pascal's triangle.\n",
    "\n",
    "In Pascal's triangle, each number is the sum of the two numbers directly above it as shown:"
   ]
  },
  {
   "cell_type": "code",
   "execution_count": null,
   "metadata": {},
   "outputs": [],
   "source": [
    "def generate(numRows: int) -> List[List[int]]:\n",
    "    if numRows == 0: return [] # Base Case\n",
    "    if numRows == 1: return [[1]] # Base Case\n",
    "    row = []\n",
    "    last = self.generate(numRows - 1) # Recursion\n",
    "    for i in range(numRows):\n",
    "        if i == 0 or i == numRows - 1:\n",
    "            row.append(1)\n",
    "        else:\n",
    "            row.append(last[-1][i-1] + last[-1][i])\n",
    "    last.append(row)\n",
    "    return last"
   ]
  },
  {
   "cell_type": "code",
   "execution_count": null,
   "metadata": {},
   "outputs": [],
   "source": [
    "def generate(numRows: int) -> List[List[int]]:\n",
    "    if numRows   == 0: return []\n",
    "    elif numRows == 1: return [[1]]\n",
    "    Tri = [[1]]\n",
    "    for i in range(1,numRows):\n",
    "        row = [1]\n",
    "        for j in range(1,i):\n",
    "            row.append(Tri[i-1][j-1] + Tri[i-1][j]) \n",
    "        row.append(1)\n",
    "        Tri.append(row)\n",
    "    return Tri"
   ]
  },
  {
   "cell_type": "code",
   "execution_count": null,
   "metadata": {},
   "outputs": [],
   "source": [
    "def generate(numRows: int) -> List[List[int]]:\n",
    "    triangle = []\n",
    "\n",
    "    for row_num in range(numRows):\n",
    "        # The first and last row elements are always 1.\n",
    "        row = [None for _ in range(row_num + 1)]\n",
    "        row[0], row[-1] = 1, 1\n",
    "\n",
    "        # Each triangle element is equal to the sum of the elements\n",
    "        # above-and-to-the-left and above-and-to-the-right.\n",
    "        for j in range(1, len(row) - 1):\n",
    "            row[j] = triangle[row_num - 1][j - 1] + triangle[row_num - 1][j]\n",
    "\n",
    "        triangle.append(row)\n",
    "\n",
    "    return triangle"
   ]
  },
  {
   "cell_type": "code",
   "execution_count": null,
   "metadata": {},
   "outputs": [],
   "source": [
    "def generate(numRows: int) -> List[List[int]]:\n",
    "    pascal = [[1]*(i+1) for i in range(numRows)]\n",
    "    for i in range(numRows):\n",
    "        for j in range(1,i):\n",
    "            pascal[i][j] = pascal[i-1][j-1] + pascal[i-1][j]\n",
    "    return pascal"
   ]
  },
  {
   "cell_type": "markdown",
   "metadata": {},
   "source": [
    "# 198. House Robber\n"
   ]
  },
  {
   "cell_type": "code",
   "execution_count": null,
   "metadata": {},
   "outputs": [],
   "source": [
    "You are a professional robber planning to rob houses along a street. Each house has a certain amount of money stashed, the only constraint stopping you from robbing each of them is that adjacent houses have security systems connected and it will automatically contact the police if two adjacent houses were broken into on the same night.\n",
    "\n",
    "Given an integer array nums representing the amount of money of each house, return the maximum amount of money you can rob tonight without alerting the police.\n",
    "\n"
   ]
  },
  {
   "cell_type": "code",
   "execution_count": null,
   "metadata": {},
   "outputs": [],
   "source": [
    "   def rob(self, nums: List[int]) -> int:\n",
    "        memo = {}\n",
    "        def rob_house(i, nums):\n",
    "            #stop\n",
    "            if i >= len(nums):\n",
    "                return 0\n",
    "            if i in memo:\n",
    "                return memo[i]\n",
    "            ans = max(rob_house(i + 1, nums), rob_house(i + 2, nums) + nums[i])\n",
    "            memo[i] = ans\n",
    "            return ans\n",
    "        return rob_house(0, nums)"
   ]
  },
  {
   "cell_type": "code",
   "execution_count": null,
   "metadata": {},
   "outputs": [],
   "source": [
    "def rob(self, nums: List[int]) -> int:        \n",
    "        # Special handling for empty case.\n",
    "        if not nums:\n",
    "            return 0\n",
    "        \n",
    "        maxRobbedAmount = [None for _ in range(len(nums) + 1)]\n",
    "        N = len(nums)\n",
    "        # Base case initialization.\n",
    "        maxRobbedAmount[N], maxRobbedAmount[N - 1] = 0, nums[N - 1]\n",
    "    \n",
    "        # DP table calculations.\n",
    "        for i in range(N - 2, -1, -1):\n",
    "            \n",
    "            # Same as recursive solution.\n",
    "            maxRobbedAmount[i] = max(maxRobbedAmount[i + 1], maxRobbedAmount[i + 2] + nums[i])\n",
    "            \n",
    "        return maxRobbedAmount[0]   "
   ]
  },
  {
   "cell_type": "markdown",
   "metadata": {},
   "source": [
    "# 926. Flip String to Monotone Increasing\n"
   ]
  },
  {
   "cell_type": "markdown",
   "metadata": {},
   "source": [
    "A binary string is monotone increasing if it consists of some number of 0's (possibly none), followed by some number of 1's (also possibly none).\n",
    "\n",
    "You are given a binary string s. You can flip s[i] changing it from 0 to 1 or from 1 to 0.\n",
    "\n",
    "Return the minimum number of flips to make s monotone increasing."
   ]
  },
  {
   "cell_type": "raw",
   "metadata": {},
   "source": [
    "Let number num be the number of character 1s in s' prefix of length i:\n",
    "\n",
    "dp[i] = dp[i - 1] if s[i - 1] = '1'\n",
    "dp[i] = min(num, dp[i - 1] + 1) otherwise.\n",
    "The final answer should be dp[s.length()]\n",
    "\n",
    "Since dp[i] only depends on dp[i - 1], we can use a simple int variable instead of an array to reduce the space complexity."
   ]
  },
  {
   "cell_type": "code",
   "execution_count": 1,
   "metadata": {},
   "outputs": [],
   "source": [
    "def minFlipsMonoIncr(self, s: str) -> int:\n",
    "    ans = 0\n",
    "    num = 0\n",
    "    for c in s:\n",
    "        if c == '0':\n",
    "            ans = min(num, ans + 1)\n",
    "        else:\n",
    "            num += 1\n",
    "    return ans"
   ]
  },
  {
   "cell_type": "code",
   "execution_count": 2,
   "metadata": {},
   "outputs": [],
   "source": [
    "def minFlipsMonoIncr(self, s: str) -> int:\n",
    "    m = 0\n",
    "    for c in s:\n",
    "        if c == '0':\n",
    "            m += 1\n",
    "    ans = m\n",
    "    for c in s:\n",
    "        if c == '0':\n",
    "            m -= 1\n",
    "            ans = min(ans, m)\n",
    "        else:\n",
    "            m += 1\n",
    "    return ans"
   ]
  },
  {
   "cell_type": "markdown",
   "metadata": {},
   "source": [
    "# 279. Perfect Squares\n"
   ]
  },
  {
   "cell_type": "markdown",
   "metadata": {},
   "source": [
    "Given an integer n, return the least number of perfect square numbers that sum to n.\n",
    "\n",
    "A perfect square is an integer that is the square of an integer; in other words, it is the product of some integer with itself. For example, 1, 4, 9, and 16 are perfect squares while 3 and 11 are not.\n",
    "\n",
    " "
   ]
  },
  {
   "cell_type": "code",
   "execution_count": null,
   "metadata": {},
   "outputs": [],
   "source": [
    "def numSquares(self, n: int) -> int:\n",
    "        #numSquares(n) = min(numSquares(n-k)+1)\n",
    "        square_nums = [i**2 for i in range(1, int(math.sqrt(n))+1)]\n",
    "        cache = {}\n",
    "        def minNumSquares(k):\n",
    "            if k in cache:\n",
    "                return cache[k]\n",
    "            if k in square_nums:\n",
    "                return 1\n",
    "            min_num = float('inf')\n",
    "            for square in square_nums:\n",
    "                if k < square:\n",
    "                    break\n",
    "                new_num = minNumSquares(k-square) + 1\n",
    "                min_num = min(min_num, new_num)\n",
    "                cache[k] = min_num\n",
    "            return cache[k]\n",
    "        return minNumSquares(n)"
   ]
  },
  {
   "cell_type": "code",
   "execution_count": null,
   "metadata": {},
   "outputs": [],
   "source": [
    "def numSquares(self, n: int) -> int:\n",
    "        square_nums = [i**2 for i in range(1, int(math.sqrt(n))+1)]\n",
    "        dp = [float('inf')] * (n+1)\n",
    "        dp[0] = 0\n",
    "        for i in range(1, n+1):\n",
    "            for square in square_nums:\n",
    "                if i < square:\n",
    "                    break\n",
    "                dp[i] = min(dp[i], dp[i-square] + 1)\n",
    "        return dp[-1]"
   ]
  },
  {
   "cell_type": "code",
   "execution_count": null,
   "metadata": {},
   "outputs": [],
   "source": [
    "def numSquares(self, n: int) -> int:\n",
    "    #numSquares(n) = numSquares(n-k)\n",
    "    def is_divided_by(n, count):\n",
    "        \"\"\"\n",
    "            return: true if \"n\" can be decomposed into \"count\" number of perfect square numbers.\n",
    "            e.g. n=12, count=3:  true.\n",
    "                 n=12, count=2:  false\n",
    "        \"\"\"\n",
    "        if count == 1:\n",
    "            return n in square_nums\n",
    "\n",
    "        for k in square_nums:\n",
    "            if is_divided_by(n - k, count - 1):\n",
    "                return True\n",
    "        return False\n",
    "\n",
    "    square_nums = set([i * i for i in range(1, int(n**0.5)+1)])\n",
    "\n",
    "    for count in range(1, n+1):\n",
    "        if is_divided_by(n, count):\n",
    "            return count"
   ]
  },
  {
   "cell_type": "raw",
   "metadata": {},
   "source": [
    "n-nary tree can also solve this."
   ]
  },
  {
   "cell_type": "code",
   "execution_count": null,
   "metadata": {},
   "outputs": [],
   "source": [
    " def numSquares(self, n: int) -> int:\n",
    "        #numSquares(n) = numSquares(n-k)\n",
    "        square_nums = [i * i for i in range(1, int(n**0.5)+1)]\n",
    "    \n",
    "        level = 0\n",
    "        queue = {n}\n",
    "        while queue:\n",
    "            level += 1\n",
    "            #! Important: use set() instead of list() to eliminate the redundancy,\n",
    "            # which would even provide a 5-times speedup, 200ms vs. 1000ms.\n",
    "            next_queue = set()\n",
    "            # construct the queue for the next level\n",
    "            for remainder in queue:\n",
    "                for square_num in square_nums:    \n",
    "                    if remainder == square_num:\n",
    "                        return level  # find the node!\n",
    "                    elif remainder < square_num:\n",
    "                        break\n",
    "                    else:\n",
    "                        next_queue.add(remainder - square_num)\n",
    "            queue = next_queue\n",
    "        return level"
   ]
  },
  {
   "cell_type": "markdown",
   "metadata": {},
   "source": [
    "# 300. Longest Increasing Subsequence\n"
   ]
  },
  {
   "cell_type": "code",
   "execution_count": null,
   "metadata": {},
   "outputs": [],
   "source": [
    "def lengthOfLIS(self, nums: List[int]) -> int:\n",
    "    length = len(nums)\n",
    "    lis_arr = [1] * length\n",
    "    for j in range(1, length):\n",
    "        for i in range (j):\n",
    "            if nums[j]>nums[i]:\n",
    "                lis_arr[j] = max(lis_arr[i]+1, lis_arr[j])\n",
    "\n",
    "\n",
    "    return max(lis_arr)"
   ]
  },
  {
   "cell_type": "raw",
   "metadata": {},
   "source": [
    "Initialize an array sub which contains the first element of nums.\n",
    "\n",
    "Iterate through the input, starting from the second element. For each element num:\n",
    "\n",
    "If num is greater than any element in sub, then add num to sub.\n",
    "Otherwise, perform a binary search in sub to find the smallest element that is greater than or equal to num. Replace that element with num.\n",
    "Return the length of sub."
   ]
  },
  {
   "cell_type": "code",
   "execution_count": null,
   "metadata": {},
   "outputs": [],
   "source": [
    " def lengthOfLIS(self, nums: List[int]) -> int:\n",
    "        sub = []\n",
    "        for num in nums:\n",
    "            # print(sub, num)\n",
    "            i = bisect_left(sub, num) \n",
    "            # print(i)\n",
    "            # If num is greater than any element in sub\n",
    "            if i == len(sub):\n",
    "                sub.append(num)\n",
    "            \n",
    "            # Otherwise, replace the first element in sub greater than or equal to num\n",
    "            else:\n",
    "                sub[i] = num\n",
    "        \n",
    "        return len(sub)"
   ]
  },
  {
   "cell_type": "markdown",
   "metadata": {},
   "source": [
    "# 1143. Longest Common Subsequence\n"
   ]
  },
  {
   "cell_type": "markdown",
   "metadata": {},
   "source": [
    "Given two strings text1 and text2, return the length of their longest common subsequence. If there is no common subsequence, return 0.\n",
    "\n",
    "A subsequence of a string is a new string generated from the original string with some characters (can be none) deleted without changing the relative order of the remaining characters.\n",
    "\n",
    "For example, \"ace\" is a subsequence of \"abcde\".\n",
    "A common subsequence of two strings is a subsequence that is common to both strings."
   ]
  },
  {
   "cell_type": "code",
   "execution_count": null,
   "metadata": {},
   "outputs": [],
   "source": [
    "def longestCommonSubsequence(self, text1: str, text2: str) -> int:\n",
    "\n",
    "    dp_grid = [[0]*(len(text2)+1) for _ in range(len(text1)+1)]\n",
    "\n",
    "    for col in range(len(text2)-1, -1, -1):\n",
    "        for row in range(len(text1)-1,-1,-1):\n",
    "            if text2[col] == text1[row]:\n",
    "                dp_grid[row][col] = 1 + dp_grid[row+1][col+1]\n",
    "            else:\n",
    "                dp_grid[row][col] = max(dp_grid[row+1][col], dp_grid[row][col+1])\n",
    "    return dp_grid[0][0]"
   ]
  },
  {
   "cell_type": "code",
   "execution_count": null,
   "metadata": {},
   "outputs": [],
   "source": [
    "def longestCommonSubsequence(self, text1: str, text2: str) -> int:\n",
    "    @lru_cache(maxsize=None)\n",
    "    def memo_solve(p1, p2):\n",
    "\n",
    "        # Base case: If either string is now empty, we can't match\n",
    "        # up anymore characters.\n",
    "        if p1 == len(text1) or p2 == len(text2):\n",
    "            return 0\n",
    "\n",
    "        # Recursive case 1.\n",
    "        if text1[p1] == text2[p2]:\n",
    "            return 1 + memo_solve(p1 + 1, p2 + 1)\n",
    "\n",
    "        # Recursive case 2.\n",
    "        else:\n",
    "            return max(memo_solve(p1, p2 + 1), memo_solve(p1 + 1, p2))\n",
    "\n",
    "    return memo_solve(0, 0)"
   ]
  },
  {
   "cell_type": "code",
   "execution_count": null,
   "metadata": {},
   "outputs": [],
   "source": [
    "def longestCommonSubsequence(self, text1: str, text2: str) -> int:\n",
    "    memo = {}\n",
    "    def LCS(p1, p2):\n",
    "        if len(text1) == p1 or len(text2) == p2:\n",
    "            return 0\n",
    "        if text1[p1] == text2[p2]:\n",
    "            if (p1+1, p2+1) in memo:\n",
    "                return 1 + memo[(p1+1, p2+1)]\n",
    "            else:\n",
    "                return 1 + LCS(p1+1, p2+1)\n",
    "        else:\n",
    "            if (p1, p2) in memo:\n",
    "                return  memo[(p1, p2)]\n",
    "            memo[(p1, p2)] = max(LCS(p1, p2+1), LCS(p1+1, p2))\n",
    "            return memo[(p1, p2)]\n",
    "    return LCS(0, 0)"
   ]
  },
  {
   "cell_type": "markdown",
   "metadata": {},
   "source": [
    "# 516. Longest Palindromic Subsequence\n"
   ]
  },
  {
   "cell_type": "raw",
   "metadata": {},
   "source": [
    "Given a string s, find the longest palindromic subsequence's length in s.\n",
    "\n",
    "A subsequence is a sequence that can be derived from another sequence by deleting some or no elements without changing the order of the remaining elements."
   ]
  },
  {
   "cell_type": "code",
   "execution_count": null,
   "metadata": {},
   "outputs": [],
   "source": [
    "def longestPalindromeSubseq(self, s: str) -> int:\n",
    "    n = len(s)\n",
    "\n",
    "    memo = {}\n",
    "    def lps(l, r):\n",
    "        if (l,r) in memo:\n",
    "            return memo[(l,r)]\n",
    "        if l > r:\n",
    "            return 0\n",
    "        if l == r:\n",
    "            return 1\n",
    "\n",
    "        if s[l] == s[r]:\n",
    "            memo[(l,r)] = lps(l + 1, r - 1) + 2\n",
    "        else:\n",
    "            memo[(l,r)] = max(lps(l, r - 1), lps(l + 1, r))\n",
    "        return memo[(l, r)]\n",
    "\n",
    "    return lps(0, n - 1)"
   ]
  },
  {
   "cell_type": "code",
   "execution_count": null,
   "metadata": {},
   "outputs": [],
   "source": [
    "def longestPalindromeSubseq(self, s: str) -> int:\n",
    "    n = len(s)\n",
    "    dp = [[0] * n for _ in range(n)]\n",
    "\n",
    "    for i in range(n):\n",
    "        dp[i][i] = 1\n",
    "\n",
    "    for i in range(n-1, -1, -1):\n",
    "        for j in range(i+1, n):\n",
    "            if s[i] == s[j]:\n",
    "                dp[i][j] = dp[i+1][j-1] + 2\n",
    "            else:\n",
    "                dp[i][j] = max(dp[i+1][j], dp[i][j-1])\n",
    "\n",
    "    return dp[0][n-1]"
   ]
  },
  {
   "cell_type": "markdown",
   "metadata": {},
   "source": [
    "# 1027. Longest Arithmetic Subsequence\n",
    "Given an array nums of integers, return the length of the longest arithmetic subsequence in nums.\n",
    "\n",
    "Note that:\n",
    "\n",
    "A subsequence is an array that can be derived from another array by deleting some or no elements without changing the order of the remaining elements.\n",
    "A sequence seq is arithmetic if seq[i + 1] - seq[i] are all the same value (for 0 <= i < seq.length - 1)."
   ]
  },
  {
   "cell_type": "code",
   "execution_count": null,
   "metadata": {},
   "outputs": [],
   "source": [
    "def longestArithSeqLength(self, nums: List[int]) -> int:\n",
    "    dp = [{} for _ in range(len(nums))]\n",
    "    max_len = 0\n",
    "    for i in range(len(nums)):\n",
    "        for j in range(i):\n",
    "            diff = nums[j] - nums[i]\n",
    "            dp[i][diff] = dp[j].get(diff, 1) + 1\n",
    "            max_len = max(max_len, dp[i][diff])\n",
    "            # print(dp)\n",
    "    return max_len"
   ]
  },
  {
   "cell_type": "code",
   "execution_count": null,
   "metadata": {},
   "outputs": [],
   "source": [
    "def longestArithSeqLength(self, nums: List[int]) -> int:\n",
    "    memo = dict()\n",
    "\n",
    "    def dp(i, diff):\n",
    "        if (i, diff) in memo:\n",
    "            return memo[(i, diff)]\n",
    "\n",
    "        ans = 1\n",
    "        for j in range(i):\n",
    "            if nums[i] - nums[j] == diff:\n",
    "                ans = max(ans, dp(j, diff) + 1)\n",
    "\n",
    "        memo[(i, diff)] = ans\n",
    "        return ans\n",
    "\n",
    "    max_len = 0\n",
    "    for i in range(len(nums)):\n",
    "        for j in range(i):\n",
    "            diff = nums[i] - nums[j]\n",
    "            max_len = max(max_len, dp(i, diff))\n",
    "\n",
    "    return max_len"
   ]
  },
  {
   "cell_type": "markdown",
   "metadata": {},
   "source": [
    "# 1312. Minimum Insertion Steps to Make a String Palindrome (ChatGPT-one pass)\n"
   ]
  },
  {
   "cell_type": "markdown",
   "metadata": {},
   "source": [
    "Given a string s. In one step you can insert any character at any index of the string.\n",
    "\n",
    "Return the minimum number of steps to make s palindrome.\n",
    "\n",
    "A Palindrome String is one that reads the same backward as well as forward."
   ]
  },
  {
   "cell_type": "code",
   "execution_count": null,
   "metadata": {},
   "outputs": [],
   "source": [
    "def minInsertions(self, s: str) -> int:\n",
    "    def palindrome(s, i, j, memo):\n",
    "        if (i, j) in memo:\n",
    "            return memo[(i, j)]\n",
    "        if i >= j:\n",
    "            return 0\n",
    "        if s[i] == s[j]:\n",
    "            memo[(i, j)] = palindrome(s, i+1, j-1, memo)\n",
    "            return memo[(i, j)]\n",
    "        memo[(i, j)] = 1 + min(palindrome(s, i+1, j, memo), palindrome(s, i, j-1, memo))\n",
    "        return memo[(i, j)]\n",
    "\n",
    "    n = len(s)\n",
    "    memo = {}\n",
    "    return palindrome(s, 0, n-1, memo)"
   ]
  },
  {
   "cell_type": "code",
   "execution_count": null,
   "metadata": {},
   "outputs": [],
   "source": [
    "def minInsertions(self, s: str) -> int:\n",
    "    n = len(s)\n",
    "    dp = [[0] * n for _ in range(n)]\n",
    "    for l in range(2, n+1):\n",
    "        for i in range(n-l+1):\n",
    "            j = i+l-1\n",
    "            if s[i] == s[j]:\n",
    "                dp[i][j] = dp[i+1][j-1]\n",
    "            else:\n",
    "                dp[i][j] = 1 + min(dp[i+1][j], dp[i][j-1])\n",
    "    return dp[0][n-1]"
   ]
  },
  {
   "cell_type": "markdown",
   "metadata": {},
   "source": [
    "# 410. Split Array Largest Sum\n"
   ]
  },
  {
   "cell_type": "raw",
   "metadata": {},
   "source": [
    "Given an array nums which consists of non-negative integers and an integer m, you can split the array into m non-empty continuous subarrays.\n",
    "\n",
    "Write an algorithm to minimize the largest sum among these m subarrays.\n",
    "Input: nums = [7,2,5,10,8], m = 2\n",
    "Output: 18\n",
    "Explanation:\n",
    "There are four ways to split nums into two subarrays.\n",
    "The best way is to split it into [7,2,5] and [10,8],\n",
    "where the largest sum among the two subarrays is only 18."
   ]
  },
  {
   "cell_type": "raw",
   "metadata": {},
   "source": [
    "F[currIndex, subarrayCount] = min( max(sum[currIndex, i], F[i + 1, subarrayCount - 1]) ), For all i in range [currIndex, n - subarrayCount]\n",
    "\n",
    "Note that the function F shown here, represents getMinimumLargestSplitSum in the code provided below.\n",
    "Let's break down the expression max(sum[currIndex, i], F[i + 1, subarrayCount - 1]) so that we understand it better.\n",
    "\n",
    "F[i + 1, subarrayCount - 1] represents the smallest possible largest sum subarray in the range [i + 1, n - 1] with subarrayCount - 1 subarrays.\n",
    "sum[currIndex, i] represents the sum of the current subarray spanning the range of [currIndex, i].\n",
    "We take the max of these two values, the expression as a whole represents the largest sum subarray in the range [currIndex, n - 1] with subarrayCount subarrays, when we make the first split at index i.\n",
    "To find the optimal place to split the array, we calculate this for all i in the range [currIndex, n - subarrayCount] and take the minimum value as the result."
   ]
  },
  {
   "cell_type": "code",
   "execution_count": null,
   "metadata": {},
   "outputs": [],
   "source": [
    "def splitArray(self, nums: List[int], m: int) -> int:\n",
    "    n = len(nums)\n",
    "    prefix_sum = [0] + list(itertools.accumulate(nums))\n",
    "\n",
    "    def get_min_largest_split_sum(curr_ind, subarray_count):\n",
    "        #base case: 1 subarray left\n",
    "        if subarray_count == 1:\n",
    "            return prefix_sum[n] - prefix_sum[curr_ind]\n",
    "        #use recurrence\n",
    "        minimum_largest_split_sum = prefix_sum[n]\n",
    "        for i in range(curr_ind, n - subarray_count + 1):\n",
    "            first_split_sum = prefix_sum[i+1] - prefix_sum[curr_ind]\n",
    "            largest_split_sum = max(first_split_sum, get_min_largest_split_sum(i+1, subarray_count -1))\n",
    "            minimum_largest_split_sum = min(minimum_largest_split_sum, largest_split_sum)\n",
    "            if first_split_sum >= minimum_largest_split_sum:\n",
    "                break\n",
    "        return minimum_largest_split_sum\n",
    "    return get_min_largest_split_sum(0, m)"
   ]
  },
  {
   "cell_type": "code",
   "execution_count": null,
   "metadata": {},
   "outputs": [],
   "source": [
    "def splitArray(self, nums: List[int], m: int) -> int:\n",
    "    n = len(nums)\n",
    "    prefix_sum = [0] + list(itertools.accumulate(nums))\n",
    "    memo = [[0] * (m + 1) for _ in range(n)]\n",
    "    for subarray_count in range(1, m + 1):\n",
    "        for curr_index in range(n):\n",
    "            if subarray_count == 1:\n",
    "                memo[curr_index][subarray_count] = prefix_sum[n] - prefix_sum[curr_index]\n",
    "                continue\n",
    "            minimum_largest_split_sum = prefix_sum[n]\n",
    "            for i in range(curr_index, n - subarray_count + 1):\n",
    "                # Store the sum of the first subarray.\n",
    "                first_split_sum = prefix_sum[i + 1] - prefix_sum[curr_index]\n",
    "\n",
    "                # Find the maximum subarray sum for the current first split.\n",
    "                largest_split_sum = max(first_split_sum, memo[i + 1][subarray_count - 1])\n",
    "\n",
    "                # Find the minimum among all possible combinations.\n",
    "                minimum_largest_split_sum = min(minimum_largest_split_sum, largest_split_sum)\n",
    "\n",
    "                if first_split_sum >= minimum_largest_split_sum:\n",
    "                    break\n",
    "\n",
    "            memo[curr_index][subarray_count] = minimum_largest_split_sum\n",
    "    return memo[0][m]"
   ]
  },
  {
   "cell_type": "raw",
   "metadata": {},
   "source": [
    "The goal of this problem is to find the minimum largest subarray sum with mm subarrays. Instead of finding the answer directly, what if we try to guess the answer (say X), and check whether this particular value could be the largest subarray sum with m subarrays. If this is possible, we can check all values for X \\geq 0X≥0, and the first value that satisfies the condition will be the answer. Thus, by repeatedly solving the following problem, we can find the minimum largest subarray sum needed to split nums into m subarrays:"
   ]
  },
  {
   "cell_type": "markdown",
   "metadata": {},
   "source": [
    "The solution to this newly defined problem is as follows\n",
    "\n",
    "- First, make sure X is greater than or equal to the maximum element in the array. Otherwise, no solution would be possible because we cannot divide an element.\n",
    "- Start from 0th index and keep adding elements to sum only if adding the element does not make sum greater than X.\n",
    "- If adding the current element would make the sum greater than X then we have to split the subarray here. So we will increment the number of splits required (splitsRequired) and set sum to the value of current element (signifying that the current subarray only contains the current element).\n",
    "- Once we traversed the whole array, return splitsRequired + 1. This is the minimum number of subarrays required.\n"
   ]
  },
  {
   "cell_type": "markdown",
   "metadata": {},
   "source": [
    "Algorithm\n",
    "\n",
    "1. Store the sum of elements in nums in the variable sum and the maximum element of the array in maxElement.\n",
    "\n",
    "2. Initialize the boundary for binary search. The minimum value for the largest subarray sum is maxElement and the maximum value is equal to sum. Hence assign left and right to maxElement and sum respectively.\n",
    "\n",
    "3. Then while the left is not greater than right:\n",
    "\n",
    "a. Find the mid-value in range [left, right], this is equal to the maximum subarray sum allowed. Store it in maxSumAllowed.\n",
    "\n",
    "b. Find the minimum number of subarrays required to have the largest subarray sum equal to maxSumAllowed.\n",
    "\n",
    "4. If the number of subarrays is less than or equal to mm then assign maxSumAllowed as the answer minimumLargestSplitSum and decrease the value of our right boundary.\n",
    "If the number of subarrays is more than mm this can't be the answer hence, increase the value of our left boundary.\n",
    "Return minimumLargestSplitSum."
   ]
  },
  {
   "cell_type": "markdown",
   "metadata": {},
   "source": [
    "# 474. Ones and Zeroes\n"
   ]
  },
  {
   "cell_type": "raw",
   "metadata": {},
   "source": [
    "You are given an array of binary strings strs and two integers m and n.\n",
    "\n",
    "Return the size of the largest subset of strs such that there are at most m 0's and n 1's in the subset.\n",
    "\n",
    "A set x is a subset of a set y if all elements of x are also elements of y."
   ]
  },
  {
   "cell_type": "code",
   "execution_count": null,
   "metadata": {},
   "outputs": [],
   "source": [
    "# knapsack solution, recursion + memoize\n",
    "def findMaxForm(self, strs: List[str], m: int, n: int) -> int:\n",
    "    cache = {}\n",
    "    def helper(ind, m, n):\n",
    "        if ind == len(strs):\n",
    "            return 0\n",
    "        if (ind, m, n) in cache:\n",
    "            return cache[ind, m, n]\n",
    "        res = 0\n",
    "        count_0 = strs[ind].count(\"0\")\n",
    "        count_1 = len(strs[ind]) - count_0\n",
    "        if m >= count_0 and n >= count_1:\n",
    "            res = max(res, 1 + helper(ind + 1, m - count_0, n - count_1))\n",
    "        res = max(res, helper(ind + 1, m, n))\n",
    "        cache[ind, m, n] = res\n",
    "        return res\n",
    "    return helper(0, m, n)"
   ]
  },
  {
   "cell_type": "code",
   "execution_count": null,
   "metadata": {},
   "outputs": [],
   "source": [
    "def findMaxForm(self, strs: List[str], m: int, n: int) -> int:\n",
    "        dp = [[0] * (n + 1)\n",
    "               for _ in range(m + 1)]\n",
    "        for s in strs:\n",
    "            count_0 = s.count(\"0\")\n",
    "            count_1 = len(s) - count_0\n",
    "            for j in range(m, count_0 - 1, -1):\n",
    "                for k in range(n, count_1 - 1, -1):\n",
    "                    if j >= count_0 and k >= count_1:\n",
    "                        dp[j][k] = max(\n",
    "                            dp[j][k], 1 + dp[j-count_0][k-count_1])\n",
    "        return dp[m][n]"
   ]
  },
  {
   "cell_type": "markdown",
   "metadata": {},
   "source": [
    "# 32. Longest Valid Parentheses\n"
   ]
  },
  {
   "cell_type": "markdown",
   "metadata": {},
   "source": [
    "Given a string containing just the characters '(' and ')', find the length of the longest valid (well-formed) parentheses substring.\n",
    "s[i]=‘)’ and \\text{s}[i - 1] = \\text{‘(’}s[i−1]=‘(’, i.e. string looks like ``.......()\" \\Rightarrow‘‘.......()\"⇒\n",
    "dp[i]=dp[i−2]+2\n",
    "\n",
    "s[i]=‘)’ and \\text{s}[i - 1] = \\text{‘)’}s[i−1]=‘)’, i.e. string looks like ``.......))\" \\Rightarrow‘‘.......))\"⇒\n",
    "dp[i]=dp[i−1]+dp[i−dp[i−1]−2]+2 "
   ]
  },
  {
   "cell_type": "code",
   "execution_count": null,
   "metadata": {},
   "outputs": [],
   "source": [
    "def longestValidParentheses(self, s: str) -> int:\n",
    "    # dp solution\n",
    "    # ith ele of dp \n",
    "    maxans = 0 \n",
    "    dp = [0 for _ in range(len(s))]\n",
    "    for i in range(1,len(s)):\n",
    "        if (s[i] == ')'):\n",
    "            if s[i-1] == '(':\n",
    "                dp[i] =  dp[i-2] + 2 if i>=2 else 2\n",
    "            elif i-dp[i-1]> 0 and s[i-dp[i-1]-1]=='(':\n",
    "                dp[i] =  dp[i-dp[i-1]-2] +dp[i-1] +2 if (i-dp[i-1]) >= 2 else dp[i-1] +2\n",
    "            maxans = max(maxans, dp[i])\n",
    "    return maxans"
   ]
  },
  {
   "cell_type": "code",
   "execution_count": null,
   "metadata": {},
   "outputs": [],
   "source": [
    "def longestValidParentheses(self, s: str) -> int:\n",
    "    maxans = 0\n",
    "    stack = [-1]\n",
    "    for i in range(len(s)):\n",
    "        if s[i] == '(':\n",
    "            stack.append(i)\n",
    "        else:\n",
    "            stack.pop()\n",
    "            if stack:\n",
    "                maxans = max(maxans, i- stack[-1])\n",
    "            else:\n",
    "                stack.append(i)\n",
    "    return maxans"
   ]
  },
  {
   "cell_type": "markdown",
   "metadata": {},
   "source": [
    "# 120. Triangle\n",
    " ### 931. Minimum Falling Path Sum\n",
    " ### 118. Pascal's Triangle"
   ]
  },
  {
   "cell_type": "code",
   "execution_count": null,
   "metadata": {},
   "outputs": [],
   "source": [
    "def minimumTotal(self, triangle: List[List[int]]) -> int:\n",
    "    for row in range(1, len(triangle)):\n",
    "        for col in range(row+1):\n",
    "            smallest_above = math.inf\n",
    "            if col > 0:\n",
    "                smallest_above = triangle[row-1][col-1]\n",
    "            if col < row:\n",
    "                smallest_above = min(smallest_above, triangle[row-1][col])\n",
    "            triangle[row][col] += smallest_above\n",
    "    return min(triangle[-1])"
   ]
  },
  {
   "cell_type": "code",
   "execution_count": null,
   "metadata": {},
   "outputs": [],
   "source": [
    "def minimumTotal(self, triangle: List[List[int]]) -> int:\n",
    "    @lru_cache()\n",
    "    def dfs(i, level):\n",
    "        if level == len(triangle):\n",
    "            return 0\n",
    "\n",
    "        left = triangle[level][i] + dfs(i, level + 1)\n",
    "        right = triangle[level][i] + dfs(i+1, level + 1)\n",
    "\n",
    "        return min(left, right)\n",
    "\n",
    "    return dfs(0, 0)\n"
   ]
  },
  {
   "cell_type": "markdown",
   "metadata": {},
   "source": [
    "# 40. Combination Sum II ( Need to review knapsack, backtrack and coin change)\n"
   ]
  },
  {
   "cell_type": "markdown",
   "metadata": {},
   "source": [
    "Given a collection of candidate numbers (candidates) and a target number (target), find all unique combinations in candidates where the candidate numbers sum to target.\n",
    "\n",
    "Each number in candidates may only be used once in the combination."
   ]
  },
  {
   "cell_type": "code",
   "execution_count": null,
   "metadata": {},
   "outputs": [],
   "source": [
    "from typing import List"
   ]
  },
  {
   "cell_type": "code",
   "execution_count": null,
   "metadata": {},
   "outputs": [],
   "source": [
    "candidates = [10,1,2,7,6,1,5]\n",
    "target = 8"
   ]
  },
  {
   "cell_type": "code",
   "execution_count": null,
   "metadata": {},
   "outputs": [],
   "source": [
    "candidates = [2,5,2,1,2]\n",
    "target = 5"
   ]
  },
  {
   "cell_type": "code",
   "execution_count": null,
   "metadata": {},
   "outputs": [],
   "source": [
    "def combinationSum2(candidates: List[int], target: int) -> List[List[int]]:\n",
    "        candidates.sort()\n",
    "        dp = [set() for i in range(target+1)]\n",
    "        print(f'original dp array:{dp}')\n",
    "        dp[0].add(())\n",
    "        print(f'first step:{dp}')\n",
    "\n",
    "        for num in candidates:\n",
    "            for t in range(target, num-1, -1):\n",
    "                for prev in dp[t-num]:\n",
    "                    dp[t].add(prev + (num,))\n",
    "                    print (f'step: {dp}')\n",
    "        return list(dp[-1])"
   ]
  },
  {
   "cell_type": "markdown",
   "metadata": {},
   "source": [
    "#### go back to review coin change knapsack"
   ]
  },
  {
   "cell_type": "code",
   "execution_count": null,
   "metadata": {},
   "outputs": [],
   "source": [
    "combinationSum2(candidates, target)"
   ]
  },
  {
   "cell_type": "markdown",
   "metadata": {},
   "source": [
    "### also can be solved with recursion need to review, memory is kinda of fading."
   ]
  },
  {
   "cell_type": "markdown",
   "metadata": {},
   "source": [
    "# 629. K Inverse Pairs Array (very hard)\n"
   ]
  },
  {
   "cell_type": "markdown",
   "metadata": {},
   "source": [
    "For an integer array nums, an inverse pair is a pair of integers [i, j] where 0 <= i < j < nums.length and nums[i] > nums[j].\n",
    "\n",
    "Given two integers n and k, return the number of different arrays consist of numbers from 1 to n such that there are exactly k inverse pairs. Since the answer can be huge, return it modulo 109 + 7.\n",
    "\n",
    " "
   ]
  },
  {
   "cell_type": "markdown",
   "metadata": {},
   "source": [
    "## subproblem: \n",
    "count(n,k)=∑ i=0min(k,n−1)count(n−1,k−i).Similarly, for an element with k-ik−i number of inverse pairs, we can add this new number nn at a position ii steps from the right. Each of these updations to the arrays leads to a new arrangement, each with the number of inverse pairs being equal to kk."
   ]
  },
  {
   "cell_type": "code",
   "execution_count": null,
   "metadata": {},
   "outputs": [],
   "source": [
    "def kInversePairs(self, n: int, k: int) -> int:\n",
    "    memo = [[-1]*1002 for _ in range(1002)] \n",
    "    def k_inv(n, k, memo):\n",
    "        if k < 0: return 0\n",
    "        if k == 0:\n",
    "            return 1\n",
    "        elif n == 1:\n",
    "            return 0\n",
    "        else:\n",
    "            if memo[n][k] != -1:\n",
    "                return memo[n][k]\n",
    "            res = 0\n",
    "            for i in range(n):\n",
    "                res += k_inv(n-1, k-i, memo)\n",
    "            memo[n][k] = res % (10 ** 9 + 7)\n",
    "            return res % (10 ** 9 + 7)\n",
    "    return k_inv(n,k, memo)"
   ]
  },
  {
   "cell_type": "code",
   "execution_count": null,
   "metadata": {},
   "outputs": [],
   "source": [
    "def kInversePairs(self, n: int, k: int) -> int:\n",
    "    dp = [[0] * (k+1) for i in range(n+1)]\n",
    "    dp[0][0] = 1\n",
    "\n",
    "    for i in range(1, n+1):\n",
    "        for j in range(k+1):\n",
    "            if j == 0:\n",
    "                dp[i][j] += dp[i-1][0]\n",
    "            else:\n",
    "                dp[i][j] += dp[i][j-1] + dp[i-1][j]\n",
    "                if j-i >= 0:\n",
    "                    dp[i][j] -= dp[i-1][j-i]\n",
    "            dp[i][j] = dp[i][j] % (10 ** 9 + 7)\n",
    "\n",
    "    return dp[n][k]"
   ]
  },
  {
   "cell_type": "markdown",
   "metadata": {},
   "source": [
    "# 576. Out of Boundary Paths\n"
   ]
  },
  {
   "cell_type": "raw",
   "metadata": {},
   "source": [
    "There is an m x n grid with a ball. The ball is initially at the position [startRow, startColumn]. You are allowed to move the ball to one of the four adjacent cells in the grid (possibly out of the grid crossing the grid boundary). You can apply at most maxMove moves to the ball.\n",
    "\n",
    "Given the five integers m, n, maxMove, startRow, startColumn, return the number of paths to move the ball out of the grid boundary. Since the answer can be very large, return it modulo 109 + 7.\n",
    "\n",
    " "
   ]
  },
  {
   "cell_type": "code",
   "execution_count": null,
   "metadata": {},
   "outputs": [],
   "source": [
    "def findPaths(self, m: int, n: int, maxMove: int, startRow: int, startColumn: int) -> int:\n",
    "\n",
    "    def findPath(m, n, maxMove, startRow, startColumn, memo):\n",
    "        if startRow == m or startColumn == n or startRow <0 or startColumn <0:\n",
    "            return 1\n",
    "        if maxMove ==0:\n",
    "            return 0\n",
    "        if memo[startRow][startColumn][maxMove] >=0:\n",
    "            return memo[startRow][startColumn][maxMove]\n",
    "        memo[startRow][startColumn][maxMove]= (findPath(m, n, maxMove-1, startRow-1, startColumn, memo)+findPath( m, n, maxMove-1, startRow+1, startColumn, memo)+findPath( m, n, maxMove-1, startRow, startColumn-1, memo)+findPath( m, n, maxMove-1, startRow, startColumn+1, memo)) % (10**9+7)\n",
    "        return memo[startRow][startColumn][maxMove]\n",
    "\n",
    "    memo = [[[-1]*(maxMove+1) for _ in range(n+1)] for _ in range(m+1)]\n",
    "    print(memo)\n",
    "    return findPath(m, n, maxMove, startRow, startColumn, memo)"
   ]
  },
  {
   "cell_type": "markdown",
   "metadata": {},
   "source": [
    "# 472. Concatenated Words\n"
   ]
  },
  {
   "cell_type": "markdown",
   "metadata": {},
   "source": [
    "Given an array of strings words (without duplicates), return all the concatenated words in the given list of words.\n",
    "\n",
    "A concatenated word is defined as a string that is comprised entirely of at least two shorter words in the given array."
   ]
  },
  {
   "cell_type": "code",
   "execution_count": null,
   "metadata": {},
   "outputs": [],
   "source": [
    "Input: words = [\"cat\",\"cats\",\"catsdogcats\",\"dog\",\"dogcatsdog\",\"hippopotamuses\",\"rat\",\"ratcatdogcat\"]\n",
    "Output: [\"catsdogcats\",\"dogcatsdog\",\"ratcatdogcat\"]\n",
    "Explanation: \"catsdogcats\" can be concatenated by \"cats\", \"dog\" and \"cats\"; \n",
    "\"dogcatsdog\" can be concatenated by \"dog\", \"cats\" and \"dog\"; \n",
    "\"ratcatdogcat\" can be concatenated by \"rat\", \"cat\", \"dog\" and \"cat\""
   ]
  },
  {
   "cell_type": "code",
   "execution_count": null,
   "metadata": {},
   "outputs": [],
   "source": [
    "    def findAllConcatenatedWordsInADict(self, words: List[str]) -> List[str]:\n",
    "        def check(word, d):\n",
    "            if word in d:\n",
    "                return True\n",
    "\n",
    "            for i in range(len(word),0, -1):\n",
    "                if word[:i] in d and check(word[i:], d):\n",
    "                    return True\n",
    "            return False\n",
    "        \n",
    "        res = []\n",
    "        words_dict = set(words)\n",
    "        for word in words:\n",
    "            words_dict.remove(word)\n",
    "            if check(word, words_dict) is True:\n",
    "                res.append(word)\n",
    "            words_dict.add(word)\n",
    "        return res\n",
    "    "
   ]
  },
  {
   "cell_type": "markdown",
   "metadata": {},
   "source": [
    "# 823. Binary Trees With Factors\n"
   ]
  },
  {
   "cell_type": "markdown",
   "metadata": {},
   "source": [
    "Given an array of unique integers, arr, where each integer arr[i] is strictly greater than 1.\n",
    "\n",
    "We make a binary tree using these integers, and each number may be used for any number of times. Each non-leaf node's value should be equal to the product of the values of its children.\n",
    "\n",
    "Return the number of binary trees we can make. The answer may be too large so return the answer modulo 109 + 7.\n",
    "\n"
   ]
  },
  {
   "cell_type": "code",
   "execution_count": null,
   "metadata": {},
   "outputs": [],
   "source": [
    "def numFactoredBinaryTrees(self, arr: List[int]) -> int:\n",
    "    MOD= 10**9+7\n",
    "    N = len(arr)\n",
    "    arr.sort()\n",
    "    dp = [1] * N\n",
    "    index = {x: i for i, x in enumerate(arr)}\n",
    "    for i, x in enumerate(arr):\n",
    "        for j in range(i):\n",
    "            if x % arr[j] ==0: #arr[j] will be left child\n",
    "                right = x // arr[j]\n",
    "                if right in index:\n",
    "                    dp[i] += dp[j] * dp[index[right]]\n",
    "                    dp[i] %= MOD\n",
    "    return sum(dp)% MOD\n"
   ]
  },
  {
   "cell_type": "markdown",
   "metadata": {},
   "source": [
    "# 121. Best Time to Buy and Sell Stock\n",
    "\n",
    "Say you have an array for which the ith element is the price of a given stock on day i.\n",
    "\n",
    "If you were only permitted to complete at most one transaction (i.e., buy one and sell one share of the stock), design an algorithm to find the maximum profit.\n",
    "\n",
    "Note that you cannot sell a stock before you buy one."
   ]
  },
  {
   "cell_type": "markdown",
   "metadata": {},
   "source": [
    "Input: [7,1,5,3,6,4]\n",
    "Output: 5"
   ]
  },
  {
   "cell_type": "code",
   "execution_count": null,
   "metadata": {},
   "outputs": [],
   "source": [
    "from typing import List"
   ]
  },
  {
   "cell_type": "code",
   "execution_count": null,
   "metadata": {},
   "outputs": [],
   "source": [
    "def maxProfit(prices: List[int]) -> int:\n",
    "    num_days = len(prices)\n",
    "    max_profit_list = [0 for i in range(num_days)]\n",
    "    for i in range(num_days):\n",
    "        for j in range(i, num_days):\n",
    "            print(f'i: {i}, j: {j}')\n",
    "            if prices[j]-prices[i]> max_profit_list[i]:\n",
    "                max_profit_list[i] = prices[j]-prices[i]\n",
    "            print(max_profit_list)\n",
    "    return max(max_profit_list)"
   ]
  },
  {
   "cell_type": "code",
   "execution_count": null,
   "metadata": {},
   "outputs": [],
   "source": [
    "prices =[7,1,5,3,6,4]"
   ]
  },
  {
   "cell_type": "code",
   "execution_count": null,
   "metadata": {
    "scrolled": true,
    "tags": []
   },
   "outputs": [],
   "source": [
    "maxProfit(prices)"
   ]
  },
  {
   "cell_type": "code",
   "execution_count": null,
   "metadata": {},
   "outputs": [],
   "source": [
    "def maxProfit(prices: List[int]) -> int:\n",
    "    low = 2**31-1\n",
    "    low_index = 0\n",
    "    max_profit = 0\n",
    "    for ind, price in enumerate(prices): \n",
    "        print(ind, price, low)\n",
    "        if price < low: \n",
    "            low = price\n",
    "        if price-low > max_profit:\n",
    "            max_profit = price -low \n",
    "    print(max_profit)"
   ]
  },
  {
   "cell_type": "code",
   "execution_count": null,
   "metadata": {},
   "outputs": [],
   "source": [
    "maxProfit(prices)"
   ]
  },
  {
   "cell_type": "markdown",
   "metadata": {},
   "source": [
    "# 122. Best Time to Buy and Sell Stock II\n"
   ]
  },
  {
   "cell_type": "code",
   "execution_count": null,
   "metadata": {},
   "outputs": [],
   "source": [
    "def maxProfit(self, prices: List[int]) -> int:\n",
    "    res = 0\n",
    "    for i, j in zip(prices[1:], prices[:-1]):\n",
    "        res+= max(0, i-j)\n",
    "    return res"
   ]
  },
  {
   "cell_type": "markdown",
   "metadata": {},
   "source": [
    "# 123. Best Time to Buy and Sell Stock III\n"
   ]
  },
  {
   "cell_type": "raw",
   "metadata": {},
   "source": [
    "You are given an array prices where prices[i] is the price of a given stock on the ith day.\n",
    "\n",
    "Find the maximum profit you can achieve. You may complete at most two transactions."
   ]
  },
  {
   "cell_type": "code",
   "execution_count": null,
   "metadata": {},
   "outputs": [],
   "source": [
    "def maxProfit(self, prices):\n",
    "    \"\"\"\n",
    "    :type prices: List[int]\n",
    "    :rtype: int\n",
    "    \"\"\"\n",
    "    if len(prices) <= 1:\n",
    "        return 0\n",
    "\n",
    "    left_min = prices[0]\n",
    "    right_max = prices[-1]\n",
    "\n",
    "    length = len(prices)\n",
    "    left_profits = [0] * length\n",
    "    # pad the right DP array with an additional zero for convenience.\n",
    "    right_profits = [0] * (length + 1)\n",
    "\n",
    "    # construct the bidirectional DP array\n",
    "    for l in range(1, length):\n",
    "        left_profits[l] = max(left_profits[l-1], prices[l] - left_min)\n",
    "        left_min = min(left_min, prices[l])\n",
    "\n",
    "        r = length - 1 - l\n",
    "        right_profits[r] = max(right_profits[r+1], right_max - prices[r])\n",
    "        right_max = max(right_max, prices[r])\n",
    "\n",
    "    max_profit = 0\n",
    "    for i in range(0, length):\n",
    "        max_profit = max(max_profit, left_profits[i] + right_profits[i+1])\n",
    "\n",
    "    return max_profit"
   ]
  },
  {
   "cell_type": "code",
   "execution_count": null,
   "metadata": {},
   "outputs": [],
   "source": [
    "def maxProfit(self, prices):\n",
    "    \"\"\"\n",
    "    :type prices: List[int]\n",
    "    :rtype: int\n",
    "    \"\"\"\n",
    "    t1_cost, t2_cost = float('inf'), float('inf')\n",
    "    t1_profit, t2_profit = 0, 0\n",
    "\n",
    "    for price in prices:\n",
    "        # the maximum profit if only one transaction is allowed\n",
    "        t1_cost = min(t1_cost, price)\n",
    "        t1_profit = max(t1_profit, price - t1_cost)\n",
    "        # reinvest the gained profit in the second transaction\n",
    "        t2_cost = min(t2_cost, price - t1_profit)\n",
    "        t2_profit = max(t2_profit, price - t2_cost)\n",
    "\n",
    "    return t2_profit"
   ]
  },
  {
   "cell_type": "markdown",
   "metadata": {},
   "source": [
    "# 188. Best Time to Buy and Sell Stock IV\n"
   ]
  },
  {
   "cell_type": "raw",
   "metadata": {},
   "source": [
    "You are given an integer array prices where prices[i] is the price of a given stock on the ith day, and an integer k.\n",
    "\n",
    "Find the maximum profit you can achieve. You may complete at most k transactions."
   ]
  },
  {
   "cell_type": "code",
   "execution_count": null,
   "metadata": {},
   "outputs": [],
   "source": [
    "def maxProfit(self, k: int, prices: List[int]) -> int:\n",
    "    def solve(prices, k, idx, memo={}):\n",
    "        if idx <= 0 or not k: return 0\n",
    "        if (k, idx) in memo: return memo[k, idx]\n",
    "        nosell, sell = solve(prices, k, idx-1, memo), 0\n",
    "        for i in range(idx):\n",
    "            sell = max(sell, prices[idx] - prices[i] + solve(prices, k-1, i, memo))\n",
    "        memo[k, idx] = max(sell, nosell)\n",
    "        return memo[k, idx]\n",
    "    return solve(prices, k, len(prices) - 1)"
   ]
  },
  {
   "cell_type": "code",
   "execution_count": null,
   "metadata": {},
   "outputs": [],
   "source": [
    "def maxProfit(self, k: int, prices: List[int]) -> int:\n",
    "    n = len(prices)\n",
    "    if not prices or k ==0:\n",
    "        return 0\n",
    "    if 2*k > n:\n",
    "        res = 0\n",
    "        for i, j in zip(prices[1:], prices[:-1]):\n",
    "            res+= max(0, i-j)\n",
    "        return res\n",
    "    #dp[i][used_k][ishold]\n",
    "    dp = [[[-math.inf]*2 for _ in range(k+1)] for _ in range(n)]\n",
    "    dp[0][0][0] = 0\n",
    "    dp[0][1][1] = -prices[0]\n",
    "    for i in range(1, n):\n",
    "        for j in range(k+1):\n",
    "            dp[i][j][0] = max(dp[i-1][j][0], dp[i-1][j][1] + prices[i] ) # keep not holding VS. selling\n",
    "            if j>0:\n",
    "                dp[i][j][1] = max(dp[i-1][j][1], dp[i-1][j-1][0] - prices[i]) # keep holding VS. buying\n",
    "\n",
    "    res = max([dp[n-1][j][0] for j in range(k+1)])\n",
    "    return res"
   ]
  },
  {
   "cell_type": "markdown",
   "metadata": {},
   "source": [
    "# 714. Best Time to Buy and Sell Stock with Transaction Fee\n"
   ]
  },
  {
   "cell_type": "code",
   "execution_count": null,
   "metadata": {},
   "outputs": [],
   "source": [
    "def maxProfit(self, prices: List[int], fee: int) -> int:\n",
    "    n = len(prices)\n",
    "    hold, not_hold = [0] * n, [0]*n\n",
    "    hold[0] = -prices[0]\n",
    "    for i in range(1, n):\n",
    "        hold[i] = max(hold[i-1], not_hold[i-1] - prices[i])\n",
    "        not_hold[i] = max(not_hold[i-1], hold[i-1] + prices[i] - fee)\n",
    "    return not_hold[-1]"
   ]
  },
  {
   "cell_type": "markdown",
   "metadata": {},
   "source": [
    "# 956. Tallest Billboard\n",
    "You are installing a billboard and want it to have the largest height. The billboard will have two steel supports, one on each side. Each steel support must be an equal height.\n",
    "\n",
    "You are given a collection of rods that can be welded together. For example, if you have rods of lengths 1, 2, and 3, you can weld them together to make a support of length 6.\n",
    "\n",
    "Return the largest possible height of your billboard installation. If you cannot support the billboard, return 0.\n",
    "### GPT-4 cannot do it."
   ]
  },
  {
   "cell_type": "code",
   "execution_count": null,
   "metadata": {},
   "outputs": [],
   "source": [
    "def tallestBillboard(self, rods: List[int]) -> int:\n",
    "    dp = {0:0}\n",
    "\n",
    "    for r in rods:\n",
    "        # dp.copy() means we don't add r to these stands.\n",
    "        new_dp = dp.copy()\n",
    "        for diff, taller in dp.items():\n",
    "            shorter = taller - diff\n",
    "\n",
    "            # Add r to the taller stand, thus the height difference is increased to diff + r.\n",
    "            new_dp[diff + r] = max(new_dp.get(diff + r, 0), taller + r)\n",
    "\n",
    "            # Add r to the shorter stand, the height difference is expressed as abs(shorter + r - taller).\n",
    "            new_diff = abs(shorter + r - taller)\n",
    "            new_taller = max(shorter + r, taller)\n",
    "            new_dp[new_diff] = max(new_dp.get(new_diff, 0), new_taller)\n",
    "        # print(dp, new_dp)\n",
    "        dp = new_dp\n",
    "\n",
    "    return dp.get(0, 0)\n",
    "# This solution is very advanced!\n"
   ]
  },
  {
   "cell_type": "code",
   "execution_count": null,
   "metadata": {},
   "outputs": [],
   "source": [
    "def tallestBillboard(self, rods: List[int]) -> int:\n",
    "# This solution is more intuitive meeting in the middle\n",
    "    def helper(half_rods):\n",
    "        states = set()\n",
    "        states.add((0, 0))\n",
    "        for rod in half_rods:\n",
    "            new_states = set()\n",
    "            for l, r in states:\n",
    "                new_states.add((l+rod, r))\n",
    "                new_states.add((l, r+rod))\n",
    "            states |= new_states\n",
    "        dp = {}\n",
    "        for left, right in states:\n",
    "            dp[left-right] = max(dp.get(left-right, 0), left)\n",
    "        return dp\n",
    "    n = len(rods)\n",
    "    left_half = helper(rods[:n//2])\n",
    "    right_half = helper(rods[n//2:])\n",
    "    # print(left_half, right_half)\n",
    "    ans = 0\n",
    "    for diff in left_half:\n",
    "        if -diff in right_half:\n",
    "            ans = max(ans, left_half[diff] + right_half[-diff])\n",
    "\n",
    "    return ans"
   ]
  },
  {
   "cell_type": "markdown",
   "metadata": {},
   "source": [
    "# 879. Profitable Schemes (ChatGPT wrong, GPT-4 can do)\n"
   ]
  },
  {
   "cell_type": "markdown",
   "metadata": {},
   "source": [
    "There is a group of n members, and a list of various crimes they could commit. The ith crime generates a profit[i] and requires group[i] members to participate in it. If a member participates in one crime, that member can't participate in another crime.\n",
    "\n",
    "Let's call a profitable scheme any subset of these crimes that generates at least minProfit profit, and the total number of members participating in that subset of crimes is at most n.\n",
    "\n",
    "Return the number of schemes that can be chosen. Since the answer may be very large, return it modulo 109 + 7.\n",
    "\n"
   ]
  },
  {
   "cell_type": "code",
   "execution_count": null,
   "metadata": {},
   "outputs": [],
   "source": [
    "def profitableSchemes(self, n: int, minProfit: int, group: List[int], profit: List[int]) -> int:\n",
    "    g_len = len(group)\n",
    "    MOD = 10**9 + 7\n",
    "\n",
    "    # Initialize the memoization table\n",
    "    memo = [[[None] * (minProfit + 1) for _ in range(n + 1)] for _ in range(g_len)]\n",
    "\n",
    "    def dp(k, i, j):\n",
    "        # Base case\n",
    "        if k == 0:\n",
    "            return int(i == 0 and j == 0)\n",
    "\n",
    "        # If the value is already in the memoization table, return it\n",
    "        if memo[k - 1][i][j] is not None:\n",
    "            return memo[k - 1][i][j]\n",
    "\n",
    "        # Calculate the number of ways without including the current crime\n",
    "        ans = dp(k - 1, i, j)\n",
    "\n",
    "        # Calculate the number of ways including the current crime if possible\n",
    "        members = group[k - 1]\n",
    "        curr_profit = profit[k - 1]\n",
    "        if i >= members:\n",
    "            new_profit = max(j - curr_profit, 0)\n",
    "            ans += dp(k - 1, i - members, new_profit)\n",
    "\n",
    "        # Apply the modulo operation and store the result in the memoization table\n",
    "        ans %= MOD\n",
    "        memo[k - 1][i][j] = ans\n",
    "        return ans\n",
    "\n",
    "    # Calculate the total number of schemes\n",
    "    result = 0\n",
    "    for i in range(n + 1):\n",
    "        result += dp(g_len, i, minProfit)\n",
    "        result %= MOD\n",
    "\n",
    "    return result"
   ]
  },
  {
   "cell_type": "code",
   "execution_count": null,
   "metadata": {},
   "outputs": [],
   "source": [
    "def profitableSchemes(self, n: int, minProfit: int, group: List[int], profit: List[int]) -> int:\n",
    "    MOD = 10**9 + 7\n",
    "    g_len = len(group)\n",
    "\n",
    "    # Initialize the dp array\n",
    "    dp = [[[0] * (minProfit + 1) for _ in range(n + 1)] for _ in range(g_len + 1)]\n",
    "    dp[0][0][0] = 1\n",
    "\n",
    "    # Iterate over all crimes\n",
    "    for k in range(1, g_len + 1):\n",
    "        members = group[k - 1]\n",
    "        curr_profit = profit[k - 1]\n",
    "        for i in range(n + 1):\n",
    "            for j in range(minProfit + 1):\n",
    "                dp[k][i][j] = dp[k - 1][i][j]  # Not including the current crime\n",
    "                if i >= members:  # Including the current crime\n",
    "                    new_profit = max(j - curr_profit, 0)\n",
    "                    dp[k][i][j] += dp[k - 1][i - members][new_profit]\n",
    "                dp[k][i][j] %= MOD\n",
    "\n",
    "    # Calculate the total number of schemes\n",
    "    result = 0\n",
    "    for i in range(n + 1):\n",
    "        result += dp[g_len][i][minProfit]\n",
    "        result %= MOD\n",
    "\n",
    "    return result"
   ]
  },
  {
   "cell_type": "markdown",
   "metadata": {},
   "source": [
    "# 1235. Maximum Profit in Job Scheduling\n"
   ]
  },
  {
   "cell_type": "markdown",
   "metadata": {},
   "source": [
    "We have n jobs, where every job is scheduled to be done from startTime[i] to endTime[i], obtaining a profit of profit[i].\n",
    "\n",
    "You're given the startTime, endTime and profit arrays, return the maximum profit you can take such that there are no two jobs in the subset with overlapping time range.\n",
    "\n",
    "If you choose a job that ends at time X you will be able to start another job that starts at time X.\n",
    "\n"
   ]
  },
  {
   "cell_type": "code",
   "execution_count": null,
   "metadata": {},
   "outputs": [],
   "source": [
    " def jobScheduling(self, startTime: List[int], endTime: List[int], profit: List[int]) -> int:\n",
    "        jobs = sorted([ele for ele in zip(startTime, endTime, profit)], key=lambda x: x[0])\n",
    "        dp = [0]*len(jobs)\n",
    "        memo = {}\n",
    "        def findNextJob(startTime, lastEndingTime):\n",
    "            start = 0\n",
    "            end = len(startTime)-1\n",
    "            nextIndex = len(startTime)\n",
    "            while start <=end:\n",
    "                mid = start + (end-start)//2\n",
    "                if startTime[mid] >= lastEndingTime:\n",
    "                    nextIndex = mid\n",
    "                    end = mid -1\n",
    "                else:\n",
    "                    start = mid +1\n",
    "            return nextIndex\n",
    "        \n",
    "        def findMaxProfit(jobs, startTime):\n",
    "            for position in range(len(startTime)-1, -1, -1):\n",
    "                currProfit = 0\n",
    "                nextIndex = findNextJob(startTime, jobs[position][1])\n",
    "                if nextIndex != len(startTime):\n",
    "                    currProfit = jobs[position][2] + memo[nextIndex]\n",
    "                else:\n",
    "                    currProfit = jobs[position][2]\n",
    "                if position == len(startTime)-1:\n",
    "                    memo[position] = currProfit\n",
    "                else:\n",
    "                    memo[position] = max(currProfit, memo[position+1])\n",
    "            return memo[0]\n",
    "        \n",
    "        startTime = [item[0] for item in jobs]\n",
    "        return findMaxProfit(jobs, startTime)"
   ]
  },
  {
   "cell_type": "markdown",
   "metadata": {},
   "source": [
    "### More advanced sorting + priority queue algo\n",
    "1. Store the startTime, endTime, and profit of each job in jobs.\n",
    "2. Sort the jobs according to their starting time.\n",
    "3. Iterate over jobs from left to right, where i is the index of the current job. For each job\n",
    "    - While the job chain at the top of the priority queue does not conflict with the current job, pop from the priority queue.\n",
    "    - For each popped job chain compare its total profit with the maxProfit and update maxProfit accordingly.\n",
    "4. Push the pair of ending time and the combined profit (maxProfit + profit of this job) into the heap. This item represents the chain created by adding the current job to the most profitable job chain.\n",
    "5. After iterating over all the jobs, compare the profit of the remaining chains in the priority queue with the maxProfit. Return the value of maxProfit."
   ]
  },
  {
   "cell_type": "markdown",
   "metadata": {},
   "source": [
    "## Note: 10/3/2022 using recursion to do DP problems are easier mentally, since it's all about identifying the induction step, below are a few of very similar examples:"
   ]
  },
  {
   "cell_type": "markdown",
   "metadata": {},
   "source": [
    "### 1578. Minimum Time to Make Rope Colorful\n"
   ]
  },
  {
   "cell_type": "raw",
   "metadata": {},
   "source": [
    "Alice has n balloons arranged on a rope. You are given a 0-indexed string colors where colors[i] is the color of the ith balloon.\n",
    "\n",
    "Alice wants the rope to be colorful. She does not want two consecutive balloons to be of the same color, so she asks Bob for help. Bob can remove some balloons from the rope to make it colorful. You are given a 0-indexed integer array neededTime where neededTime[i] is the time (in seconds) that Bob needs to remove the ith balloon from the rope.\n",
    "\n",
    "Return the minimum time Bob needs to make the rope colorful."
   ]
  },
  {
   "cell_type": "code",
   "execution_count": null,
   "metadata": {},
   "outputs": [],
   "source": [
    "def minCost(self, colors: str, neededTime: List[int]) -> int:\n",
    "    memo = {}\n",
    "    def recurse(ind, prev):\n",
    "        if (ind, prev) in memo:\n",
    "            return memo[(ind, prev)]\n",
    "        if ind >= len(colors):\n",
    "            return 0\n",
    "        ret = neededTime[ind] + recurse(ind+1, prev)\n",
    "        if prev != colors[ind]:\n",
    "            ret = min(ret, recurse(ind+1, colors[ind]))\n",
    "        memo[(ind, prev)] = ret\n",
    "        return memo[(ind, prev)]\n",
    "\n",
    "    return recurse(0, None)"
   ]
  },
  {
   "cell_type": "code",
   "execution_count": null,
   "metadata": {},
   "outputs": [],
   "source": [
    "def minCost(self, colors: str, neededTime: List[int]) -> int:\n",
    "    res = max_cost = 0\n",
    "    for i in range(len(colors)):\n",
    "        if i > 0 and colors[i] != colors[i - 1]:\n",
    "            max_cost = 0\n",
    "        res += min(max_cost, neededTime[i])\n",
    "        max_cost = max(max_cost, neededTime[i])\n",
    "    return res"
   ]
  },
  {
   "cell_type": "markdown",
   "metadata": {},
   "source": [
    "## 91. Decode Ways\n",
    "To decode an encoded message, all the digits must be grouped then mapped back into letters using the reverse of the mapping above (there may be multiple ways). For example, \"11106\" can be mapped into:\n",
    "\n",
    "\"AAJF\" with the grouping (1 1 10 6)\n",
    "\"KJF\" with the grouping (11 10 6)"
   ]
  },
  {
   "cell_type": "code",
   "execution_count": null,
   "metadata": {},
   "outputs": [],
   "source": [
    "def numDecodings(s: str) -> int:\n",
    "    memo = {}\n",
    "\n",
    "    def recurse(index, s):\n",
    "        if index in memo:\n",
    "            return memo[index]\n",
    "\n",
    "        if index == len(s): # hit end\n",
    "            return 1\n",
    "        if s[index] == '0':\n",
    "            return 0\n",
    "        if index == len(s) -1: # last element\n",
    "            return 1\n",
    "        ans = recurse(index+1, s)\n",
    "        if int(s[index: index+2]) <= 26: # 2 digit case\n",
    "            ans += recurse(index+2, s)\n",
    "        memo[index] = ans\n",
    "        return ans\n",
    "\n",
    "    return recurse(0, s)"
   ]
  },
  {
   "cell_type": "code",
   "execution_count": null,
   "metadata": {},
   "outputs": [],
   "source": [
    "def numDecodings(self, s: str) -> int:\n",
    "    dp = [0 for _ in range(len(s) + 1)]\n",
    "    dp[0] = 1\n",
    "    dp[1] = 0 if s[0] == '0' else 1\n",
    "    for i in range(2, len(dp)):\n",
    "\n",
    "        # Check if successful single digit decode is possible.\n",
    "        if s[i - 1] != '0':\n",
    "            dp[i] = dp[i - 1]\n",
    "\n",
    "        # Check if successful two digit decode is possible.\n",
    "        two_digit = int(s[i - 2 : i])\n",
    "        if two_digit >= 10 and two_digit <= 26:\n",
    "            dp[i] += dp[i - 2]\n",
    "    return dp[len(s)]\n"
   ]
  },
  {
   "cell_type": "markdown",
   "metadata": {},
   "source": [
    "## 322. Coin Change\n",
    "You are given an integer array coins representing coins of different denominations and an integer amount representing a total amount of money.\n",
    "\n",
    "Return the fewest number of coins that you need to make up that amount. If that amount of money cannot be made up by any combination of the coins, return -1.\n",
    "\n",
    "You may assume that you have an infinite number of each kind of coin."
   ]
  },
  {
   "cell_type": "code",
   "execution_count": null,
   "metadata": {},
   "outputs": [],
   "source": [
    "def coinChange(coins: List[int], amount: int) -> int:\n",
    "    def __init__(self):\n",
    "        self.memo = {0:0}\n",
    "    def coinChange(self, coins: List[int], amount: int) -> int:\n",
    "        def coinRecursion(coins, remain):\n",
    "            if remain < 0: return -1\n",
    "            if remain == 0: return 0\n",
    "            if remain in self.memo:\n",
    "                return self.memo[remain]\n",
    "            minCount = float('inf')\n",
    "            for coin in coins:\n",
    "                count = coinRecursion(coins, remain-coin)\n",
    "                if count == -1:\n",
    "                    continue\n",
    "                minCount = min(minCount, count+1)\n",
    "            self.memo[remain] = -1 if minCount == float('inf') else minCount\n",
    "            return self.memo[remain]\n",
    "        \n",
    "        return coinRecursion(coins, amount)"
   ]
  },
  {
   "cell_type": "code",
   "execution_count": null,
   "metadata": {},
   "outputs": [],
   "source": [
    "def coinChange(coins: List[int], amount: int) -> int:            \n",
    "    def coinChangeInner(remain, cache):\n",
    "        if remain < 0:\n",
    "            return math.inf\n",
    "        if remain == 0:                    \n",
    "            return 0       \n",
    "        if remain in cache:\n",
    "            return cache[remain]\n",
    "\n",
    "        cache[remain] = min(coinChangeInner(remain-x, cache) + 1 for x in coins)                         \n",
    "        return cache[remain]      \n",
    "\n",
    "    ans = coinChangeInner(amount, {})\n",
    "    return -1 if ans == math.inf else ans                 "
   ]
  },
  {
   "cell_type": "markdown",
   "metadata": {},
   "source": [
    "# 2218. Maximum Value of K Coins From Piles (Both ChatGPT and GPT-4 fail)\n"
   ]
  },
  {
   "cell_type": "markdown",
   "metadata": {},
   "source": [
    "There are n piles of coins on a table. Each pile consists of a positive number of coins of assorted denominations.\n",
    "\n",
    "In one move, you can choose any coin on top of any pile, remove it, and add it to your wallet.\n",
    "\n",
    "Given a list piles, where piles[i] is a list of integers denoting the composition of the ith pile from top to bottom, and a positive integer k, return the maximum total value of coins you can have in your wallet if you choose exactly k coins optimally.\n",
    "\n"
   ]
  },
  {
   "cell_type": "code",
   "execution_count": null,
   "metadata": {},
   "outputs": [],
   "source": [
    "def maxValueOfCoins(self, piles: List[List[int]], k: int) -> int:\n",
    "    n = len(piles)\n",
    "    dp = [[0]*(k + 1 )for i in range(n+1)]\n",
    "    for i in range(1, n+1):\n",
    "        for coins in range(0, k+1):\n",
    "            curr_sum = 0\n",
    "            for curr_coins in range(0, min(len(piles[i-1]), coins)+1):\n",
    "                if curr_coins > 0:\n",
    "                    curr_sum += piles[i-1][curr_coins -1]\n",
    "                dp[i][coins] = max(dp[i][coins], dp[i-1][coins-curr_coins] + curr_sum)\n",
    "    return dp[n][k]"
   ]
  },
  {
   "cell_type": "code",
   "execution_count": null,
   "metadata": {},
   "outputs": [],
   "source": [
    "def maxValueOfCoins(self, piles: List[List[int]], k: int) -> int:\n",
    "    n = len(piles)\n",
    "    dp = [[-1] * (k + 1) for i in range(n + 1)]\n",
    "\n",
    "    def f(i, coins):\n",
    "        if i == 0:\n",
    "            return 0\n",
    "        if dp[i][coins] != -1:\n",
    "            return dp[i][coins]\n",
    "        current_sum = 0\n",
    "        for current_coins in range(0, min(len(piles[i - 1]), coins) + 1):\n",
    "            if current_coins > 0:\n",
    "                current_sum += piles[i - 1][current_coins - 1]\n",
    "            dp[i][coins] = max(dp[i][coins],\n",
    "                            f(i - 1, coins - current_coins) + current_sum)\n",
    "        return dp[i][coins]\n",
    "\n",
    "    return f(n, k)"
   ]
  },
  {
   "cell_type": "markdown",
   "metadata": {},
   "source": [
    "## 1155. Number of Dice Rolls With Target Sum\n",
    "You have n dice and each die has k faces numbered from 1 to k.\n",
    "\n",
    "Given three integers n, k, and target, return the number of possible ways (out of the kn total ways) to roll the dice so the sum of the face-up numbers equals target. Since the answer may be too large, return it modulo 109 + 7.\n",
    "\n"
   ]
  },
  {
   "cell_type": "code",
   "execution_count": null,
   "metadata": {},
   "outputs": [],
   "source": [
    "def numRollsToTarget(self, n: int, k: int, target: int) -> int:\n",
    "    memo = {}\n",
    "    def ways2Target(memo, diceIndex, n, currSum, target, k ):\n",
    "        if diceIndex == n:\n",
    "            return True if currSum==target else False\n",
    "        if (diceIndex,currSum) in memo:\n",
    "            return memo[(diceIndex, currSum)]\n",
    "        ways = 0\n",
    "        for i in range(1, min(k, target-currSum)+1):\n",
    "            ways = (ways + ways2Target(memo, diceIndex+1, n, currSum+i, target, k))% MOD\n",
    "        memo[(diceIndex, currSum)] = ways\n",
    "        return memo[(diceIndex, currSum)]\n",
    "\n",
    "    return ways2Target(memo, 0, n, 0, target, k)"
   ]
  },
  {
   "cell_type": "code",
   "execution_count": null,
   "metadata": {},
   "outputs": [],
   "source": [
    "def numRollsToTarget(self, n: int, k: int, target: int) -> int:\n",
    "    MOD = 10**9 +7\n",
    "    dp = [[0]* (target+1) for _ in range(n+1)]\n",
    "    dp[n][target] = 1\n",
    "    for diceIndex in range(n-1, -1, -1):\n",
    "        for currSum in range(target+1):\n",
    "            ways = 0\n",
    "            for i in range(1, min(k, target-currSum)+1):\n",
    "                ways = (ways+dp[diceIndex+1][currSum+i])% MOD\n",
    "            dp[diceIndex][currSum] =  ways\n",
    "    return dp[0][0]"
   ]
  },
  {
   "cell_type": "markdown",
   "metadata": {},
   "source": [
    "# 1547. Minimum Cost to Cut a Stick\n",
    "\n",
    "Given a wooden stick of length n units. The stick is labelled from 0 to n. For example, a stick of length 6 is labelled as follows:\n",
    "\n",
    "Given an integer array cuts where cuts[i] denotes a position you should perform a cut at.\n",
    "\n",
    "You should perform the cuts in order, you can change the order of the cuts as you wish.\n",
    "\n",
    "The cost of one cut is the length of the stick to be cut, the total cost is the sum of costs of all cuts. When you cut a stick, it will be split into two smaller sticks (i.e. the sum of their lengths is the length of the stick before the cut). Please refer to the first example for a better explanation.\n",
    "\n",
    "Return the minimum total cost of the cuts.\n",
    "\n",
    "###GPT-3.5 could do it.\n"
   ]
  },
  {
   "cell_type": "markdown",
   "metadata": {},
   "source": [
    "Iterate over the \"positions\" array from right to left (excluding the first and last elements):\n",
    "Iterate over the \"positions\" array from left to right (excluding the last element):\n",
    "If the right index is greater than the left index plus 1:\n",
    "Initialize the minimum cost \"min_cost\" to infinity.\n",
    "Iterate over the range from the left index plus 1 to the right index:\n",
    "Calculate the cost by subtracting the position at the left index from the position at the right index.\n",
    "Add the cost of cutting the stick at the current position to the sum of the costs of cutting between the left and right indices.\n",
    "Update \"min_cost\" if the current cost is smaller than \"min_cost\".\n",
    "Assign \"min_cost\" to dp[left][right]."
   ]
  },
  {
   "cell_type": "code",
   "execution_count": null,
   "metadata": {},
   "outputs": [],
   "source": [
    "def minCost(self, n: int, cuts: List[int]) -> int:\n",
    "    memo = {}\n",
    "    cuts = [0] + sorted(cuts) + [n]\n",
    "\n",
    "    def cost(left, right):\n",
    "        if (left, right) in memo:\n",
    "            return memo[(left, right)]\n",
    "        if right - left == 1:\n",
    "            return 0\n",
    "        ans = min(cost(left, mid) + cost(mid, right) + cuts[right] - cuts[left] for mid in range(left + 1, right))\n",
    "        memo[(left, right)] = ans\n",
    "        return ans\n",
    "\n",
    "    return cost(0, len(cuts) - 1)\n",
    "       "
   ]
  },
  {
   "cell_type": "code",
   "execution_count": null,
   "metadata": {},
   "outputs": [],
   "source": [
    "def minCost(self, n: int, cuts: List[int]) -> int:\n",
    "    cuts.sort()\n",
    "    positions = [0] + cuts + [n]\n",
    "    length = len(positions)\n",
    "    dp = [[0] * length for _ in range(length)]\n",
    "\n",
    "    for left in range(length - 2, -1, -1):\n",
    "        for right in range(left + 1, length):\n",
    "            if right > left + 1:\n",
    "                min_cost = float('inf')\n",
    "                for mid in range(left + 1, right):\n",
    "                    cost = positions[right] - positions[left]\n",
    "                    cost += dp[left][mid] + dp[mid][right]\n",
    "                    min_cost = min(min_cost, cost)\n",
    "                dp[left][right] = min_cost\n",
    "\n",
    "    return dp[0][length - 1]"
   ]
  },
  {
   "cell_type": "markdown",
   "metadata": {},
   "source": [
    "# 1140. Stone Game II\n",
    "\n",
    "Alice and Bob continue their games with piles of stones.  There are a number of piles arranged in a row, and each pile has a positive integer number of stones piles[i].  The objective of the game is to end with the most stones. \n",
    "\n",
    "Alice and Bob take turns, with Alice starting first.  Initially, M = 1.\n",
    "\n",
    "On each player's turn, that player can take all the stones in the first X remaining piles, where 1 <= X <= 2M.  Then, we set M = max(M, X).\n",
    "\n",
    "The game continues until all the stones have been taken.\n",
    "\n",
    "Assuming Alice and Bob play optimally, return the maximum number of stones Alice can get.\n",
    "### GPT 3.5 GPT4 both could not do it, they seem weak facing DP questions."
   ]
  },
  {
   "cell_type": "markdown",
   "metadata": {},
   "source": [
    "Consider now i<ni < ni<n when at least one pile is in the game. The player that moves now (determined by ppp) chooses a number xxx and takes all the stones from the first xxx remaining piles. Two inequalities must hold: x≤2mx \\le 2mx≤2m (according to the rules) and x≤n−ix \\le n - ix≤n−i (a player cannot take more piles than remains in the game). Thus x≤min⁡(2m,n−i)x \\le \\min(2m, n - i)x≤min(2m,n−i). We have two possible cases.\n",
    "p=0p = 0p=0, Alice moves. When Alice chooses a number xxx, she takes s=ai+ai+1+⋯+ai+x−1s = a_i + a_{i + 1} + \\dots + a_{i+x-1}s=a \n",
    "stones during her move. After that, the last n−(i+x)n-(i + x)n−(i+x) piles remain in the game (the players took iii piles earlier, and Alice takes xxx now), Bob will move next (ppp will become 111), and the new value of M will be max⁡(m,x)\\max (m, x)max(m,x). Thus, Alice will get f(1,i+x,max⁡(m,x))f(1, i + x, \\max (m, x))f(1,i+x,max(m,x)) stones after her current move. Adding two summands, we obtain that Alice will get s+f(1,i+x,max⁡(m,x))s + f(1, i + x, \\max (m, x))s+f(1,i+x,max(m,x)) stones. Since she plays optimally, she will choose the value xxx that maximizes this value (we will need to iterate over all xxx and take the max)."
   ]
  },
  {
   "cell_type": "code",
   "execution_count": null,
   "metadata": {},
   "outputs": [],
   "source": [
    " def stoneGameII(self, piles: List[int]) -> int:\n",
    "    n = len(piles)\n",
    "    dp = [[[-1] * (n + 1) for i in range(n + 1)] for p in range(0, 2)]\n",
    "\n",
    "    def f(p, i, m):\n",
    "        if i == n:\n",
    "            return 0\n",
    "        if dp[p][i][m] != -1:\n",
    "            return dp[p][i][m]\n",
    "        res = 1000000 if p == 1 else -1\n",
    "        s = 0\n",
    "        for x in range(1, min(2 * m, n - i) + 1):\n",
    "            s += piles[i + x - 1]\n",
    "            if p == 0:\n",
    "                res = max(res, s + f(1, i + x, max(m, x)))\n",
    "            else:\n",
    "                res = min(res, f(0, i + x, max(m, x)))\n",
    "        dp[p][i][m] = res\n",
    "        return res\n",
    "\n",
    "    return f(0, 0, 1)\n",
    "    # n = len(piles)\n",
    "\n",
    "    # def f(p, i, m):\n",
    "    #     if i == n:\n",
    "    #         return 0\n",
    "    #     res = 1000000 if p == 1 else -1\n",
    "    #     s = 0\n",
    "    #     for x in range(1, min(2 * m, n - i) + 1):\n",
    "    #         s += piles[i + x - 1]\n",
    "    #         if p == 0:\n",
    "    #             res = max(res, s + f(1, i + x, max(m, x)))\n",
    "    #         else:\n",
    "    #             res = min(res, f(0, i + x, max(m, x)))\n",
    "    #     return res\n",
    "\n",
    "    # return f(0, 0, 1)"
   ]
  },
  {
   "cell_type": "markdown",
   "metadata": {},
   "source": [
    "# 1187. Make Array Strictly Increasing\n"
   ]
  },
  {
   "cell_type": "markdown",
   "metadata": {},
   "source": [
    "Given two integer arrays arr1 and arr2, return the minimum number of operations (possibly zero) needed to make arr1 strictly increasing.\n",
    "\n",
    "In one operation, you can choose two indices 0 <= i < arr1.length and 0 <= j < arr2.length and do the assignment arr1[i] = arr2[j].\n",
    "\n",
    "If there is no way to make arr1 strictly increasing, return -1.\n",
    "\n"
   ]
  },
  {
   "cell_type": "code",
   "execution_count": null,
   "metadata": {},
   "outputs": [],
   "source": [
    "def makeArrayIncreasing(self, arr1: List[int], arr2: List[int]) -> int:\n",
    "    #dp\n",
    "    arr2.sort()\n",
    "    memo = {}\n",
    "\n",
    "    def dp( i, prev):\n",
    "        if (i, prev) in memo:\n",
    "            return memo[(i, prev)]\n",
    "        if i == len(arr1):\n",
    "            return 0\n",
    "        op1 = float('inf')\n",
    "        if arr1[i] > prev:\n",
    "            op1 = dp(i+1, arr1[i])\n",
    "\n",
    "        index = bisect.bisect(arr2, prev)\n",
    "        op2 = float('inf')\n",
    "        if index < len(arr2):\n",
    "            op2 = 1 + dp(i+1, arr2[index])\n",
    "        memo[(i,prev)] = min(op1, op2)\n",
    "        return memo[(i, prev)]\n",
    "\n",
    "    min_op = dp(0, float('-inf'))\n",
    "    return min_op if min_op != float('inf') else -1\n"
   ]
  },
  {
   "cell_type": "code",
   "execution_count": null,
   "metadata": {},
   "outputs": [],
   "source": [
    "def makeArrayIncreasing(self, arr1: List[int], arr2: List[int]) -> int:\n",
    "\n",
    "    dp = {-1: 0}\n",
    "    arr2.sort()\n",
    "    n = len(arr2)\n",
    "\n",
    "    for i in range(len(arr1)):\n",
    "        new_dp = collections.defaultdict(lambda: float('inf'))\n",
    "        for prev in dp:\n",
    "            if arr1[i] > prev:\n",
    "                new_dp[arr1[i]] = min(new_dp[arr1[i]], dp[prev])\n",
    "            idx = bisect.bisect_right(arr2, prev)\n",
    "            if idx < n:\n",
    "                new_dp[arr2[idx]] = min(new_dp[arr2[idx]], 1 + dp[prev])\n",
    "        dp = new_dp\n",
    "\n",
    "    return min(dp.values()) if dp else -1"
   ]
  },
  {
   "cell_type": "markdown",
   "metadata": {},
   "source": [
    "# 1639. Number of Ways to Form a Target String Given a Dictionary (ChatGPT, GPT-4 both failed)"
   ]
  },
  {
   "cell_type": "markdown",
   "metadata": {},
   "source": [
    "You are given a list of strings of the same length words and a string target.\n",
    "\n",
    "Your task is to form target using the given words under the following rules:\n",
    "\n",
    "target should be formed from left to right.\n",
    "To form the ith character (0-indexed) of target, you can choose the kth character of the jth string in words if target[i] = words[j][k].\n",
    "Once you use the kth character of the jth string of words, you can no longer use the xth character of any string in words where x <= k. In other words, all characters to the left of or at index k become unusuable for every string.\n",
    "Repeat the process until you form the string target.\n",
    "Notice that you can use multiple characters from the same string in words provided the conditions above are met.\n",
    "\n",
    "Return the number of ways to form target from words. Since the answer may be too large, return it modulo 109 + 7.\n",
    "\n"
   ]
  },
  {
   "cell_type": "code",
   "execution_count": null,
   "metadata": {},
   "outputs": [],
   "source": [
    "def numWays(self, words: List[str], target: str) -> int:\n",
    "    alphabet = 26\n",
    "    mod = 10**9 + 7\n",
    "    m = len(target)\n",
    "    k = len(words[0])\n",
    "    cnt = [[0] * k for _ in range(alphabet)]\n",
    "    for j in range(k):\n",
    "        for word in words:\n",
    "            cnt[ord(word[j]) - ord('a')][j] += 1\n",
    "    dp = [[0] * (k + 1) for _ in range(m + 1)]\n",
    "    dp[0][0] = 1\n",
    "    for i in range(1,m+2):\n",
    "        for j in range(1,k+1):\n",
    "            if i < m+1:\n",
    "                dp[i][j] += (cnt[ord(target[i-1]) - ord('a')][j-1]\n",
    "                                     * dp[i-1][j-1])\n",
    "                dp[i][j] %= mod\n",
    "            dp[i-1][j] += dp[i-1][j-1]\n",
    "            dp[i-1][j] %= mod\n",
    "    # print(dp)\n",
    "    return dp[m][k]"
   ]
  },
  {
   "cell_type": "code",
   "execution_count": null,
   "metadata": {},
   "outputs": [],
   "source": [
    "def numWays(self, words: List[str], target: str) -> int:\n",
    "    alphabet = 26\n",
    "    mod = 1000000007\n",
    "    m = len(target)\n",
    "    k = len(words[0])\n",
    "    cnt = [[0] * k for _ in range(alphabet)]\n",
    "    for j in range(k):\n",
    "        for word in words:\n",
    "            cnt[ord(word[j]) - ord('a')][j] += 1\n",
    "    dp = [[-1] * (k + 1) for _ in range(m + 1)]\n",
    "\n",
    "    def f(i, j):\n",
    "        if j == 0:\n",
    "            return 1 if i == 0 else 0\n",
    "        if dp[i][j] != -1:\n",
    "            return dp[i][j]\n",
    "        dp[i][j] = f(i, j - 1)\n",
    "        if i > 0:\n",
    "            dp[i][j] += (cnt[ord(target[i - 1]) - ord('a')][j - 1]\n",
    "                         * f(i - 1, j - 1))\n",
    "        dp[i][j] %= mod\n",
    "        return dp[i][j]\n",
    "\n",
    "    return f(m, k)\n"
   ]
  },
  {
   "cell_type": "markdown",
   "metadata": {},
   "source": [
    "# 1335. Minimum Difficulty of a Job Schedule\n"
   ]
  },
  {
   "cell_type": "markdown",
   "metadata": {},
   "source": [
    "You want to schedule a list of jobs in d days. Jobs are dependent (i.e To work on the ith job, you have to finish all the jobs j where 0 <= j < i).\n",
    "\n",
    "You have to finish at least one task every day. The difficulty of a job schedule is the sum of difficulties of each day of the d days. The difficulty of a day is the maximum difficulty of a job done on that day.\n",
    "\n",
    "You are given an integer array jobDifficulty and an integer d. The difficulty of the ith job is jobDifficulty[i].\n",
    "\n",
    "Return the minimum difficulty of a job schedule. If you cannot find a schedule for the jobs return -1."
   ]
  },
  {
   "cell_type": "code",
   "execution_count": null,
   "metadata": {},
   "outputs": [],
   "source": [
    "## Top down DP: \n",
    "min_diff(0, d) will be the final answer \n",
    "min_diff(i, d) = min_diff(j, d - 1) + max(jobDifficulty[i:j]) for all j > i\n",
    "\n"
   ]
  },
  {
   "cell_type": "code",
   "execution_count": null,
   "metadata": {},
   "outputs": [],
   "source": [
    "def minDifficulty(self, jobDifficulty: List[int], d: int) -> int:\n",
    "    n = len(jobDifficulty)\n",
    "    if n < d:\n",
    "        return -1\n",
    "    max_job_remain = jobDifficulty[:]\n",
    "    for i in range(n-2, -1, -1):\n",
    "        max_job_remain[i] = max(max_job_remain[i], max_job_remain[i+1])\n",
    "    memo = {}\n",
    "    def min_diff(i, days_remain):\n",
    "        #base case\n",
    "        if days_remain == 1:\n",
    "            return max_job_remain[i]\n",
    "        if (i, days_remain) in memo:\n",
    "            return memo[(i, days_remain)]\n",
    "        res = float('inf')\n",
    "        daily_max_job_diff = 0\n",
    "        for j in range(i, n-days_remain+1):\n",
    "            daily_max_job_diff = max(daily_max_job_diff, jobDifficulty[j])\n",
    "            res = min(res, daily_max_job_diff + min_diff(j+1, days_remain -1))\n",
    "            memo[(i, days_remain)]=res\n",
    "        return res\n",
    "    return min_diff(0, d)"
   ]
  },
  {
   "cell_type": "code",
   "execution_count": null,
   "metadata": {},
   "outputs": [],
   "source": [
    "#bottom up"
   ]
  },
  {
   "cell_type": "code",
   "execution_count": null,
   "metadata": {},
   "outputs": [],
   "source": [
    "def minDifficulty(self, jobDifficulty: List[int], d: int) -> int:\n",
    "    n = len(jobDifficulty)\n",
    "    # Initialize the min_diff matrix to record the minimum difficulty\n",
    "    # of the job schedule        \n",
    "    min_diff = [[float('inf')] * n + [0] for i in range(d + 1)]\n",
    "    for days_remaining in range(1, d + 1):\n",
    "        for i in range(n - days_remaining + 1):\n",
    "            daily_max_job_diff = 0\n",
    "            for j in range(i + 1, n - days_remaining + 2):\n",
    "                # Use daily_max_job_diff to record maximum job difficulty\n",
    "                daily_max_job_diff = max(daily_max_job_diff, jobDifficulty[j - 1])\n",
    "                min_diff[days_remaining][i] = min(min_diff[days_remaining][i],\n",
    "                                                  daily_max_job_diff + min_diff[days_remaining - 1][j])\n",
    "    if min_diff[d][0] == float('inf'):\n",
    "        return -1\n",
    "    return min_diff[d][0]"
   ]
  },
  {
   "cell_type": "code",
   "execution_count": null,
   "metadata": {},
   "outputs": [],
   "source": [
    "# monotone stack!!!"
   ]
  },
  {
   "cell_type": "markdown",
   "metadata": {},
   "source": [
    "LeetCode 32. Longest Valid Parenthesis. Check out Approach 3 in the official solution.\n",
    "\n",
    "LeetCode 85. Maximal Rectangle. Check out Approach 3 in the official solution.\n",
    "https://awjin.me/algos-js/dp/tab-memo.html"
   ]
  },
  {
   "cell_type": "markdown",
   "metadata": {},
   "source": [
    "1. We will need two arrays, min_diff_curr_day and min_diff_prev_day to record the minimum total job difficulty of the current day and the previous day (one more day remaining).\n",
    "2. We will then iterate through each day and update the min_diff_curr_day along the way for each possible last job scheduled on that day.\n",
    "Specifically, we iterate through jobs with indices ranging from i equals day to n. To maintain a monotonically decreasing stack, if the job difficulty of the last element in the stack (j) is smaller than or equal to the current job (i), we will pop the last element (j) from the stack.\n",
    "\n",
    "Since jobDifficulty[j] <= jobDifficulty[i], by additionally completing jobs from index j + 1 to index i, the total job difficulty min_diff_curr_day[i] will be no more than min_diff_curr_day[j] + jobDifficulty[i] - jobDifficulty[j]. So, we can update min_diff_curr_day[i] as min(min_diff_curr_day[i], min_diff_curr_day[j] + jobDifficulty[i] - jobDifficulty[j])\n",
    "\n",
    "3. On each day, after we iterate through each indices i, popping all indices j off the stack where jobDifficulty[j] <= jobDifficulty[i], and updating min_diff_curr_day[i], there may be some remaining indices in the monotonically decreasing stack. Since we are using a monotonically decreasing stack, we know that jobDifficulty[j] > jobDifficulty[i] for all of the remaining indices in the stack. Until now, while updating min_diff_curr_day[i], we only considered scenario 1 (when jobDifficulty[j] <= jobDifficulty[i]). Before we move to the next day, we must consider scenario 2 as well. Thus, if the stack is not empty, we compare the minimum difficulty job schedule ending at job j where j is on the top of the stack, and the total job difficulty in the current day min_diff_curr_day[i] will be no more than min_diff_curr_day[j]. So, we can update min_diff_curr_day[i] as min(min_diff_curr_day[i], min_diff_curr_day[j]).\n",
    "\n",
    "4. At the end, we will return the total minimum job difficulty on the d^{th}d \n",
    "th\n",
    "  day after completing the n-1^{th}n−1 \n",
    "th\n",
    "  job, which is min_diff_prev_day[n - 1]."
   ]
  },
  {
   "cell_type": "code",
   "execution_count": null,
   "metadata": {},
   "outputs": [],
   "source": [
    "def minDifficulty(self, jobDifficulty: List[int], d: int) -> int:\n",
    "    n = len(jobDifficulty)\n",
    "    if len(jobDifficulty)< d:\n",
    "        return -1\n",
    "         # min_diff_curr_day and min_diff_prev_day record the minimum total job difficulty\n",
    "    # for the current day and previous day, respectively\n",
    "    min_diff_prev_day, min_diff_curr_day = [float('inf')] * n, [float('inf')] * n\n",
    "\n",
    "    for day in range(d):\n",
    "        # Use a monotonically decreasing stack to record job difficulties\n",
    "        stack = []\n",
    "\n",
    "        # The number of jobs needs to be no less than number of days passed.\n",
    "        for i in range(day, n):\n",
    "\n",
    "            # We initialize min_diff_curr_day[i] as only performing 1 job at the i-th index.\n",
    "            # At day 0, the minimum total job difficulty is to complete the 0th job only.\n",
    "            if i == 0:\n",
    "                min_diff_curr_day[i] = jobDifficulty[0]\n",
    "            # Otherwise, we increment min_diff_prev_day[i - 1] by the i-th job difficulty\n",
    "            else:\n",
    "                min_diff_curr_day[i] = min_diff_prev_day[i - 1] + jobDifficulty[i]\n",
    "\n",
    "            # When we find the last element in the stack is smaller than or equal to current job,\n",
    "            # we need to pop out the element to maintain a monotonic decreasing stack.\n",
    "            while stack and jobDifficulty[stack[-1]] <= jobDifficulty[i]:\n",
    "\n",
    "                # If we include all jobs with index j+1 to i to the current day,\n",
    "                # total job difficulty of the current day will be increased.\n",
    "                # by the amount of jobDifficulty[i] - jobDifficulty[j]\n",
    "                j = stack.pop()\n",
    "                diff_incr = jobDifficulty[i] - jobDifficulty[j]\n",
    "                min_diff_curr_day[i] = min(min_diff_curr_day[i], min_diff_curr_day[j] + diff_incr)\n",
    "\n",
    "            # When the last element in the stack is larger than current element,\n",
    "            # If we include all jobs with index j+1 to i to the current day,\n",
    "            # the overall job difficulty will not change.\n",
    "            if stack:\n",
    "                min_diff_curr_day[i] = min(min_diff_curr_day[i], min_diff_curr_day[stack[-1]])\n",
    "\n",
    "            # Update the monotonic stack by adding in the current index\n",
    "            stack.append(i)\n",
    "\n",
    "        min_diff_prev_day, min_diff_curr_day = min_diff_curr_day, min_diff_prev_day\n",
    "\n",
    "    return min_diff_prev_day[-1]"
   ]
  },
  {
   "cell_type": "markdown",
   "metadata": {},
   "source": [
    "# 931. Minimum Falling Path Sum\n"
   ]
  },
  {
   "cell_type": "markdown",
   "metadata": {},
   "source": [
    "Given an n x n array of integers matrix, return the minimum sum of any falling path through matrix.\n",
    "\n",
    "A falling path starts at any element in the first row and chooses the element in the next row that is either directly below or diagonally left/right. Specifically, the next element from position (row, col) will be (row + 1, col - 1), (row + 1, col), or (row + 1, col + 1)."
   ]
  },
  {
   "cell_type": "code",
   "execution_count": null,
   "metadata": {},
   "outputs": [],
   "source": [
    "def minFallingPathSum(self, matrix: List[List[int]]) -> int:\n",
    "        def findMinFallSum(matrix, row, col, memo):\n",
    "            if col < 0 or col == len(matrix):\n",
    "                return float('inf')\n",
    "            if row == len(matrix)-1:\n",
    "                return matrix[row][col]\n",
    "            if memo[row][col] != -float('inf'):\n",
    "                return memo[row][col]\n",
    "            left = findMinFallSum(matrix, row+1, col, memo)\n",
    "            mid = findMinFallSum(matrix, row+1, col+1, memo)\n",
    "            right = findMinFallSum(matrix, row+1, col-1, memo)\n",
    "            memo[row][col] =  min(left, mid, right) + matrix[row][col]\n",
    "            return memo[row][col]\n",
    "        min_fall_sum = float('inf')\n",
    "        memo = [[-float('inf')] * len(matrix) for _ in range(len(matrix))]\n",
    "        for startCol in range(len(matrix)):\n",
    "            min_fall_sum = min(min_fall_sum, findMinFallSum(matrix, 0, startCol, memo ))\n",
    "        return min_fall_sum\n"
   ]
  },
  {
   "cell_type": "code",
   "execution_count": null,
   "metadata": {},
   "outputs": [],
   "source": [
    "    def minFallingPathSum(self, matrix: List[List[int]]) -> int:\n",
    "        dp = [[0] * (len(matrix)+1) for _ in range(len(matrix)+1)]\n",
    "        for row in range(len(matrix)-1, -1, -1):\n",
    "            for col in range(len(matrix)):\n",
    "                if col == 0:\n",
    "                    dp[row][col] = min (dp[row+1][col], dp[row+1][col+1]) + matrix[row][col]\n",
    "                elif col == len(matrix) -1:\n",
    "                    dp[row][col] = min (dp[row+1][col], dp[row+1][col-1]) + matrix[row][col]\n",
    "                else:\n",
    "                    dp[row][col] = min (dp[row+1][col], dp[row+1][col-1], dp[row+1][col+1]) + matrix[row][col]\n",
    "        print(dp)\n",
    "\n",
    "        minFallSum = float('inf')\n",
    "        for startCol in range(len(matrix)):\n",
    "            minFallSum = min(minFallSum, dp[0][startCol])\n",
    "        return minFallSum\n"
   ]
  },
  {
   "cell_type": "markdown",
   "metadata": {},
   "source": [
    "# 871. Minimum Number of Refueling Stops\n"
   ]
  },
  {
   "cell_type": "code",
   "execution_count": null,
   "metadata": {},
   "outputs": [],
   "source": [
    "A car travels from a starting position to a destination which is target miles east of the starting position.\n",
    "\n",
    "There are gas stations along the way. The gas stations are represented as an array stations where stations[i] = [positioni, fueli] indicates that the ith gas station is positioni miles east of the starting position and has fueli liters of gas.\n",
    "\n",
    "The car starts with an infinite tank of gas, which initially has startFuel liters of fuel in it. It uses one liter of gas per one mile that it drives. When the car reaches a gas station, it may stop and refuel, transferring all the gas from the station into the car.\n",
    "\n",
    "Return the minimum number of refueling stops the car must make in order to reach its destination. If it cannot reach the destination, return -1.\n",
    "\n",
    "Note that if the car reaches a gas station with 0 fuel left, the car can still refuel there. If the car reaches the destination with 0 fuel left, it is still considered to have arrived."
   ]
  },
  {
   "cell_type": "code",
   "execution_count": null,
   "metadata": {},
   "outputs": [],
   "source": [
    "def minRefuelStops(self, target, startFuel, stations):\n",
    "    dp = [startFuel] + [0] * len(stations)\n",
    "    for i, (location, capacity) in enumerate(stations):\n",
    "        for passed_ind in range(i, -1, -1):\n",
    "            if dp[passed_ind] >= location:\n",
    "                dp[passed_ind + 1] = max(dp[passed_ind + 1], dp[passed_ind] + capacity)\n",
    "    for i, d in enumerate(dp):\n",
    "        if d >= target: return i\n",
    "    return -1"
   ]
  },
  {
   "cell_type": "markdown",
   "metadata": {},
   "source": [
    "# 134.Gas Station\n",
    "(This is not a DP question, but related to refueling, the core idea is worth remembering!)\n",
    "\n"
   ]
  },
  {
   "cell_type": "raw",
   "metadata": {},
   "source": [
    "There are n gas stations along a circular route, where the amount of gas at the ith station is gas[i].\n",
    "You have a car with an unlimited gas tank and it costs cost[i] of gas to travel from the ith station to its next (i + 1)th station. You begin the journey with an empty tank at one of the gas stations.\n",
    "Given two integer arrays gas and cost, return the starting gas station's index if you can travel around the circuit once in the clockwise direction, otherwise return -1. If there exists a solution, it is guaranteed to be unique"
   ]
  },
  {
   "cell_type": "code",
   "execution_count": null,
   "metadata": {},
   "outputs": [],
   "source": [
    "def canCompleteCircuit(self, gas: List[int], cost: List[int]) -> int:\n",
    "        \"\"\"\n",
    "        :type gas: List[int]\n",
    "        :type cost: List[int]\n",
    "        :rtype: int\n",
    "        \"\"\"\n",
    "        n = len(gas)\n",
    "        total_tank=0 \n",
    "        curr_tank = 0\n",
    "        starting_station = 0\n",
    "        for i in range(n):\n",
    "            total_tank += gas[i] - cost[i]\n",
    "            curr_tank += gas[i] - cost[i]\n",
    "            # If one couldn't get here,\n",
    "            if curr_tank < 0:\n",
    "                # Pick up the next station as the starting one.\n",
    "                starting_station = i + 1\n",
    "                # Start with an empty tank.\n",
    "                curr_tank = 0\n",
    "        \n",
    "        return starting_station if total_tank >= 0 else -1"
   ]
  },
  {
   "cell_type": "markdown",
   "metadata": {},
   "source": [
    "# 837. New 21 Game\n"
   ]
  },
  {
   "cell_type": "markdown",
   "metadata": {},
   "source": [
    "Alice plays the following game, loosely based on the card game \"21\".\n",
    "\n",
    "Alice starts with 0 points and draws numbers while she has less than k points. During each draw, she gains an integer number of points randomly from the range [1, maxPts], where maxPts is an integer. Each draw is independent and the outcomes have equal probabilities.\n",
    "\n",
    "Alice stops drawing numbers when she gets k or more points.\n",
    "\n",
    "Return the probability that Alice has n or fewer points.\n",
    "\n",
    "Answers within 10-5 of the actual answer are considered accepted.\n",
    "### both GPT3.5 and GPT 4 failed, they tried to memorize but got the DP wrong."
   ]
  },
  {
   "cell_type": "code",
   "execution_count": null,
   "metadata": {},
   "outputs": [],
   "source": [
    "# Slow solution: O(n x maxPts)\n",
    "def new21Game(self, n: int, k: int, maxPts: int) -> float:\n",
    "        dp = [0] * (n + 1)\n",
    "        dp[0] = 1\n",
    "        for i in range(1, n + 1):\n",
    "            for j in range(1, maxPts + 1):\n",
    "                if i - j >= 0 and i - j < k:\n",
    "                    dp[i] += dp[i - j] / maxPts\n",
    "        return sum(dp[k:])"
   ]
  },
  {
   "cell_type": "code",
   "execution_count": null,
   "metadata": {},
   "outputs": [],
   "source": [
    "#O(n) solution\n",
    "\n",
    "def new21Game(self, n: int, k: int, maxPts: int) -> float:\n",
    "    dp = [0] * (n + 1)\n",
    "    dp[0] = 1\n",
    "    s = 1 if k > 0 else 0 #sliding window sum\n",
    "    for i in range(1, n + 1):\n",
    "        dp[i] = s / maxPts\n",
    "        if i < k:\n",
    "            s += dp[i]\n",
    "        if i - maxPts >= 0 and i - maxPts < k:\n",
    "            s -= dp[i - maxPts]\n",
    "    return sum(dp[k:])"
   ]
  },
  {
   "cell_type": "markdown",
   "metadata": {},
   "source": [
    "# 1416. Restore The Array (ChatGPT and GPT-4 both failed, but only missed the requirement of leading zero)\n"
   ]
  },
  {
   "cell_type": "markdown",
   "metadata": {},
   "source": [
    "A program was supposed to print an array of integers. The program forgot to print whitespaces and the array is printed as a string of digits s and all we know is that all integers in the array were in the range [1, k] and there are no leading zeros in the array.\n",
    "\n",
    "Given the string s and the integer k, return the number of the possible arrays that can be printed as s using the mentioned program. Since the answer may be very large, return it modulo 109 + 7."
   ]
  },
  {
   "cell_type": "code",
   "execution_count": null,
   "metadata": {},
   "outputs": [],
   "source": [
    "def numberOfArrays(self, s: str, k: int) -> int:\n",
    "    MOD = 10**9 + 7\n",
    "    m, n = len(s), len(str(k))\n",
    "    mod = 10 ** 9 + 7\n",
    "    memo = [0] * (m + 1)\n",
    "        def num_arrays(start, k, memo):\n",
    "            if start == m:\n",
    "                return 1\n",
    "            if s[start] == \"0\":\n",
    "                return 0\n",
    "            if memo[start]:\n",
    "                return memo[start]\n",
    "            count = 0\n",
    "            num = 0\n",
    "            for j in range(start,m):\n",
    "                num = int(s[start: j + 1])\n",
    "\n",
    "                if num > k:\n",
    "                    break\n",
    "\n",
    "                count = (count + num_arrays(j+1, k, memo)) % MOD\n",
    "\n",
    "            memo[start] = count % MOD\n",
    "            return count\n",
    "        return num_arrays(0, k, memo)\n",
    "   \n",
    "  "
   ]
  },
  {
   "cell_type": "markdown",
   "metadata": {},
   "source": [
    "#### Note here if we use the standard memo using dic {}, will run into TLE since the string s could be very very long"
   ]
  },
  {
   "cell_type": "code",
   "execution_count": null,
   "metadata": {},
   "outputs": [],
   "source": [
    "def numberOfArrays(self, s: str, k: int) -> int:\n",
    "    MOD = 10**9 + 7\n",
    "    m, n = len(s), len(str(k))\n",
    "    mod = 10 ** 9 + 7\n",
    "\n",
    "    # dp[i] records the number of arrays that can be printed as\n",
    "    # the prefix substring s[0 ~ i - 1]\n",
    "    dp = [1] + [0] * m\n",
    "\n",
    "    # Iterate over every digit, for each digit s[start]:\n",
    "    for start in range(m):\n",
    "        if s[start] == '0':\n",
    "            continue            \n",
    "        count = 0\n",
    "\n",
    "        # Iterate over ending digit end and find all valid numbers \n",
    "        # s[start ~ end].\n",
    "        for end in range(start, m):  \n",
    "            curr_number = s[start:end + 1]\n",
    "            if int(curr_number) > k:\n",
    "                break\n",
    "\n",
    "            # If s[start ~ end] is valid, increment dp[end + 1] by dp[start].\n",
    "            dp[end + 1] += dp[start]\n",
    "            dp[end + 1] %= mod\n",
    "\n",
    "    return dp[-1]"
   ]
  },
  {
   "cell_type": "markdown",
   "metadata": {},
   "source": [
    "# 1125. Smallest Sufficient Team\n",
    "In a project, you have a list of required skills req_skills, and a list of people. The ith person people[i] contains a list of skills that the person has.\n",
    "\n",
    "Consider a sufficient team: a set of people such that for every required skill in req_skills, there is at least one person in the team who has that skill. We can represent these teams by the index of each person.\n",
    "\n",
    "For example, team = [0, 1, 3] represents the people with skills people[0], people[1], and people[3].\n",
    "Return any sufficient team of the smallest possible size, represented by the index of each person. You may return the answer in any order.\n",
    "\n",
    "It is guaranteed an answer exists.\n",
    "#### GPT 4 cam do it, with both DP and BFS, quite impressive.\n",
    "###Note: The bit masking here is quite elegant.\n"
   ]
  },
  {
   "cell_type": "code",
   "execution_count": null,
   "metadata": {},
   "outputs": [],
   "source": [
    "def smallestSufficientTeam(self, req_skills: List[str], people: List[List[str]]) -> List[int]:\n",
    "    skill_dic = {skill: i for i, skill in enumerate(req_skills)}\n",
    "    ppl_skills = [sum(1 << skill_dic[skill] for skill in person if skill in skill_dic) for person in people]\n",
    "    target = (1<< len(req_skills)) -1\n",
    "\n",
    "    dp = [None] * (1 << len(req_skills))\n",
    "    dp[0] = []\n",
    "\n",
    "    for i in range(len(people)):\n",
    "        person = ppl_skills[i]\n",
    "        for old_skills in range(target + 1):\n",
    "            if dp[old_skills] is not None:\n",
    "                new_skills = old_skills | person\n",
    "                if dp[new_skills] is None or len(dp[new_skills]) > len(dp[old_skills]) + 1:\n",
    "                    dp[new_skills] = dp[old_skills] + [i]\n",
    "\n",
    "    return dp[target]"
   ]
  },
  {
   "cell_type": "code",
   "execution_count": null,
   "metadata": {},
   "outputs": [],
   "source": [
    "def smallestSufficientTeam(self, req_skills: List[str], people: List[List[str]]) -> List[int]:\n",
    "    skill_dic = {skill: i for i, skill in enumerate(req_skills)}\n",
    "    ppl_skills = [sum(1 << skill_dic[skill] for skill in person if skill in skill_dic) for person in people]\n",
    "    target = (1<< len(req_skills)) -1\n",
    "    queue = deque([(0, [], 0)])\n",
    "    while queue:\n",
    "        curr_skills, team, visited = queue.popleft()\n",
    "        if curr_skills == target: # if all required skills are covered\n",
    "            return team\n",
    "        for i, person in enumerate(ppl_skills):\n",
    "            combined_skills = curr_skills | person\n",
    "            if not ((visited >> i) & 1)  and combined_skills != curr_skills:\n",
    "                visited |= 1 << i  # mark the person as visited\n",
    "                queue.append((combined_skills, team + [i], visited))  # form a new team by adding the person\n",
    "# To Slow, gets TLE on Leetcode since it's O(n * 2^n)\n"
   ]
  },
  {
   "cell_type": "markdown",
   "metadata": {},
   "source": [
    "# 1751. Maximum Number of Events That Can Be Attended II\n",
    "You are given an array of events where events[i] = [startDayi, endDayi, valuei]. The ith event starts at startDayi and ends at endDayi, and if you attend this event, you will receive a value of valuei. You are also given an integer k which represents the maximum number of events you can attend.\n",
    "\n",
    "You can only attend one event at a time. If you choose to attend an event, you must attend the entire event. Note that the end day is inclusive: that is, you cannot attend two events where one of them starts and the other ends on the same day.\n",
    "\n",
    "Return the maximum sum of values that you can receive by attending events.\n",
    "\n",
    "#### GPT-4 is wrong, doesn't figure out binary search, also the non-inclusive indexing make it struggle."
   ]
  },
  {
   "cell_type": "code",
   "execution_count": null,
   "metadata": {},
   "outputs": [],
   "source": [
    "def maxValue(self, events: List[List[int]], k: int) -> int:\n",
    "    n = len(events)\n",
    "    dp = [[0] * (n + 1) for _ in range(k + 1)]\n",
    "    events.sort()\n",
    "    starts = [start for start, end, value in events]\n",
    "\n",
    "    for curr_ind in range(n-1, -1, -1):\n",
    "        for count in range(1, k+1):\n",
    "            next_ind = bisect_right(starts, events[curr_ind][1])\n",
    "            dp[count][curr_ind] = max(dp[count][curr_ind+1], events[curr_ind][2]+dp[count-1][next_ind])\n",
    "    return dp[k][0]"
   ]
  },
  {
   "cell_type": "code",
   "execution_count": null,
   "metadata": {},
   "outputs": [],
   "source": [
    "def maxValue(self, events: List[List[int]], k: int) -> int:\n",
    "    events.sort()\n",
    "    n = len(events)\n",
    "    starts = [start for start, end, value in events]\n",
    "    dp = [[-1] * n for _ in range(k + 1)]\n",
    "\n",
    "    def dfs(cur_index, count):\n",
    "        if count == 0 or cur_index == n:\n",
    "            return 0\n",
    "        if dp[count][cur_index] != -1:\n",
    "            return dp[count][cur_index]\n",
    "\n",
    "        # Find the nearest available event after attending event 0.\n",
    "\n",
    "        next_index = bisect_right(starts, events[cur_index][1])\n",
    "        dp[count][cur_index] = max(dfs(cur_index + 1, count), events[cur_index][2] + dfs(next_index, count - 1))\n",
    "        return dp[count][cur_index]\n",
    "\n",
    "    return dfs(0, k)\n",
    "  "
   ]
  },
  {
   "cell_type": "markdown",
   "metadata": {},
   "source": [
    "# 2466. Count Ways To Build Good Strings (GPT 3.5 and GPT 4 both failed, the question is new, seems the zero-shot capability is questionable)\n"
   ]
  },
  {
   "cell_type": "raw",
   "metadata": {},
   "source": [
    "Given the integers zero, one, low, and high, we can construct a string by starting with an empty string, and then at each step perform either of the following:\n",
    "\n",
    "Append the character '0' zero times.\n",
    "Append the character '1' one times.\n",
    "This can be performed any number of times.\n",
    "\n",
    "A good string is a string constructed by the above process having a length between low and high (inclusive).\n",
    "\n",
    "Return the number of different good strings that can be constructed satisfying these properties. Since the answer can be large, return it modulo 109 + 7.\n",
    "\n"
   ]
  },
  {
   "cell_type": "code",
   "execution_count": null,
   "metadata": {},
   "outputs": [],
   "source": [
    "def countGoodStrings(self, low: int, high: int, zero: int, one: int) -> int:\n",
    "    dp = [1] + [-1] * (high)\n",
    "    mod = 10 ** 9 + 7\n",
    "\n",
    "    # Find the number of good strings of length `end`.\n",
    "    def dfs(end):\n",
    "        if dp[end] != -1:\n",
    "            return dp[end]            \n",
    "        count = 0\n",
    "        if end >= zero:\n",
    "            count += dfs(end - zero)\n",
    "        if end >= one:\n",
    "            count += dfs(end - one)\n",
    "        dp[end] = count % mod\n",
    "        return dp[end]\n",
    "\n",
    "\n",
    "    # Add up the number of strings with each valid length [low ~ high].\n",
    "    return sum(dfs(end) for end in range(low, high + 1)) % mod\n",
    "\n"
   ]
  },
  {
   "cell_type": "code",
   "execution_count": null,
   "metadata": {},
   "outputs": [],
   "source": [
    "def countGoodStrings(self, low: int, high: int, zero: int, one: int) -> int:\n",
    "\n",
    "    dp = [1] + [0] * (high)\n",
    "    mod = 10 ** 9 + 7\n",
    "\n",
    "    # Iterate over each length `end`.\n",
    "    for end in range(1, high + 1):\n",
    "        # check if the current string can be made by append zero `0`s or one `1`s.\n",
    "        if end >= zero:\n",
    "            dp[end] += dp[end - zero]\n",
    "        if end >= one:\n",
    "            dp[end] += dp[end - one]\n",
    "        dp[end] %= mod\n",
    "\n",
    "    # Add up the number of strings with each valid length [low ~ high].\n",
    "    return sum(dp[low : high + 1]) % mod\n"
   ]
  },
  {
   "cell_type": "markdown",
   "metadata": {},
   "source": [
    "# 1799. Maximize Score After N Operations (DP and Bit-masking!)\n",
    "#### GPT 3.5 failed horribly, but GPT-4 did it. (probably new training data?)"
   ]
  },
  {
   "cell_type": "code",
   "execution_count": null,
   "metadata": {},
   "outputs": [],
   "source": [
    "You are given nums, an array of positive integers of size 2 * n. You must perform n operations on this array.\n",
    "\n",
    "In the ith operation (1-indexed), you will:\n",
    "\n",
    "Choose two elements, x and y.\n",
    "Receive a score of i * gcd(x, y).\n",
    "Remove x and y from nums.\n",
    "Return the maximum score you can receive after performing n operations.\n",
    "\n",
    "The function gcd(x, y) is the greatest common divisor of x and y.\n",
    "\n"
   ]
  },
  {
   "cell_type": "code",
   "execution_count": null,
   "metadata": {},
   "outputs": [],
   "source": [
    "def maxScore(self, nums: List[int]) -> int:\n",
    "    def backtrack(nums: List[int], mask: int, pairsPicked: int, memo: List[int]) -> int:\n",
    "    # If we have picked all the numbers from 'nums' array, we can't get more score.\n",
    "        if 2 * pairsPicked == len(nums):\n",
    "            return 0\n",
    "\n",
    "        # If we already solved this sub-problem then return the stored result.\n",
    "        if memo[mask] != -1:\n",
    "            return memo[mask]\n",
    "\n",
    "        maxScore = 0\n",
    "\n",
    "        # Iterate on 'nums' array to pick the first and second number of the pair.\n",
    "        for firstIndex in range(len(nums)):\n",
    "            for secondIndex in range(firstIndex + 1, len(nums)):\n",
    "\n",
    "                # If the numbers are same, or already picked, then we move to next number.\n",
    "                if (mask >> firstIndex) & 1 == 1 or (mask >> secondIndex) & 1 == 1:\n",
    "                    continue\n",
    "\n",
    "                # Both numbers are marked as picked in this new mask.\n",
    "                newMask = mask | (1 << firstIndex) | (1 << secondIndex)\n",
    "\n",
    "                # Calculate score of current pair of numbers, and the remaining array.\n",
    "                currScore = (pairsPicked + 1) * math.gcd(nums[firstIndex], nums[secondIndex])\n",
    "                remainingScore = backtrack(nums, newMask, pairsPicked + 1, memo)\n",
    "\n",
    "                # Store the maximum score.\n",
    "                maxScore = max(maxScore, currScore + remainingScore)\n",
    "                # We will use old mask in loop's next interation,\n",
    "                # means we discarded the picked number and backtracked.\n",
    "\n",
    "        # Store the result of the current sub-problem.\n",
    "        memo[mask] = maxScore\n",
    "        return maxScore\n",
    "\n",
    "    memoSize = 1 << len(nums)  # 2^(nums array size)\n",
    "    memo = [-1] * memoSize\n",
    "    return backtrack(nums, 0, 0, memo)"
   ]
  },
  {
   "cell_type": "markdown",
   "metadata": {},
   "source": [
    "##### GPT-4 did it! This is impressive"
   ]
  },
  {
   "cell_type": "code",
   "execution_count": null,
   "metadata": {},
   "outputs": [],
   "source": [
    "def maxScore(self, nums: List[int]) -> int:\n",
    "    def gcd(x, y): #Euclid algo\n",
    "        while y != 0:\n",
    "            x, y = y, x % y\n",
    "        return x\n",
    "    n = len(nums) // 2\n",
    "    nums.sort()\n",
    "\n",
    "    # Precompute gcd values for all pairs\n",
    "    gcd_values = [[0]*len(nums) for _ in range(len(nums))]\n",
    "    for i in range(len(nums)):\n",
    "        for j in range(i+1, len(nums)):\n",
    "            gcd_values[i][j] = gcd(nums[i], nums[j])\n",
    "\n",
    "    @lru_cache(maxsize=None)\n",
    "    def dp(mask):\n",
    "        # Base case\n",
    "        if mask == (1 << len(nums)) - 1: # 2^(nums array size)\n",
    "            return 0\n",
    "\n",
    "        operation = bin(mask).count(\"1\") // 2 + 1 # 1 indexed \n",
    "\n",
    "        best = 0\n",
    "        for i in range(len(nums)):\n",
    "            if (mask >> i) & 1 == 0:\n",
    "                for j in range(i+1, len(nums)):\n",
    "                    if (mask >> j) & 1 == 0:\n",
    "                        best = max(best, operation * gcd_values[i][j] + dp(mask | (1 << i) | (1 << j)))\n",
    "        return best\n",
    "\n",
    "    return dp(0)"
   ]
  },
  {
   "cell_type": "markdown",
   "metadata": {},
   "source": [
    "# 1721. Swapping Nodes in a Linked List\n"
   ]
  },
  {
   "cell_type": "markdown",
   "metadata": {},
   "source": [
    "You are given the head of a linked list, and an integer k.\n",
    "\n",
    "Return the head of the linked list after swapping the values of the kth node from the beginning and the kth node from the end (the list is 1-indexed).\n",
    "\n",
    "#### GPT3.5 did it"
   ]
  },
  {
   "cell_type": "code",
   "execution_count": null,
   "metadata": {},
   "outputs": [],
   "source": [
    "def swapNodes(self, head: Optional[ListNode], k: int) -> Optional[ListNode]:\n",
    "    walker = runner = first = dummy = ListNode(next=head)\n",
    "    for i in range(k):\n",
    "        first = runner\n",
    "        runner = runner.next\n",
    "    while runner.next:\n",
    "        walker = walker.next\n",
    "        runner = runner.next\n",
    "    left, right = first.next, walker.next\n",
    "    if right.next is left:\n",
    "        left, right = right, left\n",
    "        first, walker = walker, first\n",
    "    left_next, right_next = left.next, right.next\n",
    "    if left_next is right:\n",
    "        first.next = right\n",
    "        right.next = left\n",
    "        left.next = right_next\n",
    "    else:\n",
    "        first.next, walker.next = right, left\n",
    "        right.next, left.next = left_next, right_next\n",
    "    return dummy.next"
   ]
  },
  {
   "cell_type": "code",
   "execution_count": null,
   "metadata": {},
   "outputs": [],
   "source": [
    "def swapNodes(self, head: Optional[ListNode], k: int) -> Optional[ListNode]:\n",
    "    fast = head\n",
    "    slow = head\n",
    "\n",
    "    # Move the fast pointer k-1 steps ahead\n",
    "    for _ in range(k - 1):\n",
    "        fast = fast.next\n",
    "\n",
    "    # Save the reference to the kth node from the beginning\n",
    "    kth_node_from_beginning = fast\n",
    "\n",
    "    # Move the fast and slow pointers together\n",
    "    while fast.next:\n",
    "        fast = fast.next\n",
    "        slow = slow.next\n",
    "\n",
    "    # Save the reference to the kth node from the end\n",
    "    kth_node_from_end = slow\n",
    "\n",
    "    # Swap the values of the kth nodes\n",
    "    kth_node_from_beginning.val, kth_node_from_end.val = kth_node_from_end.val, kth_node_from_beginning.val\n",
    "\n",
    "    return head"
   ]
  },
  {
   "cell_type": "markdown",
   "metadata": {},
   "source": [
    "# 2551. Put Marbles in Bags\n",
    "You have k bags. You are given a 0-indexed integer array weights where weights[i] is the weight of the ith marble. You are also given the integer k.\n",
    "\n",
    "Divide the marbles into the k bags according to the following rules:\n",
    "\n",
    "No bag is empty.\n",
    "If the ith marble and jth marble are in a bag, then all marbles with an index between the ith and jth indices should also be in that same bag.\n",
    "If a bag consists of all the marbles with an index from i to j inclusively, then the cost of the bag is weights[i] + weights[j].\n",
    "The score after distributing the marbles is the sum of the costs of all the k bags.\n",
    "\n",
    "Return the difference between the maximum and minimum scores among marble distributions.\n",
    "### GPT4 gets the DP answer, but doesn't know greedy. Given it's a new question, pretty impressive."
   ]
  },
  {
   "cell_type": "code",
   "execution_count": null,
   "metadata": {},
   "outputs": [],
   "source": [
    "def putMarbles(self, weights: List[int], k: int) -> int:\n",
    "    pair_weights = [weights[i] + weights[i+1] for i in range(len(weights) - 1)]\n",
    "\n",
    "    # Sort the pair weights\n",
    "    pair_weights.sort()\n",
    "    if k == 1:\n",
    "        return 0\n",
    "\n",
    "    # Return the cost of the bag that contains all marbles\n",
    "    # Calculate the sum of the k-1 largest pairs and the sum of the k-1 smallest pairs\n",
    "    sum_largest = sum(pair_weights[-(k-1):])\n",
    "    sum_smallest = sum(pair_weights[:k-1])\n",
    "\n",
    "    # Return the difference of the two sums\n",
    "    return sum_largest - sum_smallest"
   ]
  },
  {
   "cell_type": "code",
   "execution_count": null,
   "metadata": {},
   "outputs": [],
   "source": [
    "def putMarbles(self, weights: List[int], k: int) -> int:\n",
    "    n = len(weights)\n",
    "    INF = float('inf')\n",
    "\n",
    "    # pre-calculate cost of each segment [i, j] as weights[i] + weights[j]\n",
    "    cost = [[0]*n for _ in range(n)]\n",
    "    for i in range(n):\n",
    "        for j in range(i, n):\n",
    "            cost[i][j] = weights[i] + weights[j]\n",
    "    print(cost)\n",
    "    # dp[i][j] is the maximum total cost for the first i items using j bags\n",
    "    dp_max = [[-INF]*k for _ in range(n)]\n",
    "    dp_min = [[INF]*k for _ in range(n)]\n",
    "\n",
    "    for i in range(n):\n",
    "        dp_max[i][0] = cost[0][i]\n",
    "        dp_min[i][0] = cost[0][i]\n",
    "        for j in range(1, min(i+1, k)):  # for each possible number of bags\n",
    "            for x in range(i):  # iterate through the array\n",
    "                dp_max[i][j] = max(dp_max[i][j], dp_max[x][j-1] + cost[x+1][i])\n",
    "                dp_min[i][j] = min(dp_min[i][j], dp_min[x][j-1] + cost[x+1][i])\n",
    "\n",
    "    return dp_max[n-1][k-1] - dp_min[n-1][k-1]"
   ]
  }
 ],
 "metadata": {
  "kernelspec": {
   "display_name": "Python 3 (ipykernel)",
   "language": "python",
   "name": "python3"
  },
  "language_info": {
   "codemirror_mode": {
    "name": "ipython",
    "version": 3
   },
   "file_extension": ".py",
   "mimetype": "text/x-python",
   "name": "python",
   "nbconvert_exporter": "python",
   "pygments_lexer": "ipython3",
   "version": "3.9.12"
  }
 },
 "nbformat": 4,
 "nbformat_minor": 4
}
