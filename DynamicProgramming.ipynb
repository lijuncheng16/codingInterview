{
 "cells": [
  {
   "cell_type": "markdown",
   "metadata": {},
   "source": [
    "# 118. Pascal's Triangle\n"
   ]
  },
  {
   "cell_type": "code",
   "execution_count": null,
   "metadata": {},
   "outputs": [],
   "source": [
    "from typing import List"
   ]
  },
  {
   "cell_type": "raw",
   "metadata": {},
   "source": [
    "Given an integer numRows, return the first numRows of Pascal's triangle.\n",
    "\n",
    "In Pascal's triangle, each number is the sum of the two numbers directly above it as shown:"
   ]
  },
  {
   "cell_type": "code",
   "execution_count": null,
   "metadata": {},
   "outputs": [],
   "source": [
    "def generate(numRows: int) -> List[List[int]]:\n",
    "    if numRows == 0: return [] # Base Case\n",
    "    if numRows == 1: return [[1]] # Base Case\n",
    "    row = []\n",
    "    last = self.generate(numRows - 1) # Recursion\n",
    "    for i in range(numRows):\n",
    "        if i == 0 or i == numRows - 1:\n",
    "            row.append(1)\n",
    "        else:\n",
    "            row.append(last[-1][i-1] + last[-1][i])\n",
    "    last.append(row)\n",
    "    return last"
   ]
  },
  {
   "cell_type": "code",
   "execution_count": null,
   "metadata": {},
   "outputs": [],
   "source": [
    "def generate(numRows: int) -> List[List[int]]:\n",
    "    if numRows   == 0: return []\n",
    "    elif numRows == 1: return [[1]]\n",
    "    Tri = [[1]]\n",
    "    for i in range(1,numRows):\n",
    "        row = [1]\n",
    "        for j in range(1,i):\n",
    "            row.append(Tri[i-1][j-1] + Tri[i-1][j]) \n",
    "        row.append(1)\n",
    "        Tri.append(row)\n",
    "    return Tri"
   ]
  },
  {
   "cell_type": "code",
   "execution_count": null,
   "metadata": {},
   "outputs": [],
   "source": [
    "def generate(numRows: int) -> List[List[int]]:\n",
    "    triangle = []\n",
    "\n",
    "    for row_num in range(numRows):\n",
    "        # The first and last row elements are always 1.\n",
    "        row = [None for _ in range(row_num + 1)]\n",
    "        row[0], row[-1] = 1, 1\n",
    "\n",
    "        # Each triangle element is equal to the sum of the elements\n",
    "        # above-and-to-the-left and above-and-to-the-right.\n",
    "        for j in range(1, len(row) - 1):\n",
    "            row[j] = triangle[row_num - 1][j - 1] + triangle[row_num - 1][j]\n",
    "\n",
    "        triangle.append(row)\n",
    "\n",
    "    return triangle"
   ]
  },
  {
   "cell_type": "code",
   "execution_count": null,
   "metadata": {},
   "outputs": [],
   "source": [
    "def generate(numRows: int) -> List[List[int]]:\n",
    "    pascal = [[1]*(i+1) for i in range(numRows)]\n",
    "    for i in range(numRows):\n",
    "        for j in range(1,i):\n",
    "            pascal[i][j] = pascal[i-1][j-1] + pascal[i-1][j]\n",
    "    return pascal"
   ]
  },
  {
   "cell_type": "markdown",
   "metadata": {},
   "source": [
    "# 279. Perfect Squares\n"
   ]
  },
  {
   "cell_type": "markdown",
   "metadata": {},
   "source": [
    "Given an integer n, return the least number of perfect square numbers that sum to n.\n",
    "\n",
    "A perfect square is an integer that is the square of an integer; in other words, it is the product of some integer with itself. For example, 1, 4, 9, and 16 are perfect squares while 3 and 11 are not.\n",
    "\n",
    " "
   ]
  },
  {
   "cell_type": "code",
   "execution_count": null,
   "metadata": {},
   "outputs": [],
   "source": [
    "def numSquares(self, n: int) -> int:\n",
    "        #numSquares(n) = min(numSquares(n-k)+1)\n",
    "        square_nums = [i**2 for i in range(1, int(math.sqrt(n))+1)]\n",
    "        cache = {}\n",
    "        def minNumSquares(k):\n",
    "            if k in cache:\n",
    "                return cache[k]\n",
    "            if k in square_nums:\n",
    "                return 1\n",
    "            min_num = float('inf')\n",
    "            for square in square_nums:\n",
    "                if k < square:\n",
    "                    break\n",
    "                new_num = minNumSquares(k-square) + 1\n",
    "                min_num = min(min_num, new_num)\n",
    "                cache[k] = min_num\n",
    "            return cache[k]\n",
    "        return minNumSquares(n)"
   ]
  },
  {
   "cell_type": "code",
   "execution_count": null,
   "metadata": {},
   "outputs": [],
   "source": [
    "def numSquares(self, n: int) -> int:\n",
    "        square_nums = [i**2 for i in range(1, int(math.sqrt(n))+1)]\n",
    "        dp = [float('inf')] * (n+1)\n",
    "        dp[0] = 0\n",
    "        for i in range(1, n+1):\n",
    "            for square in square_nums:\n",
    "                if i < square:\n",
    "                    break\n",
    "                dp[i] = min(dp[i], dp[i-square] + 1)\n",
    "        return dp[-1]"
   ]
  },
  {
   "cell_type": "code",
   "execution_count": null,
   "metadata": {},
   "outputs": [],
   "source": [
    "def numSquares(self, n: int) -> int:\n",
    "    #numSquares(n) = numSquares(n-k)\n",
    "    def is_divided_by(n, count):\n",
    "        \"\"\"\n",
    "            return: true if \"n\" can be decomposed into \"count\" number of perfect square numbers.\n",
    "            e.g. n=12, count=3:  true.\n",
    "                 n=12, count=2:  false\n",
    "        \"\"\"\n",
    "        if count == 1:\n",
    "            return n in square_nums\n",
    "\n",
    "        for k in square_nums:\n",
    "            if is_divided_by(n - k, count - 1):\n",
    "                return True\n",
    "        return False\n",
    "\n",
    "    square_nums = set([i * i for i in range(1, int(n**0.5)+1)])\n",
    "\n",
    "    for count in range(1, n+1):\n",
    "        if is_divided_by(n, count):\n",
    "            return count"
   ]
  },
  {
   "cell_type": "raw",
   "metadata": {},
   "source": [
    "n-nary tree can also solve this."
   ]
  },
  {
   "cell_type": "code",
   "execution_count": null,
   "metadata": {},
   "outputs": [],
   "source": [
    " def numSquares(self, n: int) -> int:\n",
    "        #numSquares(n) = numSquares(n-k)\n",
    "        square_nums = [i * i for i in range(1, int(n**0.5)+1)]\n",
    "    \n",
    "        level = 0\n",
    "        queue = {n}\n",
    "        while queue:\n",
    "            level += 1\n",
    "            #! Important: use set() instead of list() to eliminate the redundancy,\n",
    "            # which would even provide a 5-times speedup, 200ms vs. 1000ms.\n",
    "            next_queue = set()\n",
    "            # construct the queue for the next level\n",
    "            for remainder in queue:\n",
    "                for square_num in square_nums:    \n",
    "                    if remainder == square_num:\n",
    "                        return level  # find the node!\n",
    "                    elif remainder < square_num:\n",
    "                        break\n",
    "                    else:\n",
    "                        next_queue.add(remainder - square_num)\n",
    "            queue = next_queue\n",
    "        return level"
   ]
  },
  {
   "cell_type": "markdown",
   "metadata": {},
   "source": [
    "# 300. Longest Increasing Subsequence\n"
   ]
  },
  {
   "cell_type": "code",
   "execution_count": null,
   "metadata": {},
   "outputs": [],
   "source": [
    "def lengthOfLIS(self, nums: List[int]) -> int:\n",
    "    length = len(nums)\n",
    "    lis_arr = [1] * length\n",
    "    for j in range(1, length):\n",
    "        for i in range (j):\n",
    "            if nums[j]>nums[i]:\n",
    "                lis_arr[j] = max(lis_arr[i]+1, lis_arr[j])\n",
    "\n",
    "\n",
    "    return max(lis_arr)"
   ]
  },
  {
   "cell_type": "raw",
   "metadata": {},
   "source": [
    "Initialize an array sub which contains the first element of nums.\n",
    "\n",
    "Iterate through the input, starting from the second element. For each element num:\n",
    "\n",
    "If num is greater than any element in sub, then add num to sub.\n",
    "Otherwise, perform a binary search in sub to find the smallest element that is greater than or equal to num. Replace that element with num.\n",
    "Return the length of sub."
   ]
  },
  {
   "cell_type": "code",
   "execution_count": null,
   "metadata": {},
   "outputs": [],
   "source": [
    " def lengthOfLIS(self, nums: List[int]) -> int:\n",
    "        sub = []\n",
    "        for num in nums:\n",
    "            # print(sub, num)\n",
    "            i = bisect_left(sub, num) \n",
    "            # print(i)\n",
    "            # If num is greater than any element in sub\n",
    "            if i == len(sub):\n",
    "                sub.append(num)\n",
    "            \n",
    "            # Otherwise, replace the first element in sub greater than or equal to num\n",
    "            else:\n",
    "                sub[i] = num\n",
    "        \n",
    "        return len(sub)"
   ]
  },
  {
   "cell_type": "markdown",
   "metadata": {},
   "source": [
    "# 42 Trapping Rain Water"
   ]
  },
  {
   "cell_type": "markdown",
   "metadata": {},
   "source": [
    "Solution DP I:\n",
    "left_max array[]\n",
    "right_max array[]\n",
    "iterate over min(left_max[i], right_max[i])-height[i]"
   ]
  },
  {
   "cell_type": "markdown",
   "metadata": {},
   "source": [
    "Solution Stack:\n",
    "1. We keep a stack and iterate over the array.\n",
    "2. We add the index of the bar to the stack if bar is smaller than or equal to the bar at top of stack, which means that the current bar is bounded by the previous bar in the stack. \n",
    "3. If we found a bar longer than that at the top, we are sure that the bar at the top of the stack is bounded by the current bar and a previous bar in the stack, hence, we can pop it and add resulting trapped water to ans."
   ]
  },
  {
   "cell_type": "markdown",
   "metadata": {},
   "source": [
    "Use stack to store the indices of the bars.\n",
    "1. Iterate the array:\n",
    "   While stack is not empty and \\text{height[current]}>\\text{height[st.top()]}height[current]>height[st.top()]\n",
    "        - It means that the stack element can be popped. Pop the top element as \\text{top}top.\n",
    "        - Find the distance between the current element and the element at top of stack, which is to be filled. \\text{distance} = \\text{current} - \\text{st.top}() - 1distance=current−st.top()−1\n",
    "        - Find the bounded height \\text{bounded\\_height} = \\min(\\text{height[current]}, \\text{height[st.top()]}) - \\text{height[top]}bounded_height=min(height[current],height[st.top()])−height[top]\n",
    "        - Add resulting trapped water to answer \\text{ans} \\mathrel{+}= \\text{distance} \\times \\text{bounded\\_height}ans+=distance×bounded_height\n",
    "2. Push current index to top of the stack\n",
    "3. Move \\text{current}current to the next position"
   ]
  },
  {
   "cell_type": "markdown",
   "metadata": {},
   "source": [
    "# 410. Split Array Largest Sum\n"
   ]
  },
  {
   "cell_type": "raw",
   "metadata": {},
   "source": [
    "Given an array nums which consists of non-negative integers and an integer m, you can split the array into m non-empty continuous subarrays.\n",
    "\n",
    "Write an algorithm to minimize the largest sum among these m subarrays.\n",
    "Input: nums = [7,2,5,10,8], m = 2\n",
    "Output: 18\n",
    "Explanation:\n",
    "There are four ways to split nums into two subarrays.\n",
    "The best way is to split it into [7,2,5] and [10,8],\n",
    "where the largest sum among the two subarrays is only 18."
   ]
  },
  {
   "cell_type": "raw",
   "metadata": {},
   "source": [
    "F[currIndex, subarrayCount] = min( max(sum[currIndex, i], F[i + 1, subarrayCount - 1]) ), For all i in range [currIndex, n - subarrayCount]\n",
    "\n",
    "Note that the function F shown here, represents getMinimumLargestSplitSum in the code provided below.\n",
    "Let's break down the expression max(sum[currIndex, i], F[i + 1, subarrayCount - 1]) so that we understand it better.\n",
    "\n",
    "F[i + 1, subarrayCount - 1] represents the smallest possible largest sum subarray in the range [i + 1, n - 1] with subarrayCount - 1 subarrays.\n",
    "sum[currIndex, i] represents the sum of the current subarray spanning the range of [currIndex, i].\n",
    "We take the max of these two values, the expression as a whole represents the largest sum subarray in the range [currIndex, n - 1] with subarrayCount subarrays, when we make the first split at index i.\n",
    "To find the optimal place to split the array, we calculate this for all i in the range [currIndex, n - subarrayCount] and take the minimum value as the result."
   ]
  },
  {
   "cell_type": "code",
   "execution_count": null,
   "metadata": {},
   "outputs": [],
   "source": [
    "def splitArray(self, nums: List[int], m: int) -> int:\n",
    "    n = len(nums)\n",
    "    prefix_sum = [0] + list(itertools.accumulate(nums))\n",
    "\n",
    "    def get_min_largest_split_sum(curr_ind, subarray_count):\n",
    "        #base case: 1 subarray left\n",
    "        if subarray_count == 1:\n",
    "            return prefix_sum[n] - prefix_sum[curr_ind]\n",
    "        #use recurrence\n",
    "        minimum_largest_split_sum = prefix_sum[n]\n",
    "        for i in range(curr_ind, n - subarray_count + 1):\n",
    "            first_split_sum = prefix_sum[i+1] - prefix_sum[curr_ind]\n",
    "            largest_split_sum = max(first_split_sum, get_min_largest_split_sum(i+1, subarray_count -1))\n",
    "            minimum_largest_split_sum = min(minimum_largest_split_sum, largest_split_sum)\n",
    "            if first_split_sum >= minimum_largest_split_sum:\n",
    "                break\n",
    "        return minimum_largest_split_sum\n",
    "    return get_min_largest_split_sum(0, m)"
   ]
  },
  {
   "cell_type": "code",
   "execution_count": null,
   "metadata": {},
   "outputs": [],
   "source": [
    "def splitArray(self, nums: List[int], m: int) -> int:\n",
    "    n = len(nums)\n",
    "    prefix_sum = [0] + list(itertools.accumulate(nums))\n",
    "    memo = [[0] * (m + 1) for _ in range(n)]\n",
    "    for subarray_count in range(1, m + 1):\n",
    "        for curr_index in range(n):\n",
    "            if subarray_count == 1:\n",
    "                memo[curr_index][subarray_count] = prefix_sum[n] - prefix_sum[curr_index]\n",
    "                continue\n",
    "            minimum_largest_split_sum = prefix_sum[n]\n",
    "            for i in range(curr_index, n - subarray_count + 1):\n",
    "                # Store the sum of the first subarray.\n",
    "                first_split_sum = prefix_sum[i + 1] - prefix_sum[curr_index]\n",
    "\n",
    "                # Find the maximum subarray sum for the current first split.\n",
    "                largest_split_sum = max(first_split_sum, memo[i + 1][subarray_count - 1])\n",
    "\n",
    "                # Find the minimum among all possible combinations.\n",
    "                minimum_largest_split_sum = min(minimum_largest_split_sum, largest_split_sum)\n",
    "\n",
    "                if first_split_sum >= minimum_largest_split_sum:\n",
    "                    break\n",
    "\n",
    "            memo[curr_index][subarray_count] = minimum_largest_split_sum\n",
    "    return memo[0][m]"
   ]
  },
  {
   "cell_type": "raw",
   "metadata": {},
   "source": [
    "The goal of this problem is to find the minimum largest subarray sum with mm subarrays. Instead of finding the answer directly, what if we try to guess the answer (say X), and check whether this particular value could be the largest subarray sum with m subarrays. If this is possible, we can check all values for X \\geq 0X≥0, and the first value that satisfies the condition will be the answer. Thus, by repeatedly solving the following problem, we can find the minimum largest subarray sum needed to split nums into m subarrays:"
   ]
  },
  {
   "cell_type": "markdown",
   "metadata": {},
   "source": [
    "The solution to this newly defined problem is as follows\n",
    "\n",
    "- First, make sure X is greater than or equal to the maximum element in the array. Otherwise, no solution would be possible because we cannot divide an element.\n",
    "- Start from 0th index and keep adding elements to sum only if adding the element does not make sum greater than X.\n",
    "- If adding the current element would make the sum greater than X then we have to split the subarray here. So we will increment the number of splits required (splitsRequired) and set sum to the value of current element (signifying that the current subarray only contains the current element).\n",
    "- Once we traversed the whole array, return splitsRequired + 1. This is the minimum number of subarrays required.\n"
   ]
  },
  {
   "cell_type": "markdown",
   "metadata": {},
   "source": [
    "Algorithm\n",
    "\n",
    "1. Store the sum of elements in nums in the variable sum and the maximum element of the array in maxElement.\n",
    "\n",
    "2. Initialize the boundary for binary search. The minimum value for the largest subarray sum is maxElement and the maximum value is equal to sum. Hence assign left and right to maxElement and sum respectively.\n",
    "\n",
    "3. Then while the left is not greater than right:\n",
    "\n",
    "a. Find the mid-value in range [left, right], this is equal to the maximum subarray sum allowed. Store it in maxSumAllowed.\n",
    "\n",
    "b. Find the minimum number of subarrays required to have the largest subarray sum equal to maxSumAllowed.\n",
    "\n",
    "4. If the number of subarrays is less than or equal to mm then assign maxSumAllowed as the answer minimumLargestSplitSum and decrease the value of our right boundary.\n",
    "If the number of subarrays is more than mm this can't be the answer hence, increase the value of our left boundary.\n",
    "Return minimumLargestSplitSum."
   ]
  },
  {
   "cell_type": "markdown",
   "metadata": {},
   "source": [
    "# 474. Ones and Zeroes\n"
   ]
  },
  {
   "cell_type": "raw",
   "metadata": {},
   "source": [
    "You are given an array of binary strings strs and two integers m and n.\n",
    "\n",
    "Return the size of the largest subset of strs such that there are at most m 0's and n 1's in the subset.\n",
    "\n",
    "A set x is a subset of a set y if all elements of x are also elements of y."
   ]
  },
  {
   "cell_type": "code",
   "execution_count": null,
   "metadata": {},
   "outputs": [],
   "source": [
    "# knapsack solution, recursion + memoize\n",
    "def findMaxForm(self, strs: List[str], m: int, n: int) -> int:\n",
    "    cache = {}\n",
    "    def helper(ind, m, n):\n",
    "        if ind == len(strs):\n",
    "            return 0\n",
    "        if (ind, m, n) in cache:\n",
    "            return cache[ind, m, n]\n",
    "        res = 0\n",
    "        count_0 = strs[ind].count(\"0\")\n",
    "        count_1 = len(strs[ind]) - count_0\n",
    "        if m >= count_0 and n >= count_1:\n",
    "            res = max(res, 1 + helper(ind + 1, m - count_0, n - count_1))\n",
    "        res = max(res, helper(ind + 1, m, n))\n",
    "        cache[ind, m, n] = res\n",
    "        return res\n",
    "    return helper(0, m, n)"
   ]
  },
  {
   "cell_type": "code",
   "execution_count": null,
   "metadata": {},
   "outputs": [],
   "source": [
    "def findMaxForm(self, strs: List[str], m: int, n: int) -> int:\n",
    "        dp = [[0] * (n + 1)\n",
    "               for _ in range(m + 1)]\n",
    "        for s in strs:\n",
    "            count_0 = s.count(\"0\")\n",
    "            count_1 = len(s) - count_0\n",
    "            for j in range(m, count_0 - 1, -1):\n",
    "                for k in range(n, count_1 - 1, -1):\n",
    "                    if j >= count_0 and k >= count_1:\n",
    "                        dp[j][k] = max(\n",
    "                            dp[j][k], 1 + dp[j-count_0][k-count_1])\n",
    "        return dp[m][n]"
   ]
  },
  {
   "cell_type": "markdown",
   "metadata": {},
   "source": [
    "# 32. Longest Valid Parentheses\n"
   ]
  },
  {
   "cell_type": "markdown",
   "metadata": {},
   "source": [
    "Given a string containing just the characters '(' and ')', find the length of the longest valid (well-formed) parentheses substring.\n",
    "s[i]=‘)’ and \\text{s}[i - 1] = \\text{‘(’}s[i−1]=‘(’, i.e. string looks like ``.......()\" \\Rightarrow‘‘.......()\"⇒\n",
    "dp[i]=dp[i−2]+2\n",
    "\n",
    "s[i]=‘)’ and \\text{s}[i - 1] = \\text{‘)’}s[i−1]=‘)’, i.e. string looks like ``.......))\" \\Rightarrow‘‘.......))\"⇒\n",
    "dp[i]=dp[i−1]+dp[i−dp[i−1]−2]+2 "
   ]
  },
  {
   "cell_type": "code",
   "execution_count": null,
   "metadata": {},
   "outputs": [],
   "source": [
    "def longestValidParentheses(self, s: str) -> int:\n",
    "    # dp solution\n",
    "    # ith ele of dp \n",
    "    maxans = 0 \n",
    "    dp = [0 for _ in range(len(s))]\n",
    "    for i in range(1,len(s)):\n",
    "        if (s[i] == ')'):\n",
    "            if s[i-1] == '(':\n",
    "                dp[i] =  dp[i-2] + 2 if i>=2 else 2\n",
    "            elif i-dp[i-1]> 0 and s[i-dp[i-1]-1]=='(':\n",
    "                dp[i] =  dp[i-dp[i-1]-2] +dp[i-1] +2 if (i-dp[i-1]) >= 2 else dp[i-1] +2\n",
    "            maxans = max(maxans, dp[i])\n",
    "    return maxans"
   ]
  },
  {
   "cell_type": "code",
   "execution_count": null,
   "metadata": {},
   "outputs": [],
   "source": [
    "def longestValidParentheses(self, s: str) -> int:\n",
    "    maxans = 0\n",
    "    stack = [-1]\n",
    "    for i in range(len(s)):\n",
    "        if s[i] == '(':\n",
    "            stack.append(i)\n",
    "        else:\n",
    "            stack.pop()\n",
    "            if stack:\n",
    "                maxans = max(maxans, i- stack[-1])\n",
    "            else:\n",
    "                stack.append(i)\n",
    "    return maxans"
   ]
  },
  {
   "cell_type": "markdown",
   "metadata": {},
   "source": [
    "# 120. Triangle\n",
    " ### 931. Minimum Falling Path Sum\n",
    " ### 118. Pascal's Triangle"
   ]
  },
  {
   "cell_type": "code",
   "execution_count": null,
   "metadata": {},
   "outputs": [],
   "source": [
    "def minimumTotal(self, triangle: List[List[int]]) -> int:\n",
    "    for row in range(1, len(triangle)):\n",
    "        for col in range(row+1):\n",
    "            smallest_above = math.inf\n",
    "            if col > 0:\n",
    "                smallest_above = triangle[row-1][col-1]\n",
    "            if col < row:\n",
    "                smallest_above = min(smallest_above, triangle[row-1][col])\n",
    "            triangle[row][col] += smallest_above\n",
    "    return min(triangle[-1])"
   ]
  },
  {
   "cell_type": "code",
   "execution_count": null,
   "metadata": {},
   "outputs": [],
   "source": [
    "def minimumTotal(self, triangle: List[List[int]]) -> int:\n",
    "    @lru_cache()\n",
    "    def dfs(i, level):\n",
    "        if level == len(triangle):\n",
    "            return 0\n",
    "\n",
    "        left = triangle[level][i] + dfs(i, level + 1)\n",
    "        right = triangle[level][i] + dfs(i+1, level + 1)\n",
    "\n",
    "        return min(left, right)\n",
    "\n",
    "    return dfs(0, 0)\n"
   ]
  },
  {
   "cell_type": "markdown",
   "metadata": {},
   "source": [
    "# 40. Combination Sum II ( Need to review knapsack, backtrack and coin change)\n"
   ]
  },
  {
   "cell_type": "markdown",
   "metadata": {},
   "source": [
    "Given a collection of candidate numbers (candidates) and a target number (target), find all unique combinations in candidates where the candidate numbers sum to target.\n",
    "\n",
    "Each number in candidates may only be used once in the combination."
   ]
  },
  {
   "cell_type": "code",
   "execution_count": null,
   "metadata": {},
   "outputs": [],
   "source": [
    "from typing import List"
   ]
  },
  {
   "cell_type": "code",
   "execution_count": null,
   "metadata": {},
   "outputs": [],
   "source": [
    "candidates = [10,1,2,7,6,1,5]\n",
    "target = 8"
   ]
  },
  {
   "cell_type": "code",
   "execution_count": null,
   "metadata": {},
   "outputs": [],
   "source": [
    "candidates = [2,5,2,1,2]\n",
    "target = 5"
   ]
  },
  {
   "cell_type": "code",
   "execution_count": null,
   "metadata": {},
   "outputs": [],
   "source": [
    "def combinationSum2(candidates: List[int], target: int) -> List[List[int]]:\n",
    "        candidates.sort()\n",
    "        dp = [set() for i in range(target+1)]\n",
    "        print(f'original dp array:{dp}')\n",
    "        dp[0].add(())\n",
    "        print(f'first step:{dp}')\n",
    "\n",
    "        for num in candidates:\n",
    "            for t in range(target, num-1, -1):\n",
    "                for prev in dp[t-num]:\n",
    "                    dp[t].add(prev + (num,))\n",
    "                    print (f'step: {dp}')\n",
    "        return list(dp[-1])"
   ]
  },
  {
   "cell_type": "markdown",
   "metadata": {},
   "source": [
    "#### go back to review coin change knapsack"
   ]
  },
  {
   "cell_type": "code",
   "execution_count": null,
   "metadata": {},
   "outputs": [],
   "source": [
    "combinationSum2(candidates, target)"
   ]
  },
  {
   "cell_type": "markdown",
   "metadata": {},
   "source": [
    "### also can be solved with recursion need to review, memory is kinda of fading."
   ]
  },
  {
   "cell_type": "markdown",
   "metadata": {},
   "source": [
    "# 629. K Inverse Pairs Array (very hard)\n"
   ]
  },
  {
   "cell_type": "markdown",
   "metadata": {},
   "source": [
    "For an integer array nums, an inverse pair is a pair of integers [i, j] where 0 <= i < j < nums.length and nums[i] > nums[j].\n",
    "\n",
    "Given two integers n and k, return the number of different arrays consist of numbers from 1 to n such that there are exactly k inverse pairs. Since the answer can be huge, return it modulo 109 + 7.\n",
    "\n",
    " "
   ]
  },
  {
   "cell_type": "markdown",
   "metadata": {},
   "source": [
    "## subproblem: \n",
    "count(n,k)=∑ i=0min(k,n−1)count(n−1,k−i).Similarly, for an element with k-ik−i number of inverse pairs, we can add this new number nn at a position ii steps from the right. Each of these updations to the arrays leads to a new arrangement, each with the number of inverse pairs being equal to kk."
   ]
  },
  {
   "cell_type": "code",
   "execution_count": null,
   "metadata": {},
   "outputs": [],
   "source": [
    "def kInversePairs(self, n: int, k: int) -> int:\n",
    "    memo = [[-1]*1002 for _ in range(1002)] \n",
    "    def k_inv(n, k, memo):\n",
    "        if k < 0: return 0\n",
    "        if k == 0:\n",
    "            return 1\n",
    "        elif n == 1:\n",
    "            return 0\n",
    "        else:\n",
    "            if memo[n][k] != -1:\n",
    "                return memo[n][k]\n",
    "            res = 0\n",
    "            for i in range(n):\n",
    "                res += k_inv(n-1, k-i, memo)\n",
    "            memo[n][k] = res % (10 ** 9 + 7)\n",
    "            return res % (10 ** 9 + 7)\n",
    "    return k_inv(n,k, memo)"
   ]
  },
  {
   "cell_type": "code",
   "execution_count": null,
   "metadata": {},
   "outputs": [],
   "source": [
    "def kInversePairs(self, n: int, k: int) -> int:\n",
    "    dp = [[0] * (k+1) for i in range(n+1)]\n",
    "    dp[0][0] = 1\n",
    "\n",
    "    for i in range(1, n+1):\n",
    "        for j in range(k+1):\n",
    "            if j == 0:\n",
    "                dp[i][j] += dp[i-1][0]\n",
    "            else:\n",
    "                dp[i][j] += dp[i][j-1] + dp[i-1][j]\n",
    "                if j-i >= 0:\n",
    "                    dp[i][j] -= dp[i-1][j-i]\n",
    "            dp[i][j] = dp[i][j] % (10 ** 9 + 7)\n",
    "\n",
    "    return dp[n][k]"
   ]
  },
  {
   "cell_type": "markdown",
   "metadata": {},
   "source": [
    "# 576. Out of Boundary Paths\n"
   ]
  },
  {
   "cell_type": "raw",
   "metadata": {},
   "source": [
    "There is an m x n grid with a ball. The ball is initially at the position [startRow, startColumn]. You are allowed to move the ball to one of the four adjacent cells in the grid (possibly out of the grid crossing the grid boundary). You can apply at most maxMove moves to the ball.\n",
    "\n",
    "Given the five integers m, n, maxMove, startRow, startColumn, return the number of paths to move the ball out of the grid boundary. Since the answer can be very large, return it modulo 109 + 7.\n",
    "\n",
    " "
   ]
  },
  {
   "cell_type": "code",
   "execution_count": null,
   "metadata": {},
   "outputs": [],
   "source": [
    "def findPaths(self, m: int, n: int, maxMove: int, startRow: int, startColumn: int) -> int:\n",
    "\n",
    "    def findPath(m, n, maxMove, startRow, startColumn, memo):\n",
    "        if startRow == m or startColumn == n or startRow <0 or startColumn <0:\n",
    "            return 1\n",
    "        if maxMove ==0:\n",
    "            return 0\n",
    "        if memo[startRow][startColumn][maxMove] >=0:\n",
    "            return memo[startRow][startColumn][maxMove]\n",
    "        memo[startRow][startColumn][maxMove]= (findPath(m, n, maxMove-1, startRow-1, startColumn, memo)+findPath( m, n, maxMove-1, startRow+1, startColumn, memo)+findPath( m, n, maxMove-1, startRow, startColumn-1, memo)+findPath( m, n, maxMove-1, startRow, startColumn+1, memo)) % (10**9+7)\n",
    "        return memo[startRow][startColumn][maxMove]\n",
    "\n",
    "    memo = [[[-1]*(maxMove+1) for _ in range(n+1)] for _ in range(m+1)]\n",
    "    print(memo)\n",
    "    return findPath(m, n, maxMove, startRow, startColumn, memo)"
   ]
  },
  {
   "cell_type": "markdown",
   "metadata": {},
   "source": [
    "# 472. Concatenated Words\n"
   ]
  },
  {
   "cell_type": "markdown",
   "metadata": {},
   "source": [
    "Given an array of strings words (without duplicates), return all the concatenated words in the given list of words.\n",
    "\n",
    "A concatenated word is defined as a string that is comprised entirely of at least two shorter words in the given array."
   ]
  },
  {
   "cell_type": "code",
   "execution_count": null,
   "metadata": {},
   "outputs": [],
   "source": [
    "Input: words = [\"cat\",\"cats\",\"catsdogcats\",\"dog\",\"dogcatsdog\",\"hippopotamuses\",\"rat\",\"ratcatdogcat\"]\n",
    "Output: [\"catsdogcats\",\"dogcatsdog\",\"ratcatdogcat\"]\n",
    "Explanation: \"catsdogcats\" can be concatenated by \"cats\", \"dog\" and \"cats\"; \n",
    "\"dogcatsdog\" can be concatenated by \"dog\", \"cats\" and \"dog\"; \n",
    "\"ratcatdogcat\" can be concatenated by \"rat\", \"cat\", \"dog\" and \"cat\""
   ]
  },
  {
   "cell_type": "code",
   "execution_count": null,
   "metadata": {},
   "outputs": [],
   "source": [
    "    def findAllConcatenatedWordsInADict(self, words: List[str]) -> List[str]:\n",
    "        def check(word, d):\n",
    "            if word in d:\n",
    "                return True\n",
    "\n",
    "            for i in range(len(word),0, -1):\n",
    "                if word[:i] in d and check(word[i:], d):\n",
    "                    return True\n",
    "            return False\n",
    "        \n",
    "        res = []\n",
    "        words_dict = set(words)\n",
    "        for word in words:\n",
    "            words_dict.remove(word)\n",
    "            if check(word, words_dict) is True:\n",
    "                res.append(word)\n",
    "            words_dict.add(word)\n",
    "        return res\n",
    "    "
   ]
  },
  {
   "cell_type": "markdown",
   "metadata": {},
   "source": [
    "# 823. Binary Trees With Factors\n"
   ]
  },
  {
   "cell_type": "markdown",
   "metadata": {},
   "source": [
    "Given an array of unique integers, arr, where each integer arr[i] is strictly greater than 1.\n",
    "\n",
    "We make a binary tree using these integers, and each number may be used for any number of times. Each non-leaf node's value should be equal to the product of the values of its children.\n",
    "\n",
    "Return the number of binary trees we can make. The answer may be too large so return the answer modulo 109 + 7.\n",
    "\n"
   ]
  },
  {
   "cell_type": "code",
   "execution_count": null,
   "metadata": {},
   "outputs": [],
   "source": [
    "def numFactoredBinaryTrees(self, arr: List[int]) -> int:\n",
    "    MOD= 10**9+7\n",
    "    N = len(arr)\n",
    "    arr.sort()\n",
    "    dp = [1] * N\n",
    "    index = {x: i for i, x in enumerate(arr)}\n",
    "    for i, x in enumerate(arr):\n",
    "        for j in range(i):\n",
    "            if x % arr[j] ==0: #arr[j] will be left child\n",
    "                right = x // arr[j]\n",
    "                if right in index:\n",
    "                    dp[i] += dp[j] * dp[index[right]]\n",
    "                    dp[i] %= MOD\n",
    "    return sum(dp)% MOD\n"
   ]
  },
  {
   "cell_type": "markdown",
   "metadata": {},
   "source": [
    "# 121. Best Time to Buy and Sell Stock\n",
    "\n",
    "Say you have an array for which the ith element is the price of a given stock on day i.\n",
    "\n",
    "If you were only permitted to complete at most one transaction (i.e., buy one and sell one share of the stock), design an algorithm to find the maximum profit.\n",
    "\n",
    "Note that you cannot sell a stock before you buy one."
   ]
  },
  {
   "cell_type": "markdown",
   "metadata": {},
   "source": [
    "Input: [7,1,5,3,6,4]\n",
    "Output: 5"
   ]
  },
  {
   "cell_type": "code",
   "execution_count": null,
   "metadata": {},
   "outputs": [],
   "source": [
    "from typing import List"
   ]
  },
  {
   "cell_type": "code",
   "execution_count": null,
   "metadata": {},
   "outputs": [],
   "source": [
    "def maxProfit(prices: List[int]) -> int:\n",
    "    num_days = len(prices)\n",
    "    max_profit_list = [0 for i in range(num_days)]\n",
    "    for i in range(num_days):\n",
    "        for j in range(i, num_days):\n",
    "            print(f'i: {i}, j: {j}')\n",
    "            if prices[j]-prices[i]> max_profit_list[i]:\n",
    "                max_profit_list[i] = prices[j]-prices[i]\n",
    "            print(max_profit_list)\n",
    "    return max(max_profit_list)"
   ]
  },
  {
   "cell_type": "code",
   "execution_count": null,
   "metadata": {},
   "outputs": [],
   "source": [
    "prices =[7,1,5,3,6,4]"
   ]
  },
  {
   "cell_type": "code",
   "execution_count": null,
   "metadata": {
    "scrolled": true,
    "tags": []
   },
   "outputs": [],
   "source": [
    "maxProfit(prices)"
   ]
  },
  {
   "cell_type": "code",
   "execution_count": null,
   "metadata": {},
   "outputs": [],
   "source": [
    "def maxProfit(prices: List[int]) -> int:\n",
    "    low = 2**31-1\n",
    "    low_index = 0\n",
    "    max_profit = 0\n",
    "    for ind, price in enumerate(prices): \n",
    "        print(ind, price, low)\n",
    "        if price < low: \n",
    "            low = price\n",
    "        if price-low > max_profit:\n",
    "            max_profit = price -low \n",
    "    print(max_profit)"
   ]
  },
  {
   "cell_type": "code",
   "execution_count": null,
   "metadata": {},
   "outputs": [],
   "source": [
    "maxProfit(prices)"
   ]
  },
  {
   "cell_type": "markdown",
   "metadata": {},
   "source": [
    "# 122. Best Time to Buy and Sell Stock II\n"
   ]
  },
  {
   "cell_type": "code",
   "execution_count": null,
   "metadata": {},
   "outputs": [],
   "source": [
    "def maxProfit(self, prices: List[int]) -> int:\n",
    "    res = 0\n",
    "    for i, j in zip(prices[1:], prices[:-1]):\n",
    "        res+= max(0, i-j)\n",
    "    return res"
   ]
  },
  {
   "cell_type": "markdown",
   "metadata": {},
   "source": [
    "# 123. Best Time to Buy and Sell Stock III\n"
   ]
  },
  {
   "cell_type": "raw",
   "metadata": {},
   "source": [
    "You are given an array prices where prices[i] is the price of a given stock on the ith day.\n",
    "\n",
    "Find the maximum profit you can achieve. You may complete at most two transactions."
   ]
  },
  {
   "cell_type": "code",
   "execution_count": null,
   "metadata": {},
   "outputs": [],
   "source": [
    "def maxProfit(self, prices):\n",
    "    \"\"\"\n",
    "    :type prices: List[int]\n",
    "    :rtype: int\n",
    "    \"\"\"\n",
    "    if len(prices) <= 1:\n",
    "        return 0\n",
    "\n",
    "    left_min = prices[0]\n",
    "    right_max = prices[-1]\n",
    "\n",
    "    length = len(prices)\n",
    "    left_profits = [0] * length\n",
    "    # pad the right DP array with an additional zero for convenience.\n",
    "    right_profits = [0] * (length + 1)\n",
    "\n",
    "    # construct the bidirectional DP array\n",
    "    for l in range(1, length):\n",
    "        left_profits[l] = max(left_profits[l-1], prices[l] - left_min)\n",
    "        left_min = min(left_min, prices[l])\n",
    "\n",
    "        r = length - 1 - l\n",
    "        right_profits[r] = max(right_profits[r+1], right_max - prices[r])\n",
    "        right_max = max(right_max, prices[r])\n",
    "\n",
    "    max_profit = 0\n",
    "    for i in range(0, length):\n",
    "        max_profit = max(max_profit, left_profits[i] + right_profits[i+1])\n",
    "\n",
    "    return max_profit"
   ]
  },
  {
   "cell_type": "code",
   "execution_count": null,
   "metadata": {},
   "outputs": [],
   "source": [
    "def maxProfit(self, prices):\n",
    "    \"\"\"\n",
    "    :type prices: List[int]\n",
    "    :rtype: int\n",
    "    \"\"\"\n",
    "    t1_cost, t2_cost = float('inf'), float('inf')\n",
    "    t1_profit, t2_profit = 0, 0\n",
    "\n",
    "    for price in prices:\n",
    "        # the maximum profit if only one transaction is allowed\n",
    "        t1_cost = min(t1_cost, price)\n",
    "        t1_profit = max(t1_profit, price - t1_cost)\n",
    "        # reinvest the gained profit in the second transaction\n",
    "        t2_cost = min(t2_cost, price - t1_profit)\n",
    "        t2_profit = max(t2_profit, price - t2_cost)\n",
    "\n",
    "    return t2_profit"
   ]
  },
  {
   "cell_type": "markdown",
   "metadata": {},
   "source": [
    "# 188. Best Time to Buy and Sell Stock IV\n"
   ]
  },
  {
   "cell_type": "raw",
   "metadata": {},
   "source": [
    "You are given an integer array prices where prices[i] is the price of a given stock on the ith day, and an integer k.\n",
    "\n",
    "Find the maximum profit you can achieve. You may complete at most k transactions."
   ]
  },
  {
   "cell_type": "code",
   "execution_count": null,
   "metadata": {},
   "outputs": [],
   "source": [
    "def maxProfit(self, k: int, prices: List[int]) -> int:\n",
    "    def solve(prices, k, idx, memo={}):\n",
    "        if idx <= 0 or not k: return 0\n",
    "        if (k, idx) in memo: return memo[k, idx]\n",
    "        nosell, sell = solve(prices, k, idx-1, memo), 0\n",
    "        for i in range(idx):\n",
    "            sell = max(sell, prices[idx] - prices[i] + solve(prices, k-1, i, memo))\n",
    "        memo[k, idx] = max(sell, nosell)\n",
    "        return memo[k, idx]\n",
    "    return solve(prices, k, len(prices) - 1)"
   ]
  },
  {
   "cell_type": "code",
   "execution_count": null,
   "metadata": {},
   "outputs": [],
   "source": [
    "def maxProfit(self, k: int, prices: List[int]) -> int:\n",
    "    n = len(prices)\n",
    "    if not prices or k ==0:\n",
    "        return 0\n",
    "    if 2*k > n:\n",
    "        res = 0\n",
    "        for i, j in zip(prices[1:], prices[:-1]):\n",
    "            res+= max(0, i-j)\n",
    "        return res\n",
    "    #dp[i][used_k][ishold]\n",
    "    dp = [[[-math.inf]*2 for _ in range(k+1)] for _ in range(n)]\n",
    "    dp[0][0][0] = 0\n",
    "    dp[0][1][1] = -prices[0]\n",
    "    for i in range(1, n):\n",
    "        for j in range(k+1):\n",
    "            dp[i][j][0] = max(dp[i-1][j][0], dp[i-1][j][1] + prices[i] ) # keep not holding VS. selling\n",
    "            if j>0:\n",
    "                dp[i][j][1] = max(dp[i-1][j][1], dp[i-1][j-1][0] - prices[i]) # keep holding VS. buying\n",
    "\n",
    "    res = max([dp[n-1][j][0] for j in range(k+1)])\n",
    "    return res"
   ]
  },
  {
   "cell_type": "markdown",
   "metadata": {},
   "source": [
    "## Note: 10/3/2022 using recursion to do DP problems are easier mentally, since it's all about identifying the induction step, below are a few of very similar examples:"
   ]
  },
  {
   "cell_type": "markdown",
   "metadata": {},
   "source": [
    "### 1578. Minimum Time to Make Rope Colorful\n"
   ]
  },
  {
   "cell_type": "raw",
   "metadata": {},
   "source": [
    "Alice has n balloons arranged on a rope. You are given a 0-indexed string colors where colors[i] is the color of the ith balloon.\n",
    "\n",
    "Alice wants the rope to be colorful. She does not want two consecutive balloons to be of the same color, so she asks Bob for help. Bob can remove some balloons from the rope to make it colorful. You are given a 0-indexed integer array neededTime where neededTime[i] is the time (in seconds) that Bob needs to remove the ith balloon from the rope.\n",
    "\n",
    "Return the minimum time Bob needs to make the rope colorful."
   ]
  },
  {
   "cell_type": "code",
   "execution_count": null,
   "metadata": {},
   "outputs": [],
   "source": [
    "def minCost(self, colors: str, neededTime: List[int]) -> int:\n",
    "    memo = {}\n",
    "    def recurse(ind, prev):\n",
    "        if (ind, prev) in memo:\n",
    "            return memo[(ind, prev)]\n",
    "        if ind >= len(colors):\n",
    "            return 0\n",
    "        ret = neededTime[ind] + recurse(ind+1, prev)\n",
    "        if prev != colors[ind]:\n",
    "            ret = min(ret, recurse(ind+1, colors[ind]))\n",
    "        memo[(ind, prev)] = ret\n",
    "        return memo[(ind, prev)]\n",
    "\n",
    "    return recurse(0, None)"
   ]
  },
  {
   "cell_type": "code",
   "execution_count": null,
   "metadata": {},
   "outputs": [],
   "source": [
    "def minCost(self, colors: str, neededTime: List[int]) -> int:\n",
    "    res = max_cost = 0\n",
    "    for i in range(len(colors)):\n",
    "        if i > 0 and colors[i] != colors[i - 1]:\n",
    "            max_cost = 0\n",
    "        res += min(max_cost, neededTime[i])\n",
    "        max_cost = max(max_cost, neededTime[i])\n",
    "    return res"
   ]
  },
  {
   "cell_type": "markdown",
   "metadata": {},
   "source": [
    "## 91. Decode Ways\n",
    "To decode an encoded message, all the digits must be grouped then mapped back into letters using the reverse of the mapping above (there may be multiple ways). For example, \"11106\" can be mapped into:\n",
    "\n",
    "\"AAJF\" with the grouping (1 1 10 6)\n",
    "\"KJF\" with the grouping (11 10 6)"
   ]
  },
  {
   "cell_type": "code",
   "execution_count": null,
   "metadata": {},
   "outputs": [],
   "source": [
    "def numDecodings(s: str) -> int:\n",
    "    memo = {}\n",
    "\n",
    "    def recurse(index, s):\n",
    "        if index in memo:\n",
    "            return memo[index]\n",
    "\n",
    "        if index == len(s): # hit end\n",
    "            return 1\n",
    "        if s[index] == '0':\n",
    "            return 0\n",
    "        if index == len(s) -1: # last element\n",
    "            return 1\n",
    "        ans = recurse(index+1, s)\n",
    "        if int(s[index: index+2]) <= 26: # 2 digit case\n",
    "            ans += recurse(index+2, s)\n",
    "        memo[index] = ans\n",
    "        return ans\n",
    "\n",
    "    return recurse(0, s)"
   ]
  },
  {
   "cell_type": "code",
   "execution_count": null,
   "metadata": {},
   "outputs": [],
   "source": [
    "def numDecodings(self, s: str) -> int:\n",
    "    dp = [0 for _ in range(len(s) + 1)]\n",
    "    dp[0] = 1\n",
    "    dp[1] = 0 if s[0] == '0' else 1\n",
    "    for i in range(2, len(dp)):\n",
    "\n",
    "        # Check if successful single digit decode is possible.\n",
    "        if s[i - 1] != '0':\n",
    "            dp[i] = dp[i - 1]\n",
    "\n",
    "        # Check if successful two digit decode is possible.\n",
    "        two_digit = int(s[i - 2 : i])\n",
    "        if two_digit >= 10 and two_digit <= 26:\n",
    "            dp[i] += dp[i - 2]\n",
    "    return dp[len(s)]\n"
   ]
  },
  {
   "cell_type": "markdown",
   "metadata": {},
   "source": [
    "## 322. Coin Change\n",
    "You are given an integer array coins representing coins of different denominations and an integer amount representing a total amount of money.\n",
    "\n",
    "Return the fewest number of coins that you need to make up that amount. If that amount of money cannot be made up by any combination of the coins, return -1.\n",
    "\n",
    "You may assume that you have an infinite number of each kind of coin."
   ]
  },
  {
   "cell_type": "code",
   "execution_count": null,
   "metadata": {},
   "outputs": [],
   "source": [
    "def coinChange(coins: List[int], amount: int) -> int:\n",
    "    def __init__(self):\n",
    "        self.memo = {0:0}\n",
    "    def coinChange(self, coins: List[int], amount: int) -> int:\n",
    "        def coinRecursion(coins, remain):\n",
    "            if remain < 0: return -1\n",
    "            if remain == 0: return 0\n",
    "            if remain in self.memo:\n",
    "                return self.memo[remain]\n",
    "            minCount = float('inf')\n",
    "            for coin in coins:\n",
    "                count = coinRecursion(coins, remain-coin)\n",
    "                if count == -1:\n",
    "                    continue\n",
    "                minCount = min(minCount, count+1)\n",
    "            self.memo[remain] = -1 if minCount == float('inf') else minCount\n",
    "            return self.memo[remain]\n",
    "        \n",
    "        return coinRecursion(coins, amount)"
   ]
  },
  {
   "cell_type": "code",
   "execution_count": null,
   "metadata": {},
   "outputs": [],
   "source": [
    "def coinChange(coins: List[int], amount: int) -> int:            \n",
    "    def coinChangeInner(remain, cache):\n",
    "        if remain < 0:\n",
    "            return math.inf\n",
    "        if remain == 0:                    \n",
    "            return 0       \n",
    "        if remain in cache:\n",
    "            return cache[remain]\n",
    "\n",
    "        cache[remain] = min(coinChangeInner(remain-x, cache) + 1 for x in coins)                         \n",
    "        return cache[remain]      \n",
    "\n",
    "    ans = coinChangeInner(amount, {})\n",
    "    return -1 if ans == math.inf else ans                 "
   ]
  },
  {
   "cell_type": "markdown",
   "metadata": {},
   "source": [
    "## 1155. Number of Dice Rolls With Target Sum\n",
    "You have n dice and each die has k faces numbered from 1 to k.\n",
    "\n",
    "Given three integers n, k, and target, return the number of possible ways (out of the kn total ways) to roll the dice so the sum of the face-up numbers equals target. Since the answer may be too large, return it modulo 109 + 7.\n",
    "\n"
   ]
  },
  {
   "cell_type": "code",
   "execution_count": null,
   "metadata": {},
   "outputs": [],
   "source": [
    "def numRollsToTarget(self, n: int, k: int, target: int) -> int:\n",
    "    memo = {}\n",
    "    def ways2Target(memo, diceIndex, n, currSum, target, k ):\n",
    "        if diceIndex == n:\n",
    "            return True if currSum==target else False\n",
    "        if (diceIndex,currSum) in memo:\n",
    "            return memo[(diceIndex, currSum)]\n",
    "        ways = 0\n",
    "        for i in range(1, min(k, target-currSum)+1):\n",
    "            ways = (ways + ways2Target(memo, diceIndex+1, n, currSum+i, target, k))% MOD\n",
    "        memo[(diceIndex, currSum)] = ways\n",
    "        return memo[(diceIndex, currSum)]\n",
    "\n",
    "    return ways2Target(memo, 0, n, 0, target, k)"
   ]
  },
  {
   "cell_type": "code",
   "execution_count": null,
   "metadata": {},
   "outputs": [],
   "source": [
    "def numRollsToTarget(self, n: int, k: int, target: int) -> int:\n",
    "    MOD = 10**9 +7\n",
    "    dp = [[0]* (target+1) for _ in range(n+1)]\n",
    "    dp[n][target] = 1\n",
    "    for diceIndex in range(n-1, -1, -1):\n",
    "        for currSum in range(target+1):\n",
    "            ways = 0\n",
    "            for i in range(1, min(k, target-currSum)+1):\n",
    "                ways = (ways+dp[diceIndex+1][currSum+i])% MOD\n",
    "            dp[diceIndex][currSum] =  ways\n",
    "    return dp[0][0]"
   ]
  },
  {
   "cell_type": "markdown",
   "metadata": {},
   "source": [
    "# 1335. Minimum Difficulty of a Job Schedule\n"
   ]
  },
  {
   "cell_type": "markdown",
   "metadata": {},
   "source": [
    "You want to schedule a list of jobs in d days. Jobs are dependent (i.e To work on the ith job, you have to finish all the jobs j where 0 <= j < i).\n",
    "\n",
    "You have to finish at least one task every day. The difficulty of a job schedule is the sum of difficulties of each day of the d days. The difficulty of a day is the maximum difficulty of a job done on that day.\n",
    "\n",
    "You are given an integer array jobDifficulty and an integer d. The difficulty of the ith job is jobDifficulty[i].\n",
    "\n",
    "Return the minimum difficulty of a job schedule. If you cannot find a schedule for the jobs return -1."
   ]
  },
  {
   "cell_type": "code",
   "execution_count": null,
   "metadata": {},
   "outputs": [],
   "source": [
    "## Top down DP: \n",
    "min_diff(0, d) will be the final answer \n",
    "min_diff(i, d) = min_diff(j, d - 1) + max(jobDifficulty[i:j]) for all j > i\n",
    "\n"
   ]
  },
  {
   "cell_type": "code",
   "execution_count": null,
   "metadata": {},
   "outputs": [],
   "source": [
    "def minDifficulty(self, jobDifficulty: List[int], d: int) -> int:\n",
    "    n = len(jobDifficulty)\n",
    "    if n < d:\n",
    "        return -1\n",
    "    max_job_remain = jobDifficulty[:]\n",
    "    for i in range(n-2, -1, -1):\n",
    "        max_job_remain[i] = max(max_job_remain[i], max_job_remain[i+1])\n",
    "    memo = {}\n",
    "    def min_diff(i, days_remain):\n",
    "        #base case\n",
    "        if days_remain == 1:\n",
    "            return max_job_remain[i]\n",
    "        if (i, days_remain) in memo:\n",
    "            return memo[(i, days_remain)]\n",
    "        res = float('inf')\n",
    "        daily_max_job_diff = 0\n",
    "        for j in range(i, n-days_remain+1):\n",
    "            daily_max_job_diff = max(daily_max_job_diff, jobDifficulty[j])\n",
    "            res = min(res, daily_max_job_diff + min_diff(j+1, days_remain -1))\n",
    "            memo[(i, days_remain)]=res\n",
    "        return res\n",
    "    return min_diff(0, d)"
   ]
  },
  {
   "cell_type": "code",
   "execution_count": null,
   "metadata": {},
   "outputs": [],
   "source": [
    "#bottom up"
   ]
  },
  {
   "cell_type": "code",
   "execution_count": null,
   "metadata": {},
   "outputs": [],
   "source": [
    "def minDifficulty(self, jobDifficulty: List[int], d: int) -> int:\n",
    "    n = len(jobDifficulty)\n",
    "    # Initialize the min_diff matrix to record the minimum difficulty\n",
    "    # of the job schedule        \n",
    "    min_diff = [[float('inf')] * n + [0] for i in range(d + 1)]\n",
    "    for days_remaining in range(1, d + 1):\n",
    "        for i in range(n - days_remaining + 1):\n",
    "            daily_max_job_diff = 0\n",
    "            for j in range(i + 1, n - days_remaining + 2):\n",
    "                # Use daily_max_job_diff to record maximum job difficulty\n",
    "                daily_max_job_diff = max(daily_max_job_diff, jobDifficulty[j - 1])\n",
    "                min_diff[days_remaining][i] = min(min_diff[days_remaining][i],\n",
    "                                                  daily_max_job_diff + min_diff[days_remaining - 1][j])\n",
    "    if min_diff[d][0] == float('inf'):\n",
    "        return -1\n",
    "    return min_diff[d][0]"
   ]
  },
  {
   "cell_type": "code",
   "execution_count": null,
   "metadata": {},
   "outputs": [],
   "source": [
    "# monotone stack!!!"
   ]
  },
  {
   "cell_type": "markdown",
   "metadata": {},
   "source": [
    "LeetCode 32. Longest Valid Parenthesis. Check out Approach 3 in the official solution.\n",
    "\n",
    "LeetCode 85. Maximal Rectangle. Check out Approach 3 in the official solution.\n",
    "https://awjin.me/algos-js/dp/tab-memo.html"
   ]
  },
  {
   "cell_type": "markdown",
   "metadata": {},
   "source": [
    "1. We will need two arrays, min_diff_curr_day and min_diff_prev_day to record the minimum total job difficulty of the current day and the previous day (one more day remaining).\n",
    "2. We will then iterate through each day and update the min_diff_curr_day along the way for each possible last job scheduled on that day.\n",
    "Specifically, we iterate through jobs with indices ranging from i equals day to n. To maintain a monotonically decreasing stack, if the job difficulty of the last element in the stack (j) is smaller than or equal to the current job (i), we will pop the last element (j) from the stack.\n",
    "\n",
    "Since jobDifficulty[j] <= jobDifficulty[i], by additionally completing jobs from index j + 1 to index i, the total job difficulty min_diff_curr_day[i] will be no more than min_diff_curr_day[j] + jobDifficulty[i] - jobDifficulty[j]. So, we can update min_diff_curr_day[i] as min(min_diff_curr_day[i], min_diff_curr_day[j] + jobDifficulty[i] - jobDifficulty[j])\n",
    "\n",
    "3. On each day, after we iterate through each indices i, popping all indices j off the stack where jobDifficulty[j] <= jobDifficulty[i], and updating min_diff_curr_day[i], there may be some remaining indices in the monotonically decreasing stack. Since we are using a monotonically decreasing stack, we know that jobDifficulty[j] > jobDifficulty[i] for all of the remaining indices in the stack. Until now, while updating min_diff_curr_day[i], we only considered scenario 1 (when jobDifficulty[j] <= jobDifficulty[i]). Before we move to the next day, we must consider scenario 2 as well. Thus, if the stack is not empty, we compare the minimum difficulty job schedule ending at job j where j is on the top of the stack, and the total job difficulty in the current day min_diff_curr_day[i] will be no more than min_diff_curr_day[j]. So, we can update min_diff_curr_day[i] as min(min_diff_curr_day[i], min_diff_curr_day[j]).\n",
    "\n",
    "4. At the end, we will return the total minimum job difficulty on the d^{th}d \n",
    "th\n",
    "  day after completing the n-1^{th}n−1 \n",
    "th\n",
    "  job, which is min_diff_prev_day[n - 1]."
   ]
  },
  {
   "cell_type": "code",
   "execution_count": null,
   "metadata": {},
   "outputs": [],
   "source": [
    "def minDifficulty(self, jobDifficulty: List[int], d: int) -> int:\n",
    "    n = len(jobDifficulty)\n",
    "    if len(jobDifficulty)< d:\n",
    "        return -1\n",
    "         # min_diff_curr_day and min_diff_prev_day record the minimum total job difficulty\n",
    "    # for the current day and previous day, respectively\n",
    "    min_diff_prev_day, min_diff_curr_day = [float('inf')] * n, [float('inf')] * n\n",
    "\n",
    "    for day in range(d):\n",
    "        # Use a monotonically decreasing stack to record job difficulties\n",
    "        stack = []\n",
    "\n",
    "        # The number of jobs needs to be no less than number of days passed.\n",
    "        for i in range(day, n):\n",
    "\n",
    "            # We initialize min_diff_curr_day[i] as only performing 1 job at the i-th index.\n",
    "            # At day 0, the minimum total job difficulty is to complete the 0th job only.\n",
    "            if i == 0:\n",
    "                min_diff_curr_day[i] = jobDifficulty[0]\n",
    "            # Otherwise, we increment min_diff_prev_day[i - 1] by the i-th job difficulty\n",
    "            else:\n",
    "                min_diff_curr_day[i] = min_diff_prev_day[i - 1] + jobDifficulty[i]\n",
    "\n",
    "            # When we find the last element in the stack is smaller than or equal to current job,\n",
    "            # we need to pop out the element to maintain a monotonic decreasing stack.\n",
    "            while stack and jobDifficulty[stack[-1]] <= jobDifficulty[i]:\n",
    "\n",
    "                # If we include all jobs with index j+1 to i to the current day,\n",
    "                # total job difficulty of the current day will be increased.\n",
    "                # by the amount of jobDifficulty[i] - jobDifficulty[j]\n",
    "                j = stack.pop()\n",
    "                diff_incr = jobDifficulty[i] - jobDifficulty[j]\n",
    "                min_diff_curr_day[i] = min(min_diff_curr_day[i], min_diff_curr_day[j] + diff_incr)\n",
    "\n",
    "            # When the last element in the stack is larger than current element,\n",
    "            # If we include all jobs with index j+1 to i to the current day,\n",
    "            # the overall job difficulty will not change.\n",
    "            if stack:\n",
    "                min_diff_curr_day[i] = min(min_diff_curr_day[i], min_diff_curr_day[stack[-1]])\n",
    "\n",
    "            # Update the monotonic stack by adding in the current index\n",
    "            stack.append(i)\n",
    "\n",
    "        min_diff_prev_day, min_diff_curr_day = min_diff_curr_day, min_diff_prev_day\n",
    "\n",
    "    return min_diff_prev_day[-1]"
   ]
  }
 ],
 "metadata": {
  "kernelspec": {
   "display_name": "Python 3 (ipykernel)",
   "language": "python",
   "name": "python3"
  },
  "language_info": {
   "codemirror_mode": {
    "name": "ipython",
    "version": 3
   },
   "file_extension": ".py",
   "mimetype": "text/x-python",
   "name": "python",
   "nbconvert_exporter": "python",
   "pygments_lexer": "ipython3",
   "version": "3.9.12"
  }
 },
 "nbformat": 4,
 "nbformat_minor": 4
}
