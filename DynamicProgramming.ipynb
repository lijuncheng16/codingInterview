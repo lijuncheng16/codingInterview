{
 "cells": [
  {
   "cell_type": "markdown",
   "metadata": {},
   "source": [
    "# 42 Trapping Rain Water"
   ]
  },
  {
   "cell_type": "markdown",
   "metadata": {},
   "source": [
    "Solution DP I:\n",
    "left_max array[]\n",
    "right_max array[]\n",
    "iterate over min(left_max[i], right_max[i])-height[i]"
   ]
  },
  {
   "cell_type": "markdown",
   "metadata": {},
   "source": [
    "Solution Stack:\n",
    "1. We keep a stack and iterate over the array.\n",
    "2. We add the index of the bar to the stack if bar is smaller than or equal to the bar at top of stack, which means that the current bar is bounded by the previous bar in the stack. \n",
    "3. If we found a bar longer than that at the top, we are sure that the bar at the top of the stack is bounded by the current bar and a previous bar in the stack, hence, we can pop it and add resulting trapped water to ans."
   ]
  },
  {
   "cell_type": "markdown",
   "metadata": {},
   "source": [
    "Use stack to store the indices of the bars.\n",
    "1. Iterate the array:\n",
    "   While stack is not empty and \\text{height[current]}>\\text{height[st.top()]}height[current]>height[st.top()]\n",
    "        - It means that the stack element can be popped. Pop the top element as \\text{top}top.\n",
    "        - Find the distance between the current element and the element at top of stack, which is to be filled. \\text{distance} = \\text{current} - \\text{st.top}() - 1distance=current−st.top()−1\n",
    "        - Find the bounded height \\text{bounded\\_height} = \\min(\\text{height[current]}, \\text{height[st.top()]}) - \\text{height[top]}bounded_height=min(height[current],height[st.top()])−height[top]\n",
    "        - Add resulting trapped water to answer \\text{ans} \\mathrel{+}= \\text{distance} \\times \\text{bounded\\_height}ans+=distance×bounded_height\n",
    "2. Push current index to top of the stack\n",
    "3. Move \\text{current}current to the next position"
   ]
  },
  {
   "cell_type": "markdown",
   "metadata": {},
   "source": [
    "# 410. Split Array Largest Sum\n"
   ]
  },
  {
   "cell_type": "raw",
   "metadata": {},
   "source": [
    "Given an array nums which consists of non-negative integers and an integer m, you can split the array into m non-empty continuous subarrays.\n",
    "\n",
    "Write an algorithm to minimize the largest sum among these m subarrays.\n",
    "Input: nums = [7,2,5,10,8], m = 2\n",
    "Output: 18\n",
    "Explanation:\n",
    "There are four ways to split nums into two subarrays.\n",
    "The best way is to split it into [7,2,5] and [10,8],\n",
    "where the largest sum among the two subarrays is only 18."
   ]
  },
  {
   "cell_type": "raw",
   "metadata": {},
   "source": [
    "F[currIndex, subarrayCount] = min( max(sum[currIndex, i], F[i + 1, subarrayCount - 1]) ), For all i in range [currIndex, n - subarrayCount]\n",
    "\n",
    "Note that the function F shown here, represents getMinimumLargestSplitSum in the code provided below.\n",
    "Let's break down the expression max(sum[currIndex, i], F[i + 1, subarrayCount - 1]) so that we understand it better.\n",
    "\n",
    "F[i + 1, subarrayCount - 1] represents the smallest possible largest sum subarray in the range [i + 1, n - 1] with subarrayCount - 1 subarrays.\n",
    "sum[currIndex, i] represents the sum of the current subarray spanning the range of [currIndex, i].\n",
    "We take the max of these two values, the expression as a whole represents the largest sum subarray in the range [currIndex, n - 1] with subarrayCount subarrays, when we make the first split at index i.\n",
    "To find the optimal place to split the array, we calculate this for all i in the range [currIndex, n - subarrayCount] and take the minimum value as the result."
   ]
  },
  {
   "cell_type": "code",
   "execution_count": null,
   "metadata": {},
   "outputs": [],
   "source": [
    "def splitArray(self, nums: List[int], m: int) -> int:\n",
    "    n = len(nums)\n",
    "    prefix_sum = [0] + list(itertools.accumulate(nums))\n",
    "\n",
    "    def get_min_largest_split_sum(curr_ind, subarray_count):\n",
    "        #base case: 1 subarray left\n",
    "        if subarray_count == 1:\n",
    "            return prefix_sum[n] - prefix_sum[curr_ind]\n",
    "        #use recurrence\n",
    "        minimum_largest_split_sum = prefix_sum[n]\n",
    "        for i in range(curr_ind, n - subarray_count + 1):\n",
    "            first_split_sum = prefix_sum[i+1] - prefix_sum[curr_ind]\n",
    "            largest_split_sum = max(first_split_sum, get_min_largest_split_sum(i+1, subarray_count -1))\n",
    "            minimum_largest_split_sum = min(minimum_largest_split_sum, largest_split_sum)\n",
    "            if first_split_sum >= minimum_largest_split_sum:\n",
    "                break\n",
    "        return minimum_largest_split_sum\n",
    "    return get_min_largest_split_sum(0, m)"
   ]
  },
  {
   "cell_type": "code",
   "execution_count": null,
   "metadata": {},
   "outputs": [],
   "source": [
    "def splitArray(self, nums: List[int], m: int) -> int:\n",
    "    n = len(nums)\n",
    "    prefix_sum = [0] + list(itertools.accumulate(nums))\n",
    "    memo = [[0] * (m + 1) for _ in range(n)]\n",
    "    for subarray_count in range(1, m + 1):\n",
    "        for curr_index in range(n):\n",
    "            if subarray_count == 1:\n",
    "                memo[curr_index][subarray_count] = prefix_sum[n] - prefix_sum[curr_index]\n",
    "                continue\n",
    "            minimum_largest_split_sum = prefix_sum[n]\n",
    "            for i in range(curr_index, n - subarray_count + 1):\n",
    "                # Store the sum of the first subarray.\n",
    "                first_split_sum = prefix_sum[i + 1] - prefix_sum[curr_index]\n",
    "\n",
    "                # Find the maximum subarray sum for the current first split.\n",
    "                largest_split_sum = max(first_split_sum, memo[i + 1][subarray_count - 1])\n",
    "\n",
    "                # Find the minimum among all possible combinations.\n",
    "                minimum_largest_split_sum = min(minimum_largest_split_sum, largest_split_sum)\n",
    "\n",
    "                if first_split_sum >= minimum_largest_split_sum:\n",
    "                    break\n",
    "\n",
    "            memo[curr_index][subarray_count] = minimum_largest_split_sum\n",
    "    return memo[0][m]"
   ]
  },
  {
   "cell_type": "raw",
   "metadata": {},
   "source": [
    "The goal of this problem is to find the minimum largest subarray sum with mm subarrays. Instead of finding the answer directly, what if we try to guess the answer (say X), and check whether this particular value could be the largest subarray sum with m subarrays. If this is possible, we can check all values for X \\geq 0X≥0, and the first value that satisfies the condition will be the answer. Thus, by repeatedly solving the following problem, we can find the minimum largest subarray sum needed to split nums into m subarrays:"
   ]
  },
  {
   "cell_type": "markdown",
   "metadata": {},
   "source": [
    "The solution to this newly defined problem is as follows\n",
    "\n",
    "- First, make sure X is greater than or equal to the maximum element in the array. Otherwise, no solution would be possible because we cannot divide an element.\n",
    "- Start from 0th index and keep adding elements to sum only if adding the element does not make sum greater than X.\n",
    "- If adding the current element would make the sum greater than X then we have to split the subarray here. So we will increment the number of splits required (splitsRequired) and set sum to the value of current element (signifying that the current subarray only contains the current element).\n",
    "- Once we traversed the whole array, return splitsRequired + 1. This is the minimum number of subarrays required.\n"
   ]
  },
  {
   "cell_type": "markdown",
   "metadata": {},
   "source": [
    "Algorithm\n",
    "\n",
    "1. Store the sum of elements in nums in the variable sum and the maximum element of the array in maxElement.\n",
    "\n",
    "2. Initialize the boundary for binary search. The minimum value for the largest subarray sum is maxElement and the maximum value is equal to sum. Hence assign left and right to maxElement and sum respectively.\n",
    "\n",
    "3. Then while the left is not greater than right:\n",
    "\n",
    "a. Find the mid-value in range [left, right], this is equal to the maximum subarray sum allowed. Store it in maxSumAllowed.\n",
    "\n",
    "b. Find the minimum number of subarrays required to have the largest subarray sum equal to maxSumAllowed.\n",
    "\n",
    "4. If the number of subarrays is less than or equal to mm then assign maxSumAllowed as the answer minimumLargestSplitSum and decrease the value of our right boundary.\n",
    "If the number of subarrays is more than mm this can't be the answer hence, increase the value of our left boundary.\n",
    "Return minimumLargestSplitSum."
   ]
  },
  {
   "cell_type": "markdown",
   "metadata": {},
   "source": [
    "# 474. Ones and Zeroes\n"
   ]
  },
  {
   "cell_type": "raw",
   "metadata": {},
   "source": [
    "You are given an array of binary strings strs and two integers m and n.\n",
    "\n",
    "Return the size of the largest subset of strs such that there are at most m 0's and n 1's in the subset.\n",
    "\n",
    "A set x is a subset of a set y if all elements of x are also elements of y."
   ]
  },
  {
   "cell_type": "code",
   "execution_count": null,
   "metadata": {},
   "outputs": [],
   "source": [
    "# knapsack solution, recursion + memoize\n",
    "def findMaxForm(self, strs: List[str], m: int, n: int) -> int:\n",
    "    cache = {}\n",
    "    def helper(ind, m, n):\n",
    "        if ind == len(strs):\n",
    "            return 0\n",
    "        if (ind, m, n) in cache:\n",
    "            return cache[ind, m, n]\n",
    "        res = 0\n",
    "        count_0 = strs[ind].count(\"0\")\n",
    "        count_1 = len(strs[ind]) - count_0\n",
    "        if m >= count_0 and n >= count_1:\n",
    "            res = max(res, 1 + helper(ind + 1, m - count_0, n - count_1))\n",
    "        res = max(res, helper(ind + 1, m, n))\n",
    "        cache[ind, m, n] = res\n",
    "        return res\n",
    "    return helper(0, m, n)"
   ]
  },
  {
   "cell_type": "code",
   "execution_count": null,
   "metadata": {},
   "outputs": [],
   "source": [
    "def findMaxForm(self, strs: List[str], m: int, n: int) -> int:\n",
    "        dp = [[0] * (n + 1)\n",
    "               for _ in range(m + 1)]\n",
    "        for s in strs:\n",
    "            count_0 = s.count(\"0\")\n",
    "            count_1 = len(s) - count_0\n",
    "            for j in range(m, count_0 - 1, -1):\n",
    "                for k in range(n, count_1 - 1, -1):\n",
    "                    if j >= count_0 and k >= count_1:\n",
    "                        dp[j][k] = max(\n",
    "                            dp[j][k], 1 + dp[j-count_0][k-count_1])\n",
    "        return dp[m][n]"
   ]
  },
  {
   "cell_type": "markdown",
   "metadata": {},
   "source": [
    "# 32. Longest Valid Parentheses\n"
   ]
  },
  {
   "cell_type": "markdown",
   "metadata": {},
   "source": [
    "Given a string containing just the characters '(' and ')', find the length of the longest valid (well-formed) parentheses substring.\n",
    "s[i]=‘)’ and \\text{s}[i - 1] = \\text{‘(’}s[i−1]=‘(’, i.e. string looks like ``.......()\" \\Rightarrow‘‘.......()\"⇒\n",
    "dp[i]=dp[i−2]+2\n",
    "\n",
    "s[i]=‘)’ and \\text{s}[i - 1] = \\text{‘)’}s[i−1]=‘)’, i.e. string looks like ``.......))\" \\Rightarrow‘‘.......))\"⇒\n",
    "dp[i]=dp[i−1]+dp[i−dp[i−1]−2]+2 "
   ]
  },
  {
   "cell_type": "code",
   "execution_count": null,
   "metadata": {},
   "outputs": [],
   "source": [
    "def longestValidParentheses(self, s: str) -> int:\n",
    "    # dp solution\n",
    "    # ith ele of dp \n",
    "    maxans = 0 \n",
    "    dp = [0 for _ in range(len(s))]\n",
    "    for i in range(1,len(s)):\n",
    "        if (s[i] == ')'):\n",
    "            if s[i-1] == '(':\n",
    "                dp[i] =  dp[i-2] + 2 if i>=2 else 2\n",
    "            elif i-dp[i-1]> 0 and s[i-dp[i-1]-1]=='(':\n",
    "                dp[i] =  dp[i-dp[i-1]-2] +dp[i-1] +2 if (i-dp[i-1]) >= 2 else dp[i-1] +2\n",
    "            maxans = max(maxans, dp[i])\n",
    "    return maxans"
   ]
  },
  {
   "cell_type": "code",
   "execution_count": null,
   "metadata": {},
   "outputs": [],
   "source": [
    "def longestValidParentheses(self, s: str) -> int:\n",
    "    maxans = 0\n",
    "    stack = [-1]\n",
    "    for i in range(len(s)):\n",
    "        if s[i] == '(':\n",
    "            stack.append(i)\n",
    "        else:\n",
    "            stack.pop()\n",
    "            if stack:\n",
    "                maxans = max(maxans, i- stack[-1])\n",
    "            else:\n",
    "                stack.append(i)\n",
    "    return maxans"
   ]
  },
  {
   "cell_type": "markdown",
   "metadata": {},
   "source": [
    "# 120. Triangle\n",
    " ### 931. Minimum Falling Path Sum\n",
    " ### 118. Pascal's Triangle"
   ]
  },
  {
   "cell_type": "code",
   "execution_count": null,
   "metadata": {},
   "outputs": [],
   "source": [
    "def minimumTotal(self, triangle: List[List[int]]) -> int:\n",
    "    for row in range(1, len(triangle)):\n",
    "        for col in range(row+1):\n",
    "            smallest_above = math.inf\n",
    "            if col > 0:\n",
    "                smallest_above = triangle[row-1][col-1]\n",
    "            if col < row:\n",
    "                smallest_above = min(smallest_above, triangle[row-1][col])\n",
    "            triangle[row][col] += smallest_above\n",
    "    return min(triangle[-1])"
   ]
  },
  {
   "cell_type": "code",
   "execution_count": null,
   "metadata": {},
   "outputs": [],
   "source": [
    "def minimumTotal(self, triangle: List[List[int]]) -> int:\n",
    "    @lru_cache()\n",
    "    def dfs(i, level):\n",
    "        if level == len(triangle):\n",
    "            return 0\n",
    "\n",
    "        left = triangle[level][i] + dfs(i, level + 1)\n",
    "        right = triangle[level][i] + dfs(i+1, level + 1)\n",
    "\n",
    "        return min(left, right)\n",
    "\n",
    "    return dfs(0, 0)\n"
   ]
  },
  {
   "cell_type": "markdown",
   "metadata": {},
   "source": [
    "# 40. Combination Sum II ( Need to review knapsack, backtrack and coin change)\n"
   ]
  },
  {
   "cell_type": "markdown",
   "metadata": {},
   "source": [
    "Given a collection of candidate numbers (candidates) and a target number (target), find all unique combinations in candidates where the candidate numbers sum to target.\n",
    "\n",
    "Each number in candidates may only be used once in the combination."
   ]
  },
  {
   "cell_type": "code",
   "execution_count": 2,
   "metadata": {},
   "outputs": [],
   "source": [
    "from typing import List"
   ]
  },
  {
   "cell_type": "code",
   "execution_count": 12,
   "metadata": {},
   "outputs": [],
   "source": [
    "candidates = [10,1,2,7,6,1,5]\n",
    "target = 8"
   ]
  },
  {
   "cell_type": "code",
   "execution_count": 1,
   "metadata": {},
   "outputs": [],
   "source": [
    "candidates = [2,5,2,1,2]\n",
    "target = 5"
   ]
  },
  {
   "cell_type": "code",
   "execution_count": 16,
   "metadata": {},
   "outputs": [],
   "source": [
    "def combinationSum2(candidates: List[int], target: int) -> List[List[int]]:\n",
    "        candidates.sort()\n",
    "        dp = [set() for i in range(target+1)]\n",
    "        print(f'original dp array:{dp}')\n",
    "        dp[0].add(())\n",
    "        print(f'first step:{dp}')\n",
    "\n",
    "        for num in candidates:\n",
    "            for t in range(target, num-1, -1):\n",
    "                for prev in dp[t-num]:\n",
    "                    dp[t].add(prev + (num,))\n",
    "                    print (f'step: {dp}')\n",
    "        return list(dp[-1])"
   ]
  },
  {
   "cell_type": "markdown",
   "metadata": {},
   "source": [
    "#### go back to review coin change knapsack"
   ]
  },
  {
   "cell_type": "code",
   "execution_count": 17,
   "metadata": {},
   "outputs": [
    {
     "name": "stdout",
     "output_type": "stream",
     "text": [
      "original dp array:[set(), set(), set(), set(), set(), set(), set(), set(), set()]\n",
      "first step:[{()}, set(), set(), set(), set(), set(), set(), set(), set()]\n",
      "step: [{()}, {(1,)}, set(), set(), set(), set(), set(), set(), set()]\n",
      "step: [{()}, {(1,)}, {(1, 1)}, set(), set(), set(), set(), set(), set()]\n",
      "step: [{()}, {(1,)}, {(1, 1)}, set(), set(), set(), set(), set(), set()]\n",
      "step: [{()}, {(1,)}, {(1, 1)}, set(), {(1, 1, 2)}, set(), set(), set(), set()]\n",
      "step: [{()}, {(1,)}, {(1, 1)}, {(1, 2)}, {(1, 1, 2)}, set(), set(), set(), set()]\n",
      "step: [{()}, {(1,)}, {(1, 1), (2,)}, {(1, 2)}, {(1, 1, 2)}, set(), set(), set(), set()]\n",
      "step: [{()}, {(1,)}, {(1, 1), (2,)}, {(1, 2)}, {(1, 1, 2)}, set(), set(), set(), {(1, 2, 5)}]\n",
      "step: [{()}, {(1,)}, {(1, 1), (2,)}, {(1, 2)}, {(1, 1, 2)}, set(), set(), {(1, 1, 5)}, {(1, 2, 5)}]\n",
      "step: [{()}, {(1,)}, {(1, 1), (2,)}, {(1, 2)}, {(1, 1, 2)}, set(), set(), {(1, 1, 5), (2, 5)}, {(1, 2, 5)}]\n",
      "step: [{()}, {(1,)}, {(1, 1), (2,)}, {(1, 2)}, {(1, 1, 2)}, set(), {(1, 5)}, {(1, 1, 5), (2, 5)}, {(1, 2, 5)}]\n",
      "step: [{()}, {(1,)}, {(1, 1), (2,)}, {(1, 2)}, {(1, 1, 2)}, {(5,)}, {(1, 5)}, {(1, 1, 5), (2, 5)}, {(1, 2, 5)}]\n",
      "step: [{()}, {(1,)}, {(1, 1), (2,)}, {(1, 2)}, {(1, 1, 2)}, {(5,)}, {(1, 5)}, {(1, 1, 5), (2, 5)}, {(1, 1, 6), (1, 2, 5)}]\n",
      "step: [{()}, {(1,)}, {(1, 1), (2,)}, {(1, 2)}, {(1, 1, 2)}, {(5,)}, {(1, 5)}, {(1, 1, 5), (2, 5)}, {(2, 6), (1, 1, 6), (1, 2, 5)}]\n",
      "step: [{()}, {(1,)}, {(1, 1), (2,)}, {(1, 2)}, {(1, 1, 2)}, {(5,)}, {(1, 5)}, {(1, 6), (1, 1, 5), (2, 5)}, {(2, 6), (1, 1, 6), (1, 2, 5)}]\n",
      "step: [{()}, {(1,)}, {(1, 1), (2,)}, {(1, 2)}, {(1, 1, 2)}, {(5,)}, {(6,), (1, 5)}, {(1, 6), (1, 1, 5), (2, 5)}, {(2, 6), (1, 1, 6), (1, 2, 5)}]\n",
      "step: [{()}, {(1,)}, {(1, 1), (2,)}, {(1, 2)}, {(1, 1, 2)}, {(5,)}, {(6,), (1, 5)}, {(1, 6), (1, 1, 5), (2, 5)}, {(2, 6), (1, 7), (1, 1, 6), (1, 2, 5)}]\n",
      "step: [{()}, {(1,)}, {(1, 1), (2,)}, {(1, 2)}, {(1, 1, 2)}, {(5,)}, {(6,), (1, 5)}, {(1, 6), (7,), (1, 1, 5), (2, 5)}, {(2, 6), (1, 7), (1, 1, 6), (1, 2, 5)}]\n"
     ]
    },
    {
     "data": {
      "text/plain": [
       "[(2, 6), (1, 7), (1, 1, 6), (1, 2, 5)]"
      ]
     },
     "execution_count": 17,
     "metadata": {},
     "output_type": "execute_result"
    }
   ],
   "source": [
    "combinationSum2(candidates, target)"
   ]
  },
  {
   "cell_type": "markdown",
   "metadata": {},
   "source": [
    "### also can be solved with recursion need to review, memory is kinda of fading."
   ]
  },
  {
   "cell_type": "markdown",
   "metadata": {},
   "source": [
    "# 629. K Inverse Pairs Array (very hard)\n"
   ]
  },
  {
   "cell_type": "markdown",
   "metadata": {},
   "source": [
    "For an integer array nums, an inverse pair is a pair of integers [i, j] where 0 <= i < j < nums.length and nums[i] > nums[j].\n",
    "\n",
    "Given two integers n and k, return the number of different arrays consist of numbers from 1 to n such that there are exactly k inverse pairs. Since the answer can be huge, return it modulo 109 + 7.\n",
    "\n",
    " "
   ]
  },
  {
   "cell_type": "markdown",
   "metadata": {},
   "source": [
    "## subproblem: \n",
    "count(n,k)=∑ i=0min(k,n−1)count(n−1,k−i).Similarly, for an element with k-ik−i number of inverse pairs, we can add this new number nn at a position ii steps from the right. Each of these updations to the arrays leads to a new arrangement, each with the number of inverse pairs being equal to kk."
   ]
  },
  {
   "cell_type": "code",
   "execution_count": null,
   "metadata": {},
   "outputs": [],
   "source": [
    "def kInversePairs(self, n: int, k: int) -> int:\n",
    "    memo = [[-1]*1002 for _ in range(1002)] \n",
    "    def k_inv(n, k, memo):\n",
    "        if k < 0: return 0\n",
    "        if k == 0:\n",
    "            return 1\n",
    "        elif n == 1:\n",
    "            return 0\n",
    "        else:\n",
    "            if memo[n][k] != -1:\n",
    "                return memo[n][k]\n",
    "            res = 0\n",
    "            for i in range(n):\n",
    "                res += k_inv(n-1, k-i, memo)\n",
    "            memo[n][k] = res % (10 ** 9 + 7)\n",
    "            return res % (10 ** 9 + 7)\n",
    "    return k_inv(n,k, memo)"
   ]
  },
  {
   "cell_type": "code",
   "execution_count": null,
   "metadata": {},
   "outputs": [],
   "source": [
    "def kInversePairs(self, n: int, k: int) -> int:\n",
    "    dp = [[0] * (k+1) for i in range(n+1)]\n",
    "    dp[0][0] = 1\n",
    "\n",
    "    for i in range(1, n+1):\n",
    "        for j in range(k+1):\n",
    "            if j == 0:\n",
    "                dp[i][j] += dp[i-1][0]\n",
    "            else:\n",
    "                dp[i][j] += dp[i][j-1] + dp[i-1][j]\n",
    "                if j-i >= 0:\n",
    "                    dp[i][j] -= dp[i-1][j-i]\n",
    "            dp[i][j] = dp[i][j] % (10 ** 9 + 7)\n",
    "\n",
    "    return dp[n][k]"
   ]
  },
  {
   "cell_type": "markdown",
   "metadata": {},
   "source": [
    "# 576. Out of Boundary Paths\n"
   ]
  },
  {
   "cell_type": "raw",
   "metadata": {},
   "source": [
    "There is an m x n grid with a ball. The ball is initially at the position [startRow, startColumn]. You are allowed to move the ball to one of the four adjacent cells in the grid (possibly out of the grid crossing the grid boundary). You can apply at most maxMove moves to the ball.\n",
    "\n",
    "Given the five integers m, n, maxMove, startRow, startColumn, return the number of paths to move the ball out of the grid boundary. Since the answer can be very large, return it modulo 109 + 7.\n",
    "\n",
    " "
   ]
  },
  {
   "cell_type": "code",
   "execution_count": 2,
   "metadata": {},
   "outputs": [],
   "source": [
    "def findPaths(self, m: int, n: int, maxMove: int, startRow: int, startColumn: int) -> int:\n",
    "\n",
    "    def findPath(m, n, maxMove, startRow, startColumn, memo):\n",
    "        if startRow == m or startColumn == n or startRow <0 or startColumn <0:\n",
    "            return 1\n",
    "        if maxMove ==0:\n",
    "            return 0\n",
    "        if memo[startRow][startColumn][maxMove] >=0:\n",
    "            return memo[startRow][startColumn][maxMove]\n",
    "        memo[startRow][startColumn][maxMove]= (findPath(m, n, maxMove-1, startRow-1, startColumn, memo)+findPath( m, n, maxMove-1, startRow+1, startColumn, memo)+findPath( m, n, maxMove-1, startRow, startColumn-1, memo)+findPath( m, n, maxMove-1, startRow, startColumn+1, memo)) % (10**9+7)\n",
    "        return memo[startRow][startColumn][maxMove]\n",
    "\n",
    "    memo = [[[-1]*(maxMove+1) for _ in range(n+1)] for _ in range(m+1)]\n",
    "    print(memo)\n",
    "    return findPath(m, n, maxMove, startRow, startColumn, memo)"
   ]
  },
  {
   "cell_type": "markdown",
   "metadata": {},
   "source": [
    "# 472. Concatenated Words\n"
   ]
  },
  {
   "cell_type": "markdown",
   "metadata": {},
   "source": [
    "Given an array of strings words (without duplicates), return all the concatenated words in the given list of words.\n",
    "\n",
    "A concatenated word is defined as a string that is comprised entirely of at least two shorter words in the given array."
   ]
  },
  {
   "cell_type": "code",
   "execution_count": null,
   "metadata": {},
   "outputs": [],
   "source": [
    "Input: words = [\"cat\",\"cats\",\"catsdogcats\",\"dog\",\"dogcatsdog\",\"hippopotamuses\",\"rat\",\"ratcatdogcat\"]\n",
    "Output: [\"catsdogcats\",\"dogcatsdog\",\"ratcatdogcat\"]\n",
    "Explanation: \"catsdogcats\" can be concatenated by \"cats\", \"dog\" and \"cats\"; \n",
    "\"dogcatsdog\" can be concatenated by \"dog\", \"cats\" and \"dog\"; \n",
    "\"ratcatdogcat\" can be concatenated by \"rat\", \"cat\", \"dog\" and \"cat\""
   ]
  },
  {
   "cell_type": "code",
   "execution_count": null,
   "metadata": {},
   "outputs": [],
   "source": [
    "    def findAllConcatenatedWordsInADict(self, words: List[str]) -> List[str]:\n",
    "        def check(word, d):\n",
    "            if word in d:\n",
    "                return True\n",
    "\n",
    "            for i in range(len(word),0, -1):\n",
    "                if word[:i] in d and check(word[i:], d):\n",
    "                    return True\n",
    "            return False\n",
    "        \n",
    "        res = []\n",
    "        words_dict = set(words)\n",
    "        for word in words:\n",
    "            words_dict.remove(word)\n",
    "            if check(word, words_dict) is True:\n",
    "                res.append(word)\n",
    "            words_dict.add(word)\n",
    "        return res\n",
    "    "
   ]
  }
 ],
 "metadata": {
  "kernelspec": {
   "display_name": "Python 3",
   "language": "python",
   "name": "python3"
  },
  "language_info": {
   "codemirror_mode": {
    "name": "ipython",
    "version": 3
   },
   "file_extension": ".py",
   "mimetype": "text/x-python",
   "name": "python",
   "nbconvert_exporter": "python",
   "pygments_lexer": "ipython3",
   "version": "3.7.3"
  }
 },
 "nbformat": 4,
 "nbformat_minor": 4
}
