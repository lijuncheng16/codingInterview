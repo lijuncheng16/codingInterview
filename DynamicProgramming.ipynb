{
 "cells": [
  {
   "cell_type": "markdown",
   "metadata": {},
   "source": [
    "# 118. Pascal's Triangle\n"
   ]
  },
  {
   "cell_type": "code",
   "execution_count": null,
   "metadata": {},
   "outputs": [],
   "source": [
    "from typing import List"
   ]
  },
  {
   "cell_type": "raw",
   "metadata": {},
   "source": [
    "Given an integer numRows, return the first numRows of Pascal's triangle.\n",
    "\n",
    "In Pascal's triangle, each number is the sum of the two numbers directly above it as shown:"
   ]
  },
  {
   "cell_type": "code",
   "execution_count": null,
   "metadata": {},
   "outputs": [],
   "source": [
    "def generate(numRows: int) -> List[List[int]]:\n",
    "    if numRows == 0: return [] # Base Case\n",
    "    if numRows == 1: return [[1]] # Base Case\n",
    "    row = []\n",
    "    last = self.generate(numRows - 1) # Recursion\n",
    "    for i in range(numRows):\n",
    "        if i == 0 or i == numRows - 1:\n",
    "            row.append(1)\n",
    "        else:\n",
    "            row.append(last[-1][i-1] + last[-1][i])\n",
    "    last.append(row)\n",
    "    return last"
   ]
  },
  {
   "cell_type": "code",
   "execution_count": null,
   "metadata": {},
   "outputs": [],
   "source": [
    "def generate(numRows: int) -> List[List[int]]:\n",
    "    if numRows   == 0: return []\n",
    "    elif numRows == 1: return [[1]]\n",
    "    Tri = [[1]]\n",
    "    for i in range(1,numRows):\n",
    "        row = [1]\n",
    "        for j in range(1,i):\n",
    "            row.append(Tri[i-1][j-1] + Tri[i-1][j]) \n",
    "        row.append(1)\n",
    "        Tri.append(row)\n",
    "    return Tri"
   ]
  },
  {
   "cell_type": "code",
   "execution_count": null,
   "metadata": {},
   "outputs": [],
   "source": [
    "def generate(numRows: int) -> List[List[int]]:\n",
    "    triangle = []\n",
    "\n",
    "    for row_num in range(numRows):\n",
    "        # The first and last row elements are always 1.\n",
    "        row = [None for _ in range(row_num + 1)]\n",
    "        row[0], row[-1] = 1, 1\n",
    "\n",
    "        # Each triangle element is equal to the sum of the elements\n",
    "        # above-and-to-the-left and above-and-to-the-right.\n",
    "        for j in range(1, len(row) - 1):\n",
    "            row[j] = triangle[row_num - 1][j - 1] + triangle[row_num - 1][j]\n",
    "\n",
    "        triangle.append(row)\n",
    "\n",
    "    return triangle"
   ]
  },
  {
   "cell_type": "code",
   "execution_count": null,
   "metadata": {},
   "outputs": [],
   "source": [
    "def generate(numRows: int) -> List[List[int]]:\n",
    "    pascal = [[1]*(i+1) for i in range(numRows)]\n",
    "    for i in range(numRows):\n",
    "        for j in range(1,i):\n",
    "            pascal[i][j] = pascal[i-1][j-1] + pascal[i-1][j]\n",
    "    return pascal"
   ]
  },
  {
   "cell_type": "markdown",
   "metadata": {},
   "source": [
    "# 300. Longest Increasing Subsequence\n"
   ]
  },
  {
   "cell_type": "code",
   "execution_count": null,
   "metadata": {},
   "outputs": [],
   "source": [
    "def lengthOfLIS(self, nums: List[int]) -> int:\n",
    "    length = len(nums)\n",
    "    lis_arr = [1] * length\n",
    "    for j in range(1, length):\n",
    "        for i in range (j):\n",
    "            if nums[j]>nums[i]:\n",
    "                lis_arr[j] = max(lis_arr[i]+1, lis_arr[j])\n",
    "\n",
    "\n",
    "    return max(lis_arr)"
   ]
  },
  {
   "cell_type": "raw",
   "metadata": {},
   "source": [
    "Initialize an array sub which contains the first element of nums.\n",
    "\n",
    "Iterate through the input, starting from the second element. For each element num:\n",
    "\n",
    "If num is greater than any element in sub, then add num to sub.\n",
    "Otherwise, perform a binary search in sub to find the smallest element that is greater than or equal to num. Replace that element with num.\n",
    "Return the length of sub."
   ]
  },
  {
   "cell_type": "code",
   "execution_count": null,
   "metadata": {},
   "outputs": [],
   "source": [
    " def lengthOfLIS(self, nums: List[int]) -> int:\n",
    "        sub = []\n",
    "        for num in nums:\n",
    "            # print(sub, num)\n",
    "            i = bisect_left(sub, num) \n",
    "            # print(i)\n",
    "            # If num is greater than any element in sub\n",
    "            if i == len(sub):\n",
    "                sub.append(num)\n",
    "            \n",
    "            # Otherwise, replace the first element in sub greater than or equal to num\n",
    "            else:\n",
    "                sub[i] = num\n",
    "        \n",
    "        return len(sub)"
   ]
  },
  {
   "cell_type": "markdown",
   "metadata": {},
   "source": [
    "# 42 Trapping Rain Water"
   ]
  },
  {
   "cell_type": "markdown",
   "metadata": {},
   "source": [
    "Solution DP I:\n",
    "left_max array[]\n",
    "right_max array[]\n",
    "iterate over min(left_max[i], right_max[i])-height[i]"
   ]
  },
  {
   "cell_type": "markdown",
   "metadata": {},
   "source": [
    "Solution Stack:\n",
    "1. We keep a stack and iterate over the array.\n",
    "2. We add the index of the bar to the stack if bar is smaller than or equal to the bar at top of stack, which means that the current bar is bounded by the previous bar in the stack. \n",
    "3. If we found a bar longer than that at the top, we are sure that the bar at the top of the stack is bounded by the current bar and a previous bar in the stack, hence, we can pop it and add resulting trapped water to ans."
   ]
  },
  {
   "cell_type": "markdown",
   "metadata": {},
   "source": [
    "Use stack to store the indices of the bars.\n",
    "1. Iterate the array:\n",
    "   While stack is not empty and \\text{height[current]}>\\text{height[st.top()]}height[current]>height[st.top()]\n",
    "        - It means that the stack element can be popped. Pop the top element as \\text{top}top.\n",
    "        - Find the distance between the current element and the element at top of stack, which is to be filled. \\text{distance} = \\text{current} - \\text{st.top}() - 1distance=current−st.top()−1\n",
    "        - Find the bounded height \\text{bounded\\_height} = \\min(\\text{height[current]}, \\text{height[st.top()]}) - \\text{height[top]}bounded_height=min(height[current],height[st.top()])−height[top]\n",
    "        - Add resulting trapped water to answer \\text{ans} \\mathrel{+}= \\text{distance} \\times \\text{bounded\\_height}ans+=distance×bounded_height\n",
    "2. Push current index to top of the stack\n",
    "3. Move \\text{current}current to the next position"
   ]
  },
  {
   "cell_type": "markdown",
   "metadata": {},
   "source": [
    "# 410. Split Array Largest Sum\n"
   ]
  },
  {
   "cell_type": "raw",
   "metadata": {},
   "source": [
    "Given an array nums which consists of non-negative integers and an integer m, you can split the array into m non-empty continuous subarrays.\n",
    "\n",
    "Write an algorithm to minimize the largest sum among these m subarrays.\n",
    "Input: nums = [7,2,5,10,8], m = 2\n",
    "Output: 18\n",
    "Explanation:\n",
    "There are four ways to split nums into two subarrays.\n",
    "The best way is to split it into [7,2,5] and [10,8],\n",
    "where the largest sum among the two subarrays is only 18."
   ]
  },
  {
   "cell_type": "raw",
   "metadata": {},
   "source": [
    "F[currIndex, subarrayCount] = min( max(sum[currIndex, i], F[i + 1, subarrayCount - 1]) ), For all i in range [currIndex, n - subarrayCount]\n",
    "\n",
    "Note that the function F shown here, represents getMinimumLargestSplitSum in the code provided below.\n",
    "Let's break down the expression max(sum[currIndex, i], F[i + 1, subarrayCount - 1]) so that we understand it better.\n",
    "\n",
    "F[i + 1, subarrayCount - 1] represents the smallest possible largest sum subarray in the range [i + 1, n - 1] with subarrayCount - 1 subarrays.\n",
    "sum[currIndex, i] represents the sum of the current subarray spanning the range of [currIndex, i].\n",
    "We take the max of these two values, the expression as a whole represents the largest sum subarray in the range [currIndex, n - 1] with subarrayCount subarrays, when we make the first split at index i.\n",
    "To find the optimal place to split the array, we calculate this for all i in the range [currIndex, n - subarrayCount] and take the minimum value as the result."
   ]
  },
  {
   "cell_type": "code",
   "execution_count": null,
   "metadata": {},
   "outputs": [],
   "source": [
    "def splitArray(self, nums: List[int], m: int) -> int:\n",
    "    n = len(nums)\n",
    "    prefix_sum = [0] + list(itertools.accumulate(nums))\n",
    "\n",
    "    def get_min_largest_split_sum(curr_ind, subarray_count):\n",
    "        #base case: 1 subarray left\n",
    "        if subarray_count == 1:\n",
    "            return prefix_sum[n] - prefix_sum[curr_ind]\n",
    "        #use recurrence\n",
    "        minimum_largest_split_sum = prefix_sum[n]\n",
    "        for i in range(curr_ind, n - subarray_count + 1):\n",
    "            first_split_sum = prefix_sum[i+1] - prefix_sum[curr_ind]\n",
    "            largest_split_sum = max(first_split_sum, get_min_largest_split_sum(i+1, subarray_count -1))\n",
    "            minimum_largest_split_sum = min(minimum_largest_split_sum, largest_split_sum)\n",
    "            if first_split_sum >= minimum_largest_split_sum:\n",
    "                break\n",
    "        return minimum_largest_split_sum\n",
    "    return get_min_largest_split_sum(0, m)"
   ]
  },
  {
   "cell_type": "code",
   "execution_count": null,
   "metadata": {},
   "outputs": [],
   "source": [
    "def splitArray(self, nums: List[int], m: int) -> int:\n",
    "    n = len(nums)\n",
    "    prefix_sum = [0] + list(itertools.accumulate(nums))\n",
    "    memo = [[0] * (m + 1) for _ in range(n)]\n",
    "    for subarray_count in range(1, m + 1):\n",
    "        for curr_index in range(n):\n",
    "            if subarray_count == 1:\n",
    "                memo[curr_index][subarray_count] = prefix_sum[n] - prefix_sum[curr_index]\n",
    "                continue\n",
    "            minimum_largest_split_sum = prefix_sum[n]\n",
    "            for i in range(curr_index, n - subarray_count + 1):\n",
    "                # Store the sum of the first subarray.\n",
    "                first_split_sum = prefix_sum[i + 1] - prefix_sum[curr_index]\n",
    "\n",
    "                # Find the maximum subarray sum for the current first split.\n",
    "                largest_split_sum = max(first_split_sum, memo[i + 1][subarray_count - 1])\n",
    "\n",
    "                # Find the minimum among all possible combinations.\n",
    "                minimum_largest_split_sum = min(minimum_largest_split_sum, largest_split_sum)\n",
    "\n",
    "                if first_split_sum >= minimum_largest_split_sum:\n",
    "                    break\n",
    "\n",
    "            memo[curr_index][subarray_count] = minimum_largest_split_sum\n",
    "    return memo[0][m]"
   ]
  },
  {
   "cell_type": "raw",
   "metadata": {},
   "source": [
    "The goal of this problem is to find the minimum largest subarray sum with mm subarrays. Instead of finding the answer directly, what if we try to guess the answer (say X), and check whether this particular value could be the largest subarray sum with m subarrays. If this is possible, we can check all values for X \\geq 0X≥0, and the first value that satisfies the condition will be the answer. Thus, by repeatedly solving the following problem, we can find the minimum largest subarray sum needed to split nums into m subarrays:"
   ]
  },
  {
   "cell_type": "markdown",
   "metadata": {},
   "source": [
    "The solution to this newly defined problem is as follows\n",
    "\n",
    "- First, make sure X is greater than or equal to the maximum element in the array. Otherwise, no solution would be possible because we cannot divide an element.\n",
    "- Start from 0th index and keep adding elements to sum only if adding the element does not make sum greater than X.\n",
    "- If adding the current element would make the sum greater than X then we have to split the subarray here. So we will increment the number of splits required (splitsRequired) and set sum to the value of current element (signifying that the current subarray only contains the current element).\n",
    "- Once we traversed the whole array, return splitsRequired + 1. This is the minimum number of subarrays required.\n"
   ]
  },
  {
   "cell_type": "markdown",
   "metadata": {},
   "source": [
    "Algorithm\n",
    "\n",
    "1. Store the sum of elements in nums in the variable sum and the maximum element of the array in maxElement.\n",
    "\n",
    "2. Initialize the boundary for binary search. The minimum value for the largest subarray sum is maxElement and the maximum value is equal to sum. Hence assign left and right to maxElement and sum respectively.\n",
    "\n",
    "3. Then while the left is not greater than right:\n",
    "\n",
    "a. Find the mid-value in range [left, right], this is equal to the maximum subarray sum allowed. Store it in maxSumAllowed.\n",
    "\n",
    "b. Find the minimum number of subarrays required to have the largest subarray sum equal to maxSumAllowed.\n",
    "\n",
    "4. If the number of subarrays is less than or equal to mm then assign maxSumAllowed as the answer minimumLargestSplitSum and decrease the value of our right boundary.\n",
    "If the number of subarrays is more than mm this can't be the answer hence, increase the value of our left boundary.\n",
    "Return minimumLargestSplitSum."
   ]
  },
  {
   "cell_type": "markdown",
   "metadata": {},
   "source": [
    "# 474. Ones and Zeroes\n"
   ]
  },
  {
   "cell_type": "raw",
   "metadata": {},
   "source": [
    "You are given an array of binary strings strs and two integers m and n.\n",
    "\n",
    "Return the size of the largest subset of strs such that there are at most m 0's and n 1's in the subset.\n",
    "\n",
    "A set x is a subset of a set y if all elements of x are also elements of y."
   ]
  },
  {
   "cell_type": "code",
   "execution_count": null,
   "metadata": {},
   "outputs": [],
   "source": [
    "# knapsack solution, recursion + memoize\n",
    "def findMaxForm(self, strs: List[str], m: int, n: int) -> int:\n",
    "    cache = {}\n",
    "    def helper(ind, m, n):\n",
    "        if ind == len(strs):\n",
    "            return 0\n",
    "        if (ind, m, n) in cache:\n",
    "            return cache[ind, m, n]\n",
    "        res = 0\n",
    "        count_0 = strs[ind].count(\"0\")\n",
    "        count_1 = len(strs[ind]) - count_0\n",
    "        if m >= count_0 and n >= count_1:\n",
    "            res = max(res, 1 + helper(ind + 1, m - count_0, n - count_1))\n",
    "        res = max(res, helper(ind + 1, m, n))\n",
    "        cache[ind, m, n] = res\n",
    "        return res\n",
    "    return helper(0, m, n)"
   ]
  },
  {
   "cell_type": "code",
   "execution_count": null,
   "metadata": {},
   "outputs": [],
   "source": [
    "def findMaxForm(self, strs: List[str], m: int, n: int) -> int:\n",
    "        dp = [[0] * (n + 1)\n",
    "               for _ in range(m + 1)]\n",
    "        for s in strs:\n",
    "            count_0 = s.count(\"0\")\n",
    "            count_1 = len(s) - count_0\n",
    "            for j in range(m, count_0 - 1, -1):\n",
    "                for k in range(n, count_1 - 1, -1):\n",
    "                    if j >= count_0 and k >= count_1:\n",
    "                        dp[j][k] = max(\n",
    "                            dp[j][k], 1 + dp[j-count_0][k-count_1])\n",
    "        return dp[m][n]"
   ]
  },
  {
   "cell_type": "markdown",
   "metadata": {},
   "source": [
    "# 32. Longest Valid Parentheses\n"
   ]
  },
  {
   "cell_type": "markdown",
   "metadata": {},
   "source": [
    "Given a string containing just the characters '(' and ')', find the length of the longest valid (well-formed) parentheses substring.\n",
    "s[i]=‘)’ and \\text{s}[i - 1] = \\text{‘(’}s[i−1]=‘(’, i.e. string looks like ``.......()\" \\Rightarrow‘‘.......()\"⇒\n",
    "dp[i]=dp[i−2]+2\n",
    "\n",
    "s[i]=‘)’ and \\text{s}[i - 1] = \\text{‘)’}s[i−1]=‘)’, i.e. string looks like ``.......))\" \\Rightarrow‘‘.......))\"⇒\n",
    "dp[i]=dp[i−1]+dp[i−dp[i−1]−2]+2 "
   ]
  },
  {
   "cell_type": "code",
   "execution_count": null,
   "metadata": {},
   "outputs": [],
   "source": [
    "def longestValidParentheses(self, s: str) -> int:\n",
    "    # dp solution\n",
    "    # ith ele of dp \n",
    "    maxans = 0 \n",
    "    dp = [0 for _ in range(len(s))]\n",
    "    for i in range(1,len(s)):\n",
    "        if (s[i] == ')'):\n",
    "            if s[i-1] == '(':\n",
    "                dp[i] =  dp[i-2] + 2 if i>=2 else 2\n",
    "            elif i-dp[i-1]> 0 and s[i-dp[i-1]-1]=='(':\n",
    "                dp[i] =  dp[i-dp[i-1]-2] +dp[i-1] +2 if (i-dp[i-1]) >= 2 else dp[i-1] +2\n",
    "            maxans = max(maxans, dp[i])\n",
    "    return maxans"
   ]
  },
  {
   "cell_type": "code",
   "execution_count": null,
   "metadata": {},
   "outputs": [],
   "source": [
    "def longestValidParentheses(self, s: str) -> int:\n",
    "    maxans = 0\n",
    "    stack = [-1]\n",
    "    for i in range(len(s)):\n",
    "        if s[i] == '(':\n",
    "            stack.append(i)\n",
    "        else:\n",
    "            stack.pop()\n",
    "            if stack:\n",
    "                maxans = max(maxans, i- stack[-1])\n",
    "            else:\n",
    "                stack.append(i)\n",
    "    return maxans"
   ]
  },
  {
   "cell_type": "markdown",
   "metadata": {},
   "source": [
    "# 120. Triangle\n",
    " ### 931. Minimum Falling Path Sum\n",
    " ### 118. Pascal's Triangle"
   ]
  },
  {
   "cell_type": "code",
   "execution_count": null,
   "metadata": {},
   "outputs": [],
   "source": [
    "def minimumTotal(self, triangle: List[List[int]]) -> int:\n",
    "    for row in range(1, len(triangle)):\n",
    "        for col in range(row+1):\n",
    "            smallest_above = math.inf\n",
    "            if col > 0:\n",
    "                smallest_above = triangle[row-1][col-1]\n",
    "            if col < row:\n",
    "                smallest_above = min(smallest_above, triangle[row-1][col])\n",
    "            triangle[row][col] += smallest_above\n",
    "    return min(triangle[-1])"
   ]
  },
  {
   "cell_type": "code",
   "execution_count": null,
   "metadata": {},
   "outputs": [],
   "source": [
    "def minimumTotal(self, triangle: List[List[int]]) -> int:\n",
    "    @lru_cache()\n",
    "    def dfs(i, level):\n",
    "        if level == len(triangle):\n",
    "            return 0\n",
    "\n",
    "        left = triangle[level][i] + dfs(i, level + 1)\n",
    "        right = triangle[level][i] + dfs(i+1, level + 1)\n",
    "\n",
    "        return min(left, right)\n",
    "\n",
    "    return dfs(0, 0)\n"
   ]
  },
  {
   "cell_type": "markdown",
   "metadata": {},
   "source": [
    "# 40. Combination Sum II ( Need to review knapsack, backtrack and coin change)\n"
   ]
  },
  {
   "cell_type": "markdown",
   "metadata": {},
   "source": [
    "Given a collection of candidate numbers (candidates) and a target number (target), find all unique combinations in candidates where the candidate numbers sum to target.\n",
    "\n",
    "Each number in candidates may only be used once in the combination."
   ]
  },
  {
   "cell_type": "code",
   "execution_count": null,
   "metadata": {},
   "outputs": [],
   "source": [
    "from typing import List"
   ]
  },
  {
   "cell_type": "code",
   "execution_count": null,
   "metadata": {},
   "outputs": [],
   "source": [
    "candidates = [10,1,2,7,6,1,5]\n",
    "target = 8"
   ]
  },
  {
   "cell_type": "code",
   "execution_count": null,
   "metadata": {},
   "outputs": [],
   "source": [
    "candidates = [2,5,2,1,2]\n",
    "target = 5"
   ]
  },
  {
   "cell_type": "code",
   "execution_count": null,
   "metadata": {},
   "outputs": [],
   "source": [
    "def combinationSum2(candidates: List[int], target: int) -> List[List[int]]:\n",
    "        candidates.sort()\n",
    "        dp = [set() for i in range(target+1)]\n",
    "        print(f'original dp array:{dp}')\n",
    "        dp[0].add(())\n",
    "        print(f'first step:{dp}')\n",
    "\n",
    "        for num in candidates:\n",
    "            for t in range(target, num-1, -1):\n",
    "                for prev in dp[t-num]:\n",
    "                    dp[t].add(prev + (num,))\n",
    "                    print (f'step: {dp}')\n",
    "        return list(dp[-1])"
   ]
  },
  {
   "cell_type": "markdown",
   "metadata": {},
   "source": [
    "#### go back to review coin change knapsack"
   ]
  },
  {
   "cell_type": "code",
   "execution_count": null,
   "metadata": {},
   "outputs": [],
   "source": [
    "combinationSum2(candidates, target)"
   ]
  },
  {
   "cell_type": "markdown",
   "metadata": {},
   "source": [
    "### also can be solved with recursion need to review, memory is kinda of fading."
   ]
  },
  {
   "cell_type": "markdown",
   "metadata": {},
   "source": [
    "# 629. K Inverse Pairs Array (very hard)\n"
   ]
  },
  {
   "cell_type": "markdown",
   "metadata": {},
   "source": [
    "For an integer array nums, an inverse pair is a pair of integers [i, j] where 0 <= i < j < nums.length and nums[i] > nums[j].\n",
    "\n",
    "Given two integers n and k, return the number of different arrays consist of numbers from 1 to n such that there are exactly k inverse pairs. Since the answer can be huge, return it modulo 109 + 7.\n",
    "\n",
    " "
   ]
  },
  {
   "cell_type": "markdown",
   "metadata": {},
   "source": [
    "## subproblem: \n",
    "count(n,k)=∑ i=0min(k,n−1)count(n−1,k−i).Similarly, for an element with k-ik−i number of inverse pairs, we can add this new number nn at a position ii steps from the right. Each of these updations to the arrays leads to a new arrangement, each with the number of inverse pairs being equal to kk."
   ]
  },
  {
   "cell_type": "code",
   "execution_count": null,
   "metadata": {},
   "outputs": [],
   "source": [
    "def kInversePairs(self, n: int, k: int) -> int:\n",
    "    memo = [[-1]*1002 for _ in range(1002)] \n",
    "    def k_inv(n, k, memo):\n",
    "        if k < 0: return 0\n",
    "        if k == 0:\n",
    "            return 1\n",
    "        elif n == 1:\n",
    "            return 0\n",
    "        else:\n",
    "            if memo[n][k] != -1:\n",
    "                return memo[n][k]\n",
    "            res = 0\n",
    "            for i in range(n):\n",
    "                res += k_inv(n-1, k-i, memo)\n",
    "            memo[n][k] = res % (10 ** 9 + 7)\n",
    "            return res % (10 ** 9 + 7)\n",
    "    return k_inv(n,k, memo)"
   ]
  },
  {
   "cell_type": "code",
   "execution_count": null,
   "metadata": {},
   "outputs": [],
   "source": [
    "def kInversePairs(self, n: int, k: int) -> int:\n",
    "    dp = [[0] * (k+1) for i in range(n+1)]\n",
    "    dp[0][0] = 1\n",
    "\n",
    "    for i in range(1, n+1):\n",
    "        for j in range(k+1):\n",
    "            if j == 0:\n",
    "                dp[i][j] += dp[i-1][0]\n",
    "            else:\n",
    "                dp[i][j] += dp[i][j-1] + dp[i-1][j]\n",
    "                if j-i >= 0:\n",
    "                    dp[i][j] -= dp[i-1][j-i]\n",
    "            dp[i][j] = dp[i][j] % (10 ** 9 + 7)\n",
    "\n",
    "    return dp[n][k]"
   ]
  },
  {
   "cell_type": "markdown",
   "metadata": {},
   "source": [
    "# 576. Out of Boundary Paths\n"
   ]
  },
  {
   "cell_type": "raw",
   "metadata": {},
   "source": [
    "There is an m x n grid with a ball. The ball is initially at the position [startRow, startColumn]. You are allowed to move the ball to one of the four adjacent cells in the grid (possibly out of the grid crossing the grid boundary). You can apply at most maxMove moves to the ball.\n",
    "\n",
    "Given the five integers m, n, maxMove, startRow, startColumn, return the number of paths to move the ball out of the grid boundary. Since the answer can be very large, return it modulo 109 + 7.\n",
    "\n",
    " "
   ]
  },
  {
   "cell_type": "code",
   "execution_count": null,
   "metadata": {},
   "outputs": [],
   "source": [
    "def findPaths(self, m: int, n: int, maxMove: int, startRow: int, startColumn: int) -> int:\n",
    "\n",
    "    def findPath(m, n, maxMove, startRow, startColumn, memo):\n",
    "        if startRow == m or startColumn == n or startRow <0 or startColumn <0:\n",
    "            return 1\n",
    "        if maxMove ==0:\n",
    "            return 0\n",
    "        if memo[startRow][startColumn][maxMove] >=0:\n",
    "            return memo[startRow][startColumn][maxMove]\n",
    "        memo[startRow][startColumn][maxMove]= (findPath(m, n, maxMove-1, startRow-1, startColumn, memo)+findPath( m, n, maxMove-1, startRow+1, startColumn, memo)+findPath( m, n, maxMove-1, startRow, startColumn-1, memo)+findPath( m, n, maxMove-1, startRow, startColumn+1, memo)) % (10**9+7)\n",
    "        return memo[startRow][startColumn][maxMove]\n",
    "\n",
    "    memo = [[[-1]*(maxMove+1) for _ in range(n+1)] for _ in range(m+1)]\n",
    "    print(memo)\n",
    "    return findPath(m, n, maxMove, startRow, startColumn, memo)"
   ]
  },
  {
   "cell_type": "markdown",
   "metadata": {},
   "source": [
    "# 472. Concatenated Words\n"
   ]
  },
  {
   "cell_type": "markdown",
   "metadata": {},
   "source": [
    "Given an array of strings words (without duplicates), return all the concatenated words in the given list of words.\n",
    "\n",
    "A concatenated word is defined as a string that is comprised entirely of at least two shorter words in the given array."
   ]
  },
  {
   "cell_type": "code",
   "execution_count": null,
   "metadata": {},
   "outputs": [],
   "source": [
    "Input: words = [\"cat\",\"cats\",\"catsdogcats\",\"dog\",\"dogcatsdog\",\"hippopotamuses\",\"rat\",\"ratcatdogcat\"]\n",
    "Output: [\"catsdogcats\",\"dogcatsdog\",\"ratcatdogcat\"]\n",
    "Explanation: \"catsdogcats\" can be concatenated by \"cats\", \"dog\" and \"cats\"; \n",
    "\"dogcatsdog\" can be concatenated by \"dog\", \"cats\" and \"dog\"; \n",
    "\"ratcatdogcat\" can be concatenated by \"rat\", \"cat\", \"dog\" and \"cat\""
   ]
  },
  {
   "cell_type": "code",
   "execution_count": null,
   "metadata": {},
   "outputs": [],
   "source": [
    "    def findAllConcatenatedWordsInADict(self, words: List[str]) -> List[str]:\n",
    "        def check(word, d):\n",
    "            if word in d:\n",
    "                return True\n",
    "\n",
    "            for i in range(len(word),0, -1):\n",
    "                if word[:i] in d and check(word[i:], d):\n",
    "                    return True\n",
    "            return False\n",
    "        \n",
    "        res = []\n",
    "        words_dict = set(words)\n",
    "        for word in words:\n",
    "            words_dict.remove(word)\n",
    "            if check(word, words_dict) is True:\n",
    "                res.append(word)\n",
    "            words_dict.add(word)\n",
    "        return res\n",
    "    "
   ]
  },
  {
   "cell_type": "markdown",
   "metadata": {},
   "source": [
    "# 823. Binary Trees With Factors\n"
   ]
  },
  {
   "cell_type": "markdown",
   "metadata": {},
   "source": [
    "Given an array of unique integers, arr, where each integer arr[i] is strictly greater than 1.\n",
    "\n",
    "We make a binary tree using these integers, and each number may be used for any number of times. Each non-leaf node's value should be equal to the product of the values of its children.\n",
    "\n",
    "Return the number of binary trees we can make. The answer may be too large so return the answer modulo 109 + 7.\n",
    "\n"
   ]
  },
  {
   "cell_type": "code",
   "execution_count": null,
   "metadata": {},
   "outputs": [],
   "source": [
    "def numFactoredBinaryTrees(self, arr: List[int]) -> int:\n",
    "    MOD= 10**9+7\n",
    "    N = len(arr)\n",
    "    arr.sort()\n",
    "    dp = [1] * N\n",
    "    index = {x: i for i, x in enumerate(arr)}\n",
    "    for i, x in enumerate(arr):\n",
    "        for j in range(i):\n",
    "            if x % arr[j] ==0: #arr[j] will be left child\n",
    "                right = x // arr[j]\n",
    "                if right in index:\n",
    "                    dp[i] += dp[j] * dp[index[right]]\n",
    "                    dp[i] %= MOD\n",
    "    return sum(dp)% MOD\n"
   ]
  },
  {
   "cell_type": "markdown",
   "metadata": {},
   "source": [
    "# 121. Best Time to Buy and Sell Stock\n",
    "\n",
    "Say you have an array for which the ith element is the price of a given stock on day i.\n",
    "\n",
    "If you were only permitted to complete at most one transaction (i.e., buy one and sell one share of the stock), design an algorithm to find the maximum profit.\n",
    "\n",
    "Note that you cannot sell a stock before you buy one."
   ]
  },
  {
   "cell_type": "markdown",
   "metadata": {},
   "source": [
    "Input: [7,1,5,3,6,4]\n",
    "Output: 5"
   ]
  },
  {
   "cell_type": "code",
   "execution_count": null,
   "metadata": {},
   "outputs": [],
   "source": [
    "from typing import List"
   ]
  },
  {
   "cell_type": "code",
   "execution_count": null,
   "metadata": {},
   "outputs": [],
   "source": [
    "def maxProfit(prices: List[int]) -> int:\n",
    "    num_days = len(prices)\n",
    "    max_profit_list = [0 for i in range(num_days)]\n",
    "    for i in range(num_days):\n",
    "        for j in range(i, num_days):\n",
    "            print(f'i: {i}, j: {j}')\n",
    "            if prices[j]-prices[i]> max_profit_list[i]:\n",
    "                max_profit_list[i] = prices[j]-prices[i]\n",
    "            print(max_profit_list)\n",
    "    return max(max_profit_list)"
   ]
  },
  {
   "cell_type": "code",
   "execution_count": null,
   "metadata": {},
   "outputs": [],
   "source": [
    "prices =[7,1,5,3,6,4]"
   ]
  },
  {
   "cell_type": "code",
   "execution_count": null,
   "metadata": {
    "scrolled": true,
    "tags": []
   },
   "outputs": [],
   "source": [
    "maxProfit(prices)"
   ]
  },
  {
   "cell_type": "code",
   "execution_count": null,
   "metadata": {},
   "outputs": [],
   "source": [
    "def maxProfit(prices: List[int]) -> int:\n",
    "    low = 2**31-1\n",
    "    low_index = 0\n",
    "    max_profit = 0\n",
    "    for ind, price in enumerate(prices): \n",
    "        print(ind, price, low)\n",
    "        if price < low: \n",
    "            low = price\n",
    "        if price-low > max_profit:\n",
    "            max_profit = price -low \n",
    "    print(max_profit)"
   ]
  },
  {
   "cell_type": "code",
   "execution_count": null,
   "metadata": {},
   "outputs": [],
   "source": [
    "maxProfit(prices)"
   ]
  },
  {
   "cell_type": "markdown",
   "metadata": {},
   "source": [
    "# 122. Best Time to Buy and Sell Stock II\n"
   ]
  },
  {
   "cell_type": "code",
   "execution_count": null,
   "metadata": {},
   "outputs": [],
   "source": [
    "def maxProfit(self, prices: List[int]) -> int:\n",
    "    res = 0\n",
    "    for i, j in zip(prices[1:], prices[:-1]):\n",
    "        res+= max(0, i-j)\n",
    "    return res"
   ]
  },
  {
   "cell_type": "markdown",
   "metadata": {},
   "source": [
    "# 123. Best Time to Buy and Sell Stock III\n"
   ]
  },
  {
   "cell_type": "raw",
   "metadata": {},
   "source": [
    "You are given an array prices where prices[i] is the price of a given stock on the ith day.\n",
    "\n",
    "Find the maximum profit you can achieve. You may complete at most two transactions."
   ]
  },
  {
   "cell_type": "code",
   "execution_count": null,
   "metadata": {},
   "outputs": [],
   "source": [
    "def maxProfit(self, prices):\n",
    "    \"\"\"\n",
    "    :type prices: List[int]\n",
    "    :rtype: int\n",
    "    \"\"\"\n",
    "    if len(prices) <= 1:\n",
    "        return 0\n",
    "\n",
    "    left_min = prices[0]\n",
    "    right_max = prices[-1]\n",
    "\n",
    "    length = len(prices)\n",
    "    left_profits = [0] * length\n",
    "    # pad the right DP array with an additional zero for convenience.\n",
    "    right_profits = [0] * (length + 1)\n",
    "\n",
    "    # construct the bidirectional DP array\n",
    "    for l in range(1, length):\n",
    "        left_profits[l] = max(left_profits[l-1], prices[l] - left_min)\n",
    "        left_min = min(left_min, prices[l])\n",
    "\n",
    "        r = length - 1 - l\n",
    "        right_profits[r] = max(right_profits[r+1], right_max - prices[r])\n",
    "        right_max = max(right_max, prices[r])\n",
    "\n",
    "    max_profit = 0\n",
    "    for i in range(0, length):\n",
    "        max_profit = max(max_profit, left_profits[i] + right_profits[i+1])\n",
    "\n",
    "    return max_profit"
   ]
  },
  {
   "cell_type": "code",
   "execution_count": null,
   "metadata": {},
   "outputs": [],
   "source": [
    "def maxProfit(self, prices):\n",
    "    \"\"\"\n",
    "    :type prices: List[int]\n",
    "    :rtype: int\n",
    "    \"\"\"\n",
    "    t1_cost, t2_cost = float('inf'), float('inf')\n",
    "    t1_profit, t2_profit = 0, 0\n",
    "\n",
    "    for price in prices:\n",
    "        # the maximum profit if only one transaction is allowed\n",
    "        t1_cost = min(t1_cost, price)\n",
    "        t1_profit = max(t1_profit, price - t1_cost)\n",
    "        # reinvest the gained profit in the second transaction\n",
    "        t2_cost = min(t2_cost, price - t1_profit)\n",
    "        t2_profit = max(t2_profit, price - t2_cost)\n",
    "\n",
    "    return t2_profit"
   ]
  },
  {
   "cell_type": "markdown",
   "metadata": {},
   "source": [
    "# 188. Best Time to Buy and Sell Stock IV\n"
   ]
  },
  {
   "cell_type": "raw",
   "metadata": {},
   "source": [
    "You are given an integer array prices where prices[i] is the price of a given stock on the ith day, and an integer k.\n",
    "\n",
    "Find the maximum profit you can achieve. You may complete at most k transactions."
   ]
  },
  {
   "cell_type": "code",
   "execution_count": null,
   "metadata": {},
   "outputs": [],
   "source": [
    "def maxProfit(self, k: int, prices: List[int]) -> int:\n",
    "    def solve(prices, k, idx, memo={}):\n",
    "        if idx <= 0 or not k: return 0\n",
    "        if (k, idx) in memo: return memo[k, idx]\n",
    "        nosell, sell = solve(prices, k, idx-1, memo), 0\n",
    "        for i in range(idx):\n",
    "            sell = max(sell, prices[idx] - prices[i] + solve(prices, k-1, i, memo))\n",
    "        memo[k, idx] = max(sell, nosell)\n",
    "        return memo[k, idx]\n",
    "    return solve(prices, k, len(prices) - 1)"
   ]
  },
  {
   "cell_type": "code",
   "execution_count": null,
   "metadata": {},
   "outputs": [],
   "source": [
    "def maxProfit(self, k: int, prices: List[int]) -> int:\n",
    "    n = len(prices)\n",
    "    if not prices or k ==0:\n",
    "        return 0\n",
    "    if 2*k > n:\n",
    "        res = 0\n",
    "        for i, j in zip(prices[1:], prices[:-1]):\n",
    "            res+= max(0, i-j)\n",
    "        return res\n",
    "    #dp[i][used_k][ishold]\n",
    "    dp = [[[-math.inf]*2 for _ in range(k+1)] for _ in range(n)]\n",
    "    dp[0][0][0] = 0\n",
    "    dp[0][1][1] = -prices[0]\n",
    "    for i in range(1, n):\n",
    "        for j in range(k+1):\n",
    "            dp[i][j][0] = max(dp[i-1][j][0], dp[i-1][j][1] + prices[i] ) # keep not holding VS. selling\n",
    "            if j>0:\n",
    "                dp[i][j][1] = max(dp[i-1][j][1], dp[i-1][j-1][0] - prices[i]) # keep holding VS. buying\n",
    "\n",
    "    res = max([dp[n-1][j][0] for j in range(k+1)])\n",
    "    return res"
   ]
  }
 ],
 "metadata": {
  "kernelspec": {
   "display_name": "Python 3 (ipykernel)",
   "language": "python",
   "name": "python3"
  },
  "language_info": {
   "codemirror_mode": {
    "name": "ipython",
    "version": 3
   },
   "file_extension": ".py",
   "mimetype": "text/x-python",
   "name": "python",
   "nbconvert_exporter": "python",
   "pygments_lexer": "ipython3",
   "version": "3.9.12"
  }
 },
 "nbformat": 4,
 "nbformat_minor": 4
}
