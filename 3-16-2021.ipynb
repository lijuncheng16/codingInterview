{
 "cells": [
  {
   "cell_type": "code",
   "execution_count": 35,
   "metadata": {},
   "outputs": [],
   "source": [
    "def myAtoi(s: str) -> int:\n",
    "    result = 0\n",
    "    neg = False\n",
    "    for i, char in enumerate(s):\n",
    "        if char is \" \":\n",
    "            if s[i-1] == \" \" or i==0:\n",
    "                continue\n",
    "            else:\n",
    "                break\n",
    "        elif char is \"-\":\n",
    "            if i==0 or s[i-1] == \" \":\n",
    "                neg = True\n",
    "                continue\n",
    "            else:\n",
    "                break\n",
    "        elif char is \"+\":\n",
    "            if i==0 or s[i-1] == \" \":\n",
    "                continue\n",
    "            else:\n",
    "                break\n",
    "        elif char.isnumeric():\n",
    "            temp = ord(char)-48\n",
    "            # print(temp)\n",
    "            result = result*10 + temp\n",
    "        else:\n",
    "            break\n",
    "    if neg == False:  \n",
    "        print('here')\n",
    "        if result >= 2**31:\n",
    "            result = 2**31-1\n",
    "        return result\n",
    "    else:\n",
    "        if result >= 2**31:\n",
    "            result = 2**31\n",
    "        return -result"
   ]
  },
  {
   "cell_type": "code",
   "execution_count": 36,
   "metadata": {},
   "outputs": [],
   "source": [
    "testString = \"-91283472332\""
   ]
  },
  {
   "cell_type": "code",
   "execution_count": 37,
   "metadata": {},
   "outputs": [
    {
     "data": {
      "text/plain": [
       "-2147483648"
      ]
     },
     "execution_count": 37,
     "metadata": {},
     "output_type": "execute_result"
    }
   ],
   "source": [
    "myAtoi(testString)"
   ]
  },
  {
   "cell_type": "code",
   "execution_count": null,
   "metadata": {},
   "outputs": [],
   "source": []
  }
 ],
 "metadata": {
  "kernelspec": {
   "display_name": "Python 3",
   "language": "python",
   "name": "python3"
  },
  "language_info": {
   "codemirror_mode": {
    "name": "ipython",
    "version": 3
   },
   "file_extension": ".py",
   "mimetype": "text/x-python",
   "name": "python",
   "nbconvert_exporter": "python",
   "pygments_lexer": "ipython3",
   "version": "3.7.4"
  }
 },
 "nbformat": 4,
 "nbformat_minor": 4
}
