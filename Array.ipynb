{
 "cells": [
  {
   "cell_type": "markdown",
   "metadata": {},
   "source": [
    "# 88. Merge Sorted Array\n"
   ]
  },
  {
   "cell_type": "code",
   "execution_count": null,
   "metadata": {},
   "outputs": [],
   "source": [
    "def merge(self, nums1: List[int], m: int, nums2: List[int], n: int) -> None:\n",
    "    \"\"\"\n",
    "    Do not return anything, modify nums1 in-place instead.\n",
    "    \"\"\"\n",
    "    print(nums1[n:])\n",
    "    for i in range(n):\n",
    "        nums1[i + m] = nums2[i]\n",
    "    nums1.sort()"
   ]
  },
  {
   "cell_type": "code",
   "execution_count": null,
   "metadata": {},
   "outputs": [],
   "source": [
    "def merge(self, nums1: List[int], m: int, nums2: List[int], n: int) -> None:\n",
    "    # Read pointers for nums1Copy and nums2 respectively.\n",
    "    p1 = 0\n",
    "    p2 = 0\n",
    "\n",
    "    # Compare elements from nums1Copy and nums2 and write the smallest to nums1.\n",
    "    for p in range(n + m):\n",
    "        # We also need to ensure that p1 and p2 aren't over the boundaries\n",
    "        # of their respective arrays.\n",
    "        if p2 >= n or (p1 < m and nums1_copy[p1] <= nums2[p2]):\n",
    "            nums1[p] = nums1_copy[p1] \n",
    "            p1 += 1\n",
    "        else:\n",
    "            nums1[p] = nums2[p2]\n",
    "            p2 += 1"
   ]
  },
  {
   "cell_type": "code",
   "execution_count": null,
   "metadata": {},
   "outputs": [],
   "source": [
    "def merge(self, nums1: List[int], m: int, nums2: List[int], n: int) -> None:\n",
    "    p1 = m - 1\n",
    "    p2 = n - 1\n",
    "    # And move p backwards through the array, each time writing\n",
    "    # the smallest value pointed at by p1 or p2.\n",
    "    for p in range(n + m - 1, -1, -1):\n",
    "        if p2 < 0:\n",
    "            break\n",
    "        if p1 >= 0 and nums1[p1] > nums2[p2]:\n",
    "            nums1[p] = nums1[p1]\n",
    "            p1 -= 1\n",
    "        else:\n",
    "            nums1[p] = nums2[p2]\n",
    "            p2 -= 1"
   ]
  },
  {
   "cell_type": "markdown",
   "metadata": {},
   "source": [
    "# 160. Intersection of Two Linked Lists\n"
   ]
  },
  {
   "cell_type": "code",
   "execution_count": null,
   "metadata": {},
   "outputs": [],
   "source": [
    "class Solution:\n",
    "    def getIntersectionNode(self, headA: ListNode, headB: ListNode) -> Optional[ListNode]:\n",
    "        listA = set()\n",
    "        nodeA = headA\n",
    "        nodeB = headB\n",
    "        while nodeA:\n",
    "            listA.add(nodeA)\n",
    "            nodeA = nodeA.next\n",
    "        while nodeB:\n",
    "            if nodeB in listA:\n",
    "                return nodeB\n",
    "            nodeB = nodeB.next\n",
    "        return None \n"
   ]
  },
  {
   "cell_type": "code",
   "execution_count": null,
   "metadata": {},
   "outputs": [],
   "source": [
    "class Solution:\n",
    "    def getIntersectionNode(self, headA: ListNode, headB: ListNode) -> Optional[ListNode]:\n",
    "        pA = headA\n",
    "        pB = headB\n",
    "        while pA != pB:\n",
    "            # print(pA,'|||', pB) \n",
    "            pA = headB if pA is None else pA.next\n",
    "            pB = headA if pB is None else pB.next\n",
    "        return pA"
   ]
  }
 ],
 "metadata": {
  "kernelspec": {
   "display_name": "Python 3",
   "language": "python",
   "name": "python3"
  },
  "language_info": {
   "codemirror_mode": {
    "name": "ipython",
    "version": 3
   },
   "file_extension": ".py",
   "mimetype": "text/x-python",
   "name": "python",
   "nbconvert_exporter": "python",
   "pygments_lexer": "ipython3",
   "version": "3.7.3"
  }
 },
 "nbformat": 4,
 "nbformat_minor": 4
}
