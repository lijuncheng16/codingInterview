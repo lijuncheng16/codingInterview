{
 "cells": [
  {
   "cell_type": "markdown",
   "metadata": {
    "jupyter": {
     "source_hidden": true
    }
   },
   "source": [
    "# TODO LIST:\n",
    "\n",
    "## N queens problem\n",
    "\n",
    "## String permutation\n",
    "\n",
    "## Sodoku\n",
    "\n",
    "## Binary search\n",
    "https://thebittheories.com/the-curious-case-of-binary-search-the-famous-bug-that-remained-undetected-for-20-years-973e89fc212\n",
    "\n",
    "## Implement a queue using 2stacks\n"
   ]
  },
  {
   "cell_type": "markdown",
   "metadata": {},
   "source": [
    "## bfs VS DFS using queue and stack"
   ]
  },
  {
   "cell_type": "markdown",
   "metadata": {},
   "source": [
    "# max Profit\n",
    "Say you have an array for which the ith element is the price of a given stock on day i.\n",
    "\n",
    "If you were only permitted to complete at most one transaction (i.e., buy one and sell one share of the stock), design an algorithm to find the maximum profit.\n",
    "\n",
    "Note that you cannot sell a stock before you buy one."
   ]
  },
  {
   "cell_type": "markdown",
   "metadata": {},
   "source": [
    "Input: [7,1,5,3,6,4]\n",
    "Output: 5"
   ]
  },
  {
   "cell_type": "code",
   "execution_count": 2,
   "metadata": {},
   "outputs": [],
   "source": [
    "from typing import List"
   ]
  },
  {
   "cell_type": "code",
   "execution_count": 20,
   "metadata": {},
   "outputs": [],
   "source": [
    "def maxProfit(prices: List[int]) -> int:\n",
    "    num_days = len(prices)\n",
    "    max_profit_list = [0 for i in range(num_days)]\n",
    "    for i in range(num_days):\n",
    "        for j in range(i, num_days):\n",
    "            print(f'i: {i}, j: {j}')\n",
    "            if prices[j]-prices[i]> max_profit_list[i]:\n",
    "                max_profit_list[i] = prices[j]-prices[i]\n",
    "            print(max_profit_list)\n",
    "    return max(max_profit_list)"
   ]
  },
  {
   "cell_type": "code",
   "execution_count": 21,
   "metadata": {},
   "outputs": [],
   "source": [
    "prices =[7,1,5,3,6,4]"
   ]
  },
  {
   "cell_type": "code",
   "execution_count": 22,
   "metadata": {},
   "outputs": [
    {
     "name": "stdout",
     "output_type": "stream",
     "text": [
      "i: 0, j: 0\n",
      "[0, 0, 0, 0, 0, 0]\n",
      "i: 0, j: 1\n",
      "[0, 0, 0, 0, 0, 0]\n",
      "i: 0, j: 2\n",
      "[0, 0, 0, 0, 0, 0]\n",
      "i: 0, j: 3\n",
      "[0, 0, 0, 0, 0, 0]\n",
      "i: 0, j: 4\n",
      "[0, 0, 0, 0, 0, 0]\n",
      "i: 0, j: 5\n",
      "[0, 0, 0, 0, 0, 0]\n",
      "i: 1, j: 1\n",
      "[0, 0, 0, 0, 0, 0]\n",
      "i: 1, j: 2\n",
      "[0, 4, 0, 0, 0, 0]\n",
      "i: 1, j: 3\n",
      "[0, 4, 0, 0, 0, 0]\n",
      "i: 1, j: 4\n",
      "[0, 5, 0, 0, 0, 0]\n",
      "i: 1, j: 5\n",
      "[0, 5, 0, 0, 0, 0]\n",
      "i: 2, j: 2\n",
      "[0, 5, 0, 0, 0, 0]\n",
      "i: 2, j: 3\n",
      "[0, 5, 0, 0, 0, 0]\n",
      "i: 2, j: 4\n",
      "[0, 5, 1, 0, 0, 0]\n",
      "i: 2, j: 5\n",
      "[0, 5, 1, 0, 0, 0]\n",
      "i: 3, j: 3\n",
      "[0, 5, 1, 0, 0, 0]\n",
      "i: 3, j: 4\n",
      "[0, 5, 1, 3, 0, 0]\n",
      "i: 3, j: 5\n",
      "[0, 5, 1, 3, 0, 0]\n",
      "i: 4, j: 4\n",
      "[0, 5, 1, 3, 0, 0]\n",
      "i: 4, j: 5\n",
      "[0, 5, 1, 3, 0, 0]\n",
      "i: 5, j: 5\n",
      "[0, 5, 1, 3, 0, 0]\n"
     ]
    },
    {
     "data": {
      "text/plain": [
       "5"
      ]
     },
     "execution_count": 22,
     "metadata": {},
     "output_type": "execute_result"
    }
   ],
   "source": [
    "maxProfit(prices)"
   ]
  },
  {
   "cell_type": "code",
   "execution_count": 29,
   "metadata": {},
   "outputs": [],
   "source": [
    "def maxProfit(prices: List[int]) -> int:\n",
    "    low = 2**31-1\n",
    "    low_index = 0\n",
    "    max_profit = 0\n",
    "    for ind, price in enumerate(prices): \n",
    "        print(ind, price, low)\n",
    "        if price < low: \n",
    "            low = price\n",
    "        if price-low > max_profit:\n",
    "            max_profit = price -low \n",
    "    print(max_profit)"
   ]
  },
  {
   "cell_type": "code",
   "execution_count": 30,
   "metadata": {},
   "outputs": [
    {
     "name": "stdout",
     "output_type": "stream",
     "text": [
      "0 7 2147483647\n",
      "1 1 7\n",
      "2 5 1\n",
      "3 3 1\n",
      "4 6 1\n",
      "5 4 1\n",
      "5\n"
     ]
    }
   ],
   "source": [
    "maxProfit(prices)"
   ]
  },
  {
   "cell_type": "code",
   "execution_count": null,
   "metadata": {},
   "outputs": [],
   "source": []
  }
 ],
 "metadata": {
  "kernelspec": {
   "display_name": "Python 3",
   "language": "python",
   "name": "python3"
  },
  "language_info": {
   "codemirror_mode": {
    "name": "ipython",
    "version": 3
   },
   "file_extension": ".py",
   "mimetype": "text/x-python",
   "name": "python",
   "nbconvert_exporter": "python",
   "pygments_lexer": "ipython3",
   "version": "3.7.4"
  }
 },
 "nbformat": 4,
 "nbformat_minor": 4
}
