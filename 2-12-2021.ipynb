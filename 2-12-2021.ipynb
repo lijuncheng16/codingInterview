{
 "cells": [
  {
   "cell_type": "code",
   "execution_count": null,
   "metadata": {},
   "outputs": [],
   "source": [
    "Given a stream of numbers, find\n",
    "(a) Mean\n",
    "(b) Variance\n",
    "(c) Median\n",
    "in an online manner, where the number come one by one\n"
   ]
  },
  {
   "cell_type": "code",
   "execution_count": null,
   "metadata": {},
   "outputs": [],
   "source": [
    "def get_mean(data_stream):\n",
    "    mean = 0\n",
    "    sum = 0 \n",
    "    n =0\n",
    "    while(data_stream is True):\n",
    "        next_number = data_stream.next()\n",
    "        n += 1\n",
    "        sum = sum + next_number\n",
    "        mean = sum / (n+1)\n",
    "        return mean \n"
   ]
  },
  {
   "cell_type": "markdown",
   "metadata": {},
   "source": [
    "# variance = E(x)^2 - E(x^2)\n",
    "# variance = \\Sigma_1^n (x_i - mean)^2\n",
    "    "
   ]
  },
  {
   "cell_type": "code",
   "execution_count": null,
   "metadata": {},
   "outputs": [],
   "source": [
    "def get_var(data_stream):\n"
   ]
  }
 ],
 "metadata": {
  "kernelspec": {
   "display_name": "Python 3",
   "language": "python",
   "name": "python3"
  },
  "language_info": {
   "codemirror_mode": {
    "name": "ipython",
    "version": 3
   },
   "file_extension": ".py",
   "mimetype": "text/x-python",
   "name": "python",
   "nbconvert_exporter": "python",
   "pygments_lexer": "ipython3",
   "version": "3.7.4"
  }
 },
 "nbformat": 4,
 "nbformat_minor": 4
}
