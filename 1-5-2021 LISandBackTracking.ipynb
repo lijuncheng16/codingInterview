{
 "cells": [
  {
   "cell_type": "markdown",
   "metadata": {},
   "source": [
    "Given an integer array nums, return the length of the longest strictly increasing subsequence.\n",
    "\n",
    "A subsequence is a sequence that can be derived from an array by deleting some or no elements without changing the order of the remaining elements. For example, [3,6,2,7] is a subsequence of the array [0,3,1,6,2,2,7]."
   ]
  },
  {
   "cell_type": "code",
   "execution_count": 5,
   "metadata": {},
   "outputs": [],
   "source": [
    "from typing import List"
   ]
  },
  {
   "cell_type": "code",
   "execution_count": 15,
   "metadata": {},
   "outputs": [],
   "source": [
    "def lengthOfLIS(nums: List[int]) -> int:\n",
    "    length = len(nums)\n",
    "    LIS = [1]* length\n",
    "    for i in range(length):\n",
    "        for j in range(i, length):\n",
    "            if nums[j]> nums[i]:\n",
    "                LIS[j] = max (LIS[i]+1, LIS[j])\n",
    "                print(f'i:{i}, j:{j}, LIS: {LIS}')\n",
    "#     print(LIS)\n",
    "        "
   ]
  },
  {
   "cell_type": "code",
   "execution_count": 16,
   "metadata": {},
   "outputs": [],
   "source": [
    "nums = [10,9,2,5,3,7,101,18]"
   ]
  },
  {
   "cell_type": "code",
   "execution_count": 17,
   "metadata": {},
   "outputs": [
    {
     "name": "stdout",
     "output_type": "stream",
     "text": [
      "i:0, j:6, LIS: [1, 1, 1, 1, 1, 1, 2, 1]\n",
      "i:0, j:7, LIS: [1, 1, 1, 1, 1, 1, 2, 2]\n",
      "i:1, j:6, LIS: [1, 1, 1, 1, 1, 1, 2, 2]\n",
      "i:1, j:7, LIS: [1, 1, 1, 1, 1, 1, 2, 2]\n",
      "i:2, j:3, LIS: [1, 1, 1, 2, 1, 1, 2, 2]\n",
      "i:2, j:4, LIS: [1, 1, 1, 2, 2, 1, 2, 2]\n",
      "i:2, j:5, LIS: [1, 1, 1, 2, 2, 2, 2, 2]\n",
      "i:2, j:6, LIS: [1, 1, 1, 2, 2, 2, 2, 2]\n",
      "i:2, j:7, LIS: [1, 1, 1, 2, 2, 2, 2, 2]\n",
      "i:3, j:5, LIS: [1, 1, 1, 2, 2, 3, 2, 2]\n",
      "i:3, j:6, LIS: [1, 1, 1, 2, 2, 3, 3, 2]\n",
      "i:3, j:7, LIS: [1, 1, 1, 2, 2, 3, 3, 3]\n",
      "i:4, j:5, LIS: [1, 1, 1, 2, 2, 3, 3, 3]\n",
      "i:4, j:6, LIS: [1, 1, 1, 2, 2, 3, 3, 3]\n",
      "i:4, j:7, LIS: [1, 1, 1, 2, 2, 3, 3, 3]\n",
      "i:5, j:6, LIS: [1, 1, 1, 2, 2, 3, 4, 3]\n",
      "i:5, j:7, LIS: [1, 1, 1, 2, 2, 3, 4, 4]\n"
     ]
    }
   ],
   "source": [
    "lengthOfLIS(nums)"
   ]
  },
  {
   "cell_type": "code",
   "execution_count": null,
   "metadata": {},
   "outputs": [],
   "source": [
    "nums = [0,1,0,3,2,3]"
   ]
  },
  {
   "cell_type": "code",
   "execution_count": 3,
   "metadata": {},
   "outputs": [],
   "source": [
    "nums = [7,7,7,7,7,7,7]\n"
   ]
  },
  {
   "cell_type": "markdown",
   "metadata": {},
   "source": [
    "Very help resources:https://www.youtube.com/watch?v=Zq4upTEaQyM&list=PLiQ766zSC5jM2OKVr8sooOuGgZkvnOCTI\n",
    "\n",
    "3 keys to backtrack algo:\n",
    "\n",
    "1. choice (subproblem down)\n",
    "2. constraint (craft decision space)\n",
    "3. goal (basecases)"
   ]
  },
  {
   "cell_type": "markdown",
   "metadata": {},
   "source": [
    "# Longest Happy String"
   ]
  },
  {
   "cell_type": "markdown",
   "metadata": {},
   "source": [
    "A string is called happy if it does not have any of the strings 'aaa', 'bbb' or 'ccc' as a substring.\n",
    "\n",
    "Given three integers a, b and c, return any string s, which satisfies following conditions:\n",
    "\n",
    "s is happy and longest possible.\n",
    "s contains at most a occurrences of the letter 'a', at most b occurrences of the letter 'b' and at most c occurrences of the letter 'c'.\n",
    "s will only contain 'a', 'b' and 'c' letters.\n",
    "If there is no such string s return the empty string \"\".\n",
    "\n",
    " \n",
    "\n",
    "Example 1:\n",
    "\n",
    "Input: a = 1, b = 1, c = 7\n",
    "Output: \"ccaccbcc\"\n",
    "Explanation: \"ccbccacc\" would also be a correct answer.\n",
    "Example 2:\n",
    "\n",
    "Input: a = 2, b = 2, c = 1\n",
    "Output: \"aabbc\"\n",
    "Example 3:\n",
    "\n",
    "Input: a = 7, b = 1, c = 0\n",
    "Output: \"aabaa\"\n",
    "Explanation: It's the only correct answer in this case.\n",
    " \n",
    "\n",
    "Constraints:\n",
    "\n",
    "0 <= a, b, c <= 100\n",
    "a + b + c > 0"
   ]
  },
  {
   "cell_type": "code",
   "execution_count": 33,
   "metadata": {},
   "outputs": [],
   "source": [
    "def isHappy(s):\n",
    "    length = len(s)\n",
    "    for i in range(length-2):\n",
    "        print(s[i]+s[i+1]+s[i+2])\n",
    "        if s[i]+s[i+1]+s[i+2] == 'aaa' or s[i]+s[i+1]+s[i+2] == 'bbb' or s[i]+s[i+1]+s[i+2] == 'ccc':\n",
    "            return True\n",
    "    return False\n",
    "        "
   ]
  },
  {
   "cell_type": "code",
   "execution_count": 34,
   "metadata": {},
   "outputs": [],
   "source": [
    "s = \"aabbcaabbbbccccaa\""
   ]
  },
  {
   "cell_type": "code",
   "execution_count": 35,
   "metadata": {},
   "outputs": [
    {
     "name": "stdout",
     "output_type": "stream",
     "text": [
      "aab\n",
      "abb\n",
      "bbc\n",
      "bca\n",
      "caa\n",
      "aab\n",
      "abb\n",
      "bbb\n"
     ]
    },
    {
     "data": {
      "text/plain": [
       "True"
      ]
     },
     "execution_count": 35,
     "metadata": {},
     "output_type": "execute_result"
    }
   ],
   "source": [
    "isHappy(s)"
   ]
  },
  {
   "cell_type": "code",
   "execution_count": null,
   "metadata": {},
   "outputs": [],
   "source": [
    "def longestDiverseString(a: int, b: int, c: int) -> str:\n",
    "    #basecase: add a new a, b, c\n",
    "    s = []\n",
    "    \n",
    "    #check is happy\n",
    "    \n",
    "    #till hit target int"
   ]
  },
  {
   "cell_type": "code",
   "execution_count": null,
   "metadata": {},
   "outputs": [],
   "source": [
    "   def longestDiverseString(self, a: int, b: int, c: int) -> str:\n",
    "        if a == b == c == 0: return ''\n",
    "        res = ''\n",
    "        total = a + b + c\n",
    "        \n",
    "        while total:\n",
    "            total -= 1\n",
    "            \"\"\"Case 1: a is largest number\n",
    "            if either of the last 2 elements of 'res' is not 'a' then we can add a\n",
    "            else get larger between 'b' and 'c' and add that\"\"\"\n",
    "            if a >= b and a >= c:\n",
    "                if  len(res) < 2 or res[-1] != 'a' or res[-2] != 'a':\n",
    "                    res += 'a'\n",
    "                    a -= 1\n",
    "                else:\n",
    "                    if b and b >= c:\n",
    "                        res += 'b'\n",
    "                        b -= 1\n",
    "                    elif c > 0:\n",
    "                        res += 'c'\n",
    "                        c -= 1\n",
    "                continue\n",
    "                \n",
    "            \"\"\"Case 2: 'b' is largest number\n",
    "            if either of the last 2 elements of 'res' is not 'b' then we can add 'b'\n",
    "            else get larger between 'a' and 'c' and add that \"\"\"  \n",
    "            if b >= a and b >= c:\n",
    "                if  len(res) < 2 or res[-1] != 'b' or res[-2] != 'b':\n",
    "                    res += 'b'\n",
    "                    b -= 1\n",
    "                else:\n",
    "                    if a and a >= c:\n",
    "                        res += 'a'\n",
    "                        a -= 1\n",
    "                    elif c > 0:\n",
    "                        res += 'c'\n",
    "                        c -= 1\n",
    "                continue\n",
    "            \n",
    "            \"\"\" Case 3: 'c' is largest number\n",
    "            if either of the last 2 elements of 'res' is not 'c' then we can add 'c'\n",
    "            else get larger between 'a' and 'b' and add that    \"\"\"\n",
    "            if c >= a and c >= c:\n",
    "                if  len(res) < 2 or res[-1] != 'c' or res[-2] != 'c':\n",
    "                    res += 'c'\n",
    "                    c -= 1\n",
    "                else:\n",
    "                    if b and b >= a:\n",
    "                        res += 'b'\n",
    "                        b -= 1\n",
    "                    elif a > 0:\n",
    "                        res += 'a'\n",
    "                        a -= 1\n",
    "                continue\n",
    "        \n",
    "        return res"
   ]
  },
  {
   "cell_type": "code",
   "execution_count": null,
   "metadata": {},
   "outputs": [],
   "source": [
    "def longestDiverseString(self, a: int, b: int, c: int) -> str:\n",
    "        h = []\n",
    "        if a > 0: h.append((-a,'a'))\n",
    "        if b > 0: h.append((-b,'b'))\n",
    "        if c > 0: h.append((-c,'c'))\n",
    "        heapq.heapify(h) \n",
    "        s = ''\n",
    "        while h: \n",
    "            cnt, char = heapq.heappop(h)\n",
    "            cnt = -cnt\n",
    "            if len(s) >= 2 and s[-1]==s[-2]==char:\n",
    "                if h:\n",
    "                    newcnt, newchar = heapq.heappop(h)\n",
    "                    newcnt = -newcnt\n",
    "                    s += newchar\n",
    "                    newcnt -= 1\n",
    "                    if newcnt > 0:\n",
    "                        heapq.heappush(h, (-newcnt, newchar))\n",
    "                else:\n",
    "                    return s\n",
    "            else:\n",
    "                s += char\n",
    "                cnt -= 1\n",
    "            if cnt > 0:\n",
    "                heapq.heappush(h, (-cnt, char))\n",
    "        \n",
    "        return s"
   ]
  },
  {
   "cell_type": "markdown",
   "metadata": {},
   "source": [
    "# Tomorrow TODO study heap"
   ]
  },
  {
   "cell_type": "markdown",
   "metadata": {},
   "source": [
    "567. Permutation in String\n",
    "Given two strings s1 and s2, write a function to return true if s2 contains the permutation of s1. In other words, one of the first string's permutations is the substring of the second string."
   ]
  },
  {
   "cell_type": "markdown",
   "metadata": {},
   "source": [
    "Input: s1 = \"ab\" s2 = \"eidbaooo\"\n",
    "Output: True\n",
    "Explanation: s2 contains one permutation of s1 (\"ba\")."
   ]
  },
  {
   "cell_type": "code",
   "execution_count": 40,
   "metadata": {},
   "outputs": [],
   "source": [
    "def checkInclusion(s1: str, s2: str) -> bool:\n",
    "    if len(s1)> len(s2):\n",
    "        return False\n",
    "    s1d"
   ]
  },
  {
   "cell_type": "code",
   "execution_count": 41,
   "metadata": {},
   "outputs": [],
   "source": [
    "s1 = \"ab\""
   ]
  },
  {
   "cell_type": "code",
   "execution_count": 44,
   "metadata": {},
   "outputs": [],
   "source": [
    "s2 = \"eidboaoo\""
   ]
  },
  {
   "cell_type": "code",
   "execution_count": 45,
   "metadata": {},
   "outputs": [
    {
     "name": "stdout",
     "output_type": "stream",
     "text": [
      "['a', 'b'] ['a', 'b', 'd', 'e', 'i', 'o', 'o', 'o']\n"
     ]
    }
   ],
   "source": [
    "checkInclusion(s1,s2)"
   ]
  },
  {
   "cell_type": "code",
   "execution_count": null,
   "metadata": {},
   "outputs": [],
   "source": []
  }
 ],
 "metadata": {
  "kernelspec": {
   "display_name": "Python 3",
   "language": "python",
   "name": "python3"
  },
  "language_info": {
   "codemirror_mode": {
    "name": "ipython",
    "version": 3
   },
   "file_extension": ".py",
   "mimetype": "text/x-python",
   "name": "python",
   "nbconvert_exporter": "python",
   "pygments_lexer": "ipython3",
   "version": "3.7.4"
  }
 },
 "nbformat": 4,
 "nbformat_minor": 4
}
