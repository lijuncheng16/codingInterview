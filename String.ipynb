{
 "cells": [
  {
   "cell_type": "markdown",
   "metadata": {},
   "source": [
    " \t#\tTitle\tAcceptance\tDifficulty\tFrequency\n",
    "68\t\n",
    "Text Justification\t30.2%\tHard\t\n",
    "91\t\n",
    "Decode Ways\t26.9%\tMedium\t\n",
    "3\t\n",
    "Longest Substring Without Repeating Characters\t31.6%\tMedium\t\n",
    "20\t\n",
    "Valid Parentheses\t40.0%\tEasy\t\n",
    "5\t\n",
    "Longest Palindromic Substring\t30.7%\tMedium\t\n",
    "273\t\n",
    "Integer to English Words\t28.3%\tHard\t\n",
    "1249\t\n",
    "Minimum Remove to Make Valid Parentheses\t64.2%\tMedium\t\n",
    "415\t\n",
    "Add Strings\t48.5%\tEasy\t\n",
    "443\t\n",
    "String Compression\t44.2%\tMedium\t\n",
    "49\t\n",
    "Group Anagrams\t59.8%\tMedium\t\n",
    "22\t\n",
    "Generate Parentheses\t65.8%\tMedium\t\n",
    "10\t\n",
    "Regular Expression Matching\t27.5%\tHard\t\n",
    "680\t\n",
    "Valid Palindrome II\t37.1%\tEasy\t\n",
    "14\t\n",
    "Longest Common Prefix\t36.2%\tEasy\t\n",
    "767\t\n",
    "Reorganize String\t50.3%\tMedium\t\n",
    "227\t\n",
    "Basic Calculator II\t38.8%\tMedium\t\n",
    "125\t\n",
    "Valid Palindrome\t38.6%\tEasy\t\n",
    "76\t\n",
    "Minimum Window Substring\t36.2%\tHard\t\n",
    "67\t\n",
    "Add Binary\t47.3%\tEasy\t\n",
    "937\t\n",
    "Reorder Data in Log Files\t54.8%\tEasy\t\n",
    "17\t\n",
    "Letter Combinations of a Phone Number\t49.9%\tMedium\t\n",
    "387\t\n",
    "First Unique Character in a String\t54.0%\tEasy\t\n",
    "12\t\n",
    "Integer to Roman\t57.1%\tMedium\t\n",
    "38\t\n",
    "Count and Say\t46.3%\tMedium\t\n",
    "609\t\n",
    "Find Duplicate File in System\t61.2%\tMedium\t\n",
    "770\t\n",
    "Basic Calculator IV\t54.4%\tHard\t\n",
    "13\t\n",
    "Roman to Integer\t57.0%\tEasy\t\n",
    "44\t\n",
    "Wildcard Matching\t25.5%\tHard\t\n",
    "344\t\n",
    "Reverse String\t70.7%\tEasy\t\n",
    "158\t\n",
    "Read N Characters Given Read4 II - Call multiple times\n",
    "37.4%\tHard\t\n",
    "696\t\n",
    "Count Binary Substrings\t58.4%\tEasy\t\n",
    "72\t\n",
    "Edit Distance\t47.1%\tHard\t\n",
    "564\t\n",
    "Find the Closest Palindrome\t20.4%\tHard\t\n",
    "43\t\n",
    "Multiply Strings\t35.1%\tMedium\t\n",
    "1531\t\n",
    "String Compression II\t34.1%\tHard\t\n",
    "761\t\n",
    "Special Binary String\t58.8%\tHard\t\n",
    "8\t\n",
    "String to Integer (atoi)\t15.7%\tMedium\t\n",
    "126\t\n",
    "Word Ladder II\t23.8%\tHard\t\n",
    "151\t\n",
    "Reverse Words in a String\t24.2%\tMedium\t\n",
    "65\t\n",
    "Valid Number\t16.1%\tHard\t\n",
    "71\t\n",
    "Simplify Path\t34.9%\tMedium\t\n",
    "1328\t\n",
    "Break a Palindrome\t47.8%\tMedium\t\n",
    "115\t\n",
    "Distinct Subsequences\t40.0%\tHard\t\n",
    "1163\t\n",
    "Last Substring in Lexicographical Order\t36.3%\tHard\t\n",
    "539\t\n",
    "Minimum Time Difference\t52.4%\tMedium\t\n",
    "468\t\n",
    "Validate IP Address\t25.1%\tMedium\t\n",
    "93\t\n",
    "Restore IP Addresses\t37.9%\tMedium\t\n",
    "1169\t\n",
    "Invalid Transactions\t30.9%\tMedium\t\n",
    "6\t\n",
    "ZigZag Conversion\t38.3%\tMedium\t\n",
    "340\t\n",
    "Longest Substring with At Most K Distinct Characters\n",
    "45.7%\tMedium\t\n",
    "772\t\n",
    "Basic Calculator III\n",
    "44.1%\tHard\t\n",
    "249\t\n",
    "Group Shifted Strings\n",
    "58.5%\tMedium\t\n",
    "316\t\n",
    "Remove Duplicate Letters\t39.4%\tMedium\t\n",
    "616\t\n",
    "Add Bold Tag in String\n",
    "44.9%\tMedium\t\n",
    "678\t\n",
    "Valid Parenthesis String\t31.8%\tMedium\t\n",
    "635\t\n",
    "Design Log Storage System\n",
    "60.2%\tMedium\t\n",
    "165\t\n",
    "Compare Version Numbers\t30.7%\tMedium\t\n",
    "1106\t\n",
    "Parsing A Boolean Expression\t59.4%\tHard\t\n",
    "1419\t\n",
    "Minimum Number of Frogs Croaking\t47.7%\tMedium\t\n",
    "214\t\n",
    "Shortest Palindrome\t30.8%\tHard\t\n",
    "1297\t\n",
    "Maximum Number of Occurrences of a Substring\t50.6%\tMedium\t\n",
    "1347\t\n",
    "Minimum Number of Steps to Make Two Strings Anagram\t75.1%\tMedium\t\n",
    "336\t\n",
    "Palindrome Pairs\t34.9%\tHard\t\n",
    "632\t\n",
    "Smallest Range Covering Elements from K Lists\t54.5%\tHard\t\n",
    "647\t\n",
    "Palindromic Substrings\t62.7%\tMedium\t\n",
    "30\t\n",
    "Substring with Concatenation of All Words\t26.4%\tHard\t\n",
    "1507\t\n",
    "Reformat Date\t60.2%\tEasy\t\n",
    "1268\t\n",
    "Search Suggestions System\t64.7%\tMedium\t\n",
    "556\t\n",
    "Next Greater Element III\t33.5%\tMedium\t\n",
    "1177\t\n",
    "Can Make Palindrome from Substring\t36.0%\tMedium\t\n",
    "383\t\n",
    "Ransom Note\t53.5%\tEasy\t\n",
    "97\t\n",
    "Interleaving String\t32.8%\tMedium\t\n",
    "722\t\n",
    "Remove Comments\t36.5%\tMedium\t\n",
    "557\t\n",
    "Reverse Words in a String III\t72.4%\tEasy\t\n",
    "856\t\n",
    "Score of Parentheses\t64.9%\tMedium\t\n",
    "345\t\n",
    "Reverse Vowels of a String\t45.2%\tEasy\t\n",
    "1487\t\n",
    "Making File Names Unique\t31.3%\tMedium\t\n",
    "1108\t\n",
    "Defanging an IP Address\t88.4%\tEasy\t\n",
    "1271\t\n",
    "Hexspeak\n",
    "55.5%\tEasy\t\n",
    "657\t\n",
    "Robot Return to Origin\t74.1%\tEasy\t\n",
    "32\t\n",
    "Longest Valid Parentheses\t29.9%\tHard\t\n",
    "1071\t\n",
    "Greatest Common Divisor of Strings\t51.8%\tEasy\t\n",
    "161\t\n",
    "One Edit Distance\n",
    "33.2%\tMedium"
   ]
  },
  {
   "cell_type": "markdown",
   "metadata": {},
   "source": [
    "# 191. Number of 1 Bits\n"
   ]
  },
  {
   "cell_type": "markdown",
   "metadata": {},
   "source": [
    "Write a function that takes an unsigned integer and returns the number of '1' bits it has (also known as the Hamming weight).\n",
    "\n"
   ]
  },
  {
   "cell_type": "raw",
   "metadata": {},
   "source": [
    "The key idea here is to realize that for any number n, doing a bit-wise AND of n and n−1 flips the least-significant 1-bit in n to 0. Why? Consider the binary representations of n and n−1."
   ]
  },
  {
   "cell_type": "markdown",
   "metadata": {},
   "source": [
    "In the binary representation, the least significant 1-bit in n always corresponds to a 0-bit in n - 1. Therefore, anding the two numbers n and n-1 always flips the least significant 1-bit in n to 0, and keeps all other bits the same."
   ]
  },
  {
   "cell_type": "code",
   "execution_count": 1,
   "metadata": {},
   "outputs": [],
   "source": [
    "def hammingWeight(self, n: int) -> int:\n",
    "        # bit = format(n, \"b\")\n",
    "        # count = Counter(bit)\n",
    "        # return count[\"1\"]\n",
    "        ans = 0\n",
    "        while n:\n",
    "            n &= (n-1)\n",
    "            ans += 1\n",
    "        return ans"
   ]
  },
  {
   "cell_type": "markdown",
   "metadata": {},
   "source": [
    "# 338. Counting Bits\n"
   ]
  },
  {
   "cell_type": "markdown",
   "metadata": {},
   "source": [
    "Given an integer n, return an array ans of length n + 1 such that for each i (0 <= i <= n), ans[i] is the number of 1's in the binary representation of i."
   ]
  },
  {
   "cell_type": "markdown",
   "metadata": {},
   "source": [
    "Similarly, we can generate the results for [4,7] using [0,3] as blueprints.\n",
    "\n",
    "In general, we have the following transition function for popcount P(x):\n",
    "\n",
    "P(x+b)=P(x)+1,b=2^m>x"
   ]
  },
  {
   "cell_type": "code",
   "execution_count": null,
   "metadata": {},
   "outputs": [],
   "source": [
    "def countBits(self, n: int) -> List[int]:\n",
    "    ans = [0] * (n + 1)\n",
    "    x = 0\n",
    "    b = 1\n",
    "\n",
    "    # [0, b) is calculated\n",
    "    while b <= n:\n",
    "        # generate [b, 2b) or [b, n) from [0, b)\n",
    "        while x < b and x + b <= n:\n",
    "            ans[x + b] = ans[x] + 1\n",
    "            x += 1\n",
    "        x = 0 # reset x\n",
    "        b <<= 1 # b = 2b\n",
    "\n",
    "    return ans "
   ]
  },
  {
   "cell_type": "markdown",
   "metadata": {},
   "source": [
    "P(x)=P(x/2)+(x mod 2)\n"
   ]
  },
  {
   "cell_type": "code",
   "execution_count": null,
   "metadata": {},
   "outputs": [],
   "source": [
    "def countBits(self, n: int) -> List[int]:\n",
    "    ans = [0] * (n + 1)\n",
    "    for x in range(1, n + 1):\n",
    "        # x // 2 is x >> 1 and x % 2 is x & 1\n",
    "        ans[x] = ans[x >> 1] + (x & 1) \n",
    "    return ans "
   ]
  },
  {
   "cell_type": "markdown",
   "metadata": {},
   "source": [
    "P(x)=P(x&(x−1))+1"
   ]
  },
  {
   "cell_type": "code",
   "execution_count": null,
   "metadata": {},
   "outputs": [],
   "source": [
    "def countBits(self, n: int) -> List[int]:\n",
    "    ans = [0] * (n + 1)\n",
    "    for x in range(1, n + 1):\n",
    "        ans[x] = ans[x & (x - 1)] + 1\n",
    "    return ans "
   ]
  },
  {
   "cell_type": "code",
   "execution_count": null,
   "metadata": {},
   "outputs": [],
   "source": []
  }
 ],
 "metadata": {
  "kernelspec": {
   "display_name": "Python 3",
   "language": "python",
   "name": "python3"
  },
  "language_info": {
   "codemirror_mode": {
    "name": "ipython",
    "version": 3
   },
   "file_extension": ".py",
   "mimetype": "text/x-python",
   "name": "python",
   "nbconvert_exporter": "python",
   "pygments_lexer": "ipython3",
   "version": "3.7.3"
  }
 },
 "nbformat": 4,
 "nbformat_minor": 4
}
