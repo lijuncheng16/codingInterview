{
 "cells": [
  {
   "cell_type": "markdown",
   "metadata": {},
   "source": [
    "# 78. Subsets\n"
   ]
  },
  {
   "cell_type": "markdown",
   "metadata": {},
   "source": [
    "Given an integer array nums of unique elements, return all possible subsets (the power set).\n",
    "\n",
    "The solution set must not contain duplicate subsets. Return the solution in any order."
   ]
  },
  {
   "cell_type": "code",
   "execution_count": 13,
   "metadata": {},
   "outputs": [],
   "source": [
    "nums = [1,2,3,4]\n",
    "# Output: [[],[1],[2],[1,2],[3],[1,3],[2,3],[1,2,3]]"
   ]
  },
  {
   "cell_type": "code",
   "execution_count": 14,
   "metadata": {},
   "outputs": [],
   "source": [
    "from typing import List"
   ]
  },
  {
   "cell_type": "code",
   "execution_count": 17,
   "metadata": {},
   "outputs": [],
   "source": [
    "def subsets(nums: List[int]) -> List[List[int]]:\n",
    "\n",
    "        n = len(nums)\n",
    "\n",
    "        subset = nums\n",
    "        output = [[]]\n",
    "        \n",
    "        for num in nums:\n",
    "            output += [curr + [num] for curr in output]\n",
    "            print(output)\n",
    "        \n",
    "        return output"
   ]
  },
  {
   "cell_type": "code",
   "execution_count": 18,
   "metadata": {},
   "outputs": [
    {
     "name": "stdout",
     "output_type": "stream",
     "text": [
      "[[], [1]]\n",
      "[[], [1], [2], [1, 2]]\n",
      "[[], [1], [2], [1, 2], [3], [1, 3], [2, 3], [1, 2, 3]]\n",
      "[[], [1], [2], [1, 2], [3], [1, 3], [2, 3], [1, 2, 3], [4], [1, 4], [2, 4], [1, 2, 4], [3, 4], [1, 3, 4], [2, 3, 4], [1, 2, 3, 4]]\n"
     ]
    },
    {
     "data": {
      "text/plain": [
       "[[],\n",
       " [1],\n",
       " [2],\n",
       " [1, 2],\n",
       " [3],\n",
       " [1, 3],\n",
       " [2, 3],\n",
       " [1, 2, 3],\n",
       " [4],\n",
       " [1, 4],\n",
       " [2, 4],\n",
       " [1, 2, 4],\n",
       " [3, 4],\n",
       " [1, 3, 4],\n",
       " [2, 3, 4],\n",
       " [1, 2, 3, 4]]"
      ]
     },
     "execution_count": 18,
     "metadata": {},
     "output_type": "execute_result"
    }
   ],
   "source": [
    "subsets(nums)"
   ]
  },
  {
   "cell_type": "markdown",
   "metadata": {},
   "source": [
    "Approach 3: Lexicographic (Binary Sorted) Subsets\n",
    "The idea is that we map each subset to a bitmask of length n, where 1 on the ith position in bitmask means the presence of nums[i] in the subset, and 0 means its absence.\n",
    "\n",
    "For instance, the bitmask 0..00 (all zeros) corresponds to an empty subset, and the bitmask 1..11 (all ones) corresponds to the entire input array nums.\n",
    "\n",
    "Hence to solve the initial problem, we just need to generate n bitmasks from 0..00 to 1..11.\n",
    "\n",
    "It might seem simple at first glance to generate binary numbers, but the real problem here is how to deal with zero left padding, because one has to generate bitmasks of fixed length, i.e. 001 and not just 1. For that one could use standard bit manipulation trick:\n"
   ]
  },
  {
   "cell_type": "code",
   "execution_count": null,
   "metadata": {},
   "outputs": [],
   "source": [
    "nth_bit = 1 << n\n",
    "for i in range(2**n):\n",
    "    # generate bitmask, from 0..00 to 1..11\n",
    "    bitmask = bin(i | nth_bit)[3:]"
   ]
  },
  {
   "cell_type": "code",
   "execution_count": null,
   "metadata": {},
   "outputs": [],
   "source": [
    "for i in range(2**n, 2**(n + 1)):\n",
    "    # generate bitmask, from 0..00 to 1..11\n",
    "    bitmask = bin(i)[3:]"
   ]
  },
  {
   "cell_type": "raw",
   "metadata": {},
   "source": [
    "Generate all possible binary bitmasks of length n.\n",
    "\n",
    "Map a subset to each bitmask: 1 on the ith position in bitmask means the presence of nums[i] in the subset, and 0 means its absence.\n",
    "\n",
    "Return output list."
   ]
  },
  {
   "cell_type": "code",
   "execution_count": null,
   "metadata": {},
   "outputs": [],
   "source": [
    "class Solution:\n",
    "    def subsets(self, nums: List[int]) -> List[List[int]]:\n",
    "        n = len(nums)\n",
    "        output = []\n",
    "        \n",
    "        for i in range(2**n, 2**(n + 1)):\n",
    "            # generate bitmask, from 0..00 to 1..11\n",
    "            bitmask = bin(i)[3:]\n",
    "            \n",
    "            # append subset corresponding to that bitmask\n",
    "            output.append([nums[j] for j in range(n) if bitmask[j] == '1'])\n",
    "        \n",
    "        return output"
   ]
  },
  {
   "cell_type": "markdown",
   "metadata": {},
   "source": [
    "# 90. Subsets II\n"
   ]
  },
  {
   "cell_type": "markdown",
   "metadata": {},
   "source": [
    "Given an integer array nums that may contain duplicates, return all possible subsets (the power set).\n",
    "\n",
    "The solution set must not contain duplicate subsets. Return the solution in any order."
   ]
  },
  {
   "cell_type": "code",
   "execution_count": 2,
   "metadata": {},
   "outputs": [],
   "source": [
    "from typing import List"
   ]
  },
  {
   "cell_type": "code",
   "execution_count": 47,
   "metadata": {},
   "outputs": [],
   "source": [
    "def subsetsWithDup(nums: List[int]) -> List[List[int]]:\n",
    "    n = len(nums)\n",
    "\n",
    "    subset = nums\n",
    "    output = [[]]\n",
    "\n",
    "    for num in nums:\n",
    "#         for curr in output:\n",
    "#             if curr+[num] not in output:\n",
    "#                 output += curr+[num]\n",
    "        output += [curr+[num] for curr in output]\n",
    "    result = []\n",
    "    for item in output:\n",
    "        item = tuple(item)\n",
    "        if item not in result:\n",
    "            result.append(item)\n",
    "#     output = set(output)\n",
    "    return result"
   ]
  },
  {
   "cell_type": "code",
   "execution_count": 48,
   "metadata": {},
   "outputs": [],
   "source": [
    "nums = [1,2,2]"
   ]
  },
  {
   "cell_type": "code",
   "execution_count": 49,
   "metadata": {},
   "outputs": [
    {
     "data": {
      "text/plain": [
       "[(), (1,), (2,), (1, 2), (2, 2), (1, 2, 2)]"
      ]
     },
     "execution_count": 49,
     "metadata": {},
     "output_type": "execute_result"
    }
   ],
   "source": [
    "subsetsWithDup(nums)"
   ]
  },
  {
   "cell_type": "code",
   "execution_count": 42,
   "metadata": {},
   "outputs": [],
   "source": [
    "def subsetsWithDup(nums):\n",
    "    ret = []\n",
    "    dfs(sorted(nums), [], ret)\n",
    "    return ret\n",
    "\n",
    "def dfs(nums, path, ret):\n",
    "    ret.append(path)\n",
    "    for i in range(len(nums)):\n",
    "        if i > 0 and nums[i] == nums[i-1]:\n",
    "            continue\n",
    "        dfs(nums[i+1:], path+[nums[i]], ret)"
   ]
  },
  {
   "cell_type": "markdown",
   "metadata": {},
   "source": [
    "# 1774. Closest Dessert Cost\n"
   ]
  },
  {
   "cell_type": "markdown",
   "metadata": {},
   "source": [
    "You would like to make dessert and are preparing to buy the ingredients. You have n ice cream base flavors and m types of toppings to choose from. You must follow these rules when making your dessert:\n",
    "\n",
    "There must be exactly one ice cream base.\n",
    "You can add one or more types of topping or have no toppings at all.\n",
    "There are at most two of each type of topping."
   ]
  },
  {
   "cell_type": "raw",
   "metadata": {},
   "source": [
    "Input: baseCosts = [1,7], toppingCosts = [3,4], target = 10\n",
    "Output: 10\n",
    "Explanation: Consider the following combination (all 0-indexed):\n",
    "- Choose base 1: cost 7\n",
    "- Take 1 of topping 0: cost 1 x 3 = 3\n",
    "- Take 0 of topping 1: cost 0 x 4 = 0\n",
    "Total: 7 + 3 + 0 = 10."
   ]
  },
  {
   "cell_type": "code",
   "execution_count": null,
   "metadata": {},
   "outputs": [],
   "source": [
    "class Solution(object):\n",
    "    def __init__(self):\n",
    "        self.toppings = [0]\n",
    "        \n",
    "    def closestCost(self, baseCosts, toppingCosts, target):\n",
    "        self.knapsack(toppingCosts, 0, 0, target)\n",
    "        possibilities = [[b + t, abs(target-(b+t))] for b in baseCosts for t in self.toppings ]        \n",
    "        possibilities.sort(key=lambda x: [x[1], x[0]])\n",
    "        return possibilities.pop(0)[0]\n",
    "    \n",
    "    def knapsack(self, tc, i, total, target):\n",
    "        if i == len(tc):\n",
    "            self.toppings.append(total)\n",
    "            return \n",
    "        self.knapsack(tc, i+1, total + 2*tc[i], target)\n",
    "        self.knapsack(tc, i+1, total+tc[i], target)\n",
    "        self.knapsack(tc, i+1, total, target)"
   ]
  },
  {
   "cell_type": "code",
   "execution_count": null,
   "metadata": {},
   "outputs": [],
   "source": [
    "class Solution(object):\n",
    "\tdef closestCost(self, baseCosts, toppingCosts, target):\n",
    "\t\t\"\"\"\n",
    "\t\t:type baseCosts: List[int]\n",
    "\t\t:type toppingCosts: List[int]\n",
    "\t\t:type target: int\n",
    "\t\t:rtype: int\n",
    "\t\t\"\"\"\n",
    "\t\tself.ans = float('inf')\n",
    "\t\ttoppingCosts.sort()\n",
    "\t\tfor base in baseCosts:\n",
    "\t\t\tself.dfs(toppingCosts, target, base)\n",
    "\t\treturn self.ans\n",
    "\n",
    "\tdef dfs(self, topping, target, sums):\n",
    "\t\tif abs(target - sums) < abs(self.ans - target):\n",
    "\t\t\tself.ans = sums\n",
    "\t\tif sums > target: return \n",
    "\t\tfor i in range(len(topping)):\n",
    "\t\t\tself.dfs(topping[i + 1:], target, sums + 0*topping[i])\n",
    "\t\t\tself.dfs(topping[i + 1:], target, sums + 1*topping[i])\n",
    "\t\t\tself.dfs(topping[i + 1:], target, sums + 2*topping[i])"
   ]
  },
  {
   "cell_type": "code",
   "execution_count": null,
   "metadata": {},
   "outputs": [],
   "source": [
    "import copy\n",
    "class Solution:\n",
    "    def closestCost(self, base, top, t):\n",
    "        top_combo = {0}\n",
    "        for x in top:\n",
    "            top_combo_next = copy.deepcopy(top_combo)\n",
    "            for y in top_combo:\n",
    "                top_combo_next.add(y+x)\n",
    "                top_combo_next.add(y+2*x)\n",
    "            top_combo = top_combo_next\n",
    "        \n",
    "        ans = dif = math.inf\n",
    "        for x in base:\n",
    "            for y in top_combo:\n",
    "                cost = x+y\n",
    "                cdif = abs(t-cost)\n",
    "                if cdif < dif:\n",
    "                    ans, dif = cost, cdif\n",
    "                elif cdif == dif and cost < ans:\n",
    "                    ans, dif = cost, cdif\n",
    "        \n",
    "        return ans"
   ]
  },
  {
   "cell_type": "markdown",
   "metadata": {},
   "source": [
    "# 991. Broken Calculator\n"
   ]
  },
  {
   "cell_type": "code",
   "execution_count": null,
   "metadata": {},
   "outputs": [],
   "source": [
    "There is a broken calculator that has the integer startValue on its display initially. In on operation you can:\n",
    "\n",
    "multiply the number on the display by 2, or\n",
    "subtract 1 from the number on the display.\n",
    "Given two integers startValue and target, return the minimum number of operations needed to display target on the calculator."
   ]
  },
  {
   "cell_type": "raw",
   "metadata": {},
   "source": [
    "Intuition\n",
    "\n",
    "Instead of multiplying by 2 or subtracting 1 from X, we could divide by 2 (when Y is even) or add 1 to Y.\n",
    "\n",
    "The motivation for this is that it turns out we always greedily divide by 2:\n",
    "\n",
    "If say Y is even, then if we perform 2 additions and one division, we could instead perform one division and one addition for less operations [(Y+2) / 2 vs Y/2 + 1].\n",
    "\n",
    "If say Y is odd, then if we perform 3 additions and one division, we could instead perform 1 addition, 1 division, and 1 addition for less operations [(Y+3) / 2 vs (Y+1) / 2 + 1]."
   ]
  },
  {
   "cell_type": "raw",
   "metadata": {},
   "source": [
    "If X > Y, we do not have a lot of choice, we can just decrease X by one until it becomes equal to Y, so answer will be X - Y.\n",
    "If X == Y, then we already happy and we return 0.\n",
    "If Y % 2 == 1, then let us think, what can be the last step? It can not be multilication by 2, so the only choice is subtraction of 1 and on previous step we have configuration (X, Y + 1), for which we run our function recursively.\n",
    "If Y % 2 == 0, let us prove that we always need to divide by 2 in this case."
   ]
  },
  {
   "cell_type": "markdown",
   "metadata": {},
   "source": [
    "Complexity: time complexity is O(log Y), because every two iteration number decreased at least twice. Space complexity here is also O(log Y), because we use recursion. It can be made O(1) if we do it iteratively."
   ]
  },
  {
   "cell_type": "code",
   "execution_count": null,
   "metadata": {},
   "outputs": [],
   "source": [
    "def brokenCalc(self, startValue: int, target: int) -> int:\n",
    "    ans = 0\n",
    "    while target > startValue:\n",
    "        ans += 1\n",
    "        if target%2: target += 1\n",
    "        else: target //= 2\n",
    "\n",
    "    return ans + startValue-target"
   ]
  },
  {
   "cell_type": "code",
   "execution_count": null,
   "metadata": {},
   "outputs": [],
   "source": [
    "class Solution:\n",
    "    def brokenCalc(self, X, Y):\n",
    "        if X > Y: return X - Y\n",
    "        if X == Y: return 0\n",
    "        if Y % 2 == 0:\n",
    "            return self.brokenCalc(X, Y//2) + 1\n",
    "        else:\n",
    "            return self.brokenCalc(X, Y + 1) + 1"
   ]
  },
  {
   "cell_type": "code",
   "execution_count": 1,
   "metadata": {},
   "outputs": [],
   "source": [
    "curr = [[3, 4], [3, 4], [3, 4], [3, 4], [3, 4]]"
   ]
  },
  {
   "cell_type": "code",
   "execution_count": 5,
   "metadata": {},
   "outputs": [
    {
     "name": "stdout",
     "output_type": "stream",
     "text": [
      "[[3, 4], [3, 4], [3, 4], [3, 4], [3, 4]]\n"
     ]
    }
   ],
   "source": [
    "print(curr[0:])"
   ]
  },
  {
   "cell_type": "code",
   "execution_count": null,
   "metadata": {},
   "outputs": [],
   "source": []
  },
  {
   "cell_type": "code",
   "execution_count": null,
   "metadata": {},
   "outputs": [],
   "source": [
    "https://leetcode.com/problems/combination-sum/discuss/429538/General-Backtracking-questions-solutions-in-Python-for-reference-%3A"
   ]
  },
  {
   "cell_type": "markdown",
   "metadata": {},
   "source": [
    "# 39. Combination Sum\n"
   ]
  },
  {
   "cell_type": "markdown",
   "metadata": {},
   "source": [
    "Given an array of distinct integers candidates and a target integer target, return a list of all unique combinations of candidates where the chosen numbers sum to target. You may return the combinations in any order.\n",
    "\n",
    "The same number may be chosen from candidates an unlimited number of times. Two combinations are unique if the frequency of at least one of the chosen numbers is different.\n",
    "\n",
    "It is guaranteed that the number of unique combinations that sum up to target is less than 150 combinations for the given input.\n",
    "\n"
   ]
  },
  {
   "cell_type": "code",
   "execution_count": 104,
   "metadata": {},
   "outputs": [],
   "source": [
    "#correct solution DP or backtrack\n",
    "def combinationSum(candidates, target):\n",
    "    candidates.sort()\n",
    "    dp = [[] for _ in range(target+1)]\n",
    "    for t in range(1, target+1):  #dp[t] saves all combinations have t sum\n",
    "        for i in candidates:\n",
    "            if i > t: \n",
    "                break   #from now on, all sum > t, break out\n",
    "            if i == t: \n",
    "                dp[t].append([i])\n",
    "                break  #the element value equals to current target t\n",
    "            #to ensure no duplicate, the later coming item should be strictly greater than previous ones, make the result an asc sequence. \n",
    "            dp[t].extend(path + [i] for path in dp[t-i] if i >= path[-1])\n",
    "    return dp[-1]"
   ]
  }
 ],
 "metadata": {
  "kernelspec": {
   "display_name": "Python 3",
   "language": "python",
   "name": "python3"
  },
  "language_info": {
   "codemirror_mode": {
    "name": "ipython",
    "version": 3
   },
   "file_extension": ".py",
   "mimetype": "text/x-python",
   "name": "python",
   "nbconvert_exporter": "python",
   "pygments_lexer": "ipython3",
   "version": "3.7.4"
  }
 },
 "nbformat": 4,
 "nbformat_minor": 4
}
