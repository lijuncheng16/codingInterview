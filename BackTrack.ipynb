{
 "cells": [
  {
   "cell_type": "markdown",
   "metadata": {},
   "source": [
    "# 78. Subsets\n"
   ]
  },
  {
   "cell_type": "markdown",
   "metadata": {},
   "source": [
    "Given an integer array nums of unique elements, return all possible subsets (the power set).\n",
    "\n",
    "The solution set must not contain duplicate subsets. Return the solution in any order."
   ]
  },
  {
   "cell_type": "code",
   "execution_count": 13,
   "metadata": {},
   "outputs": [],
   "source": [
    "nums = [1,2,3,4]\n",
    "# Output: [[],[1],[2],[1,2],[3],[1,3],[2,3],[1,2,3]]"
   ]
  },
  {
   "cell_type": "code",
   "execution_count": 14,
   "metadata": {},
   "outputs": [],
   "source": [
    "from typing import List"
   ]
  },
  {
   "cell_type": "code",
   "execution_count": 17,
   "metadata": {},
   "outputs": [],
   "source": [
    "def subsets(nums: List[int]) -> List[List[int]]:\n",
    "\n",
    "        n = len(nums)\n",
    "\n",
    "        subset = nums\n",
    "        output = [[]]\n",
    "        \n",
    "        for num in nums:\n",
    "            output += [curr + [num] for curr in output]\n",
    "            print(output)\n",
    "        \n",
    "        return output"
   ]
  },
  {
   "cell_type": "code",
   "execution_count": 18,
   "metadata": {},
   "outputs": [
    {
     "name": "stdout",
     "output_type": "stream",
     "text": [
      "[[], [1]]\n",
      "[[], [1], [2], [1, 2]]\n",
      "[[], [1], [2], [1, 2], [3], [1, 3], [2, 3], [1, 2, 3]]\n",
      "[[], [1], [2], [1, 2], [3], [1, 3], [2, 3], [1, 2, 3], [4], [1, 4], [2, 4], [1, 2, 4], [3, 4], [1, 3, 4], [2, 3, 4], [1, 2, 3, 4]]\n"
     ]
    },
    {
     "data": {
      "text/plain": [
       "[[],\n",
       " [1],\n",
       " [2],\n",
       " [1, 2],\n",
       " [3],\n",
       " [1, 3],\n",
       " [2, 3],\n",
       " [1, 2, 3],\n",
       " [4],\n",
       " [1, 4],\n",
       " [2, 4],\n",
       " [1, 2, 4],\n",
       " [3, 4],\n",
       " [1, 3, 4],\n",
       " [2, 3, 4],\n",
       " [1, 2, 3, 4]]"
      ]
     },
     "execution_count": 18,
     "metadata": {},
     "output_type": "execute_result"
    }
   ],
   "source": [
    "subsets(nums)"
   ]
  },
  {
   "cell_type": "markdown",
   "metadata": {},
   "source": [
    "Approach 3: Lexicographic (Binary Sorted) Subsets\n",
    "The idea is that we map each subset to a bitmask of length n, where 1 on the ith position in bitmask means the presence of nums[i] in the subset, and 0 means its absence.\n",
    "\n",
    "For instance, the bitmask 0..00 (all zeros) corresponds to an empty subset, and the bitmask 1..11 (all ones) corresponds to the entire input array nums.\n",
    "\n",
    "Hence to solve the initial problem, we just need to generate n bitmasks from 0..00 to 1..11.\n",
    "\n",
    "It might seem simple at first glance to generate binary numbers, but the real problem here is how to deal with zero left padding, because one has to generate bitmasks of fixed length, i.e. 001 and not just 1. For that one could use standard bit manipulation trick:\n"
   ]
  },
  {
   "cell_type": "code",
   "execution_count": null,
   "metadata": {},
   "outputs": [],
   "source": [
    "nth_bit = 1 << n\n",
    "for i in range(2**n):\n",
    "    # generate bitmask, from 0..00 to 1..11\n",
    "    bitmask = bin(i | nth_bit)[3:]"
   ]
  },
  {
   "cell_type": "code",
   "execution_count": null,
   "metadata": {},
   "outputs": [],
   "source": [
    "for i in range(2**n, 2**(n + 1)):\n",
    "    # generate bitmask, from 0..00 to 1..11\n",
    "    bitmask = bin(i)[3:]"
   ]
  },
  {
   "cell_type": "raw",
   "metadata": {},
   "source": [
    "Generate all possible binary bitmasks of length n.\n",
    "\n",
    "Map a subset to each bitmask: 1 on the ith position in bitmask means the presence of nums[i] in the subset, and 0 means its absence.\n",
    "\n",
    "Return output list."
   ]
  },
  {
   "cell_type": "code",
   "execution_count": null,
   "metadata": {},
   "outputs": [],
   "source": [
    "class Solution:\n",
    "    def subsets(self, nums: List[int]) -> List[List[int]]:\n",
    "        n = len(nums)\n",
    "        output = []\n",
    "        \n",
    "        for i in range(2**n, 2**(n + 1)):\n",
    "            # generate bitmask, from 0..00 to 1..11\n",
    "            bitmask = bin(i)[3:]\n",
    "            \n",
    "            # append subset corresponding to that bitmask\n",
    "            output.append([nums[j] for j in range(n) if bitmask[j] == '1'])\n",
    "        \n",
    "        return output"
   ]
  }
 ],
 "metadata": {
  "kernelspec": {
   "display_name": "Python 3",
   "language": "python",
   "name": "python3"
  },
  "language_info": {
   "codemirror_mode": {
    "name": "ipython",
    "version": 3
   },
   "file_extension": ".py",
   "mimetype": "text/x-python",
   "name": "python",
   "nbconvert_exporter": "python",
   "pygments_lexer": "ipython3",
   "version": "3.8.5"
  }
 },
 "nbformat": 4,
 "nbformat_minor": 4
}
