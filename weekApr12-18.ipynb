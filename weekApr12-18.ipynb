{
 "cells": [
  {
   "cell_type": "markdown",
   "metadata": {},
   "source": [
    "# 856. Score of Parentheses\n"
   ]
  },
  {
   "cell_type": "markdown",
   "metadata": {},
   "source": [
    "Given a balanced parentheses string S, compute the score of the string based on the following rule:\n",
    "\n",
    "() has score 1\n",
    "AB has score A + B, where A and B are balanced parentheses strings.\n",
    "(A) has score 2 * A, where A is a balanced parentheses string."
   ]
  },
  {
   "cell_type": "markdown",
   "metadata": {},
   "source": [
    "Input: \"(()(()))\"\n",
    "Output: 6\n"
   ]
  },
  {
   "cell_type": "code",
   "execution_count": 1,
   "metadata": {},
   "outputs": [],
   "source": [
    "def scoreOfParentheses(self, S: str) -> int:\n",
    "        stack = [0]\n",
    "        for x in S:\n",
    "            if x == \"(\":\n",
    "                stack.append(0)\n",
    "            else:\n",
    "                val = stack.pop()\n",
    "                stack[-1] += max(2*val, 1)\n",
    "        return stack.pop()"
   ]
  },
  {
   "cell_type": "code",
   "execution_count": null,
   "metadata": {},
   "outputs": [],
   "source": [
    "def scoreOfParentheses(self, S):\n",
    "        stack, c\\o  ur = [], 0\n",
    "        for i in S:\n",
    "            if i == '(':\n",
    "                stack.append(cur)\n",
    "                cur = 0\n",
    "            else:\n",
    "                cur += stack.pop() + max(cur, 1)\n",
    "        return cur"
   ]
  },
  {
   "cell_type": "code",
   "execution_count": 6,
   "metadata": {},
   "outputs": [],
   "source": [
    "def scoreOfParentheses(S):\n",
    "    ans = bal = 0\n",
    "    for i, x in enumerate(S):\n",
    "        if x == '(':\n",
    "            bal += 1\n",
    "        else:\n",
    "            bal -= 1\n",
    "            if S[i-1] == '(':\n",
    "                ans += 1 << bal\n",
    "    return ans"
   ]
  },
  {
   "cell_type": "code",
   "execution_count": 7,
   "metadata": {},
   "outputs": [],
   "source": [
    "# \"()\"\n",
    "# \"(())\"\n",
    "# \"()()\"\n",
    "S = \"(()(()))\""
   ]
  },
  {
   "cell_type": "code",
   "execution_count": 8,
   "metadata": {},
   "outputs": [
    {
     "data": {
      "text/plain": [
       "6"
      ]
     },
     "execution_count": 8,
     "metadata": {},
     "output_type": "execute_result"
    }
   ],
   "source": [
    "scoreOfParentheses(S)"
   ]
  },
  {
   "cell_type": "markdown",
   "metadata": {},
   "source": [
    "# 332. Reconstruct Itinerary\n"
   ]
  },
  {
   "cell_type": "markdown",
   "metadata": {},
   "source": [
    "You are given a list of airline tickets where tickets[i] = [fromi, toi] represent the departure and the arrival airports of one flight. Reconstruct the itinerary in order and return it.\n",
    "\n",
    "All of the tickets belong to a man who departs from \"JFK\", thus, the itinerary must begin with \"JFK\". If there are multiple valid itineraries, you should return the itinerary that has the smallest lexical order when read as a single string.\n",
    "\n",
    "For example, the itinerary [\"JFK\", \"LGA\"] has a smaller lexical order than [\"JFK\", \"LGB\"].\n",
    "You may assume all tickets form at least one valid itinerary. You must use all the tickets once and only once."
   ]
  },
  {
   "cell_type": "code",
   "execution_count": 13,
   "metadata": {},
   "outputs": [],
   "source": [
    "from typing import List\n",
    "import collections"
   ]
  },
  {
   "cell_type": "markdown",
   "metadata": {},
   "source": [
    "### Approach 1: Backtracking + Greedy\n",
    "Intuition\n",
    "\n",
    "As common strategies for problems of graph traversal, we often apply the methodologies of backtracking or greedy. As it turns out, we can apply both of them for this problem.\n",
    "\n",
    "Typically, backtracking is used to enumerate all possible solutions for a problem, in a trial-fail-and-fallback strategy.\n",
    "\n",
    "At each airport, one might have several possible destinations to fly to. With backtracking, we enumerate each possible destination. We mark the choice at each iteration (i.e. trial) before we move on to the chosen destination. If the destination does not lead to a solution (i.e. fail), we would then fallback to the previous state and start another iteration of trial-fail-and-fallback cycle.\n",
    "\n",
    "A greedy algorithm is any algorithm that follows the problem-solving heuristic of making locally optimal choice at each step, with the intent of reaching the global optimum at the end.\n",
    "\n",
    "As suggested by its definition, a greedy algorithm does not necessarily lead to a globally optimal solution, but rather a reasonable approximation in exchange of less computing time.\n",
    "\n",
    "Nonetheless, sometimes it is the way to produce a global optimum for certain problems. This is the case for this problem as well.\n",
    "\n",
    "At each airport, given a list of possible destinations, while backtracking, at each step we would pick the destination greedily in lexical order, i.e. the one with the smallest lexical order would have its trial first.\n",
    "\n",
    "With this greedy strategy, we would ensure that the final solution that we find would have the smallest lexical order, because all other solutions that have smaller lexical order have been trialed and failed during the process of backtracking.\n",
    "\n",
    "Algorithm\n",
    "\n",
    "Here we explain how we implement a solution for this problem, by combining the strategies of backtracking and greedy.\n",
    "\n",
    "As the first step, we build a graph data structure from the given input. This graph should allow us to quickly identify a list of potential destinations, given an origin. Here we adopted the hashmap (or dictionary) data structure, with each entry as <origin, [destinations]>.\n",
    "\n",
    "Then due to our greedy strategy, we then should order the destination list for each entry in lexical order. As an alternative solution, one could use PriorityQueue data structure in the first step to keep the list of destinations, which would maintain the order at the moment of constructing the list.\n",
    "\n",
    "As the final step, we kick off the backtracking traversal on the above graph, to obtain the final result.\n",
    "\n",
    "At the beginning of the backtracking function, as the bottom case, we check if we have already obtained a valid itinerary.\n",
    "\n",
    "Otherwise, we enumerate the next destinations in order.\n",
    "\n",
    "We mark the status of visit, before and after each backtracking loop."
   ]
  },
  {
   "cell_type": "code",
   "execution_count": 6,
   "metadata": {},
   "outputs": [],
   "source": [
    "def findItinerary(tickets: List[List[str]]) -> List[str]:\n",
    "    flightMap = {}\n",
    "    for ticket in tickets:\n",
    "        origin , dest = ticket[0], ticket[1]\n",
    "        flightMap[origin] = dest\n",
    "    print(flightMap)\n",
    "    "
   ]
  },
  {
   "cell_type": "code",
   "execution_count": 27,
   "metadata": {},
   "outputs": [],
   "source": [
    "tickets = [[\"MUC\",\"LHR\"],[\"JFK\",\"MUC\"],[\"SFO\",\"SJC\"],[\"LHR\",\"SFO\"]]"
   ]
  },
  {
   "cell_type": "code",
   "execution_count": 30,
   "metadata": {},
   "outputs": [],
   "source": [
    "tickets2= [[\"JFK\",\"SFO\"],[\"JFK\",\"ATL\"],[\"SFO\",\"ATL\"],[\"ATL\",\"JFK\"],[\"ATL\",\"SFO\"]]"
   ]
  },
  {
   "cell_type": "code",
   "execution_count": 28,
   "metadata": {},
   "outputs": [
    {
     "name": "stdout",
     "output_type": "stream",
     "text": [
      "{'SFO': ['SJC'], 'MUC': ['LHR'], 'LHR': ['SFO'], 'JFK': ['MUC']}\n"
     ]
    },
    {
     "data": {
      "text/plain": [
       "['JFK', 'MUC', 'LHR', 'SFO', 'SJC']"
      ]
     },
     "execution_count": 28,
     "metadata": {},
     "output_type": "execute_result"
    }
   ],
   "source": [
    "findItinerary(tickets)"
   ]
  },
  {
   "cell_type": "markdown",
   "metadata": {},
   "source": [
    "#### backtracking and improve it to be iterative answer"
   ]
  },
  {
   "cell_type": "code",
   "execution_count": 18,
   "metadata": {},
   "outputs": [],
   "source": [
    "def findItinerary(tickets):\n",
    "    targets = collections.defaultdict(list)\n",
    "    for a, b in sorted(tickets)[::-1]:\n",
    "        targets[a] += b,\n",
    "    route = []\n",
    "    def visit(airport):\n",
    "        while targets[airport]:\n",
    "            visit(targets[airport].pop())\n",
    "        route.append(airport)\n",
    "    visit('JFK')\n",
    "    return route[::-1]"
   ]
  },
  {
   "cell_type": "code",
   "execution_count": 21,
   "metadata": {},
   "outputs": [],
   "source": [
    "def findItinerary(tickets):\n",
    "    targets = collections.defaultdict(list)\n",
    "    for a, b in sorted(tickets)[::-1]:\n",
    "        targets[a] += b,\n",
    "    route, stack = [], ['JFK']\n",
    "    while stack:\n",
    "        while targets[stack[-1]]:\n",
    "            stack += targets[stack[-1]].pop(),\n",
    "        route += stack.pop(),\n",
    "    return route[::-1]"
   ]
  },
  {
   "cell_type": "code",
   "execution_count": 26,
   "metadata": {},
   "outputs": [],
   "source": [
    "def findItinerary(tickets: List[List[str]]) -> List[str]:\n",
    "    targets = {}\n",
    "    for origin, dest in sorted(tickets)[::-1]:\n",
    "        # targets[origin].append(dest)\n",
    "        targets.setdefault(origin, []).append(dest)\n",
    "    print(targets)\n",
    "    route = []\n",
    "    def visit(airport):\n",
    "        if airport in targets:\n",
    "            while(targets[airport]):\n",
    "                visit(targets[airport].pop())\n",
    "        route.append(airport)\n",
    "    visit('JFK')\n",
    "    return(route[::-1])"
   ]
  },
  {
   "cell_type": "code",
   "execution_count": 31,
   "metadata": {},
   "outputs": [
    {
     "name": "stdout",
     "output_type": "stream",
     "text": [
      "{'SFO': ['ATL'], 'JFK': ['SFO', 'ATL'], 'ATL': ['SFO', 'JFK']}\n"
     ]
    },
    {
     "data": {
      "text/plain": [
       "['JFK', 'ATL', 'JFK', 'SFO', 'ATL', 'SFO']"
      ]
     },
     "execution_count": 31,
     "metadata": {},
     "output_type": "execute_result"
    }
   ],
   "source": [
    "findItinerary(tickets2)"
   ]
  },
  {
   "cell_type": "markdown",
   "metadata": {},
   "source": [
    "# 1041. Robot Bounded In Circle\n"
   ]
  },
  {
   "cell_type": "markdown",
   "metadata": {},
   "source": [
    "On an infinite plane, a robot initially stands at (0, 0) and faces north. The robot can receive one of three instructions:\n",
    "\n",
    "\"G\": go straight 1 unit;\n",
    "\"L\": turn 90 degrees to the left;\n",
    "\"R\": turn 90 degrees to the right.\n",
    "The robot performs the instructions given in order, and repeats them forever.\n",
    "\n",
    "Return true if and only if there exists a circle in the plane such that the robot never leaves the circle."
   ]
  },
  {
   "cell_type": "code",
   "execution_count": 33,
   "metadata": {},
   "outputs": [],
   "source": [
    "def isRobotBounded(instructions: str) -> bool:\n",
    "        # north = 0, east = 1, south = 2, west = 3\n",
    "        directions = [[0, 1], [1, 0], [0, -1], [-1, 0]]\n",
    "        # Initial position is in the center\n",
    "        x = y = 0\n",
    "        # facing north\n",
    "        idx = 0\n",
    "        \n",
    "        for i in instructions:\n",
    "            if i == \"L\":\n",
    "                idx = (idx + 3) % 4\n",
    "            elif i == \"R\":\n",
    "                idx = (idx + 1) % 4\n",
    "            else:\n",
    "                x += directions[idx][0]\n",
    "                y += directions[idx][1]\n",
    "        \n",
    "        # after one cycle:\n",
    "        # robot returns into initial position\n",
    "        # or robot doesn't face north\n",
    "        return (x == 0 and y == 0) or idx != 0"
   ]
  },
  {
   "cell_type": "code",
   "execution_count": 34,
   "metadata": {},
   "outputs": [],
   "source": [
    "instructions = \"GGLLGG\""
   ]
  },
  {
   "cell_type": "code",
   "execution_count": 35,
   "metadata": {},
   "outputs": [
    {
     "data": {
      "text/plain": [
       "True"
      ]
     },
     "execution_count": 35,
     "metadata": {},
     "output_type": "execute_result"
    }
   ],
   "source": [
    "isRobotBounded(instructions)"
   ]
  },
  {
   "cell_type": "markdown",
   "metadata": {},
   "source": [
    "# 210. Course Schedule II\n"
   ]
  },
  {
   "cell_type": "markdown",
   "metadata": {},
   "source": [
    "There are a total of n courses you have to take labelled from 0 to n - 1.\n",
    "\n",
    "Some courses may have prerequisites, for example, if prerequisites[i] = [ai, bi] this means you must take the course bi before the course ai.\n",
    "\n",
    "Given the total number of courses numCourses and a list of the prerequisite pairs, return the ordering of courses you should take to finish all courses.\n",
    "\n",
    "If there are many valid answers, return any of them. If it is impossible to finish all courses, return an empty array."
   ]
  },
  {
   "cell_type": "code",
   "execution_count": 9,
   "metadata": {},
   "outputs": [],
   "source": [
    "numCourses = 4\n",
    "prerequisites = [[1,0],[2,0],[3,1],[3,2]]"
   ]
  },
  {
   "cell_type": "code",
   "execution_count": 10,
   "metadata": {},
   "outputs": [],
   "source": [
    "from typing import List"
   ]
  },
  {
   "cell_type": "code",
   "execution_count": 27,
   "metadata": {},
   "outputs": [],
   "source": [
    "def findOrder(numCourses: int, prerequisites: List[List[int]]) -> List[int]:\n",
    "    course_dic = {}\n",
    "    max_prereq = 0\n",
    "    for course, prereq in prerequisites:\n",
    "        course_dic.setdefault(course, []).append(prereq)\n",
    "        max_prereq = max(len(course_dic[course]),max_prereq)\n",
    "    print(course_dic)\n",
    "    result = []\n",
    "    visited = [0 for x in range(numCourses)]\n",
    "    for x in range(numCourses):\n",
    "        if x in course_dic:\n",
    "            if not DFS(x,visited, course_dic, result):\n",
    "                return []\n",
    "    print(result)\n",
    "    return result\n",
    "\n",
    "def DFS(node, visited, course_dic, result):\n",
    "    if visited[node] == -1:\n",
    "        return False\n",
    "    if visited[node] == 1:\n",
    "        return True\n",
    "    visited[node] = -1\n",
    "    for cour in course_dic[node]:\n",
    "        if not DFS(node, visited, course_dic, result):\n",
    "            return False\n",
    "    visited[node] = 1\n",
    "    result.append(node)\n",
    "    return True"
   ]
  },
  {
   "cell_type": "code",
   "execution_count": 28,
   "metadata": {},
   "outputs": [
    {
     "name": "stdout",
     "output_type": "stream",
     "text": [
      "{1: [0], 2: [0], 3: [1, 2]}\n"
     ]
    },
    {
     "data": {
      "text/plain": [
       "[]"
      ]
     },
     "execution_count": 28,
     "metadata": {},
     "output_type": "execute_result"
    }
   ],
   "source": [
    "findOrder(numCourses, prerequisites)"
   ]
  },
  {
   "cell_type": "code",
   "execution_count": 15,
   "metadata": {},
   "outputs": [],
   "source": [
    "def findOrder(self, numCourses: int, prerequisites: List[List[int]]) -> List[int]:\n",
    "        # @param {integer} numCourses\n",
    "        # @param {integer[][]} prerequisites\n",
    "        # @return {integer[]}\n",
    "        # use DFS to parse the course structure\n",
    "        self.graph = collections.defaultdict(list) # a graph for all courses\n",
    "        self.res = [] # start from empty\n",
    "        for pair in prerequisites:\n",
    "            self.graph[pair[0]].append(pair[1]) \n",
    "        self.visited = [0 for x in range(numCourses)] # DAG detection \n",
    "        for x in range(numCourses):\n",
    "            if not self.DFS(x):\n",
    "                return []\n",
    "             # continue to search the whole graph\n",
    "        return self.res\n",
    "\n",
    "def DFS(self, node):\n",
    "    if self.visited[node] == -1: # cycle detected\n",
    "        return False\n",
    "    if self.visited[node] == 1:\n",
    "        return True # has been finished, and been added to self.res\n",
    "    self.visited[node] = -1 # mark as visited\n",
    "    for x in self.graph[node]:\n",
    "        if not self.DFS(x):\n",
    "            return False\n",
    "    self.visited[node] = 1 # mark as finished\n",
    "    self.res.append(node) # add to solution as the course depenedent on previous ones\n",
    "    return True"
   ]
  },
  {
   "cell_type": "markdown",
   "metadata": {},
   "source": [
    "This is the classical problem about topological sort: (for more details you can look https://en.wikipedia.org/wiki/Topological_sorting). The basic idea of topological for directed graphs is to check if there cycle in this graph. For example if you have in your schedule dependencies like 0 -> 5, 5-> 3 and 3 -> 0, then we say, that cycle exists and in this case we need to return False.\n",
    "\n",
    "There are different ways to do topological sort, I prefer to use dfs. The idea is to use classical dfs traversal, but color our nodes into 3 different colors, 0 (white) for node which is not visited yet, 1 (gray) for node which is in process of visiting (not all its neibours are processed), and 2 (black) for node which is fully visited (all its neibours are already processed). The proof can be found for example in classical Cormen book (note, that here we have slightly different notation with inversed edges, so we do not need to reverse list in the end).\n",
    "\n",
    "So, basically we have three variables: self.Visited = [0] * numCourses where we keep our colors, define self.FoundCycle = 0, we keep it for early stopping, if we found cycle we do not need to continue and we can iterrurupt earlier and Ans is the list we need to return of fully visited nodes. Note, that graph can be not necessarily connected, so we need to start our dfs from all nodes.\n",
    "\n",
    "Comlexity. We use classical dfs, so time comlexity is O(E+V), where E is number of edges and V is number of vertices. Space complexity is also O(E+V) because we work with adjacency lists."
   ]
  },
  {
   "cell_type": "code",
   "execution_count": 29,
   "metadata": {},
   "outputs": [],
   "source": [
    "class Solution:\n",
    "    def findOrder(self, numCourses, prerequisites):\n",
    "        self.adj_dict = defaultdict(set)\n",
    "        for i, j in prerequisites:\n",
    "            self.adj_dict[i].add(j)\n",
    "\n",
    "        self.Visited = [0] * numCourses\n",
    "        self.Ans, self.FoundCycle = [], 0\n",
    "        \n",
    "        for i in range(numCourses):\n",
    "            if self.FoundCycle == 1: break      # early stop if the loop is found\n",
    "            if self.Visited[i] == 0:\n",
    "                self.dfs(i)\n",
    "     \n",
    "        return [] if self.FoundCycle == 1 else self.Ans\n",
    "\n",
    "    def dfs(self, start):\n",
    "        if self.FoundCycle == 1:   return     # early stop if the loop is found    \n",
    "        if self.Visited[start] == 1:\n",
    "            self.FoundCycle = 1               # loop is found\n",
    "        if self.Visited[start] == 0:           # node is not visited yet, visit it\n",
    "            self.Visited[start] = 1             # color current node as gray\n",
    "            for neib in self.adj_dict[start]:   # visit all its neibours\n",
    "                self.dfs(neib)\n",
    "            self.Visited[start] = 2             # color current node as black\n",
    "            self.Ans.append(start)              # add node to answer"
   ]
  },
  {
   "cell_type": "markdown",
   "metadata": {},
   "source": [
    "# 207. Course Schedule\n"
   ]
  },
  {
   "cell_type": "markdown",
   "metadata": {},
   "source": [
    "There are a total of numCourses courses you have to take, labeled from 0 to numCourses - 1. You are given an array prerequisites where prerequisites[i] = [ai, bi] indicates that you must take course bi first if you want to take course ai.\n",
    "\n",
    "For example, the pair [0, 1], indicates that to take course 0 you have to first take course 1.\n",
    "Return true if you can finish all courses. Otherwise, return false."
   ]
  },
  {
   "cell_type": "markdown",
   "metadata": {},
   "source": [
    "Approach 1: Backtracking\n",
    "Intuition\n",
    "\n",
    "The problem could be modeled as yet another graph traversal problem, where each course can be represented as a vertex in a graph and the dependency between the courses can be modeled as a directed edge between two vertex.\n",
    "\n",
    "And the problem to determine if one could build a valid schedule of courses that satisfies all the dependencies (i.e. constraints) would be equivalent to determine if the corresponding graph is a DAG (Directed Acyclic Graph), i.e. there is no cycle existed in the graph.\n",
    "\n",
    "pic\n",
    "\n",
    "A typical strategy for graph traversal problems would be backtracking or simply DFS (depth-first search).\n",
    "\n",
    "Here let us start with the backtracking algorithm, which arguably might be more intuitive.\n",
    "\n",
    "As a reminder, backtracking is a general algorithm that is often applied to solve the constraint satisfaction problems, which incrementally builds candidates to the solutions, and abandons a candidate (i.e. backtracks) as soon as it determines that the candidate would not lead to a valid solution.\n",
    "\n",
    "The general idea here is that we could enumerate each course (vertex), to check if it could form cyclic dependencies (i.e. a cyclic path) starting from this course.\n",
    "\n",
    "The check of cyclic dependencies for each course could be done via backtracking, where we incrementally follow the dependencies until either there is no more dependency or we come across a previously visited course along the path.\n",
    "\n",
    "Algorithm\n",
    "\n",
    "The overall structure of the algorithm is simple, which consists of three main steps:\n",
    "\n",
    "Step 1). we build a graph data structure from the given list of course dependencies. Here we adopt the adjacency list data structure as shown below to represent the graph, which can be implemented via hashmap or dictionary. Each entry in the adjacency list represents a node which consists of a node index and a list of neighbors nodes that follow from the node. pic\n",
    "Step 2). we then enumerate each node (course) in the constructed graph, to check if we could form a dependency cycle starting from the node.\n",
    "Step 3). we perform the cyclic check via backtracking, where we breadcrumb our path (i.e. mark the nodes we visited) to detect if we come across a previously visited node (hence a cycle detected). We also remove the breadcrumbs for each iteration."
   ]
  },
  {
   "cell_type": "code",
   "execution_count": 30,
   "metadata": {},
   "outputs": [],
   "source": [
    "class Solution(object):\n",
    "    def canFinish(self, numCourses, prerequisites):\n",
    "        \"\"\"\n",
    "        :type numCourses: int\n",
    "        :type prerequisites: List[List[int]]\n",
    "        :rtype: bool\n",
    "        \"\"\"\n",
    "        from collections import defaultdict\n",
    "        courseDict = defaultdict(list)\n",
    "\n",
    "        for relation in prerequisites:\n",
    "            nextCourse, prevCourse = relation[0], relation[1]\n",
    "            courseDict[prevCourse].append(nextCourse)\n",
    "\n",
    "        path = [False] * numCourses\n",
    "        for currCourse in range(numCourses):\n",
    "            if self.isCyclic(currCourse, courseDict, path):\n",
    "                return False\n",
    "        return True\n",
    "\n",
    "\n",
    "    def isCyclic(self, currCourse, courseDict, path):\n",
    "        \"\"\"\n",
    "        backtracking method to check that no cycle would be formed starting from currCourse\n",
    "        \"\"\"\n",
    "        if path[currCourse]:\n",
    "            # come across a previously visited node, i.e. detect the cycle\n",
    "            return True\n",
    "\n",
    "        # before backtracking, mark the node in the path\n",
    "        path[currCourse] = True\n",
    "\n",
    "        # backtracking\n",
    "        ret = False\n",
    "        for child in courseDict[currCourse]:\n",
    "            ret = self.isCyclic(child, courseDict, path)\n",
    "            if ret: break\n",
    "\n",
    "        # after backtracking, remove the node from the path\n",
    "        path[currCourse] = False\n",
    "        return ret"
   ]
  },
  {
   "cell_type": "markdown",
   "metadata": {},
   "source": [
    "# 843. Guess the Word (Very Hard!!!)\n"
   ]
  },
  {
   "cell_type": "markdown",
   "metadata": {},
   "source": [
    "This is an interactive problem.\n",
    "\n",
    "You are given an array of unique strings wordlist where wordlist[i] is 6 letters long, and one word in this list is chosen as secret.\n",
    "\n",
    "You may call Master.guess(word) to guess a word. The guessed word should have type string and must be from the original list with 6 lowercase letters.\n",
    "\n",
    "This function returns an integer type, representing the number of exact matches (value and position) of your guess to the secret word. Also, if your guess is not in the given wordlist, it will return -1 instead.\n",
    "\n",
    "For each test case, you have exactly 10 guesses to guess the word. At the end of any number of calls, if you have made 10 or fewer calls to Master.guess and at least one of these guesses was secret, then you pass the test case."
   ]
  },
  {
   "cell_type": "code",
   "execution_count": null,
   "metadata": {},
   "outputs": [],
   "source": [
    "def match(self, w1, w2):\n",
    "    return sum(i == j for i, j in zip(w1, w2))"
   ]
  },
  {
   "cell_type": "markdown",
   "metadata": {},
   "source": [
    "#### Solution 2.1: Shuffle the Wordlist\n",
    "I didn't give up the previous idea, it's not that bad.\n",
    "So I decided to try my luck by shuffling wordlist at the beginning.\n",
    "\n",
    "Note that it may sound some unreliable,\n",
    "but actully randomicity is very useful trick in both competition and reality problem.\n",
    "\n",
    "This method can get accepted but not for sure.\n",
    "After manualy testing locally,\n",
    "on Leetcode's test cases set and random test cases set,\n",
    "it has roughly 70% rate to get accepted.\n",
    "\n",
    "Time complexity O(N)\n",
    "Space complexity O(N)\n"
   ]
  },
  {
   "cell_type": "code",
   "execution_count": 31,
   "metadata": {},
   "outputs": [],
   "source": [
    "def findSecretWord(self, wordlist: List[str], master: 'Master') -> None:\n",
    "    random.shuffle(wordlist)\n",
    "    for i in range(10):\n",
    "        guess = random.choice(wordlist)\n",
    "        x = master.guess(guess)\n",
    "        wordlist = [w for w in wordlist if sum(i == j for i, j in zip(guess, w)) == x] # choose the word at least has the same match with the guessed word"
   ]
  },
  {
   "cell_type": "markdown",
   "metadata": {},
   "source": [
    "#### Solution 2.2: Guess a Random Word\n",
    "All words are generated randomly.\n",
    "So why not we also guess a random word and let it be whatever will be.\n",
    "This is actually the same as the previous solution.\n",
    "Though we don't need one more O(N) operation to shuffle the wordlist at first.\n",
    "\n",
    "Time complexity O(N)\n",
    "Space complexity O(N)"
   ]
  },
  {
   "cell_type": "code",
   "execution_count": 32,
   "metadata": {},
   "outputs": [],
   "source": [
    "def findSecretWord(self, wordlist, master):\n",
    "    for i in range(10):\n",
    "        guess = random.choice(wordlist)\n",
    "        x = master.guess(guess)\n",
    "        wordlist = [w for w in wordlist if sum(i == j for i, j in zip(guess, w)) == x]"
   ]
  },
  {
   "cell_type": "markdown",
   "metadata": {},
   "source": [
    "#### Solution 3: Minimax\n",
    "Now we want to try a better solution.\n",
    "Generally, we will get 0 matches from the master.guess.\n",
    "As a result, the size of wordlist reduces slowly.\n",
    "\n",
    "Recall some math here, the possiblity that get 0 matched is:\n",
    "(25/26) ^ 6 = 79.03%\n",
    "\n",
    "That is to say, if we make a blind guess,\n",
    "we have about 80% chance to get 0 matched with the secret word.\n",
    "\n",
    "To simplify the model,\n",
    "we're going to assume that,\n",
    "we will always run into the worst case (get 0 matched).\n",
    "\n",
    "In this case,\n",
    "we have 80% chance to eliminate the candidate word\n",
    "as well as its close words which have at least 1 match.\n",
    "\n",
    "Additionally, in order to delete a max part of words,\n",
    "we select a candidate who has a big \"family\",\n",
    "(that is, the fewest 0 matched with other words.)\n",
    "We want to guess a word that can minimum our worst outcome.\n",
    "\n",
    "So we compare each two words and count their matches.\n",
    "For each word, we note how many word of 0 matches it gets.\n",
    "Then we guess the word with minimum words of 0 matches.\n",
    "\n",
    "In this solution, we apply a minimax idea.\n",
    "We minimize our worst case,\n",
    "The worst case is max(the number of words with x matches),\n",
    "and we assume it equal to \"the number of words with 0 matches\"\n",
    "\n",
    "Time complexity O(N^2)\n",
    "Space complexity O(N)"
   ]
  },
  {
   "cell_type": "code",
   "execution_count": 33,
   "metadata": {},
   "outputs": [],
   "source": [
    "def findSecretWord(self, wordlist, master):\n",
    "        x = 0\n",
    "        while x < 6:\n",
    "            count = collections.Counter(w1 for w1, w2 in itertools.permutations(wordlist, 2) if self.match(w1, w2) == 0)\n",
    "            guess = min(wordlist, key=lambda w: count[w])\n",
    "            x = master.guess(guess)\n",
    "            wordlist = [w for w in wordlist if self.match(w, guess) == x]"
   ]
  },
  {
   "cell_type": "markdown",
   "metadata": {},
   "source": [
    "#### Solution 4: Count the Occurrence of Characters\n",
    "In the previous solution, we compaired each two words.\n",
    "This make the complexity O(N^2) for each turn.\n",
    "\n",
    "But actually we don't have to do that.\n",
    "We just need to count the occurrence for each character on each position.\n",
    "\n",
    "If we can guess the word that not in the wordlist,\n",
    "we can guess the word based on the most frequent character on the position.\n",
    "\n",
    "Here we have to guess a word from the list,\n",
    "we still can calculate a score of similarity for each word,\n",
    "and guess the word with highest score.\n",
    "\n",
    "Time complexity O(N)\n",
    "Space complexity O(N)"
   ]
  },
  {
   "cell_type": "code",
   "execution_count": 35,
   "metadata": {},
   "outputs": [],
   "source": [
    "def findSecretWord(self, wordlist, master):\n",
    "        def match(w1, w2):\n",
    "            return sum(i == j for i, j in zip(w1, w2))\n",
    "\n",
    "        n = 0\n",
    "        while n < 6:\n",
    "            count = [collections.Counter(w[i] for w in wordlist) for i in xrange(6)]\n",
    "            guess = max(wordlist, key=lambda w: sum(count[i][c] for i, c in enumerate(w)))\n",
    "            n = master.guess(guess)\n",
    "            wordlist = [w for w in wordlist if match(w, guess) == n]"
   ]
  },
  {
   "cell_type": "markdown",
   "metadata": {},
   "source": [
    "# 362. Design Hit Counter\n"
   ]
  },
  {
   "cell_type": "markdown",
   "metadata": {},
   "source": [
    "Design a hit counter which counts the number of hits received in the past 5 minutes (i.e., the past 300 seconds).\n",
    "\n",
    "Your system should accept a timestamp parameter (in seconds granularity), and you may assume that calls are being made to the system in chronological order (i.e., timestamp is monotonically increasing). Several hits may arrive roughly at the same time.\n",
    "\n",
    "Implement the HitCounter class:\n",
    "\n",
    "HitCounter() Initializes the object of the hit counter system.\n",
    "void hit(int timestamp) Records a hit that happened at timestamp (in seconds). Several hits may happen at the same timestamp.\n",
    "int getHits(int timestamp) Returns the number of hits in the past 5 minutes from timestamp (i.e., the past 300 seconds).\n",
    " \n",
    "\n"
   ]
  },
  {
   "cell_type": "raw",
   "metadata": {},
   "source": [
    "Input\n",
    "[\"HitCounter\", \"hit\", \"hit\", \"hit\", \"getHits\", \"hit\", \"getHits\", \"getHits\"]\n",
    "[[], [1], [2], [3], [4], [300], [300], [301]]\n",
    "Output\n",
    "[null, null, null, null, 3, null, 4, 3]\n",
    "\n",
    "Explanation\n",
    "HitCounter hitCounter = new HitCounter();\n",
    "hitCounter.hit(1);       // hit at timestamp 1.\n",
    "hitCounter.hit(2);       // hit at timestamp 2.\n",
    "hitCounter.hit(3);       // hit at timestamp 3.\n",
    "hitCounter.getHits(4);   // get hits at timestamp 4, return 3.\n",
    "hitCounter.hit(300);     // hit at timestamp 300.\n",
    "hitCounter.getHits(300); // get hits at timestamp 300, return 4.\n",
    "hitCounter.getHits(301); // get hits at timestamp 301, return 3.\n"
   ]
  },
  {
   "cell_type": "code",
   "execution_count": null,
   "metadata": {},
   "outputs": [],
   "source": [
    "class HitCounter:\n",
    "\n",
    "    def __init__(self):\n",
    "        \"\"\"\n",
    "        Initialize your data structure here.\n",
    "        \"\"\"\n",
    "        init_vals = [0]*300\n",
    "        self.queue = deque(init_vals, maxlen = 300)\n",
    "        self.oldest = 0\n",
    "\n",
    "    def hit(self, timestamp: int) -> None:\n",
    "        \"\"\"\n",
    "        Record a hit.\n",
    "        @param timestamp - The current timestamp (in seconds granularity).\n",
    "        \"\"\"\n",
    "        if timestamp >300:\n",
    "            if timestamp-300-self.oldest>300:\n",
    "                init_vals = [0]*300\n",
    "                self.queue = deque(init_vals, maxlen = 300)\n",
    "            else:\n",
    "                for i in range(timestamp-300-self.oldest):\n",
    "                    self.queue.popleft() \n",
    "                    self.queue.append(0) \n",
    "            self.oldest = timestamp - 300\n",
    "            self.queue[-1] +=1\n",
    "            # print(\"timestamp:\",timestamp, \"queue:\", self.queue)\n",
    "\n",
    "        else:\n",
    "            self.queue[timestamp-1] +=1\n",
    "            # print('else:',\"timestamp:\",timestamp, \"queue:\", self.queue)\n",
    "\n",
    "        \n",
    "\n",
    "    def getHits(self, timestamp: int) -> int:\n",
    "        \"\"\"\n",
    "        Return the number of hits in the past 5 minutes.\n",
    "        @param timestamp - The current timestamp (in seconds granularity).\n",
    "        \"\"\"\n",
    "        result = 0\n",
    "        if timestamp> 300:\n",
    "            if timestamp-300-self.oldest>300:\n",
    "                init_vals = [0]*300\n",
    "                self.queue = deque(init_vals, maxlen = 300)\n",
    "            else:\n",
    "                for i in range(timestamp-300-self.oldest):\n",
    "                    self.queue.popleft() \n",
    "                    self.queue.append(0) \n",
    "            self.oldest = timestamp - 300\n",
    "            # print(\"timestamp:\",timestamp, \"queue:\", self.queue)\n",
    "\n",
    "            result = sum(self.queue)\n",
    "        else:\n",
    "            for i in range(timestamp):\n",
    "                result+= self.queue[i]\n",
    "        return result\n",
    "        \n",
    "\n",
    "\n",
    "# Your HitCounter object will be instantiated and called as such:\n",
    "# obj = HitCounter()\n",
    "# obj.hit(timestamp)\n",
    "# param_2 = obj.getHits(timestamp)\n",
    "\n",
    "\n",
    "# Your HitCounter object will be instantiated and called as such:\n",
    "# obj = HitCounter()\n",
    "# obj.hit(timestamp)\n",
    "# param_2 = obj.getHits(timestamp)"
   ]
  },
  {
   "cell_type": "markdown",
   "metadata": {},
   "source": [
    "Complexity Analysis\n",
    "\n",
    "Time Complexity\n",
    "\n",
    "hit - Since inserting a value in the queue takes place in O(1)O(1) time, hence hit method works in O(1)O(1).\n",
    "\n",
    "getHits - Assuming a total of nn values present in the queue at a time and the total number of timestamps encountered throughout is NN. In the worst case scenario, we might end up removing all the entries from the queue in getHits method if the difference in timestamp is greater than or equal to 300. Hence in the worst case, a \"single\" call to the getHits method can take O(n)O(n) time. However, we must notice that each timestamp is processed only twice (first while adding the timestamp in the queue in hit method and second while removing the timestamp from the queue in the getHits method). Hence if the total number of timestamps encountered throughout is NN, the overall time taken by getHits method is O(N)O(N). This results in an amortized time complexity of O(1)O(1) for a single call to getHits method.\n",
    "\n",
    "Space Complexity: Considering the total timestamps encountered throughout to be NN, the queue can have upto NN elements, hence overall space complexity of this approach is O(N)O(N).\n",
    "\n"
   ]
  },
  {
   "cell_type": "code",
   "execution_count": 36,
   "metadata": {},
   "outputs": [
    {
     "ename": "SyntaxError",
     "evalue": "invalid syntax (<ipython-input-36-40afbb7a7d1f>, line 1)",
     "output_type": "error",
     "traceback": [
      "\u001b[0;36m  File \u001b[0;32m\"<ipython-input-36-40afbb7a7d1f>\"\u001b[0;36m, line \u001b[0;32m1\u001b[0m\n\u001b[0;31m    class HitCounter {\u001b[0m\n\u001b[0m                     ^\u001b[0m\n\u001b[0;31mSyntaxError\u001b[0m\u001b[0;31m:\u001b[0m invalid syntax\n"
     ]
    }
   ],
   "source": [
    "class HitCounter {\n",
    "    private Queue<Integer> hits; \n",
    "\n",
    "    /** Initialize your data structure here. */\n",
    "    public HitCounter() {\n",
    "        this.hits = new LinkedList<Integer>();\n",
    "    }\n",
    "    \n",
    "    /** Record a hit.\n",
    "        @param timestamp - The current timestamp (in seconds granularity). */\n",
    "    public void hit(int timestamp) {\n",
    "        this.hits.add(timestamp);\n",
    "    }\n",
    "    \n",
    "    /** Return the number of hits in the past 5 minutes.\n",
    "        @param timestamp - The current timestamp (in seconds granularity). */\n",
    "    public int getHits(int timestamp) {\n",
    "        while (!this.hits.isEmpty()) {\n",
    "            int diff = timestamp - this.hits.peek();\n",
    "            if (diff >= 300) this.hits.remove();\n",
    "            else break;\n",
    "        }\n",
    "        return this.hits.size();\n",
    "    }\n",
    "}"
   ]
  },
  {
   "cell_type": "code",
   "execution_count": null,
   "metadata": {},
   "outputs": [],
   "source": []
  }
 ],
 "metadata": {
  "kernelspec": {
   "display_name": "Python 3",
   "language": "python",
   "name": "python3"
  },
  "language_info": {
   "codemirror_mode": {
    "name": "ipython",
    "version": 3
   },
   "file_extension": ".py",
   "mimetype": "text/x-python",
   "name": "python",
   "nbconvert_exporter": "python",
   "pygments_lexer": "ipython3",
   "version": "3.7.4"
  }
 },
 "nbformat": 4,
 "nbformat_minor": 4
}
