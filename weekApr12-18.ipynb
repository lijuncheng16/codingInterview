{
 "cells": [
  {
   "cell_type": "markdown",
   "metadata": {},
   "source": [
    "# 856. Score of Parentheses\n"
   ]
  },
  {
   "cell_type": "markdown",
   "metadata": {},
   "source": [
    "Given a balanced parentheses string S, compute the score of the string based on the following rule:\n",
    "\n",
    "() has score 1\n",
    "AB has score A + B, where A and B are balanced parentheses strings.\n",
    "(A) has score 2 * A, where A is a balanced parentheses string."
   ]
  },
  {
   "cell_type": "markdown",
   "metadata": {},
   "source": [
    "Input: \"(()(()))\"\n",
    "Output: 6\n"
   ]
  },
  {
   "cell_type": "code",
   "execution_count": 1,
   "metadata": {},
   "outputs": [],
   "source": [
    "def scoreOfParentheses(self, S: str) -> int:\n",
    "        stack = [0]\n",
    "        for x in S:\n",
    "            if x == \"(\":\n",
    "                stack.append(0)\n",
    "            else:\n",
    "                val = stack.pop()\n",
    "                stack[-1] += max(2*val, 1)\n",
    "        return stack.pop()"
   ]
  },
  {
   "cell_type": "code",
   "execution_count": null,
   "metadata": {},
   "outputs": [],
   "source": [
    "def scoreOfParentheses(self, S):\n",
    "        stack, c\\o  ur = [], 0\n",
    "        for i in S:\n",
    "            if i == '(':\n",
    "                stack.append(cur)\n",
    "                cur = 0\n",
    "            else:\n",
    "                cur += stack.pop() + max(cur, 1)\n",
    "        return cur"
   ]
  },
  {
   "cell_type": "code",
   "execution_count": 6,
   "metadata": {},
   "outputs": [],
   "source": [
    "def scoreOfParentheses(S):\n",
    "    ans = bal = 0\n",
    "    for i, x in enumerate(S):\n",
    "        if x == '(':\n",
    "            bal += 1\n",
    "        else:\n",
    "            bal -= 1\n",
    "            if S[i-1] == '(':\n",
    "                ans += 1 << bal\n",
    "    return ans"
   ]
  },
  {
   "cell_type": "code",
   "execution_count": 7,
   "metadata": {},
   "outputs": [],
   "source": [
    "# \"()\"\n",
    "# \"(())\"\n",
    "# \"()()\"\n",
    "S = \"(()(()))\""
   ]
  },
  {
   "cell_type": "code",
   "execution_count": 8,
   "metadata": {},
   "outputs": [
    {
     "data": {
      "text/plain": [
       "6"
      ]
     },
     "execution_count": 8,
     "metadata": {},
     "output_type": "execute_result"
    }
   ],
   "source": [
    "scoreOfParentheses(S)"
   ]
  },
  {
   "cell_type": "code",
   "execution_count": null,
   "metadata": {},
   "outputs": [],
   "source": []
  }
 ],
 "metadata": {
  "kernelspec": {
   "display_name": "Python 3",
   "language": "python",
   "name": "python3"
  },
  "language_info": {
   "codemirror_mode": {
    "name": "ipython",
    "version": 3
   },
   "file_extension": ".py",
   "mimetype": "text/x-python",
   "name": "python",
   "nbconvert_exporter": "python",
   "pygments_lexer": "ipython3",
   "version": "3.7.4"
  }
 },
 "nbformat": 4,
 "nbformat_minor": 4
}
