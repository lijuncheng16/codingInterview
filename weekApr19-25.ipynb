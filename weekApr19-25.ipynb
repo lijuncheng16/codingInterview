{
 "cells": [
  {
   "cell_type": "markdown",
   "metadata": {},
   "source": [
    "# 394. Decode String\n"
   ]
  },
  {
   "cell_type": "markdown",
   "metadata": {},
   "source": [
    "Given an encoded string, return its decoded string.\n",
    "\n",
    "The encoding rule is: k[encoded_string], where the encoded_string inside the square brackets is being repeated exactly k times. Note that k is guaranteed to be a positive integer.\n",
    "\n",
    "You may assume that the input string is always valid; No extra white spaces, square brackets are well-formed, etc.\n",
    "\n",
    "Furthermore, you may assume that the original data does not contain any digits and that digits are only for those repeat numbers, k. For example, there won't be input like 3a or 2[4].\n",
    "\n",
    " "
   ]
  },
  {
   "cell_type": "code",
   "execution_count": 9,
   "metadata": {},
   "outputs": [],
   "source": [
    "def decodeString(s: str) -> str:\n",
    "    stack = [[1, \"\"]] #The score of the current frame\n",
    "\n",
    "    for ind, x in enumerate(s):\n",
    "        if x.isnumeric():\n",
    "            if s[ind-1].isnumeric():\n",
    "                stack[-1][0]+=x\n",
    "            else:\n",
    "                stack.append([x, \"\"])\n",
    "        elif x == '[':\n",
    "            continue\n",
    "        elif x == ']':\n",
    "            v = stack.pop()\n",
    "            stack[-1][1] += int(v[0]) * v[1]\n",
    "        else:\n",
    "            stack[-1][1] += x\n",
    "        # print(stack)\n",
    "    return stack.pop()[1]"
   ]
  },
  {
   "cell_type": "code",
   "execution_count": 13,
   "metadata": {},
   "outputs": [],
   "source": [
    "s = \"100[leet]\""
   ]
  },
  {
   "cell_type": "code",
   "execution_count": 11,
   "metadata": {},
   "outputs": [],
   "source": [
    "s = \"2[abc]3[cd]ef\""
   ]
  },
  {
   "cell_type": "code",
   "execution_count": 14,
   "metadata": {},
   "outputs": [
    {
     "data": {
      "text/plain": [
       "'leetleetleetleetleetleetleetleetleetleetleetleetleetleetleetleetleetleetleetleetleetleetleetleetleetleetleetleetleetleetleetleetleetleetleetleetleetleetleetleetleetleetleetleetleetleetleetleetleetleetleetleetleetleetleetleetleetleetleetleetleetleetleetleetleetleetleetleetleetleetleetleetleetleetleetleetleetleetleetleetleetleetleetleetleetleetleetleetleetleetleetleetleetleetleetleetleetleetleetleet'"
      ]
     },
     "execution_count": 14,
     "metadata": {},
     "output_type": "execute_result"
    }
   ],
   "source": [
    "decodeString(s)"
   ]
  },
  {
   "cell_type": "markdown",
   "metadata": {},
   "source": [
    "# 880. Decoded String at Index\n"
   ]
  },
  {
   "cell_type": "markdown",
   "metadata": {},
   "source": [
    "An encoded string S is given.  To find and write the decoded string to a tape, the encoded string is read one character at a time and the following steps are taken:\n",
    "\n",
    "If the character read is a letter, that letter is written onto the tape.\n",
    "If the character read is a digit (say d), the entire current tape is repeatedly written d-1 more times in total.\n",
    "Now for some encoded string S, and an index K, find and return the K-th letter (1 indexed) in the decoded string."
   ]
  },
  {
   "cell_type": "markdown",
   "metadata": {},
   "source": [
    "Input: S = \"leet2code3\", K = 10\n",
    "Output: \"o\"\n",
    "Explanation: \n",
    "The decoded string is \"leetleetcodeleetleetcodeleetleetcode\".\n",
    "The 10th letter in the string is \"o\"."
   ]
  },
  {
   "cell_type": "code",
   "execution_count": 18,
   "metadata": {},
   "outputs": [],
   "source": [
    "def decodeAtIndex(S: str, K: int) -> str:\n",
    "    tape = [[\"\",0]]\n",
    "    for ind, char in enumerate(S):\n",
    "        if char.isnumeric():\n",
    "                tape.append([char, tape[-1][1]*int(char)])\n",
    "        else:\n",
    "            if tape[-1][0].isnumeric():\n",
    "                tape.append([char,tape[-1][1]+1])\n",
    "            else:\n",
    "                tape[-1][0]+=char\n",
    "                tape[-1][1]+=1\n",
    "                if tape[-1][1] == K:\n",
    "                    return tape[-1][0][-1]\n",
    "        print(tape)\n",
    "        if tape[-1][1] >= K:\n",
    "            result = \"\"\n",
    "            for record in tape:\n",
    "                if record[0].isnumeric():\n",
    "                    result = result * int(record[0])\n",
    "                else:\n",
    "                    result += record[0]\n",
    "                # print(result)\n",
    "            return result[K-1]"
   ]
  },
  {
   "cell_type": "code",
   "execution_count": 19,
   "metadata": {},
   "outputs": [],
   "source": [
    "S=\"cpmxv8ewnfk3xxcilcmm68d2ygc88daomywc3imncfjgtwj8nrxjtwhiem5nzqnicxzo248g52y72v3yujqpvqcssrofd99lkovg\"\n",
    "K= 480551547"
   ]
  },
  {
   "cell_type": "code",
   "execution_count": 22,
   "metadata": {},
   "outputs": [
    {
     "data": {
      "text/plain": [
       "'x'"
      ]
     },
     "execution_count": 22,
     "metadata": {},
     "output_type": "execute_result"
    }
   ],
   "source": [
    "decodeAtIndex(S, K)"
   ]
  },
  {
   "cell_type": "code",
   "execution_count": 21,
   "metadata": {},
   "outputs": [],
   "source": [
    "def decodeAtIndex(S, K):\n",
    "    N = 0\n",
    "    for i, c in enumerate(S):\n",
    "        N = N * int(c) if c.isdigit() else N + 1\n",
    "        if K <= N: break\n",
    "    for j in range(i, -1, -1):\n",
    "        c = S[j]\n",
    "        if c.isdigit():\n",
    "            N /= int(c)\n",
    "            K %= N\n",
    "        else:\n",
    "            if K == N or K == 0: return c\n",
    "            N -= 1"
   ]
  },
  {
   "cell_type": "raw",
   "metadata": {},
   "source": [
    "We decode the string and N keeps the length of decoded string, until N >= K.\n",
    "Then we go back from the decoding position.\n",
    "If it's S[i] = d is a digit, then N = N / d before repeat and K = K % N is what we want.\n",
    "If it's S[i] = c is a character, we return c if K == 0 or K == N\n",
    "\n",
    "\n",
    "Complexity\n",
    "Time O(N)\n",
    "Space O(1)"
   ]
  },
  {
   "cell_type": "markdown",
   "metadata": {},
   "source": [
    "Intuition\n",
    "\n",
    "If we have a decoded string like appleappleappleappleappleapple and an index like K = 24, the answer is the same if K = 4.\n",
    "\n",
    "In general, when a decoded string is equal to some word with size length repeated some number of times (such as apple with size = 5 repeated 6 times), the answer is the same for the index K as it is for the index K % size.\n",
    "\n",
    "We can use this insight by working backwards, keeping track of the size of the decoded string. Whenever the decoded string would equal some word repeated d times, we can reduce K to K % (word.length).\n",
    "\n",
    "Algorithm\n",
    "\n",
    "First, find the length of the decoded string. After, we'll work backwards, keeping track of size: the length of the decoded string after parsing symbols S[0], S[1], ..., S[i].\n",
    "\n",
    "If we see a digit S[i], it means the size of the decoded string after parsing S[0], S[1], ..., S[i-1] will be size / Integer(S[i]). Otherwise, it will be size - 1.\n",
    "\n"
   ]
  },
  {
   "cell_type": "code",
   "execution_count": 23,
   "metadata": {},
   "outputs": [],
   "source": [
    " def decodeAtIndex(S, K):\n",
    "        size = 0\n",
    "        # Find size = length of decoded string\n",
    "        for c in S:\n",
    "            if c.isdigit():\n",
    "                size *= int(c)\n",
    "            else:\n",
    "                size += 1\n",
    "\n",
    "        for c in reversed(S):\n",
    "            K %= size\n",
    "            if K == 0 and c.isalpha():\n",
    "                return c\n",
    "\n",
    "            if c.isdigit():\n",
    "                size /= int(c)\n",
    "            else:\n",
    "                size -= 1"
   ]
  },
  {
   "cell_type": "markdown",
   "metadata": {},
   "source": [
    "# 42. Trapping Rain Water\n"
   ]
  },
  {
   "cell_type": "markdown",
   "metadata": {},
   "source": [
    "Given n non-negative integers representing an elevation map where the width of each bar is 1, compute how much water it can trap after raining."
   ]
  },
  {
   "cell_type": "raw",
   "metadata": {},
   "source": [
    "Input: height = [0,1,0,2,1,0,1,3,2,1,2,1]\n",
    "Output: 6\n",
    "Explanation: The above elevation map (black section) is represented by array [0,1,0,2,1,0,1,3,2,1,2,1]. In this case, 6 units of rain water (blue section) are being trapped."
   ]
  },
  {
   "cell_type": "raw",
   "metadata": {},
   "source": [
    "Input: height = [4,2,0,3,2,5]\n",
    "Output: 9"
   ]
  },
  {
   "cell_type": "code",
   "execution_count": 1,
   "metadata": {},
   "outputs": [],
   "source": [
    "from typing import List"
   ]
  },
  {
   "cell_type": "code",
   "execution_count": 29,
   "metadata": {},
   "outputs": [],
   "source": [
    "def trap(height: List[int]) -> int:\n",
    "    length = len(height)\n",
    "    i = 0\n",
    "    j = 1\n",
    "    lwall = 0\n",
    "    rwall = 0\n",
    "    water = 0\n",
    "    while i<length and j< length:\n",
    "        lwall = max(height[i], lwall)\n",
    "        rwall = height[j]\n",
    "        print(f'i:{i},j:{j}, left:{lwall}, right:{rwall},water:{water}')\n",
    "\n",
    "        if rwall > lwall:\n",
    "            water += 1\n",
    "            i = j\n",
    "       \n",
    "        j+=1\n",
    "        "
   ]
  },
  {
   "cell_type": "code",
   "execution_count": 30,
   "metadata": {},
   "outputs": [],
   "source": [
    "height = [0,1,0,2,1,0,1,3,2,1,2,1]"
   ]
  },
  {
   "cell_type": "code",
   "execution_count": 31,
   "metadata": {},
   "outputs": [
    {
     "name": "stdout",
     "output_type": "stream",
     "text": [
      "i:0,j:1, left:0, right:1,water:0\n",
      "i:1,j:2, left:1, right:0,water:1\n",
      "i:1,j:3, left:1, right:2,water:1\n",
      "i:3,j:4, left:2, right:1,water:2\n",
      "i:3,j:5, left:2, right:0,water:2\n",
      "i:3,j:6, left:2, right:1,water:2\n",
      "i:3,j:7, left:2, right:3,water:2\n",
      "i:7,j:8, left:3, right:2,water:3\n",
      "i:7,j:9, left:3, right:1,water:3\n",
      "i:7,j:10, left:3, right:2,water:3\n",
      "i:7,j:11, left:3, right:1,water:3\n"
     ]
    }
   ],
   "source": [
    "trap(height)"
   ]
  },
  {
   "cell_type": "raw",
   "metadata": {},
   "source": [
    "Approach 4: Using 2 pointers\n",
    "Intuition\n",
    "\n",
    "As in Approach 2, instead of computing the left and right parts seperately, we may think of some way to do it in one iteration. From the figure in dynamic programming approach, notice that as long as \\text{right\\_max}[i]>\\text{left\\_max}[i]right_max[i]>left_max[i] (from element 0 to 6), the water trapped depends upon the left_max, and similar is the case when \\text{left\\_max}[i]>\\text{right\\_max}[i]left_max[i]>right_max[i] (from element 8 to 11). So, we can say that if there is a larger bar at one end (say right), we are assured that the water trapped would be dependant on height of bar in current direction (from left to right). As soon as we find the bar at other end (right) is smaller, we start iterating in opposite direction (from right to left). We must maintain \\text{left\\_max}left_max and \\text{right\\_max}right_max during the iteration, but now we can do it in one iteration using 2 pointers, switching between the two.\n",
    "\n",
    "Algorithm\n",
    "\n",
    "Initialize \\text{left}left pointer to 0 and \\text{right}right pointer to size-1\n",
    "While \\text{left}< \\text{right}left<right, do:\n",
    "If \\text{height[left]}height[left] is smaller than \\text{height[right]}height[right]\n",
    "If \\text{height[left]} \\geq \\text{left\\_max}height[left]≥left_max, update \\text{left\\_max}left_max\n",
    "Else add \\text{left\\_max}-\\text{height[left]}left_max−height[left] to \\text{ans}ans\n",
    "Add 1 to \\text{left}left.\n",
    "Else\n",
    "If \\text{height[right]} \\geq \\text{right\\_max}height[right]≥right_max, update \\text{right\\_max}right_max\n",
    "Else add \\text{right\\_max}-\\text{height[right]}right_max−height[right] to \\text{ans}ans\n",
    "Subtract 1 from \\text{right}right."
   ]
  },
  {
   "cell_type": "code",
   "execution_count": 33,
   "metadata": {},
   "outputs": [],
   "source": [
    "def trap(self, bars):\n",
    "    if not bars or len(bars) < 3:\n",
    "        return 0\n",
    "    volume = 0\n",
    "    left, right = 0, len(bars) - 1\n",
    "    l_max, r_max = bars[left], bars[right]\n",
    "    while left < right:\n",
    "        l_max, r_max = max(bars[left], l_max), max(bars[right], r_max)\n",
    "        if l_max <= r_max:\n",
    "            volume += l_max - bars[left]\n",
    "            left += 1\n",
    "        else:\n",
    "            volume += r_max - bars[right]\n",
    "            right -= 1\n",
    "    return volume"
   ]
  },
  {
   "cell_type": "markdown",
   "metadata": {},
   "source": [
    "## This question can be solved by brute force, DP, and stack, while 2pointers approach is the fastest ans saves the most space"
   ]
  },
  {
   "cell_type": "markdown",
   "metadata": {},
   "source": [
    "# 767. Reorganize String\n"
   ]
  },
  {
   "cell_type": "markdown",
   "metadata": {},
   "source": [
    "Given a string S, check if the letters can be rearranged so that two characters that are adjacent to each other are not the same.\n",
    "\n",
    "If possible, output any possible result.  If not possible, return the empty string."
   ]
  },
  {
   "cell_type": "code",
   "execution_count": 3,
   "metadata": {},
   "outputs": [],
   "source": [
    "S = \"aaaabbcc\"\n",
    "S2 = \"aaab\"\n",
    "S3 = \"aabbccdd\""
   ]
  },
  {
   "cell_type": "code",
   "execution_count": 5,
   "metadata": {},
   "outputs": [],
   "source": [
    "from collections import Counter\n",
    "import heapq"
   ]
  },
  {
   "cell_type": "code",
   "execution_count": 7,
   "metadata": {},
   "outputs": [],
   "source": [
    "def reorganizeString(S: str) -> str:\n",
    "    dic = {}\n",
    "    length = len(S)\n",
    "    for char in S:\n",
    "        if char in dic:\n",
    "            dic[char]+= 1\n",
    "        else:\n",
    "            dic[char] =1\n",
    "    srt_dic = {k: v for k, v in sorted(dic.items(), key=lambda item: item[1], reverse=True)}\n",
    "    srt_dic_lst = list(srt_dic.items())\n",
    "    most_freq = srt_dic_lst[0]\n",
    "    if most_freq[1] > length//2+1:\n",
    "        return \"\"\n",
    "    else:\n",
    "        result = []\n",
    "        j= 1\n",
    "        for i in range(most_freq[1]):\n",
    "            result.append(most_freq[0])\n",
    "            if j < len(srt_dic_lst):\n",
    "                curr_char = srt_dic_lst[j][0]\n",
    "                result[-1]+=curr_char\n",
    "                srt_dic[curr_char]-=1\n",
    "                if srt_dic[curr_char]==0:\n",
    "                    j+=1\n",
    "        final = \"\"\n",
    "        if j< len(srt_dic_lst):\n",
    "            for item in result:\n",
    "                for i in range(len(srt_dic_lst)-j):\n",
    "                    curr_char =srt_dic_lst[j+i][0]\n",
    "                    item+=curr_char\n",
    "                    srt_dic[curr_char]-=1\n",
    "                    if srt_dic[curr_char]==0:\n",
    "                        i+=1\n",
    "                final += item\n",
    "        print(result)\n",
    "        return final\n"
   ]
  },
  {
   "cell_type": "code",
   "execution_count": 8,
   "metadata": {},
   "outputs": [
    {
     "name": "stdout",
     "output_type": "stream",
     "text": [
      "['ab', 'ab']\n"
     ]
    },
    {
     "data": {
      "text/plain": [
       "'abcdabcd'"
      ]
     },
     "execution_count": 8,
     "metadata": {},
     "output_type": "execute_result"
    }
   ],
   "source": [
    "reorganizeString(S3)"
   ]
  },
  {
   "cell_type": "code",
   "execution_count": 50,
   "metadata": {},
   "outputs": [
    {
     "name": "stdout",
     "output_type": "stream",
     "text": [
      "Counter({'a': 4, 'b': 2, 'c': 2})\n",
      "heap:[(-4, 'a'), (-2, 'b'), (-2, 'c')]\n",
      "freq:-4, char:a\n",
      "result['a']\n",
      "[(-2, 'b'), (-2, 'c')]\n",
      "freq:-2, char:b\n",
      "result['a', 'b']\n",
      "[(-3, 'a'), (-2, 'c')]\n",
      "freq:-3, char:a\n",
      "result['a', 'b', 'a']\n",
      "[(-2, 'c'), (-1, 'b')]\n",
      "freq:-2, char:c\n",
      "result['a', 'b', 'a', 'c']\n",
      "[(-2, 'a'), (-1, 'b')]\n",
      "freq:-2, char:a\n",
      "result['a', 'b', 'a', 'c', 'a']\n",
      "[(-1, 'b'), (-1, 'c')]\n",
      "freq:-1, char:b\n",
      "result['a', 'b', 'a', 'c', 'a', 'b']\n",
      "[(-1, 'a'), (-1, 'c')]\n",
      "freq:-1, char:a\n",
      "result['a', 'b', 'a', 'c', 'a', 'b', 'a']\n",
      "[(-1, 'c')]\n",
      "freq:-1, char:c\n",
      "result['a', 'b', 'a', 'c', 'a', 'b', 'a', 'c']\n",
      "[]\n"
     ]
    },
    {
     "data": {
      "text/plain": [
       "'abacabac'"
      ]
     },
     "execution_count": 50,
     "metadata": {},
     "output_type": "execute_result"
    }
   ],
   "source": [
    "reorganizeString(S)"
   ]
  },
  {
   "cell_type": "code",
   "execution_count": 49,
   "metadata": {},
   "outputs": [],
   "source": [
    "def reorganizeString(S):\n",
    "        res, c = [], Counter(S)\n",
    "        print(c) # very weird initialization\n",
    "        pq = [(-value,key) for key,value in c.items()]\n",
    "        heapq.heapify(pq)\n",
    "        print(f'heap:{pq}')\n",
    "        p_freq, p_char = 0, ''\n",
    "        while pq:\n",
    "            freq, char = heapq.heappop(pq)\n",
    "            print(f'freq:{freq}, char:{char}')\n",
    "            res += [char]\n",
    "            print(f'result{res}')\n",
    "            if p_freq < 0:\n",
    "                heapq.heappush(pq, (p_freq, p_char))\n",
    "            print(pq)\n",
    "            freq += 1\n",
    "            p_freq, p_char = freq, char\n",
    "        res = ''.join(res)\n",
    "        if len(res) != len(S): return \"\"\n",
    "        return res"
   ]
  },
  {
   "cell_type": "markdown",
   "metadata": {},
   "source": [
    "#### reviewing heap "
   ]
  },
  {
   "cell_type": "raw",
   "metadata": {},
   "source": [
    "The idea is to build a max heap with freq. count\n",
    "a) At each step, we choose the element with highest freq (a, b) where b is the element, to append to result.\n",
    "b) Now that b is chosen. We cant choose b for the next loop. So we dont add b with decremented value count immediately into the heap. Rather we store it in prev_a, prev_b variables.\n",
    "c) Before we update our prev_a, prev_b variables as mentioned in step 2, we know that whatever prev_a, prev_b contains, has become eligible for next loop selection. so we add that back in the heap.\n",
    "\n",
    "In essence,\n",
    "\n",
    "at each step, we make the currently added one ineligible for next step, by not adding it to the heap\n",
    "at each step, we make the previously added one eligible for next step, by adding it back to the heap"
   ]
  },
  {
   "cell_type": "code",
   "execution_count": 72,
   "metadata": {},
   "outputs": [],
   "source": [
    "def reorganizeString(S):\n",
    "    N = len(S)\n",
    "    A = []\n",
    "    for c, x in sorted((S.count(x), x) for x in set(S)):\n",
    "        if c > (N+1)/2: return \"\"\n",
    "        A.extend(c * x)\n",
    "    print(A)\n",
    "    ans = [None] * N\n",
    "    print(ans)\n",
    "    print(A[N//2:])\n",
    "    print(A[:N//2])\n",
    "    ans[::2], ans[1::2] = A[N//2:], A[:N//2]\n",
    "    print(f'ans:{ans}')\n",
    "    print(ans[1::2])\n",
    "    return \"\".join(ans)"
   ]
  },
  {
   "cell_type": "code",
   "execution_count": 73,
   "metadata": {},
   "outputs": [
    {
     "name": "stdout",
     "output_type": "stream",
     "text": [
      "['b', 'b', 'c', 'c', 'a', 'a', 'a', 'a']\n",
      "[None, None, None, None, None, None, None, None]\n",
      "['a', 'a', 'a', 'a']\n",
      "['b', 'b', 'c', 'c']\n",
      "ans:['a', 'b', 'a', 'b', 'a', 'c', 'a', 'c']\n",
      "['b', 'b', 'c', 'c']\n"
     ]
    },
    {
     "data": {
      "text/plain": [
       "'ababacac'"
      ]
     },
     "execution_count": 73,
     "metadata": {},
     "output_type": "execute_result"
    }
   ],
   "source": [
    "reorganizeString(S)"
   ]
  },
  {
   "cell_type": "markdown",
   "metadata": {},
   "source": [
    "# 1748. Sum of Unique Elements\n"
   ]
  },
  {
   "cell_type": "code",
   "execution_count": 96,
   "metadata": {},
   "outputs": [],
   "source": [
    "from typing import List\n",
    "def sumOfUnique(nums: List[int]) -> int:\n",
    "    total = 0\n",
    "    for x in set(nums): \n",
    "        if nums.count(x)==1:\n",
    "            total+=x\n",
    "    return total"
   ]
  },
  {
   "cell_type": "code",
   "execution_count": 97,
   "metadata": {},
   "outputs": [],
   "source": [
    "nums = [1,1,1,1,1]\n",
    "nums = [1,2,3,2]"
   ]
  },
  {
   "cell_type": "code",
   "execution_count": 98,
   "metadata": {},
   "outputs": [
    {
     "data": {
      "text/plain": [
       "4"
      ]
     },
     "execution_count": 98,
     "metadata": {},
     "output_type": "execute_result"
    }
   ],
   "source": [
    "sumOfUnique(nums)"
   ]
  },
  {
   "cell_type": "markdown",
   "metadata": {},
   "source": [
    "# 200. Number of Islands\n"
   ]
  },
  {
   "cell_type": "markdown",
   "metadata": {},
   "source": [
    "\n",
    "Given an m x n 2D binary grid grid which represents a map of '1's (land) and '0's (water), return the number of islands.\n",
    "\n",
    "An island is surrounded by water and is formed by connecting adjacent lands horizontally or vertically. You may assume all four edges of the grid are all surrounded by water.\n",
    "\n"
   ]
  },
  {
   "cell_type": "code",
   "execution_count": 2,
   "metadata": {},
   "outputs": [],
   "source": [
    "grid = [\n",
    "  [\"1\",\"1\",\"1\",\"1\",\"0\"],\n",
    "  [\"1\",\"1\",\"0\",\"1\",\"0\"],\n",
    "  [\"1\",\"1\",\"0\",\"0\",\"0\"],\n",
    "  [\"0\",\"0\",\"0\",\"0\",\"0\"]\n",
    "]"
   ]
  },
  {
   "cell_type": "code",
   "execution_count": 52,
   "metadata": {},
   "outputs": [],
   "source": [
    "grid = [\n",
    "  [\"1\",\"1\",\"0\",\"0\",\"0\"],\n",
    "  [\"1\",\"1\",\"0\",\"0\",\"0\"],\n",
    "  [\"0\",\"0\",\"1\",\"0\",\"0\"],\n",
    "  [\"0\",\"0\",\"0\",\"1\",\"1\"]\n",
    "]"
   ]
  },
  {
   "cell_type": "code",
   "execution_count": 15,
   "metadata": {},
   "outputs": [
    {
     "name": "stdout",
     "output_type": "stream",
     "text": [
      "0\n",
      "0\n",
      "0\n",
      "1\n",
      "1\n",
      "5\n"
     ]
    }
   ],
   "source": [
    "print(grid[3][0])\n",
    "print(grid[3][1])\n",
    "print(grid[3][2])\n",
    "print(grid[3][3])\n",
    "print(grid[3][4])\n",
    "\n",
    "print(len(grid[0]))"
   ]
  },
  {
   "cell_type": "code",
   "execution_count": 53,
   "metadata": {},
   "outputs": [
    {
     "name": "stdout",
     "output_type": "stream",
     "text": [
      "[['1', '1', '0', '0', '0'], ['1', '1', '0', '0', '0'], ['0', '0', '1', '0', '0'], ['0', '0', '0', '1', '1']]\n"
     ]
    }
   ],
   "source": [
    "print(grid)"
   ]
  },
  {
   "cell_type": "code",
   "execution_count": 54,
   "metadata": {},
   "outputs": [],
   "source": [
    "from typing import List"
   ]
  },
  {
   "cell_type": "markdown",
   "metadata": {},
   "source": [
    "DFS solves the problem"
   ]
  },
  {
   "cell_type": "code",
   "execution_count": 55,
   "metadata": {},
   "outputs": [],
   "source": [
    "def numIslands(grid: List[List[str]]) -> int:\n",
    "    \n",
    "    def dfs(i,j, grid):\n",
    "        print(f'point: {i},{j}')\n",
    "        if i < 0 or j < 0 or i>= len(grid) or j>= len(grid[0]) or grid[i][j]!='1':\n",
    "            return\n",
    "        grid[i][j] = '2'\n",
    "        dfs(i,j+1, grid)\n",
    "        dfs(i,j-1, grid)\n",
    "        dfs(i+1,j, grid)\n",
    "        dfs(i-1,j, grid)\n",
    "    island = 0\n",
    "    if not grid:\n",
    "        return island\n",
    "\n",
    "    for i in range(len(grid)):\n",
    "        for j in range(len(grid[0])):\n",
    "            if grid[i][j] == '1':\n",
    "                dfs(i, j, grid)\n",
    "                island+=1\n",
    "                print(island)\n",
    "    return island"
   ]
  },
  {
   "cell_type": "code",
   "execution_count": 56,
   "metadata": {},
   "outputs": [
    {
     "name": "stdout",
     "output_type": "stream",
     "text": [
      "point: 0,0\n",
      "point: 0,1\n",
      "point: 0,2\n",
      "point: 0,0\n",
      "point: 1,1\n",
      "point: 1,2\n",
      "point: 1,0\n",
      "point: 1,1\n",
      "point: 1,-1\n",
      "point: 2,0\n",
      "point: 0,0\n",
      "point: 2,1\n",
      "point: 0,1\n",
      "point: -1,1\n",
      "point: 0,-1\n",
      "point: 1,0\n",
      "point: -1,0\n",
      "1\n",
      "point: 2,2\n",
      "point: 2,3\n",
      "point: 2,1\n",
      "point: 3,2\n",
      "point: 1,2\n",
      "2\n",
      "point: 3,3\n",
      "point: 3,4\n",
      "point: 3,5\n",
      "point: 3,3\n",
      "point: 4,4\n",
      "point: 2,4\n",
      "point: 3,2\n",
      "point: 4,3\n",
      "point: 2,3\n",
      "3\n"
     ]
    },
    {
     "data": {
      "text/plain": [
       "3"
      ]
     },
     "execution_count": 56,
     "metadata": {},
     "output_type": "execute_result"
    }
   ],
   "source": [
    "numIslands(grid)"
   ]
  },
  {
   "cell_type": "markdown",
   "metadata": {},
   "source": [
    "# 1254. Number of Closed Islands\n"
   ]
  },
  {
   "cell_type": "markdown",
   "metadata": {},
   "source": [
    "Given a 2D grid consists of 0s (land) and 1s (water).  An island is a maximal 4-directionally connected group of 0s and a closed island is an island totally (all left, top, right, bottom) surrounded by 1s.\n",
    "\n",
    "Return the number of closed islands.\n",
    "\n"
   ]
  },
  {
   "cell_type": "code",
   "execution_count": 57,
   "metadata": {},
   "outputs": [],
   "source": [
    "grid = [[1,1,1,1,1,1,1,0],[1,0,0,0,0,1,1,0],[1,0,1,0,1,1,1,0],[1,0,0,0,0,1,0,1],[1,1,1,1,1,1,1,0]]# return 2 Islands in gray are closed because they are completely surrounded by water (group of 1s).\n"
   ]
  },
  {
   "cell_type": "code",
   "execution_count": null,
   "metadata": {},
   "outputs": [],
   "source": [
    "grid = [[0,0,1,0,0],[0,1,0,1,0],[0,1,1,1,0]] # return 1"
   ]
  },
  {
   "cell_type": "code",
   "execution_count": 78,
   "metadata": {},
   "outputs": [],
   "source": [
    "grid = [[1,1,1,1,1,1,1],\n",
    "               [1,0,0,0,0,0,1],\n",
    "               [1,0,1,1,1,0,1],\n",
    "               [1,0,1,0,1,0,1],\n",
    "               [1,0,1,1,1,0,1],\n",
    "               [1,0,0,0,0,0,1],\n",
    "               [1,1,1,1,1,1,1]]# return 2"
   ]
  },
  {
   "cell_type": "code",
   "execution_count": 195,
   "metadata": {},
   "outputs": [],
   "source": [
    "grid = [[0,0,1,1,0,1,0,0,1,0],\n",
    "        [1,1,0,1,1,0,1,1,1,0],\n",
    "        [1,0,1,1,1,0,0,1,1,0],\n",
    "        [0,1,1,0,0,0,0,1,0,1],\n",
    "        [0,0,0,0,0,0,1,1,1,0],\n",
    "        [0,1,0,1,0,1,0,1,1,1],\n",
    "        [1,0,1,0,1,1,0,0,0,1],\n",
    "        [1,1,1,1,1,1,0,0,0,0],\n",
    "        [1,1,1,0,0,1,0,1,0,1],\n",
    "        [1,1,1,0,1,1,0,1,1,0]] # return 5"
   ]
  },
  {
   "cell_type": "code",
   "execution_count": 218,
   "metadata": {},
   "outputs": [],
   "source": [
    "grid = [[0,1,0,1,0,0,0,1,1,0,1,1,0,0,1,1,1,0,1,1],[0,1,1,0,0,0,0,1,1,1,0,1,0,1,1,0,0,1,0,1],[1,1,0,1,0,0,1,1,1,0,0,0,1,0,0,1,0,1,0,0],[0,1,1,1,0,0,0,0,0,0,1,1,1,0,0,0,1,1,1,0],[1,1,0,0,1,0,0,1,1,0,1,1,0,1,1,1,0,0,1,1],[1,1,0,0,0,0,0,1,0,1,1,1,0,1,0,0,0,0,0,1],[1,0,1,1,0,1,0,1,0,0,1,0,1,1,1,1,1,0,1,0],[1,0,0,1,1,0,0,1,0,1,0,0,0,0,0,0,0,0,0,1],[0,0,0,1,1,1,0,1,1,1,0,1,0,1,1,0,1,0,0,0],[1,1,0,0,0,0,1,1,0,0,0,1,0,0,1,0,1,0,1,1],[1,0,0,1,1,1,1,0,1,0,1,1,1,0,0,0,0,1,1,0],[1,1,0,0,0,0,0,0,1,1,1,1,0,1,0,1,0,1,1,1],[0,1,1,0,0,1,1,0,0,1,0,1,1,1,1,1,1,0,0,0],[1,0,0,0,1,1,0,1,1,1,0,0,1,0,1,1,0,1,0,1]]"
   ]
  },
  {
   "cell_type": "code",
   "execution_count": 219,
   "metadata": {},
   "outputs": [],
   "source": [
    "class Solution:\n",
    "    def closedIsland(self, grid: List[List[int]]) -> int:\n",
    "        m = len(grid)\n",
    "        n = len(grid[0])\n",
    "        def dfs(i,j):\n",
    "            print(f'point: {i},{j}')\n",
    "            if i in (0 , len(grid)-1) or j in ( 0,len(grid[0])-1):\n",
    "                self.isisland = False\n",
    "\n",
    "            for i, j in ((i+1, j), (i-1, j), (i, j+1), (i, j-1)):\n",
    "                if 0 <= i < len(grid) and 0 <= j < len(grid[0]) and grid[i][j] == 0:\n",
    "                    grid[i][j] = 2 \n",
    "                    dfs(i, j)\n",
    "\n",
    "        island = 0\n",
    "\n",
    "        for i in range(len(grid)):\n",
    "            for j in range(len(grid[0])):\n",
    "    #             print(i,j)\n",
    "                if grid[i][j] == 0:\n",
    "                    self.isisland = True\n",
    "                    dfs(i, j)\n",
    "                    island+=self.isisland\n",
    "                    print(island)\n",
    "        return island"
   ]
  },
  {
   "cell_type": "code",
   "execution_count": 220,
   "metadata": {},
   "outputs": [
    {
     "name": "stdout",
     "output_type": "stream",
     "text": [
      "point: 0,0\n",
      "point: 1,0\n",
      "point: 0,0\n",
      "0\n",
      "point: 0,2\n",
      "0\n",
      "point: 0,4\n",
      "point: 1,4\n",
      "point: 2,4\n",
      "point: 3,4\n",
      "point: 3,5\n",
      "point: 4,5\n",
      "point: 5,5\n",
      "point: 5,6\n",
      "point: 6,6\n",
      "point: 7,6\n",
      "point: 8,6\n",
      "point: 7,5\n",
      "point: 4,6\n",
      "point: 3,6\n",
      "point: 3,7\n",
      "point: 3,8\n",
      "point: 3,9\n",
      "point: 4,9\n",
      "point: 2,9\n",
      "point: 2,10\n",
      "point: 1,10\n",
      "point: 2,11\n",
      "point: 5,4\n",
      "point: 6,4\n",
      "point: 5,3\n",
      "point: 4,3\n",
      "point: 4,2\n",
      "point: 5,2\n",
      "point: 2,5\n",
      "point: 1,5\n",
      "point: 0,5\n",
      "point: 0,6\n",
      "point: 1,6\n",
      "point: 0,4\n",
      "point: 1,3\n",
      "0\n",
      "point: 0,9\n",
      "0\n",
      "point: 0,12\n",
      "point: 1,12\n",
      "point: 0,12\n",
      "point: 0,13\n",
      "0\n",
      "point: 0,17\n",
      "0\n",
      "point: 1,15\n",
      "point: 1,16\n",
      "point: 2,16\n",
      "point: 1,15\n",
      "1\n",
      "point: 1,18\n",
      "point: 2,18\n",
      "point: 1,18\n",
      "point: 2,19\n",
      "point: 3,19\n",
      "1\n",
      "point: 2,2\n",
      "2\n",
      "point: 2,13\n",
      "point: 3,13\n",
      "point: 2,13\n",
      "point: 2,14\n",
      "point: 3,14\n",
      "point: 3,15\n",
      "3\n",
      "point: 3,0\n",
      "3\n",
      "point: 4,12\n",
      "point: 5,12\n",
      "point: 4,12\n",
      "4\n",
      "point: 4,16\n",
      "point: 5,16\n",
      "point: 4,16\n",
      "point: 4,17\n",
      "point: 5,17\n",
      "point: 6,17\n",
      "point: 7,17\n",
      "point: 8,17\n",
      "point: 9,17\n",
      "point: 8,18\n",
      "point: 7,18\n",
      "point: 8,19\n",
      "point: 7,16\n",
      "point: 7,15\n",
      "point: 8,15\n",
      "point: 9,15\n",
      "point: 10,15\n",
      "point: 10,16\n",
      "point: 11,16\n",
      "point: 10,14\n",
      "point: 11,14\n",
      "point: 10,13\n",
      "point: 9,13\n",
      "point: 9,12\n",
      "point: 8,12\n",
      "point: 7,12\n",
      "point: 7,13\n",
      "point: 7,14\n",
      "point: 7,11\n",
      "point: 6,11\n",
      "point: 7,10\n",
      "point: 8,10\n",
      "point: 9,10\n",
      "point: 9,9\n",
      "point: 10,9\n",
      "point: 9,8\n",
      "point: 5,18\n",
      "point: 5,15\n",
      "point: 5,14\n",
      "4\n",
      "point: 5,8\n",
      "point: 6,8\n",
      "point: 7,8\n",
      "point: 5,8\n",
      "point: 6,9\n",
      "5\n",
      "point: 6,1\n",
      "point: 7,1\n",
      "point: 8,1\n",
      "point: 8,2\n",
      "point: 9,2\n",
      "point: 10,2\n",
      "point: 11,2\n",
      "point: 11,3\n",
      "point: 12,3\n",
      "point: 13,3\n",
      "point: 13,2\n",
      "point: 13,1\n",
      "point: 12,4\n",
      "point: 11,4\n",
      "point: 11,5\n",
      "point: 11,6\n",
      "point: 11,7\n",
      "point: 12,7\n",
      "point: 12,8\n",
      "point: 10,7\n",
      "point: 10,1\n",
      "point: 9,3\n",
      "point: 9,4\n",
      "point: 9,5\n",
      "point: 7,2\n",
      "point: 8,0\n",
      "point: 6,1\n",
      "5\n",
      "point: 6,19\n",
      "5\n",
      "point: 10,19\n",
      "5\n",
      "point: 11,12\n",
      "6\n",
      "point: 12,0\n",
      "6\n",
      "point: 12,10\n",
      "point: 13,10\n",
      "point: 12,10\n",
      "point: 13,11\n",
      "6\n",
      "point: 12,17\n",
      "point: 12,18\n",
      "point: 13,18\n",
      "point: 12,19\n",
      "point: 12,17\n",
      "6\n",
      "point: 13,6\n",
      "6\n",
      "point: 13,13\n",
      "6\n",
      "point: 13,16\n",
      "6\n"
     ]
    },
    {
     "data": {
      "text/plain": [
       "6"
      ]
     },
     "execution_count": 220,
     "metadata": {},
     "output_type": "execute_result"
    }
   ],
   "source": [
    "Sol = Solution()\n",
    "Sol.closedIsland(grid)"
   ]
  },
  {
   "cell_type": "code",
   "execution_count": 221,
   "metadata": {},
   "outputs": [],
   "source": [
    "class Solution:\n",
    "    def closedIsland(self, grid: List[List[int]]) -> int:\n",
    "        m, n = len(grid), len(grid[0])\n",
    "        res = 0\n",
    "        \n",
    "        def dfs(x, y):\n",
    "            if x in (0, m-1) or y in (0, n-1):\n",
    "                self.isIsland = False \n",
    "            for i, j in ((x+1, y), (x-1, y), (x, y+1), (x, y-1)):\n",
    "                if 0 <= i < m and 0 <= j < n and grid[i][j] == 0:\n",
    "                    grid[i][j] = -1 \n",
    "                    dfs(i, j)\n",
    "                    \n",
    "        for i in range(m):\n",
    "            for j in range(n):\n",
    "                if grid[i][j] == 0:\n",
    "                    self.isIsland = True\n",
    "                    dfs(i, j)\n",
    "                    res += self.isIsland\n",
    "                    \n",
    "        return res "
   ]
  },
  {
   "cell_type": "code",
   "execution_count": 198,
   "metadata": {},
   "outputs": [
    {
     "data": {
      "text/plain": [
       "6"
      ]
     },
     "execution_count": 198,
     "metadata": {},
     "output_type": "execute_result"
    }
   ],
   "source": [
    "Sol2 = Solution()\n",
    "Sol2.closedIsland(grid)"
   ]
  },
  {
   "cell_type": "code",
   "execution_count": null,
   "metadata": {},
   "outputs": [],
   "source": []
  }
 ],
 "metadata": {
  "kernelspec": {
   "display_name": "Python 3",
   "language": "python",
   "name": "python3"
  },
  "language_info": {
   "codemirror_mode": {
    "name": "ipython",
    "version": 3
   },
   "file_extension": ".py",
   "mimetype": "text/x-python",
   "name": "python",
   "nbconvert_exporter": "python",
   "pygments_lexer": "ipython3",
   "version": "3.7.3"
  }
 },
 "nbformat": 4,
 "nbformat_minor": 4
}
