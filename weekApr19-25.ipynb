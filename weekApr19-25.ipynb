{
 "cells": [
  {
   "cell_type": "markdown",
   "metadata": {},
   "source": [
    "# 394. Decode String\n"
   ]
  },
  {
   "cell_type": "markdown",
   "metadata": {},
   "source": [
    "Given an encoded string, return its decoded string.\n",
    "\n",
    "The encoding rule is: k[encoded_string], where the encoded_string inside the square brackets is being repeated exactly k times. Note that k is guaranteed to be a positive integer.\n",
    "\n",
    "You may assume that the input string is always valid; No extra white spaces, square brackets are well-formed, etc.\n",
    "\n",
    "Furthermore, you may assume that the original data does not contain any digits and that digits are only for those repeat numbers, k. For example, there won't be input like 3a or 2[4].\n",
    "\n",
    " "
   ]
  },
  {
   "cell_type": "code",
   "execution_count": 9,
   "metadata": {},
   "outputs": [],
   "source": [
    "def decodeString(s: str) -> str:\n",
    "    stack = [[1, \"\"]] #The score of the current frame\n",
    "\n",
    "    for ind, x in enumerate(s):\n",
    "        if x.isnumeric():\n",
    "            if s[ind-1].isnumeric():\n",
    "                stack[-1][0]+=x\n",
    "            else:\n",
    "                stack.append([x, \"\"])\n",
    "        elif x == '[':\n",
    "            continue\n",
    "        elif x == ']':\n",
    "            v = stack.pop()\n",
    "            stack[-1][1] += int(v[0]) * v[1]\n",
    "        else:\n",
    "            stack[-1][1] += x\n",
    "        # print(stack)\n",
    "    return stack.pop()[1]"
   ]
  },
  {
   "cell_type": "code",
   "execution_count": 13,
   "metadata": {},
   "outputs": [],
   "source": [
    "s = \"100[leet]\""
   ]
  },
  {
   "cell_type": "code",
   "execution_count": 11,
   "metadata": {},
   "outputs": [],
   "source": [
    "s = \"2[abc]3[cd]ef\""
   ]
  },
  {
   "cell_type": "code",
   "execution_count": 14,
   "metadata": {},
   "outputs": [
    {
     "data": {
      "text/plain": [
       "'leetleetleetleetleetleetleetleetleetleetleetleetleetleetleetleetleetleetleetleetleetleetleetleetleetleetleetleetleetleetleetleetleetleetleetleetleetleetleetleetleetleetleetleetleetleetleetleetleetleetleetleetleetleetleetleetleetleetleetleetleetleetleetleetleetleetleetleetleetleetleetleetleetleetleetleetleetleetleetleetleetleetleetleetleetleetleetleetleetleetleetleetleetleetleetleetleetleetleetleet'"
      ]
     },
     "execution_count": 14,
     "metadata": {},
     "output_type": "execute_result"
    }
   ],
   "source": [
    "decodeString(s)"
   ]
  },
  {
   "cell_type": "markdown",
   "metadata": {},
   "source": [
    "# 880. Decoded String at Index\n"
   ]
  },
  {
   "cell_type": "markdown",
   "metadata": {},
   "source": [
    "An encoded string S is given.  To find and write the decoded string to a tape, the encoded string is read one character at a time and the following steps are taken:\n",
    "\n",
    "If the character read is a letter, that letter is written onto the tape.\n",
    "If the character read is a digit (say d), the entire current tape is repeatedly written d-1 more times in total.\n",
    "Now for some encoded string S, and an index K, find and return the K-th letter (1 indexed) in the decoded string."
   ]
  },
  {
   "cell_type": "markdown",
   "metadata": {},
   "source": [
    "Input: S = \"leet2code3\", K = 10\n",
    "Output: \"o\"\n",
    "Explanation: \n",
    "The decoded string is \"leetleetcodeleetleetcodeleetleetcode\".\n",
    "The 10th letter in the string is \"o\"."
   ]
  },
  {
   "cell_type": "code",
   "execution_count": 18,
   "metadata": {},
   "outputs": [],
   "source": [
    "def decodeAtIndex(S: str, K: int) -> str:\n",
    "    tape = [[\"\",0]]\n",
    "    for ind, char in enumerate(S):\n",
    "        if char.isnumeric():\n",
    "                tape.append([char, tape[-1][1]*int(char)])\n",
    "        else:\n",
    "            if tape[-1][0].isnumeric():\n",
    "                tape.append([char,tape[-1][1]+1])\n",
    "            else:\n",
    "                tape[-1][0]+=char\n",
    "                tape[-1][1]+=1\n",
    "                if tape[-1][1] == K:\n",
    "                    return tape[-1][0][-1]\n",
    "        print(tape)\n",
    "        if tape[-1][1] >= K:\n",
    "            result = \"\"\n",
    "            for record in tape:\n",
    "                if record[0].isnumeric():\n",
    "                    result = result * int(record[0])\n",
    "                else:\n",
    "                    result += record[0]\n",
    "                # print(result)\n",
    "            return result[K-1]"
   ]
  },
  {
   "cell_type": "code",
   "execution_count": 19,
   "metadata": {},
   "outputs": [],
   "source": [
    "S=\"cpmxv8ewnfk3xxcilcmm68d2ygc88daomywc3imncfjgtwj8nrxjtwhiem5nzqnicxzo248g52y72v3yujqpvqcssrofd99lkovg\"\n",
    "K= 480551547"
   ]
  },
  {
   "cell_type": "code",
   "execution_count": 22,
   "metadata": {},
   "outputs": [
    {
     "data": {
      "text/plain": [
       "'x'"
      ]
     },
     "execution_count": 22,
     "metadata": {},
     "output_type": "execute_result"
    }
   ],
   "source": [
    "decodeAtIndex(S, K)"
   ]
  },
  {
   "cell_type": "code",
   "execution_count": 21,
   "metadata": {},
   "outputs": [],
   "source": [
    "def decodeAtIndex(S, K):\n",
    "    N = 0\n",
    "    for i, c in enumerate(S):\n",
    "        N = N * int(c) if c.isdigit() else N + 1\n",
    "        if K <= N: break\n",
    "    for j in range(i, -1, -1):\n",
    "        c = S[j]\n",
    "        if c.isdigit():\n",
    "            N /= int(c)\n",
    "            K %= N\n",
    "        else:\n",
    "            if K == N or K == 0: return c\n",
    "            N -= 1"
   ]
  },
  {
   "cell_type": "raw",
   "metadata": {},
   "source": [
    "We decode the string and N keeps the length of decoded string, until N >= K.\n",
    "Then we go back from the decoding position.\n",
    "If it's S[i] = d is a digit, then N = N / d before repeat and K = K % N is what we want.\n",
    "If it's S[i] = c is a character, we return c if K == 0 or K == N\n",
    "\n",
    "\n",
    "Complexity\n",
    "Time O(N)\n",
    "Space O(1)"
   ]
  },
  {
   "cell_type": "markdown",
   "metadata": {},
   "source": [
    "Intuition\n",
    "\n",
    "If we have a decoded string like appleappleappleappleappleapple and an index like K = 24, the answer is the same if K = 4.\n",
    "\n",
    "In general, when a decoded string is equal to some word with size length repeated some number of times (such as apple with size = 5 repeated 6 times), the answer is the same for the index K as it is for the index K % size.\n",
    "\n",
    "We can use this insight by working backwards, keeping track of the size of the decoded string. Whenever the decoded string would equal some word repeated d times, we can reduce K to K % (word.length).\n",
    "\n",
    "Algorithm\n",
    "\n",
    "First, find the length of the decoded string. After, we'll work backwards, keeping track of size: the length of the decoded string after parsing symbols S[0], S[1], ..., S[i].\n",
    "\n",
    "If we see a digit S[i], it means the size of the decoded string after parsing S[0], S[1], ..., S[i-1] will be size / Integer(S[i]). Otherwise, it will be size - 1.\n",
    "\n"
   ]
  },
  {
   "cell_type": "code",
   "execution_count": 23,
   "metadata": {},
   "outputs": [],
   "source": [
    " def decodeAtIndex(S, K):\n",
    "        size = 0\n",
    "        # Find size = length of decoded string\n",
    "        for c in S:\n",
    "            if c.isdigit():\n",
    "                size *= int(c)\n",
    "            else:\n",
    "                size += 1\n",
    "\n",
    "        for c in reversed(S):\n",
    "            K %= size\n",
    "            if K == 0 and c.isalpha():\n",
    "                return c\n",
    "\n",
    "            if c.isdigit():\n",
    "                size /= int(c)\n",
    "            else:\n",
    "                size -= 1"
   ]
  },
  {
   "cell_type": "code",
   "execution_count": null,
   "metadata": {},
   "outputs": [],
   "source": []
  }
 ],
 "metadata": {
  "kernelspec": {
   "display_name": "Python 3",
   "language": "python",
   "name": "python3"
  },
  "language_info": {
   "codemirror_mode": {
    "name": "ipython",
    "version": 3
   },
   "file_extension": ".py",
   "mimetype": "text/x-python",
   "name": "python",
   "nbconvert_exporter": "python",
   "pygments_lexer": "ipython3",
   "version": "3.8.5"
  }
 },
 "nbformat": 4,
 "nbformat_minor": 4
}
